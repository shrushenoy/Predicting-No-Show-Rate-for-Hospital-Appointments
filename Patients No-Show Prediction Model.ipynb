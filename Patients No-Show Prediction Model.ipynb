{
  "nbformat": 4,
  "nbformat_minor": 0,
  "metadata": {
    "colab": {
      "name": "Final_ML.ipynb",
      "provenance": [],
      "collapsed_sections": [],
      "authorship_tag": "ABX9TyMbXsVRwUeUEEB0rX+W/KTQ",
      "include_colab_link": true
    },
    "kernelspec": {
      "name": "python3",
      "display_name": "Python 3"
    }
  },
  "cells": [
    {
      "cell_type": "markdown",
      "metadata": {
        "id": "view-in-github",
        "colab_type": "text"
      },
      "source": [
        "<a href=\"https://colab.research.google.com/github/shrushenoy/Predicting-No-Show-Rate-for-Hospital-Appointments/blob/master/Patients%20No-Show%20Prediction%20Model.ipynb\" target=\"_parent\"><img src=\"https://colab.research.google.com/assets/colab-badge.svg\" alt=\"Open In Colab\"/></a>"
      ]
    },
    {
      "cell_type": "markdown",
      "metadata": {
        "id": "TedMcModjGIG",
        "colab_type": "text"
      },
      "source": [
        "# **Predicting No-Show Rate for Hospital Appointments**\n",
        "In healthcare, no-show for a scheduled appointment is one of the most significant factor that impacts the healthcare delivery services. In 2017, U.S. healthcare industry had loss of $150 billions. The no-show rate is as high as 30% in U.S, there are various factors leading to this number. A model to predict no-show accurately and to take necessary interventions can be implemented to reduce the impact on healthcare.\n",
        "\n",
        "\n"
      ]
    },
    {
      "cell_type": "markdown",
      "metadata": {
        "id": "yhZBCpASlJzc",
        "colab_type": "text"
      },
      "source": [
        "### Importing necessary packages"
      ]
    },
    {
      "cell_type": "code",
      "metadata": {
        "id": "XLhq4ZBpWZKy",
        "colab_type": "code",
        "colab": {
          "base_uri": "https://localhost:8080/",
          "height": 52
        },
        "outputId": "b3715dd9-2df4-4f5d-d1ab-cd2829660f1d"
      },
      "source": [
        "import pandas as pd\n",
        "import numpy as np\n",
        "import seaborn as sns\n",
        "import matplotlib.pyplot as plt\n",
        "from scipy import stats\n",
        "import time\n",
        "import datetime as dt\n",
        "sns.set_style(\"whitegrid\")\n",
        "from scipy.stats import chi2_contingency\n",
        "import seaborn as sns\n",
        "\n",
        "%matplotlib inline\n",
        "%config InlineBackend.figure_format = 'svg'"
      ],
      "execution_count": 1,
      "outputs": [
        {
          "output_type": "stream",
          "text": [
            "/usr/local/lib/python3.6/dist-packages/statsmodels/tools/_testing.py:19: FutureWarning: pandas.util.testing is deprecated. Use the functions in the public API at pandas.testing instead.\n",
            "  import pandas.util.testing as tm\n"
          ],
          "name": "stderr"
        }
      ]
    },
    {
      "cell_type": "code",
      "metadata": {
        "id": "clh8ItjEWfc1",
        "colab_type": "code",
        "outputId": "98deca43-e3cb-400b-c3f7-ba6ec557ddca",
        "colab": {
          "base_uri": "https://localhost:8080/",
          "height": 34
        }
      },
      "source": [
        "ls"
      ],
      "execution_count": 2,
      "outputs": [
        {
          "output_type": "stream",
          "text": [
            "\u001b[0m\u001b[01;34msample_data\u001b[0m/\n"
          ],
          "name": "stdout"
        }
      ]
    },
    {
      "cell_type": "markdown",
      "metadata": {
        "id": "5rEC_U21iSn2",
        "colab_type": "text"
      },
      "source": [
        "### Data Loading"
      ]
    },
    {
      "cell_type": "markdown",
      "metadata": {
        "id": "rd1XvCCZpXyB",
        "colab_type": "text"
      },
      "source": [
        "Data Load in Google Colab."
      ]
    },
    {
      "cell_type": "code",
      "metadata": {
        "id": "azcQhqqJWiyz",
        "colab_type": "code",
        "outputId": "04039203-c800-4fec-8e67-a54d3afd7fc7",
        "colab": {
          "base_uri": "https://localhost:8080/",
          "height": 124
        }
      },
      "source": [
        "from google.colab import drive\n",
        "drive.mount('/content/gdrive/')"
      ],
      "execution_count": 3,
      "outputs": [
        {
          "output_type": "stream",
          "text": [
            "Go to this URL in a browser: https://accounts.google.com/o/oauth2/auth?client_id=947318989803-6bn6qk8qdgf4n4g3pfee6491hc0brc4i.apps.googleusercontent.com&redirect_uri=urn%3aietf%3awg%3aoauth%3a2.0%3aoob&response_type=code&scope=email%20https%3a%2f%2fwww.googleapis.com%2fauth%2fdocs.test%20https%3a%2f%2fwww.googleapis.com%2fauth%2fdrive%20https%3a%2f%2fwww.googleapis.com%2fauth%2fdrive.photos.readonly%20https%3a%2f%2fwww.googleapis.com%2fauth%2fpeopleapi.readonly\n",
            "\n",
            "Enter your authorization code:\n",
            "··········\n",
            "Mounted at /content/gdrive/\n"
          ],
          "name": "stdout"
        }
      ]
    },
    {
      "cell_type": "code",
      "metadata": {
        "id": "vqWMGtveWpum",
        "colab_type": "code",
        "outputId": "4ad2db2f-3540-4992-9961-7bc739173f8c",
        "colab": {
          "base_uri": "https://localhost:8080/",
          "height": 34
        }
      },
      "source": [
        "cd /content/gdrive/My Drive/Courses/Spring 2020/ML/project/"
      ],
      "execution_count": 4,
      "outputs": [
        {
          "output_type": "stream",
          "text": [
            "/content/gdrive/My Drive/Courses/Spring 2020/ML/project\n"
          ],
          "name": "stdout"
        }
      ]
    },
    {
      "cell_type": "code",
      "metadata": {
        "id": "vXX4bCHgXM1v",
        "colab_type": "code",
        "outputId": "153d0eca-8b18-48d9-e57f-98caeb1e7dfc",
        "colab": {
          "base_uri": "https://localhost:8080/",
          "height": 254
        }
      },
      "source": [
        "df = pd.read_csv('noshow.csv')\n",
        "print('Dataset shape:', df.shape[0], '\\n\\n')\n",
        "df.head()"
      ],
      "execution_count": 77,
      "outputs": [
        {
          "output_type": "stream",
          "text": [
            "Dataset shape: 410526 \n",
            "\n",
            "\n"
          ],
          "name": "stdout"
        },
        {
          "output_type": "execute_result",
          "data": {
            "text/html": [
              "<div>\n",
              "<style scoped>\n",
              "    .dataframe tbody tr th:only-of-type {\n",
              "        vertical-align: middle;\n",
              "    }\n",
              "\n",
              "    .dataframe tbody tr th {\n",
              "        vertical-align: top;\n",
              "    }\n",
              "\n",
              "    .dataframe thead th {\n",
              "        text-align: right;\n",
              "    }\n",
              "</style>\n",
              "<table border=\"1\" class=\"dataframe\">\n",
              "  <thead>\n",
              "    <tr style=\"text-align: right;\">\n",
              "      <th></th>\n",
              "      <th>Age</th>\n",
              "      <th>Gender</th>\n",
              "      <th>AppointmentRegistration</th>\n",
              "      <th>ApointmentData</th>\n",
              "      <th>Day</th>\n",
              "      <th>Status</th>\n",
              "      <th>Diabetes</th>\n",
              "      <th>Alcoolism</th>\n",
              "      <th>HiperTension</th>\n",
              "      <th>Handcap</th>\n",
              "      <th>Scholarship</th>\n",
              "      <th>Sms_Reminder</th>\n",
              "    </tr>\n",
              "  </thead>\n",
              "  <tbody>\n",
              "    <tr>\n",
              "      <th>0</th>\n",
              "      <td>19</td>\n",
              "      <td>M</td>\n",
              "      <td>2014-12-16T14:46:25Z</td>\n",
              "      <td>2015-01-14T00:00:00Z</td>\n",
              "      <td>Tuesday</td>\n",
              "      <td>noshow</td>\n",
              "      <td>0</td>\n",
              "      <td>0</td>\n",
              "      <td>0</td>\n",
              "      <td>0</td>\n",
              "      <td>0</td>\n",
              "      <td>0</td>\n",
              "    </tr>\n",
              "    <tr>\n",
              "      <th>1</th>\n",
              "      <td>24</td>\n",
              "      <td>F</td>\n",
              "      <td>2015-08-18T07:01:26Z</td>\n",
              "      <td>2015-08-19T00:00:00Z</td>\n",
              "      <td>Tuesday</td>\n",
              "      <td>noshow</td>\n",
              "      <td>0</td>\n",
              "      <td>0</td>\n",
              "      <td>0</td>\n",
              "      <td>0</td>\n",
              "      <td>0</td>\n",
              "      <td>0</td>\n",
              "    </tr>\n",
              "    <tr>\n",
              "      <th>2</th>\n",
              "      <td>4</td>\n",
              "      <td>F</td>\n",
              "      <td>2014-02-17T12:53:46Z</td>\n",
              "      <td>2014-02-18T00:00:00Z</td>\n",
              "      <td>Monday</td>\n",
              "      <td>noshow</td>\n",
              "      <td>0</td>\n",
              "      <td>0</td>\n",
              "      <td>0</td>\n",
              "      <td>0</td>\n",
              "      <td>0</td>\n",
              "      <td>0</td>\n",
              "    </tr>\n",
              "    <tr>\n",
              "      <th>3</th>\n",
              "      <td>5</td>\n",
              "      <td>M</td>\n",
              "      <td>2014-07-23T17:02:11Z</td>\n",
              "      <td>2014-08-07T00:00:00Z</td>\n",
              "      <td>Wednesday</td>\n",
              "      <td>noshow</td>\n",
              "      <td>0</td>\n",
              "      <td>0</td>\n",
              "      <td>0</td>\n",
              "      <td>0</td>\n",
              "      <td>0</td>\n",
              "      <td>0</td>\n",
              "    </tr>\n",
              "    <tr>\n",
              "      <th>4</th>\n",
              "      <td>38</td>\n",
              "      <td>M</td>\n",
              "      <td>2015-10-21T15:20:09Z</td>\n",
              "      <td>2015-10-27T00:00:00Z</td>\n",
              "      <td>Wednesday</td>\n",
              "      <td>noshow</td>\n",
              "      <td>0</td>\n",
              "      <td>0</td>\n",
              "      <td>0</td>\n",
              "      <td>0</td>\n",
              "      <td>0</td>\n",
              "      <td>0</td>\n",
              "    </tr>\n",
              "  </tbody>\n",
              "</table>\n",
              "</div>"
            ],
            "text/plain": [
              "   Age Gender AppointmentRegistration  ... Handcap Scholarship Sms_Reminder\n",
              "0   19      M    2014-12-16T14:46:25Z  ...       0           0            0\n",
              "1   24      F    2015-08-18T07:01:26Z  ...       0           0            0\n",
              "2    4      F    2014-02-17T12:53:46Z  ...       0           0            0\n",
              "3    5      M    2014-07-23T17:02:11Z  ...       0           0            0\n",
              "4   38      M    2015-10-21T15:20:09Z  ...       0           0            0\n",
              "\n",
              "[5 rows x 12 columns]"
            ]
          },
          "metadata": {
            "tags": []
          },
          "execution_count": 77
        }
      ]
    },
    {
      "cell_type": "markdown",
      "metadata": {
        "id": "VVSTibu4pdCo",
        "colab_type": "text"
      },
      "source": [
        "Data Load in local drive"
      ]
    },
    {
      "cell_type": "code",
      "metadata": {
        "id": "mh9cIetdph_G",
        "colab_type": "code",
        "colab": {}
      },
      "source": [
        "#df = pd.read_csv('noshow.csv')\n",
        "#df.head()"
      ],
      "execution_count": 0,
      "outputs": []
    },
    {
      "cell_type": "markdown",
      "metadata": {
        "id": "Yr_icDD_iZyh",
        "colab_type": "text"
      },
      "source": [
        "### Data Cleaning & Exploration"
      ]
    },
    {
      "cell_type": "code",
      "metadata": {
        "id": "mxtV3D19X1NJ",
        "colab_type": "code",
        "outputId": "2eafd12e-8548-4103-ae7a-a35616536d35",
        "colab": {
          "base_uri": "https://localhost:8080/",
          "height": 202
        }
      },
      "source": [
        "#renaming column to make it easier \n",
        "new_col_name = ['age', 'gender','schedule_day','appointment_day','week_day', 'no_show',\n",
        "                'diabetes','alcoholism','hypertension','handicap', 'scholarship',\n",
        "                'sms_received']\n",
        "df.columns = new_col_name\n",
        "df.head()"
      ],
      "execution_count": 78,
      "outputs": [
        {
          "output_type": "execute_result",
          "data": {
            "text/html": [
              "<div>\n",
              "<style scoped>\n",
              "    .dataframe tbody tr th:only-of-type {\n",
              "        vertical-align: middle;\n",
              "    }\n",
              "\n",
              "    .dataframe tbody tr th {\n",
              "        vertical-align: top;\n",
              "    }\n",
              "\n",
              "    .dataframe thead th {\n",
              "        text-align: right;\n",
              "    }\n",
              "</style>\n",
              "<table border=\"1\" class=\"dataframe\">\n",
              "  <thead>\n",
              "    <tr style=\"text-align: right;\">\n",
              "      <th></th>\n",
              "      <th>age</th>\n",
              "      <th>gender</th>\n",
              "      <th>schedule_day</th>\n",
              "      <th>appointment_day</th>\n",
              "      <th>week_day</th>\n",
              "      <th>no_show</th>\n",
              "      <th>diabetes</th>\n",
              "      <th>alcoholism</th>\n",
              "      <th>hypertension</th>\n",
              "      <th>handicap</th>\n",
              "      <th>scholarship</th>\n",
              "      <th>sms_received</th>\n",
              "    </tr>\n",
              "  </thead>\n",
              "  <tbody>\n",
              "    <tr>\n",
              "      <th>0</th>\n",
              "      <td>19</td>\n",
              "      <td>M</td>\n",
              "      <td>2014-12-16T14:46:25Z</td>\n",
              "      <td>2015-01-14T00:00:00Z</td>\n",
              "      <td>Tuesday</td>\n",
              "      <td>noshow</td>\n",
              "      <td>0</td>\n",
              "      <td>0</td>\n",
              "      <td>0</td>\n",
              "      <td>0</td>\n",
              "      <td>0</td>\n",
              "      <td>0</td>\n",
              "    </tr>\n",
              "    <tr>\n",
              "      <th>1</th>\n",
              "      <td>24</td>\n",
              "      <td>F</td>\n",
              "      <td>2015-08-18T07:01:26Z</td>\n",
              "      <td>2015-08-19T00:00:00Z</td>\n",
              "      <td>Tuesday</td>\n",
              "      <td>noshow</td>\n",
              "      <td>0</td>\n",
              "      <td>0</td>\n",
              "      <td>0</td>\n",
              "      <td>0</td>\n",
              "      <td>0</td>\n",
              "      <td>0</td>\n",
              "    </tr>\n",
              "    <tr>\n",
              "      <th>2</th>\n",
              "      <td>4</td>\n",
              "      <td>F</td>\n",
              "      <td>2014-02-17T12:53:46Z</td>\n",
              "      <td>2014-02-18T00:00:00Z</td>\n",
              "      <td>Monday</td>\n",
              "      <td>noshow</td>\n",
              "      <td>0</td>\n",
              "      <td>0</td>\n",
              "      <td>0</td>\n",
              "      <td>0</td>\n",
              "      <td>0</td>\n",
              "      <td>0</td>\n",
              "    </tr>\n",
              "    <tr>\n",
              "      <th>3</th>\n",
              "      <td>5</td>\n",
              "      <td>M</td>\n",
              "      <td>2014-07-23T17:02:11Z</td>\n",
              "      <td>2014-08-07T00:00:00Z</td>\n",
              "      <td>Wednesday</td>\n",
              "      <td>noshow</td>\n",
              "      <td>0</td>\n",
              "      <td>0</td>\n",
              "      <td>0</td>\n",
              "      <td>0</td>\n",
              "      <td>0</td>\n",
              "      <td>0</td>\n",
              "    </tr>\n",
              "    <tr>\n",
              "      <th>4</th>\n",
              "      <td>38</td>\n",
              "      <td>M</td>\n",
              "      <td>2015-10-21T15:20:09Z</td>\n",
              "      <td>2015-10-27T00:00:00Z</td>\n",
              "      <td>Wednesday</td>\n",
              "      <td>noshow</td>\n",
              "      <td>0</td>\n",
              "      <td>0</td>\n",
              "      <td>0</td>\n",
              "      <td>0</td>\n",
              "      <td>0</td>\n",
              "      <td>0</td>\n",
              "    </tr>\n",
              "  </tbody>\n",
              "</table>\n",
              "</div>"
            ],
            "text/plain": [
              "   age gender          schedule_day  ... handicap scholarship sms_received\n",
              "0   19      M  2014-12-16T14:46:25Z  ...        0           0            0\n",
              "1   24      F  2015-08-18T07:01:26Z  ...        0           0            0\n",
              "2    4      F  2014-02-17T12:53:46Z  ...        0           0            0\n",
              "3    5      M  2014-07-23T17:02:11Z  ...        0           0            0\n",
              "4   38      M  2015-10-21T15:20:09Z  ...        0           0            0\n",
              "\n",
              "[5 rows x 12 columns]"
            ]
          },
          "metadata": {
            "tags": []
          },
          "execution_count": 78
        }
      ]
    },
    {
      "cell_type": "code",
      "metadata": {
        "id": "eJuu15SuSNF5",
        "colab_type": "code",
        "outputId": "9c5a2850-d1a9-40af-dfaa-5920821baf5c",
        "colab": {
          "base_uri": "https://localhost:8080/",
          "height": 242
        }
      },
      "source": [
        "df.dtypes"
      ],
      "execution_count": 8,
      "outputs": [
        {
          "output_type": "execute_result",
          "data": {
            "text/plain": [
              "age                 int64\n",
              "gender             object\n",
              "schedule_day       object\n",
              "appointment_day    object\n",
              "week_day           object\n",
              "no_show            object\n",
              "diabetes            int64\n",
              "alcoholism          int64\n",
              "hypertension        int64\n",
              "handicap            int64\n",
              "scholarship         int64\n",
              "sms_received        int64\n",
              "dtype: object"
            ]
          },
          "metadata": {
            "tags": []
          },
          "execution_count": 8
        }
      ]
    },
    {
      "cell_type": "code",
      "metadata": {
        "id": "dEHbDvaRX3HL",
        "colab_type": "code",
        "outputId": "9c0a6758-093b-41fa-8551-350392e59752",
        "colab": {
          "base_uri": "https://localhost:8080/",
          "height": 242
        }
      },
      "source": [
        "#checking for null values\n",
        "df.isnull().sum()"
      ],
      "execution_count": 9,
      "outputs": [
        {
          "output_type": "execute_result",
          "data": {
            "text/plain": [
              "age                0\n",
              "gender             0\n",
              "schedule_day       0\n",
              "appointment_day    0\n",
              "week_day           0\n",
              "no_show            0\n",
              "diabetes           0\n",
              "alcoholism         0\n",
              "hypertension       0\n",
              "handicap           0\n",
              "scholarship        0\n",
              "sms_received       0\n",
              "dtype: int64"
            ]
          },
          "metadata": {
            "tags": []
          },
          "execution_count": 9
        }
      ]
    },
    {
      "cell_type": "code",
      "metadata": {
        "id": "CxLKNBakX7Kt",
        "colab_type": "code",
        "outputId": "aa83305e-29f1-493e-877e-0aa4193dfda6",
        "colab": {
          "base_uri": "https://localhost:8080/",
          "height": 277
        }
      },
      "source": [
        "#creating a function to find unique values for each feature \n",
        "def data(df, limit=5):  \n",
        "    print(f\"Dataset Shape: {df.shape}\")\n",
        "    print('Unique values in feature: ')\n",
        "    print(df.nunique())\n",
        "        \n",
        "data(df)"
      ],
      "execution_count": 10,
      "outputs": [
        {
          "output_type": "stream",
          "text": [
            "Dataset Shape: (410526, 12)\n",
            "Unique values in feature: \n",
            "age                   110\n",
            "gender                  2\n",
            "schedule_day       398972\n",
            "appointment_day       561\n",
            "week_day                6\n",
            "no_show                 2\n",
            "diabetes                2\n",
            "alcoholism              2\n",
            "hypertension            2\n",
            "handicap                5\n",
            "scholarship             2\n",
            "sms_received            2\n",
            "dtype: int64\n"
          ],
          "name": "stdout"
        }
      ]
    },
    {
      "cell_type": "code",
      "metadata": {
        "id": "ah_xbA_2X5sK",
        "colab_type": "code",
        "colab": {}
      },
      "source": [
        "#sns.heatmap(df.isnull())\n"
      ],
      "execution_count": 0,
      "outputs": []
    },
    {
      "cell_type": "markdown",
      "metadata": {
        "id": "Tr2gamtTRNix",
        "colab_type": "text"
      },
      "source": [
        "**Initial Steps and Observations** \n",
        "\n",
        "1. There are 11 independent variable and 1 dependent variable (no_show)\n",
        "2. Renames column names for easier understanding. \n",
        "3. The dataset does not have any null values. \n",
        "4. The variable schedule_day and appointment_day should changed from object to datetime format. \n",
        "5. For appointment_day, there is no time mentioned which makes it difficult to analyze if appointment time has any relation with no-show. "
      ]
    },
    {
      "cell_type": "code",
      "metadata": {
        "id": "XpmymZnaYCVE",
        "colab_type": "code",
        "outputId": "a36f3083-5924-4186-b3d1-06899ac80dd3",
        "colab": {
          "base_uri": "https://localhost:8080/",
          "height": 294
        }
      },
      "source": [
        "#basic statistics \n",
        "df.describe()"
      ],
      "execution_count": 11,
      "outputs": [
        {
          "output_type": "execute_result",
          "data": {
            "text/html": [
              "<div>\n",
              "<style scoped>\n",
              "    .dataframe tbody tr th:only-of-type {\n",
              "        vertical-align: middle;\n",
              "    }\n",
              "\n",
              "    .dataframe tbody tr th {\n",
              "        vertical-align: top;\n",
              "    }\n",
              "\n",
              "    .dataframe thead th {\n",
              "        text-align: right;\n",
              "    }\n",
              "</style>\n",
              "<table border=\"1\" class=\"dataframe\">\n",
              "  <thead>\n",
              "    <tr style=\"text-align: right;\">\n",
              "      <th></th>\n",
              "      <th>age</th>\n",
              "      <th>diabetes</th>\n",
              "      <th>alcoholism</th>\n",
              "      <th>hypertension</th>\n",
              "      <th>handicap</th>\n",
              "      <th>scholarship</th>\n",
              "      <th>sms_received</th>\n",
              "    </tr>\n",
              "  </thead>\n",
              "  <tbody>\n",
              "    <tr>\n",
              "      <th>count</th>\n",
              "      <td>410526.000000</td>\n",
              "      <td>410526.000000</td>\n",
              "      <td>410526.000000</td>\n",
              "      <td>410526.000000</td>\n",
              "      <td>410526.000000</td>\n",
              "      <td>410526.000000</td>\n",
              "      <td>410526.000000</td>\n",
              "    </tr>\n",
              "    <tr>\n",
              "      <th>mean</th>\n",
              "      <td>37.614465</td>\n",
              "      <td>0.076324</td>\n",
              "      <td>0.026461</td>\n",
              "      <td>0.210871</td>\n",
              "      <td>0.020988</td>\n",
              "      <td>0.097268</td>\n",
              "      <td>0.478727</td>\n",
              "    </tr>\n",
              "    <tr>\n",
              "      <th>std</th>\n",
              "      <td>22.892679</td>\n",
              "      <td>0.265516</td>\n",
              "      <td>0.160502</td>\n",
              "      <td>0.407927</td>\n",
              "      <td>0.157466</td>\n",
              "      <td>0.296323</td>\n",
              "      <td>0.499548</td>\n",
              "    </tr>\n",
              "    <tr>\n",
              "      <th>min</th>\n",
              "      <td>-2.000000</td>\n",
              "      <td>0.000000</td>\n",
              "      <td>0.000000</td>\n",
              "      <td>0.000000</td>\n",
              "      <td>0.000000</td>\n",
              "      <td>0.000000</td>\n",
              "      <td>0.000000</td>\n",
              "    </tr>\n",
              "    <tr>\n",
              "      <th>25%</th>\n",
              "      <td>18.000000</td>\n",
              "      <td>0.000000</td>\n",
              "      <td>0.000000</td>\n",
              "      <td>0.000000</td>\n",
              "      <td>0.000000</td>\n",
              "      <td>0.000000</td>\n",
              "      <td>0.000000</td>\n",
              "    </tr>\n",
              "    <tr>\n",
              "      <th>50%</th>\n",
              "      <td>38.000000</td>\n",
              "      <td>0.000000</td>\n",
              "      <td>0.000000</td>\n",
              "      <td>0.000000</td>\n",
              "      <td>0.000000</td>\n",
              "      <td>0.000000</td>\n",
              "      <td>0.000000</td>\n",
              "    </tr>\n",
              "    <tr>\n",
              "      <th>75%</th>\n",
              "      <td>56.000000</td>\n",
              "      <td>0.000000</td>\n",
              "      <td>0.000000</td>\n",
              "      <td>0.000000</td>\n",
              "      <td>0.000000</td>\n",
              "      <td>0.000000</td>\n",
              "      <td>1.000000</td>\n",
              "    </tr>\n",
              "    <tr>\n",
              "      <th>max</th>\n",
              "      <td>115.000000</td>\n",
              "      <td>1.000000</td>\n",
              "      <td>1.000000</td>\n",
              "      <td>1.000000</td>\n",
              "      <td>4.000000</td>\n",
              "      <td>1.000000</td>\n",
              "      <td>1.000000</td>\n",
              "    </tr>\n",
              "  </tbody>\n",
              "</table>\n",
              "</div>"
            ],
            "text/plain": [
              "                 age       diabetes  ...    scholarship   sms_received\n",
              "count  410526.000000  410526.000000  ...  410526.000000  410526.000000\n",
              "mean       37.614465       0.076324  ...       0.097268       0.478727\n",
              "std        22.892679       0.265516  ...       0.296323       0.499548\n",
              "min        -2.000000       0.000000  ...       0.000000       0.000000\n",
              "25%        18.000000       0.000000  ...       0.000000       0.000000\n",
              "50%        38.000000       0.000000  ...       0.000000       0.000000\n",
              "75%        56.000000       0.000000  ...       0.000000       1.000000\n",
              "max       115.000000       1.000000  ...       1.000000       1.000000\n",
              "\n",
              "[8 rows x 7 columns]"
            ]
          },
          "metadata": {
            "tags": []
          },
          "execution_count": 11
        }
      ]
    },
    {
      "cell_type": "code",
      "metadata": {
        "id": "x5sZ30-YYEhc",
        "colab_type": "code",
        "outputId": "035dbc0e-3745-4a99-e790-9bd7d4209462",
        "colab": {
          "base_uri": "https://localhost:8080/",
          "height": 662
        }
      },
      "source": [
        "df.hist(figsize=(16,8));"
      ],
      "execution_count": 12,
      "outputs": [
        {
          "output_type": "display_data",
          "data": {
            "text/plain": [
              "<Figure size 1152x576 with 9 Axes>"
            ],
            "image/svg+xml": "<?xml version=\"1.0\" encoding=\"utf-8\" standalone=\"no\"?>\n<!DOCTYPE svg PUBLIC \"-//W3C//DTD SVG 1.1//EN\"\n  \"http://www.w3.org/Graphics/SVG/1.1/DTD/svg11.dtd\">\n<!-- Created with matplotlib (https://matplotlib.org/) -->\n<svg height=\"481.07625pt\" version=\"1.1\" viewBox=\"0 0 952.375 481.07625\" width=\"952.375pt\" xmlns=\"http://www.w3.org/2000/svg\" xmlns:xlink=\"http://www.w3.org/1999/xlink\">\n <defs>\n  <style type=\"text/css\">\n*{stroke-linecap:butt;stroke-linejoin:round;}\n  </style>\n </defs>\n <g id=\"figure_1\">\n  <g id=\"patch_1\">\n   <path d=\"M 0 481.07625 \nL 952.375 481.07625 \nL 952.375 0 \nL 0 0 \nz\n\" style=\"fill:none;\"/>\n  </g>\n  <g id=\"axes_1\">\n   <g id=\"patch_2\">\n    <path d=\"M 52.375 143.118125 \nL 300.375 143.118125 \nL 300.375 22.318125 \nL 52.375 22.318125 \nz\n\" style=\"fill:#ffffff;\"/>\n   </g>\n   <g id=\"matplotlib.axis_1\">\n    <g id=\"xtick_1\">\n     <g id=\"line2d_1\">\n      <path clip-path=\"url(#p4f3af2962a)\" d=\"M 67.501651 143.118125 \nL 67.501651 22.318125 \n\" style=\"fill:none;stroke:#cccccc;stroke-linecap:round;stroke-width:0.8;\"/>\n     </g>\n     <g id=\"text_1\">\n      <!-- 0 -->\n      <defs>\n       <path d=\"M 31.78125 66.40625 \nQ 24.171875 66.40625 20.328125 58.90625 \nQ 16.5 51.421875 16.5 36.375 \nQ 16.5 21.390625 20.328125 13.890625 \nQ 24.171875 6.390625 31.78125 6.390625 \nQ 39.453125 6.390625 43.28125 13.890625 \nQ 47.125 21.390625 47.125 36.375 \nQ 47.125 51.421875 43.28125 58.90625 \nQ 39.453125 66.40625 31.78125 66.40625 \nz\nM 31.78125 74.21875 \nQ 44.046875 74.21875 50.515625 64.515625 \nQ 56.984375 54.828125 56.984375 36.375 \nQ 56.984375 17.96875 50.515625 8.265625 \nQ 44.046875 -1.421875 31.78125 -1.421875 \nQ 19.53125 -1.421875 13.0625 8.265625 \nQ 6.59375 17.96875 6.59375 36.375 \nQ 6.59375 54.828125 13.0625 64.515625 \nQ 19.53125 74.21875 31.78125 74.21875 \nz\n\" id=\"DejaVuSans-48\"/>\n      </defs>\n      <g style=\"fill:#262626;\" transform=\"translate(64.320401 157.716562)scale(0.1 -0.1)\">\n       <use xlink:href=\"#DejaVuSans-48\"/>\n      </g>\n     </g>\n    </g>\n    <g id=\"xtick_2\">\n     <g id=\"line2d_2\">\n      <path clip-path=\"url(#p4f3af2962a)\" d=\"M 106.04089 143.118125 \nL 106.04089 22.318125 \n\" style=\"fill:none;stroke:#cccccc;stroke-linecap:round;stroke-width:0.8;\"/>\n     </g>\n     <g id=\"text_2\">\n      <!-- 20 -->\n      <defs>\n       <path d=\"M 19.1875 8.296875 \nL 53.609375 8.296875 \nL 53.609375 0 \nL 7.328125 0 \nL 7.328125 8.296875 \nQ 12.9375 14.109375 22.625 23.890625 \nQ 32.328125 33.6875 34.8125 36.53125 \nQ 39.546875 41.84375 41.421875 45.53125 \nQ 43.3125 49.21875 43.3125 52.78125 \nQ 43.3125 58.59375 39.234375 62.25 \nQ 35.15625 65.921875 28.609375 65.921875 \nQ 23.96875 65.921875 18.8125 64.3125 \nQ 13.671875 62.703125 7.8125 59.421875 \nL 7.8125 69.390625 \nQ 13.765625 71.78125 18.9375 73 \nQ 24.125 74.21875 28.421875 74.21875 \nQ 39.75 74.21875 46.484375 68.546875 \nQ 53.21875 62.890625 53.21875 53.421875 \nQ 53.21875 48.921875 51.53125 44.890625 \nQ 49.859375 40.875 45.40625 35.40625 \nQ 44.1875 33.984375 37.640625 27.21875 \nQ 31.109375 20.453125 19.1875 8.296875 \nz\n\" id=\"DejaVuSans-50\"/>\n      </defs>\n      <g style=\"fill:#262626;\" transform=\"translate(99.67839 157.716562)scale(0.1 -0.1)\">\n       <use xlink:href=\"#DejaVuSans-50\"/>\n       <use x=\"63.623047\" xlink:href=\"#DejaVuSans-48\"/>\n      </g>\n     </g>\n    </g>\n    <g id=\"xtick_3\">\n     <g id=\"line2d_3\">\n      <path clip-path=\"url(#p4f3af2962a)\" d=\"M 144.580128 143.118125 \nL 144.580128 22.318125 \n\" style=\"fill:none;stroke:#cccccc;stroke-linecap:round;stroke-width:0.8;\"/>\n     </g>\n     <g id=\"text_3\">\n      <!-- 40 -->\n      <defs>\n       <path d=\"M 37.796875 64.3125 \nL 12.890625 25.390625 \nL 37.796875 25.390625 \nz\nM 35.203125 72.90625 \nL 47.609375 72.90625 \nL 47.609375 25.390625 \nL 58.015625 25.390625 \nL 58.015625 17.1875 \nL 47.609375 17.1875 \nL 47.609375 0 \nL 37.796875 0 \nL 37.796875 17.1875 \nL 4.890625 17.1875 \nL 4.890625 26.703125 \nz\n\" id=\"DejaVuSans-52\"/>\n      </defs>\n      <g style=\"fill:#262626;\" transform=\"translate(138.217628 157.716562)scale(0.1 -0.1)\">\n       <use xlink:href=\"#DejaVuSans-52\"/>\n       <use x=\"63.623047\" xlink:href=\"#DejaVuSans-48\"/>\n      </g>\n     </g>\n    </g>\n    <g id=\"xtick_4\">\n     <g id=\"line2d_4\">\n      <path clip-path=\"url(#p4f3af2962a)\" d=\"M 183.119367 143.118125 \nL 183.119367 22.318125 \n\" style=\"fill:none;stroke:#cccccc;stroke-linecap:round;stroke-width:0.8;\"/>\n     </g>\n     <g id=\"text_4\">\n      <!-- 60 -->\n      <defs>\n       <path d=\"M 33.015625 40.375 \nQ 26.375 40.375 22.484375 35.828125 \nQ 18.609375 31.296875 18.609375 23.390625 \nQ 18.609375 15.53125 22.484375 10.953125 \nQ 26.375 6.390625 33.015625 6.390625 \nQ 39.65625 6.390625 43.53125 10.953125 \nQ 47.40625 15.53125 47.40625 23.390625 \nQ 47.40625 31.296875 43.53125 35.828125 \nQ 39.65625 40.375 33.015625 40.375 \nz\nM 52.59375 71.296875 \nL 52.59375 62.3125 \nQ 48.875 64.0625 45.09375 64.984375 \nQ 41.3125 65.921875 37.59375 65.921875 \nQ 27.828125 65.921875 22.671875 59.328125 \nQ 17.53125 52.734375 16.796875 39.40625 \nQ 19.671875 43.65625 24.015625 45.921875 \nQ 28.375 48.1875 33.59375 48.1875 \nQ 44.578125 48.1875 50.953125 41.515625 \nQ 57.328125 34.859375 57.328125 23.390625 \nQ 57.328125 12.15625 50.6875 5.359375 \nQ 44.046875 -1.421875 33.015625 -1.421875 \nQ 20.359375 -1.421875 13.671875 8.265625 \nQ 6.984375 17.96875 6.984375 36.375 \nQ 6.984375 53.65625 15.1875 63.9375 \nQ 23.390625 74.21875 37.203125 74.21875 \nQ 40.921875 74.21875 44.703125 73.484375 \nQ 48.484375 72.75 52.59375 71.296875 \nz\n\" id=\"DejaVuSans-54\"/>\n      </defs>\n      <g style=\"fill:#262626;\" transform=\"translate(176.756867 157.716562)scale(0.1 -0.1)\">\n       <use xlink:href=\"#DejaVuSans-54\"/>\n       <use x=\"63.623047\" xlink:href=\"#DejaVuSans-48\"/>\n      </g>\n     </g>\n    </g>\n    <g id=\"xtick_5\">\n     <g id=\"line2d_5\">\n      <path clip-path=\"url(#p4f3af2962a)\" d=\"M 221.658605 143.118125 \nL 221.658605 22.318125 \n\" style=\"fill:none;stroke:#cccccc;stroke-linecap:round;stroke-width:0.8;\"/>\n     </g>\n     <g id=\"text_5\">\n      <!-- 80 -->\n      <defs>\n       <path d=\"M 31.78125 34.625 \nQ 24.75 34.625 20.71875 30.859375 \nQ 16.703125 27.09375 16.703125 20.515625 \nQ 16.703125 13.921875 20.71875 10.15625 \nQ 24.75 6.390625 31.78125 6.390625 \nQ 38.8125 6.390625 42.859375 10.171875 \nQ 46.921875 13.96875 46.921875 20.515625 \nQ 46.921875 27.09375 42.890625 30.859375 \nQ 38.875 34.625 31.78125 34.625 \nz\nM 21.921875 38.8125 \nQ 15.578125 40.375 12.03125 44.71875 \nQ 8.5 49.078125 8.5 55.328125 \nQ 8.5 64.0625 14.71875 69.140625 \nQ 20.953125 74.21875 31.78125 74.21875 \nQ 42.671875 74.21875 48.875 69.140625 \nQ 55.078125 64.0625 55.078125 55.328125 \nQ 55.078125 49.078125 51.53125 44.71875 \nQ 48 40.375 41.703125 38.8125 \nQ 48.828125 37.15625 52.796875 32.3125 \nQ 56.78125 27.484375 56.78125 20.515625 \nQ 56.78125 9.90625 50.3125 4.234375 \nQ 43.84375 -1.421875 31.78125 -1.421875 \nQ 19.734375 -1.421875 13.25 4.234375 \nQ 6.78125 9.90625 6.78125 20.515625 \nQ 6.78125 27.484375 10.78125 32.3125 \nQ 14.796875 37.15625 21.921875 38.8125 \nz\nM 18.3125 54.390625 \nQ 18.3125 48.734375 21.84375 45.5625 \nQ 25.390625 42.390625 31.78125 42.390625 \nQ 38.140625 42.390625 41.71875 45.5625 \nQ 45.3125 48.734375 45.3125 54.390625 \nQ 45.3125 60.0625 41.71875 63.234375 \nQ 38.140625 66.40625 31.78125 66.40625 \nQ 25.390625 66.40625 21.84375 63.234375 \nQ 18.3125 60.0625 18.3125 54.390625 \nz\n\" id=\"DejaVuSans-56\"/>\n      </defs>\n      <g style=\"fill:#262626;\" transform=\"translate(215.296105 157.716562)scale(0.1 -0.1)\">\n       <use xlink:href=\"#DejaVuSans-56\"/>\n       <use x=\"63.623047\" xlink:href=\"#DejaVuSans-48\"/>\n      </g>\n     </g>\n    </g>\n    <g id=\"xtick_6\">\n     <g id=\"line2d_6\">\n      <path clip-path=\"url(#p4f3af2962a)\" d=\"M 260.197844 143.118125 \nL 260.197844 22.318125 \n\" style=\"fill:none;stroke:#cccccc;stroke-linecap:round;stroke-width:0.8;\"/>\n     </g>\n     <g id=\"text_6\">\n      <!-- 100 -->\n      <defs>\n       <path d=\"M 12.40625 8.296875 \nL 28.515625 8.296875 \nL 28.515625 63.921875 \nL 10.984375 60.40625 \nL 10.984375 69.390625 \nL 28.421875 72.90625 \nL 38.28125 72.90625 \nL 38.28125 8.296875 \nL 54.390625 8.296875 \nL 54.390625 0 \nL 12.40625 0 \nz\n\" id=\"DejaVuSans-49\"/>\n      </defs>\n      <g style=\"fill:#262626;\" transform=\"translate(250.654094 157.716562)scale(0.1 -0.1)\">\n       <use xlink:href=\"#DejaVuSans-49\"/>\n       <use x=\"63.623047\" xlink:href=\"#DejaVuSans-48\"/>\n       <use x=\"127.246094\" xlink:href=\"#DejaVuSans-48\"/>\n      </g>\n     </g>\n    </g>\n    <g id=\"xtick_7\">\n     <g id=\"line2d_7\">\n      <path clip-path=\"url(#p4f3af2962a)\" d=\"M 298.737082 143.118125 \nL 298.737082 22.318125 \n\" style=\"fill:none;stroke:#cccccc;stroke-linecap:round;stroke-width:0.8;\"/>\n     </g>\n     <g id=\"text_7\">\n      <!-- 120 -->\n      <g style=\"fill:#262626;\" transform=\"translate(289.193332 157.716562)scale(0.1 -0.1)\">\n       <use xlink:href=\"#DejaVuSans-49\"/>\n       <use x=\"63.623047\" xlink:href=\"#DejaVuSans-50\"/>\n       <use x=\"127.246094\" xlink:href=\"#DejaVuSans-48\"/>\n      </g>\n     </g>\n    </g>\n   </g>\n   <g id=\"matplotlib.axis_2\">\n    <g id=\"ytick_1\">\n     <g id=\"line2d_8\">\n      <path clip-path=\"url(#p4f3af2962a)\" d=\"M 52.375 143.118125 \nL 300.375 143.118125 \n\" style=\"fill:none;stroke:#cccccc;stroke-linecap:round;stroke-width:0.8;\"/>\n     </g>\n     <g id=\"text_8\">\n      <!-- 0 -->\n      <g style=\"fill:#262626;\" transform=\"translate(39.0125 146.917344)scale(0.1 -0.1)\">\n       <use xlink:href=\"#DejaVuSans-48\"/>\n      </g>\n     </g>\n    </g>\n    <g id=\"ytick_2\">\n     <g id=\"line2d_9\">\n      <path clip-path=\"url(#p4f3af2962a)\" d=\"M 52.375 111.215839 \nL 300.375 111.215839 \n\" style=\"fill:none;stroke:#cccccc;stroke-linecap:round;stroke-width:0.8;\"/>\n     </g>\n     <g id=\"text_9\">\n      <!-- 20000 -->\n      <g style=\"fill:#262626;\" transform=\"translate(13.5625 115.015058)scale(0.1 -0.1)\">\n       <use xlink:href=\"#DejaVuSans-50\"/>\n       <use x=\"63.623047\" xlink:href=\"#DejaVuSans-48\"/>\n       <use x=\"127.246094\" xlink:href=\"#DejaVuSans-48\"/>\n       <use x=\"190.869141\" xlink:href=\"#DejaVuSans-48\"/>\n       <use x=\"254.492188\" xlink:href=\"#DejaVuSans-48\"/>\n      </g>\n     </g>\n    </g>\n    <g id=\"ytick_3\">\n     <g id=\"line2d_10\">\n      <path clip-path=\"url(#p4f3af2962a)\" d=\"M 52.375 79.313553 \nL 300.375 79.313553 \n\" style=\"fill:none;stroke:#cccccc;stroke-linecap:round;stroke-width:0.8;\"/>\n     </g>\n     <g id=\"text_10\">\n      <!-- 40000 -->\n      <g style=\"fill:#262626;\" transform=\"translate(13.5625 83.112772)scale(0.1 -0.1)\">\n       <use xlink:href=\"#DejaVuSans-52\"/>\n       <use x=\"63.623047\" xlink:href=\"#DejaVuSans-48\"/>\n       <use x=\"127.246094\" xlink:href=\"#DejaVuSans-48\"/>\n       <use x=\"190.869141\" xlink:href=\"#DejaVuSans-48\"/>\n       <use x=\"254.492188\" xlink:href=\"#DejaVuSans-48\"/>\n      </g>\n     </g>\n    </g>\n    <g id=\"ytick_4\">\n     <g id=\"line2d_11\">\n      <path clip-path=\"url(#p4f3af2962a)\" d=\"M 52.375 47.411267 \nL 300.375 47.411267 \n\" style=\"fill:none;stroke:#cccccc;stroke-linecap:round;stroke-width:0.8;\"/>\n     </g>\n     <g id=\"text_11\">\n      <!-- 60000 -->\n      <g style=\"fill:#262626;\" transform=\"translate(13.5625 51.210486)scale(0.1 -0.1)\">\n       <use xlink:href=\"#DejaVuSans-54\"/>\n       <use x=\"63.623047\" xlink:href=\"#DejaVuSans-48\"/>\n       <use x=\"127.246094\" xlink:href=\"#DejaVuSans-48\"/>\n       <use x=\"190.869141\" xlink:href=\"#DejaVuSans-48\"/>\n       <use x=\"254.492188\" xlink:href=\"#DejaVuSans-48\"/>\n      </g>\n     </g>\n    </g>\n   </g>\n   <g id=\"patch_3\">\n    <path clip-path=\"url(#p4f3af2962a)\" d=\"M 63.647727 143.118125 \nL 86.193182 143.118125 \nL 86.193182 46.1926 \nL 63.647727 46.1926 \nz\n\" style=\"fill:#1f77b4;stroke:#ffffff;stroke-linejoin:miter;\"/>\n   </g>\n   <g id=\"patch_4\">\n    <path clip-path=\"url(#p4f3af2962a)\" d=\"M 86.193182 143.118125 \nL 108.738636 143.118125 \nL 108.738636 50.773768 \nL 86.193182 50.773768 \nz\n\" style=\"fill:#1f77b4;stroke:#ffffff;stroke-linejoin:miter;\"/>\n   </g>\n   <g id=\"patch_5\">\n    <path clip-path=\"url(#p4f3af2962a)\" d=\"M 108.738636 143.118125 \nL 131.284091 143.118125 \nL 131.284091 41.908123 \nL 108.738636 41.908123 \nz\n\" style=\"fill:#1f77b4;stroke:#ffffff;stroke-linejoin:miter;\"/>\n   </g>\n   <g id=\"patch_6\">\n    <path clip-path=\"url(#p4f3af2962a)\" d=\"M 131.284091 143.118125 \nL 153.829545 143.118125 \nL 153.829545 48.590056 \nL 131.284091 48.590056 \nz\n\" style=\"fill:#1f77b4;stroke:#ffffff;stroke-linejoin:miter;\"/>\n   </g>\n   <g id=\"patch_7\">\n    <path clip-path=\"url(#p4f3af2962a)\" d=\"M 153.829545 143.118125 \nL 176.375 143.118125 \nL 176.375 28.070506 \nL 153.829545 28.070506 \nz\n\" style=\"fill:#1f77b4;stroke:#ffffff;stroke-linejoin:miter;\"/>\n   </g>\n   <g id=\"patch_8\">\n    <path clip-path=\"url(#p4f3af2962a)\" d=\"M 176.375 143.118125 \nL 198.920455 143.118125 \nL 198.920455 49.709827 \nL 176.375 49.709827 \nz\n\" style=\"fill:#1f77b4;stroke:#ffffff;stroke-linejoin:miter;\"/>\n   </g>\n   <g id=\"patch_9\">\n    <path clip-path=\"url(#p4f3af2962a)\" d=\"M 198.920455 143.118125 \nL 221.465909 143.118125 \nL 221.465909 100.4217 \nL 198.920455 100.4217 \nz\n\" style=\"fill:#1f77b4;stroke:#ffffff;stroke-linejoin:miter;\"/>\n   </g>\n   <g id=\"patch_10\">\n    <path clip-path=\"url(#p4f3af2962a)\" d=\"M 221.465909 143.118125 \nL 244.011364 143.118125 \nL 244.011364 125.683526 \nL 221.465909 125.683526 \nz\n\" style=\"fill:#1f77b4;stroke:#ffffff;stroke-linejoin:miter;\"/>\n   </g>\n   <g id=\"patch_11\">\n    <path clip-path=\"url(#p4f3af2962a)\" d=\"M 244.011364 143.118125 \nL 266.556818 143.118125 \nL 266.556818 141.894672 \nL 244.011364 141.894672 \nz\n\" style=\"fill:#1f77b4;stroke:#ffffff;stroke-linejoin:miter;\"/>\n   </g>\n   <g id=\"patch_12\">\n    <path clip-path=\"url(#p4f3af2962a)\" d=\"M 266.556818 143.118125 \nL 289.102273 143.118125 \nL 289.102273 143.100579 \nL 266.556818 143.100579 \nz\n\" style=\"fill:#1f77b4;stroke:#ffffff;stroke-linejoin:miter;\"/>\n   </g>\n   <g id=\"patch_13\">\n    <path d=\"M 52.375 143.118125 \nL 52.375 22.318125 \n\" style=\"fill:none;stroke:#cccccc;stroke-linecap:square;stroke-linejoin:miter;stroke-width:0.8;\"/>\n   </g>\n   <g id=\"patch_14\">\n    <path d=\"M 300.375 143.118125 \nL 300.375 22.318125 \n\" style=\"fill:none;stroke:#cccccc;stroke-linecap:square;stroke-linejoin:miter;stroke-width:0.8;\"/>\n   </g>\n   <g id=\"patch_15\">\n    <path d=\"M 52.375 143.118125 \nL 300.375 143.118125 \n\" style=\"fill:none;stroke:#cccccc;stroke-linecap:square;stroke-linejoin:miter;stroke-width:0.8;\"/>\n   </g>\n   <g id=\"patch_16\">\n    <path d=\"M 52.375 22.318125 \nL 300.375 22.318125 \n\" style=\"fill:none;stroke:#cccccc;stroke-linecap:square;stroke-linejoin:miter;stroke-width:0.8;\"/>\n   </g>\n   <g id=\"text_12\">\n    <!-- age -->\n    <defs>\n     <path d=\"M 34.28125 27.484375 \nQ 23.390625 27.484375 19.1875 25 \nQ 14.984375 22.515625 14.984375 16.5 \nQ 14.984375 11.71875 18.140625 8.90625 \nQ 21.296875 6.109375 26.703125 6.109375 \nQ 34.1875 6.109375 38.703125 11.40625 \nQ 43.21875 16.703125 43.21875 25.484375 \nL 43.21875 27.484375 \nz\nM 52.203125 31.203125 \nL 52.203125 0 \nL 43.21875 0 \nL 43.21875 8.296875 \nQ 40.140625 3.328125 35.546875 0.953125 \nQ 30.953125 -1.421875 24.3125 -1.421875 \nQ 15.921875 -1.421875 10.953125 3.296875 \nQ 6 8.015625 6 15.921875 \nQ 6 25.140625 12.171875 29.828125 \nQ 18.359375 34.515625 30.609375 34.515625 \nL 43.21875 34.515625 \nL 43.21875 35.40625 \nQ 43.21875 41.609375 39.140625 45 \nQ 35.0625 48.390625 27.6875 48.390625 \nQ 23 48.390625 18.546875 47.265625 \nQ 14.109375 46.140625 10.015625 43.890625 \nL 10.015625 52.203125 \nQ 14.9375 54.109375 19.578125 55.046875 \nQ 24.21875 56 28.609375 56 \nQ 40.484375 56 46.34375 49.84375 \nQ 52.203125 43.703125 52.203125 31.203125 \nz\n\" id=\"DejaVuSans-97\"/>\n     <path d=\"M 45.40625 27.984375 \nQ 45.40625 37.75 41.375 43.109375 \nQ 37.359375 48.484375 30.078125 48.484375 \nQ 22.859375 48.484375 18.828125 43.109375 \nQ 14.796875 37.75 14.796875 27.984375 \nQ 14.796875 18.265625 18.828125 12.890625 \nQ 22.859375 7.515625 30.078125 7.515625 \nQ 37.359375 7.515625 41.375 12.890625 \nQ 45.40625 18.265625 45.40625 27.984375 \nz\nM 54.390625 6.78125 \nQ 54.390625 -7.171875 48.1875 -13.984375 \nQ 42 -20.796875 29.203125 -20.796875 \nQ 24.46875 -20.796875 20.265625 -20.09375 \nQ 16.0625 -19.390625 12.109375 -17.921875 \nL 12.109375 -9.1875 \nQ 16.0625 -11.328125 19.921875 -12.34375 \nQ 23.78125 -13.375 27.78125 -13.375 \nQ 36.625 -13.375 41.015625 -8.765625 \nQ 45.40625 -4.15625 45.40625 5.171875 \nL 45.40625 9.625 \nQ 42.625 4.78125 38.28125 2.390625 \nQ 33.9375 0 27.875 0 \nQ 17.828125 0 11.671875 7.65625 \nQ 5.515625 15.328125 5.515625 27.984375 \nQ 5.515625 40.671875 11.671875 48.328125 \nQ 17.828125 56 27.875 56 \nQ 33.9375 56 38.28125 53.609375 \nQ 42.625 51.21875 45.40625 46.390625 \nL 45.40625 54.6875 \nL 54.390625 54.6875 \nz\n\" id=\"DejaVuSans-103\"/>\n     <path d=\"M 56.203125 29.59375 \nL 56.203125 25.203125 \nL 14.890625 25.203125 \nQ 15.484375 15.921875 20.484375 11.0625 \nQ 25.484375 6.203125 34.421875 6.203125 \nQ 39.59375 6.203125 44.453125 7.46875 \nQ 49.3125 8.734375 54.109375 11.28125 \nL 54.109375 2.78125 \nQ 49.265625 0.734375 44.1875 -0.34375 \nQ 39.109375 -1.421875 33.890625 -1.421875 \nQ 20.796875 -1.421875 13.15625 6.1875 \nQ 5.515625 13.8125 5.515625 26.8125 \nQ 5.515625 40.234375 12.765625 48.109375 \nQ 20.015625 56 32.328125 56 \nQ 43.359375 56 49.78125 48.890625 \nQ 56.203125 41.796875 56.203125 29.59375 \nz\nM 47.21875 32.234375 \nQ 47.125 39.59375 43.09375 43.984375 \nQ 39.0625 48.390625 32.421875 48.390625 \nQ 24.90625 48.390625 20.390625 44.140625 \nQ 15.875 39.890625 15.1875 32.171875 \nz\n\" id=\"DejaVuSans-101\"/>\n    </defs>\n    <g style=\"fill:#262626;\" transform=\"translate(165.197188 16.318125)scale(0.12 -0.12)\">\n     <use xlink:href=\"#DejaVuSans-97\"/>\n     <use x=\"61.279297\" xlink:href=\"#DejaVuSans-103\"/>\n     <use x=\"124.755859\" xlink:href=\"#DejaVuSans-101\"/>\n    </g>\n   </g>\n  </g>\n  <g id=\"axes_2\">\n   <g id=\"patch_17\">\n    <path d=\"M 374.775 143.118125 \nL 622.775 143.118125 \nL 622.775 22.318125 \nL 374.775 22.318125 \nz\n\" style=\"fill:#ffffff;\"/>\n   </g>\n   <g id=\"matplotlib.axis_3\">\n    <g id=\"xtick_8\">\n     <g id=\"line2d_12\">\n      <path clip-path=\"url(#pc17b126ee4)\" d=\"M 386.047727 143.118125 \nL 386.047727 22.318125 \n\" style=\"fill:none;stroke:#cccccc;stroke-linecap:round;stroke-width:0.8;\"/>\n     </g>\n     <g id=\"text_13\">\n      <!-- 0.0 -->\n      <defs>\n       <path d=\"M 10.6875 12.40625 \nL 21 12.40625 \nL 21 0 \nL 10.6875 0 \nz\n\" id=\"DejaVuSans-46\"/>\n      </defs>\n      <g style=\"fill:#262626;\" transform=\"translate(378.096165 157.716562)scale(0.1 -0.1)\">\n       <use xlink:href=\"#DejaVuSans-48\"/>\n       <use x=\"63.623047\" xlink:href=\"#DejaVuSans-46\"/>\n       <use x=\"95.410156\" xlink:href=\"#DejaVuSans-48\"/>\n      </g>\n     </g>\n    </g>\n    <g id=\"xtick_9\">\n     <g id=\"line2d_13\">\n      <path clip-path=\"url(#pc17b126ee4)\" d=\"M 431.138636 143.118125 \nL 431.138636 22.318125 \n\" style=\"fill:none;stroke:#cccccc;stroke-linecap:round;stroke-width:0.8;\"/>\n     </g>\n     <g id=\"text_14\">\n      <!-- 0.2 -->\n      <g style=\"fill:#262626;\" transform=\"translate(423.187074 157.716562)scale(0.1 -0.1)\">\n       <use xlink:href=\"#DejaVuSans-48\"/>\n       <use x=\"63.623047\" xlink:href=\"#DejaVuSans-46\"/>\n       <use x=\"95.410156\" xlink:href=\"#DejaVuSans-50\"/>\n      </g>\n     </g>\n    </g>\n    <g id=\"xtick_10\">\n     <g id=\"line2d_14\">\n      <path clip-path=\"url(#pc17b126ee4)\" d=\"M 476.229545 143.118125 \nL 476.229545 22.318125 \n\" style=\"fill:none;stroke:#cccccc;stroke-linecap:round;stroke-width:0.8;\"/>\n     </g>\n     <g id=\"text_15\">\n      <!-- 0.4 -->\n      <g style=\"fill:#262626;\" transform=\"translate(468.277983 157.716562)scale(0.1 -0.1)\">\n       <use xlink:href=\"#DejaVuSans-48\"/>\n       <use x=\"63.623047\" xlink:href=\"#DejaVuSans-46\"/>\n       <use x=\"95.410156\" xlink:href=\"#DejaVuSans-52\"/>\n      </g>\n     </g>\n    </g>\n    <g id=\"xtick_11\">\n     <g id=\"line2d_15\">\n      <path clip-path=\"url(#pc17b126ee4)\" d=\"M 521.320455 143.118125 \nL 521.320455 22.318125 \n\" style=\"fill:none;stroke:#cccccc;stroke-linecap:round;stroke-width:0.8;\"/>\n     </g>\n     <g id=\"text_16\">\n      <!-- 0.6 -->\n      <g style=\"fill:#262626;\" transform=\"translate(513.368892 157.716562)scale(0.1 -0.1)\">\n       <use xlink:href=\"#DejaVuSans-48\"/>\n       <use x=\"63.623047\" xlink:href=\"#DejaVuSans-46\"/>\n       <use x=\"95.410156\" xlink:href=\"#DejaVuSans-54\"/>\n      </g>\n     </g>\n    </g>\n    <g id=\"xtick_12\">\n     <g id=\"line2d_16\">\n      <path clip-path=\"url(#pc17b126ee4)\" d=\"M 566.411364 143.118125 \nL 566.411364 22.318125 \n\" style=\"fill:none;stroke:#cccccc;stroke-linecap:round;stroke-width:0.8;\"/>\n     </g>\n     <g id=\"text_17\">\n      <!-- 0.8 -->\n      <g style=\"fill:#262626;\" transform=\"translate(558.459801 157.716562)scale(0.1 -0.1)\">\n       <use xlink:href=\"#DejaVuSans-48\"/>\n       <use x=\"63.623047\" xlink:href=\"#DejaVuSans-46\"/>\n       <use x=\"95.410156\" xlink:href=\"#DejaVuSans-56\"/>\n      </g>\n     </g>\n    </g>\n    <g id=\"xtick_13\">\n     <g id=\"line2d_17\">\n      <path clip-path=\"url(#pc17b126ee4)\" d=\"M 611.502273 143.118125 \nL 611.502273 22.318125 \n\" style=\"fill:none;stroke:#cccccc;stroke-linecap:round;stroke-width:0.8;\"/>\n     </g>\n     <g id=\"text_18\">\n      <!-- 1.0 -->\n      <g style=\"fill:#262626;\" transform=\"translate(603.55071 157.716562)scale(0.1 -0.1)\">\n       <use xlink:href=\"#DejaVuSans-49\"/>\n       <use x=\"63.623047\" xlink:href=\"#DejaVuSans-46\"/>\n       <use x=\"95.410156\" xlink:href=\"#DejaVuSans-48\"/>\n      </g>\n     </g>\n    </g>\n   </g>\n   <g id=\"matplotlib.axis_4\">\n    <g id=\"ytick_5\">\n     <g id=\"line2d_18\">\n      <path clip-path=\"url(#pc17b126ee4)\" d=\"M 374.775 143.118125 \nL 622.775 143.118125 \n\" style=\"fill:none;stroke:#cccccc;stroke-linecap:round;stroke-width:0.8;\"/>\n     </g>\n     <g id=\"text_19\">\n      <!-- 0 -->\n      <g style=\"fill:#262626;\" transform=\"translate(361.4125 146.917344)scale(0.1 -0.1)\">\n       <use xlink:href=\"#DejaVuSans-48\"/>\n      </g>\n     </g>\n    </g>\n    <g id=\"ytick_6\">\n     <g id=\"line2d_19\">\n      <path clip-path=\"url(#pc17b126ee4)\" d=\"M 374.775 114.331968 \nL 622.775 114.331968 \n\" style=\"fill:none;stroke:#cccccc;stroke-linecap:round;stroke-width:0.8;\"/>\n     </g>\n     <g id=\"text_20\">\n      <!-- 100000 -->\n      <g style=\"fill:#262626;\" transform=\"translate(329.6 118.131187)scale(0.1 -0.1)\">\n       <use xlink:href=\"#DejaVuSans-49\"/>\n       <use x=\"63.623047\" xlink:href=\"#DejaVuSans-48\"/>\n       <use x=\"127.246094\" xlink:href=\"#DejaVuSans-48\"/>\n       <use x=\"190.869141\" xlink:href=\"#DejaVuSans-48\"/>\n       <use x=\"254.492188\" xlink:href=\"#DejaVuSans-48\"/>\n       <use x=\"318.115234\" xlink:href=\"#DejaVuSans-48\"/>\n      </g>\n     </g>\n    </g>\n    <g id=\"ytick_7\">\n     <g id=\"line2d_20\">\n      <path clip-path=\"url(#pc17b126ee4)\" d=\"M 374.775 85.545811 \nL 622.775 85.545811 \n\" style=\"fill:none;stroke:#cccccc;stroke-linecap:round;stroke-width:0.8;\"/>\n     </g>\n     <g id=\"text_21\">\n      <!-- 200000 -->\n      <g style=\"fill:#262626;\" transform=\"translate(329.6 89.34503)scale(0.1 -0.1)\">\n       <use xlink:href=\"#DejaVuSans-50\"/>\n       <use x=\"63.623047\" xlink:href=\"#DejaVuSans-48\"/>\n       <use x=\"127.246094\" xlink:href=\"#DejaVuSans-48\"/>\n       <use x=\"190.869141\" xlink:href=\"#DejaVuSans-48\"/>\n       <use x=\"254.492188\" xlink:href=\"#DejaVuSans-48\"/>\n       <use x=\"318.115234\" xlink:href=\"#DejaVuSans-48\"/>\n      </g>\n     </g>\n    </g>\n    <g id=\"ytick_8\">\n     <g id=\"line2d_21\">\n      <path clip-path=\"url(#pc17b126ee4)\" d=\"M 374.775 56.759654 \nL 622.775 56.759654 \n\" style=\"fill:none;stroke:#cccccc;stroke-linecap:round;stroke-width:0.8;\"/>\n     </g>\n     <g id=\"text_22\">\n      <!-- 300000 -->\n      <defs>\n       <path d=\"M 40.578125 39.3125 \nQ 47.65625 37.796875 51.625 33 \nQ 55.609375 28.21875 55.609375 21.1875 \nQ 55.609375 10.40625 48.1875 4.484375 \nQ 40.765625 -1.421875 27.09375 -1.421875 \nQ 22.515625 -1.421875 17.65625 -0.515625 \nQ 12.796875 0.390625 7.625 2.203125 \nL 7.625 11.71875 \nQ 11.71875 9.328125 16.59375 8.109375 \nQ 21.484375 6.890625 26.8125 6.890625 \nQ 36.078125 6.890625 40.9375 10.546875 \nQ 45.796875 14.203125 45.796875 21.1875 \nQ 45.796875 27.640625 41.28125 31.265625 \nQ 36.765625 34.90625 28.71875 34.90625 \nL 20.21875 34.90625 \nL 20.21875 43.015625 \nL 29.109375 43.015625 \nQ 36.375 43.015625 40.234375 45.921875 \nQ 44.09375 48.828125 44.09375 54.296875 \nQ 44.09375 59.90625 40.109375 62.90625 \nQ 36.140625 65.921875 28.71875 65.921875 \nQ 24.65625 65.921875 20.015625 65.03125 \nQ 15.375 64.15625 9.8125 62.3125 \nL 9.8125 71.09375 \nQ 15.4375 72.65625 20.34375 73.4375 \nQ 25.25 74.21875 29.59375 74.21875 \nQ 40.828125 74.21875 47.359375 69.109375 \nQ 53.90625 64.015625 53.90625 55.328125 \nQ 53.90625 49.265625 50.4375 45.09375 \nQ 46.96875 40.921875 40.578125 39.3125 \nz\n\" id=\"DejaVuSans-51\"/>\n      </defs>\n      <g style=\"fill:#262626;\" transform=\"translate(329.6 60.558872)scale(0.1 -0.1)\">\n       <use xlink:href=\"#DejaVuSans-51\"/>\n       <use x=\"63.623047\" xlink:href=\"#DejaVuSans-48\"/>\n       <use x=\"127.246094\" xlink:href=\"#DejaVuSans-48\"/>\n       <use x=\"190.869141\" xlink:href=\"#DejaVuSans-48\"/>\n       <use x=\"254.492188\" xlink:href=\"#DejaVuSans-48\"/>\n       <use x=\"318.115234\" xlink:href=\"#DejaVuSans-48\"/>\n      </g>\n     </g>\n    </g>\n    <g id=\"ytick_9\">\n     <g id=\"line2d_22\">\n      <path clip-path=\"url(#pc17b126ee4)\" d=\"M 374.775 27.973497 \nL 622.775 27.973497 \n\" style=\"fill:none;stroke:#cccccc;stroke-linecap:round;stroke-width:0.8;\"/>\n     </g>\n     <g id=\"text_23\">\n      <!-- 400000 -->\n      <g style=\"fill:#262626;\" transform=\"translate(329.6 31.772715)scale(0.1 -0.1)\">\n       <use xlink:href=\"#DejaVuSans-52\"/>\n       <use x=\"63.623047\" xlink:href=\"#DejaVuSans-48\"/>\n       <use x=\"127.246094\" xlink:href=\"#DejaVuSans-48\"/>\n       <use x=\"190.869141\" xlink:href=\"#DejaVuSans-48\"/>\n       <use x=\"254.492188\" xlink:href=\"#DejaVuSans-48\"/>\n       <use x=\"318.115234\" xlink:href=\"#DejaVuSans-48\"/>\n      </g>\n     </g>\n    </g>\n   </g>\n   <g id=\"patch_18\">\n    <path clip-path=\"url(#pc17b126ee4)\" d=\"M 386.047727 143.118125 \nL 408.593182 143.118125 \nL 408.593182 28.070506 \nL 386.047727 28.070506 \nz\n\" style=\"fill:#1f77b4;stroke:#ffffff;stroke-linejoin:miter;\"/>\n   </g>\n   <g id=\"patch_19\">\n    <path clip-path=\"url(#pc17b126ee4)\" d=\"M 408.593182 143.118125 \nL 431.138636 143.118125 \nL 431.138636 143.118125 \nL 408.593182 143.118125 \nz\n\" style=\"fill:#1f77b4;stroke:#ffffff;stroke-linejoin:miter;\"/>\n   </g>\n   <g id=\"patch_20\">\n    <path clip-path=\"url(#pc17b126ee4)\" d=\"M 431.138636 143.118125 \nL 453.684091 143.118125 \nL 453.684091 143.118125 \nL 431.138636 143.118125 \nz\n\" style=\"fill:#1f77b4;stroke:#ffffff;stroke-linejoin:miter;\"/>\n   </g>\n   <g id=\"patch_21\">\n    <path clip-path=\"url(#pc17b126ee4)\" d=\"M 453.684091 143.118125 \nL 476.229545 143.118125 \nL 476.229545 143.118125 \nL 453.684091 143.118125 \nz\n\" style=\"fill:#1f77b4;stroke:#ffffff;stroke-linejoin:miter;\"/>\n   </g>\n   <g id=\"patch_22\">\n    <path clip-path=\"url(#pc17b126ee4)\" d=\"M 476.229545 143.118125 \nL 498.775 143.118125 \nL 498.775 143.118125 \nL 476.229545 143.118125 \nz\n\" style=\"fill:#1f77b4;stroke:#ffffff;stroke-linejoin:miter;\"/>\n   </g>\n   <g id=\"patch_23\">\n    <path clip-path=\"url(#pc17b126ee4)\" d=\"M 498.775 143.118125 \nL 521.320455 143.118125 \nL 521.320455 143.118125 \nL 498.775 143.118125 \nz\n\" style=\"fill:#1f77b4;stroke:#ffffff;stroke-linejoin:miter;\"/>\n   </g>\n   <g id=\"patch_24\">\n    <path clip-path=\"url(#pc17b126ee4)\" d=\"M 521.320455 143.118125 \nL 543.865909 143.118125 \nL 543.865909 143.118125 \nL 521.320455 143.118125 \nz\n\" style=\"fill:#1f77b4;stroke:#ffffff;stroke-linejoin:miter;\"/>\n   </g>\n   <g id=\"patch_25\">\n    <path clip-path=\"url(#pc17b126ee4)\" d=\"M 543.865909 143.118125 \nL 566.411364 143.118125 \nL 566.411364 143.118125 \nL 543.865909 143.118125 \nz\n\" style=\"fill:#1f77b4;stroke:#ffffff;stroke-linejoin:miter;\"/>\n   </g>\n   <g id=\"patch_26\">\n    <path clip-path=\"url(#pc17b126ee4)\" d=\"M 566.411364 143.118125 \nL 588.956818 143.118125 \nL 588.956818 143.118125 \nL 566.411364 143.118125 \nz\n\" style=\"fill:#1f77b4;stroke:#ffffff;stroke-linejoin:miter;\"/>\n   </g>\n   <g id=\"patch_27\">\n    <path clip-path=\"url(#pc17b126ee4)\" d=\"M 588.956818 143.118125 \nL 611.502273 143.118125 \nL 611.502273 139.991085 \nL 588.956818 139.991085 \nz\n\" style=\"fill:#1f77b4;stroke:#ffffff;stroke-linejoin:miter;\"/>\n   </g>\n   <g id=\"patch_28\">\n    <path d=\"M 374.775 143.118125 \nL 374.775 22.318125 \n\" style=\"fill:none;stroke:#cccccc;stroke-linecap:square;stroke-linejoin:miter;stroke-width:0.8;\"/>\n   </g>\n   <g id=\"patch_29\">\n    <path d=\"M 622.775 143.118125 \nL 622.775 22.318125 \n\" style=\"fill:none;stroke:#cccccc;stroke-linecap:square;stroke-linejoin:miter;stroke-width:0.8;\"/>\n   </g>\n   <g id=\"patch_30\">\n    <path d=\"M 374.775 143.118125 \nL 622.775 143.118125 \n\" style=\"fill:none;stroke:#cccccc;stroke-linecap:square;stroke-linejoin:miter;stroke-width:0.8;\"/>\n   </g>\n   <g id=\"patch_31\">\n    <path d=\"M 374.775 22.318125 \nL 622.775 22.318125 \n\" style=\"fill:none;stroke:#cccccc;stroke-linecap:square;stroke-linejoin:miter;stroke-width:0.8;\"/>\n   </g>\n   <g id=\"text_24\">\n    <!-- alcoholism -->\n    <defs>\n     <path d=\"M 9.421875 75.984375 \nL 18.40625 75.984375 \nL 18.40625 0 \nL 9.421875 0 \nz\n\" id=\"DejaVuSans-108\"/>\n     <path d=\"M 48.78125 52.59375 \nL 48.78125 44.1875 \nQ 44.96875 46.296875 41.140625 47.34375 \nQ 37.3125 48.390625 33.40625 48.390625 \nQ 24.65625 48.390625 19.8125 42.84375 \nQ 14.984375 37.3125 14.984375 27.296875 \nQ 14.984375 17.28125 19.8125 11.734375 \nQ 24.65625 6.203125 33.40625 6.203125 \nQ 37.3125 6.203125 41.140625 7.25 \nQ 44.96875 8.296875 48.78125 10.40625 \nL 48.78125 2.09375 \nQ 45.015625 0.34375 40.984375 -0.53125 \nQ 36.96875 -1.421875 32.421875 -1.421875 \nQ 20.0625 -1.421875 12.78125 6.34375 \nQ 5.515625 14.109375 5.515625 27.296875 \nQ 5.515625 40.671875 12.859375 48.328125 \nQ 20.21875 56 33.015625 56 \nQ 37.15625 56 41.109375 55.140625 \nQ 45.0625 54.296875 48.78125 52.59375 \nz\n\" id=\"DejaVuSans-99\"/>\n     <path d=\"M 30.609375 48.390625 \nQ 23.390625 48.390625 19.1875 42.75 \nQ 14.984375 37.109375 14.984375 27.296875 \nQ 14.984375 17.484375 19.15625 11.84375 \nQ 23.34375 6.203125 30.609375 6.203125 \nQ 37.796875 6.203125 41.984375 11.859375 \nQ 46.1875 17.53125 46.1875 27.296875 \nQ 46.1875 37.015625 41.984375 42.703125 \nQ 37.796875 48.390625 30.609375 48.390625 \nz\nM 30.609375 56 \nQ 42.328125 56 49.015625 48.375 \nQ 55.71875 40.765625 55.71875 27.296875 \nQ 55.71875 13.875 49.015625 6.21875 \nQ 42.328125 -1.421875 30.609375 -1.421875 \nQ 18.84375 -1.421875 12.171875 6.21875 \nQ 5.515625 13.875 5.515625 27.296875 \nQ 5.515625 40.765625 12.171875 48.375 \nQ 18.84375 56 30.609375 56 \nz\n\" id=\"DejaVuSans-111\"/>\n     <path d=\"M 54.890625 33.015625 \nL 54.890625 0 \nL 45.90625 0 \nL 45.90625 32.71875 \nQ 45.90625 40.484375 42.875 44.328125 \nQ 39.84375 48.1875 33.796875 48.1875 \nQ 26.515625 48.1875 22.3125 43.546875 \nQ 18.109375 38.921875 18.109375 30.90625 \nL 18.109375 0 \nL 9.078125 0 \nL 9.078125 75.984375 \nL 18.109375 75.984375 \nL 18.109375 46.1875 \nQ 21.34375 51.125 25.703125 53.5625 \nQ 30.078125 56 35.796875 56 \nQ 45.21875 56 50.046875 50.171875 \nQ 54.890625 44.34375 54.890625 33.015625 \nz\n\" id=\"DejaVuSans-104\"/>\n     <path d=\"M 9.421875 54.6875 \nL 18.40625 54.6875 \nL 18.40625 0 \nL 9.421875 0 \nz\nM 9.421875 75.984375 \nL 18.40625 75.984375 \nL 18.40625 64.59375 \nL 9.421875 64.59375 \nz\n\" id=\"DejaVuSans-105\"/>\n     <path d=\"M 44.28125 53.078125 \nL 44.28125 44.578125 \nQ 40.484375 46.53125 36.375 47.5 \nQ 32.28125 48.484375 27.875 48.484375 \nQ 21.1875 48.484375 17.84375 46.4375 \nQ 14.5 44.390625 14.5 40.28125 \nQ 14.5 37.15625 16.890625 35.375 \nQ 19.28125 33.59375 26.515625 31.984375 \nL 29.59375 31.296875 \nQ 39.15625 29.25 43.1875 25.515625 \nQ 47.21875 21.78125 47.21875 15.09375 \nQ 47.21875 7.46875 41.1875 3.015625 \nQ 35.15625 -1.421875 24.609375 -1.421875 \nQ 20.21875 -1.421875 15.453125 -0.5625 \nQ 10.6875 0.296875 5.421875 2 \nL 5.421875 11.28125 \nQ 10.40625 8.6875 15.234375 7.390625 \nQ 20.0625 6.109375 24.8125 6.109375 \nQ 31.15625 6.109375 34.5625 8.28125 \nQ 37.984375 10.453125 37.984375 14.40625 \nQ 37.984375 18.0625 35.515625 20.015625 \nQ 33.0625 21.96875 24.703125 23.78125 \nL 21.578125 24.515625 \nQ 13.234375 26.265625 9.515625 29.90625 \nQ 5.8125 33.546875 5.8125 39.890625 \nQ 5.8125 47.609375 11.28125 51.796875 \nQ 16.75 56 26.8125 56 \nQ 31.78125 56 36.171875 55.265625 \nQ 40.578125 54.546875 44.28125 53.078125 \nz\n\" id=\"DejaVuSans-115\"/>\n     <path d=\"M 52 44.1875 \nQ 55.375 50.25 60.0625 53.125 \nQ 64.75 56 71.09375 56 \nQ 79.640625 56 84.28125 50.015625 \nQ 88.921875 44.046875 88.921875 33.015625 \nL 88.921875 0 \nL 79.890625 0 \nL 79.890625 32.71875 \nQ 79.890625 40.578125 77.09375 44.375 \nQ 74.3125 48.1875 68.609375 48.1875 \nQ 61.625 48.1875 57.5625 43.546875 \nQ 53.515625 38.921875 53.515625 30.90625 \nL 53.515625 0 \nL 44.484375 0 \nL 44.484375 32.71875 \nQ 44.484375 40.625 41.703125 44.40625 \nQ 38.921875 48.1875 33.109375 48.1875 \nQ 26.21875 48.1875 22.15625 43.53125 \nQ 18.109375 38.875 18.109375 30.90625 \nL 18.109375 0 \nL 9.078125 0 \nL 9.078125 54.6875 \nL 18.109375 54.6875 \nL 18.109375 46.1875 \nQ 21.1875 51.21875 25.484375 53.609375 \nQ 29.78125 56 35.6875 56 \nQ 41.65625 56 45.828125 52.96875 \nQ 50 49.953125 52 44.1875 \nz\n\" id=\"DejaVuSans-109\"/>\n    </defs>\n    <g style=\"fill:#262626;\" transform=\"translate(466.683437 16.318125)scale(0.12 -0.12)\">\n     <use xlink:href=\"#DejaVuSans-97\"/>\n     <use x=\"61.279297\" xlink:href=\"#DejaVuSans-108\"/>\n     <use x=\"89.0625\" xlink:href=\"#DejaVuSans-99\"/>\n     <use x=\"144.042969\" xlink:href=\"#DejaVuSans-111\"/>\n     <use x=\"205.224609\" xlink:href=\"#DejaVuSans-104\"/>\n     <use x=\"268.603516\" xlink:href=\"#DejaVuSans-111\"/>\n     <use x=\"329.785156\" xlink:href=\"#DejaVuSans-108\"/>\n     <use x=\"357.568359\" xlink:href=\"#DejaVuSans-105\"/>\n     <use x=\"385.351562\" xlink:href=\"#DejaVuSans-115\"/>\n     <use x=\"437.451172\" xlink:href=\"#DejaVuSans-109\"/>\n    </g>\n   </g>\n  </g>\n  <g id=\"axes_3\">\n   <g id=\"patch_32\">\n    <path d=\"M 697.175 143.118125 \nL 945.175 143.118125 \nL 945.175 22.318125 \nL 697.175 22.318125 \nz\n\" style=\"fill:#ffffff;\"/>\n   </g>\n   <g id=\"matplotlib.axis_5\">\n    <g id=\"xtick_14\">\n     <g id=\"line2d_23\">\n      <path clip-path=\"url(#p14bf5a3a00)\" d=\"M 708.447727 143.118125 \nL 708.447727 22.318125 \n\" style=\"fill:none;stroke:#cccccc;stroke-linecap:round;stroke-width:0.8;\"/>\n     </g>\n     <g id=\"text_25\">\n      <!-- 0.0 -->\n      <g style=\"fill:#262626;\" transform=\"translate(700.496165 157.716562)scale(0.1 -0.1)\">\n       <use xlink:href=\"#DejaVuSans-48\"/>\n       <use x=\"63.623047\" xlink:href=\"#DejaVuSans-46\"/>\n       <use x=\"95.410156\" xlink:href=\"#DejaVuSans-48\"/>\n      </g>\n     </g>\n    </g>\n    <g id=\"xtick_15\">\n     <g id=\"line2d_24\">\n      <path clip-path=\"url(#p14bf5a3a00)\" d=\"M 753.538636 143.118125 \nL 753.538636 22.318125 \n\" style=\"fill:none;stroke:#cccccc;stroke-linecap:round;stroke-width:0.8;\"/>\n     </g>\n     <g id=\"text_26\">\n      <!-- 0.2 -->\n      <g style=\"fill:#262626;\" transform=\"translate(745.587074 157.716562)scale(0.1 -0.1)\">\n       <use xlink:href=\"#DejaVuSans-48\"/>\n       <use x=\"63.623047\" xlink:href=\"#DejaVuSans-46\"/>\n       <use x=\"95.410156\" xlink:href=\"#DejaVuSans-50\"/>\n      </g>\n     </g>\n    </g>\n    <g id=\"xtick_16\">\n     <g id=\"line2d_25\">\n      <path clip-path=\"url(#p14bf5a3a00)\" d=\"M 798.629545 143.118125 \nL 798.629545 22.318125 \n\" style=\"fill:none;stroke:#cccccc;stroke-linecap:round;stroke-width:0.8;\"/>\n     </g>\n     <g id=\"text_27\">\n      <!-- 0.4 -->\n      <g style=\"fill:#262626;\" transform=\"translate(790.677983 157.716562)scale(0.1 -0.1)\">\n       <use xlink:href=\"#DejaVuSans-48\"/>\n       <use x=\"63.623047\" xlink:href=\"#DejaVuSans-46\"/>\n       <use x=\"95.410156\" xlink:href=\"#DejaVuSans-52\"/>\n      </g>\n     </g>\n    </g>\n    <g id=\"xtick_17\">\n     <g id=\"line2d_26\">\n      <path clip-path=\"url(#p14bf5a3a00)\" d=\"M 843.720455 143.118125 \nL 843.720455 22.318125 \n\" style=\"fill:none;stroke:#cccccc;stroke-linecap:round;stroke-width:0.8;\"/>\n     </g>\n     <g id=\"text_28\">\n      <!-- 0.6 -->\n      <g style=\"fill:#262626;\" transform=\"translate(835.768892 157.716562)scale(0.1 -0.1)\">\n       <use xlink:href=\"#DejaVuSans-48\"/>\n       <use x=\"63.623047\" xlink:href=\"#DejaVuSans-46\"/>\n       <use x=\"95.410156\" xlink:href=\"#DejaVuSans-54\"/>\n      </g>\n     </g>\n    </g>\n    <g id=\"xtick_18\">\n     <g id=\"line2d_27\">\n      <path clip-path=\"url(#p14bf5a3a00)\" d=\"M 888.811364 143.118125 \nL 888.811364 22.318125 \n\" style=\"fill:none;stroke:#cccccc;stroke-linecap:round;stroke-width:0.8;\"/>\n     </g>\n     <g id=\"text_29\">\n      <!-- 0.8 -->\n      <g style=\"fill:#262626;\" transform=\"translate(880.859801 157.716562)scale(0.1 -0.1)\">\n       <use xlink:href=\"#DejaVuSans-48\"/>\n       <use x=\"63.623047\" xlink:href=\"#DejaVuSans-46\"/>\n       <use x=\"95.410156\" xlink:href=\"#DejaVuSans-56\"/>\n      </g>\n     </g>\n    </g>\n    <g id=\"xtick_19\">\n     <g id=\"line2d_28\">\n      <path clip-path=\"url(#p14bf5a3a00)\" d=\"M 933.902273 143.118125 \nL 933.902273 22.318125 \n\" style=\"fill:none;stroke:#cccccc;stroke-linecap:round;stroke-width:0.8;\"/>\n     </g>\n     <g id=\"text_30\">\n      <!-- 1.0 -->\n      <g style=\"fill:#262626;\" transform=\"translate(925.95071 157.716562)scale(0.1 -0.1)\">\n       <use xlink:href=\"#DejaVuSans-49\"/>\n       <use x=\"63.623047\" xlink:href=\"#DejaVuSans-46\"/>\n       <use x=\"95.410156\" xlink:href=\"#DejaVuSans-48\"/>\n      </g>\n     </g>\n    </g>\n   </g>\n   <g id=\"matplotlib.axis_6\">\n    <g id=\"ytick_10\">\n     <g id=\"line2d_29\">\n      <path clip-path=\"url(#p14bf5a3a00)\" d=\"M 697.175 143.118125 \nL 945.175 143.118125 \n\" style=\"fill:none;stroke:#cccccc;stroke-linecap:round;stroke-width:0.8;\"/>\n     </g>\n     <g id=\"text_31\">\n      <!-- 0 -->\n      <g style=\"fill:#262626;\" transform=\"translate(683.8125 146.917344)scale(0.1 -0.1)\">\n       <use xlink:href=\"#DejaVuSans-48\"/>\n      </g>\n     </g>\n    </g>\n    <g id=\"ytick_11\">\n     <g id=\"line2d_30\">\n      <path clip-path=\"url(#p14bf5a3a00)\" d=\"M 697.175 112.778003 \nL 945.175 112.778003 \n\" style=\"fill:none;stroke:#cccccc;stroke-linecap:round;stroke-width:0.8;\"/>\n     </g>\n     <g id=\"text_32\">\n      <!-- 100000 -->\n      <g style=\"fill:#262626;\" transform=\"translate(652 116.577222)scale(0.1 -0.1)\">\n       <use xlink:href=\"#DejaVuSans-49\"/>\n       <use x=\"63.623047\" xlink:href=\"#DejaVuSans-48\"/>\n       <use x=\"127.246094\" xlink:href=\"#DejaVuSans-48\"/>\n       <use x=\"190.869141\" xlink:href=\"#DejaVuSans-48\"/>\n       <use x=\"254.492188\" xlink:href=\"#DejaVuSans-48\"/>\n       <use x=\"318.115234\" xlink:href=\"#DejaVuSans-48\"/>\n      </g>\n     </g>\n    </g>\n    <g id=\"ytick_12\">\n     <g id=\"line2d_31\">\n      <path clip-path=\"url(#p14bf5a3a00)\" d=\"M 697.175 82.437881 \nL 945.175 82.437881 \n\" style=\"fill:none;stroke:#cccccc;stroke-linecap:round;stroke-width:0.8;\"/>\n     </g>\n     <g id=\"text_33\">\n      <!-- 200000 -->\n      <g style=\"fill:#262626;\" transform=\"translate(652 86.2371)scale(0.1 -0.1)\">\n       <use xlink:href=\"#DejaVuSans-50\"/>\n       <use x=\"63.623047\" xlink:href=\"#DejaVuSans-48\"/>\n       <use x=\"127.246094\" xlink:href=\"#DejaVuSans-48\"/>\n       <use x=\"190.869141\" xlink:href=\"#DejaVuSans-48\"/>\n       <use x=\"254.492188\" xlink:href=\"#DejaVuSans-48\"/>\n       <use x=\"318.115234\" xlink:href=\"#DejaVuSans-48\"/>\n      </g>\n     </g>\n    </g>\n    <g id=\"ytick_13\">\n     <g id=\"line2d_32\">\n      <path clip-path=\"url(#p14bf5a3a00)\" d=\"M 697.175 52.097759 \nL 945.175 52.097759 \n\" style=\"fill:none;stroke:#cccccc;stroke-linecap:round;stroke-width:0.8;\"/>\n     </g>\n     <g id=\"text_34\">\n      <!-- 300000 -->\n      <g style=\"fill:#262626;\" transform=\"translate(652 55.896978)scale(0.1 -0.1)\">\n       <use xlink:href=\"#DejaVuSans-51\"/>\n       <use x=\"63.623047\" xlink:href=\"#DejaVuSans-48\"/>\n       <use x=\"127.246094\" xlink:href=\"#DejaVuSans-48\"/>\n       <use x=\"190.869141\" xlink:href=\"#DejaVuSans-48\"/>\n       <use x=\"254.492188\" xlink:href=\"#DejaVuSans-48\"/>\n       <use x=\"318.115234\" xlink:href=\"#DejaVuSans-48\"/>\n      </g>\n     </g>\n    </g>\n   </g>\n   <g id=\"patch_33\">\n    <path clip-path=\"url(#p14bf5a3a00)\" d=\"M 708.447727 143.118125 \nL 730.993182 143.118125 \nL 730.993182 28.070506 \nL 708.447727 28.070506 \nz\n\" style=\"fill:#1f77b4;stroke:#ffffff;stroke-linejoin:miter;\"/>\n   </g>\n   <g id=\"patch_34\">\n    <path clip-path=\"url(#p14bf5a3a00)\" d=\"M 730.993182 143.118125 \nL 753.538636 143.118125 \nL 753.538636 143.118125 \nL 730.993182 143.118125 \nz\n\" style=\"fill:#1f77b4;stroke:#ffffff;stroke-linejoin:miter;\"/>\n   </g>\n   <g id=\"patch_35\">\n    <path clip-path=\"url(#p14bf5a3a00)\" d=\"M 753.538636 143.118125 \nL 776.084091 143.118125 \nL 776.084091 143.118125 \nL 753.538636 143.118125 \nz\n\" style=\"fill:#1f77b4;stroke:#ffffff;stroke-linejoin:miter;\"/>\n   </g>\n   <g id=\"patch_36\">\n    <path clip-path=\"url(#p14bf5a3a00)\" d=\"M 776.084091 143.118125 \nL 798.629545 143.118125 \nL 798.629545 143.118125 \nL 776.084091 143.118125 \nz\n\" style=\"fill:#1f77b4;stroke:#ffffff;stroke-linejoin:miter;\"/>\n   </g>\n   <g id=\"patch_37\">\n    <path clip-path=\"url(#p14bf5a3a00)\" d=\"M 798.629545 143.118125 \nL 821.175 143.118125 \nL 821.175 143.118125 \nL 798.629545 143.118125 \nz\n\" style=\"fill:#1f77b4;stroke:#ffffff;stroke-linejoin:miter;\"/>\n   </g>\n   <g id=\"patch_38\">\n    <path clip-path=\"url(#p14bf5a3a00)\" d=\"M 821.175 143.118125 \nL 843.720455 143.118125 \nL 843.720455 143.118125 \nL 821.175 143.118125 \nz\n\" style=\"fill:#1f77b4;stroke:#ffffff;stroke-linejoin:miter;\"/>\n   </g>\n   <g id=\"patch_39\">\n    <path clip-path=\"url(#p14bf5a3a00)\" d=\"M 843.720455 143.118125 \nL 866.265909 143.118125 \nL 866.265909 143.118125 \nL 843.720455 143.118125 \nz\n\" style=\"fill:#1f77b4;stroke:#ffffff;stroke-linejoin:miter;\"/>\n   </g>\n   <g id=\"patch_40\">\n    <path clip-path=\"url(#p14bf5a3a00)\" d=\"M 866.265909 143.118125 \nL 888.811364 143.118125 \nL 888.811364 143.118125 \nL 866.265909 143.118125 \nz\n\" style=\"fill:#1f77b4;stroke:#ffffff;stroke-linejoin:miter;\"/>\n   </g>\n   <g id=\"patch_41\">\n    <path clip-path=\"url(#p14bf5a3a00)\" d=\"M 888.811364 143.118125 \nL 911.356818 143.118125 \nL 911.356818 143.118125 \nL 888.811364 143.118125 \nz\n\" style=\"fill:#1f77b4;stroke:#ffffff;stroke-linejoin:miter;\"/>\n   </g>\n   <g id=\"patch_42\">\n    <path clip-path=\"url(#p14bf5a3a00)\" d=\"M 911.356818 143.118125 \nL 933.902273 143.118125 \nL 933.902273 133.611655 \nL 911.356818 133.611655 \nz\n\" style=\"fill:#1f77b4;stroke:#ffffff;stroke-linejoin:miter;\"/>\n   </g>\n   <g id=\"patch_43\">\n    <path d=\"M 697.175 143.118125 \nL 697.175 22.318125 \n\" style=\"fill:none;stroke:#cccccc;stroke-linecap:square;stroke-linejoin:miter;stroke-width:0.8;\"/>\n   </g>\n   <g id=\"patch_44\">\n    <path d=\"M 945.175 143.118125 \nL 945.175 22.318125 \n\" style=\"fill:none;stroke:#cccccc;stroke-linecap:square;stroke-linejoin:miter;stroke-width:0.8;\"/>\n   </g>\n   <g id=\"patch_45\">\n    <path d=\"M 697.175 143.118125 \nL 945.175 143.118125 \n\" style=\"fill:none;stroke:#cccccc;stroke-linecap:square;stroke-linejoin:miter;stroke-width:0.8;\"/>\n   </g>\n   <g id=\"patch_46\">\n    <path d=\"M 697.175 22.318125 \nL 945.175 22.318125 \n\" style=\"fill:none;stroke:#cccccc;stroke-linecap:square;stroke-linejoin:miter;stroke-width:0.8;\"/>\n   </g>\n   <g id=\"text_35\">\n    <!-- diabetes -->\n    <defs>\n     <path d=\"M 45.40625 46.390625 \nL 45.40625 75.984375 \nL 54.390625 75.984375 \nL 54.390625 0 \nL 45.40625 0 \nL 45.40625 8.203125 \nQ 42.578125 3.328125 38.25 0.953125 \nQ 33.9375 -1.421875 27.875 -1.421875 \nQ 17.96875 -1.421875 11.734375 6.484375 \nQ 5.515625 14.40625 5.515625 27.296875 \nQ 5.515625 40.1875 11.734375 48.09375 \nQ 17.96875 56 27.875 56 \nQ 33.9375 56 38.25 53.625 \nQ 42.578125 51.265625 45.40625 46.390625 \nz\nM 14.796875 27.296875 \nQ 14.796875 17.390625 18.875 11.75 \nQ 22.953125 6.109375 30.078125 6.109375 \nQ 37.203125 6.109375 41.296875 11.75 \nQ 45.40625 17.390625 45.40625 27.296875 \nQ 45.40625 37.203125 41.296875 42.84375 \nQ 37.203125 48.484375 30.078125 48.484375 \nQ 22.953125 48.484375 18.875 42.84375 \nQ 14.796875 37.203125 14.796875 27.296875 \nz\n\" id=\"DejaVuSans-100\"/>\n     <path d=\"M 48.6875 27.296875 \nQ 48.6875 37.203125 44.609375 42.84375 \nQ 40.53125 48.484375 33.40625 48.484375 \nQ 26.265625 48.484375 22.1875 42.84375 \nQ 18.109375 37.203125 18.109375 27.296875 \nQ 18.109375 17.390625 22.1875 11.75 \nQ 26.265625 6.109375 33.40625 6.109375 \nQ 40.53125 6.109375 44.609375 11.75 \nQ 48.6875 17.390625 48.6875 27.296875 \nz\nM 18.109375 46.390625 \nQ 20.953125 51.265625 25.265625 53.625 \nQ 29.59375 56 35.59375 56 \nQ 45.5625 56 51.78125 48.09375 \nQ 58.015625 40.1875 58.015625 27.296875 \nQ 58.015625 14.40625 51.78125 6.484375 \nQ 45.5625 -1.421875 35.59375 -1.421875 \nQ 29.59375 -1.421875 25.265625 0.953125 \nQ 20.953125 3.328125 18.109375 8.203125 \nL 18.109375 0 \nL 9.078125 0 \nL 9.078125 75.984375 \nL 18.109375 75.984375 \nz\n\" id=\"DejaVuSans-98\"/>\n     <path d=\"M 18.3125 70.21875 \nL 18.3125 54.6875 \nL 36.8125 54.6875 \nL 36.8125 47.703125 \nL 18.3125 47.703125 \nL 18.3125 18.015625 \nQ 18.3125 11.328125 20.140625 9.421875 \nQ 21.96875 7.515625 27.59375 7.515625 \nL 36.8125 7.515625 \nL 36.8125 0 \nL 27.59375 0 \nQ 17.1875 0 13.234375 3.875 \nQ 9.28125 7.765625 9.28125 18.015625 \nL 9.28125 47.703125 \nL 2.6875 47.703125 \nL 2.6875 54.6875 \nL 9.28125 54.6875 \nL 9.28125 70.21875 \nz\n\" id=\"DejaVuSans-116\"/>\n    </defs>\n    <g style=\"fill:#262626;\" transform=\"translate(795.351562 16.318125)scale(0.12 -0.12)\">\n     <use xlink:href=\"#DejaVuSans-100\"/>\n     <use x=\"63.476562\" xlink:href=\"#DejaVuSans-105\"/>\n     <use x=\"91.259766\" xlink:href=\"#DejaVuSans-97\"/>\n     <use x=\"152.539062\" xlink:href=\"#DejaVuSans-98\"/>\n     <use x=\"216.015625\" xlink:href=\"#DejaVuSans-101\"/>\n     <use x=\"277.539062\" xlink:href=\"#DejaVuSans-116\"/>\n     <use x=\"316.748047\" xlink:href=\"#DejaVuSans-101\"/>\n     <use x=\"378.271484\" xlink:href=\"#DejaVuSans-115\"/>\n    </g>\n   </g>\n  </g>\n  <g id=\"axes_4\">\n   <g id=\"patch_47\">\n    <path d=\"M 52.375 300.158125 \nL 300.375 300.158125 \nL 300.375 179.358125 \nL 52.375 179.358125 \nz\n\" style=\"fill:#ffffff;\"/>\n   </g>\n   <g id=\"matplotlib.axis_7\">\n    <g id=\"xtick_20\">\n     <g id=\"line2d_33\">\n      <path clip-path=\"url(#pb6fe2f1863)\" d=\"M 63.647727 300.158125 \nL 63.647727 179.358125 \n\" style=\"fill:none;stroke:#cccccc;stroke-linecap:round;stroke-width:0.8;\"/>\n     </g>\n     <g id=\"text_36\">\n      <!-- 0 -->\n      <g style=\"fill:#262626;\" transform=\"translate(60.466477 314.756562)scale(0.1 -0.1)\">\n       <use xlink:href=\"#DejaVuSans-48\"/>\n      </g>\n     </g>\n    </g>\n    <g id=\"xtick_21\">\n     <g id=\"line2d_34\">\n      <path clip-path=\"url(#pb6fe2f1863)\" d=\"M 120.011364 300.158125 \nL 120.011364 179.358125 \n\" style=\"fill:none;stroke:#cccccc;stroke-linecap:round;stroke-width:0.8;\"/>\n     </g>\n     <g id=\"text_37\">\n      <!-- 1 -->\n      <g style=\"fill:#262626;\" transform=\"translate(116.830114 314.756562)scale(0.1 -0.1)\">\n       <use xlink:href=\"#DejaVuSans-49\"/>\n      </g>\n     </g>\n    </g>\n    <g id=\"xtick_22\">\n     <g id=\"line2d_35\">\n      <path clip-path=\"url(#pb6fe2f1863)\" d=\"M 176.375 300.158125 \nL 176.375 179.358125 \n\" style=\"fill:none;stroke:#cccccc;stroke-linecap:round;stroke-width:0.8;\"/>\n     </g>\n     <g id=\"text_38\">\n      <!-- 2 -->\n      <g style=\"fill:#262626;\" transform=\"translate(173.19375 314.756562)scale(0.1 -0.1)\">\n       <use xlink:href=\"#DejaVuSans-50\"/>\n      </g>\n     </g>\n    </g>\n    <g id=\"xtick_23\">\n     <g id=\"line2d_36\">\n      <path clip-path=\"url(#pb6fe2f1863)\" d=\"M 232.738636 300.158125 \nL 232.738636 179.358125 \n\" style=\"fill:none;stroke:#cccccc;stroke-linecap:round;stroke-width:0.8;\"/>\n     </g>\n     <g id=\"text_39\">\n      <!-- 3 -->\n      <g style=\"fill:#262626;\" transform=\"translate(229.557386 314.756562)scale(0.1 -0.1)\">\n       <use xlink:href=\"#DejaVuSans-51\"/>\n      </g>\n     </g>\n    </g>\n    <g id=\"xtick_24\">\n     <g id=\"line2d_37\">\n      <path clip-path=\"url(#pb6fe2f1863)\" d=\"M 289.102273 300.158125 \nL 289.102273 179.358125 \n\" style=\"fill:none;stroke:#cccccc;stroke-linecap:round;stroke-width:0.8;\"/>\n     </g>\n     <g id=\"text_40\">\n      <!-- 4 -->\n      <g style=\"fill:#262626;\" transform=\"translate(285.921023 314.756562)scale(0.1 -0.1)\">\n       <use xlink:href=\"#DejaVuSans-52\"/>\n      </g>\n     </g>\n    </g>\n   </g>\n   <g id=\"matplotlib.axis_8\">\n    <g id=\"ytick_14\">\n     <g id=\"line2d_38\">\n      <path clip-path=\"url(#pb6fe2f1863)\" d=\"M 52.375 300.158125 \nL 300.375 300.158125 \n\" style=\"fill:none;stroke:#cccccc;stroke-linecap:round;stroke-width:0.8;\"/>\n     </g>\n     <g id=\"text_41\">\n      <!-- 0 -->\n      <g style=\"fill:#262626;\" transform=\"translate(39.0125 303.957344)scale(0.1 -0.1)\">\n       <use xlink:href=\"#DejaVuSans-48\"/>\n      </g>\n     </g>\n    </g>\n    <g id=\"ytick_15\">\n     <g id=\"line2d_39\">\n      <path clip-path=\"url(#pb6fe2f1863)\" d=\"M 52.375 271.58821 \nL 300.375 271.58821 \n\" style=\"fill:none;stroke:#cccccc;stroke-linecap:round;stroke-width:0.8;\"/>\n     </g>\n     <g id=\"text_42\">\n      <!-- 100000 -->\n      <g style=\"fill:#262626;\" transform=\"translate(7.2 275.387429)scale(0.1 -0.1)\">\n       <use xlink:href=\"#DejaVuSans-49\"/>\n       <use x=\"63.623047\" xlink:href=\"#DejaVuSans-48\"/>\n       <use x=\"127.246094\" xlink:href=\"#DejaVuSans-48\"/>\n       <use x=\"190.869141\" xlink:href=\"#DejaVuSans-48\"/>\n       <use x=\"254.492188\" xlink:href=\"#DejaVuSans-48\"/>\n       <use x=\"318.115234\" xlink:href=\"#DejaVuSans-48\"/>\n      </g>\n     </g>\n    </g>\n    <g id=\"ytick_16\">\n     <g id=\"line2d_40\">\n      <path clip-path=\"url(#pb6fe2f1863)\" d=\"M 52.375 243.018295 \nL 300.375 243.018295 \n\" style=\"fill:none;stroke:#cccccc;stroke-linecap:round;stroke-width:0.8;\"/>\n     </g>\n     <g id=\"text_43\">\n      <!-- 200000 -->\n      <g style=\"fill:#262626;\" transform=\"translate(7.2 246.817514)scale(0.1 -0.1)\">\n       <use xlink:href=\"#DejaVuSans-50\"/>\n       <use x=\"63.623047\" xlink:href=\"#DejaVuSans-48\"/>\n       <use x=\"127.246094\" xlink:href=\"#DejaVuSans-48\"/>\n       <use x=\"190.869141\" xlink:href=\"#DejaVuSans-48\"/>\n       <use x=\"254.492188\" xlink:href=\"#DejaVuSans-48\"/>\n       <use x=\"318.115234\" xlink:href=\"#DejaVuSans-48\"/>\n      </g>\n     </g>\n    </g>\n    <g id=\"ytick_17\">\n     <g id=\"line2d_41\">\n      <path clip-path=\"url(#pb6fe2f1863)\" d=\"M 52.375 214.44838 \nL 300.375 214.44838 \n\" style=\"fill:none;stroke:#cccccc;stroke-linecap:round;stroke-width:0.8;\"/>\n     </g>\n     <g id=\"text_44\">\n      <!-- 300000 -->\n      <g style=\"fill:#262626;\" transform=\"translate(7.2 218.247599)scale(0.1 -0.1)\">\n       <use xlink:href=\"#DejaVuSans-51\"/>\n       <use x=\"63.623047\" xlink:href=\"#DejaVuSans-48\"/>\n       <use x=\"127.246094\" xlink:href=\"#DejaVuSans-48\"/>\n       <use x=\"190.869141\" xlink:href=\"#DejaVuSans-48\"/>\n       <use x=\"254.492188\" xlink:href=\"#DejaVuSans-48\"/>\n       <use x=\"318.115234\" xlink:href=\"#DejaVuSans-48\"/>\n      </g>\n     </g>\n    </g>\n    <g id=\"ytick_18\">\n     <g id=\"line2d_42\">\n      <path clip-path=\"url(#pb6fe2f1863)\" d=\"M 52.375 185.878465 \nL 300.375 185.878465 \n\" style=\"fill:none;stroke:#cccccc;stroke-linecap:round;stroke-width:0.8;\"/>\n     </g>\n     <g id=\"text_45\">\n      <!-- 400000 -->\n      <g style=\"fill:#262626;\" transform=\"translate(7.2 189.677684)scale(0.1 -0.1)\">\n       <use xlink:href=\"#DejaVuSans-52\"/>\n       <use x=\"63.623047\" xlink:href=\"#DejaVuSans-48\"/>\n       <use x=\"127.246094\" xlink:href=\"#DejaVuSans-48\"/>\n       <use x=\"190.869141\" xlink:href=\"#DejaVuSans-48\"/>\n       <use x=\"254.492188\" xlink:href=\"#DejaVuSans-48\"/>\n       <use x=\"318.115234\" xlink:href=\"#DejaVuSans-48\"/>\n      </g>\n     </g>\n    </g>\n   </g>\n   <g id=\"patch_48\">\n    <path clip-path=\"url(#pb6fe2f1863)\" d=\"M 63.647727 300.158125 \nL 86.193182 300.158125 \nL 86.193182 185.110506 \nL 63.647727 185.110506 \nz\n\" style=\"fill:#1f77b4;stroke:#ffffff;stroke-linejoin:miter;\"/>\n   </g>\n   <g id=\"patch_49\">\n    <path clip-path=\"url(#pb6fe2f1863)\" d=\"M 86.193182 300.158125 \nL 108.738636 300.158125 \nL 108.738636 300.158125 \nL 86.193182 300.158125 \nz\n\" style=\"fill:#1f77b4;stroke:#ffffff;stroke-linejoin:miter;\"/>\n   </g>\n   <g id=\"patch_50\">\n    <path clip-path=\"url(#pb6fe2f1863)\" d=\"M 108.738636 300.158125 \nL 131.284091 300.158125 \nL 131.284091 298.118233 \nL 108.738636 298.118233 \nz\n\" style=\"fill:#1f77b4;stroke:#ffffff;stroke-linejoin:miter;\"/>\n   </g>\n   <g id=\"patch_51\">\n    <path clip-path=\"url(#pb6fe2f1863)\" d=\"M 131.284091 300.158125 \nL 153.829545 300.158125 \nL 153.829545 300.158125 \nL 131.284091 300.158125 \nz\n\" style=\"fill:#1f77b4;stroke:#ffffff;stroke-linejoin:miter;\"/>\n   </g>\n   <g id=\"patch_52\">\n    <path clip-path=\"url(#pb6fe2f1863)\" d=\"M 153.829545 300.158125 \nL 176.375 300.158125 \nL 176.375 300.158125 \nL 153.829545 300.158125 \nz\n\" style=\"fill:#1f77b4;stroke:#ffffff;stroke-linejoin:miter;\"/>\n   </g>\n   <g id=\"patch_53\">\n    <path clip-path=\"url(#pb6fe2f1863)\" d=\"M 176.375 300.158125 \nL 198.920455 300.158125 \nL 198.920455 299.977563 \nL 176.375 299.977563 \nz\n\" style=\"fill:#1f77b4;stroke:#ffffff;stroke-linejoin:miter;\"/>\n   </g>\n   <g id=\"patch_54\">\n    <path clip-path=\"url(#pb6fe2f1863)\" d=\"M 198.920455 300.158125 \nL 221.465909 300.158125 \nL 221.465909 300.158125 \nL 198.920455 300.158125 \nz\n\" style=\"fill:#1f77b4;stroke:#ffffff;stroke-linejoin:miter;\"/>\n   </g>\n   <g id=\"patch_55\">\n    <path clip-path=\"url(#pb6fe2f1863)\" d=\"M 221.465909 300.158125 \nL 244.011364 300.158125 \nL 244.011364 300.143269 \nL 221.465909 300.143269 \nz\n\" style=\"fill:#1f77b4;stroke:#ffffff;stroke-linejoin:miter;\"/>\n   </g>\n   <g id=\"patch_56\">\n    <path clip-path=\"url(#pb6fe2f1863)\" d=\"M 244.011364 300.158125 \nL 266.556818 300.158125 \nL 266.556818 300.158125 \nL 244.011364 300.158125 \nz\n\" style=\"fill:#1f77b4;stroke:#ffffff;stroke-linejoin:miter;\"/>\n   </g>\n   <g id=\"patch_57\">\n    <path clip-path=\"url(#pb6fe2f1863)\" d=\"M 266.556818 300.158125 \nL 289.102273 300.158125 \nL 289.102273 300.154125 \nL 266.556818 300.154125 \nz\n\" style=\"fill:#1f77b4;stroke:#ffffff;stroke-linejoin:miter;\"/>\n   </g>\n   <g id=\"patch_58\">\n    <path d=\"M 52.375 300.158125 \nL 52.375 179.358125 \n\" style=\"fill:none;stroke:#cccccc;stroke-linecap:square;stroke-linejoin:miter;stroke-width:0.8;\"/>\n   </g>\n   <g id=\"patch_59\">\n    <path d=\"M 300.375 300.158125 \nL 300.375 179.358125 \n\" style=\"fill:none;stroke:#cccccc;stroke-linecap:square;stroke-linejoin:miter;stroke-width:0.8;\"/>\n   </g>\n   <g id=\"patch_60\">\n    <path d=\"M 52.375 300.158125 \nL 300.375 300.158125 \n\" style=\"fill:none;stroke:#cccccc;stroke-linecap:square;stroke-linejoin:miter;stroke-width:0.8;\"/>\n   </g>\n   <g id=\"patch_61\">\n    <path d=\"M 52.375 179.358125 \nL 300.375 179.358125 \n\" style=\"fill:none;stroke:#cccccc;stroke-linecap:square;stroke-linejoin:miter;stroke-width:0.8;\"/>\n   </g>\n   <g id=\"text_46\">\n    <!-- handicap -->\n    <defs>\n     <path d=\"M 54.890625 33.015625 \nL 54.890625 0 \nL 45.90625 0 \nL 45.90625 32.71875 \nQ 45.90625 40.484375 42.875 44.328125 \nQ 39.84375 48.1875 33.796875 48.1875 \nQ 26.515625 48.1875 22.3125 43.546875 \nQ 18.109375 38.921875 18.109375 30.90625 \nL 18.109375 0 \nL 9.078125 0 \nL 9.078125 54.6875 \nL 18.109375 54.6875 \nL 18.109375 46.1875 \nQ 21.34375 51.125 25.703125 53.5625 \nQ 30.078125 56 35.796875 56 \nQ 45.21875 56 50.046875 50.171875 \nQ 54.890625 44.34375 54.890625 33.015625 \nz\n\" id=\"DejaVuSans-110\"/>\n     <path d=\"M 18.109375 8.203125 \nL 18.109375 -20.796875 \nL 9.078125 -20.796875 \nL 9.078125 54.6875 \nL 18.109375 54.6875 \nL 18.109375 46.390625 \nQ 20.953125 51.265625 25.265625 53.625 \nQ 29.59375 56 35.59375 56 \nQ 45.5625 56 51.78125 48.09375 \nQ 58.015625 40.1875 58.015625 27.296875 \nQ 58.015625 14.40625 51.78125 6.484375 \nQ 45.5625 -1.421875 35.59375 -1.421875 \nQ 29.59375 -1.421875 25.265625 0.953125 \nQ 20.953125 3.328125 18.109375 8.203125 \nz\nM 48.6875 27.296875 \nQ 48.6875 37.203125 44.609375 42.84375 \nQ 40.53125 48.484375 33.40625 48.484375 \nQ 26.265625 48.484375 22.1875 42.84375 \nQ 18.109375 37.203125 18.109375 27.296875 \nQ 18.109375 17.390625 22.1875 11.75 \nQ 26.265625 6.109375 33.40625 6.109375 \nQ 40.53125 6.109375 44.609375 11.75 \nQ 48.6875 17.390625 48.6875 27.296875 \nz\n\" id=\"DejaVuSans-112\"/>\n    </defs>\n    <g style=\"fill:#262626;\" transform=\"translate(148.832188 173.358125)scale(0.12 -0.12)\">\n     <use xlink:href=\"#DejaVuSans-104\"/>\n     <use x=\"63.378906\" xlink:href=\"#DejaVuSans-97\"/>\n     <use x=\"124.658203\" xlink:href=\"#DejaVuSans-110\"/>\n     <use x=\"188.037109\" xlink:href=\"#DejaVuSans-100\"/>\n     <use x=\"251.513672\" xlink:href=\"#DejaVuSans-105\"/>\n     <use x=\"279.296875\" xlink:href=\"#DejaVuSans-99\"/>\n     <use x=\"334.277344\" xlink:href=\"#DejaVuSans-97\"/>\n     <use x=\"395.556641\" xlink:href=\"#DejaVuSans-112\"/>\n    </g>\n   </g>\n  </g>\n  <g id=\"axes_5\">\n   <g id=\"patch_62\">\n    <path d=\"M 374.775 300.158125 \nL 622.775 300.158125 \nL 622.775 179.358125 \nL 374.775 179.358125 \nz\n\" style=\"fill:#ffffff;\"/>\n   </g>\n   <g id=\"matplotlib.axis_9\">\n    <g id=\"xtick_25\">\n     <g id=\"line2d_43\">\n      <path clip-path=\"url(#p055c87a0ab)\" d=\"M 386.047727 300.158125 \nL 386.047727 179.358125 \n\" style=\"fill:none;stroke:#cccccc;stroke-linecap:round;stroke-width:0.8;\"/>\n     </g>\n     <g id=\"text_47\">\n      <!-- 0.0 -->\n      <g style=\"fill:#262626;\" transform=\"translate(378.096165 314.756562)scale(0.1 -0.1)\">\n       <use xlink:href=\"#DejaVuSans-48\"/>\n       <use x=\"63.623047\" xlink:href=\"#DejaVuSans-46\"/>\n       <use x=\"95.410156\" xlink:href=\"#DejaVuSans-48\"/>\n      </g>\n     </g>\n    </g>\n    <g id=\"xtick_26\">\n     <g id=\"line2d_44\">\n      <path clip-path=\"url(#p055c87a0ab)\" d=\"M 431.138636 300.158125 \nL 431.138636 179.358125 \n\" style=\"fill:none;stroke:#cccccc;stroke-linecap:round;stroke-width:0.8;\"/>\n     </g>\n     <g id=\"text_48\">\n      <!-- 0.2 -->\n      <g style=\"fill:#262626;\" transform=\"translate(423.187074 314.756562)scale(0.1 -0.1)\">\n       <use xlink:href=\"#DejaVuSans-48\"/>\n       <use x=\"63.623047\" xlink:href=\"#DejaVuSans-46\"/>\n       <use x=\"95.410156\" xlink:href=\"#DejaVuSans-50\"/>\n      </g>\n     </g>\n    </g>\n    <g id=\"xtick_27\">\n     <g id=\"line2d_45\">\n      <path clip-path=\"url(#p055c87a0ab)\" d=\"M 476.229545 300.158125 \nL 476.229545 179.358125 \n\" style=\"fill:none;stroke:#cccccc;stroke-linecap:round;stroke-width:0.8;\"/>\n     </g>\n     <g id=\"text_49\">\n      <!-- 0.4 -->\n      <g style=\"fill:#262626;\" transform=\"translate(468.277983 314.756562)scale(0.1 -0.1)\">\n       <use xlink:href=\"#DejaVuSans-48\"/>\n       <use x=\"63.623047\" xlink:href=\"#DejaVuSans-46\"/>\n       <use x=\"95.410156\" xlink:href=\"#DejaVuSans-52\"/>\n      </g>\n     </g>\n    </g>\n    <g id=\"xtick_28\">\n     <g id=\"line2d_46\">\n      <path clip-path=\"url(#p055c87a0ab)\" d=\"M 521.320455 300.158125 \nL 521.320455 179.358125 \n\" style=\"fill:none;stroke:#cccccc;stroke-linecap:round;stroke-width:0.8;\"/>\n     </g>\n     <g id=\"text_50\">\n      <!-- 0.6 -->\n      <g style=\"fill:#262626;\" transform=\"translate(513.368892 314.756562)scale(0.1 -0.1)\">\n       <use xlink:href=\"#DejaVuSans-48\"/>\n       <use x=\"63.623047\" xlink:href=\"#DejaVuSans-46\"/>\n       <use x=\"95.410156\" xlink:href=\"#DejaVuSans-54\"/>\n      </g>\n     </g>\n    </g>\n    <g id=\"xtick_29\">\n     <g id=\"line2d_47\">\n      <path clip-path=\"url(#p055c87a0ab)\" d=\"M 566.411364 300.158125 \nL 566.411364 179.358125 \n\" style=\"fill:none;stroke:#cccccc;stroke-linecap:round;stroke-width:0.8;\"/>\n     </g>\n     <g id=\"text_51\">\n      <!-- 0.8 -->\n      <g style=\"fill:#262626;\" transform=\"translate(558.459801 314.756562)scale(0.1 -0.1)\">\n       <use xlink:href=\"#DejaVuSans-48\"/>\n       <use x=\"63.623047\" xlink:href=\"#DejaVuSans-46\"/>\n       <use x=\"95.410156\" xlink:href=\"#DejaVuSans-56\"/>\n      </g>\n     </g>\n    </g>\n    <g id=\"xtick_30\">\n     <g id=\"line2d_48\">\n      <path clip-path=\"url(#p055c87a0ab)\" d=\"M 611.502273 300.158125 \nL 611.502273 179.358125 \n\" style=\"fill:none;stroke:#cccccc;stroke-linecap:round;stroke-width:0.8;\"/>\n     </g>\n     <g id=\"text_52\">\n      <!-- 1.0 -->\n      <g style=\"fill:#262626;\" transform=\"translate(603.55071 314.756562)scale(0.1 -0.1)\">\n       <use xlink:href=\"#DejaVuSans-49\"/>\n       <use x=\"63.623047\" xlink:href=\"#DejaVuSans-46\"/>\n       <use x=\"95.410156\" xlink:href=\"#DejaVuSans-48\"/>\n      </g>\n     </g>\n    </g>\n   </g>\n   <g id=\"matplotlib.axis_10\">\n    <g id=\"ytick_19\">\n     <g id=\"line2d_49\">\n      <path clip-path=\"url(#p055c87a0ab)\" d=\"M 374.775 300.158125 \nL 622.775 300.158125 \n\" style=\"fill:none;stroke:#cccccc;stroke-linecap:round;stroke-width:0.8;\"/>\n     </g>\n     <g id=\"text_53\">\n      <!-- 0 -->\n      <g style=\"fill:#262626;\" transform=\"translate(361.4125 303.957344)scale(0.1 -0.1)\">\n       <use xlink:href=\"#DejaVuSans-48\"/>\n      </g>\n     </g>\n    </g>\n    <g id=\"ytick_20\">\n     <g id=\"line2d_50\">\n      <path clip-path=\"url(#p055c87a0ab)\" d=\"M 374.775 264.644997 \nL 622.775 264.644997 \n\" style=\"fill:none;stroke:#cccccc;stroke-linecap:round;stroke-width:0.8;\"/>\n     </g>\n     <g id=\"text_54\">\n      <!-- 100000 -->\n      <g style=\"fill:#262626;\" transform=\"translate(329.6 268.444216)scale(0.1 -0.1)\">\n       <use xlink:href=\"#DejaVuSans-49\"/>\n       <use x=\"63.623047\" xlink:href=\"#DejaVuSans-48\"/>\n       <use x=\"127.246094\" xlink:href=\"#DejaVuSans-48\"/>\n       <use x=\"190.869141\" xlink:href=\"#DejaVuSans-48\"/>\n       <use x=\"254.492188\" xlink:href=\"#DejaVuSans-48\"/>\n       <use x=\"318.115234\" xlink:href=\"#DejaVuSans-48\"/>\n      </g>\n     </g>\n    </g>\n    <g id=\"ytick_21\">\n     <g id=\"line2d_51\">\n      <path clip-path=\"url(#p055c87a0ab)\" d=\"M 374.775 229.131869 \nL 622.775 229.131869 \n\" style=\"fill:none;stroke:#cccccc;stroke-linecap:round;stroke-width:0.8;\"/>\n     </g>\n     <g id=\"text_55\">\n      <!-- 200000 -->\n      <g style=\"fill:#262626;\" transform=\"translate(329.6 232.931088)scale(0.1 -0.1)\">\n       <use xlink:href=\"#DejaVuSans-50\"/>\n       <use x=\"63.623047\" xlink:href=\"#DejaVuSans-48\"/>\n       <use x=\"127.246094\" xlink:href=\"#DejaVuSans-48\"/>\n       <use x=\"190.869141\" xlink:href=\"#DejaVuSans-48\"/>\n       <use x=\"254.492188\" xlink:href=\"#DejaVuSans-48\"/>\n       <use x=\"318.115234\" xlink:href=\"#DejaVuSans-48\"/>\n      </g>\n     </g>\n    </g>\n    <g id=\"ytick_22\">\n     <g id=\"line2d_52\">\n      <path clip-path=\"url(#p055c87a0ab)\" d=\"M 374.775 193.618741 \nL 622.775 193.618741 \n\" style=\"fill:none;stroke:#cccccc;stroke-linecap:round;stroke-width:0.8;\"/>\n     </g>\n     <g id=\"text_56\">\n      <!-- 300000 -->\n      <g style=\"fill:#262626;\" transform=\"translate(329.6 197.41796)scale(0.1 -0.1)\">\n       <use xlink:href=\"#DejaVuSans-51\"/>\n       <use x=\"63.623047\" xlink:href=\"#DejaVuSans-48\"/>\n       <use x=\"127.246094\" xlink:href=\"#DejaVuSans-48\"/>\n       <use x=\"190.869141\" xlink:href=\"#DejaVuSans-48\"/>\n       <use x=\"254.492188\" xlink:href=\"#DejaVuSans-48\"/>\n       <use x=\"318.115234\" xlink:href=\"#DejaVuSans-48\"/>\n      </g>\n     </g>\n    </g>\n   </g>\n   <g id=\"patch_63\">\n    <path clip-path=\"url(#p055c87a0ab)\" d=\"M 386.047727 300.158125 \nL 408.593182 300.158125 \nL 408.593182 185.110506 \nL 386.047727 185.110506 \nz\n\" style=\"fill:#1f77b4;stroke:#ffffff;stroke-linejoin:miter;\"/>\n   </g>\n   <g id=\"patch_64\">\n    <path clip-path=\"url(#p055c87a0ab)\" d=\"M 408.593182 300.158125 \nL 431.138636 300.158125 \nL 431.138636 300.158125 \nL 408.593182 300.158125 \nz\n\" style=\"fill:#1f77b4;stroke:#ffffff;stroke-linejoin:miter;\"/>\n   </g>\n   <g id=\"patch_65\">\n    <path clip-path=\"url(#p055c87a0ab)\" d=\"M 431.138636 300.158125 \nL 453.684091 300.158125 \nL 453.684091 300.158125 \nL 431.138636 300.158125 \nz\n\" style=\"fill:#1f77b4;stroke:#ffffff;stroke-linejoin:miter;\"/>\n   </g>\n   <g id=\"patch_66\">\n    <path clip-path=\"url(#p055c87a0ab)\" d=\"M 453.684091 300.158125 \nL 476.229545 300.158125 \nL 476.229545 300.158125 \nL 453.684091 300.158125 \nz\n\" style=\"fill:#1f77b4;stroke:#ffffff;stroke-linejoin:miter;\"/>\n   </g>\n   <g id=\"patch_67\">\n    <path clip-path=\"url(#p055c87a0ab)\" d=\"M 476.229545 300.158125 \nL 498.775 300.158125 \nL 498.775 300.158125 \nL 476.229545 300.158125 \nz\n\" style=\"fill:#1f77b4;stroke:#ffffff;stroke-linejoin:miter;\"/>\n   </g>\n   <g id=\"patch_68\">\n    <path clip-path=\"url(#p055c87a0ab)\" d=\"M 498.775 300.158125 \nL 521.320455 300.158125 \nL 521.320455 300.158125 \nL 498.775 300.158125 \nz\n\" style=\"fill:#1f77b4;stroke:#ffffff;stroke-linejoin:miter;\"/>\n   </g>\n   <g id=\"patch_69\">\n    <path clip-path=\"url(#p055c87a0ab)\" d=\"M 521.320455 300.158125 \nL 543.865909 300.158125 \nL 543.865909 300.158125 \nL 521.320455 300.158125 \nz\n\" style=\"fill:#1f77b4;stroke:#ffffff;stroke-linejoin:miter;\"/>\n   </g>\n   <g id=\"patch_70\">\n    <path clip-path=\"url(#p055c87a0ab)\" d=\"M 543.865909 300.158125 \nL 566.411364 300.158125 \nL 566.411364 300.158125 \nL 543.865909 300.158125 \nz\n\" style=\"fill:#1f77b4;stroke:#ffffff;stroke-linejoin:miter;\"/>\n   </g>\n   <g id=\"patch_71\">\n    <path clip-path=\"url(#p055c87a0ab)\" d=\"M 566.411364 300.158125 \nL 588.956818 300.158125 \nL 588.956818 300.158125 \nL 566.411364 300.158125 \nz\n\" style=\"fill:#1f77b4;stroke:#ffffff;stroke-linejoin:miter;\"/>\n   </g>\n   <g id=\"patch_72\">\n    <path clip-path=\"url(#p055c87a0ab)\" d=\"M 588.956818 300.158125 \nL 611.502273 300.158125 \nL 611.502273 269.41512 \nL 588.956818 269.41512 \nz\n\" style=\"fill:#1f77b4;stroke:#ffffff;stroke-linejoin:miter;\"/>\n   </g>\n   <g id=\"patch_73\">\n    <path d=\"M 374.775 300.158125 \nL 374.775 179.358125 \n\" style=\"fill:none;stroke:#cccccc;stroke-linecap:square;stroke-linejoin:miter;stroke-width:0.8;\"/>\n   </g>\n   <g id=\"patch_74\">\n    <path d=\"M 622.775 300.158125 \nL 622.775 179.358125 \n\" style=\"fill:none;stroke:#cccccc;stroke-linecap:square;stroke-linejoin:miter;stroke-width:0.8;\"/>\n   </g>\n   <g id=\"patch_75\">\n    <path d=\"M 374.775 300.158125 \nL 622.775 300.158125 \n\" style=\"fill:none;stroke:#cccccc;stroke-linecap:square;stroke-linejoin:miter;stroke-width:0.8;\"/>\n   </g>\n   <g id=\"patch_76\">\n    <path d=\"M 374.775 179.358125 \nL 622.775 179.358125 \n\" style=\"fill:none;stroke:#cccccc;stroke-linecap:square;stroke-linejoin:miter;stroke-width:0.8;\"/>\n   </g>\n   <g id=\"text_57\">\n    <!-- hypertension -->\n    <defs>\n     <path d=\"M 32.171875 -5.078125 \nQ 28.375 -14.84375 24.75 -17.8125 \nQ 21.140625 -20.796875 15.09375 -20.796875 \nL 7.90625 -20.796875 \nL 7.90625 -13.28125 \nL 13.1875 -13.28125 \nQ 16.890625 -13.28125 18.9375 -11.515625 \nQ 21 -9.765625 23.484375 -3.21875 \nL 25.09375 0.875 \nL 2.984375 54.6875 \nL 12.5 54.6875 \nL 29.59375 11.921875 \nL 46.6875 54.6875 \nL 56.203125 54.6875 \nz\n\" id=\"DejaVuSans-121\"/>\n     <path d=\"M 41.109375 46.296875 \nQ 39.59375 47.171875 37.8125 47.578125 \nQ 36.03125 48 33.890625 48 \nQ 26.265625 48 22.1875 43.046875 \nQ 18.109375 38.09375 18.109375 28.8125 \nL 18.109375 0 \nL 9.078125 0 \nL 9.078125 54.6875 \nL 18.109375 54.6875 \nL 18.109375 46.1875 \nQ 20.953125 51.171875 25.484375 53.578125 \nQ 30.03125 56 36.53125 56 \nQ 37.453125 56 38.578125 55.875 \nQ 39.703125 55.765625 41.0625 55.515625 \nz\n\" id=\"DejaVuSans-114\"/>\n    </defs>\n    <g style=\"fill:#262626;\" transform=\"translate(459.340937 173.358125)scale(0.12 -0.12)\">\n     <use xlink:href=\"#DejaVuSans-104\"/>\n     <use x=\"63.378906\" xlink:href=\"#DejaVuSans-121\"/>\n     <use x=\"122.558594\" xlink:href=\"#DejaVuSans-112\"/>\n     <use x=\"186.035156\" xlink:href=\"#DejaVuSans-101\"/>\n     <use x=\"247.558594\" xlink:href=\"#DejaVuSans-114\"/>\n     <use x=\"288.671875\" xlink:href=\"#DejaVuSans-116\"/>\n     <use x=\"327.880859\" xlink:href=\"#DejaVuSans-101\"/>\n     <use x=\"389.404297\" xlink:href=\"#DejaVuSans-110\"/>\n     <use x=\"452.783203\" xlink:href=\"#DejaVuSans-115\"/>\n     <use x=\"504.882812\" xlink:href=\"#DejaVuSans-105\"/>\n     <use x=\"532.666016\" xlink:href=\"#DejaVuSans-111\"/>\n     <use x=\"593.847656\" xlink:href=\"#DejaVuSans-110\"/>\n    </g>\n   </g>\n  </g>\n  <g id=\"axes_6\">\n   <g id=\"patch_77\">\n    <path d=\"M 697.175 300.158125 \nL 945.175 300.158125 \nL 945.175 179.358125 \nL 697.175 179.358125 \nz\n\" style=\"fill:#ffffff;\"/>\n   </g>\n   <g id=\"matplotlib.axis_11\">\n    <g id=\"xtick_31\">\n     <g id=\"line2d_53\">\n      <path clip-path=\"url(#p82a17c8301)\" d=\"M 708.447727 300.158125 \nL 708.447727 179.358125 \n\" style=\"fill:none;stroke:#cccccc;stroke-linecap:round;stroke-width:0.8;\"/>\n     </g>\n     <g id=\"text_58\">\n      <!-- 0.0 -->\n      <g style=\"fill:#262626;\" transform=\"translate(700.496165 314.756562)scale(0.1 -0.1)\">\n       <use xlink:href=\"#DejaVuSans-48\"/>\n       <use x=\"63.623047\" xlink:href=\"#DejaVuSans-46\"/>\n       <use x=\"95.410156\" xlink:href=\"#DejaVuSans-48\"/>\n      </g>\n     </g>\n    </g>\n    <g id=\"xtick_32\">\n     <g id=\"line2d_54\">\n      <path clip-path=\"url(#p82a17c8301)\" d=\"M 753.538636 300.158125 \nL 753.538636 179.358125 \n\" style=\"fill:none;stroke:#cccccc;stroke-linecap:round;stroke-width:0.8;\"/>\n     </g>\n     <g id=\"text_59\">\n      <!-- 0.2 -->\n      <g style=\"fill:#262626;\" transform=\"translate(745.587074 314.756562)scale(0.1 -0.1)\">\n       <use xlink:href=\"#DejaVuSans-48\"/>\n       <use x=\"63.623047\" xlink:href=\"#DejaVuSans-46\"/>\n       <use x=\"95.410156\" xlink:href=\"#DejaVuSans-50\"/>\n      </g>\n     </g>\n    </g>\n    <g id=\"xtick_33\">\n     <g id=\"line2d_55\">\n      <path clip-path=\"url(#p82a17c8301)\" d=\"M 798.629545 300.158125 \nL 798.629545 179.358125 \n\" style=\"fill:none;stroke:#cccccc;stroke-linecap:round;stroke-width:0.8;\"/>\n     </g>\n     <g id=\"text_60\">\n      <!-- 0.4 -->\n      <g style=\"fill:#262626;\" transform=\"translate(790.677983 314.756562)scale(0.1 -0.1)\">\n       <use xlink:href=\"#DejaVuSans-48\"/>\n       <use x=\"63.623047\" xlink:href=\"#DejaVuSans-46\"/>\n       <use x=\"95.410156\" xlink:href=\"#DejaVuSans-52\"/>\n      </g>\n     </g>\n    </g>\n    <g id=\"xtick_34\">\n     <g id=\"line2d_56\">\n      <path clip-path=\"url(#p82a17c8301)\" d=\"M 843.720455 300.158125 \nL 843.720455 179.358125 \n\" style=\"fill:none;stroke:#cccccc;stroke-linecap:round;stroke-width:0.8;\"/>\n     </g>\n     <g id=\"text_61\">\n      <!-- 0.6 -->\n      <g style=\"fill:#262626;\" transform=\"translate(835.768892 314.756562)scale(0.1 -0.1)\">\n       <use xlink:href=\"#DejaVuSans-48\"/>\n       <use x=\"63.623047\" xlink:href=\"#DejaVuSans-46\"/>\n       <use x=\"95.410156\" xlink:href=\"#DejaVuSans-54\"/>\n      </g>\n     </g>\n    </g>\n    <g id=\"xtick_35\">\n     <g id=\"line2d_57\">\n      <path clip-path=\"url(#p82a17c8301)\" d=\"M 888.811364 300.158125 \nL 888.811364 179.358125 \n\" style=\"fill:none;stroke:#cccccc;stroke-linecap:round;stroke-width:0.8;\"/>\n     </g>\n     <g id=\"text_62\">\n      <!-- 0.8 -->\n      <g style=\"fill:#262626;\" transform=\"translate(880.859801 314.756562)scale(0.1 -0.1)\">\n       <use xlink:href=\"#DejaVuSans-48\"/>\n       <use x=\"63.623047\" xlink:href=\"#DejaVuSans-46\"/>\n       <use x=\"95.410156\" xlink:href=\"#DejaVuSans-56\"/>\n      </g>\n     </g>\n    </g>\n    <g id=\"xtick_36\">\n     <g id=\"line2d_58\">\n      <path clip-path=\"url(#p82a17c8301)\" d=\"M 933.902273 300.158125 \nL 933.902273 179.358125 \n\" style=\"fill:none;stroke:#cccccc;stroke-linecap:round;stroke-width:0.8;\"/>\n     </g>\n     <g id=\"text_63\">\n      <!-- 1.0 -->\n      <g style=\"fill:#262626;\" transform=\"translate(925.95071 314.756562)scale(0.1 -0.1)\">\n       <use xlink:href=\"#DejaVuSans-49\"/>\n       <use x=\"63.623047\" xlink:href=\"#DejaVuSans-46\"/>\n       <use x=\"95.410156\" xlink:href=\"#DejaVuSans-48\"/>\n      </g>\n     </g>\n    </g>\n   </g>\n   <g id=\"matplotlib.axis_12\">\n    <g id=\"ytick_23\">\n     <g id=\"line2d_59\">\n      <path clip-path=\"url(#p82a17c8301)\" d=\"M 697.175 300.158125 \nL 945.175 300.158125 \n\" style=\"fill:none;stroke:#cccccc;stroke-linecap:round;stroke-width:0.8;\"/>\n     </g>\n     <g id=\"text_64\">\n      <!-- 0 -->\n      <g style=\"fill:#262626;\" transform=\"translate(683.8125 303.957344)scale(0.1 -0.1)\">\n       <use xlink:href=\"#DejaVuSans-48\"/>\n      </g>\n     </g>\n    </g>\n    <g id=\"ytick_24\">\n     <g id=\"line2d_60\">\n      <path clip-path=\"url(#p82a17c8301)\" d=\"M 697.175 269.114096 \nL 945.175 269.114096 \n\" style=\"fill:none;stroke:#cccccc;stroke-linecap:round;stroke-width:0.8;\"/>\n     </g>\n     <g id=\"text_65\">\n      <!-- 100000 -->\n      <g style=\"fill:#262626;\" transform=\"translate(652 272.913315)scale(0.1 -0.1)\">\n       <use xlink:href=\"#DejaVuSans-49\"/>\n       <use x=\"63.623047\" xlink:href=\"#DejaVuSans-48\"/>\n       <use x=\"127.246094\" xlink:href=\"#DejaVuSans-48\"/>\n       <use x=\"190.869141\" xlink:href=\"#DejaVuSans-48\"/>\n       <use x=\"254.492188\" xlink:href=\"#DejaVuSans-48\"/>\n       <use x=\"318.115234\" xlink:href=\"#DejaVuSans-48\"/>\n      </g>\n     </g>\n    </g>\n    <g id=\"ytick_25\">\n     <g id=\"line2d_61\">\n      <path clip-path=\"url(#p82a17c8301)\" d=\"M 697.175 238.070067 \nL 945.175 238.070067 \n\" style=\"fill:none;stroke:#cccccc;stroke-linecap:round;stroke-width:0.8;\"/>\n     </g>\n     <g id=\"text_66\">\n      <!-- 200000 -->\n      <g style=\"fill:#262626;\" transform=\"translate(652 241.869286)scale(0.1 -0.1)\">\n       <use xlink:href=\"#DejaVuSans-50\"/>\n       <use x=\"63.623047\" xlink:href=\"#DejaVuSans-48\"/>\n       <use x=\"127.246094\" xlink:href=\"#DejaVuSans-48\"/>\n       <use x=\"190.869141\" xlink:href=\"#DejaVuSans-48\"/>\n       <use x=\"254.492188\" xlink:href=\"#DejaVuSans-48\"/>\n       <use x=\"318.115234\" xlink:href=\"#DejaVuSans-48\"/>\n      </g>\n     </g>\n    </g>\n    <g id=\"ytick_26\">\n     <g id=\"line2d_62\">\n      <path clip-path=\"url(#p82a17c8301)\" d=\"M 697.175 207.026038 \nL 945.175 207.026038 \n\" style=\"fill:none;stroke:#cccccc;stroke-linecap:round;stroke-width:0.8;\"/>\n     </g>\n     <g id=\"text_67\">\n      <!-- 300000 -->\n      <g style=\"fill:#262626;\" transform=\"translate(652 210.825257)scale(0.1 -0.1)\">\n       <use xlink:href=\"#DejaVuSans-51\"/>\n       <use x=\"63.623047\" xlink:href=\"#DejaVuSans-48\"/>\n       <use x=\"127.246094\" xlink:href=\"#DejaVuSans-48\"/>\n       <use x=\"190.869141\" xlink:href=\"#DejaVuSans-48\"/>\n       <use x=\"254.492188\" xlink:href=\"#DejaVuSans-48\"/>\n       <use x=\"318.115234\" xlink:href=\"#DejaVuSans-48\"/>\n      </g>\n     </g>\n    </g>\n   </g>\n   <g id=\"patch_78\">\n    <path clip-path=\"url(#p82a17c8301)\" d=\"M 708.447727 300.158125 \nL 730.993182 300.158125 \nL 730.993182 185.110506 \nL 708.447727 185.110506 \nz\n\" style=\"fill:#1f77b4;stroke:#ffffff;stroke-linejoin:miter;\"/>\n   </g>\n   <g id=\"patch_79\">\n    <path clip-path=\"url(#p82a17c8301)\" d=\"M 730.993182 300.158125 \nL 753.538636 300.158125 \nL 753.538636 300.158125 \nL 730.993182 300.158125 \nz\n\" style=\"fill:#1f77b4;stroke:#ffffff;stroke-linejoin:miter;\"/>\n   </g>\n   <g id=\"patch_80\">\n    <path clip-path=\"url(#p82a17c8301)\" d=\"M 753.538636 300.158125 \nL 776.084091 300.158125 \nL 776.084091 300.158125 \nL 753.538636 300.158125 \nz\n\" style=\"fill:#1f77b4;stroke:#ffffff;stroke-linejoin:miter;\"/>\n   </g>\n   <g id=\"patch_81\">\n    <path clip-path=\"url(#p82a17c8301)\" d=\"M 776.084091 300.158125 \nL 798.629545 300.158125 \nL 798.629545 300.158125 \nL 776.084091 300.158125 \nz\n\" style=\"fill:#1f77b4;stroke:#ffffff;stroke-linejoin:miter;\"/>\n   </g>\n   <g id=\"patch_82\">\n    <path clip-path=\"url(#p82a17c8301)\" d=\"M 798.629545 300.158125 \nL 821.175 300.158125 \nL 821.175 300.158125 \nL 798.629545 300.158125 \nz\n\" style=\"fill:#1f77b4;stroke:#ffffff;stroke-linejoin:miter;\"/>\n   </g>\n   <g id=\"patch_83\">\n    <path clip-path=\"url(#p82a17c8301)\" d=\"M 821.175 300.158125 \nL 843.720455 300.158125 \nL 843.720455 300.158125 \nL 821.175 300.158125 \nz\n\" style=\"fill:#1f77b4;stroke:#ffffff;stroke-linejoin:miter;\"/>\n   </g>\n   <g id=\"patch_84\">\n    <path clip-path=\"url(#p82a17c8301)\" d=\"M 843.720455 300.158125 \nL 866.265909 300.158125 \nL 866.265909 300.158125 \nL 843.720455 300.158125 \nz\n\" style=\"fill:#1f77b4;stroke:#ffffff;stroke-linejoin:miter;\"/>\n   </g>\n   <g id=\"patch_85\">\n    <path clip-path=\"url(#p82a17c8301)\" d=\"M 866.265909 300.158125 \nL 888.811364 300.158125 \nL 888.811364 300.158125 \nL 866.265909 300.158125 \nz\n\" style=\"fill:#1f77b4;stroke:#ffffff;stroke-linejoin:miter;\"/>\n   </g>\n   <g id=\"patch_86\">\n    <path clip-path=\"url(#p82a17c8301)\" d=\"M 888.811364 300.158125 \nL 911.356818 300.158125 \nL 911.356818 300.158125 \nL 888.811364 300.158125 \nz\n\" style=\"fill:#1f77b4;stroke:#ffffff;stroke-linejoin:miter;\"/>\n   </g>\n   <g id=\"patch_87\">\n    <path clip-path=\"url(#p82a17c8301)\" d=\"M 911.356818 300.158125 \nL 933.902273 300.158125 \nL 933.902273 287.761934 \nL 911.356818 287.761934 \nz\n\" style=\"fill:#1f77b4;stroke:#ffffff;stroke-linejoin:miter;\"/>\n   </g>\n   <g id=\"patch_88\">\n    <path d=\"M 697.175 300.158125 \nL 697.175 179.358125 \n\" style=\"fill:none;stroke:#cccccc;stroke-linecap:square;stroke-linejoin:miter;stroke-width:0.8;\"/>\n   </g>\n   <g id=\"patch_89\">\n    <path d=\"M 945.175 300.158125 \nL 945.175 179.358125 \n\" style=\"fill:none;stroke:#cccccc;stroke-linecap:square;stroke-linejoin:miter;stroke-width:0.8;\"/>\n   </g>\n   <g id=\"patch_90\">\n    <path d=\"M 697.175 300.158125 \nL 945.175 300.158125 \n\" style=\"fill:none;stroke:#cccccc;stroke-linecap:square;stroke-linejoin:miter;stroke-width:0.8;\"/>\n   </g>\n   <g id=\"patch_91\">\n    <path d=\"M 697.175 179.358125 \nL 945.175 179.358125 \n\" style=\"fill:none;stroke:#cccccc;stroke-linecap:square;stroke-linejoin:miter;stroke-width:0.8;\"/>\n   </g>\n   <g id=\"text_68\">\n    <!-- scholarship -->\n    <g style=\"fill:#262626;\" transform=\"translate(787.062187 173.358125)scale(0.12 -0.12)\">\n     <use xlink:href=\"#DejaVuSans-115\"/>\n     <use x=\"52.099609\" xlink:href=\"#DejaVuSans-99\"/>\n     <use x=\"107.080078\" xlink:href=\"#DejaVuSans-104\"/>\n     <use x=\"170.458984\" xlink:href=\"#DejaVuSans-111\"/>\n     <use x=\"231.640625\" xlink:href=\"#DejaVuSans-108\"/>\n     <use x=\"259.423828\" xlink:href=\"#DejaVuSans-97\"/>\n     <use x=\"320.703125\" xlink:href=\"#DejaVuSans-114\"/>\n     <use x=\"361.816406\" xlink:href=\"#DejaVuSans-115\"/>\n     <use x=\"413.916016\" xlink:href=\"#DejaVuSans-104\"/>\n     <use x=\"477.294922\" xlink:href=\"#DejaVuSans-105\"/>\n     <use x=\"505.078125\" xlink:href=\"#DejaVuSans-112\"/>\n    </g>\n   </g>\n  </g>\n  <g id=\"axes_7\">\n   <g id=\"patch_92\">\n    <path d=\"M 52.375 457.198125 \nL 300.375 457.198125 \nL 300.375 336.398125 \nL 52.375 336.398125 \nz\n\" style=\"fill:#ffffff;\"/>\n   </g>\n   <g id=\"matplotlib.axis_13\">\n    <g id=\"xtick_37\">\n     <g id=\"line2d_63\">\n      <path clip-path=\"url(#p285682e137)\" d=\"M 63.647727 457.198125 \nL 63.647727 336.398125 \n\" style=\"fill:none;stroke:#cccccc;stroke-linecap:round;stroke-width:0.8;\"/>\n     </g>\n     <g id=\"text_69\">\n      <!-- 0.0 -->\n      <g style=\"fill:#262626;\" transform=\"translate(55.696165 471.796562)scale(0.1 -0.1)\">\n       <use xlink:href=\"#DejaVuSans-48\"/>\n       <use x=\"63.623047\" xlink:href=\"#DejaVuSans-46\"/>\n       <use x=\"95.410156\" xlink:href=\"#DejaVuSans-48\"/>\n      </g>\n     </g>\n    </g>\n    <g id=\"xtick_38\">\n     <g id=\"line2d_64\">\n      <path clip-path=\"url(#p285682e137)\" d=\"M 108.738636 457.198125 \nL 108.738636 336.398125 \n\" style=\"fill:none;stroke:#cccccc;stroke-linecap:round;stroke-width:0.8;\"/>\n     </g>\n     <g id=\"text_70\">\n      <!-- 0.2 -->\n      <g style=\"fill:#262626;\" transform=\"translate(100.787074 471.796562)scale(0.1 -0.1)\">\n       <use xlink:href=\"#DejaVuSans-48\"/>\n       <use x=\"63.623047\" xlink:href=\"#DejaVuSans-46\"/>\n       <use x=\"95.410156\" xlink:href=\"#DejaVuSans-50\"/>\n      </g>\n     </g>\n    </g>\n    <g id=\"xtick_39\">\n     <g id=\"line2d_65\">\n      <path clip-path=\"url(#p285682e137)\" d=\"M 153.829545 457.198125 \nL 153.829545 336.398125 \n\" style=\"fill:none;stroke:#cccccc;stroke-linecap:round;stroke-width:0.8;\"/>\n     </g>\n     <g id=\"text_71\">\n      <!-- 0.4 -->\n      <g style=\"fill:#262626;\" transform=\"translate(145.877983 471.796562)scale(0.1 -0.1)\">\n       <use xlink:href=\"#DejaVuSans-48\"/>\n       <use x=\"63.623047\" xlink:href=\"#DejaVuSans-46\"/>\n       <use x=\"95.410156\" xlink:href=\"#DejaVuSans-52\"/>\n      </g>\n     </g>\n    </g>\n    <g id=\"xtick_40\">\n     <g id=\"line2d_66\">\n      <path clip-path=\"url(#p285682e137)\" d=\"M 198.920455 457.198125 \nL 198.920455 336.398125 \n\" style=\"fill:none;stroke:#cccccc;stroke-linecap:round;stroke-width:0.8;\"/>\n     </g>\n     <g id=\"text_72\">\n      <!-- 0.6 -->\n      <g style=\"fill:#262626;\" transform=\"translate(190.968892 471.796562)scale(0.1 -0.1)\">\n       <use xlink:href=\"#DejaVuSans-48\"/>\n       <use x=\"63.623047\" xlink:href=\"#DejaVuSans-46\"/>\n       <use x=\"95.410156\" xlink:href=\"#DejaVuSans-54\"/>\n      </g>\n     </g>\n    </g>\n    <g id=\"xtick_41\">\n     <g id=\"line2d_67\">\n      <path clip-path=\"url(#p285682e137)\" d=\"M 244.011364 457.198125 \nL 244.011364 336.398125 \n\" style=\"fill:none;stroke:#cccccc;stroke-linecap:round;stroke-width:0.8;\"/>\n     </g>\n     <g id=\"text_73\">\n      <!-- 0.8 -->\n      <g style=\"fill:#262626;\" transform=\"translate(236.059801 471.796562)scale(0.1 -0.1)\">\n       <use xlink:href=\"#DejaVuSans-48\"/>\n       <use x=\"63.623047\" xlink:href=\"#DejaVuSans-46\"/>\n       <use x=\"95.410156\" xlink:href=\"#DejaVuSans-56\"/>\n      </g>\n     </g>\n    </g>\n    <g id=\"xtick_42\">\n     <g id=\"line2d_68\">\n      <path clip-path=\"url(#p285682e137)\" d=\"M 289.102273 457.198125 \nL 289.102273 336.398125 \n\" style=\"fill:none;stroke:#cccccc;stroke-linecap:round;stroke-width:0.8;\"/>\n     </g>\n     <g id=\"text_74\">\n      <!-- 1.0 -->\n      <g style=\"fill:#262626;\" transform=\"translate(281.15071 471.796562)scale(0.1 -0.1)\">\n       <use xlink:href=\"#DejaVuSans-49\"/>\n       <use x=\"63.623047\" xlink:href=\"#DejaVuSans-46\"/>\n       <use x=\"95.410156\" xlink:href=\"#DejaVuSans-48\"/>\n      </g>\n     </g>\n    </g>\n   </g>\n   <g id=\"matplotlib.axis_14\">\n    <g id=\"ytick_27\">\n     <g id=\"line2d_69\">\n      <path clip-path=\"url(#p285682e137)\" d=\"M 52.375 457.198125 \nL 300.375 457.198125 \n\" style=\"fill:none;stroke:#cccccc;stroke-linecap:round;stroke-width:0.8;\"/>\n     </g>\n     <g id=\"text_75\">\n      <!-- 0 -->\n      <g style=\"fill:#262626;\" transform=\"translate(39.0125 460.997344)scale(0.1 -0.1)\">\n       <use xlink:href=\"#DejaVuSans-48\"/>\n      </g>\n     </g>\n    </g>\n    <g id=\"ytick_28\">\n     <g id=\"line2d_70\">\n      <path clip-path=\"url(#p285682e137)\" d=\"M 52.375 430.317338 \nL 300.375 430.317338 \n\" style=\"fill:none;stroke:#cccccc;stroke-linecap:round;stroke-width:0.8;\"/>\n     </g>\n     <g id=\"text_76\">\n      <!-- 50000 -->\n      <defs>\n       <path d=\"M 10.796875 72.90625 \nL 49.515625 72.90625 \nL 49.515625 64.59375 \nL 19.828125 64.59375 \nL 19.828125 46.734375 \nQ 21.96875 47.46875 24.109375 47.828125 \nQ 26.265625 48.1875 28.421875 48.1875 \nQ 40.625 48.1875 47.75 41.5 \nQ 54.890625 34.8125 54.890625 23.390625 \nQ 54.890625 11.625 47.5625 5.09375 \nQ 40.234375 -1.421875 26.90625 -1.421875 \nQ 22.3125 -1.421875 17.546875 -0.640625 \nQ 12.796875 0.140625 7.71875 1.703125 \nL 7.71875 11.625 \nQ 12.109375 9.234375 16.796875 8.0625 \nQ 21.484375 6.890625 26.703125 6.890625 \nQ 35.15625 6.890625 40.078125 11.328125 \nQ 45.015625 15.765625 45.015625 23.390625 \nQ 45.015625 31 40.078125 35.4375 \nQ 35.15625 39.890625 26.703125 39.890625 \nQ 22.75 39.890625 18.8125 39.015625 \nQ 14.890625 38.140625 10.796875 36.28125 \nz\n\" id=\"DejaVuSans-53\"/>\n      </defs>\n      <g style=\"fill:#262626;\" transform=\"translate(13.5625 434.116556)scale(0.1 -0.1)\">\n       <use xlink:href=\"#DejaVuSans-53\"/>\n       <use x=\"63.623047\" xlink:href=\"#DejaVuSans-48\"/>\n       <use x=\"127.246094\" xlink:href=\"#DejaVuSans-48\"/>\n       <use x=\"190.869141\" xlink:href=\"#DejaVuSans-48\"/>\n       <use x=\"254.492188\" xlink:href=\"#DejaVuSans-48\"/>\n      </g>\n     </g>\n    </g>\n    <g id=\"ytick_29\">\n     <g id=\"line2d_71\">\n      <path clip-path=\"url(#p285682e137)\" d=\"M 52.375 403.43655 \nL 300.375 403.43655 \n\" style=\"fill:none;stroke:#cccccc;stroke-linecap:round;stroke-width:0.8;\"/>\n     </g>\n     <g id=\"text_77\">\n      <!-- 100000 -->\n      <g style=\"fill:#262626;\" transform=\"translate(7.2 407.235769)scale(0.1 -0.1)\">\n       <use xlink:href=\"#DejaVuSans-49\"/>\n       <use x=\"63.623047\" xlink:href=\"#DejaVuSans-48\"/>\n       <use x=\"127.246094\" xlink:href=\"#DejaVuSans-48\"/>\n       <use x=\"190.869141\" xlink:href=\"#DejaVuSans-48\"/>\n       <use x=\"254.492188\" xlink:href=\"#DejaVuSans-48\"/>\n       <use x=\"318.115234\" xlink:href=\"#DejaVuSans-48\"/>\n      </g>\n     </g>\n    </g>\n    <g id=\"ytick_30\">\n     <g id=\"line2d_72\">\n      <path clip-path=\"url(#p285682e137)\" d=\"M 52.375 376.555763 \nL 300.375 376.555763 \n\" style=\"fill:none;stroke:#cccccc;stroke-linecap:round;stroke-width:0.8;\"/>\n     </g>\n     <g id=\"text_78\">\n      <!-- 150000 -->\n      <g style=\"fill:#262626;\" transform=\"translate(7.2 380.354982)scale(0.1 -0.1)\">\n       <use xlink:href=\"#DejaVuSans-49\"/>\n       <use x=\"63.623047\" xlink:href=\"#DejaVuSans-53\"/>\n       <use x=\"127.246094\" xlink:href=\"#DejaVuSans-48\"/>\n       <use x=\"190.869141\" xlink:href=\"#DejaVuSans-48\"/>\n       <use x=\"254.492188\" xlink:href=\"#DejaVuSans-48\"/>\n       <use x=\"318.115234\" xlink:href=\"#DejaVuSans-48\"/>\n      </g>\n     </g>\n    </g>\n    <g id=\"ytick_31\">\n     <g id=\"line2d_73\">\n      <path clip-path=\"url(#p285682e137)\" d=\"M 52.375 349.674976 \nL 300.375 349.674976 \n\" style=\"fill:none;stroke:#cccccc;stroke-linecap:round;stroke-width:0.8;\"/>\n     </g>\n     <g id=\"text_79\">\n      <!-- 200000 -->\n      <g style=\"fill:#262626;\" transform=\"translate(7.2 353.474195)scale(0.1 -0.1)\">\n       <use xlink:href=\"#DejaVuSans-50\"/>\n       <use x=\"63.623047\" xlink:href=\"#DejaVuSans-48\"/>\n       <use x=\"127.246094\" xlink:href=\"#DejaVuSans-48\"/>\n       <use x=\"190.869141\" xlink:href=\"#DejaVuSans-48\"/>\n       <use x=\"254.492188\" xlink:href=\"#DejaVuSans-48\"/>\n       <use x=\"318.115234\" xlink:href=\"#DejaVuSans-48\"/>\n      </g>\n     </g>\n    </g>\n   </g>\n   <g id=\"patch_93\">\n    <path clip-path=\"url(#p285682e137)\" d=\"M 63.647727 457.198125 \nL 86.193182 457.198125 \nL 86.193182 342.150506 \nL 63.647727 342.150506 \nz\n\" style=\"fill:#1f77b4;stroke:#ffffff;stroke-linejoin:miter;\"/>\n   </g>\n   <g id=\"patch_94\">\n    <path clip-path=\"url(#p285682e137)\" d=\"M 86.193182 457.198125 \nL 108.738636 457.198125 \nL 108.738636 457.198125 \nL 86.193182 457.198125 \nz\n\" style=\"fill:#1f77b4;stroke:#ffffff;stroke-linejoin:miter;\"/>\n   </g>\n   <g id=\"patch_95\">\n    <path clip-path=\"url(#p285682e137)\" d=\"M 108.738636 457.198125 \nL 131.284091 457.198125 \nL 131.284091 457.198125 \nL 108.738636 457.198125 \nz\n\" style=\"fill:#1f77b4;stroke:#ffffff;stroke-linejoin:miter;\"/>\n   </g>\n   <g id=\"patch_96\">\n    <path clip-path=\"url(#p285682e137)\" d=\"M 131.284091 457.198125 \nL 153.829545 457.198125 \nL 153.829545 457.198125 \nL 131.284091 457.198125 \nz\n\" style=\"fill:#1f77b4;stroke:#ffffff;stroke-linejoin:miter;\"/>\n   </g>\n   <g id=\"patch_97\">\n    <path clip-path=\"url(#p285682e137)\" d=\"M 153.829545 457.198125 \nL 176.375 457.198125 \nL 176.375 457.198125 \nL 153.829545 457.198125 \nz\n\" style=\"fill:#1f77b4;stroke:#ffffff;stroke-linejoin:miter;\"/>\n   </g>\n   <g id=\"patch_98\">\n    <path clip-path=\"url(#p285682e137)\" d=\"M 176.375 457.198125 \nL 198.920455 457.198125 \nL 198.920455 457.198125 \nL 176.375 457.198125 \nz\n\" style=\"fill:#1f77b4;stroke:#ffffff;stroke-linejoin:miter;\"/>\n   </g>\n   <g id=\"patch_99\">\n    <path clip-path=\"url(#p285682e137)\" d=\"M 198.920455 457.198125 \nL 221.465909 457.198125 \nL 221.465909 457.198125 \nL 198.920455 457.198125 \nz\n\" style=\"fill:#1f77b4;stroke:#ffffff;stroke-linejoin:miter;\"/>\n   </g>\n   <g id=\"patch_100\">\n    <path clip-path=\"url(#p285682e137)\" d=\"M 221.465909 457.198125 \nL 244.011364 457.198125 \nL 244.011364 457.198125 \nL 221.465909 457.198125 \nz\n\" style=\"fill:#1f77b4;stroke:#ffffff;stroke-linejoin:miter;\"/>\n   </g>\n   <g id=\"patch_101\">\n    <path clip-path=\"url(#p285682e137)\" d=\"M 244.011364 457.198125 \nL 266.556818 457.198125 \nL 266.556818 457.198125 \nL 244.011364 457.198125 \nz\n\" style=\"fill:#1f77b4;stroke:#ffffff;stroke-linejoin:miter;\"/>\n   </g>\n   <g id=\"patch_102\">\n    <path clip-path=\"url(#p285682e137)\" d=\"M 266.556818 457.198125 \nL 289.102273 457.198125 \nL 289.102273 351.540503 \nL 266.556818 351.540503 \nz\n\" style=\"fill:#1f77b4;stroke:#ffffff;stroke-linejoin:miter;\"/>\n   </g>\n   <g id=\"patch_103\">\n    <path d=\"M 52.375 457.198125 \nL 52.375 336.398125 \n\" style=\"fill:none;stroke:#cccccc;stroke-linecap:square;stroke-linejoin:miter;stroke-width:0.8;\"/>\n   </g>\n   <g id=\"patch_104\">\n    <path d=\"M 300.375 457.198125 \nL 300.375 336.398125 \n\" style=\"fill:none;stroke:#cccccc;stroke-linecap:square;stroke-linejoin:miter;stroke-width:0.8;\"/>\n   </g>\n   <g id=\"patch_105\">\n    <path d=\"M 52.375 457.198125 \nL 300.375 457.198125 \n\" style=\"fill:none;stroke:#cccccc;stroke-linecap:square;stroke-linejoin:miter;stroke-width:0.8;\"/>\n   </g>\n   <g id=\"patch_106\">\n    <path d=\"M 52.375 336.398125 \nL 300.375 336.398125 \n\" style=\"fill:none;stroke:#cccccc;stroke-linecap:square;stroke-linejoin:miter;stroke-width:0.8;\"/>\n   </g>\n   <g id=\"text_80\">\n    <!-- sms_received -->\n    <defs>\n     <path d=\"M 50.984375 -16.609375 \nL 50.984375 -23.578125 \nL -0.984375 -23.578125 \nL -0.984375 -16.609375 \nz\n\" id=\"DejaVuSans-95\"/>\n     <path d=\"M 2.984375 54.6875 \nL 12.5 54.6875 \nL 29.59375 8.796875 \nL 46.6875 54.6875 \nL 56.203125 54.6875 \nL 35.6875 0 \nL 23.484375 0 \nz\n\" id=\"DejaVuSans-118\"/>\n    </defs>\n    <g style=\"fill:#262626;\" transform=\"translate(135.545938 330.398125)scale(0.12 -0.12)\">\n     <use xlink:href=\"#DejaVuSans-115\"/>\n     <use x=\"52.099609\" xlink:href=\"#DejaVuSans-109\"/>\n     <use x=\"149.511719\" xlink:href=\"#DejaVuSans-115\"/>\n     <use x=\"201.611328\" xlink:href=\"#DejaVuSans-95\"/>\n     <use x=\"251.611328\" xlink:href=\"#DejaVuSans-114\"/>\n     <use x=\"290.474609\" xlink:href=\"#DejaVuSans-101\"/>\n     <use x=\"351.998047\" xlink:href=\"#DejaVuSans-99\"/>\n     <use x=\"406.978516\" xlink:href=\"#DejaVuSans-101\"/>\n     <use x=\"468.501953\" xlink:href=\"#DejaVuSans-105\"/>\n     <use x=\"496.285156\" xlink:href=\"#DejaVuSans-118\"/>\n     <use x=\"555.464844\" xlink:href=\"#DejaVuSans-101\"/>\n     <use x=\"616.988281\" xlink:href=\"#DejaVuSans-100\"/>\n    </g>\n   </g>\n  </g>\n </g>\n <defs>\n  <clipPath id=\"p4f3af2962a\">\n   <rect height=\"120.8\" width=\"248\" x=\"52.375\" y=\"22.318125\"/>\n  </clipPath>\n  <clipPath id=\"pc17b126ee4\">\n   <rect height=\"120.8\" width=\"248\" x=\"374.775\" y=\"22.318125\"/>\n  </clipPath>\n  <clipPath id=\"p14bf5a3a00\">\n   <rect height=\"120.8\" width=\"248\" x=\"697.175\" y=\"22.318125\"/>\n  </clipPath>\n  <clipPath id=\"pb6fe2f1863\">\n   <rect height=\"120.8\" width=\"248\" x=\"52.375\" y=\"179.358125\"/>\n  </clipPath>\n  <clipPath id=\"p055c87a0ab\">\n   <rect height=\"120.8\" width=\"248\" x=\"374.775\" y=\"179.358125\"/>\n  </clipPath>\n  <clipPath id=\"p82a17c8301\">\n   <rect height=\"120.8\" width=\"248\" x=\"697.175\" y=\"179.358125\"/>\n  </clipPath>\n  <clipPath id=\"p285682e137\">\n   <rect height=\"120.8\" width=\"248\" x=\"52.375\" y=\"336.398125\"/>\n  </clipPath>\n </defs>\n</svg>\n"
          },
          "metadata": {
            "tags": [],
            "needs_background": "light"
          }
        }
      ]
    },
    {
      "cell_type": "markdown",
      "metadata": {
        "id": "5ZvW-OMtQKm0",
        "colab_type": "text"
      },
      "source": [
        "**Observations so far**\n",
        "1. **age:** Average age is around 37 years. But, age ranges between -2 and 115 years old and corrective action is needed as age cannot below less than 0 and there are very few old people. Need to investigate and take necessary action. \n",
        "2. **handicap:** Handicap has 4 values ranging from 0 to 4 and 75 percent of handicap have 0 value.\n",
        "3. **sms_received:** Around 75% of patients have received sms reminder for their appointment."
      ]
    },
    {
      "cell_type": "markdown",
      "metadata": {
        "id": "FXQwzqXeqSwr",
        "colab_type": "text"
      },
      "source": [
        "Mapping independent 'no_show' variable"
      ]
    },
    {
      "cell_type": "code",
      "metadata": {
        "id": "MalEFugzqRHy",
        "colab_type": "code",
        "colab": {
          "base_uri": "https://localhost:8080/",
          "height": 34
        },
        "outputId": "36d428eb-7d23-4886-f078-a586cf251416"
      },
      "source": [
        "df.no_show.unique()"
      ],
      "execution_count": 13,
      "outputs": [
        {
          "output_type": "execute_result",
          "data": {
            "text/plain": [
              "array(['noshow', 'showup'], dtype=object)"
            ]
          },
          "metadata": {
            "tags": []
          },
          "execution_count": 13
        }
      ]
    },
    {
      "cell_type": "code",
      "metadata": {
        "id": "ZfmH2YYiquiJ",
        "colab_type": "code",
        "colab": {
          "base_uri": "https://localhost:8080/",
          "height": 141
        },
        "outputId": "3df6795c-18da-4041-b6b5-560723f97fec"
      },
      "source": [
        "df['en_no_show'] = df['no_show'].map({'showup': 1, 'noshow': 0})\n",
        "df.head(3)"
      ],
      "execution_count": 79,
      "outputs": [
        {
          "output_type": "execute_result",
          "data": {
            "text/html": [
              "<div>\n",
              "<style scoped>\n",
              "    .dataframe tbody tr th:only-of-type {\n",
              "        vertical-align: middle;\n",
              "    }\n",
              "\n",
              "    .dataframe tbody tr th {\n",
              "        vertical-align: top;\n",
              "    }\n",
              "\n",
              "    .dataframe thead th {\n",
              "        text-align: right;\n",
              "    }\n",
              "</style>\n",
              "<table border=\"1\" class=\"dataframe\">\n",
              "  <thead>\n",
              "    <tr style=\"text-align: right;\">\n",
              "      <th></th>\n",
              "      <th>age</th>\n",
              "      <th>gender</th>\n",
              "      <th>schedule_day</th>\n",
              "      <th>appointment_day</th>\n",
              "      <th>week_day</th>\n",
              "      <th>no_show</th>\n",
              "      <th>diabetes</th>\n",
              "      <th>alcoholism</th>\n",
              "      <th>hypertension</th>\n",
              "      <th>handicap</th>\n",
              "      <th>scholarship</th>\n",
              "      <th>sms_received</th>\n",
              "      <th>en_no_show</th>\n",
              "    </tr>\n",
              "  </thead>\n",
              "  <tbody>\n",
              "    <tr>\n",
              "      <th>0</th>\n",
              "      <td>19</td>\n",
              "      <td>M</td>\n",
              "      <td>2014-12-16T14:46:25Z</td>\n",
              "      <td>2015-01-14T00:00:00Z</td>\n",
              "      <td>Tuesday</td>\n",
              "      <td>noshow</td>\n",
              "      <td>0</td>\n",
              "      <td>0</td>\n",
              "      <td>0</td>\n",
              "      <td>0</td>\n",
              "      <td>0</td>\n",
              "      <td>0</td>\n",
              "      <td>0</td>\n",
              "    </tr>\n",
              "    <tr>\n",
              "      <th>1</th>\n",
              "      <td>24</td>\n",
              "      <td>F</td>\n",
              "      <td>2015-08-18T07:01:26Z</td>\n",
              "      <td>2015-08-19T00:00:00Z</td>\n",
              "      <td>Tuesday</td>\n",
              "      <td>noshow</td>\n",
              "      <td>0</td>\n",
              "      <td>0</td>\n",
              "      <td>0</td>\n",
              "      <td>0</td>\n",
              "      <td>0</td>\n",
              "      <td>0</td>\n",
              "      <td>0</td>\n",
              "    </tr>\n",
              "    <tr>\n",
              "      <th>2</th>\n",
              "      <td>4</td>\n",
              "      <td>F</td>\n",
              "      <td>2014-02-17T12:53:46Z</td>\n",
              "      <td>2014-02-18T00:00:00Z</td>\n",
              "      <td>Monday</td>\n",
              "      <td>noshow</td>\n",
              "      <td>0</td>\n",
              "      <td>0</td>\n",
              "      <td>0</td>\n",
              "      <td>0</td>\n",
              "      <td>0</td>\n",
              "      <td>0</td>\n",
              "      <td>0</td>\n",
              "    </tr>\n",
              "  </tbody>\n",
              "</table>\n",
              "</div>"
            ],
            "text/plain": [
              "   age gender          schedule_day  ... scholarship sms_received en_no_show\n",
              "0   19      M  2014-12-16T14:46:25Z  ...           0            0          0\n",
              "1   24      F  2015-08-18T07:01:26Z  ...           0            0          0\n",
              "2    4      F  2014-02-17T12:53:46Z  ...           0            0          0\n",
              "\n",
              "[3 rows x 13 columns]"
            ]
          },
          "metadata": {
            "tags": []
          },
          "execution_count": 79
        }
      ]
    },
    {
      "cell_type": "code",
      "metadata": {
        "id": "yoVPNJpgtKP_",
        "colab_type": "code",
        "outputId": "d51166da-8ac9-43d2-aec0-04ce9192055c",
        "colab": {
          "base_uri": "https://localhost:8080/",
          "height": 422
        }
      },
      "source": [
        "#checking unique value for no_show column\n",
        "print('Unique values of no-show: ', df.en_no_show.unique(), '\\n')\n",
        "ax = sns.countplot(x='no_show', data =df)\n",
        "ax.set(xlabel=\"no_show\", ylabel = \"count\")"
      ],
      "execution_count": 80,
      "outputs": [
        {
          "output_type": "stream",
          "text": [
            "Unique values of no-show:  [0 1] \n",
            "\n"
          ],
          "name": "stdout"
        },
        {
          "output_type": "execute_result",
          "data": {
            "text/plain": [
              "[Text(0, 0.5, 'count'), Text(0.5, 0, 'no_show')]"
            ]
          },
          "metadata": {
            "tags": []
          },
          "execution_count": 80
        },
        {
          "output_type": "display_data",
          "data": {
            "text/plain": [
              "<Figure size 432x288 with 1 Axes>"
            ],
            "image/svg+xml": "<?xml version=\"1.0\" encoding=\"utf-8\" standalone=\"no\"?>\n<!DOCTYPE svg PUBLIC \"-//W3C//DTD SVG 1.1//EN\"\n  \"http://www.w3.org/Graphics/SVG/1.1/DTD/svg11.dtd\">\n<!-- Created with matplotlib (https://matplotlib.org/) -->\n<svg height=\"262.474375pt\" version=\"1.1\" viewBox=\"0 0 408.053125 262.474375\" width=\"408.053125pt\" xmlns=\"http://www.w3.org/2000/svg\" xmlns:xlink=\"http://www.w3.org/1999/xlink\">\n <defs>\n  <style type=\"text/css\">\n*{stroke-linecap:butt;stroke-linejoin:round;}\n  </style>\n </defs>\n <g id=\"figure_1\">\n  <g id=\"patch_1\">\n   <path d=\"M 0 262.474375 \nL 408.053125 262.474375 \nL 408.053125 0 \nL 0 0 \nz\n\" style=\"fill:none;\"/>\n  </g>\n  <g id=\"axes_1\">\n   <g id=\"patch_2\">\n    <path d=\"M 66.053125 224.64 \nL 400.853125 224.64 \nL 400.853125 7.2 \nL 66.053125 7.2 \nz\n\" style=\"fill:#ffffff;\"/>\n   </g>\n   <g id=\"matplotlib.axis_1\">\n    <g id=\"xtick_1\">\n     <g id=\"text_1\">\n      <!-- noshow -->\n      <defs>\n       <path d=\"M 54.890625 33.015625 \nL 54.890625 0 \nL 45.90625 0 \nL 45.90625 32.71875 \nQ 45.90625 40.484375 42.875 44.328125 \nQ 39.84375 48.1875 33.796875 48.1875 \nQ 26.515625 48.1875 22.3125 43.546875 \nQ 18.109375 38.921875 18.109375 30.90625 \nL 18.109375 0 \nL 9.078125 0 \nL 9.078125 54.6875 \nL 18.109375 54.6875 \nL 18.109375 46.1875 \nQ 21.34375 51.125 25.703125 53.5625 \nQ 30.078125 56 35.796875 56 \nQ 45.21875 56 50.046875 50.171875 \nQ 54.890625 44.34375 54.890625 33.015625 \nz\n\" id=\"DejaVuSans-110\"/>\n       <path d=\"M 30.609375 48.390625 \nQ 23.390625 48.390625 19.1875 42.75 \nQ 14.984375 37.109375 14.984375 27.296875 \nQ 14.984375 17.484375 19.15625 11.84375 \nQ 23.34375 6.203125 30.609375 6.203125 \nQ 37.796875 6.203125 41.984375 11.859375 \nQ 46.1875 17.53125 46.1875 27.296875 \nQ 46.1875 37.015625 41.984375 42.703125 \nQ 37.796875 48.390625 30.609375 48.390625 \nz\nM 30.609375 56 \nQ 42.328125 56 49.015625 48.375 \nQ 55.71875 40.765625 55.71875 27.296875 \nQ 55.71875 13.875 49.015625 6.21875 \nQ 42.328125 -1.421875 30.609375 -1.421875 \nQ 18.84375 -1.421875 12.171875 6.21875 \nQ 5.515625 13.875 5.515625 27.296875 \nQ 5.515625 40.765625 12.171875 48.375 \nQ 18.84375 56 30.609375 56 \nz\n\" id=\"DejaVuSans-111\"/>\n       <path d=\"M 44.28125 53.078125 \nL 44.28125 44.578125 \nQ 40.484375 46.53125 36.375 47.5 \nQ 32.28125 48.484375 27.875 48.484375 \nQ 21.1875 48.484375 17.84375 46.4375 \nQ 14.5 44.390625 14.5 40.28125 \nQ 14.5 37.15625 16.890625 35.375 \nQ 19.28125 33.59375 26.515625 31.984375 \nL 29.59375 31.296875 \nQ 39.15625 29.25 43.1875 25.515625 \nQ 47.21875 21.78125 47.21875 15.09375 \nQ 47.21875 7.46875 41.1875 3.015625 \nQ 35.15625 -1.421875 24.609375 -1.421875 \nQ 20.21875 -1.421875 15.453125 -0.5625 \nQ 10.6875 0.296875 5.421875 2 \nL 5.421875 11.28125 \nQ 10.40625 8.6875 15.234375 7.390625 \nQ 20.0625 6.109375 24.8125 6.109375 \nQ 31.15625 6.109375 34.5625 8.28125 \nQ 37.984375 10.453125 37.984375 14.40625 \nQ 37.984375 18.0625 35.515625 20.015625 \nQ 33.0625 21.96875 24.703125 23.78125 \nL 21.578125 24.515625 \nQ 13.234375 26.265625 9.515625 29.90625 \nQ 5.8125 33.546875 5.8125 39.890625 \nQ 5.8125 47.609375 11.28125 51.796875 \nQ 16.75 56 26.8125 56 \nQ 31.78125 56 36.171875 55.265625 \nQ 40.578125 54.546875 44.28125 53.078125 \nz\n\" id=\"DejaVuSans-115\"/>\n       <path d=\"M 54.890625 33.015625 \nL 54.890625 0 \nL 45.90625 0 \nL 45.90625 32.71875 \nQ 45.90625 40.484375 42.875 44.328125 \nQ 39.84375 48.1875 33.796875 48.1875 \nQ 26.515625 48.1875 22.3125 43.546875 \nQ 18.109375 38.921875 18.109375 30.90625 \nL 18.109375 0 \nL 9.078125 0 \nL 9.078125 75.984375 \nL 18.109375 75.984375 \nL 18.109375 46.1875 \nQ 21.34375 51.125 25.703125 53.5625 \nQ 30.078125 56 35.796875 56 \nQ 45.21875 56 50.046875 50.171875 \nQ 54.890625 44.34375 54.890625 33.015625 \nz\n\" id=\"DejaVuSans-104\"/>\n       <path d=\"M 4.203125 54.6875 \nL 13.1875 54.6875 \nL 24.421875 12.015625 \nL 35.59375 54.6875 \nL 46.1875 54.6875 \nL 57.421875 12.015625 \nL 68.609375 54.6875 \nL 77.59375 54.6875 \nL 63.28125 0 \nL 52.6875 0 \nL 40.921875 44.828125 \nL 29.109375 0 \nL 18.5 0 \nz\n\" id=\"DejaVuSans-119\"/>\n      </defs>\n      <g style=\"fill:#262626;\" transform=\"translate(130.603125 239.238438)scale(0.1 -0.1)\">\n       <use xlink:href=\"#DejaVuSans-110\"/>\n       <use x=\"63.378906\" xlink:href=\"#DejaVuSans-111\"/>\n       <use x=\"124.560547\" xlink:href=\"#DejaVuSans-115\"/>\n       <use x=\"176.660156\" xlink:href=\"#DejaVuSans-104\"/>\n       <use x=\"240.039062\" xlink:href=\"#DejaVuSans-111\"/>\n       <use x=\"301.220703\" xlink:href=\"#DejaVuSans-119\"/>\n      </g>\n     </g>\n    </g>\n    <g id=\"xtick_2\">\n     <g id=\"text_2\">\n      <!-- showup -->\n      <defs>\n       <path d=\"M 8.5 21.578125 \nL 8.5 54.6875 \nL 17.484375 54.6875 \nL 17.484375 21.921875 \nQ 17.484375 14.15625 20.5 10.265625 \nQ 23.53125 6.390625 29.59375 6.390625 \nQ 36.859375 6.390625 41.078125 11.03125 \nQ 45.3125 15.671875 45.3125 23.6875 \nL 45.3125 54.6875 \nL 54.296875 54.6875 \nL 54.296875 0 \nL 45.3125 0 \nL 45.3125 8.40625 \nQ 42.046875 3.421875 37.71875 1 \nQ 33.40625 -1.421875 27.6875 -1.421875 \nQ 18.265625 -1.421875 13.375 4.4375 \nQ 8.5 10.296875 8.5 21.578125 \nz\nM 31.109375 56 \nz\n\" id=\"DejaVuSans-117\"/>\n       <path d=\"M 18.109375 8.203125 \nL 18.109375 -20.796875 \nL 9.078125 -20.796875 \nL 9.078125 54.6875 \nL 18.109375 54.6875 \nL 18.109375 46.390625 \nQ 20.953125 51.265625 25.265625 53.625 \nQ 29.59375 56 35.59375 56 \nQ 45.5625 56 51.78125 48.09375 \nQ 58.015625 40.1875 58.015625 27.296875 \nQ 58.015625 14.40625 51.78125 6.484375 \nQ 45.5625 -1.421875 35.59375 -1.421875 \nQ 29.59375 -1.421875 25.265625 0.953125 \nQ 20.953125 3.328125 18.109375 8.203125 \nz\nM 48.6875 27.296875 \nQ 48.6875 37.203125 44.609375 42.84375 \nQ 40.53125 48.484375 33.40625 48.484375 \nQ 26.265625 48.484375 22.1875 42.84375 \nQ 18.109375 37.203125 18.109375 27.296875 \nQ 18.109375 17.390625 22.1875 11.75 \nQ 26.265625 6.109375 33.40625 6.109375 \nQ 40.53125 6.109375 44.609375 11.75 \nQ 48.6875 17.390625 48.6875 27.296875 \nz\n\" id=\"DejaVuSans-112\"/>\n      </defs>\n      <g style=\"fill:#262626;\" transform=\"translate(297.888281 239.238438)scale(0.1 -0.1)\">\n       <use xlink:href=\"#DejaVuSans-115\"/>\n       <use x=\"52.099609\" xlink:href=\"#DejaVuSans-104\"/>\n       <use x=\"115.478516\" xlink:href=\"#DejaVuSans-111\"/>\n       <use x=\"176.660156\" xlink:href=\"#DejaVuSans-119\"/>\n       <use x=\"258.447266\" xlink:href=\"#DejaVuSans-117\"/>\n       <use x=\"321.826172\" xlink:href=\"#DejaVuSans-112\"/>\n      </g>\n     </g>\n    </g>\n    <g id=\"text_3\">\n     <!-- no_show -->\n     <defs>\n      <path d=\"M 50.984375 -16.609375 \nL 50.984375 -23.578125 \nL -0.984375 -23.578125 \nL -0.984375 -16.609375 \nz\n\" id=\"DejaVuSans-95\"/>\n     </defs>\n     <g style=\"fill:#262626;\" transform=\"translate(211.803125 252.916562)scale(0.1 -0.1)\">\n      <use xlink:href=\"#DejaVuSans-110\"/>\n      <use x=\"63.378906\" xlink:href=\"#DejaVuSans-111\"/>\n      <use x=\"124.560547\" xlink:href=\"#DejaVuSans-95\"/>\n      <use x=\"174.560547\" xlink:href=\"#DejaVuSans-115\"/>\n      <use x=\"226.660156\" xlink:href=\"#DejaVuSans-104\"/>\n      <use x=\"290.039062\" xlink:href=\"#DejaVuSans-111\"/>\n      <use x=\"351.220703\" xlink:href=\"#DejaVuSans-119\"/>\n     </g>\n    </g>\n   </g>\n   <g id=\"matplotlib.axis_2\">\n    <g id=\"ytick_1\">\n     <g id=\"line2d_1\">\n      <path clip-path=\"url(#p1880b9af03)\" d=\"M 66.053125 224.64 \nL 400.853125 224.64 \n\" style=\"fill:none;stroke:#cccccc;stroke-linecap:round;stroke-width:0.8;\"/>\n     </g>\n     <g id=\"text_4\">\n      <!-- 0 -->\n      <defs>\n       <path d=\"M 31.78125 66.40625 \nQ 24.171875 66.40625 20.328125 58.90625 \nQ 16.5 51.421875 16.5 36.375 \nQ 16.5 21.390625 20.328125 13.890625 \nQ 24.171875 6.390625 31.78125 6.390625 \nQ 39.453125 6.390625 43.28125 13.890625 \nQ 47.125 21.390625 47.125 36.375 \nQ 47.125 51.421875 43.28125 58.90625 \nQ 39.453125 66.40625 31.78125 66.40625 \nz\nM 31.78125 74.21875 \nQ 44.046875 74.21875 50.515625 64.515625 \nQ 56.984375 54.828125 56.984375 36.375 \nQ 56.984375 17.96875 50.515625 8.265625 \nQ 44.046875 -1.421875 31.78125 -1.421875 \nQ 19.53125 -1.421875 13.0625 8.265625 \nQ 6.59375 17.96875 6.59375 36.375 \nQ 6.59375 54.828125 13.0625 64.515625 \nQ 19.53125 74.21875 31.78125 74.21875 \nz\n\" id=\"DejaVuSans-48\"/>\n      </defs>\n      <g style=\"fill:#262626;\" transform=\"translate(52.690625 228.439219)scale(0.1 -0.1)\">\n       <use xlink:href=\"#DejaVuSans-48\"/>\n      </g>\n     </g>\n    </g>\n    <g id=\"ytick_2\">\n     <g id=\"line2d_2\">\n      <path clip-path=\"url(#p1880b9af03)\" d=\"M 66.053125 179.929866 \nL 400.853125 179.929866 \n\" style=\"fill:none;stroke:#cccccc;stroke-linecap:round;stroke-width:0.8;\"/>\n     </g>\n     <g id=\"text_5\">\n      <!-- 50000 -->\n      <defs>\n       <path d=\"M 10.796875 72.90625 \nL 49.515625 72.90625 \nL 49.515625 64.59375 \nL 19.828125 64.59375 \nL 19.828125 46.734375 \nQ 21.96875 47.46875 24.109375 47.828125 \nQ 26.265625 48.1875 28.421875 48.1875 \nQ 40.625 48.1875 47.75 41.5 \nQ 54.890625 34.8125 54.890625 23.390625 \nQ 54.890625 11.625 47.5625 5.09375 \nQ 40.234375 -1.421875 26.90625 -1.421875 \nQ 22.3125 -1.421875 17.546875 -0.640625 \nQ 12.796875 0.140625 7.71875 1.703125 \nL 7.71875 11.625 \nQ 12.109375 9.234375 16.796875 8.0625 \nQ 21.484375 6.890625 26.703125 6.890625 \nQ 35.15625 6.890625 40.078125 11.328125 \nQ 45.015625 15.765625 45.015625 23.390625 \nQ 45.015625 31 40.078125 35.4375 \nQ 35.15625 39.890625 26.703125 39.890625 \nQ 22.75 39.890625 18.8125 39.015625 \nQ 14.890625 38.140625 10.796875 36.28125 \nz\n\" id=\"DejaVuSans-53\"/>\n      </defs>\n      <g style=\"fill:#262626;\" transform=\"translate(27.240625 183.729085)scale(0.1 -0.1)\">\n       <use xlink:href=\"#DejaVuSans-53\"/>\n       <use x=\"63.623047\" xlink:href=\"#DejaVuSans-48\"/>\n       <use x=\"127.246094\" xlink:href=\"#DejaVuSans-48\"/>\n       <use x=\"190.869141\" xlink:href=\"#DejaVuSans-48\"/>\n       <use x=\"254.492188\" xlink:href=\"#DejaVuSans-48\"/>\n      </g>\n     </g>\n    </g>\n    <g id=\"ytick_3\">\n     <g id=\"line2d_3\">\n      <path clip-path=\"url(#p1880b9af03)\" d=\"M 66.053125 135.219733 \nL 400.853125 135.219733 \n\" style=\"fill:none;stroke:#cccccc;stroke-linecap:round;stroke-width:0.8;\"/>\n     </g>\n     <g id=\"text_6\">\n      <!-- 100000 -->\n      <defs>\n       <path d=\"M 12.40625 8.296875 \nL 28.515625 8.296875 \nL 28.515625 63.921875 \nL 10.984375 60.40625 \nL 10.984375 69.390625 \nL 28.421875 72.90625 \nL 38.28125 72.90625 \nL 38.28125 8.296875 \nL 54.390625 8.296875 \nL 54.390625 0 \nL 12.40625 0 \nz\n\" id=\"DejaVuSans-49\"/>\n      </defs>\n      <g style=\"fill:#262626;\" transform=\"translate(20.878125 139.018952)scale(0.1 -0.1)\">\n       <use xlink:href=\"#DejaVuSans-49\"/>\n       <use x=\"63.623047\" xlink:href=\"#DejaVuSans-48\"/>\n       <use x=\"127.246094\" xlink:href=\"#DejaVuSans-48\"/>\n       <use x=\"190.869141\" xlink:href=\"#DejaVuSans-48\"/>\n       <use x=\"254.492188\" xlink:href=\"#DejaVuSans-48\"/>\n       <use x=\"318.115234\" xlink:href=\"#DejaVuSans-48\"/>\n      </g>\n     </g>\n    </g>\n    <g id=\"ytick_4\">\n     <g id=\"line2d_4\">\n      <path clip-path=\"url(#p1880b9af03)\" d=\"M 66.053125 90.509599 \nL 400.853125 90.509599 \n\" style=\"fill:none;stroke:#cccccc;stroke-linecap:round;stroke-width:0.8;\"/>\n     </g>\n     <g id=\"text_7\">\n      <!-- 150000 -->\n      <g style=\"fill:#262626;\" transform=\"translate(20.878125 94.308818)scale(0.1 -0.1)\">\n       <use xlink:href=\"#DejaVuSans-49\"/>\n       <use x=\"63.623047\" xlink:href=\"#DejaVuSans-53\"/>\n       <use x=\"127.246094\" xlink:href=\"#DejaVuSans-48\"/>\n       <use x=\"190.869141\" xlink:href=\"#DejaVuSans-48\"/>\n       <use x=\"254.492188\" xlink:href=\"#DejaVuSans-48\"/>\n       <use x=\"318.115234\" xlink:href=\"#DejaVuSans-48\"/>\n      </g>\n     </g>\n    </g>\n    <g id=\"ytick_5\">\n     <g id=\"line2d_5\">\n      <path clip-path=\"url(#p1880b9af03)\" d=\"M 66.053125 45.799466 \nL 400.853125 45.799466 \n\" style=\"fill:none;stroke:#cccccc;stroke-linecap:round;stroke-width:0.8;\"/>\n     </g>\n     <g id=\"text_8\">\n      <!-- 200000 -->\n      <defs>\n       <path d=\"M 19.1875 8.296875 \nL 53.609375 8.296875 \nL 53.609375 0 \nL 7.328125 0 \nL 7.328125 8.296875 \nQ 12.9375 14.109375 22.625 23.890625 \nQ 32.328125 33.6875 34.8125 36.53125 \nQ 39.546875 41.84375 41.421875 45.53125 \nQ 43.3125 49.21875 43.3125 52.78125 \nQ 43.3125 58.59375 39.234375 62.25 \nQ 35.15625 65.921875 28.609375 65.921875 \nQ 23.96875 65.921875 18.8125 64.3125 \nQ 13.671875 62.703125 7.8125 59.421875 \nL 7.8125 69.390625 \nQ 13.765625 71.78125 18.9375 73 \nQ 24.125 74.21875 28.421875 74.21875 \nQ 39.75 74.21875 46.484375 68.546875 \nQ 53.21875 62.890625 53.21875 53.421875 \nQ 53.21875 48.921875 51.53125 44.890625 \nQ 49.859375 40.875 45.40625 35.40625 \nQ 44.1875 33.984375 37.640625 27.21875 \nQ 31.109375 20.453125 19.1875 8.296875 \nz\n\" id=\"DejaVuSans-50\"/>\n      </defs>\n      <g style=\"fill:#262626;\" transform=\"translate(20.878125 49.598684)scale(0.1 -0.1)\">\n       <use xlink:href=\"#DejaVuSans-50\"/>\n       <use x=\"63.623047\" xlink:href=\"#DejaVuSans-48\"/>\n       <use x=\"127.246094\" xlink:href=\"#DejaVuSans-48\"/>\n       <use x=\"190.869141\" xlink:href=\"#DejaVuSans-48\"/>\n       <use x=\"254.492188\" xlink:href=\"#DejaVuSans-48\"/>\n       <use x=\"318.115234\" xlink:href=\"#DejaVuSans-48\"/>\n      </g>\n     </g>\n    </g>\n    <g id=\"text_9\">\n     <!-- count -->\n     <defs>\n      <path d=\"M 48.78125 52.59375 \nL 48.78125 44.1875 \nQ 44.96875 46.296875 41.140625 47.34375 \nQ 37.3125 48.390625 33.40625 48.390625 \nQ 24.65625 48.390625 19.8125 42.84375 \nQ 14.984375 37.3125 14.984375 27.296875 \nQ 14.984375 17.28125 19.8125 11.734375 \nQ 24.65625 6.203125 33.40625 6.203125 \nQ 37.3125 6.203125 41.140625 7.25 \nQ 44.96875 8.296875 48.78125 10.40625 \nL 48.78125 2.09375 \nQ 45.015625 0.34375 40.984375 -0.53125 \nQ 36.96875 -1.421875 32.421875 -1.421875 \nQ 20.0625 -1.421875 12.78125 6.34375 \nQ 5.515625 14.109375 5.515625 27.296875 \nQ 5.515625 40.671875 12.859375 48.328125 \nQ 20.21875 56 33.015625 56 \nQ 37.15625 56 41.109375 55.140625 \nQ 45.0625 54.296875 48.78125 52.59375 \nz\n\" id=\"DejaVuSans-99\"/>\n      <path d=\"M 18.3125 70.21875 \nL 18.3125 54.6875 \nL 36.8125 54.6875 \nL 36.8125 47.703125 \nL 18.3125 47.703125 \nL 18.3125 18.015625 \nQ 18.3125 11.328125 20.140625 9.421875 \nQ 21.96875 7.515625 27.59375 7.515625 \nL 36.8125 7.515625 \nL 36.8125 0 \nL 27.59375 0 \nQ 17.1875 0 13.234375 3.875 \nQ 9.28125 7.765625 9.28125 18.015625 \nL 9.28125 47.703125 \nL 2.6875 47.703125 \nL 2.6875 54.6875 \nL 9.28125 54.6875 \nL 9.28125 70.21875 \nz\n\" id=\"DejaVuSans-116\"/>\n     </defs>\n     <g style=\"fill:#262626;\" transform=\"translate(14.798438 130.02625)rotate(-90)scale(0.1 -0.1)\">\n      <use xlink:href=\"#DejaVuSans-99\"/>\n      <use x=\"54.980469\" xlink:href=\"#DejaVuSans-111\"/>\n      <use x=\"116.162109\" xlink:href=\"#DejaVuSans-117\"/>\n      <use x=\"179.541016\" xlink:href=\"#DejaVuSans-110\"/>\n      <use x=\"242.919922\" xlink:href=\"#DejaVuSans-116\"/>\n     </g>\n    </g>\n   </g>\n   <g id=\"patch_3\">\n    <path clip-path=\"url(#p1880b9af03)\" d=\"M 82.793125 224.64 \nL 216.713125 224.64 \nL 216.713125 17.554286 \nL 82.793125 17.554286 \nz\n\" style=\"fill:#3274a1;stroke:#ffffff;stroke-linejoin:miter;\"/>\n   </g>\n   <g id=\"patch_4\">\n    <path clip-path=\"url(#p1880b9af03)\" d=\"M 250.193125 224.64 \nL 384.113125 224.64 \nL 384.113125 64.632268 \nL 250.193125 64.632268 \nz\n\" style=\"fill:#e1812c;stroke:#ffffff;stroke-linejoin:miter;\"/>\n   </g>\n   <g id=\"patch_5\">\n    <path d=\"M 66.053125 224.64 \nL 66.053125 7.2 \n\" style=\"fill:none;stroke:#cccccc;stroke-linecap:square;stroke-linejoin:miter;stroke-width:0.8;\"/>\n   </g>\n   <g id=\"patch_6\">\n    <path d=\"M 400.853125 224.64 \nL 400.853125 7.2 \n\" style=\"fill:none;stroke:#cccccc;stroke-linecap:square;stroke-linejoin:miter;stroke-width:0.8;\"/>\n   </g>\n   <g id=\"patch_7\">\n    <path d=\"M 66.053125 224.64 \nL 400.853125 224.64 \n\" style=\"fill:none;stroke:#cccccc;stroke-linecap:square;stroke-linejoin:miter;stroke-width:0.8;\"/>\n   </g>\n   <g id=\"patch_8\">\n    <path d=\"M 66.053125 7.2 \nL 400.853125 7.2 \n\" style=\"fill:none;stroke:#cccccc;stroke-linecap:square;stroke-linejoin:miter;stroke-width:0.8;\"/>\n   </g>\n  </g>\n </g>\n <defs>\n  <clipPath id=\"p1880b9af03\">\n   <rect height=\"217.44\" width=\"334.8\" x=\"66.053125\" y=\"7.2\"/>\n  </clipPath>\n </defs>\n</svg>\n"
          },
          "metadata": {
            "tags": [],
            "needs_background": "light"
          }
        }
      ]
    },
    {
      "cell_type": "markdown",
      "metadata": {
        "id": "U3zF3oYpb6Qw",
        "colab_type": "text"
      },
      "source": [
        "Updating Age values"
      ]
    },
    {
      "cell_type": "code",
      "metadata": {
        "id": "g6d4pTP1cSOs",
        "colab_type": "code",
        "outputId": "d53a29f0-8c52-4d62-d3b9-e855528c2731",
        "colab": {
          "base_uri": "https://localhost:8080/",
          "height": 460
        }
      },
      "source": [
        "#checking uniques age values\n",
        "print (\"Age range: \", sorted(df['age'].unique()))\n",
        "\n",
        "\n",
        "#Plotting graph for age \n",
        "print('\\n\\n Age Distribution')\n",
        "sns.distplot(df['age'], hist=True, kde=False, color = 'blue')\n",
        "plt.show()"
      ],
      "execution_count": 81,
      "outputs": [
        {
          "output_type": "stream",
          "text": [
            "Age range:  [-2, -1, 0, 1, 2, 3, 4, 5, 6, 7, 8, 9, 10, 11, 12, 13, 14, 15, 16, 17, 18, 19, 20, 21, 22, 23, 24, 25, 26, 27, 28, 29, 30, 31, 32, 33, 34, 35, 36, 37, 38, 39, 40, 41, 42, 43, 44, 45, 46, 47, 48, 49, 50, 51, 52, 53, 54, 55, 56, 57, 58, 59, 60, 61, 62, 63, 64, 65, 66, 67, 68, 69, 70, 71, 72, 73, 74, 75, 76, 77, 78, 79, 80, 81, 82, 83, 84, 85, 86, 87, 88, 89, 90, 91, 92, 93, 94, 95, 96, 97, 98, 99, 100, 101, 102, 103, 104, 108, 113, 115]\n",
            "\n",
            "\n",
            " Age Distribution\n"
          ],
          "name": "stdout"
        },
        {
          "output_type": "display_data",
          "data": {
            "text/plain": [
              "<Figure size 432x288 with 1 Axes>"
            ],
            "image/svg+xml": "<?xml version=\"1.0\" encoding=\"utf-8\" standalone=\"no\"?>\n<!DOCTYPE svg PUBLIC \"-//W3C//DTD SVG 1.1//EN\"\n  \"http://www.w3.org/Graphics/SVG/1.1/DTD/svg11.dtd\">\n<!-- Created with matplotlib (https://matplotlib.org/) -->\n<svg height=\"262.19625pt\" version=\"1.1\" viewBox=\"0 0 395.345061 262.19625\" width=\"395.345061pt\" xmlns=\"http://www.w3.org/2000/svg\" xmlns:xlink=\"http://www.w3.org/1999/xlink\">\n <defs>\n  <style type=\"text/css\">\n*{stroke-linecap:butt;stroke-linejoin:round;}\n  </style>\n </defs>\n <g id=\"figure_1\">\n  <g id=\"patch_1\">\n   <path d=\"M 0 262.19625 \nL 395.345061 262.19625 \nL 395.345061 0 \nL 0 0 \nz\n\" style=\"fill:none;\"/>\n  </g>\n  <g id=\"axes_1\">\n   <g id=\"patch_2\">\n    <path d=\"M 46.0125 224.64 \nL 380.8125 224.64 \nL 380.8125 7.2 \nL 46.0125 7.2 \nz\n\" style=\"fill:#ffffff;\"/>\n   </g>\n   <g id=\"matplotlib.axis_1\">\n    <g id=\"xtick_1\">\n     <g id=\"line2d_1\">\n      <path clip-path=\"url(#pa0b931bc04)\" d=\"M 66.433479 224.64 \nL 66.433479 7.2 \n\" style=\"fill:none;stroke:#cccccc;stroke-linecap:round;stroke-width:0.8;\"/>\n     </g>\n     <g id=\"text_1\">\n      <!-- 0 -->\n      <defs>\n       <path d=\"M 31.78125 66.40625 \nQ 24.171875 66.40625 20.328125 58.90625 \nQ 16.5 51.421875 16.5 36.375 \nQ 16.5 21.390625 20.328125 13.890625 \nQ 24.171875 6.390625 31.78125 6.390625 \nQ 39.453125 6.390625 43.28125 13.890625 \nQ 47.125 21.390625 47.125 36.375 \nQ 47.125 51.421875 43.28125 58.90625 \nQ 39.453125 66.40625 31.78125 66.40625 \nz\nM 31.78125 74.21875 \nQ 44.046875 74.21875 50.515625 64.515625 \nQ 56.984375 54.828125 56.984375 36.375 \nQ 56.984375 17.96875 50.515625 8.265625 \nQ 44.046875 -1.421875 31.78125 -1.421875 \nQ 19.53125 -1.421875 13.0625 8.265625 \nQ 6.59375 17.96875 6.59375 36.375 \nQ 6.59375 54.828125 13.0625 64.515625 \nQ 19.53125 74.21875 31.78125 74.21875 \nz\n\" id=\"DejaVuSans-48\"/>\n      </defs>\n      <g style=\"fill:#262626;\" transform=\"translate(63.252229 239.238437)scale(0.1 -0.1)\">\n       <use xlink:href=\"#DejaVuSans-48\"/>\n      </g>\n     </g>\n    </g>\n    <g id=\"xtick_2\">\n     <g id=\"line2d_2\">\n      <path clip-path=\"url(#pa0b931bc04)\" d=\"M 118.461451 224.64 \nL 118.461451 7.2 \n\" style=\"fill:none;stroke:#cccccc;stroke-linecap:round;stroke-width:0.8;\"/>\n     </g>\n     <g id=\"text_2\">\n      <!-- 20 -->\n      <defs>\n       <path d=\"M 19.1875 8.296875 \nL 53.609375 8.296875 \nL 53.609375 0 \nL 7.328125 0 \nL 7.328125 8.296875 \nQ 12.9375 14.109375 22.625 23.890625 \nQ 32.328125 33.6875 34.8125 36.53125 \nQ 39.546875 41.84375 41.421875 45.53125 \nQ 43.3125 49.21875 43.3125 52.78125 \nQ 43.3125 58.59375 39.234375 62.25 \nQ 35.15625 65.921875 28.609375 65.921875 \nQ 23.96875 65.921875 18.8125 64.3125 \nQ 13.671875 62.703125 7.8125 59.421875 \nL 7.8125 69.390625 \nQ 13.765625 71.78125 18.9375 73 \nQ 24.125 74.21875 28.421875 74.21875 \nQ 39.75 74.21875 46.484375 68.546875 \nQ 53.21875 62.890625 53.21875 53.421875 \nQ 53.21875 48.921875 51.53125 44.890625 \nQ 49.859375 40.875 45.40625 35.40625 \nQ 44.1875 33.984375 37.640625 27.21875 \nQ 31.109375 20.453125 19.1875 8.296875 \nz\n\" id=\"DejaVuSans-50\"/>\n      </defs>\n      <g style=\"fill:#262626;\" transform=\"translate(112.098951 239.238437)scale(0.1 -0.1)\">\n       <use xlink:href=\"#DejaVuSans-50\"/>\n       <use x=\"63.623047\" xlink:href=\"#DejaVuSans-48\"/>\n      </g>\n     </g>\n    </g>\n    <g id=\"xtick_3\">\n     <g id=\"line2d_3\">\n      <path clip-path=\"url(#pa0b931bc04)\" d=\"M 170.489423 224.64 \nL 170.489423 7.2 \n\" style=\"fill:none;stroke:#cccccc;stroke-linecap:round;stroke-width:0.8;\"/>\n     </g>\n     <g id=\"text_3\">\n      <!-- 40 -->\n      <defs>\n       <path d=\"M 37.796875 64.3125 \nL 12.890625 25.390625 \nL 37.796875 25.390625 \nz\nM 35.203125 72.90625 \nL 47.609375 72.90625 \nL 47.609375 25.390625 \nL 58.015625 25.390625 \nL 58.015625 17.1875 \nL 47.609375 17.1875 \nL 47.609375 0 \nL 37.796875 0 \nL 37.796875 17.1875 \nL 4.890625 17.1875 \nL 4.890625 26.703125 \nz\n\" id=\"DejaVuSans-52\"/>\n      </defs>\n      <g style=\"fill:#262626;\" transform=\"translate(164.126923 239.238437)scale(0.1 -0.1)\">\n       <use xlink:href=\"#DejaVuSans-52\"/>\n       <use x=\"63.623047\" xlink:href=\"#DejaVuSans-48\"/>\n      </g>\n     </g>\n    </g>\n    <g id=\"xtick_4\">\n     <g id=\"line2d_4\">\n      <path clip-path=\"url(#pa0b931bc04)\" d=\"M 222.517395 224.64 \nL 222.517395 7.2 \n\" style=\"fill:none;stroke:#cccccc;stroke-linecap:round;stroke-width:0.8;\"/>\n     </g>\n     <g id=\"text_4\">\n      <!-- 60 -->\n      <defs>\n       <path d=\"M 33.015625 40.375 \nQ 26.375 40.375 22.484375 35.828125 \nQ 18.609375 31.296875 18.609375 23.390625 \nQ 18.609375 15.53125 22.484375 10.953125 \nQ 26.375 6.390625 33.015625 6.390625 \nQ 39.65625 6.390625 43.53125 10.953125 \nQ 47.40625 15.53125 47.40625 23.390625 \nQ 47.40625 31.296875 43.53125 35.828125 \nQ 39.65625 40.375 33.015625 40.375 \nz\nM 52.59375 71.296875 \nL 52.59375 62.3125 \nQ 48.875 64.0625 45.09375 64.984375 \nQ 41.3125 65.921875 37.59375 65.921875 \nQ 27.828125 65.921875 22.671875 59.328125 \nQ 17.53125 52.734375 16.796875 39.40625 \nQ 19.671875 43.65625 24.015625 45.921875 \nQ 28.375 48.1875 33.59375 48.1875 \nQ 44.578125 48.1875 50.953125 41.515625 \nQ 57.328125 34.859375 57.328125 23.390625 \nQ 57.328125 12.15625 50.6875 5.359375 \nQ 44.046875 -1.421875 33.015625 -1.421875 \nQ 20.359375 -1.421875 13.671875 8.265625 \nQ 6.984375 17.96875 6.984375 36.375 \nQ 6.984375 53.65625 15.1875 63.9375 \nQ 23.390625 74.21875 37.203125 74.21875 \nQ 40.921875 74.21875 44.703125 73.484375 \nQ 48.484375 72.75 52.59375 71.296875 \nz\n\" id=\"DejaVuSans-54\"/>\n      </defs>\n      <g style=\"fill:#262626;\" transform=\"translate(216.154895 239.238437)scale(0.1 -0.1)\">\n       <use xlink:href=\"#DejaVuSans-54\"/>\n       <use x=\"63.623047\" xlink:href=\"#DejaVuSans-48\"/>\n      </g>\n     </g>\n    </g>\n    <g id=\"xtick_5\">\n     <g id=\"line2d_5\">\n      <path clip-path=\"url(#pa0b931bc04)\" d=\"M 274.545367 224.64 \nL 274.545367 7.2 \n\" style=\"fill:none;stroke:#cccccc;stroke-linecap:round;stroke-width:0.8;\"/>\n     </g>\n     <g id=\"text_5\">\n      <!-- 80 -->\n      <defs>\n       <path d=\"M 31.78125 34.625 \nQ 24.75 34.625 20.71875 30.859375 \nQ 16.703125 27.09375 16.703125 20.515625 \nQ 16.703125 13.921875 20.71875 10.15625 \nQ 24.75 6.390625 31.78125 6.390625 \nQ 38.8125 6.390625 42.859375 10.171875 \nQ 46.921875 13.96875 46.921875 20.515625 \nQ 46.921875 27.09375 42.890625 30.859375 \nQ 38.875 34.625 31.78125 34.625 \nz\nM 21.921875 38.8125 \nQ 15.578125 40.375 12.03125 44.71875 \nQ 8.5 49.078125 8.5 55.328125 \nQ 8.5 64.0625 14.71875 69.140625 \nQ 20.953125 74.21875 31.78125 74.21875 \nQ 42.671875 74.21875 48.875 69.140625 \nQ 55.078125 64.0625 55.078125 55.328125 \nQ 55.078125 49.078125 51.53125 44.71875 \nQ 48 40.375 41.703125 38.8125 \nQ 48.828125 37.15625 52.796875 32.3125 \nQ 56.78125 27.484375 56.78125 20.515625 \nQ 56.78125 9.90625 50.3125 4.234375 \nQ 43.84375 -1.421875 31.78125 -1.421875 \nQ 19.734375 -1.421875 13.25 4.234375 \nQ 6.78125 9.90625 6.78125 20.515625 \nQ 6.78125 27.484375 10.78125 32.3125 \nQ 14.796875 37.15625 21.921875 38.8125 \nz\nM 18.3125 54.390625 \nQ 18.3125 48.734375 21.84375 45.5625 \nQ 25.390625 42.390625 31.78125 42.390625 \nQ 38.140625 42.390625 41.71875 45.5625 \nQ 45.3125 48.734375 45.3125 54.390625 \nQ 45.3125 60.0625 41.71875 63.234375 \nQ 38.140625 66.40625 31.78125 66.40625 \nQ 25.390625 66.40625 21.84375 63.234375 \nQ 18.3125 60.0625 18.3125 54.390625 \nz\n\" id=\"DejaVuSans-56\"/>\n      </defs>\n      <g style=\"fill:#262626;\" transform=\"translate(268.182867 239.238437)scale(0.1 -0.1)\">\n       <use xlink:href=\"#DejaVuSans-56\"/>\n       <use x=\"63.623047\" xlink:href=\"#DejaVuSans-48\"/>\n      </g>\n     </g>\n    </g>\n    <g id=\"xtick_6\">\n     <g id=\"line2d_6\">\n      <path clip-path=\"url(#pa0b931bc04)\" d=\"M 326.573339 224.64 \nL 326.573339 7.2 \n\" style=\"fill:none;stroke:#cccccc;stroke-linecap:round;stroke-width:0.8;\"/>\n     </g>\n     <g id=\"text_6\">\n      <!-- 100 -->\n      <defs>\n       <path d=\"M 12.40625 8.296875 \nL 28.515625 8.296875 \nL 28.515625 63.921875 \nL 10.984375 60.40625 \nL 10.984375 69.390625 \nL 28.421875 72.90625 \nL 38.28125 72.90625 \nL 38.28125 8.296875 \nL 54.390625 8.296875 \nL 54.390625 0 \nL 12.40625 0 \nz\n\" id=\"DejaVuSans-49\"/>\n      </defs>\n      <g style=\"fill:#262626;\" transform=\"translate(317.029589 239.238437)scale(0.1 -0.1)\">\n       <use xlink:href=\"#DejaVuSans-49\"/>\n       <use x=\"63.623047\" xlink:href=\"#DejaVuSans-48\"/>\n       <use x=\"127.246094\" xlink:href=\"#DejaVuSans-48\"/>\n      </g>\n     </g>\n    </g>\n    <g id=\"xtick_7\">\n     <g id=\"line2d_7\">\n      <path clip-path=\"url(#pa0b931bc04)\" d=\"M 378.601311 224.64 \nL 378.601311 7.2 \n\" style=\"fill:none;stroke:#cccccc;stroke-linecap:round;stroke-width:0.8;\"/>\n     </g>\n     <g id=\"text_7\">\n      <!-- 120 -->\n      <g style=\"fill:#262626;\" transform=\"translate(369.057561 239.238437)scale(0.1 -0.1)\">\n       <use xlink:href=\"#DejaVuSans-49\"/>\n       <use x=\"63.623047\" xlink:href=\"#DejaVuSans-50\"/>\n       <use x=\"127.246094\" xlink:href=\"#DejaVuSans-48\"/>\n      </g>\n     </g>\n    </g>\n    <g id=\"text_8\">\n     <!-- age -->\n     <defs>\n      <path d=\"M 34.28125 27.484375 \nQ 23.390625 27.484375 19.1875 25 \nQ 14.984375 22.515625 14.984375 16.5 \nQ 14.984375 11.71875 18.140625 8.90625 \nQ 21.296875 6.109375 26.703125 6.109375 \nQ 34.1875 6.109375 38.703125 11.40625 \nQ 43.21875 16.703125 43.21875 25.484375 \nL 43.21875 27.484375 \nz\nM 52.203125 31.203125 \nL 52.203125 0 \nL 43.21875 0 \nL 43.21875 8.296875 \nQ 40.140625 3.328125 35.546875 0.953125 \nQ 30.953125 -1.421875 24.3125 -1.421875 \nQ 15.921875 -1.421875 10.953125 3.296875 \nQ 6 8.015625 6 15.921875 \nQ 6 25.140625 12.171875 29.828125 \nQ 18.359375 34.515625 30.609375 34.515625 \nL 43.21875 34.515625 \nL 43.21875 35.40625 \nQ 43.21875 41.609375 39.140625 45 \nQ 35.0625 48.390625 27.6875 48.390625 \nQ 23 48.390625 18.546875 47.265625 \nQ 14.109375 46.140625 10.015625 43.890625 \nL 10.015625 52.203125 \nQ 14.9375 54.109375 19.578125 55.046875 \nQ 24.21875 56 28.609375 56 \nQ 40.484375 56 46.34375 49.84375 \nQ 52.203125 43.703125 52.203125 31.203125 \nz\n\" id=\"DejaVuSans-97\"/>\n      <path d=\"M 45.40625 27.984375 \nQ 45.40625 37.75 41.375 43.109375 \nQ 37.359375 48.484375 30.078125 48.484375 \nQ 22.859375 48.484375 18.828125 43.109375 \nQ 14.796875 37.75 14.796875 27.984375 \nQ 14.796875 18.265625 18.828125 12.890625 \nQ 22.859375 7.515625 30.078125 7.515625 \nQ 37.359375 7.515625 41.375 12.890625 \nQ 45.40625 18.265625 45.40625 27.984375 \nz\nM 54.390625 6.78125 \nQ 54.390625 -7.171875 48.1875 -13.984375 \nQ 42 -20.796875 29.203125 -20.796875 \nQ 24.46875 -20.796875 20.265625 -20.09375 \nQ 16.0625 -19.390625 12.109375 -17.921875 \nL 12.109375 -9.1875 \nQ 16.0625 -11.328125 19.921875 -12.34375 \nQ 23.78125 -13.375 27.78125 -13.375 \nQ 36.625 -13.375 41.015625 -8.765625 \nQ 45.40625 -4.15625 45.40625 5.171875 \nL 45.40625 9.625 \nQ 42.625 4.78125 38.28125 2.390625 \nQ 33.9375 0 27.875 0 \nQ 17.828125 0 11.671875 7.65625 \nQ 5.515625 15.328125 5.515625 27.984375 \nQ 5.515625 40.671875 11.671875 48.328125 \nQ 17.828125 56 27.875 56 \nQ 33.9375 56 38.28125 53.609375 \nQ 42.625 51.21875 45.40625 46.390625 \nL 45.40625 54.6875 \nL 54.390625 54.6875 \nz\n\" id=\"DejaVuSans-103\"/>\n      <path d=\"M 56.203125 29.59375 \nL 56.203125 25.203125 \nL 14.890625 25.203125 \nQ 15.484375 15.921875 20.484375 11.0625 \nQ 25.484375 6.203125 34.421875 6.203125 \nQ 39.59375 6.203125 44.453125 7.46875 \nQ 49.3125 8.734375 54.109375 11.28125 \nL 54.109375 2.78125 \nQ 49.265625 0.734375 44.1875 -0.34375 \nQ 39.109375 -1.421875 33.890625 -1.421875 \nQ 20.796875 -1.421875 13.15625 6.1875 \nQ 5.515625 13.8125 5.515625 26.8125 \nQ 5.515625 40.234375 12.765625 48.109375 \nQ 20.015625 56 32.328125 56 \nQ 43.359375 56 49.78125 48.890625 \nQ 56.203125 41.796875 56.203125 29.59375 \nz\nM 47.21875 32.234375 \nQ 47.125 39.59375 43.09375 43.984375 \nQ 39.0625 48.390625 32.421875 48.390625 \nQ 24.90625 48.390625 20.390625 44.140625 \nQ 15.875 39.890625 15.1875 32.171875 \nz\n\" id=\"DejaVuSans-101\"/>\n     </defs>\n     <g style=\"fill:#262626;\" transform=\"translate(204.097656 252.916562)scale(0.1 -0.1)\">\n      <use xlink:href=\"#DejaVuSans-97\"/>\n      <use x=\"61.279297\" xlink:href=\"#DejaVuSans-103\"/>\n      <use x=\"124.755859\" xlink:href=\"#DejaVuSans-101\"/>\n     </g>\n    </g>\n   </g>\n   <g id=\"matplotlib.axis_2\">\n    <g id=\"ytick_1\">\n     <g id=\"line2d_8\">\n      <path clip-path=\"url(#pa0b931bc04)\" d=\"M 46.0125 224.64 \nL 380.8125 224.64 \n\" style=\"fill:none;stroke:#cccccc;stroke-linecap:round;stroke-width:0.8;\"/>\n     </g>\n     <g id=\"text_9\">\n      <!-- 0 -->\n      <g style=\"fill:#262626;\" transform=\"translate(32.65 228.439219)scale(0.1 -0.1)\">\n       <use xlink:href=\"#DejaVuSans-48\"/>\n      </g>\n     </g>\n    </g>\n    <g id=\"ytick_2\">\n     <g id=\"line2d_9\">\n      <path clip-path=\"url(#pa0b931bc04)\" d=\"M 46.0125 196.879032 \nL 380.8125 196.879032 \n\" style=\"fill:none;stroke:#cccccc;stroke-linecap:round;stroke-width:0.8;\"/>\n     </g>\n     <g id=\"text_10\">\n      <!-- 2500 -->\n      <defs>\n       <path d=\"M 10.796875 72.90625 \nL 49.515625 72.90625 \nL 49.515625 64.59375 \nL 19.828125 64.59375 \nL 19.828125 46.734375 \nQ 21.96875 47.46875 24.109375 47.828125 \nQ 26.265625 48.1875 28.421875 48.1875 \nQ 40.625 48.1875 47.75 41.5 \nQ 54.890625 34.8125 54.890625 23.390625 \nQ 54.890625 11.625 47.5625 5.09375 \nQ 40.234375 -1.421875 26.90625 -1.421875 \nQ 22.3125 -1.421875 17.546875 -0.640625 \nQ 12.796875 0.140625 7.71875 1.703125 \nL 7.71875 11.625 \nQ 12.109375 9.234375 16.796875 8.0625 \nQ 21.484375 6.890625 26.703125 6.890625 \nQ 35.15625 6.890625 40.078125 11.328125 \nQ 45.015625 15.765625 45.015625 23.390625 \nQ 45.015625 31 40.078125 35.4375 \nQ 35.15625 39.890625 26.703125 39.890625 \nQ 22.75 39.890625 18.8125 39.015625 \nQ 14.890625 38.140625 10.796875 36.28125 \nz\n\" id=\"DejaVuSans-53\"/>\n      </defs>\n      <g style=\"fill:#262626;\" transform=\"translate(13.5625 200.678251)scale(0.1 -0.1)\">\n       <use xlink:href=\"#DejaVuSans-50\"/>\n       <use x=\"63.623047\" xlink:href=\"#DejaVuSans-53\"/>\n       <use x=\"127.246094\" xlink:href=\"#DejaVuSans-48\"/>\n       <use x=\"190.869141\" xlink:href=\"#DejaVuSans-48\"/>\n      </g>\n     </g>\n    </g>\n    <g id=\"ytick_3\">\n     <g id=\"line2d_10\">\n      <path clip-path=\"url(#pa0b931bc04)\" d=\"M 46.0125 169.118065 \nL 380.8125 169.118065 \n\" style=\"fill:none;stroke:#cccccc;stroke-linecap:round;stroke-width:0.8;\"/>\n     </g>\n     <g id=\"text_11\">\n      <!-- 5000 -->\n      <g style=\"fill:#262626;\" transform=\"translate(13.5625 172.917283)scale(0.1 -0.1)\">\n       <use xlink:href=\"#DejaVuSans-53\"/>\n       <use x=\"63.623047\" xlink:href=\"#DejaVuSans-48\"/>\n       <use x=\"127.246094\" xlink:href=\"#DejaVuSans-48\"/>\n       <use x=\"190.869141\" xlink:href=\"#DejaVuSans-48\"/>\n      </g>\n     </g>\n    </g>\n    <g id=\"ytick_4\">\n     <g id=\"line2d_11\">\n      <path clip-path=\"url(#pa0b931bc04)\" d=\"M 46.0125 141.357097 \nL 380.8125 141.357097 \n\" style=\"fill:none;stroke:#cccccc;stroke-linecap:round;stroke-width:0.8;\"/>\n     </g>\n     <g id=\"text_12\">\n      <!-- 7500 -->\n      <defs>\n       <path d=\"M 8.203125 72.90625 \nL 55.078125 72.90625 \nL 55.078125 68.703125 \nL 28.609375 0 \nL 18.3125 0 \nL 43.21875 64.59375 \nL 8.203125 64.59375 \nz\n\" id=\"DejaVuSans-55\"/>\n      </defs>\n      <g style=\"fill:#262626;\" transform=\"translate(13.5625 145.156316)scale(0.1 -0.1)\">\n       <use xlink:href=\"#DejaVuSans-55\"/>\n       <use x=\"63.623047\" xlink:href=\"#DejaVuSans-53\"/>\n       <use x=\"127.246094\" xlink:href=\"#DejaVuSans-48\"/>\n       <use x=\"190.869141\" xlink:href=\"#DejaVuSans-48\"/>\n      </g>\n     </g>\n    </g>\n    <g id=\"ytick_5\">\n     <g id=\"line2d_12\">\n      <path clip-path=\"url(#pa0b931bc04)\" d=\"M 46.0125 113.596129 \nL 380.8125 113.596129 \n\" style=\"fill:none;stroke:#cccccc;stroke-linecap:round;stroke-width:0.8;\"/>\n     </g>\n     <g id=\"text_13\">\n      <!-- 10000 -->\n      <g style=\"fill:#262626;\" transform=\"translate(7.2 117.395348)scale(0.1 -0.1)\">\n       <use xlink:href=\"#DejaVuSans-49\"/>\n       <use x=\"63.623047\" xlink:href=\"#DejaVuSans-48\"/>\n       <use x=\"127.246094\" xlink:href=\"#DejaVuSans-48\"/>\n       <use x=\"190.869141\" xlink:href=\"#DejaVuSans-48\"/>\n       <use x=\"254.492188\" xlink:href=\"#DejaVuSans-48\"/>\n      </g>\n     </g>\n    </g>\n    <g id=\"ytick_6\">\n     <g id=\"line2d_13\">\n      <path clip-path=\"url(#pa0b931bc04)\" d=\"M 46.0125 85.835162 \nL 380.8125 85.835162 \n\" style=\"fill:none;stroke:#cccccc;stroke-linecap:round;stroke-width:0.8;\"/>\n     </g>\n     <g id=\"text_14\">\n      <!-- 12500 -->\n      <g style=\"fill:#262626;\" transform=\"translate(7.2 89.63438)scale(0.1 -0.1)\">\n       <use xlink:href=\"#DejaVuSans-49\"/>\n       <use x=\"63.623047\" xlink:href=\"#DejaVuSans-50\"/>\n       <use x=\"127.246094\" xlink:href=\"#DejaVuSans-53\"/>\n       <use x=\"190.869141\" xlink:href=\"#DejaVuSans-48\"/>\n       <use x=\"254.492188\" xlink:href=\"#DejaVuSans-48\"/>\n      </g>\n     </g>\n    </g>\n    <g id=\"ytick_7\">\n     <g id=\"line2d_14\">\n      <path clip-path=\"url(#pa0b931bc04)\" d=\"M 46.0125 58.074194 \nL 380.8125 58.074194 \n\" style=\"fill:none;stroke:#cccccc;stroke-linecap:round;stroke-width:0.8;\"/>\n     </g>\n     <g id=\"text_15\">\n      <!-- 15000 -->\n      <g style=\"fill:#262626;\" transform=\"translate(7.2 61.873413)scale(0.1 -0.1)\">\n       <use xlink:href=\"#DejaVuSans-49\"/>\n       <use x=\"63.623047\" xlink:href=\"#DejaVuSans-53\"/>\n       <use x=\"127.246094\" xlink:href=\"#DejaVuSans-48\"/>\n       <use x=\"190.869141\" xlink:href=\"#DejaVuSans-48\"/>\n       <use x=\"254.492188\" xlink:href=\"#DejaVuSans-48\"/>\n      </g>\n     </g>\n    </g>\n    <g id=\"ytick_8\">\n     <g id=\"line2d_15\">\n      <path clip-path=\"url(#pa0b931bc04)\" d=\"M 46.0125 30.313226 \nL 380.8125 30.313226 \n\" style=\"fill:none;stroke:#cccccc;stroke-linecap:round;stroke-width:0.8;\"/>\n     </g>\n     <g id=\"text_16\">\n      <!-- 17500 -->\n      <g style=\"fill:#262626;\" transform=\"translate(7.2 34.112445)scale(0.1 -0.1)\">\n       <use xlink:href=\"#DejaVuSans-49\"/>\n       <use x=\"63.623047\" xlink:href=\"#DejaVuSans-55\"/>\n       <use x=\"127.246094\" xlink:href=\"#DejaVuSans-53\"/>\n       <use x=\"190.869141\" xlink:href=\"#DejaVuSans-48\"/>\n       <use x=\"254.492188\" xlink:href=\"#DejaVuSans-48\"/>\n      </g>\n     </g>\n    </g>\n   </g>\n   <g id=\"patch_3\">\n    <path clip-path=\"url(#pa0b931bc04)\" d=\"M 61.230682 224.64 \nL 67.317955 224.64 \nL 67.317955 70.599943 \nL 61.230682 70.599943 \nz\n\" style=\"fill:#0000ff;opacity:0.4;stroke:#ffffff;stroke-linejoin:miter;\"/>\n   </g>\n   <g id=\"patch_4\">\n    <path clip-path=\"url(#pa0b931bc04)\" d=\"M 67.317955 224.64 \nL 73.405227 224.64 \nL 73.405227 100.803876 \nL 67.317955 100.803876 \nz\n\" style=\"fill:#0000ff;opacity:0.4;stroke:#ffffff;stroke-linejoin:miter;\"/>\n   </g>\n   <g id=\"patch_5\">\n    <path clip-path=\"url(#pa0b931bc04)\" d=\"M 73.405227 224.64 \nL 79.4925 224.64 \nL 79.4925 64.803453 \nL 73.405227 64.803453 \nz\n\" style=\"fill:#0000ff;opacity:0.4;stroke:#ffffff;stroke-linejoin:miter;\"/>\n   </g>\n   <g id=\"patch_6\">\n    <path clip-path=\"url(#pa0b931bc04)\" d=\"M 79.4925 224.64 \nL 85.579773 224.64 \nL 85.579773 103.924208 \nL 79.4925 103.924208 \nz\n\" style=\"fill:#0000ff;opacity:0.4;stroke:#ffffff;stroke-linejoin:miter;\"/>\n   </g>\n   <g id=\"patch_7\">\n    <path clip-path=\"url(#pa0b931bc04)\" d=\"M 85.579773 224.64 \nL 91.667045 224.64 \nL 91.667045 108.321546 \nL 85.579773 108.321546 \nz\n\" style=\"fill:#0000ff;opacity:0.4;stroke:#ffffff;stroke-linejoin:miter;\"/>\n   </g>\n   <g id=\"patch_8\">\n    <path clip-path=\"url(#pa0b931bc04)\" d=\"M 91.667045 224.64 \nL 97.754318 224.64 \nL 97.754318 73.464875 \nL 91.667045 73.464875 \nz\n\" style=\"fill:#0000ff;opacity:0.4;stroke:#ffffff;stroke-linejoin:miter;\"/>\n   </g>\n   <g id=\"patch_9\">\n    <path clip-path=\"url(#pa0b931bc04)\" d=\"M 97.754318 224.64 \nL 103.841591 224.64 \nL 103.841591 130.485902 \nL 97.754318 130.485902 \nz\n\" style=\"fill:#0000ff;opacity:0.4;stroke:#ffffff;stroke-linejoin:miter;\"/>\n   </g>\n   <g id=\"patch_10\">\n    <path clip-path=\"url(#pa0b931bc04)\" d=\"M 103.841591 224.64 \nL 109.928864 224.64 \nL 109.928864 117.338308 \nL 103.841591 117.338308 \nz\n\" style=\"fill:#0000ff;opacity:0.4;stroke:#ffffff;stroke-linejoin:miter;\"/>\n   </g>\n   <g id=\"patch_11\">\n    <path clip-path=\"url(#pa0b931bc04)\" d=\"M 109.928864 224.64 \nL 116.016136 224.64 \nL 116.016136 48.357855 \nL 109.928864 48.357855 \nz\n\" style=\"fill:#0000ff;opacity:0.4;stroke:#ffffff;stroke-linejoin:miter;\"/>\n   </g>\n   <g id=\"patch_12\">\n    <path clip-path=\"url(#pa0b931bc04)\" d=\"M 116.016136 224.64 \nL 122.103409 224.64 \nL 122.103409 110.697884 \nL 116.016136 110.697884 \nz\n\" style=\"fill:#0000ff;opacity:0.4;stroke:#ffffff;stroke-linejoin:miter;\"/>\n   </g>\n   <g id=\"patch_13\">\n    <path clip-path=\"url(#pa0b931bc04)\" d=\"M 122.103409 224.64 \nL 128.190682 224.64 \nL 128.190682 114.695464 \nL 122.103409 114.695464 \nz\n\" style=\"fill:#0000ff;opacity:0.4;stroke:#ffffff;stroke-linejoin:miter;\"/>\n   </g>\n   <g id=\"patch_14\">\n    <path clip-path=\"url(#pa0b931bc04)\" d=\"M 128.190682 224.64 \nL 134.277955 224.64 \nL 134.277955 58.396221 \nL 128.190682 58.396221 \nz\n\" style=\"fill:#0000ff;opacity:0.4;stroke:#ffffff;stroke-linejoin:miter;\"/>\n   </g>\n   <g id=\"patch_15\">\n    <path clip-path=\"url(#pa0b931bc04)\" d=\"M 134.277955 224.64 \nL 140.365227 224.64 \nL 140.365227 105.190108 \nL 134.277955 105.190108 \nz\n\" style=\"fill:#0000ff;opacity:0.4;stroke:#ffffff;stroke-linejoin:miter;\"/>\n   </g>\n   <g id=\"patch_16\">\n    <path clip-path=\"url(#pa0b931bc04)\" d=\"M 140.365227 224.64 \nL 146.4525 224.64 \nL 146.4525 105.101273 \nL 140.365227 105.101273 \nz\n\" style=\"fill:#0000ff;opacity:0.4;stroke:#ffffff;stroke-linejoin:miter;\"/>\n   </g>\n   <g id=\"patch_17\">\n    <path clip-path=\"url(#pa0b931bc04)\" d=\"M 146.4525 224.64 \nL 152.539773 224.64 \nL 152.539773 35.243574 \nL 146.4525 35.243574 \nz\n\" style=\"fill:#0000ff;opacity:0.4;stroke:#ffffff;stroke-linejoin:miter;\"/>\n   </g>\n   <g id=\"patch_18\">\n    <path clip-path=\"url(#pa0b931bc04)\" d=\"M 152.539773 224.64 \nL 158.627045 224.64 \nL 158.627045 104.024148 \nL 152.539773 104.024148 \nz\n\" style=\"fill:#0000ff;opacity:0.4;stroke:#ffffff;stroke-linejoin:miter;\"/>\n   </g>\n   <g id=\"patch_19\">\n    <path clip-path=\"url(#pa0b931bc04)\" d=\"M 158.627045 224.64 \nL 164.714318 224.64 \nL 164.714318 96.073407 \nL 158.627045 96.073407 \nz\n\" style=\"fill:#0000ff;opacity:0.4;stroke:#ffffff;stroke-linejoin:miter;\"/>\n   </g>\n   <g id=\"patch_20\">\n    <path clip-path=\"url(#pa0b931bc04)\" d=\"M 164.714318 224.64 \nL 170.801591 224.64 \nL 170.801591 46.225813 \nL 164.714318 46.225813 \nz\n\" style=\"fill:#0000ff;opacity:0.4;stroke:#ffffff;stroke-linejoin:miter;\"/>\n   </g>\n   <g id=\"patch_21\">\n    <path clip-path=\"url(#pa0b931bc04)\" d=\"M 170.801591 224.64 \nL 176.888864 224.64 \nL 176.888864 112.274707 \nL 170.801591 112.274707 \nz\n\" style=\"fill:#0000ff;opacity:0.4;stroke:#ffffff;stroke-linejoin:miter;\"/>\n   </g>\n   <g id=\"patch_22\">\n    <path clip-path=\"url(#pa0b931bc04)\" d=\"M 176.888864 224.64 \nL 182.976136 224.64 \nL 182.976136 106.544844 \nL 176.888864 106.544844 \nz\n\" style=\"fill:#0000ff;opacity:0.4;stroke:#ffffff;stroke-linejoin:miter;\"/>\n   </g>\n   <g id=\"patch_23\">\n    <path clip-path=\"url(#pa0b931bc04)\" d=\"M 182.976136 224.64 \nL 189.063409 224.64 \nL 189.063409 39.196736 \nL 182.976136 39.196736 \nz\n\" style=\"fill:#0000ff;opacity:0.4;stroke:#ffffff;stroke-linejoin:miter;\"/>\n   </g>\n   <g id=\"patch_24\">\n    <path clip-path=\"url(#pa0b931bc04)\" d=\"M 189.063409 224.64 \nL 195.150682 224.64 \nL 195.150682 91.431773 \nL 189.063409 91.431773 \nz\n\" style=\"fill:#0000ff;opacity:0.4;stroke:#ffffff;stroke-linejoin:miter;\"/>\n   </g>\n   <g id=\"patch_25\">\n    <path clip-path=\"url(#pa0b931bc04)\" d=\"M 195.150682 224.64 \nL 201.237955 224.64 \nL 201.237955 86.601364 \nL 195.150682 86.601364 \nz\n\" style=\"fill:#0000ff;opacity:0.4;stroke:#ffffff;stroke-linejoin:miter;\"/>\n   </g>\n   <g id=\"patch_26\">\n    <path clip-path=\"url(#pa0b931bc04)\" d=\"M 201.237955 224.64 \nL 207.325227 224.64 \nL 207.325227 17.554286 \nL 201.237955 17.554286 \nz\n\" style=\"fill:#0000ff;opacity:0.4;stroke:#ffffff;stroke-linejoin:miter;\"/>\n   </g>\n   <g id=\"patch_27\">\n    <path clip-path=\"url(#pa0b931bc04)\" d=\"M 207.325227 224.64 \nL 213.4125 224.64 \nL 213.4125 87.511924 \nL 207.325227 87.511924 \nz\n\" style=\"fill:#0000ff;opacity:0.4;stroke:#ffffff;stroke-linejoin:miter;\"/>\n   </g>\n   <g id=\"patch_28\">\n    <path clip-path=\"url(#pa0b931bc04)\" d=\"M 213.4125 224.64 \nL 219.499773 224.64 \nL 219.499773 93.808112 \nL 213.4125 93.808112 \nz\n\" style=\"fill:#0000ff;opacity:0.4;stroke:#ffffff;stroke-linejoin:miter;\"/>\n   </g>\n   <g id=\"patch_29\">\n    <path clip-path=\"url(#pa0b931bc04)\" d=\"M 219.499773 224.64 \nL 225.587045 224.64 \nL 225.587045 43.294255 \nL 219.499773 43.294255 \nz\n\" style=\"fill:#0000ff;opacity:0.4;stroke:#ffffff;stroke-linejoin:miter;\"/>\n   </g>\n   <g id=\"patch_30\">\n    <path clip-path=\"url(#pa0b931bc04)\" d=\"M 225.587045 224.64 \nL 231.674318 224.64 \nL 231.674318 113.640547 \nL 225.587045 113.640547 \nz\n\" style=\"fill:#0000ff;opacity:0.4;stroke:#ffffff;stroke-linejoin:miter;\"/>\n   </g>\n   <g id=\"patch_31\">\n    <path clip-path=\"url(#pa0b931bc04)\" d=\"M 231.674318 224.64 \nL 237.761591 224.64 \nL 237.761591 125.044752 \nL 231.674318 125.044752 \nz\n\" style=\"fill:#0000ff;opacity:0.4;stroke:#ffffff;stroke-linejoin:miter;\"/>\n   </g>\n   <g id=\"patch_32\">\n    <path clip-path=\"url(#pa0b931bc04)\" d=\"M 237.761591 224.64 \nL 243.848864 224.64 \nL 243.848864 97.150532 \nL 237.761591 97.150532 \nz\n\" style=\"fill:#0000ff;opacity:0.4;stroke:#ffffff;stroke-linejoin:miter;\"/>\n   </g>\n   <g id=\"patch_33\">\n    <path clip-path=\"url(#pa0b931bc04)\" d=\"M 243.848864 224.64 \nL 249.936136 224.64 \nL 249.936136 157.669442 \nL 243.848864 157.669442 \nz\n\" style=\"fill:#0000ff;opacity:0.4;stroke:#ffffff;stroke-linejoin:miter;\"/>\n   </g>\n   <g id=\"patch_34\">\n    <path clip-path=\"url(#pa0b931bc04)\" d=\"M 249.936136 224.64 \nL 256.023409 224.64 \nL 256.023409 163.454827 \nL 249.936136 163.454827 \nz\n\" style=\"fill:#0000ff;opacity:0.4;stroke:#ffffff;stroke-linejoin:miter;\"/>\n   </g>\n   <g id=\"patch_35\">\n    <path clip-path=\"url(#pa0b931bc04)\" d=\"M 256.023409 224.64 \nL 262.110682 224.64 \nL 262.110682 144.943814 \nL 256.023409 144.943814 \nz\n\" style=\"fill:#0000ff;opacity:0.4;stroke:#ffffff;stroke-linejoin:miter;\"/>\n   </g>\n   <g id=\"patch_36\">\n    <path clip-path=\"url(#pa0b931bc04)\" d=\"M 262.110682 224.64 \nL 268.197955 224.64 \nL 268.197955 177.135432 \nL 262.110682 177.135432 \nz\n\" style=\"fill:#0000ff;opacity:0.4;stroke:#ffffff;stroke-linejoin:miter;\"/>\n   </g>\n   <g id=\"patch_37\">\n    <path clip-path=\"url(#pa0b931bc04)\" d=\"M 268.197955 224.64 \nL 274.285227 224.64 \nL 274.285227 182.765356 \nL 268.197955 182.765356 \nz\n\" style=\"fill:#0000ff;opacity:0.4;stroke:#ffffff;stroke-linejoin:miter;\"/>\n   </g>\n   <g id=\"patch_38\">\n    <path clip-path=\"url(#pa0b931bc04)\" d=\"M 274.285227 224.64 \nL 280.3725 224.64 \nL 280.3725 173.748594 \nL 274.285227 173.748594 \nz\n\" style=\"fill:#0000ff;opacity:0.4;stroke:#ffffff;stroke-linejoin:miter;\"/>\n   </g>\n   <g id=\"patch_39\">\n    <path clip-path=\"url(#pa0b931bc04)\" d=\"M 280.3725 224.64 \nL 286.459773 224.64 \nL 286.459773 199.155432 \nL 280.3725 199.155432 \nz\n\" style=\"fill:#0000ff;opacity:0.4;stroke:#ffffff;stroke-linejoin:miter;\"/>\n   </g>\n   <g id=\"patch_40\">\n    <path clip-path=\"url(#pa0b931bc04)\" d=\"M 286.459773 224.64 \nL 292.547045 224.64 \nL 292.547045 203.996944 \nL 286.459773 203.996944 \nz\n\" style=\"fill:#0000ff;opacity:0.4;stroke:#ffffff;stroke-linejoin:miter;\"/>\n   </g>\n   <g id=\"patch_41\">\n    <path clip-path=\"url(#pa0b931bc04)\" d=\"M 292.547045 224.64 \nL 298.634318 224.64 \nL 298.634318 207.239425 \nL 292.547045 207.239425 \nz\n\" style=\"fill:#0000ff;opacity:0.4;stroke:#ffffff;stroke-linejoin:miter;\"/>\n   </g>\n   <g id=\"patch_42\">\n    <path clip-path=\"url(#pa0b931bc04)\" d=\"M 298.634318 224.64 \nL 304.721591 224.64 \nL 304.721591 217.688654 \nL 298.634318 217.688654 \nz\n\" style=\"fill:#0000ff;opacity:0.4;stroke:#ffffff;stroke-linejoin:miter;\"/>\n   </g>\n   <g id=\"patch_43\">\n    <path clip-path=\"url(#pa0b931bc04)\" d=\"M 304.721591 224.64 \nL 310.808864 224.64 \nL 310.808864 220.453646 \nL 304.721591 220.453646 \nz\n\" style=\"fill:#0000ff;opacity:0.4;stroke:#ffffff;stroke-linejoin:miter;\"/>\n   </g>\n   <g id=\"patch_44\">\n    <path clip-path=\"url(#pa0b931bc04)\" d=\"M 310.808864 224.64 \nL 316.896136 224.64 \nL 316.896136 221.775068 \nL 310.808864 221.775068 \nz\n\" style=\"fill:#0000ff;opacity:0.4;stroke:#ffffff;stroke-linejoin:miter;\"/>\n   </g>\n   <g id=\"patch_45\">\n    <path clip-path=\"url(#pa0b931bc04)\" d=\"M 316.896136 224.64 \nL 322.983409 224.64 \nL 322.983409 223.751649 \nL 316.896136 223.751649 \nz\n\" style=\"fill:#0000ff;opacity:0.4;stroke:#ffffff;stroke-linejoin:miter;\"/>\n   </g>\n   <g id=\"patch_46\">\n    <path clip-path=\"url(#pa0b931bc04)\" d=\"M 322.983409 224.64 \nL 329.070682 224.64 \nL 329.070682 224.317973 \nL 322.983409 224.317973 \nz\n\" style=\"fill:#0000ff;opacity:0.4;stroke:#ffffff;stroke-linejoin:miter;\"/>\n   </g>\n   <g id=\"patch_47\">\n    <path clip-path=\"url(#pa0b931bc04)\" d=\"M 329.070682 224.64 \nL 335.157955 224.64 \nL 335.157955 224.384599 \nL 329.070682 224.384599 \nz\n\" style=\"fill:#0000ff;opacity:0.4;stroke:#ffffff;stroke-linejoin:miter;\"/>\n   </g>\n   <g id=\"patch_48\">\n    <path clip-path=\"url(#pa0b931bc04)\" d=\"M 335.157955 224.64 \nL 341.245227 224.64 \nL 341.245227 224.617791 \nL 335.157955 224.617791 \nz\n\" style=\"fill:#0000ff;opacity:0.4;stroke:#ffffff;stroke-linejoin:miter;\"/>\n   </g>\n   <g id=\"patch_49\">\n    <path clip-path=\"url(#pa0b931bc04)\" d=\"M 341.245227 224.64 \nL 347.3325 224.64 \nL 347.3325 224.64 \nL 341.245227 224.64 \nz\n\" style=\"fill:#0000ff;opacity:0.4;stroke:#ffffff;stroke-linejoin:miter;\"/>\n   </g>\n   <g id=\"patch_50\">\n    <path clip-path=\"url(#pa0b931bc04)\" d=\"M 347.3325 224.64 \nL 353.419773 224.64 \nL 353.419773 224.628896 \nL 347.3325 224.628896 \nz\n\" style=\"fill:#0000ff;opacity:0.4;stroke:#ffffff;stroke-linejoin:miter;\"/>\n   </g>\n   <g id=\"patch_51\">\n    <path clip-path=\"url(#pa0b931bc04)\" d=\"M 353.419773 224.64 \nL 359.507045 224.64 \nL 359.507045 224.64 \nL 353.419773 224.64 \nz\n\" style=\"fill:#0000ff;opacity:0.4;stroke:#ffffff;stroke-linejoin:miter;\"/>\n   </g>\n   <g id=\"patch_52\">\n    <path clip-path=\"url(#pa0b931bc04)\" d=\"M 359.507045 224.64 \nL 365.594318 224.64 \nL 365.594318 224.551165 \nL 359.507045 224.551165 \nz\n\" style=\"fill:#0000ff;opacity:0.4;stroke:#ffffff;stroke-linejoin:miter;\"/>\n   </g>\n   <g id=\"patch_53\">\n    <path d=\"M 46.0125 224.64 \nL 46.0125 7.2 \n\" style=\"fill:none;stroke:#cccccc;stroke-linecap:square;stroke-linejoin:miter;stroke-width:0.8;\"/>\n   </g>\n   <g id=\"patch_54\">\n    <path d=\"M 380.8125 224.64 \nL 380.8125 7.2 \n\" style=\"fill:none;stroke:#cccccc;stroke-linecap:square;stroke-linejoin:miter;stroke-width:0.8;\"/>\n   </g>\n   <g id=\"patch_55\">\n    <path d=\"M 46.0125 224.64 \nL 380.8125 224.64 \n\" style=\"fill:none;stroke:#cccccc;stroke-linecap:square;stroke-linejoin:miter;stroke-width:0.8;\"/>\n   </g>\n   <g id=\"patch_56\">\n    <path d=\"M 46.0125 7.2 \nL 380.8125 7.2 \n\" style=\"fill:none;stroke:#cccccc;stroke-linecap:square;stroke-linejoin:miter;stroke-width:0.8;\"/>\n   </g>\n  </g>\n </g>\n <defs>\n  <clipPath id=\"pa0b931bc04\">\n   <rect height=\"217.44\" width=\"334.8\" x=\"46.0125\" y=\"7.2\"/>\n  </clipPath>\n </defs>\n</svg>\n"
          },
          "metadata": {
            "tags": [],
            "needs_background": "light"
          }
        }
      ]
    },
    {
      "cell_type": "markdown",
      "metadata": {
        "id": "8MEQS1GLrytB",
        "colab_type": "text"
      },
      "source": [
        "Age values are between -2 to 115 years. As seen in the graph there are very few records above the age of 95 years. Updating the age range between 0 to 95 years."
      ]
    },
    {
      "cell_type": "code",
      "metadata": {
        "id": "N1OB9BxWYaGJ",
        "colab_type": "code",
        "outputId": "3306384d-f809-48d4-cab2-2351bbd2c913",
        "colab": {
          "base_uri": "https://localhost:8080/",
          "height": 34
        }
      },
      "source": [
        "# dropping -ve age and row above 95 years\n",
        "df = df[(df.age >= 0) & (df.age <= 95)]\n",
        "\n",
        "min_age = df['age'].min()\n",
        "max_age = df['age'].max()\n",
        "print (\"Age now spans values from: {} to {}.\".format(min_age, max_age))"
      ],
      "execution_count": 82,
      "outputs": [
        {
          "output_type": "stream",
          "text": [
            "Age now spans values from: 0 to 95.\n"
          ],
          "name": "stdout"
        }
      ]
    },
    {
      "cell_type": "code",
      "metadata": {
        "id": "bZIPVcX1YaXe",
        "colab_type": "code",
        "outputId": "dc051e50-208d-42e2-f260-32a3882c3666",
        "colab": {
          "base_uri": "https://localhost:8080/",
          "height": 210
        }
      },
      "source": [
        "#Graoh for updated age  \n",
        "plt.figure(figsize=(10,1.5))\n",
        "plt.xticks(rotation=90)\n",
        "sns.boxplot(x=df.age)"
      ],
      "execution_count": 83,
      "outputs": [
        {
          "output_type": "execute_result",
          "data": {
            "text/plain": [
              "<matplotlib.axes._subplots.AxesSubplot at 0x7f960b5b7358>"
            ]
          },
          "metadata": {
            "tags": []
          },
          "execution_count": 83
        },
        {
          "output_type": "display_data",
          "data": {
            "text/plain": [
              "<Figure size 720x108 with 1 Axes>"
            ],
            "image/svg+xml": "<?xml version=\"1.0\" encoding=\"utf-8\" standalone=\"no\"?>\n<!DOCTYPE svg PUBLIC \"-//W3C//DTD SVG 1.1//EN\"\n  \"http://www.w3.org/Graphics/SVG/1.1/DTD/svg11.dtd\">\n<!-- Created with matplotlib (https://matplotlib.org/) -->\n<svg height=\"129.343125pt\" version=\"1.1\" viewBox=\"0 0 572.4 129.343125\" width=\"572.4pt\" xmlns=\"http://www.w3.org/2000/svg\" xmlns:xlink=\"http://www.w3.org/1999/xlink\">\n <defs>\n  <style type=\"text/css\">\n*{stroke-linecap:butt;stroke-linejoin:round;}\n  </style>\n </defs>\n <g id=\"figure_1\">\n  <g id=\"patch_1\">\n   <path d=\"M 0 129.343125 \nL 572.4 129.343125 \nL 572.4 0 \nL 0 0 \nz\n\" style=\"fill:none;\"/>\n  </g>\n  <g id=\"axes_1\">\n   <g id=\"patch_2\">\n    <path d=\"M 7.2 88.74 \nL 565.2 88.74 \nL 565.2 7.2 \nL 7.2 7.2 \nz\n\" style=\"fill:#ffffff;\"/>\n   </g>\n   <g id=\"matplotlib.axis_1\">\n    <g id=\"xtick_1\">\n     <g id=\"line2d_1\">\n      <path clip-path=\"url(#pe1a3f0b278)\" d=\"M 32.563636 88.74 \nL 32.563636 7.2 \n\" style=\"fill:none;stroke:#cccccc;stroke-linecap:round;stroke-width:0.8;\"/>\n     </g>\n     <g id=\"text_1\">\n      <!-- 0 -->\n      <defs>\n       <path d=\"M 31.78125 66.40625 \nQ 24.171875 66.40625 20.328125 58.90625 \nQ 16.5 51.421875 16.5 36.375 \nQ 16.5 21.390625 20.328125 13.890625 \nQ 24.171875 6.390625 31.78125 6.390625 \nQ 39.453125 6.390625 43.28125 13.890625 \nQ 47.125 21.390625 47.125 36.375 \nQ 47.125 51.421875 43.28125 58.90625 \nQ 39.453125 66.40625 31.78125 66.40625 \nz\nM 31.78125 74.21875 \nQ 44.046875 74.21875 50.515625 64.515625 \nQ 56.984375 54.828125 56.984375 36.375 \nQ 56.984375 17.96875 50.515625 8.265625 \nQ 44.046875 -1.421875 31.78125 -1.421875 \nQ 19.53125 -1.421875 13.0625 8.265625 \nQ 6.59375 17.96875 6.59375 36.375 \nQ 6.59375 54.828125 13.0625 64.515625 \nQ 19.53125 74.21875 31.78125 74.21875 \nz\n\" id=\"DejaVuSans-48\"/>\n      </defs>\n      <g style=\"fill:#262626;\" transform=\"translate(35.323011 102.1025)rotate(-90)scale(0.1 -0.1)\">\n       <use xlink:href=\"#DejaVuSans-48\"/>\n      </g>\n     </g>\n    </g>\n    <g id=\"xtick_2\">\n     <g id=\"line2d_2\">\n      <path clip-path=\"url(#pe1a3f0b278)\" d=\"M 139.357895 88.74 \nL 139.357895 7.2 \n\" style=\"fill:none;stroke:#cccccc;stroke-linecap:round;stroke-width:0.8;\"/>\n     </g>\n     <g id=\"text_2\">\n      <!-- 20 -->\n      <defs>\n       <path d=\"M 19.1875 8.296875 \nL 53.609375 8.296875 \nL 53.609375 0 \nL 7.328125 0 \nL 7.328125 8.296875 \nQ 12.9375 14.109375 22.625 23.890625 \nQ 32.328125 33.6875 34.8125 36.53125 \nQ 39.546875 41.84375 41.421875 45.53125 \nQ 43.3125 49.21875 43.3125 52.78125 \nQ 43.3125 58.59375 39.234375 62.25 \nQ 35.15625 65.921875 28.609375 65.921875 \nQ 23.96875 65.921875 18.8125 64.3125 \nQ 13.671875 62.703125 7.8125 59.421875 \nL 7.8125 69.390625 \nQ 13.765625 71.78125 18.9375 73 \nQ 24.125 74.21875 28.421875 74.21875 \nQ 39.75 74.21875 46.484375 68.546875 \nQ 53.21875 62.890625 53.21875 53.421875 \nQ 53.21875 48.921875 51.53125 44.890625 \nQ 49.859375 40.875 45.40625 35.40625 \nQ 44.1875 33.984375 37.640625 27.21875 \nQ 31.109375 20.453125 19.1875 8.296875 \nz\n\" id=\"DejaVuSans-50\"/>\n      </defs>\n      <g style=\"fill:#262626;\" transform=\"translate(142.11727 108.465)rotate(-90)scale(0.1 -0.1)\">\n       <use xlink:href=\"#DejaVuSans-50\"/>\n       <use x=\"63.623047\" xlink:href=\"#DejaVuSans-48\"/>\n      </g>\n     </g>\n    </g>\n    <g id=\"xtick_3\">\n     <g id=\"line2d_3\">\n      <path clip-path=\"url(#pe1a3f0b278)\" d=\"M 246.152153 88.74 \nL 246.152153 7.2 \n\" style=\"fill:none;stroke:#cccccc;stroke-linecap:round;stroke-width:0.8;\"/>\n     </g>\n     <g id=\"text_3\">\n      <!-- 40 -->\n      <defs>\n       <path d=\"M 37.796875 64.3125 \nL 12.890625 25.390625 \nL 37.796875 25.390625 \nz\nM 35.203125 72.90625 \nL 47.609375 72.90625 \nL 47.609375 25.390625 \nL 58.015625 25.390625 \nL 58.015625 17.1875 \nL 47.609375 17.1875 \nL 47.609375 0 \nL 37.796875 0 \nL 37.796875 17.1875 \nL 4.890625 17.1875 \nL 4.890625 26.703125 \nz\n\" id=\"DejaVuSans-52\"/>\n      </defs>\n      <g style=\"fill:#262626;\" transform=\"translate(248.911528 108.465)rotate(-90)scale(0.1 -0.1)\">\n       <use xlink:href=\"#DejaVuSans-52\"/>\n       <use x=\"63.623047\" xlink:href=\"#DejaVuSans-48\"/>\n      </g>\n     </g>\n    </g>\n    <g id=\"xtick_4\">\n     <g id=\"line2d_4\">\n      <path clip-path=\"url(#pe1a3f0b278)\" d=\"M 352.946411 88.74 \nL 352.946411 7.2 \n\" style=\"fill:none;stroke:#cccccc;stroke-linecap:round;stroke-width:0.8;\"/>\n     </g>\n     <g id=\"text_4\">\n      <!-- 60 -->\n      <defs>\n       <path d=\"M 33.015625 40.375 \nQ 26.375 40.375 22.484375 35.828125 \nQ 18.609375 31.296875 18.609375 23.390625 \nQ 18.609375 15.53125 22.484375 10.953125 \nQ 26.375 6.390625 33.015625 6.390625 \nQ 39.65625 6.390625 43.53125 10.953125 \nQ 47.40625 15.53125 47.40625 23.390625 \nQ 47.40625 31.296875 43.53125 35.828125 \nQ 39.65625 40.375 33.015625 40.375 \nz\nM 52.59375 71.296875 \nL 52.59375 62.3125 \nQ 48.875 64.0625 45.09375 64.984375 \nQ 41.3125 65.921875 37.59375 65.921875 \nQ 27.828125 65.921875 22.671875 59.328125 \nQ 17.53125 52.734375 16.796875 39.40625 \nQ 19.671875 43.65625 24.015625 45.921875 \nQ 28.375 48.1875 33.59375 48.1875 \nQ 44.578125 48.1875 50.953125 41.515625 \nQ 57.328125 34.859375 57.328125 23.390625 \nQ 57.328125 12.15625 50.6875 5.359375 \nQ 44.046875 -1.421875 33.015625 -1.421875 \nQ 20.359375 -1.421875 13.671875 8.265625 \nQ 6.984375 17.96875 6.984375 36.375 \nQ 6.984375 53.65625 15.1875 63.9375 \nQ 23.390625 74.21875 37.203125 74.21875 \nQ 40.921875 74.21875 44.703125 73.484375 \nQ 48.484375 72.75 52.59375 71.296875 \nz\n\" id=\"DejaVuSans-54\"/>\n      </defs>\n      <g style=\"fill:#262626;\" transform=\"translate(355.705786 108.465)rotate(-90)scale(0.1 -0.1)\">\n       <use xlink:href=\"#DejaVuSans-54\"/>\n       <use x=\"63.623047\" xlink:href=\"#DejaVuSans-48\"/>\n      </g>\n     </g>\n    </g>\n    <g id=\"xtick_5\">\n     <g id=\"line2d_5\">\n      <path clip-path=\"url(#pe1a3f0b278)\" d=\"M 459.74067 88.74 \nL 459.74067 7.2 \n\" style=\"fill:none;stroke:#cccccc;stroke-linecap:round;stroke-width:0.8;\"/>\n     </g>\n     <g id=\"text_5\">\n      <!-- 80 -->\n      <defs>\n       <path d=\"M 31.78125 34.625 \nQ 24.75 34.625 20.71875 30.859375 \nQ 16.703125 27.09375 16.703125 20.515625 \nQ 16.703125 13.921875 20.71875 10.15625 \nQ 24.75 6.390625 31.78125 6.390625 \nQ 38.8125 6.390625 42.859375 10.171875 \nQ 46.921875 13.96875 46.921875 20.515625 \nQ 46.921875 27.09375 42.890625 30.859375 \nQ 38.875 34.625 31.78125 34.625 \nz\nM 21.921875 38.8125 \nQ 15.578125 40.375 12.03125 44.71875 \nQ 8.5 49.078125 8.5 55.328125 \nQ 8.5 64.0625 14.71875 69.140625 \nQ 20.953125 74.21875 31.78125 74.21875 \nQ 42.671875 74.21875 48.875 69.140625 \nQ 55.078125 64.0625 55.078125 55.328125 \nQ 55.078125 49.078125 51.53125 44.71875 \nQ 48 40.375 41.703125 38.8125 \nQ 48.828125 37.15625 52.796875 32.3125 \nQ 56.78125 27.484375 56.78125 20.515625 \nQ 56.78125 9.90625 50.3125 4.234375 \nQ 43.84375 -1.421875 31.78125 -1.421875 \nQ 19.734375 -1.421875 13.25 4.234375 \nQ 6.78125 9.90625 6.78125 20.515625 \nQ 6.78125 27.484375 10.78125 32.3125 \nQ 14.796875 37.15625 21.921875 38.8125 \nz\nM 18.3125 54.390625 \nQ 18.3125 48.734375 21.84375 45.5625 \nQ 25.390625 42.390625 31.78125 42.390625 \nQ 38.140625 42.390625 41.71875 45.5625 \nQ 45.3125 48.734375 45.3125 54.390625 \nQ 45.3125 60.0625 41.71875 63.234375 \nQ 38.140625 66.40625 31.78125 66.40625 \nQ 25.390625 66.40625 21.84375 63.234375 \nQ 18.3125 60.0625 18.3125 54.390625 \nz\n\" id=\"DejaVuSans-56\"/>\n      </defs>\n      <g style=\"fill:#262626;\" transform=\"translate(462.500045 108.465)rotate(-90)scale(0.1 -0.1)\">\n       <use xlink:href=\"#DejaVuSans-56\"/>\n       <use x=\"63.623047\" xlink:href=\"#DejaVuSans-48\"/>\n      </g>\n     </g>\n    </g>\n    <g id=\"text_6\">\n     <!-- age -->\n     <defs>\n      <path d=\"M 34.28125 27.484375 \nQ 23.390625 27.484375 19.1875 25 \nQ 14.984375 22.515625 14.984375 16.5 \nQ 14.984375 11.71875 18.140625 8.90625 \nQ 21.296875 6.109375 26.703125 6.109375 \nQ 34.1875 6.109375 38.703125 11.40625 \nQ 43.21875 16.703125 43.21875 25.484375 \nL 43.21875 27.484375 \nz\nM 52.203125 31.203125 \nL 52.203125 0 \nL 43.21875 0 \nL 43.21875 8.296875 \nQ 40.140625 3.328125 35.546875 0.953125 \nQ 30.953125 -1.421875 24.3125 -1.421875 \nQ 15.921875 -1.421875 10.953125 3.296875 \nQ 6 8.015625 6 15.921875 \nQ 6 25.140625 12.171875 29.828125 \nQ 18.359375 34.515625 30.609375 34.515625 \nL 43.21875 34.515625 \nL 43.21875 35.40625 \nQ 43.21875 41.609375 39.140625 45 \nQ 35.0625 48.390625 27.6875 48.390625 \nQ 23 48.390625 18.546875 47.265625 \nQ 14.109375 46.140625 10.015625 43.890625 \nL 10.015625 52.203125 \nQ 14.9375 54.109375 19.578125 55.046875 \nQ 24.21875 56 28.609375 56 \nQ 40.484375 56 46.34375 49.84375 \nQ 52.203125 43.703125 52.203125 31.203125 \nz\n\" id=\"DejaVuSans-97\"/>\n      <path d=\"M 45.40625 27.984375 \nQ 45.40625 37.75 41.375 43.109375 \nQ 37.359375 48.484375 30.078125 48.484375 \nQ 22.859375 48.484375 18.828125 43.109375 \nQ 14.796875 37.75 14.796875 27.984375 \nQ 14.796875 18.265625 18.828125 12.890625 \nQ 22.859375 7.515625 30.078125 7.515625 \nQ 37.359375 7.515625 41.375 12.890625 \nQ 45.40625 18.265625 45.40625 27.984375 \nz\nM 54.390625 6.78125 \nQ 54.390625 -7.171875 48.1875 -13.984375 \nQ 42 -20.796875 29.203125 -20.796875 \nQ 24.46875 -20.796875 20.265625 -20.09375 \nQ 16.0625 -19.390625 12.109375 -17.921875 \nL 12.109375 -9.1875 \nQ 16.0625 -11.328125 19.921875 -12.34375 \nQ 23.78125 -13.375 27.78125 -13.375 \nQ 36.625 -13.375 41.015625 -8.765625 \nQ 45.40625 -4.15625 45.40625 5.171875 \nL 45.40625 9.625 \nQ 42.625 4.78125 38.28125 2.390625 \nQ 33.9375 0 27.875 0 \nQ 17.828125 0 11.671875 7.65625 \nQ 5.515625 15.328125 5.515625 27.984375 \nQ 5.515625 40.671875 11.671875 48.328125 \nQ 17.828125 56 27.875 56 \nQ 33.9375 56 38.28125 53.609375 \nQ 42.625 51.21875 45.40625 46.390625 \nL 45.40625 54.6875 \nL 54.390625 54.6875 \nz\n\" id=\"DejaVuSans-103\"/>\n      <path d=\"M 56.203125 29.59375 \nL 56.203125 25.203125 \nL 14.890625 25.203125 \nQ 15.484375 15.921875 20.484375 11.0625 \nQ 25.484375 6.203125 34.421875 6.203125 \nQ 39.59375 6.203125 44.453125 7.46875 \nQ 49.3125 8.734375 54.109375 11.28125 \nL 54.109375 2.78125 \nQ 49.265625 0.734375 44.1875 -0.34375 \nQ 39.109375 -1.421875 33.890625 -1.421875 \nQ 20.796875 -1.421875 13.15625 6.1875 \nQ 5.515625 13.8125 5.515625 26.8125 \nQ 5.515625 40.234375 12.765625 48.109375 \nQ 20.015625 56 32.328125 56 \nQ 43.359375 56 49.78125 48.890625 \nQ 56.203125 41.796875 56.203125 29.59375 \nz\nM 47.21875 32.234375 \nQ 47.125 39.59375 43.09375 43.984375 \nQ 39.0625 48.390625 32.421875 48.390625 \nQ 24.90625 48.390625 20.390625 44.140625 \nQ 15.875 39.890625 15.1875 32.171875 \nz\n\" id=\"DejaVuSans-101\"/>\n     </defs>\n     <g style=\"fill:#262626;\" transform=\"translate(276.885156 120.063438)scale(0.1 -0.1)\">\n      <use xlink:href=\"#DejaVuSans-97\"/>\n      <use x=\"61.279297\" xlink:href=\"#DejaVuSans-103\"/>\n      <use x=\"124.755859\" xlink:href=\"#DejaVuSans-101\"/>\n     </g>\n    </g>\n   </g>\n   <g id=\"matplotlib.axis_2\">\n    <g id=\"ytick_1\"/>\n   </g>\n   <g id=\"patch_3\">\n    <path clip-path=\"url(#pe1a3f0b278)\" d=\"M 128.678469 15.354 \nL 128.678469 80.586 \nL 331.58756 80.586 \nL 331.58756 15.354 \nL 128.678469 15.354 \nz\n\" style=\"fill:#3274a1;stroke:#3f3f3f;stroke-linejoin:miter;stroke-width:1.5;\"/>\n   </g>\n   <g id=\"line2d_6\">\n    <path clip-path=\"url(#pe1a3f0b278)\" d=\"M 128.678469 47.97 \nL 32.563636 47.97 \n\" style=\"fill:none;stroke:#3f3f3f;stroke-linecap:round;stroke-width:1.5;\"/>\n   </g>\n   <g id=\"line2d_7\">\n    <path clip-path=\"url(#pe1a3f0b278)\" d=\"M 331.58756 47.97 \nL 539.836364 47.97 \n\" style=\"fill:none;stroke:#3f3f3f;stroke-linecap:round;stroke-width:1.5;\"/>\n   </g>\n   <g id=\"line2d_8\">\n    <path clip-path=\"url(#pe1a3f0b278)\" d=\"M 32.563636 31.662 \nL 32.563636 64.278 \n\" style=\"fill:none;stroke:#3f3f3f;stroke-linecap:round;stroke-width:1.5;\"/>\n   </g>\n   <g id=\"line2d_9\">\n    <path clip-path=\"url(#pe1a3f0b278)\" d=\"M 539.836364 31.662 \nL 539.836364 64.278 \n\" style=\"fill:none;stroke:#3f3f3f;stroke-linecap:round;stroke-width:1.5;\"/>\n   </g>\n   <g id=\"line2d_10\"/>\n   <g id=\"line2d_11\">\n    <path clip-path=\"url(#pe1a3f0b278)\" d=\"M 235.472727 15.354 \nL 235.472727 80.586 \n\" style=\"fill:none;stroke:#3f3f3f;stroke-linecap:round;stroke-width:1.5;\"/>\n   </g>\n   <g id=\"patch_4\">\n    <path d=\"M 7.2 88.74 \nL 7.2 7.2 \n\" style=\"fill:none;stroke:#cccccc;stroke-linecap:square;stroke-linejoin:miter;stroke-width:0.8;\"/>\n   </g>\n   <g id=\"patch_5\">\n    <path d=\"M 565.2 88.74 \nL 565.2 7.2 \n\" style=\"fill:none;stroke:#cccccc;stroke-linecap:square;stroke-linejoin:miter;stroke-width:0.8;\"/>\n   </g>\n   <g id=\"patch_6\">\n    <path d=\"M 7.2 88.74 \nL 565.2 88.74 \n\" style=\"fill:none;stroke:#cccccc;stroke-linecap:square;stroke-linejoin:miter;stroke-width:0.8;\"/>\n   </g>\n   <g id=\"patch_7\">\n    <path d=\"M 7.2 7.2 \nL 565.2 7.2 \n\" style=\"fill:none;stroke:#cccccc;stroke-linecap:square;stroke-linejoin:miter;stroke-width:0.8;\"/>\n   </g>\n  </g>\n </g>\n <defs>\n  <clipPath id=\"pe1a3f0b278\">\n   <rect height=\"81.54\" width=\"558\" x=\"7.2\" y=\"7.2\"/>\n  </clipPath>\n </defs>\n</svg>\n"
          },
          "metadata": {
            "tags": [],
            "needs_background": "light"
          }
        }
      ]
    },
    {
      "cell_type": "code",
      "metadata": {
        "id": "KcgcYhE9sPIi",
        "colab_type": "code",
        "colab": {
          "base_uri": "https://localhost:8080/",
          "height": 394
        },
        "outputId": "d7bb793c-27db-4c76-9a21-dcbf38a4b90e"
      },
      "source": [
        "# Let's see how many there are patients of each age\n",
        "plt.figure(figsize=(16,4))\n",
        "plt.xticks(rotation=90)\n",
        "ax = sns.countplot(x=df.age)\n",
        "ax.set_title(\"No of appointments by age\")\n",
        "plt.show()"
      ],
      "execution_count": 84,
      "outputs": [
        {
          "output_type": "display_data",
          "data": {
            "text/plain": [
              "<Figure size 1152x288 with 1 Axes>"
            ],
            "image/svg+xml": "<?xml version=\"1.0\" encoding=\"utf-8\" standalone=\"no\"?>\n<!DOCTYPE svg PUBLIC \"-//W3C//DTD SVG 1.1//EN\"\n  \"http://www.w3.org/Graphics/SVG/1.1/DTD/svg11.dtd\">\n<!-- Created with matplotlib (https://matplotlib.org/) -->\n<svg height=\"280.36125pt\" version=\"1.1\" viewBox=\"0 0 959.879687 280.36125\" width=\"959.879687pt\" xmlns=\"http://www.w3.org/2000/svg\" xmlns:xlink=\"http://www.w3.org/1999/xlink\">\n <defs>\n  <style type=\"text/css\">\n*{stroke-linecap:butt;stroke-linejoin:round;}\n  </style>\n </defs>\n <g id=\"figure_1\">\n  <g id=\"patch_1\">\n   <path d=\"M 0 280.36125 \nL 959.879687 280.36125 \nL 959.879687 0 \nL 0 0 \nz\n\" style=\"fill:none;\"/>\n  </g>\n  <g id=\"axes_1\">\n   <g id=\"patch_2\">\n    <path d=\"M 59.690625 239.758125 \nL 952.490625 239.758125 \nL 952.490625 22.318125 \nL 59.690625 22.318125 \nz\n\" style=\"fill:#ffffff;\"/>\n   </g>\n   <g id=\"matplotlib.axis_1\">\n    <g id=\"xtick_1\">\n     <g id=\"text_1\">\n      <!-- 0 -->\n      <defs>\n       <path d=\"M 31.78125 66.40625 \nQ 24.171875 66.40625 20.328125 58.90625 \nQ 16.5 51.421875 16.5 36.375 \nQ 16.5 21.390625 20.328125 13.890625 \nQ 24.171875 6.390625 31.78125 6.390625 \nQ 39.453125 6.390625 43.28125 13.890625 \nQ 47.125 21.390625 47.125 36.375 \nQ 47.125 51.421875 43.28125 58.90625 \nQ 39.453125 66.40625 31.78125 66.40625 \nz\nM 31.78125 74.21875 \nQ 44.046875 74.21875 50.515625 64.515625 \nQ 56.984375 54.828125 56.984375 36.375 \nQ 56.984375 17.96875 50.515625 8.265625 \nQ 44.046875 -1.421875 31.78125 -1.421875 \nQ 19.53125 -1.421875 13.0625 8.265625 \nQ 6.59375 17.96875 6.59375 36.375 \nQ 6.59375 54.828125 13.0625 64.515625 \nQ 19.53125 74.21875 31.78125 74.21875 \nz\n\" id=\"DejaVuSans-48\"/>\n      </defs>\n      <g style=\"fill:#262626;\" transform=\"translate(67.1 253.120625)rotate(-90)scale(0.1 -0.1)\">\n       <use xlink:href=\"#DejaVuSans-48\"/>\n      </g>\n     </g>\n    </g>\n    <g id=\"xtick_2\">\n     <g id=\"text_2\">\n      <!-- 1 -->\n      <defs>\n       <path d=\"M 12.40625 8.296875 \nL 28.515625 8.296875 \nL 28.515625 63.921875 \nL 10.984375 60.40625 \nL 10.984375 69.390625 \nL 28.421875 72.90625 \nL 38.28125 72.90625 \nL 38.28125 8.296875 \nL 54.390625 8.296875 \nL 54.390625 0 \nL 12.40625 0 \nz\n\" id=\"DejaVuSans-49\"/>\n      </defs>\n      <g style=\"fill:#262626;\" transform=\"translate(76.4 253.120625)rotate(-90)scale(0.1 -0.1)\">\n       <use xlink:href=\"#DejaVuSans-49\"/>\n      </g>\n     </g>\n    </g>\n    <g id=\"xtick_3\">\n     <g id=\"text_3\">\n      <!-- 2 -->\n      <defs>\n       <path d=\"M 19.1875 8.296875 \nL 53.609375 8.296875 \nL 53.609375 0 \nL 7.328125 0 \nL 7.328125 8.296875 \nQ 12.9375 14.109375 22.625 23.890625 \nQ 32.328125 33.6875 34.8125 36.53125 \nQ 39.546875 41.84375 41.421875 45.53125 \nQ 43.3125 49.21875 43.3125 52.78125 \nQ 43.3125 58.59375 39.234375 62.25 \nQ 35.15625 65.921875 28.609375 65.921875 \nQ 23.96875 65.921875 18.8125 64.3125 \nQ 13.671875 62.703125 7.8125 59.421875 \nL 7.8125 69.390625 \nQ 13.765625 71.78125 18.9375 73 \nQ 24.125 74.21875 28.421875 74.21875 \nQ 39.75 74.21875 46.484375 68.546875 \nQ 53.21875 62.890625 53.21875 53.421875 \nQ 53.21875 48.921875 51.53125 44.890625 \nQ 49.859375 40.875 45.40625 35.40625 \nQ 44.1875 33.984375 37.640625 27.21875 \nQ 31.109375 20.453125 19.1875 8.296875 \nz\n\" id=\"DejaVuSans-50\"/>\n      </defs>\n      <g style=\"fill:#262626;\" transform=\"translate(85.7 253.120625)rotate(-90)scale(0.1 -0.1)\">\n       <use xlink:href=\"#DejaVuSans-50\"/>\n      </g>\n     </g>\n    </g>\n    <g id=\"xtick_4\">\n     <g id=\"text_4\">\n      <!-- 3 -->\n      <defs>\n       <path d=\"M 40.578125 39.3125 \nQ 47.65625 37.796875 51.625 33 \nQ 55.609375 28.21875 55.609375 21.1875 \nQ 55.609375 10.40625 48.1875 4.484375 \nQ 40.765625 -1.421875 27.09375 -1.421875 \nQ 22.515625 -1.421875 17.65625 -0.515625 \nQ 12.796875 0.390625 7.625 2.203125 \nL 7.625 11.71875 \nQ 11.71875 9.328125 16.59375 8.109375 \nQ 21.484375 6.890625 26.8125 6.890625 \nQ 36.078125 6.890625 40.9375 10.546875 \nQ 45.796875 14.203125 45.796875 21.1875 \nQ 45.796875 27.640625 41.28125 31.265625 \nQ 36.765625 34.90625 28.71875 34.90625 \nL 20.21875 34.90625 \nL 20.21875 43.015625 \nL 29.109375 43.015625 \nQ 36.375 43.015625 40.234375 45.921875 \nQ 44.09375 48.828125 44.09375 54.296875 \nQ 44.09375 59.90625 40.109375 62.90625 \nQ 36.140625 65.921875 28.71875 65.921875 \nQ 24.65625 65.921875 20.015625 65.03125 \nQ 15.375 64.15625 9.8125 62.3125 \nL 9.8125 71.09375 \nQ 15.4375 72.65625 20.34375 73.4375 \nQ 25.25 74.21875 29.59375 74.21875 \nQ 40.828125 74.21875 47.359375 69.109375 \nQ 53.90625 64.015625 53.90625 55.328125 \nQ 53.90625 49.265625 50.4375 45.09375 \nQ 46.96875 40.921875 40.578125 39.3125 \nz\n\" id=\"DejaVuSans-51\"/>\n      </defs>\n      <g style=\"fill:#262626;\" transform=\"translate(95 253.120625)rotate(-90)scale(0.1 -0.1)\">\n       <use xlink:href=\"#DejaVuSans-51\"/>\n      </g>\n     </g>\n    </g>\n    <g id=\"xtick_5\">\n     <g id=\"text_5\">\n      <!-- 4 -->\n      <defs>\n       <path d=\"M 37.796875 64.3125 \nL 12.890625 25.390625 \nL 37.796875 25.390625 \nz\nM 35.203125 72.90625 \nL 47.609375 72.90625 \nL 47.609375 25.390625 \nL 58.015625 25.390625 \nL 58.015625 17.1875 \nL 47.609375 17.1875 \nL 47.609375 0 \nL 37.796875 0 \nL 37.796875 17.1875 \nL 4.890625 17.1875 \nL 4.890625 26.703125 \nz\n\" id=\"DejaVuSans-52\"/>\n      </defs>\n      <g style=\"fill:#262626;\" transform=\"translate(104.3 253.120625)rotate(-90)scale(0.1 -0.1)\">\n       <use xlink:href=\"#DejaVuSans-52\"/>\n      </g>\n     </g>\n    </g>\n    <g id=\"xtick_6\">\n     <g id=\"text_6\">\n      <!-- 5 -->\n      <defs>\n       <path d=\"M 10.796875 72.90625 \nL 49.515625 72.90625 \nL 49.515625 64.59375 \nL 19.828125 64.59375 \nL 19.828125 46.734375 \nQ 21.96875 47.46875 24.109375 47.828125 \nQ 26.265625 48.1875 28.421875 48.1875 \nQ 40.625 48.1875 47.75 41.5 \nQ 54.890625 34.8125 54.890625 23.390625 \nQ 54.890625 11.625 47.5625 5.09375 \nQ 40.234375 -1.421875 26.90625 -1.421875 \nQ 22.3125 -1.421875 17.546875 -0.640625 \nQ 12.796875 0.140625 7.71875 1.703125 \nL 7.71875 11.625 \nQ 12.109375 9.234375 16.796875 8.0625 \nQ 21.484375 6.890625 26.703125 6.890625 \nQ 35.15625 6.890625 40.078125 11.328125 \nQ 45.015625 15.765625 45.015625 23.390625 \nQ 45.015625 31 40.078125 35.4375 \nQ 35.15625 39.890625 26.703125 39.890625 \nQ 22.75 39.890625 18.8125 39.015625 \nQ 14.890625 38.140625 10.796875 36.28125 \nz\n\" id=\"DejaVuSans-53\"/>\n      </defs>\n      <g style=\"fill:#262626;\" transform=\"translate(113.6 253.120625)rotate(-90)scale(0.1 -0.1)\">\n       <use xlink:href=\"#DejaVuSans-53\"/>\n      </g>\n     </g>\n    </g>\n    <g id=\"xtick_7\">\n     <g id=\"text_7\">\n      <!-- 6 -->\n      <defs>\n       <path d=\"M 33.015625 40.375 \nQ 26.375 40.375 22.484375 35.828125 \nQ 18.609375 31.296875 18.609375 23.390625 \nQ 18.609375 15.53125 22.484375 10.953125 \nQ 26.375 6.390625 33.015625 6.390625 \nQ 39.65625 6.390625 43.53125 10.953125 \nQ 47.40625 15.53125 47.40625 23.390625 \nQ 47.40625 31.296875 43.53125 35.828125 \nQ 39.65625 40.375 33.015625 40.375 \nz\nM 52.59375 71.296875 \nL 52.59375 62.3125 \nQ 48.875 64.0625 45.09375 64.984375 \nQ 41.3125 65.921875 37.59375 65.921875 \nQ 27.828125 65.921875 22.671875 59.328125 \nQ 17.53125 52.734375 16.796875 39.40625 \nQ 19.671875 43.65625 24.015625 45.921875 \nQ 28.375 48.1875 33.59375 48.1875 \nQ 44.578125 48.1875 50.953125 41.515625 \nQ 57.328125 34.859375 57.328125 23.390625 \nQ 57.328125 12.15625 50.6875 5.359375 \nQ 44.046875 -1.421875 33.015625 -1.421875 \nQ 20.359375 -1.421875 13.671875 8.265625 \nQ 6.984375 17.96875 6.984375 36.375 \nQ 6.984375 53.65625 15.1875 63.9375 \nQ 23.390625 74.21875 37.203125 74.21875 \nQ 40.921875 74.21875 44.703125 73.484375 \nQ 48.484375 72.75 52.59375 71.296875 \nz\n\" id=\"DejaVuSans-54\"/>\n      </defs>\n      <g style=\"fill:#262626;\" transform=\"translate(122.9 253.120625)rotate(-90)scale(0.1 -0.1)\">\n       <use xlink:href=\"#DejaVuSans-54\"/>\n      </g>\n     </g>\n    </g>\n    <g id=\"xtick_8\">\n     <g id=\"text_8\">\n      <!-- 7 -->\n      <defs>\n       <path d=\"M 8.203125 72.90625 \nL 55.078125 72.90625 \nL 55.078125 68.703125 \nL 28.609375 0 \nL 18.3125 0 \nL 43.21875 64.59375 \nL 8.203125 64.59375 \nz\n\" id=\"DejaVuSans-55\"/>\n      </defs>\n      <g style=\"fill:#262626;\" transform=\"translate(132.2 253.120625)rotate(-90)scale(0.1 -0.1)\">\n       <use xlink:href=\"#DejaVuSans-55\"/>\n      </g>\n     </g>\n    </g>\n    <g id=\"xtick_9\">\n     <g id=\"text_9\">\n      <!-- 8 -->\n      <defs>\n       <path d=\"M 31.78125 34.625 \nQ 24.75 34.625 20.71875 30.859375 \nQ 16.703125 27.09375 16.703125 20.515625 \nQ 16.703125 13.921875 20.71875 10.15625 \nQ 24.75 6.390625 31.78125 6.390625 \nQ 38.8125 6.390625 42.859375 10.171875 \nQ 46.921875 13.96875 46.921875 20.515625 \nQ 46.921875 27.09375 42.890625 30.859375 \nQ 38.875 34.625 31.78125 34.625 \nz\nM 21.921875 38.8125 \nQ 15.578125 40.375 12.03125 44.71875 \nQ 8.5 49.078125 8.5 55.328125 \nQ 8.5 64.0625 14.71875 69.140625 \nQ 20.953125 74.21875 31.78125 74.21875 \nQ 42.671875 74.21875 48.875 69.140625 \nQ 55.078125 64.0625 55.078125 55.328125 \nQ 55.078125 49.078125 51.53125 44.71875 \nQ 48 40.375 41.703125 38.8125 \nQ 48.828125 37.15625 52.796875 32.3125 \nQ 56.78125 27.484375 56.78125 20.515625 \nQ 56.78125 9.90625 50.3125 4.234375 \nQ 43.84375 -1.421875 31.78125 -1.421875 \nQ 19.734375 -1.421875 13.25 4.234375 \nQ 6.78125 9.90625 6.78125 20.515625 \nQ 6.78125 27.484375 10.78125 32.3125 \nQ 14.796875 37.15625 21.921875 38.8125 \nz\nM 18.3125 54.390625 \nQ 18.3125 48.734375 21.84375 45.5625 \nQ 25.390625 42.390625 31.78125 42.390625 \nQ 38.140625 42.390625 41.71875 45.5625 \nQ 45.3125 48.734375 45.3125 54.390625 \nQ 45.3125 60.0625 41.71875 63.234375 \nQ 38.140625 66.40625 31.78125 66.40625 \nQ 25.390625 66.40625 21.84375 63.234375 \nQ 18.3125 60.0625 18.3125 54.390625 \nz\n\" id=\"DejaVuSans-56\"/>\n      </defs>\n      <g style=\"fill:#262626;\" transform=\"translate(141.5 253.120625)rotate(-90)scale(0.1 -0.1)\">\n       <use xlink:href=\"#DejaVuSans-56\"/>\n      </g>\n     </g>\n    </g>\n    <g id=\"xtick_10\">\n     <g id=\"text_10\">\n      <!-- 9 -->\n      <defs>\n       <path d=\"M 10.984375 1.515625 \nL 10.984375 10.5 \nQ 14.703125 8.734375 18.5 7.8125 \nQ 22.3125 6.890625 25.984375 6.890625 \nQ 35.75 6.890625 40.890625 13.453125 \nQ 46.046875 20.015625 46.78125 33.40625 \nQ 43.953125 29.203125 39.59375 26.953125 \nQ 35.25 24.703125 29.984375 24.703125 \nQ 19.046875 24.703125 12.671875 31.3125 \nQ 6.296875 37.9375 6.296875 49.421875 \nQ 6.296875 60.640625 12.9375 67.421875 \nQ 19.578125 74.21875 30.609375 74.21875 \nQ 43.265625 74.21875 49.921875 64.515625 \nQ 56.59375 54.828125 56.59375 36.375 \nQ 56.59375 19.140625 48.40625 8.859375 \nQ 40.234375 -1.421875 26.421875 -1.421875 \nQ 22.703125 -1.421875 18.890625 -0.6875 \nQ 15.09375 0.046875 10.984375 1.515625 \nz\nM 30.609375 32.421875 \nQ 37.25 32.421875 41.125 36.953125 \nQ 45.015625 41.5 45.015625 49.421875 \nQ 45.015625 57.28125 41.125 61.84375 \nQ 37.25 66.40625 30.609375 66.40625 \nQ 23.96875 66.40625 20.09375 61.84375 \nQ 16.21875 57.28125 16.21875 49.421875 \nQ 16.21875 41.5 20.09375 36.953125 \nQ 23.96875 32.421875 30.609375 32.421875 \nz\n\" id=\"DejaVuSans-57\"/>\n      </defs>\n      <g style=\"fill:#262626;\" transform=\"translate(150.8 253.120625)rotate(-90)scale(0.1 -0.1)\">\n       <use xlink:href=\"#DejaVuSans-57\"/>\n      </g>\n     </g>\n    </g>\n    <g id=\"xtick_11\">\n     <g id=\"text_11\">\n      <!-- 10 -->\n      <g style=\"fill:#262626;\" transform=\"translate(160.1 259.483125)rotate(-90)scale(0.1 -0.1)\">\n       <use xlink:href=\"#DejaVuSans-49\"/>\n       <use x=\"63.623047\" xlink:href=\"#DejaVuSans-48\"/>\n      </g>\n     </g>\n    </g>\n    <g id=\"xtick_12\">\n     <g id=\"text_12\">\n      <!-- 11 -->\n      <g style=\"fill:#262626;\" transform=\"translate(169.4 259.483125)rotate(-90)scale(0.1 -0.1)\">\n       <use xlink:href=\"#DejaVuSans-49\"/>\n       <use x=\"63.623047\" xlink:href=\"#DejaVuSans-49\"/>\n      </g>\n     </g>\n    </g>\n    <g id=\"xtick_13\">\n     <g id=\"text_13\">\n      <!-- 12 -->\n      <g style=\"fill:#262626;\" transform=\"translate(178.7 259.483125)rotate(-90)scale(0.1 -0.1)\">\n       <use xlink:href=\"#DejaVuSans-49\"/>\n       <use x=\"63.623047\" xlink:href=\"#DejaVuSans-50\"/>\n      </g>\n     </g>\n    </g>\n    <g id=\"xtick_14\">\n     <g id=\"text_14\">\n      <!-- 13 -->\n      <g style=\"fill:#262626;\" transform=\"translate(188 259.483125)rotate(-90)scale(0.1 -0.1)\">\n       <use xlink:href=\"#DejaVuSans-49\"/>\n       <use x=\"63.623047\" xlink:href=\"#DejaVuSans-51\"/>\n      </g>\n     </g>\n    </g>\n    <g id=\"xtick_15\">\n     <g id=\"text_15\">\n      <!-- 14 -->\n      <g style=\"fill:#262626;\" transform=\"translate(197.3 259.483125)rotate(-90)scale(0.1 -0.1)\">\n       <use xlink:href=\"#DejaVuSans-49\"/>\n       <use x=\"63.623047\" xlink:href=\"#DejaVuSans-52\"/>\n      </g>\n     </g>\n    </g>\n    <g id=\"xtick_16\">\n     <g id=\"text_16\">\n      <!-- 15 -->\n      <g style=\"fill:#262626;\" transform=\"translate(206.6 259.483125)rotate(-90)scale(0.1 -0.1)\">\n       <use xlink:href=\"#DejaVuSans-49\"/>\n       <use x=\"63.623047\" xlink:href=\"#DejaVuSans-53\"/>\n      </g>\n     </g>\n    </g>\n    <g id=\"xtick_17\">\n     <g id=\"text_17\">\n      <!-- 16 -->\n      <g style=\"fill:#262626;\" transform=\"translate(215.9 259.483125)rotate(-90)scale(0.1 -0.1)\">\n       <use xlink:href=\"#DejaVuSans-49\"/>\n       <use x=\"63.623047\" xlink:href=\"#DejaVuSans-54\"/>\n      </g>\n     </g>\n    </g>\n    <g id=\"xtick_18\">\n     <g id=\"text_18\">\n      <!-- 17 -->\n      <g style=\"fill:#262626;\" transform=\"translate(225.2 259.483125)rotate(-90)scale(0.1 -0.1)\">\n       <use xlink:href=\"#DejaVuSans-49\"/>\n       <use x=\"63.623047\" xlink:href=\"#DejaVuSans-55\"/>\n      </g>\n     </g>\n    </g>\n    <g id=\"xtick_19\">\n     <g id=\"text_19\">\n      <!-- 18 -->\n      <g style=\"fill:#262626;\" transform=\"translate(234.5 259.483125)rotate(-90)scale(0.1 -0.1)\">\n       <use xlink:href=\"#DejaVuSans-49\"/>\n       <use x=\"63.623047\" xlink:href=\"#DejaVuSans-56\"/>\n      </g>\n     </g>\n    </g>\n    <g id=\"xtick_20\">\n     <g id=\"text_20\">\n      <!-- 19 -->\n      <g style=\"fill:#262626;\" transform=\"translate(243.8 259.483125)rotate(-90)scale(0.1 -0.1)\">\n       <use xlink:href=\"#DejaVuSans-49\"/>\n       <use x=\"63.623047\" xlink:href=\"#DejaVuSans-57\"/>\n      </g>\n     </g>\n    </g>\n    <g id=\"xtick_21\">\n     <g id=\"text_21\">\n      <!-- 20 -->\n      <g style=\"fill:#262626;\" transform=\"translate(253.1 259.483125)rotate(-90)scale(0.1 -0.1)\">\n       <use xlink:href=\"#DejaVuSans-50\"/>\n       <use x=\"63.623047\" xlink:href=\"#DejaVuSans-48\"/>\n      </g>\n     </g>\n    </g>\n    <g id=\"xtick_22\">\n     <g id=\"text_22\">\n      <!-- 21 -->\n      <g style=\"fill:#262626;\" transform=\"translate(262.4 259.483125)rotate(-90)scale(0.1 -0.1)\">\n       <use xlink:href=\"#DejaVuSans-50\"/>\n       <use x=\"63.623047\" xlink:href=\"#DejaVuSans-49\"/>\n      </g>\n     </g>\n    </g>\n    <g id=\"xtick_23\">\n     <g id=\"text_23\">\n      <!-- 22 -->\n      <g style=\"fill:#262626;\" transform=\"translate(271.7 259.483125)rotate(-90)scale(0.1 -0.1)\">\n       <use xlink:href=\"#DejaVuSans-50\"/>\n       <use x=\"63.623047\" xlink:href=\"#DejaVuSans-50\"/>\n      </g>\n     </g>\n    </g>\n    <g id=\"xtick_24\">\n     <g id=\"text_24\">\n      <!-- 23 -->\n      <g style=\"fill:#262626;\" transform=\"translate(281 259.483125)rotate(-90)scale(0.1 -0.1)\">\n       <use xlink:href=\"#DejaVuSans-50\"/>\n       <use x=\"63.623047\" xlink:href=\"#DejaVuSans-51\"/>\n      </g>\n     </g>\n    </g>\n    <g id=\"xtick_25\">\n     <g id=\"text_25\">\n      <!-- 24 -->\n      <g style=\"fill:#262626;\" transform=\"translate(290.3 259.483125)rotate(-90)scale(0.1 -0.1)\">\n       <use xlink:href=\"#DejaVuSans-50\"/>\n       <use x=\"63.623047\" xlink:href=\"#DejaVuSans-52\"/>\n      </g>\n     </g>\n    </g>\n    <g id=\"xtick_26\">\n     <g id=\"text_26\">\n      <!-- 25 -->\n      <g style=\"fill:#262626;\" transform=\"translate(299.6 259.483125)rotate(-90)scale(0.1 -0.1)\">\n       <use xlink:href=\"#DejaVuSans-50\"/>\n       <use x=\"63.623047\" xlink:href=\"#DejaVuSans-53\"/>\n      </g>\n     </g>\n    </g>\n    <g id=\"xtick_27\">\n     <g id=\"text_27\">\n      <!-- 26 -->\n      <g style=\"fill:#262626;\" transform=\"translate(308.9 259.483125)rotate(-90)scale(0.1 -0.1)\">\n       <use xlink:href=\"#DejaVuSans-50\"/>\n       <use x=\"63.623047\" xlink:href=\"#DejaVuSans-54\"/>\n      </g>\n     </g>\n    </g>\n    <g id=\"xtick_28\">\n     <g id=\"text_28\">\n      <!-- 27 -->\n      <g style=\"fill:#262626;\" transform=\"translate(318.2 259.483125)rotate(-90)scale(0.1 -0.1)\">\n       <use xlink:href=\"#DejaVuSans-50\"/>\n       <use x=\"63.623047\" xlink:href=\"#DejaVuSans-55\"/>\n      </g>\n     </g>\n    </g>\n    <g id=\"xtick_29\">\n     <g id=\"text_29\">\n      <!-- 28 -->\n      <g style=\"fill:#262626;\" transform=\"translate(327.5 259.483125)rotate(-90)scale(0.1 -0.1)\">\n       <use xlink:href=\"#DejaVuSans-50\"/>\n       <use x=\"63.623047\" xlink:href=\"#DejaVuSans-56\"/>\n      </g>\n     </g>\n    </g>\n    <g id=\"xtick_30\">\n     <g id=\"text_30\">\n      <!-- 29 -->\n      <g style=\"fill:#262626;\" transform=\"translate(336.8 259.483125)rotate(-90)scale(0.1 -0.1)\">\n       <use xlink:href=\"#DejaVuSans-50\"/>\n       <use x=\"63.623047\" xlink:href=\"#DejaVuSans-57\"/>\n      </g>\n     </g>\n    </g>\n    <g id=\"xtick_31\">\n     <g id=\"text_31\">\n      <!-- 30 -->\n      <g style=\"fill:#262626;\" transform=\"translate(346.1 259.483125)rotate(-90)scale(0.1 -0.1)\">\n       <use xlink:href=\"#DejaVuSans-51\"/>\n       <use x=\"63.623047\" xlink:href=\"#DejaVuSans-48\"/>\n      </g>\n     </g>\n    </g>\n    <g id=\"xtick_32\">\n     <g id=\"text_32\">\n      <!-- 31 -->\n      <g style=\"fill:#262626;\" transform=\"translate(355.4 259.483125)rotate(-90)scale(0.1 -0.1)\">\n       <use xlink:href=\"#DejaVuSans-51\"/>\n       <use x=\"63.623047\" xlink:href=\"#DejaVuSans-49\"/>\n      </g>\n     </g>\n    </g>\n    <g id=\"xtick_33\">\n     <g id=\"text_33\">\n      <!-- 32 -->\n      <g style=\"fill:#262626;\" transform=\"translate(364.7 259.483125)rotate(-90)scale(0.1 -0.1)\">\n       <use xlink:href=\"#DejaVuSans-51\"/>\n       <use x=\"63.623047\" xlink:href=\"#DejaVuSans-50\"/>\n      </g>\n     </g>\n    </g>\n    <g id=\"xtick_34\">\n     <g id=\"text_34\">\n      <!-- 33 -->\n      <g style=\"fill:#262626;\" transform=\"translate(374 259.483125)rotate(-90)scale(0.1 -0.1)\">\n       <use xlink:href=\"#DejaVuSans-51\"/>\n       <use x=\"63.623047\" xlink:href=\"#DejaVuSans-51\"/>\n      </g>\n     </g>\n    </g>\n    <g id=\"xtick_35\">\n     <g id=\"text_35\">\n      <!-- 34 -->\n      <g style=\"fill:#262626;\" transform=\"translate(383.3 259.483125)rotate(-90)scale(0.1 -0.1)\">\n       <use xlink:href=\"#DejaVuSans-51\"/>\n       <use x=\"63.623047\" xlink:href=\"#DejaVuSans-52\"/>\n      </g>\n     </g>\n    </g>\n    <g id=\"xtick_36\">\n     <g id=\"text_36\">\n      <!-- 35 -->\n      <g style=\"fill:#262626;\" transform=\"translate(392.6 259.483125)rotate(-90)scale(0.1 -0.1)\">\n       <use xlink:href=\"#DejaVuSans-51\"/>\n       <use x=\"63.623047\" xlink:href=\"#DejaVuSans-53\"/>\n      </g>\n     </g>\n    </g>\n    <g id=\"xtick_37\">\n     <g id=\"text_37\">\n      <!-- 36 -->\n      <g style=\"fill:#262626;\" transform=\"translate(401.9 259.483125)rotate(-90)scale(0.1 -0.1)\">\n       <use xlink:href=\"#DejaVuSans-51\"/>\n       <use x=\"63.623047\" xlink:href=\"#DejaVuSans-54\"/>\n      </g>\n     </g>\n    </g>\n    <g id=\"xtick_38\">\n     <g id=\"text_38\">\n      <!-- 37 -->\n      <g style=\"fill:#262626;\" transform=\"translate(411.2 259.483125)rotate(-90)scale(0.1 -0.1)\">\n       <use xlink:href=\"#DejaVuSans-51\"/>\n       <use x=\"63.623047\" xlink:href=\"#DejaVuSans-55\"/>\n      </g>\n     </g>\n    </g>\n    <g id=\"xtick_39\">\n     <g id=\"text_39\">\n      <!-- 38 -->\n      <g style=\"fill:#262626;\" transform=\"translate(420.5 259.483125)rotate(-90)scale(0.1 -0.1)\">\n       <use xlink:href=\"#DejaVuSans-51\"/>\n       <use x=\"63.623047\" xlink:href=\"#DejaVuSans-56\"/>\n      </g>\n     </g>\n    </g>\n    <g id=\"xtick_40\">\n     <g id=\"text_40\">\n      <!-- 39 -->\n      <g style=\"fill:#262626;\" transform=\"translate(429.8 259.483125)rotate(-90)scale(0.1 -0.1)\">\n       <use xlink:href=\"#DejaVuSans-51\"/>\n       <use x=\"63.623047\" xlink:href=\"#DejaVuSans-57\"/>\n      </g>\n     </g>\n    </g>\n    <g id=\"xtick_41\">\n     <g id=\"text_41\">\n      <!-- 40 -->\n      <g style=\"fill:#262626;\" transform=\"translate(439.1 259.483125)rotate(-90)scale(0.1 -0.1)\">\n       <use xlink:href=\"#DejaVuSans-52\"/>\n       <use x=\"63.623047\" xlink:href=\"#DejaVuSans-48\"/>\n      </g>\n     </g>\n    </g>\n    <g id=\"xtick_42\">\n     <g id=\"text_42\">\n      <!-- 41 -->\n      <g style=\"fill:#262626;\" transform=\"translate(448.4 259.483125)rotate(-90)scale(0.1 -0.1)\">\n       <use xlink:href=\"#DejaVuSans-52\"/>\n       <use x=\"63.623047\" xlink:href=\"#DejaVuSans-49\"/>\n      </g>\n     </g>\n    </g>\n    <g id=\"xtick_43\">\n     <g id=\"text_43\">\n      <!-- 42 -->\n      <g style=\"fill:#262626;\" transform=\"translate(457.7 259.483125)rotate(-90)scale(0.1 -0.1)\">\n       <use xlink:href=\"#DejaVuSans-52\"/>\n       <use x=\"63.623047\" xlink:href=\"#DejaVuSans-50\"/>\n      </g>\n     </g>\n    </g>\n    <g id=\"xtick_44\">\n     <g id=\"text_44\">\n      <!-- 43 -->\n      <g style=\"fill:#262626;\" transform=\"translate(467 259.483125)rotate(-90)scale(0.1 -0.1)\">\n       <use xlink:href=\"#DejaVuSans-52\"/>\n       <use x=\"63.623047\" xlink:href=\"#DejaVuSans-51\"/>\n      </g>\n     </g>\n    </g>\n    <g id=\"xtick_45\">\n     <g id=\"text_45\">\n      <!-- 44 -->\n      <g style=\"fill:#262626;\" transform=\"translate(476.3 259.483125)rotate(-90)scale(0.1 -0.1)\">\n       <use xlink:href=\"#DejaVuSans-52\"/>\n       <use x=\"63.623047\" xlink:href=\"#DejaVuSans-52\"/>\n      </g>\n     </g>\n    </g>\n    <g id=\"xtick_46\">\n     <g id=\"text_46\">\n      <!-- 45 -->\n      <g style=\"fill:#262626;\" transform=\"translate(485.6 259.483125)rotate(-90)scale(0.1 -0.1)\">\n       <use xlink:href=\"#DejaVuSans-52\"/>\n       <use x=\"63.623047\" xlink:href=\"#DejaVuSans-53\"/>\n      </g>\n     </g>\n    </g>\n    <g id=\"xtick_47\">\n     <g id=\"text_47\">\n      <!-- 46 -->\n      <g style=\"fill:#262626;\" transform=\"translate(494.9 259.483125)rotate(-90)scale(0.1 -0.1)\">\n       <use xlink:href=\"#DejaVuSans-52\"/>\n       <use x=\"63.623047\" xlink:href=\"#DejaVuSans-54\"/>\n      </g>\n     </g>\n    </g>\n    <g id=\"xtick_48\">\n     <g id=\"text_48\">\n      <!-- 47 -->\n      <g style=\"fill:#262626;\" transform=\"translate(504.2 259.483125)rotate(-90)scale(0.1 -0.1)\">\n       <use xlink:href=\"#DejaVuSans-52\"/>\n       <use x=\"63.623047\" xlink:href=\"#DejaVuSans-55\"/>\n      </g>\n     </g>\n    </g>\n    <g id=\"xtick_49\">\n     <g id=\"text_49\">\n      <!-- 48 -->\n      <g style=\"fill:#262626;\" transform=\"translate(513.5 259.483125)rotate(-90)scale(0.1 -0.1)\">\n       <use xlink:href=\"#DejaVuSans-52\"/>\n       <use x=\"63.623047\" xlink:href=\"#DejaVuSans-56\"/>\n      </g>\n     </g>\n    </g>\n    <g id=\"xtick_50\">\n     <g id=\"text_50\">\n      <!-- 49 -->\n      <g style=\"fill:#262626;\" transform=\"translate(522.8 259.483125)rotate(-90)scale(0.1 -0.1)\">\n       <use xlink:href=\"#DejaVuSans-52\"/>\n       <use x=\"63.623047\" xlink:href=\"#DejaVuSans-57\"/>\n      </g>\n     </g>\n    </g>\n    <g id=\"xtick_51\">\n     <g id=\"text_51\">\n      <!-- 50 -->\n      <g style=\"fill:#262626;\" transform=\"translate(532.1 259.483125)rotate(-90)scale(0.1 -0.1)\">\n       <use xlink:href=\"#DejaVuSans-53\"/>\n       <use x=\"63.623047\" xlink:href=\"#DejaVuSans-48\"/>\n      </g>\n     </g>\n    </g>\n    <g id=\"xtick_52\">\n     <g id=\"text_52\">\n      <!-- 51 -->\n      <g style=\"fill:#262626;\" transform=\"translate(541.4 259.483125)rotate(-90)scale(0.1 -0.1)\">\n       <use xlink:href=\"#DejaVuSans-53\"/>\n       <use x=\"63.623047\" xlink:href=\"#DejaVuSans-49\"/>\n      </g>\n     </g>\n    </g>\n    <g id=\"xtick_53\">\n     <g id=\"text_53\">\n      <!-- 52 -->\n      <g style=\"fill:#262626;\" transform=\"translate(550.7 259.483125)rotate(-90)scale(0.1 -0.1)\">\n       <use xlink:href=\"#DejaVuSans-53\"/>\n       <use x=\"63.623047\" xlink:href=\"#DejaVuSans-50\"/>\n      </g>\n     </g>\n    </g>\n    <g id=\"xtick_54\">\n     <g id=\"text_54\">\n      <!-- 53 -->\n      <g style=\"fill:#262626;\" transform=\"translate(560 259.483125)rotate(-90)scale(0.1 -0.1)\">\n       <use xlink:href=\"#DejaVuSans-53\"/>\n       <use x=\"63.623047\" xlink:href=\"#DejaVuSans-51\"/>\n      </g>\n     </g>\n    </g>\n    <g id=\"xtick_55\">\n     <g id=\"text_55\">\n      <!-- 54 -->\n      <g style=\"fill:#262626;\" transform=\"translate(569.3 259.483125)rotate(-90)scale(0.1 -0.1)\">\n       <use xlink:href=\"#DejaVuSans-53\"/>\n       <use x=\"63.623047\" xlink:href=\"#DejaVuSans-52\"/>\n      </g>\n     </g>\n    </g>\n    <g id=\"xtick_56\">\n     <g id=\"text_56\">\n      <!-- 55 -->\n      <g style=\"fill:#262626;\" transform=\"translate(578.6 259.483125)rotate(-90)scale(0.1 -0.1)\">\n       <use xlink:href=\"#DejaVuSans-53\"/>\n       <use x=\"63.623047\" xlink:href=\"#DejaVuSans-53\"/>\n      </g>\n     </g>\n    </g>\n    <g id=\"xtick_57\">\n     <g id=\"text_57\">\n      <!-- 56 -->\n      <g style=\"fill:#262626;\" transform=\"translate(587.9 259.483125)rotate(-90)scale(0.1 -0.1)\">\n       <use xlink:href=\"#DejaVuSans-53\"/>\n       <use x=\"63.623047\" xlink:href=\"#DejaVuSans-54\"/>\n      </g>\n     </g>\n    </g>\n    <g id=\"xtick_58\">\n     <g id=\"text_58\">\n      <!-- 57 -->\n      <g style=\"fill:#262626;\" transform=\"translate(597.2 259.483125)rotate(-90)scale(0.1 -0.1)\">\n       <use xlink:href=\"#DejaVuSans-53\"/>\n       <use x=\"63.623047\" xlink:href=\"#DejaVuSans-55\"/>\n      </g>\n     </g>\n    </g>\n    <g id=\"xtick_59\">\n     <g id=\"text_59\">\n      <!-- 58 -->\n      <g style=\"fill:#262626;\" transform=\"translate(606.5 259.483125)rotate(-90)scale(0.1 -0.1)\">\n       <use xlink:href=\"#DejaVuSans-53\"/>\n       <use x=\"63.623047\" xlink:href=\"#DejaVuSans-56\"/>\n      </g>\n     </g>\n    </g>\n    <g id=\"xtick_60\">\n     <g id=\"text_60\">\n      <!-- 59 -->\n      <g style=\"fill:#262626;\" transform=\"translate(615.8 259.483125)rotate(-90)scale(0.1 -0.1)\">\n       <use xlink:href=\"#DejaVuSans-53\"/>\n       <use x=\"63.623047\" xlink:href=\"#DejaVuSans-57\"/>\n      </g>\n     </g>\n    </g>\n    <g id=\"xtick_61\">\n     <g id=\"text_61\">\n      <!-- 60 -->\n      <g style=\"fill:#262626;\" transform=\"translate(625.1 259.483125)rotate(-90)scale(0.1 -0.1)\">\n       <use xlink:href=\"#DejaVuSans-54\"/>\n       <use x=\"63.623047\" xlink:href=\"#DejaVuSans-48\"/>\n      </g>\n     </g>\n    </g>\n    <g id=\"xtick_62\">\n     <g id=\"text_62\">\n      <!-- 61 -->\n      <g style=\"fill:#262626;\" transform=\"translate(634.4 259.483125)rotate(-90)scale(0.1 -0.1)\">\n       <use xlink:href=\"#DejaVuSans-54\"/>\n       <use x=\"63.623047\" xlink:href=\"#DejaVuSans-49\"/>\n      </g>\n     </g>\n    </g>\n    <g id=\"xtick_63\">\n     <g id=\"text_63\">\n      <!-- 62 -->\n      <g style=\"fill:#262626;\" transform=\"translate(643.7 259.483125)rotate(-90)scale(0.1 -0.1)\">\n       <use xlink:href=\"#DejaVuSans-54\"/>\n       <use x=\"63.623047\" xlink:href=\"#DejaVuSans-50\"/>\n      </g>\n     </g>\n    </g>\n    <g id=\"xtick_64\">\n     <g id=\"text_64\">\n      <!-- 63 -->\n      <g style=\"fill:#262626;\" transform=\"translate(653 259.483125)rotate(-90)scale(0.1 -0.1)\">\n       <use xlink:href=\"#DejaVuSans-54\"/>\n       <use x=\"63.623047\" xlink:href=\"#DejaVuSans-51\"/>\n      </g>\n     </g>\n    </g>\n    <g id=\"xtick_65\">\n     <g id=\"text_65\">\n      <!-- 64 -->\n      <g style=\"fill:#262626;\" transform=\"translate(662.3 259.483125)rotate(-90)scale(0.1 -0.1)\">\n       <use xlink:href=\"#DejaVuSans-54\"/>\n       <use x=\"63.623047\" xlink:href=\"#DejaVuSans-52\"/>\n      </g>\n     </g>\n    </g>\n    <g id=\"xtick_66\">\n     <g id=\"text_66\">\n      <!-- 65 -->\n      <g style=\"fill:#262626;\" transform=\"translate(671.6 259.483125)rotate(-90)scale(0.1 -0.1)\">\n       <use xlink:href=\"#DejaVuSans-54\"/>\n       <use x=\"63.623047\" xlink:href=\"#DejaVuSans-53\"/>\n      </g>\n     </g>\n    </g>\n    <g id=\"xtick_67\">\n     <g id=\"text_67\">\n      <!-- 66 -->\n      <g style=\"fill:#262626;\" transform=\"translate(680.9 259.483125)rotate(-90)scale(0.1 -0.1)\">\n       <use xlink:href=\"#DejaVuSans-54\"/>\n       <use x=\"63.623047\" xlink:href=\"#DejaVuSans-54\"/>\n      </g>\n     </g>\n    </g>\n    <g id=\"xtick_68\">\n     <g id=\"text_68\">\n      <!-- 67 -->\n      <g style=\"fill:#262626;\" transform=\"translate(690.2 259.483125)rotate(-90)scale(0.1 -0.1)\">\n       <use xlink:href=\"#DejaVuSans-54\"/>\n       <use x=\"63.623047\" xlink:href=\"#DejaVuSans-55\"/>\n      </g>\n     </g>\n    </g>\n    <g id=\"xtick_69\">\n     <g id=\"text_69\">\n      <!-- 68 -->\n      <g style=\"fill:#262626;\" transform=\"translate(699.5 259.483125)rotate(-90)scale(0.1 -0.1)\">\n       <use xlink:href=\"#DejaVuSans-54\"/>\n       <use x=\"63.623047\" xlink:href=\"#DejaVuSans-56\"/>\n      </g>\n     </g>\n    </g>\n    <g id=\"xtick_70\">\n     <g id=\"text_70\">\n      <!-- 69 -->\n      <g style=\"fill:#262626;\" transform=\"translate(708.8 259.483125)rotate(-90)scale(0.1 -0.1)\">\n       <use xlink:href=\"#DejaVuSans-54\"/>\n       <use x=\"63.623047\" xlink:href=\"#DejaVuSans-57\"/>\n      </g>\n     </g>\n    </g>\n    <g id=\"xtick_71\">\n     <g id=\"text_71\">\n      <!-- 70 -->\n      <g style=\"fill:#262626;\" transform=\"translate(718.1 259.483125)rotate(-90)scale(0.1 -0.1)\">\n       <use xlink:href=\"#DejaVuSans-55\"/>\n       <use x=\"63.623047\" xlink:href=\"#DejaVuSans-48\"/>\n      </g>\n     </g>\n    </g>\n    <g id=\"xtick_72\">\n     <g id=\"text_72\">\n      <!-- 71 -->\n      <g style=\"fill:#262626;\" transform=\"translate(727.4 259.483125)rotate(-90)scale(0.1 -0.1)\">\n       <use xlink:href=\"#DejaVuSans-55\"/>\n       <use x=\"63.623047\" xlink:href=\"#DejaVuSans-49\"/>\n      </g>\n     </g>\n    </g>\n    <g id=\"xtick_73\">\n     <g id=\"text_73\">\n      <!-- 72 -->\n      <g style=\"fill:#262626;\" transform=\"translate(736.7 259.483125)rotate(-90)scale(0.1 -0.1)\">\n       <use xlink:href=\"#DejaVuSans-55\"/>\n       <use x=\"63.623047\" xlink:href=\"#DejaVuSans-50\"/>\n      </g>\n     </g>\n    </g>\n    <g id=\"xtick_74\">\n     <g id=\"text_74\">\n      <!-- 73 -->\n      <g style=\"fill:#262626;\" transform=\"translate(746 259.483125)rotate(-90)scale(0.1 -0.1)\">\n       <use xlink:href=\"#DejaVuSans-55\"/>\n       <use x=\"63.623047\" xlink:href=\"#DejaVuSans-51\"/>\n      </g>\n     </g>\n    </g>\n    <g id=\"xtick_75\">\n     <g id=\"text_75\">\n      <!-- 74 -->\n      <g style=\"fill:#262626;\" transform=\"translate(755.3 259.483125)rotate(-90)scale(0.1 -0.1)\">\n       <use xlink:href=\"#DejaVuSans-55\"/>\n       <use x=\"63.623047\" xlink:href=\"#DejaVuSans-52\"/>\n      </g>\n     </g>\n    </g>\n    <g id=\"xtick_76\">\n     <g id=\"text_76\">\n      <!-- 75 -->\n      <g style=\"fill:#262626;\" transform=\"translate(764.6 259.483125)rotate(-90)scale(0.1 -0.1)\">\n       <use xlink:href=\"#DejaVuSans-55\"/>\n       <use x=\"63.623047\" xlink:href=\"#DejaVuSans-53\"/>\n      </g>\n     </g>\n    </g>\n    <g id=\"xtick_77\">\n     <g id=\"text_77\">\n      <!-- 76 -->\n      <g style=\"fill:#262626;\" transform=\"translate(773.9 259.483125)rotate(-90)scale(0.1 -0.1)\">\n       <use xlink:href=\"#DejaVuSans-55\"/>\n       <use x=\"63.623047\" xlink:href=\"#DejaVuSans-54\"/>\n      </g>\n     </g>\n    </g>\n    <g id=\"xtick_78\">\n     <g id=\"text_78\">\n      <!-- 77 -->\n      <g style=\"fill:#262626;\" transform=\"translate(783.2 259.483125)rotate(-90)scale(0.1 -0.1)\">\n       <use xlink:href=\"#DejaVuSans-55\"/>\n       <use x=\"63.623047\" xlink:href=\"#DejaVuSans-55\"/>\n      </g>\n     </g>\n    </g>\n    <g id=\"xtick_79\">\n     <g id=\"text_79\">\n      <!-- 78 -->\n      <g style=\"fill:#262626;\" transform=\"translate(792.5 259.483125)rotate(-90)scale(0.1 -0.1)\">\n       <use xlink:href=\"#DejaVuSans-55\"/>\n       <use x=\"63.623047\" xlink:href=\"#DejaVuSans-56\"/>\n      </g>\n     </g>\n    </g>\n    <g id=\"xtick_80\">\n     <g id=\"text_80\">\n      <!-- 79 -->\n      <g style=\"fill:#262626;\" transform=\"translate(801.8 259.483125)rotate(-90)scale(0.1 -0.1)\">\n       <use xlink:href=\"#DejaVuSans-55\"/>\n       <use x=\"63.623047\" xlink:href=\"#DejaVuSans-57\"/>\n      </g>\n     </g>\n    </g>\n    <g id=\"xtick_81\">\n     <g id=\"text_81\">\n      <!-- 80 -->\n      <g style=\"fill:#262626;\" transform=\"translate(811.1 259.483125)rotate(-90)scale(0.1 -0.1)\">\n       <use xlink:href=\"#DejaVuSans-56\"/>\n       <use x=\"63.623047\" xlink:href=\"#DejaVuSans-48\"/>\n      </g>\n     </g>\n    </g>\n    <g id=\"xtick_82\">\n     <g id=\"text_82\">\n      <!-- 81 -->\n      <g style=\"fill:#262626;\" transform=\"translate(820.4 259.483125)rotate(-90)scale(0.1 -0.1)\">\n       <use xlink:href=\"#DejaVuSans-56\"/>\n       <use x=\"63.623047\" xlink:href=\"#DejaVuSans-49\"/>\n      </g>\n     </g>\n    </g>\n    <g id=\"xtick_83\">\n     <g id=\"text_83\">\n      <!-- 82 -->\n      <g style=\"fill:#262626;\" transform=\"translate(829.7 259.483125)rotate(-90)scale(0.1 -0.1)\">\n       <use xlink:href=\"#DejaVuSans-56\"/>\n       <use x=\"63.623047\" xlink:href=\"#DejaVuSans-50\"/>\n      </g>\n     </g>\n    </g>\n    <g id=\"xtick_84\">\n     <g id=\"text_84\">\n      <!-- 83 -->\n      <g style=\"fill:#262626;\" transform=\"translate(839 259.483125)rotate(-90)scale(0.1 -0.1)\">\n       <use xlink:href=\"#DejaVuSans-56\"/>\n       <use x=\"63.623047\" xlink:href=\"#DejaVuSans-51\"/>\n      </g>\n     </g>\n    </g>\n    <g id=\"xtick_85\">\n     <g id=\"text_85\">\n      <!-- 84 -->\n      <g style=\"fill:#262626;\" transform=\"translate(848.3 259.483125)rotate(-90)scale(0.1 -0.1)\">\n       <use xlink:href=\"#DejaVuSans-56\"/>\n       <use x=\"63.623047\" xlink:href=\"#DejaVuSans-52\"/>\n      </g>\n     </g>\n    </g>\n    <g id=\"xtick_86\">\n     <g id=\"text_86\">\n      <!-- 85 -->\n      <g style=\"fill:#262626;\" transform=\"translate(857.6 259.483125)rotate(-90)scale(0.1 -0.1)\">\n       <use xlink:href=\"#DejaVuSans-56\"/>\n       <use x=\"63.623047\" xlink:href=\"#DejaVuSans-53\"/>\n      </g>\n     </g>\n    </g>\n    <g id=\"xtick_87\">\n     <g id=\"text_87\">\n      <!-- 86 -->\n      <g style=\"fill:#262626;\" transform=\"translate(866.9 259.483125)rotate(-90)scale(0.1 -0.1)\">\n       <use xlink:href=\"#DejaVuSans-56\"/>\n       <use x=\"63.623047\" xlink:href=\"#DejaVuSans-54\"/>\n      </g>\n     </g>\n    </g>\n    <g id=\"xtick_88\">\n     <g id=\"text_88\">\n      <!-- 87 -->\n      <g style=\"fill:#262626;\" transform=\"translate(876.2 259.483125)rotate(-90)scale(0.1 -0.1)\">\n       <use xlink:href=\"#DejaVuSans-56\"/>\n       <use x=\"63.623047\" xlink:href=\"#DejaVuSans-55\"/>\n      </g>\n     </g>\n    </g>\n    <g id=\"xtick_89\">\n     <g id=\"text_89\">\n      <!-- 88 -->\n      <g style=\"fill:#262626;\" transform=\"translate(885.5 259.483125)rotate(-90)scale(0.1 -0.1)\">\n       <use xlink:href=\"#DejaVuSans-56\"/>\n       <use x=\"63.623047\" xlink:href=\"#DejaVuSans-56\"/>\n      </g>\n     </g>\n    </g>\n    <g id=\"xtick_90\">\n     <g id=\"text_90\">\n      <!-- 89 -->\n      <g style=\"fill:#262626;\" transform=\"translate(894.8 259.483125)rotate(-90)scale(0.1 -0.1)\">\n       <use xlink:href=\"#DejaVuSans-56\"/>\n       <use x=\"63.623047\" xlink:href=\"#DejaVuSans-57\"/>\n      </g>\n     </g>\n    </g>\n    <g id=\"xtick_91\">\n     <g id=\"text_91\">\n      <!-- 90 -->\n      <g style=\"fill:#262626;\" transform=\"translate(904.1 259.483125)rotate(-90)scale(0.1 -0.1)\">\n       <use xlink:href=\"#DejaVuSans-57\"/>\n       <use x=\"63.623047\" xlink:href=\"#DejaVuSans-48\"/>\n      </g>\n     </g>\n    </g>\n    <g id=\"xtick_92\">\n     <g id=\"text_92\">\n      <!-- 91 -->\n      <g style=\"fill:#262626;\" transform=\"translate(913.4 259.483125)rotate(-90)scale(0.1 -0.1)\">\n       <use xlink:href=\"#DejaVuSans-57\"/>\n       <use x=\"63.623047\" xlink:href=\"#DejaVuSans-49\"/>\n      </g>\n     </g>\n    </g>\n    <g id=\"xtick_93\">\n     <g id=\"text_93\">\n      <!-- 92 -->\n      <g style=\"fill:#262626;\" transform=\"translate(922.7 259.483125)rotate(-90)scale(0.1 -0.1)\">\n       <use xlink:href=\"#DejaVuSans-57\"/>\n       <use x=\"63.623047\" xlink:href=\"#DejaVuSans-50\"/>\n      </g>\n     </g>\n    </g>\n    <g id=\"xtick_94\">\n     <g id=\"text_94\">\n      <!-- 93 -->\n      <g style=\"fill:#262626;\" transform=\"translate(932 259.483125)rotate(-90)scale(0.1 -0.1)\">\n       <use xlink:href=\"#DejaVuSans-57\"/>\n       <use x=\"63.623047\" xlink:href=\"#DejaVuSans-51\"/>\n      </g>\n     </g>\n    </g>\n    <g id=\"xtick_95\">\n     <g id=\"text_95\">\n      <!-- 94 -->\n      <g style=\"fill:#262626;\" transform=\"translate(941.3 259.483125)rotate(-90)scale(0.1 -0.1)\">\n       <use xlink:href=\"#DejaVuSans-57\"/>\n       <use x=\"63.623047\" xlink:href=\"#DejaVuSans-52\"/>\n      </g>\n     </g>\n    </g>\n    <g id=\"xtick_96\">\n     <g id=\"text_96\">\n      <!-- 95 -->\n      <g style=\"fill:#262626;\" transform=\"translate(950.6 259.483125)rotate(-90)scale(0.1 -0.1)\">\n       <use xlink:href=\"#DejaVuSans-57\"/>\n       <use x=\"63.623047\" xlink:href=\"#DejaVuSans-53\"/>\n      </g>\n     </g>\n    </g>\n    <g id=\"text_97\">\n     <!-- age -->\n     <defs>\n      <path d=\"M 34.28125 27.484375 \nQ 23.390625 27.484375 19.1875 25 \nQ 14.984375 22.515625 14.984375 16.5 \nQ 14.984375 11.71875 18.140625 8.90625 \nQ 21.296875 6.109375 26.703125 6.109375 \nQ 34.1875 6.109375 38.703125 11.40625 \nQ 43.21875 16.703125 43.21875 25.484375 \nL 43.21875 27.484375 \nz\nM 52.203125 31.203125 \nL 52.203125 0 \nL 43.21875 0 \nL 43.21875 8.296875 \nQ 40.140625 3.328125 35.546875 0.953125 \nQ 30.953125 -1.421875 24.3125 -1.421875 \nQ 15.921875 -1.421875 10.953125 3.296875 \nQ 6 8.015625 6 15.921875 \nQ 6 25.140625 12.171875 29.828125 \nQ 18.359375 34.515625 30.609375 34.515625 \nL 43.21875 34.515625 \nL 43.21875 35.40625 \nQ 43.21875 41.609375 39.140625 45 \nQ 35.0625 48.390625 27.6875 48.390625 \nQ 23 48.390625 18.546875 47.265625 \nQ 14.109375 46.140625 10.015625 43.890625 \nL 10.015625 52.203125 \nQ 14.9375 54.109375 19.578125 55.046875 \nQ 24.21875 56 28.609375 56 \nQ 40.484375 56 46.34375 49.84375 \nQ 52.203125 43.703125 52.203125 31.203125 \nz\n\" id=\"DejaVuSans-97\"/>\n      <path d=\"M 45.40625 27.984375 \nQ 45.40625 37.75 41.375 43.109375 \nQ 37.359375 48.484375 30.078125 48.484375 \nQ 22.859375 48.484375 18.828125 43.109375 \nQ 14.796875 37.75 14.796875 27.984375 \nQ 14.796875 18.265625 18.828125 12.890625 \nQ 22.859375 7.515625 30.078125 7.515625 \nQ 37.359375 7.515625 41.375 12.890625 \nQ 45.40625 18.265625 45.40625 27.984375 \nz\nM 54.390625 6.78125 \nQ 54.390625 -7.171875 48.1875 -13.984375 \nQ 42 -20.796875 29.203125 -20.796875 \nQ 24.46875 -20.796875 20.265625 -20.09375 \nQ 16.0625 -19.390625 12.109375 -17.921875 \nL 12.109375 -9.1875 \nQ 16.0625 -11.328125 19.921875 -12.34375 \nQ 23.78125 -13.375 27.78125 -13.375 \nQ 36.625 -13.375 41.015625 -8.765625 \nQ 45.40625 -4.15625 45.40625 5.171875 \nL 45.40625 9.625 \nQ 42.625 4.78125 38.28125 2.390625 \nQ 33.9375 0 27.875 0 \nQ 17.828125 0 11.671875 7.65625 \nQ 5.515625 15.328125 5.515625 27.984375 \nQ 5.515625 40.671875 11.671875 48.328125 \nQ 17.828125 56 27.875 56 \nQ 33.9375 56 38.28125 53.609375 \nQ 42.625 51.21875 45.40625 46.390625 \nL 45.40625 54.6875 \nL 54.390625 54.6875 \nz\n\" id=\"DejaVuSans-103\"/>\n      <path d=\"M 56.203125 29.59375 \nL 56.203125 25.203125 \nL 14.890625 25.203125 \nQ 15.484375 15.921875 20.484375 11.0625 \nQ 25.484375 6.203125 34.421875 6.203125 \nQ 39.59375 6.203125 44.453125 7.46875 \nQ 49.3125 8.734375 54.109375 11.28125 \nL 54.109375 2.78125 \nQ 49.265625 0.734375 44.1875 -0.34375 \nQ 39.109375 -1.421875 33.890625 -1.421875 \nQ 20.796875 -1.421875 13.15625 6.1875 \nQ 5.515625 13.8125 5.515625 26.8125 \nQ 5.515625 40.234375 12.765625 48.109375 \nQ 20.015625 56 32.328125 56 \nQ 43.359375 56 49.78125 48.890625 \nQ 56.203125 41.796875 56.203125 29.59375 \nz\nM 47.21875 32.234375 \nQ 47.125 39.59375 43.09375 43.984375 \nQ 39.0625 48.390625 32.421875 48.390625 \nQ 24.90625 48.390625 20.390625 44.140625 \nQ 15.875 39.890625 15.1875 32.171875 \nz\n\" id=\"DejaVuSans-101\"/>\n     </defs>\n     <g style=\"fill:#262626;\" transform=\"translate(496.775781 271.081562)scale(0.1 -0.1)\">\n      <use xlink:href=\"#DejaVuSans-97\"/>\n      <use x=\"61.279297\" xlink:href=\"#DejaVuSans-103\"/>\n      <use x=\"124.755859\" xlink:href=\"#DejaVuSans-101\"/>\n     </g>\n    </g>\n   </g>\n   <g id=\"matplotlib.axis_2\">\n    <g id=\"ytick_1\">\n     <g id=\"line2d_1\">\n      <path clip-path=\"url(#pab97f22d27)\" d=\"M 59.690625 239.758125 \nL 952.490625 239.758125 \n\" style=\"fill:none;stroke:#cccccc;stroke-linecap:round;stroke-width:0.8;\"/>\n     </g>\n     <g id=\"text_98\">\n      <!-- 0 -->\n      <g style=\"fill:#262626;\" transform=\"translate(46.328125 243.557344)scale(0.1 -0.1)\">\n       <use xlink:href=\"#DejaVuSans-48\"/>\n      </g>\n     </g>\n    </g>\n    <g id=\"ytick_2\">\n     <g id=\"line2d_2\">\n      <path clip-path=\"url(#pab97f22d27)\" d=\"M 59.690625 209.886403 \nL 952.490625 209.886403 \n\" style=\"fill:none;stroke:#cccccc;stroke-linecap:round;stroke-width:0.8;\"/>\n     </g>\n     <g id=\"text_99\">\n      <!-- 2000 -->\n      <g style=\"fill:#262626;\" transform=\"translate(27.240625 213.685622)scale(0.1 -0.1)\">\n       <use xlink:href=\"#DejaVuSans-50\"/>\n       <use x=\"63.623047\" xlink:href=\"#DejaVuSans-48\"/>\n       <use x=\"127.246094\" xlink:href=\"#DejaVuSans-48\"/>\n       <use x=\"190.869141\" xlink:href=\"#DejaVuSans-48\"/>\n      </g>\n     </g>\n    </g>\n    <g id=\"ytick_3\">\n     <g id=\"line2d_3\">\n      <path clip-path=\"url(#pab97f22d27)\" d=\"M 59.690625 180.014681 \nL 952.490625 180.014681 \n\" style=\"fill:none;stroke:#cccccc;stroke-linecap:round;stroke-width:0.8;\"/>\n     </g>\n     <g id=\"text_100\">\n      <!-- 4000 -->\n      <g style=\"fill:#262626;\" transform=\"translate(27.240625 183.813899)scale(0.1 -0.1)\">\n       <use xlink:href=\"#DejaVuSans-52\"/>\n       <use x=\"63.623047\" xlink:href=\"#DejaVuSans-48\"/>\n       <use x=\"127.246094\" xlink:href=\"#DejaVuSans-48\"/>\n       <use x=\"190.869141\" xlink:href=\"#DejaVuSans-48\"/>\n      </g>\n     </g>\n    </g>\n    <g id=\"ytick_4\">\n     <g id=\"line2d_4\">\n      <path clip-path=\"url(#pab97f22d27)\" d=\"M 59.690625 150.142958 \nL 952.490625 150.142958 \n\" style=\"fill:none;stroke:#cccccc;stroke-linecap:round;stroke-width:0.8;\"/>\n     </g>\n     <g id=\"text_101\">\n      <!-- 6000 -->\n      <g style=\"fill:#262626;\" transform=\"translate(27.240625 153.942177)scale(0.1 -0.1)\">\n       <use xlink:href=\"#DejaVuSans-54\"/>\n       <use x=\"63.623047\" xlink:href=\"#DejaVuSans-48\"/>\n       <use x=\"127.246094\" xlink:href=\"#DejaVuSans-48\"/>\n       <use x=\"190.869141\" xlink:href=\"#DejaVuSans-48\"/>\n      </g>\n     </g>\n    </g>\n    <g id=\"ytick_5\">\n     <g id=\"line2d_5\">\n      <path clip-path=\"url(#pab97f22d27)\" d=\"M 59.690625 120.271236 \nL 952.490625 120.271236 \n\" style=\"fill:none;stroke:#cccccc;stroke-linecap:round;stroke-width:0.8;\"/>\n     </g>\n     <g id=\"text_102\">\n      <!-- 8000 -->\n      <g style=\"fill:#262626;\" transform=\"translate(27.240625 124.070455)scale(0.1 -0.1)\">\n       <use xlink:href=\"#DejaVuSans-56\"/>\n       <use x=\"63.623047\" xlink:href=\"#DejaVuSans-48\"/>\n       <use x=\"127.246094\" xlink:href=\"#DejaVuSans-48\"/>\n       <use x=\"190.869141\" xlink:href=\"#DejaVuSans-48\"/>\n      </g>\n     </g>\n    </g>\n    <g id=\"ytick_6\">\n     <g id=\"line2d_6\">\n      <path clip-path=\"url(#pab97f22d27)\" d=\"M 59.690625 90.399514 \nL 952.490625 90.399514 \n\" style=\"fill:none;stroke:#cccccc;stroke-linecap:round;stroke-width:0.8;\"/>\n     </g>\n     <g id=\"text_103\">\n      <!-- 10000 -->\n      <g style=\"fill:#262626;\" transform=\"translate(20.878125 94.198733)scale(0.1 -0.1)\">\n       <use xlink:href=\"#DejaVuSans-49\"/>\n       <use x=\"63.623047\" xlink:href=\"#DejaVuSans-48\"/>\n       <use x=\"127.246094\" xlink:href=\"#DejaVuSans-48\"/>\n       <use x=\"190.869141\" xlink:href=\"#DejaVuSans-48\"/>\n       <use x=\"254.492188\" xlink:href=\"#DejaVuSans-48\"/>\n      </g>\n     </g>\n    </g>\n    <g id=\"ytick_7\">\n     <g id=\"line2d_7\">\n      <path clip-path=\"url(#pab97f22d27)\" d=\"M 59.690625 60.527792 \nL 952.490625 60.527792 \n\" style=\"fill:none;stroke:#cccccc;stroke-linecap:round;stroke-width:0.8;\"/>\n     </g>\n     <g id=\"text_104\">\n      <!-- 12000 -->\n      <g style=\"fill:#262626;\" transform=\"translate(20.878125 64.32701)scale(0.1 -0.1)\">\n       <use xlink:href=\"#DejaVuSans-49\"/>\n       <use x=\"63.623047\" xlink:href=\"#DejaVuSans-50\"/>\n       <use x=\"127.246094\" xlink:href=\"#DejaVuSans-48\"/>\n       <use x=\"190.869141\" xlink:href=\"#DejaVuSans-48\"/>\n       <use x=\"254.492188\" xlink:href=\"#DejaVuSans-48\"/>\n      </g>\n     </g>\n    </g>\n    <g id=\"ytick_8\">\n     <g id=\"line2d_8\">\n      <path clip-path=\"url(#pab97f22d27)\" d=\"M 59.690625 30.656069 \nL 952.490625 30.656069 \n\" style=\"fill:none;stroke:#cccccc;stroke-linecap:round;stroke-width:0.8;\"/>\n     </g>\n     <g id=\"text_105\">\n      <!-- 14000 -->\n      <g style=\"fill:#262626;\" transform=\"translate(20.878125 34.455288)scale(0.1 -0.1)\">\n       <use xlink:href=\"#DejaVuSans-49\"/>\n       <use x=\"63.623047\" xlink:href=\"#DejaVuSans-52\"/>\n       <use x=\"127.246094\" xlink:href=\"#DejaVuSans-48\"/>\n       <use x=\"190.869141\" xlink:href=\"#DejaVuSans-48\"/>\n       <use x=\"254.492188\" xlink:href=\"#DejaVuSans-48\"/>\n      </g>\n     </g>\n    </g>\n    <g id=\"text_106\">\n     <!-- count -->\n     <defs>\n      <path d=\"M 48.78125 52.59375 \nL 48.78125 44.1875 \nQ 44.96875 46.296875 41.140625 47.34375 \nQ 37.3125 48.390625 33.40625 48.390625 \nQ 24.65625 48.390625 19.8125 42.84375 \nQ 14.984375 37.3125 14.984375 27.296875 \nQ 14.984375 17.28125 19.8125 11.734375 \nQ 24.65625 6.203125 33.40625 6.203125 \nQ 37.3125 6.203125 41.140625 7.25 \nQ 44.96875 8.296875 48.78125 10.40625 \nL 48.78125 2.09375 \nQ 45.015625 0.34375 40.984375 -0.53125 \nQ 36.96875 -1.421875 32.421875 -1.421875 \nQ 20.0625 -1.421875 12.78125 6.34375 \nQ 5.515625 14.109375 5.515625 27.296875 \nQ 5.515625 40.671875 12.859375 48.328125 \nQ 20.21875 56 33.015625 56 \nQ 37.15625 56 41.109375 55.140625 \nQ 45.0625 54.296875 48.78125 52.59375 \nz\n\" id=\"DejaVuSans-99\"/>\n      <path d=\"M 30.609375 48.390625 \nQ 23.390625 48.390625 19.1875 42.75 \nQ 14.984375 37.109375 14.984375 27.296875 \nQ 14.984375 17.484375 19.15625 11.84375 \nQ 23.34375 6.203125 30.609375 6.203125 \nQ 37.796875 6.203125 41.984375 11.859375 \nQ 46.1875 17.53125 46.1875 27.296875 \nQ 46.1875 37.015625 41.984375 42.703125 \nQ 37.796875 48.390625 30.609375 48.390625 \nz\nM 30.609375 56 \nQ 42.328125 56 49.015625 48.375 \nQ 55.71875 40.765625 55.71875 27.296875 \nQ 55.71875 13.875 49.015625 6.21875 \nQ 42.328125 -1.421875 30.609375 -1.421875 \nQ 18.84375 -1.421875 12.171875 6.21875 \nQ 5.515625 13.875 5.515625 27.296875 \nQ 5.515625 40.765625 12.171875 48.375 \nQ 18.84375 56 30.609375 56 \nz\n\" id=\"DejaVuSans-111\"/>\n      <path d=\"M 8.5 21.578125 \nL 8.5 54.6875 \nL 17.484375 54.6875 \nL 17.484375 21.921875 \nQ 17.484375 14.15625 20.5 10.265625 \nQ 23.53125 6.390625 29.59375 6.390625 \nQ 36.859375 6.390625 41.078125 11.03125 \nQ 45.3125 15.671875 45.3125 23.6875 \nL 45.3125 54.6875 \nL 54.296875 54.6875 \nL 54.296875 0 \nL 45.3125 0 \nL 45.3125 8.40625 \nQ 42.046875 3.421875 37.71875 1 \nQ 33.40625 -1.421875 27.6875 -1.421875 \nQ 18.265625 -1.421875 13.375 4.4375 \nQ 8.5 10.296875 8.5 21.578125 \nz\nM 31.109375 56 \nz\n\" id=\"DejaVuSans-117\"/>\n      <path d=\"M 54.890625 33.015625 \nL 54.890625 0 \nL 45.90625 0 \nL 45.90625 32.71875 \nQ 45.90625 40.484375 42.875 44.328125 \nQ 39.84375 48.1875 33.796875 48.1875 \nQ 26.515625 48.1875 22.3125 43.546875 \nQ 18.109375 38.921875 18.109375 30.90625 \nL 18.109375 0 \nL 9.078125 0 \nL 9.078125 54.6875 \nL 18.109375 54.6875 \nL 18.109375 46.1875 \nQ 21.34375 51.125 25.703125 53.5625 \nQ 30.078125 56 35.796875 56 \nQ 45.21875 56 50.046875 50.171875 \nQ 54.890625 44.34375 54.890625 33.015625 \nz\n\" id=\"DejaVuSans-110\"/>\n      <path d=\"M 18.3125 70.21875 \nL 18.3125 54.6875 \nL 36.8125 54.6875 \nL 36.8125 47.703125 \nL 18.3125 47.703125 \nL 18.3125 18.015625 \nQ 18.3125 11.328125 20.140625 9.421875 \nQ 21.96875 7.515625 27.59375 7.515625 \nL 36.8125 7.515625 \nL 36.8125 0 \nL 27.59375 0 \nQ 17.1875 0 13.234375 3.875 \nQ 9.28125 7.765625 9.28125 18.015625 \nL 9.28125 47.703125 \nL 2.6875 47.703125 \nL 2.6875 54.6875 \nL 9.28125 54.6875 \nL 9.28125 70.21875 \nz\n\" id=\"DejaVuSans-116\"/>\n     </defs>\n     <g style=\"fill:#262626;\" transform=\"translate(14.798438 145.144375)rotate(-90)scale(0.1 -0.1)\">\n      <use xlink:href=\"#DejaVuSans-99\"/>\n      <use x=\"54.980469\" xlink:href=\"#DejaVuSans-111\"/>\n      <use x=\"116.162109\" xlink:href=\"#DejaVuSans-117\"/>\n      <use x=\"179.541016\" xlink:href=\"#DejaVuSans-110\"/>\n      <use x=\"242.919922\" xlink:href=\"#DejaVuSans-116\"/>\n     </g>\n    </g>\n   </g>\n   <g id=\"patch_3\">\n    <path clip-path=\"url(#pab97f22d27)\" d=\"M 60.620625 239.758125 \nL 68.060625 239.758125 \nL 68.060625 32.672411 \nL 60.620625 32.672411 \nz\n\" style=\"fill:#ea96a3;stroke:#ffffff;stroke-linejoin:miter;\"/>\n   </g>\n   <g id=\"patch_4\">\n    <path clip-path=\"url(#pab97f22d27)\" d=\"M 69.920625 239.758125 \nL 77.360625 239.758125 \nL 77.360625 138.074783 \nL 69.920625 138.074783 \nz\n\" style=\"fill:#ea969e;stroke:#ffffff;stroke-linejoin:miter;\"/>\n   </g>\n   <g id=\"patch_5\">\n    <path clip-path=\"url(#pab97f22d27)\" d=\"M 79.220625 239.758125 \nL 86.660625 239.758125 \nL 86.660625 174.876744 \nL 79.220625 174.876744 \nz\n\" style=\"fill:#ea9799;stroke:#ffffff;stroke-linejoin:miter;\"/>\n   </g>\n   <g id=\"patch_6\">\n    <path clip-path=\"url(#pab97f22d27)\" d=\"M 88.520625 239.758125 \nL 95.960625 239.758125 \nL 95.960625 172.875339 \nL 88.520625 172.875339 \nz\n\" style=\"fill:#e99792;stroke:#ffffff;stroke-linejoin:miter;\"/>\n   </g>\n   <g id=\"patch_7\">\n    <path clip-path=\"url(#pab97f22d27)\" d=\"M 97.820625 239.758125 \nL 105.260625 239.758125 \nL 105.260625 170.022589 \nL 97.820625 170.022589 \nz\n\" style=\"fill:#e8968a;stroke:#ffffff;stroke-linejoin:miter;\"/>\n   </g>\n   <g id=\"patch_8\">\n    <path clip-path=\"url(#pab97f22d27)\" d=\"M 107.120625 239.758125 \nL 114.560625 239.758125 \nL 114.560625 161.389662 \nL 107.120625 161.389662 \nz\n\" style=\"fill:#e79681;stroke:#ffffff;stroke-linejoin:miter;\"/>\n   </g>\n   <g id=\"patch_9\">\n    <path clip-path=\"url(#pab97f22d27)\" d=\"M 116.420625 239.758125 \nL 123.860625 239.758125 \nL 123.860625 159.657102 \nL 116.420625 159.657102 \nz\n\" style=\"fill:#e69576;stroke:#ffffff;stroke-linejoin:miter;\"/>\n   </g>\n   <g id=\"patch_10\">\n    <path clip-path=\"url(#pab97f22d27)\" d=\"M 125.720625 239.758125 \nL 133.160625 239.758125 \nL 133.160625 157.491402 \nL 125.720625 157.491402 \nz\n\" style=\"fill:#e49367;stroke:#ffffff;stroke-linejoin:miter;\"/>\n   </g>\n   <g id=\"patch_11\">\n    <path clip-path=\"url(#pab97f22d27)\" d=\"M 135.020625 239.758125 \nL 142.460625 239.758125 \nL 142.460625 160.299344 \nL 135.020625 160.299344 \nz\n\" style=\"fill:#e19153;stroke:#ffffff;stroke-linejoin:miter;\"/>\n   </g>\n   <g id=\"patch_12\">\n    <path clip-path=\"url(#pab97f22d27)\" d=\"M 144.320625 239.758125 \nL 151.760625 239.758125 \nL 151.760625 162.763761 \nL 144.320625 162.763761 \nz\n\" style=\"fill:#db934e;stroke:#ffffff;stroke-linejoin:miter;\"/>\n   </g>\n   <g id=\"patch_13\">\n    <path clip-path=\"url(#pab97f22d27)\" d=\"M 153.620625 239.758125 \nL 161.060625 239.758125 \nL 161.060625 166.7367 \nL 153.620625 166.7367 \nz\n\" style=\"fill:#d5954d;stroke:#ffffff;stroke-linejoin:miter;\"/>\n   </g>\n   <g id=\"patch_14\">\n    <path clip-path=\"url(#pab97f22d27)\" d=\"M 162.920625 239.758125 \nL 170.360625 239.758125 \nL 170.360625 173.427966 \nL 162.920625 173.427966 \nz\n\" style=\"fill:#cf964d;stroke:#ffffff;stroke-linejoin:miter;\"/>\n   </g>\n   <g id=\"patch_15\">\n    <path clip-path=\"url(#pab97f22d27)\" d=\"M 172.220625 239.758125 \nL 179.660625 239.758125 \nL 179.660625 175.772896 \nL 172.220625 175.772896 \nz\n\" style=\"fill:#ca984c;stroke:#ffffff;stroke-linejoin:miter;\"/>\n   </g>\n   <g id=\"patch_16\">\n    <path clip-path=\"url(#pab97f22d27)\" d=\"M 181.520625 239.758125 \nL 188.960625 239.758125 \nL 188.960625 176.116421 \nL 181.520625 176.116421 \nz\n\" style=\"fill:#c6994b;stroke:#ffffff;stroke-linejoin:miter;\"/>\n   </g>\n   <g id=\"patch_17\">\n    <path clip-path=\"url(#pab97f22d27)\" d=\"M 190.820625 239.758125 \nL 198.260625 239.758125 \nL 198.260625 176.758663 \nL 190.820625 176.758663 \nz\n\" style=\"fill:#c19a4a;stroke:#ffffff;stroke-linejoin:miter;\"/>\n   </g>\n   <g id=\"patch_18\">\n    <path clip-path=\"url(#pab97f22d27)\" d=\"M 200.120625 239.758125 \nL 207.560625 239.758125 \nL 207.560625 170.470665 \nL 200.120625 170.470665 \nz\n\" style=\"fill:#bd9b4a;stroke:#ffffff;stroke-linejoin:miter;\"/>\n   </g>\n   <g id=\"patch_19\">\n    <path clip-path=\"url(#pab97f22d27)\" d=\"M 209.420625 239.758125 \nL 216.860625 239.758125 \nL 216.860625 164.720359 \nL 209.420625 164.720359 \nz\n\" style=\"fill:#b89c49;stroke:#ffffff;stroke-linejoin:miter;\"/>\n   </g>\n   <g id=\"patch_20\">\n    <path clip-path=\"url(#pab97f22d27)\" d=\"M 218.720625 239.758125 \nL 226.160625 239.758125 \nL 226.160625 158.014157 \nL 218.720625 158.014157 \nz\n\" style=\"fill:#b49c48;stroke:#ffffff;stroke-linejoin:miter;\"/>\n   </g>\n   <g id=\"patch_21\">\n    <path clip-path=\"url(#pab97f22d27)\" d=\"M 228.020625 239.758125 \nL 235.460625 239.758125 \nL 235.460625 160.822099 \nL 228.020625 160.822099 \nz\n\" style=\"fill:#b09d48;stroke:#ffffff;stroke-linejoin:miter;\"/>\n   </g>\n   <g id=\"patch_22\">\n    <path clip-path=\"url(#pab97f22d27)\" d=\"M 237.320625 239.758125 \nL 244.760625 239.758125 \nL 244.760625 163.331324 \nL 237.320625 163.331324 \nz\n\" style=\"fill:#ac9e47;stroke:#ffffff;stroke-linejoin:miter;\"/>\n   </g>\n   <g id=\"patch_23\">\n    <path clip-path=\"url(#pab97f22d27)\" d=\"M 246.620625 239.758125 \nL 254.060625 239.758125 \nL 254.060625 162.65921 \nL 246.620625 162.65921 \nz\n\" style=\"fill:#a89e47;stroke:#ffffff;stroke-linejoin:miter;\"/>\n   </g>\n   <g id=\"patch_24\">\n    <path clip-path=\"url(#pab97f22d27)\" d=\"M 255.920625 239.758125 \nL 263.360625 239.758125 \nL 263.360625 163.600169 \nL 255.920625 163.600169 \nz\n\" style=\"fill:#a49f46;stroke:#ffffff;stroke-linejoin:miter;\"/>\n   </g>\n   <g id=\"patch_25\">\n    <path clip-path=\"url(#pab97f22d27)\" d=\"M 265.220625 239.758125 \nL 272.660625 239.758125 \nL 272.660625 166.467855 \nL 265.220625 166.467855 \nz\n\" style=\"fill:#9f9f45;stroke:#ffffff;stroke-linejoin:miter;\"/>\n   </g>\n   <g id=\"patch_26\">\n    <path clip-path=\"url(#pab97f22d27)\" d=\"M 274.520625 239.758125 \nL 281.960625 239.758125 \nL 281.960625 165.168435 \nL 274.520625 165.168435 \nz\n\" style=\"fill:#9ca145;stroke:#ffffff;stroke-linejoin:miter;\"/>\n   </g>\n   <g id=\"patch_27\">\n    <path clip-path=\"url(#pab97f22d27)\" d=\"M 283.820625 239.758125 \nL 291.260625 239.758125 \nL 291.260625 166.945802 \nL 283.820625 166.945802 \nz\n\" style=\"fill:#98a246;stroke:#ffffff;stroke-linejoin:miter;\"/>\n   </g>\n   <g id=\"patch_28\">\n    <path clip-path=\"url(#pab97f22d27)\" d=\"M 293.120625 239.758125 \nL 300.560625 239.758125 \nL 300.560625 164.167732 \nL 293.120625 164.167732 \nz\n\" style=\"fill:#94a346;stroke:#ffffff;stroke-linejoin:miter;\"/>\n   </g>\n   <g id=\"patch_29\">\n    <path clip-path=\"url(#pab97f22d27)\" d=\"M 302.420625 239.758125 \nL 309.860625 239.758125 \nL 309.860625 164.556064 \nL 302.420625 164.556064 \nz\n\" style=\"fill:#8fa546;stroke:#ffffff;stroke-linejoin:miter;\"/>\n   </g>\n   <g id=\"patch_30\">\n    <path clip-path=\"url(#pab97f22d27)\" d=\"M 311.720625 239.758125 \nL 319.160625 239.758125 \nL 319.160625 159.567487 \nL 311.720625 159.567487 \nz\n\" style=\"fill:#8aa646;stroke:#ffffff;stroke-linejoin:miter;\"/>\n   </g>\n   <g id=\"patch_31\">\n    <path clip-path=\"url(#pab97f22d27)\" d=\"M 321.020625 239.758125 \nL 328.460625 239.758125 \nL 328.460625 159.283705 \nL 321.020625 159.283705 \nz\n\" style=\"fill:#84a846;stroke:#ffffff;stroke-linejoin:miter;\"/>\n   </g>\n   <g id=\"patch_32\">\n    <path clip-path=\"url(#pab97f22d27)\" d=\"M 330.320625 239.758125 \nL 337.760625 239.758125 \nL 337.760625 162.04684 \nL 330.320625 162.04684 \nz\n\" style=\"fill:#7ea947;stroke:#ffffff;stroke-linejoin:miter;\"/>\n   </g>\n   <g id=\"patch_33\">\n    <path clip-path=\"url(#pab97f22d27)\" d=\"M 339.620625 239.758125 \nL 347.060625 239.758125 \nL 347.060625 156.684866 \nL 339.620625 156.684866 \nz\n\" style=\"fill:#76ab47;stroke:#ffffff;stroke-linejoin:miter;\"/>\n   </g>\n   <g id=\"patch_34\">\n    <path clip-path=\"url(#pab97f22d27)\" d=\"M 348.920625 239.758125 \nL 356.360625 239.758125 \nL 356.360625 154.578909 \nL 348.920625 154.578909 \nz\n\" style=\"fill:#6dac47;stroke:#ffffff;stroke-linejoin:miter;\"/>\n   </g>\n   <g id=\"patch_35\">\n    <path clip-path=\"url(#pab97f22d27)\" d=\"M 358.220625 239.758125 \nL 365.660625 239.758125 \nL 365.660625 153.354168 \nL 358.220625 153.354168 \nz\n\" style=\"fill:#60ae47;stroke:#ffffff;stroke-linejoin:miter;\"/>\n   </g>\n   <g id=\"patch_36\">\n    <path clip-path=\"url(#pab97f22d27)\" d=\"M 367.520625 239.758125 \nL 374.960625 239.758125 \nL 374.960625 156.59525 \nL 367.520625 156.59525 \nz\n\" style=\"fill:#4db047;stroke:#ffffff;stroke-linejoin:miter;\"/>\n   </g>\n   <g id=\"patch_37\">\n    <path clip-path=\"url(#pab97f22d27)\" d=\"M 376.820625 239.758125 \nL 384.260625 239.758125 \nL 384.260625 158.477169 \nL 376.820625 158.477169 \nz\n\" style=\"fill:#48b05a;stroke:#ffffff;stroke-linejoin:miter;\"/>\n   </g>\n   <g id=\"patch_38\">\n    <path clip-path=\"url(#pab97f22d27)\" d=\"M 386.120625 239.758125 \nL 393.560625 239.758125 \nL 393.560625 158.805758 \nL 386.120625 158.805758 \nz\n\" style=\"fill:#48b068;stroke:#ffffff;stroke-linejoin:miter;\"/>\n   </g>\n   <g id=\"patch_39\">\n    <path clip-path=\"url(#pab97f22d27)\" d=\"M 395.420625 239.758125 \nL 402.860625 239.758125 \nL 402.860625 153.981475 \nL 395.420625 153.981475 \nz\n\" style=\"fill:#49af72;stroke:#ffffff;stroke-linejoin:miter;\"/>\n   </g>\n   <g id=\"patch_40\">\n    <path clip-path=\"url(#pab97f22d27)\" d=\"M 404.720625 239.758125 \nL 412.160625 239.758125 \nL 412.160625 152.607375 \nL 404.720625 152.607375 \nz\n\" style=\"fill:#49af7a;stroke:#ffffff;stroke-linejoin:miter;\"/>\n   </g>\n   <g id=\"patch_41\">\n    <path clip-path=\"url(#pab97f22d27)\" d=\"M 414.020625 239.758125 \nL 421.460625 239.758125 \nL 421.460625 155.37051 \nL 414.020625 155.37051 \nz\n\" style=\"fill:#49ae80;stroke:#ffffff;stroke-linejoin:miter;\"/>\n   </g>\n   <g id=\"patch_42\">\n    <path clip-path=\"url(#pab97f22d27)\" d=\"M 423.320625 239.758125 \nL 430.760625 239.758125 \nL 430.760625 160.000627 \nL 423.320625 160.000627 \nz\n\" style=\"fill:#49ae86;stroke:#ffffff;stroke-linejoin:miter;\"/>\n   </g>\n   <g id=\"patch_43\">\n    <path clip-path=\"url(#pab97f22d27)\" d=\"M 432.620625 239.758125 \nL 440.060625 239.758125 \nL 440.060625 163.928758 \nL 432.620625 163.928758 \nz\n\" style=\"fill:#4aae8a;stroke:#ffffff;stroke-linejoin:miter;\"/>\n   </g>\n   <g id=\"patch_44\">\n    <path clip-path=\"url(#pab97f22d27)\" d=\"M 441.920625 239.758125 \nL 449.360625 239.758125 \nL 449.360625 164.914525 \nL 441.920625 164.914525 \nz\n\" style=\"fill:#4aad8f;stroke:#ffffff;stroke-linejoin:miter;\"/>\n   </g>\n   <g id=\"patch_45\">\n    <path clip-path=\"url(#pab97f22d27)\" d=\"M 451.220625 239.758125 \nL 458.660625 239.758125 \nL 458.660625 163.465746 \nL 451.220625 163.465746 \nz\n\" style=\"fill:#4aad92;stroke:#ffffff;stroke-linejoin:miter;\"/>\n   </g>\n   <g id=\"patch_46\">\n    <path clip-path=\"url(#pab97f22d27)\" d=\"M 460.520625 239.758125 \nL 467.960625 239.758125 \nL 467.960625 162.599467 \nL 460.520625 162.599467 \nz\n\" style=\"fill:#4aad96;stroke:#ffffff;stroke-linejoin:miter;\"/>\n   </g>\n   <g id=\"patch_47\">\n    <path clip-path=\"url(#pab97f22d27)\" d=\"M 469.820625 239.758125 \nL 477.260625 239.758125 \nL 477.260625 158.073901 \nL 469.820625 158.073901 \nz\n\" style=\"fill:#4aac99;stroke:#ffffff;stroke-linejoin:miter;\"/>\n   </g>\n   <g id=\"patch_48\">\n    <path clip-path=\"url(#pab97f22d27)\" d=\"M 479.120625 239.758125 \nL 486.560625 239.758125 \nL 486.560625 157.342043 \nL 479.120625 157.342043 \nz\n\" style=\"fill:#4aac9c;stroke:#ffffff;stroke-linejoin:miter;\"/>\n   </g>\n   <g id=\"patch_49\">\n    <path clip-path=\"url(#pab97f22d27)\" d=\"M 488.420625 239.758125 \nL 495.860625 239.758125 \nL 495.860625 156.864096 \nL 488.420625 156.864096 \nz\n\" style=\"fill:#4bac9f;stroke:#ffffff;stroke-linejoin:miter;\"/>\n   </g>\n   <g id=\"patch_50\">\n    <path clip-path=\"url(#pab97f22d27)\" d=\"M 497.720625 239.758125 \nL 505.160625 239.758125 \nL 505.160625 155.639355 \nL 497.720625 155.639355 \nz\n\" style=\"fill:#4baba2;stroke:#ffffff;stroke-linejoin:miter;\"/>\n   </g>\n   <g id=\"patch_51\">\n    <path clip-path=\"url(#pab97f22d27)\" d=\"M 507.020625 239.758125 \nL 514.460625 239.758125 \nL 514.460625 153.160002 \nL 507.020625 153.160002 \nz\n\" style=\"fill:#4baba4;stroke:#ffffff;stroke-linejoin:miter;\"/>\n   </g>\n   <g id=\"patch_52\">\n    <path clip-path=\"url(#pab97f22d27)\" d=\"M 516.320625 239.758125 \nL 523.760625 239.758125 \nL 523.760625 147.185658 \nL 516.320625 147.185658 \nz\n\" style=\"fill:#4baba7;stroke:#ffffff;stroke-linejoin:miter;\"/>\n   </g>\n   <g id=\"patch_53\">\n    <path clip-path=\"url(#pab97f22d27)\" d=\"M 525.620625 239.758125 \nL 533.060625 239.758125 \nL 533.060625 147.364888 \nL 525.620625 147.364888 \nz\n\" style=\"fill:#4baba9;stroke:#ffffff;stroke-linejoin:miter;\"/>\n   </g>\n   <g id=\"patch_54\">\n    <path clip-path=\"url(#pab97f22d27)\" d=\"M 534.920625 239.758125 \nL 542.360625 239.758125 \nL 542.360625 146.483672 \nL 534.920625 146.483672 \nz\n\" style=\"fill:#4cabac;stroke:#ffffff;stroke-linejoin:miter;\"/>\n   </g>\n   <g id=\"patch_55\">\n    <path clip-path=\"url(#pab97f22d27)\" d=\"M 544.220625 239.758125 \nL 551.660625 239.758125 \nL 551.660625 144.945279 \nL 544.220625 144.945279 \nz\n\" style=\"fill:#4cabaf;stroke:#ffffff;stroke-linejoin:miter;\"/>\n   </g>\n   <g id=\"patch_56\">\n    <path clip-path=\"url(#pab97f22d27)\" d=\"M 553.520625 239.758125 \nL 560.960625 239.758125 \nL 560.960625 147.693477 \nL 553.520625 147.693477 \nz\n\" style=\"fill:#4dabb2;stroke:#ffffff;stroke-linejoin:miter;\"/>\n   </g>\n   <g id=\"patch_57\">\n    <path clip-path=\"url(#pab97f22d27)\" d=\"M 562.820625 239.758125 \nL 570.260625 239.758125 \nL 570.260625 148.096745 \nL 562.820625 148.096745 \nz\n\" style=\"fill:#4eabb6;stroke:#ffffff;stroke-linejoin:miter;\"/>\n   </g>\n   <g id=\"patch_58\">\n    <path clip-path=\"url(#pab97f22d27)\" d=\"M 572.120625 239.758125 \nL 579.560625 239.758125 \nL 579.560625 150.695585 \nL 572.120625 150.695585 \nz\n\" style=\"fill:#4eabb9;stroke:#ffffff;stroke-linejoin:miter;\"/>\n   </g>\n   <g id=\"patch_59\">\n    <path clip-path=\"url(#pab97f22d27)\" d=\"M 581.420625 239.758125 \nL 588.860625 239.758125 \nL 588.860625 144.377716 \nL 581.420625 144.377716 \nz\n\" style=\"fill:#4fabbc;stroke:#ffffff;stroke-linejoin:miter;\"/>\n   </g>\n   <g id=\"patch_60\">\n    <path clip-path=\"url(#pab97f22d27)\" d=\"M 590.720625 239.758125 \nL 598.160625 239.758125 \nL 598.160625 148.320783 \nL 590.720625 148.320783 \nz\n\" style=\"fill:#50acc0;stroke:#ffffff;stroke-linejoin:miter;\"/>\n   </g>\n   <g id=\"patch_61\">\n    <path clip-path=\"url(#pab97f22d27)\" d=\"M 600.020625 239.758125 \nL 607.460625 239.758125 \nL 607.460625 155.221151 \nL 600.020625 155.221151 \nz\n\" style=\"fill:#51acc4;stroke:#ffffff;stroke-linejoin:miter;\"/>\n   </g>\n   <g id=\"patch_62\">\n    <path clip-path=\"url(#pab97f22d27)\" d=\"M 609.320625 239.758125 \nL 616.760625 239.758125 \nL 616.760625 155.98288 \nL 609.320625 155.98288 \nz\n\" style=\"fill:#52acc8;stroke:#ffffff;stroke-linejoin:miter;\"/>\n   </g>\n   <g id=\"patch_63\">\n    <path clip-path=\"url(#pab97f22d27)\" d=\"M 618.620625 239.758125 \nL 626.060625 239.758125 \nL 626.060625 159.388256 \nL 618.620625 159.388256 \nz\n\" style=\"fill:#53accd;stroke:#ffffff;stroke-linejoin:miter;\"/>\n   </g>\n   <g id=\"patch_64\">\n    <path clip-path=\"url(#pab97f22d27)\" d=\"M 627.920625 239.758125 \nL 635.360625 239.758125 \nL 635.360625 159.985691 \nL 627.920625 159.985691 \nz\n\" style=\"fill:#54acd3;stroke:#ffffff;stroke-linejoin:miter;\"/>\n   </g>\n   <g id=\"patch_65\">\n    <path clip-path=\"url(#pab97f22d27)\" d=\"M 637.220625 239.758125 \nL 644.660625 239.758125 \nL 644.660625 164.511257 \nL 637.220625 164.511257 \nz\n\" style=\"fill:#55acd9;stroke:#ffffff;stroke-linejoin:miter;\"/>\n   </g>\n   <g id=\"patch_66\">\n    <path clip-path=\"url(#pab97f22d27)\" d=\"M 646.520625 239.758125 \nL 653.960625 239.758125 \nL 653.960625 165.706126 \nL 646.520625 165.706126 \nz\n\" style=\"fill:#58addf;stroke:#ffffff;stroke-linejoin:miter;\"/>\n   </g>\n   <g id=\"patch_67\">\n    <path clip-path=\"url(#pab97f22d27)\" d=\"M 655.820625 239.758125 \nL 663.260625 239.758125 \nL 663.260625 168.409516 \nL 655.820625 168.409516 \nz\n\" style=\"fill:#6daee2;stroke:#ffffff;stroke-linejoin:miter;\"/>\n   </g>\n   <g id=\"patch_68\">\n    <path clip-path=\"url(#pab97f22d27)\" d=\"M 665.120625 239.758125 \nL 672.560625 239.758125 \nL 672.560625 177.146995 \nL 665.120625 177.146995 \nz\n\" style=\"fill:#7caee5;stroke:#ffffff;stroke-linejoin:miter;\"/>\n   </g>\n   <g id=\"patch_69\">\n    <path clip-path=\"url(#pab97f22d27)\" d=\"M 674.420625 239.758125 \nL 681.860625 239.758125 \nL 681.860625 176.101485 \nL 674.420625 176.101485 \nz\n\" style=\"fill:#88aee6;stroke:#ffffff;stroke-linejoin:miter;\"/>\n   </g>\n   <g id=\"patch_70\">\n    <path clip-path=\"url(#pab97f22d27)\" d=\"M 683.720625 239.758125 \nL 691.160625 239.758125 \nL 691.160625 184.301273 \nL 683.720625 184.301273 \nz\n\" style=\"fill:#92aee8;stroke:#ffffff;stroke-linejoin:miter;\"/>\n   </g>\n   <g id=\"patch_71\">\n    <path clip-path=\"url(#pab97f22d27)\" d=\"M 693.020625 239.758125 \nL 700.460625 239.758125 \nL 700.460625 187.392996 \nL 693.020625 187.392996 \nz\n\" style=\"fill:#9bade9;stroke:#ffffff;stroke-linejoin:miter;\"/>\n   </g>\n   <g id=\"patch_72\">\n    <path clip-path=\"url(#pab97f22d27)\" d=\"M 702.320625 239.758125 \nL 709.760625 239.758125 \nL 709.760625 193.068623 \nL 702.320625 193.068623 \nz\n\" style=\"fill:#a3adea;stroke:#ffffff;stroke-linejoin:miter;\"/>\n   </g>\n   <g id=\"patch_73\">\n    <path clip-path=\"url(#pab97f22d27)\" d=\"M 711.620625 239.758125 \nL 719.060625 239.758125 \nL 719.060625 196.369448 \nL 711.620625 196.369448 \nz\n\" style=\"fill:#abaceb;stroke:#ffffff;stroke-linejoin:miter;\"/>\n   </g>\n   <g id=\"patch_74\">\n    <path clip-path=\"url(#pab97f22d27)\" d=\"M 720.920625 239.758125 \nL 728.360625 239.758125 \nL 728.360625 196.817524 \nL 720.920625 196.817524 \nz\n\" style=\"fill:#b1aaeb;stroke:#ffffff;stroke-linejoin:miter;\"/>\n   </g>\n   <g id=\"patch_75\">\n    <path clip-path=\"url(#pab97f22d27)\" d=\"M 730.220625 239.758125 \nL 737.660625 239.758125 \nL 737.660625 200.402131 \nL 730.220625 200.402131 \nz\n\" style=\"fill:#b6a8eb;stroke:#ffffff;stroke-linejoin:miter;\"/>\n   </g>\n   <g id=\"patch_76\">\n    <path clip-path=\"url(#pab97f22d27)\" d=\"M 739.520625 239.758125 \nL 746.960625 239.758125 \nL 746.960625 202.03014 \nL 739.520625 202.03014 \nz\n\" style=\"fill:#bba5ea;stroke:#ffffff;stroke-linejoin:miter;\"/>\n   </g>\n   <g id=\"patch_77\">\n    <path clip-path=\"url(#pab97f22d27)\" d=\"M 748.820625 239.758125 \nL 756.260625 239.758125 \nL 756.260625 205.06212 \nL 748.820625 205.06212 \nz\n\" style=\"fill:#c0a3ea;stroke:#ffffff;stroke-linejoin:miter;\"/>\n   </g>\n   <g id=\"patch_78\">\n    <path clip-path=\"url(#pab97f22d27)\" d=\"M 758.120625 239.758125 \nL 765.560625 239.758125 \nL 765.560625 204.98744 \nL 758.120625 204.98744 \nz\n\" style=\"fill:#c5a0ea;stroke:#ffffff;stroke-linejoin:miter;\"/>\n   </g>\n   <g id=\"patch_79\">\n    <path clip-path=\"url(#pab97f22d27)\" d=\"M 767.420625 239.758125 \nL 774.860625 239.758125 \nL 774.860625 206.212181 \nL 767.420625 206.212181 \nz\n\" style=\"fill:#ca9ee9;stroke:#ffffff;stroke-linejoin:miter;\"/>\n   </g>\n   <g id=\"patch_80\">\n    <path clip-path=\"url(#pab97f22d27)\" d=\"M 776.720625 239.758125 \nL 784.160625 239.758125 \nL 784.160625 209.408455 \nL 776.720625 209.408455 \nz\n\" style=\"fill:#cf9be9;stroke:#ffffff;stroke-linejoin:miter;\"/>\n   </g>\n   <g id=\"patch_81\">\n    <path clip-path=\"url(#pab97f22d27)\" d=\"M 786.020625 239.758125 \nL 793.460625 239.758125 \nL 793.460625 209.527942 \nL 786.020625 209.527942 \nz\n\" style=\"fill:#d497e8;stroke:#ffffff;stroke-linejoin:miter;\"/>\n   </g>\n   <g id=\"patch_82\">\n    <path clip-path=\"url(#pab97f22d27)\" d=\"M 795.320625 239.758125 \nL 802.760625 239.758125 \nL 802.760625 213.665176 \nL 795.320625 213.665176 \nz\n\" style=\"fill:#d993e8;stroke:#ffffff;stroke-linejoin:miter;\"/>\n   </g>\n   <g id=\"patch_83\">\n    <path clip-path=\"url(#pab97f22d27)\" d=\"M 804.620625 239.758125 \nL 812.060625 239.758125 \nL 812.060625 214.382097 \nL 804.620625 214.382097 \nz\n\" style=\"fill:#df8fe7;stroke:#ffffff;stroke-linejoin:miter;\"/>\n   </g>\n   <g id=\"patch_84\">\n    <path clip-path=\"url(#pab97f22d27)\" d=\"M 813.920625 239.758125 \nL 821.360625 239.758125 \nL 821.360625 217.563435 \nL 813.920625 217.563435 \nz\n\" style=\"fill:#e48ae6;stroke:#ffffff;stroke-linejoin:miter;\"/>\n   </g>\n   <g id=\"patch_85\">\n    <path clip-path=\"url(#pab97f22d27)\" d=\"M 823.220625 239.758125 \nL 830.660625 239.758125 \nL 830.660625 218.877791 \nL 823.220625 218.877791 \nz\n\" style=\"fill:#e689e2;stroke:#ffffff;stroke-linejoin:miter;\"/>\n   </g>\n   <g id=\"patch_86\">\n    <path clip-path=\"url(#pab97f22d27)\" d=\"M 832.520625 239.758125 \nL 839.960625 239.758125 \nL 839.960625 222.805923 \nL 832.520625 222.805923 \nz\n\" style=\"fill:#e78bdd;stroke:#ffffff;stroke-linejoin:miter;\"/>\n   </g>\n   <g id=\"patch_87\">\n    <path clip-path=\"url(#pab97f22d27)\" d=\"M 841.820625 239.758125 \nL 849.260625 239.758125 \nL 849.260625 222.432526 \nL 841.820625 222.432526 \nz\n\" style=\"fill:#e78cd7;stroke:#ffffff;stroke-linejoin:miter;\"/>\n   </g>\n   <g id=\"patch_88\">\n    <path clip-path=\"url(#pab97f22d27)\" d=\"M 851.120625 239.758125 \nL 858.560625 239.758125 \nL 858.560625 224.807328 \nL 851.120625 224.807328 \nz\n\" style=\"fill:#e78dd3;stroke:#ffffff;stroke-linejoin:miter;\"/>\n   </g>\n   <g id=\"patch_89\">\n    <path clip-path=\"url(#pab97f22d27)\" d=\"M 860.420625 239.758125 \nL 867.860625 239.758125 \nL 867.860625 226.943156 \nL 860.420625 226.943156 \nz\n\" style=\"fill:#e88ece;stroke:#ffffff;stroke-linejoin:miter;\"/>\n   </g>\n   <g id=\"patch_90\">\n    <path clip-path=\"url(#pab97f22d27)\" d=\"M 869.720625 239.758125 \nL 877.160625 239.758125 \nL 877.160625 230.318661 \nL 869.720625 230.318661 \nz\n\" style=\"fill:#e88fca;stroke:#ffffff;stroke-linejoin:miter;\"/>\n   </g>\n   <g id=\"patch_91\">\n    <path clip-path=\"url(#pab97f22d27)\" d=\"M 879.020625 239.758125 \nL 886.460625 239.758125 \nL 886.460625 232.618783 \nL 879.020625 232.618783 \nz\n\" style=\"fill:#e890c6;stroke:#ffffff;stroke-linejoin:miter;\"/>\n   </g>\n   <g id=\"patch_92\">\n    <path clip-path=\"url(#pab97f22d27)\" d=\"M 888.320625 239.758125 \nL 895.760625 239.758125 \nL 895.760625 232.932436 \nL 888.320625 232.932436 \nz\n\" style=\"fill:#e891c2;stroke:#ffffff;stroke-linejoin:miter;\"/>\n   </g>\n   <g id=\"patch_93\">\n    <path clip-path=\"url(#pab97f22d27)\" d=\"M 897.620625 239.758125 \nL 905.060625 239.758125 \nL 905.060625 234.127305 \nL 897.620625 234.127305 \nz\n\" style=\"fill:#e992be;stroke:#ffffff;stroke-linejoin:miter;\"/>\n   </g>\n   <g id=\"patch_94\">\n    <path clip-path=\"url(#pab97f22d27)\" d=\"M 906.920625 239.758125 \nL 914.360625 239.758125 \nL 914.360625 236.039096 \nL 906.920625 236.039096 \nz\n\" style=\"fill:#e992ba;stroke:#ffffff;stroke-linejoin:miter;\"/>\n   </g>\n   <g id=\"patch_95\">\n    <path clip-path=\"url(#pab97f22d27)\" d=\"M 916.220625 239.758125 \nL 923.660625 239.758125 \nL 923.660625 236.173518 \nL 916.220625 236.173518 \nz\n\" style=\"fill:#e993b6;stroke:#ffffff;stroke-linejoin:miter;\"/>\n   </g>\n   <g id=\"patch_96\">\n    <path clip-path=\"url(#pab97f22d27)\" d=\"M 925.520625 239.758125 \nL 932.960625 239.758125 \nL 932.960625 237.711912 \nL 925.520625 237.711912 \nz\n\" style=\"fill:#e994b2;stroke:#ffffff;stroke-linejoin:miter;\"/>\n   </g>\n   <g id=\"patch_97\">\n    <path clip-path=\"url(#pab97f22d27)\" d=\"M 934.820625 239.758125 \nL 942.260625 239.758125 \nL 942.260625 238.458705 \nL 934.820625 238.458705 \nz\n\" style=\"fill:#e994ad;stroke:#ffffff;stroke-linejoin:miter;\"/>\n   </g>\n   <g id=\"patch_98\">\n    <path clip-path=\"url(#pab97f22d27)\" d=\"M 944.120625 239.758125 \nL 951.560625 239.758125 \nL 951.560625 238.563256 \nL 944.120625 238.563256 \nz\n\" style=\"fill:#e995a9;stroke:#ffffff;stroke-linejoin:miter;\"/>\n   </g>\n   <g id=\"patch_99\">\n    <path d=\"M 59.690625 239.758125 \nL 59.690625 22.318125 \n\" style=\"fill:none;stroke:#cccccc;stroke-linecap:square;stroke-linejoin:miter;stroke-width:0.8;\"/>\n   </g>\n   <g id=\"patch_100\">\n    <path d=\"M 952.490625 239.758125 \nL 952.490625 22.318125 \n\" style=\"fill:none;stroke:#cccccc;stroke-linecap:square;stroke-linejoin:miter;stroke-width:0.8;\"/>\n   </g>\n   <g id=\"patch_101\">\n    <path d=\"M 59.690625 239.758125 \nL 952.490625 239.758125 \n\" style=\"fill:none;stroke:#cccccc;stroke-linecap:square;stroke-linejoin:miter;stroke-width:0.8;\"/>\n   </g>\n   <g id=\"patch_102\">\n    <path d=\"M 59.690625 22.318125 \nL 952.490625 22.318125 \n\" style=\"fill:none;stroke:#cccccc;stroke-linecap:square;stroke-linejoin:miter;stroke-width:0.8;\"/>\n   </g>\n   <g id=\"text_107\">\n    <!-- No of appointments by age -->\n    <defs>\n     <path d=\"M 9.8125 72.90625 \nL 23.09375 72.90625 \nL 55.421875 11.921875 \nL 55.421875 72.90625 \nL 64.984375 72.90625 \nL 64.984375 0 \nL 51.703125 0 \nL 19.390625 60.984375 \nL 19.390625 0 \nL 9.8125 0 \nz\n\" id=\"DejaVuSans-78\"/>\n     <path id=\"DejaVuSans-32\"/>\n     <path d=\"M 37.109375 75.984375 \nL 37.109375 68.5 \nL 28.515625 68.5 \nQ 23.6875 68.5 21.796875 66.546875 \nQ 19.921875 64.59375 19.921875 59.515625 \nL 19.921875 54.6875 \nL 34.71875 54.6875 \nL 34.71875 47.703125 \nL 19.921875 47.703125 \nL 19.921875 0 \nL 10.890625 0 \nL 10.890625 47.703125 \nL 2.296875 47.703125 \nL 2.296875 54.6875 \nL 10.890625 54.6875 \nL 10.890625 58.5 \nQ 10.890625 67.625 15.140625 71.796875 \nQ 19.390625 75.984375 28.609375 75.984375 \nz\n\" id=\"DejaVuSans-102\"/>\n     <path d=\"M 18.109375 8.203125 \nL 18.109375 -20.796875 \nL 9.078125 -20.796875 \nL 9.078125 54.6875 \nL 18.109375 54.6875 \nL 18.109375 46.390625 \nQ 20.953125 51.265625 25.265625 53.625 \nQ 29.59375 56 35.59375 56 \nQ 45.5625 56 51.78125 48.09375 \nQ 58.015625 40.1875 58.015625 27.296875 \nQ 58.015625 14.40625 51.78125 6.484375 \nQ 45.5625 -1.421875 35.59375 -1.421875 \nQ 29.59375 -1.421875 25.265625 0.953125 \nQ 20.953125 3.328125 18.109375 8.203125 \nz\nM 48.6875 27.296875 \nQ 48.6875 37.203125 44.609375 42.84375 \nQ 40.53125 48.484375 33.40625 48.484375 \nQ 26.265625 48.484375 22.1875 42.84375 \nQ 18.109375 37.203125 18.109375 27.296875 \nQ 18.109375 17.390625 22.1875 11.75 \nQ 26.265625 6.109375 33.40625 6.109375 \nQ 40.53125 6.109375 44.609375 11.75 \nQ 48.6875 17.390625 48.6875 27.296875 \nz\n\" id=\"DejaVuSans-112\"/>\n     <path d=\"M 9.421875 54.6875 \nL 18.40625 54.6875 \nL 18.40625 0 \nL 9.421875 0 \nz\nM 9.421875 75.984375 \nL 18.40625 75.984375 \nL 18.40625 64.59375 \nL 9.421875 64.59375 \nz\n\" id=\"DejaVuSans-105\"/>\n     <path d=\"M 52 44.1875 \nQ 55.375 50.25 60.0625 53.125 \nQ 64.75 56 71.09375 56 \nQ 79.640625 56 84.28125 50.015625 \nQ 88.921875 44.046875 88.921875 33.015625 \nL 88.921875 0 \nL 79.890625 0 \nL 79.890625 32.71875 \nQ 79.890625 40.578125 77.09375 44.375 \nQ 74.3125 48.1875 68.609375 48.1875 \nQ 61.625 48.1875 57.5625 43.546875 \nQ 53.515625 38.921875 53.515625 30.90625 \nL 53.515625 0 \nL 44.484375 0 \nL 44.484375 32.71875 \nQ 44.484375 40.625 41.703125 44.40625 \nQ 38.921875 48.1875 33.109375 48.1875 \nQ 26.21875 48.1875 22.15625 43.53125 \nQ 18.109375 38.875 18.109375 30.90625 \nL 18.109375 0 \nL 9.078125 0 \nL 9.078125 54.6875 \nL 18.109375 54.6875 \nL 18.109375 46.1875 \nQ 21.1875 51.21875 25.484375 53.609375 \nQ 29.78125 56 35.6875 56 \nQ 41.65625 56 45.828125 52.96875 \nQ 50 49.953125 52 44.1875 \nz\n\" id=\"DejaVuSans-109\"/>\n     <path d=\"M 44.28125 53.078125 \nL 44.28125 44.578125 \nQ 40.484375 46.53125 36.375 47.5 \nQ 32.28125 48.484375 27.875 48.484375 \nQ 21.1875 48.484375 17.84375 46.4375 \nQ 14.5 44.390625 14.5 40.28125 \nQ 14.5 37.15625 16.890625 35.375 \nQ 19.28125 33.59375 26.515625 31.984375 \nL 29.59375 31.296875 \nQ 39.15625 29.25 43.1875 25.515625 \nQ 47.21875 21.78125 47.21875 15.09375 \nQ 47.21875 7.46875 41.1875 3.015625 \nQ 35.15625 -1.421875 24.609375 -1.421875 \nQ 20.21875 -1.421875 15.453125 -0.5625 \nQ 10.6875 0.296875 5.421875 2 \nL 5.421875 11.28125 \nQ 10.40625 8.6875 15.234375 7.390625 \nQ 20.0625 6.109375 24.8125 6.109375 \nQ 31.15625 6.109375 34.5625 8.28125 \nQ 37.984375 10.453125 37.984375 14.40625 \nQ 37.984375 18.0625 35.515625 20.015625 \nQ 33.0625 21.96875 24.703125 23.78125 \nL 21.578125 24.515625 \nQ 13.234375 26.265625 9.515625 29.90625 \nQ 5.8125 33.546875 5.8125 39.890625 \nQ 5.8125 47.609375 11.28125 51.796875 \nQ 16.75 56 26.8125 56 \nQ 31.78125 56 36.171875 55.265625 \nQ 40.578125 54.546875 44.28125 53.078125 \nz\n\" id=\"DejaVuSans-115\"/>\n     <path d=\"M 48.6875 27.296875 \nQ 48.6875 37.203125 44.609375 42.84375 \nQ 40.53125 48.484375 33.40625 48.484375 \nQ 26.265625 48.484375 22.1875 42.84375 \nQ 18.109375 37.203125 18.109375 27.296875 \nQ 18.109375 17.390625 22.1875 11.75 \nQ 26.265625 6.109375 33.40625 6.109375 \nQ 40.53125 6.109375 44.609375 11.75 \nQ 48.6875 17.390625 48.6875 27.296875 \nz\nM 18.109375 46.390625 \nQ 20.953125 51.265625 25.265625 53.625 \nQ 29.59375 56 35.59375 56 \nQ 45.5625 56 51.78125 48.09375 \nQ 58.015625 40.1875 58.015625 27.296875 \nQ 58.015625 14.40625 51.78125 6.484375 \nQ 45.5625 -1.421875 35.59375 -1.421875 \nQ 29.59375 -1.421875 25.265625 0.953125 \nQ 20.953125 3.328125 18.109375 8.203125 \nL 18.109375 0 \nL 9.078125 0 \nL 9.078125 75.984375 \nL 18.109375 75.984375 \nz\n\" id=\"DejaVuSans-98\"/>\n     <path d=\"M 32.171875 -5.078125 \nQ 28.375 -14.84375 24.75 -17.8125 \nQ 21.140625 -20.796875 15.09375 -20.796875 \nL 7.90625 -20.796875 \nL 7.90625 -13.28125 \nL 13.1875 -13.28125 \nQ 16.890625 -13.28125 18.9375 -11.515625 \nQ 21 -9.765625 23.484375 -3.21875 \nL 25.09375 0.875 \nL 2.984375 54.6875 \nL 12.5 54.6875 \nL 29.59375 11.921875 \nL 46.6875 54.6875 \nL 56.203125 54.6875 \nz\n\" id=\"DejaVuSans-121\"/>\n    </defs>\n    <g style=\"fill:#262626;\" transform=\"translate(424.377187 16.318125)scale(0.12 -0.12)\">\n     <use xlink:href=\"#DejaVuSans-78\"/>\n     <use x=\"74.804688\" xlink:href=\"#DejaVuSans-111\"/>\n     <use x=\"135.986328\" xlink:href=\"#DejaVuSans-32\"/>\n     <use x=\"167.773438\" xlink:href=\"#DejaVuSans-111\"/>\n     <use x=\"228.955078\" xlink:href=\"#DejaVuSans-102\"/>\n     <use x=\"264.160156\" xlink:href=\"#DejaVuSans-32\"/>\n     <use x=\"295.947266\" xlink:href=\"#DejaVuSans-97\"/>\n     <use x=\"357.226562\" xlink:href=\"#DejaVuSans-112\"/>\n     <use x=\"420.703125\" xlink:href=\"#DejaVuSans-112\"/>\n     <use x=\"484.179688\" xlink:href=\"#DejaVuSans-111\"/>\n     <use x=\"545.361328\" xlink:href=\"#DejaVuSans-105\"/>\n     <use x=\"573.144531\" xlink:href=\"#DejaVuSans-110\"/>\n     <use x=\"636.523438\" xlink:href=\"#DejaVuSans-116\"/>\n     <use x=\"675.732422\" xlink:href=\"#DejaVuSans-109\"/>\n     <use x=\"773.144531\" xlink:href=\"#DejaVuSans-101\"/>\n     <use x=\"834.667969\" xlink:href=\"#DejaVuSans-110\"/>\n     <use x=\"898.046875\" xlink:href=\"#DejaVuSans-116\"/>\n     <use x=\"937.255859\" xlink:href=\"#DejaVuSans-115\"/>\n     <use x=\"989.355469\" xlink:href=\"#DejaVuSans-32\"/>\n     <use x=\"1021.142578\" xlink:href=\"#DejaVuSans-98\"/>\n     <use x=\"1084.619141\" xlink:href=\"#DejaVuSans-121\"/>\n     <use x=\"1143.798828\" xlink:href=\"#DejaVuSans-32\"/>\n     <use x=\"1175.585938\" xlink:href=\"#DejaVuSans-97\"/>\n     <use x=\"1236.865234\" xlink:href=\"#DejaVuSans-103\"/>\n     <use x=\"1300.341797\" xlink:href=\"#DejaVuSans-101\"/>\n    </g>\n   </g>\n  </g>\n </g>\n <defs>\n  <clipPath id=\"pab97f22d27\">\n   <rect height=\"217.44\" width=\"892.8\" x=\"59.690625\" y=\"22.318125\"/>\n  </clipPath>\n </defs>\n</svg>\n"
          },
          "metadata": {
            "tags": [],
            "needs_background": "light"
          }
        }
      ]
    },
    {
      "cell_type": "markdown",
      "metadata": {
        "id": "-LwHJubkfI2d",
        "colab_type": "text"
      },
      "source": [
        "**What age ranges patient tend to have highest no show rate?**\n",
        "\n",
        "Creating age bins to verfiy which age group is more likely to have no-show"
      ]
    },
    {
      "cell_type": "code",
      "metadata": {
        "id": "biQlhdRKYaaz",
        "colab_type": "code",
        "outputId": "d037ef52-89e9-4685-fd8a-57410f03c389",
        "colab": {
          "base_uri": "https://localhost:8080/",
          "height": 202
        }
      },
      "source": [
        "#Creating bins for age groups \n",
        "age_ranges = [0, 12, 18, 25, 60, 75]\n",
        "age_names = [\"Children\", \"Teenager\", 'Young-Adult', 'Adult', 'Senior']\n",
        "\n",
        "df['age_bin'] = pd.cut(np.array(df['age']),bins=age_ranges, labels=age_names)\n",
        "df.head()"
      ],
      "execution_count": 85,
      "outputs": [
        {
          "output_type": "execute_result",
          "data": {
            "text/html": [
              "<div>\n",
              "<style scoped>\n",
              "    .dataframe tbody tr th:only-of-type {\n",
              "        vertical-align: middle;\n",
              "    }\n",
              "\n",
              "    .dataframe tbody tr th {\n",
              "        vertical-align: top;\n",
              "    }\n",
              "\n",
              "    .dataframe thead th {\n",
              "        text-align: right;\n",
              "    }\n",
              "</style>\n",
              "<table border=\"1\" class=\"dataframe\">\n",
              "  <thead>\n",
              "    <tr style=\"text-align: right;\">\n",
              "      <th></th>\n",
              "      <th>age</th>\n",
              "      <th>gender</th>\n",
              "      <th>schedule_day</th>\n",
              "      <th>appointment_day</th>\n",
              "      <th>week_day</th>\n",
              "      <th>no_show</th>\n",
              "      <th>diabetes</th>\n",
              "      <th>alcoholism</th>\n",
              "      <th>hypertension</th>\n",
              "      <th>handicap</th>\n",
              "      <th>scholarship</th>\n",
              "      <th>sms_received</th>\n",
              "      <th>en_no_show</th>\n",
              "      <th>age_bin</th>\n",
              "    </tr>\n",
              "  </thead>\n",
              "  <tbody>\n",
              "    <tr>\n",
              "      <th>0</th>\n",
              "      <td>19</td>\n",
              "      <td>M</td>\n",
              "      <td>2014-12-16T14:46:25Z</td>\n",
              "      <td>2015-01-14T00:00:00Z</td>\n",
              "      <td>Tuesday</td>\n",
              "      <td>noshow</td>\n",
              "      <td>0</td>\n",
              "      <td>0</td>\n",
              "      <td>0</td>\n",
              "      <td>0</td>\n",
              "      <td>0</td>\n",
              "      <td>0</td>\n",
              "      <td>0</td>\n",
              "      <td>Young-Adult</td>\n",
              "    </tr>\n",
              "    <tr>\n",
              "      <th>1</th>\n",
              "      <td>24</td>\n",
              "      <td>F</td>\n",
              "      <td>2015-08-18T07:01:26Z</td>\n",
              "      <td>2015-08-19T00:00:00Z</td>\n",
              "      <td>Tuesday</td>\n",
              "      <td>noshow</td>\n",
              "      <td>0</td>\n",
              "      <td>0</td>\n",
              "      <td>0</td>\n",
              "      <td>0</td>\n",
              "      <td>0</td>\n",
              "      <td>0</td>\n",
              "      <td>0</td>\n",
              "      <td>Young-Adult</td>\n",
              "    </tr>\n",
              "    <tr>\n",
              "      <th>2</th>\n",
              "      <td>4</td>\n",
              "      <td>F</td>\n",
              "      <td>2014-02-17T12:53:46Z</td>\n",
              "      <td>2014-02-18T00:00:00Z</td>\n",
              "      <td>Monday</td>\n",
              "      <td>noshow</td>\n",
              "      <td>0</td>\n",
              "      <td>0</td>\n",
              "      <td>0</td>\n",
              "      <td>0</td>\n",
              "      <td>0</td>\n",
              "      <td>0</td>\n",
              "      <td>0</td>\n",
              "      <td>Children</td>\n",
              "    </tr>\n",
              "    <tr>\n",
              "      <th>3</th>\n",
              "      <td>5</td>\n",
              "      <td>M</td>\n",
              "      <td>2014-07-23T17:02:11Z</td>\n",
              "      <td>2014-08-07T00:00:00Z</td>\n",
              "      <td>Wednesday</td>\n",
              "      <td>noshow</td>\n",
              "      <td>0</td>\n",
              "      <td>0</td>\n",
              "      <td>0</td>\n",
              "      <td>0</td>\n",
              "      <td>0</td>\n",
              "      <td>0</td>\n",
              "      <td>0</td>\n",
              "      <td>Children</td>\n",
              "    </tr>\n",
              "    <tr>\n",
              "      <th>4</th>\n",
              "      <td>38</td>\n",
              "      <td>M</td>\n",
              "      <td>2015-10-21T15:20:09Z</td>\n",
              "      <td>2015-10-27T00:00:00Z</td>\n",
              "      <td>Wednesday</td>\n",
              "      <td>noshow</td>\n",
              "      <td>0</td>\n",
              "      <td>0</td>\n",
              "      <td>0</td>\n",
              "      <td>0</td>\n",
              "      <td>0</td>\n",
              "      <td>0</td>\n",
              "      <td>0</td>\n",
              "      <td>Adult</td>\n",
              "    </tr>\n",
              "  </tbody>\n",
              "</table>\n",
              "</div>"
            ],
            "text/plain": [
              "   age gender          schedule_day  ... sms_received en_no_show      age_bin\n",
              "0   19      M  2014-12-16T14:46:25Z  ...            0          0  Young-Adult\n",
              "1   24      F  2015-08-18T07:01:26Z  ...            0          0  Young-Adult\n",
              "2    4      F  2014-02-17T12:53:46Z  ...            0          0     Children\n",
              "3    5      M  2014-07-23T17:02:11Z  ...            0          0     Children\n",
              "4   38      M  2015-10-21T15:20:09Z  ...            0          0        Adult\n",
              "\n",
              "[5 rows x 14 columns]"
            ]
          },
          "metadata": {
            "tags": []
          },
          "execution_count": 85
        }
      ]
    },
    {
      "cell_type": "code",
      "metadata": {
        "id": "lLJ0nrjNYhkp",
        "colab_type": "code",
        "outputId": "e6ed7fdb-0779-49d6-e10f-19be19ed503f",
        "colab": {
          "base_uri": "https://localhost:8080/",
          "height": 233
        }
      },
      "source": [
        "#creating a freq table \n",
        "show_prob_age = pd.crosstab(df['age_bin'], df['no_show'], normalize='index')\n",
        "show_prob_age"
      ],
      "execution_count": 86,
      "outputs": [
        {
          "output_type": "execute_result",
          "data": {
            "text/html": [
              "<div>\n",
              "<style scoped>\n",
              "    .dataframe tbody tr th:only-of-type {\n",
              "        vertical-align: middle;\n",
              "    }\n",
              "\n",
              "    .dataframe tbody tr th {\n",
              "        vertical-align: top;\n",
              "    }\n",
              "\n",
              "    .dataframe thead th {\n",
              "        text-align: right;\n",
              "    }\n",
              "</style>\n",
              "<table border=\"1\" class=\"dataframe\">\n",
              "  <thead>\n",
              "    <tr style=\"text-align: right;\">\n",
              "      <th>no_show</th>\n",
              "      <th>noshow</th>\n",
              "      <th>showup</th>\n",
              "    </tr>\n",
              "    <tr>\n",
              "      <th>age_bin</th>\n",
              "      <th></th>\n",
              "      <th></th>\n",
              "    </tr>\n",
              "  </thead>\n",
              "  <tbody>\n",
              "    <tr>\n",
              "      <th>Children</th>\n",
              "      <td>0.532922</td>\n",
              "      <td>0.467078</td>\n",
              "    </tr>\n",
              "    <tr>\n",
              "      <th>Teenager</th>\n",
              "      <td>0.522491</td>\n",
              "      <td>0.477509</td>\n",
              "    </tr>\n",
              "    <tr>\n",
              "      <th>Young-Adult</th>\n",
              "      <td>0.520943</td>\n",
              "      <td>0.479057</td>\n",
              "    </tr>\n",
              "    <tr>\n",
              "      <th>Adult</th>\n",
              "      <td>0.568187</td>\n",
              "      <td>0.431813</td>\n",
              "    </tr>\n",
              "    <tr>\n",
              "      <th>Senior</th>\n",
              "      <td>0.616586</td>\n",
              "      <td>0.383414</td>\n",
              "    </tr>\n",
              "  </tbody>\n",
              "</table>\n",
              "</div>"
            ],
            "text/plain": [
              "no_show        noshow    showup\n",
              "age_bin                        \n",
              "Children     0.532922  0.467078\n",
              "Teenager     0.522491  0.477509\n",
              "Young-Adult  0.520943  0.479057\n",
              "Adult        0.568187  0.431813\n",
              "Senior       0.616586  0.383414"
            ]
          },
          "metadata": {
            "tags": []
          },
          "execution_count": 86
        }
      ]
    },
    {
      "cell_type": "markdown",
      "metadata": {
        "id": "39IG53S8fety",
        "colab_type": "text"
      },
      "source": [
        "From the above freq table, it can be observed that approx 62% of Senior who are above 60 years, 56% of Adults between 25-60 years of age and approx 52-53% of patient below 18 years of age are more likely to miss appointment and have a no-show.\n",
        "\n",
        "\n",
        "\n",
        "\n",
        "\n",
        "\n"
      ]
    },
    {
      "cell_type": "markdown",
      "metadata": {
        "id": "YvNUxeG7gFrX",
        "colab_type": "text"
      },
      "source": [
        "**Is there any factor such as waiting time or other which have an impact on no-show?**\n",
        "\n",
        "Starting with Converting dates format and calculating 'waiting_time', 'appointment_month' and 'hour_of_day'.\n"
      ]
    },
    {
      "cell_type": "code",
      "metadata": {
        "id": "ILmuepgzYqhU",
        "colab_type": "code",
        "outputId": "2178e641-d93f-4d84-a29d-49b57542c6a0",
        "colab": {
          "base_uri": "https://localhost:8080/",
          "height": 225
        }
      },
      "source": [
        "#Converting the schedule and appointment date from ISO8601 to standard format\n",
        "df.schedule_day = df.schedule_day.apply(np.datetime64)\n",
        "df.appointment_day = df.appointment_day.apply(np.datetime64)\n",
        "\n",
        "print(df.schedule_day.head())\n",
        "print(df.appointment_day.head())"
      ],
      "execution_count": 87,
      "outputs": [
        {
          "output_type": "stream",
          "text": [
            "0   2014-12-16 14:46:25\n",
            "1   2015-08-18 07:01:26\n",
            "2   2014-02-17 12:53:46\n",
            "3   2014-07-23 17:02:11\n",
            "4   2015-10-21 15:20:09\n",
            "Name: schedule_day, dtype: datetime64[ns]\n",
            "0   2015-01-14\n",
            "1   2015-08-19\n",
            "2   2014-02-18\n",
            "3   2014-08-07\n",
            "4   2015-10-27\n",
            "Name: appointment_day, dtype: datetime64[ns]\n"
          ],
          "name": "stdout"
        }
      ]
    },
    {
      "cell_type": "code",
      "metadata": {
        "id": "4uE2P03qZhRe",
        "colab_type": "code",
        "outputId": "b34f57d7-4ee6-4a79-8fb1-b4f489019759",
        "colab": {
          "base_uri": "https://localhost:8080/",
          "height": 34
        }
      },
      "source": [
        "#calculating waiting time \n",
        "appointment_waiting_time = df['appointment_day'] - df['schedule_day']\n",
        "appointment_waiting_time = appointment_waiting_time.apply(lambda x: x.total_seconds() / (3600 * 24))\n",
        "\n",
        "#adding column waiting_time and converting data type to int\n",
        "df['waiting_time'] = appointment_waiting_time.round(0)\n",
        "df['waiting_time'] = df['waiting_time'].astype(np.int64)\n",
        "df.waiting_time.dtype"
      ],
      "execution_count": 88,
      "outputs": [
        {
          "output_type": "execute_result",
          "data": {
            "text/plain": [
              "dtype('int64')"
            ]
          },
          "metadata": {
            "tags": []
          },
          "execution_count": 88
        }
      ]
    },
    {
      "cell_type": "code",
      "metadata": {
        "id": "TuPvcCL3an_v",
        "colab_type": "code",
        "colab": {}
      },
      "source": [
        "#Calculating appointment month\n",
        "df['appointment_month'] = df['appointment_day'].apply(lambda x : dt.datetime.strftime(x, '%B'))"
      ],
      "execution_count": 0,
      "outputs": []
    },
    {
      "cell_type": "code",
      "metadata": {
        "id": "naGJXxAEukhI",
        "colab_type": "code",
        "colab": {
          "base_uri": "https://localhost:8080/",
          "height": 289
        },
        "outputId": "4e8c2952-6f1d-4eb1-b642-37d89ff73c13"
      },
      "source": [
        "#encoding month to be used further\n",
        "df['en_appointment_month'] = df['appointment_month'].map({'January':1, 'February':2, 'March':3, 'April':4, 'May':5, 'June':6, 'July':7, \n",
        "                                                          'August':8, 'September':9, 'October':10, 'November':11, 'December':12})\n",
        "df.head()"
      ],
      "execution_count": 90,
      "outputs": [
        {
          "output_type": "execute_result",
          "data": {
            "text/html": [
              "<div>\n",
              "<style scoped>\n",
              "    .dataframe tbody tr th:only-of-type {\n",
              "        vertical-align: middle;\n",
              "    }\n",
              "\n",
              "    .dataframe tbody tr th {\n",
              "        vertical-align: top;\n",
              "    }\n",
              "\n",
              "    .dataframe thead th {\n",
              "        text-align: right;\n",
              "    }\n",
              "</style>\n",
              "<table border=\"1\" class=\"dataframe\">\n",
              "  <thead>\n",
              "    <tr style=\"text-align: right;\">\n",
              "      <th></th>\n",
              "      <th>age</th>\n",
              "      <th>gender</th>\n",
              "      <th>schedule_day</th>\n",
              "      <th>appointment_day</th>\n",
              "      <th>week_day</th>\n",
              "      <th>no_show</th>\n",
              "      <th>diabetes</th>\n",
              "      <th>alcoholism</th>\n",
              "      <th>hypertension</th>\n",
              "      <th>handicap</th>\n",
              "      <th>scholarship</th>\n",
              "      <th>sms_received</th>\n",
              "      <th>en_no_show</th>\n",
              "      <th>age_bin</th>\n",
              "      <th>waiting_time</th>\n",
              "      <th>appointment_month</th>\n",
              "      <th>en_appointment_month</th>\n",
              "    </tr>\n",
              "  </thead>\n",
              "  <tbody>\n",
              "    <tr>\n",
              "      <th>0</th>\n",
              "      <td>19</td>\n",
              "      <td>M</td>\n",
              "      <td>2014-12-16 14:46:25</td>\n",
              "      <td>2015-01-14</td>\n",
              "      <td>Tuesday</td>\n",
              "      <td>noshow</td>\n",
              "      <td>0</td>\n",
              "      <td>0</td>\n",
              "      <td>0</td>\n",
              "      <td>0</td>\n",
              "      <td>0</td>\n",
              "      <td>0</td>\n",
              "      <td>0</td>\n",
              "      <td>Young-Adult</td>\n",
              "      <td>28</td>\n",
              "      <td>January</td>\n",
              "      <td>1</td>\n",
              "    </tr>\n",
              "    <tr>\n",
              "      <th>1</th>\n",
              "      <td>24</td>\n",
              "      <td>F</td>\n",
              "      <td>2015-08-18 07:01:26</td>\n",
              "      <td>2015-08-19</td>\n",
              "      <td>Tuesday</td>\n",
              "      <td>noshow</td>\n",
              "      <td>0</td>\n",
              "      <td>0</td>\n",
              "      <td>0</td>\n",
              "      <td>0</td>\n",
              "      <td>0</td>\n",
              "      <td>0</td>\n",
              "      <td>0</td>\n",
              "      <td>Young-Adult</td>\n",
              "      <td>1</td>\n",
              "      <td>August</td>\n",
              "      <td>8</td>\n",
              "    </tr>\n",
              "    <tr>\n",
              "      <th>2</th>\n",
              "      <td>4</td>\n",
              "      <td>F</td>\n",
              "      <td>2014-02-17 12:53:46</td>\n",
              "      <td>2014-02-18</td>\n",
              "      <td>Monday</td>\n",
              "      <td>noshow</td>\n",
              "      <td>0</td>\n",
              "      <td>0</td>\n",
              "      <td>0</td>\n",
              "      <td>0</td>\n",
              "      <td>0</td>\n",
              "      <td>0</td>\n",
              "      <td>0</td>\n",
              "      <td>Children</td>\n",
              "      <td>0</td>\n",
              "      <td>February</td>\n",
              "      <td>2</td>\n",
              "    </tr>\n",
              "    <tr>\n",
              "      <th>3</th>\n",
              "      <td>5</td>\n",
              "      <td>M</td>\n",
              "      <td>2014-07-23 17:02:11</td>\n",
              "      <td>2014-08-07</td>\n",
              "      <td>Wednesday</td>\n",
              "      <td>noshow</td>\n",
              "      <td>0</td>\n",
              "      <td>0</td>\n",
              "      <td>0</td>\n",
              "      <td>0</td>\n",
              "      <td>0</td>\n",
              "      <td>0</td>\n",
              "      <td>0</td>\n",
              "      <td>Children</td>\n",
              "      <td>14</td>\n",
              "      <td>August</td>\n",
              "      <td>8</td>\n",
              "    </tr>\n",
              "    <tr>\n",
              "      <th>4</th>\n",
              "      <td>38</td>\n",
              "      <td>M</td>\n",
              "      <td>2015-10-21 15:20:09</td>\n",
              "      <td>2015-10-27</td>\n",
              "      <td>Wednesday</td>\n",
              "      <td>noshow</td>\n",
              "      <td>0</td>\n",
              "      <td>0</td>\n",
              "      <td>0</td>\n",
              "      <td>0</td>\n",
              "      <td>0</td>\n",
              "      <td>0</td>\n",
              "      <td>0</td>\n",
              "      <td>Adult</td>\n",
              "      <td>5</td>\n",
              "      <td>October</td>\n",
              "      <td>10</td>\n",
              "    </tr>\n",
              "  </tbody>\n",
              "</table>\n",
              "</div>"
            ],
            "text/plain": [
              "   age gender  ... appointment_month en_appointment_month\n",
              "0   19      M  ...           January                    1\n",
              "1   24      F  ...            August                    8\n",
              "2    4      F  ...          February                    2\n",
              "3    5      M  ...            August                    8\n",
              "4   38      M  ...           October                   10\n",
              "\n",
              "[5 rows x 17 columns]"
            ]
          },
          "metadata": {
            "tags": []
          },
          "execution_count": 90
        }
      ]
    },
    {
      "cell_type": "code",
      "metadata": {
        "id": "iPlvpPd8av3H",
        "colab_type": "code",
        "outputId": "a578fef9-b8fc-4ecc-cd7b-4059f019b1cd",
        "colab": {
          "base_uri": "https://localhost:8080/",
          "height": 309
        }
      },
      "source": [
        "#Creating a function to calculate hours of appointment\n",
        "def calculate_hour(timestamp):\n",
        "    timestamp = str(timestamp)\n",
        "    hour = int(timestamp[11:13])\n",
        "    minute = int(timestamp[14:16])\n",
        "    second = int(timestamp[17:])\n",
        "    return round(hour + minute/60 + second/3600)\n",
        "\n",
        "df['hour_of_day'] = df.schedule_day.apply(calculate_hour)\n",
        "df.head(5)"
      ],
      "execution_count": 91,
      "outputs": [
        {
          "output_type": "execute_result",
          "data": {
            "text/html": [
              "<div>\n",
              "<style scoped>\n",
              "    .dataframe tbody tr th:only-of-type {\n",
              "        vertical-align: middle;\n",
              "    }\n",
              "\n",
              "    .dataframe tbody tr th {\n",
              "        vertical-align: top;\n",
              "    }\n",
              "\n",
              "    .dataframe thead th {\n",
              "        text-align: right;\n",
              "    }\n",
              "</style>\n",
              "<table border=\"1\" class=\"dataframe\">\n",
              "  <thead>\n",
              "    <tr style=\"text-align: right;\">\n",
              "      <th></th>\n",
              "      <th>age</th>\n",
              "      <th>gender</th>\n",
              "      <th>schedule_day</th>\n",
              "      <th>appointment_day</th>\n",
              "      <th>week_day</th>\n",
              "      <th>no_show</th>\n",
              "      <th>diabetes</th>\n",
              "      <th>alcoholism</th>\n",
              "      <th>hypertension</th>\n",
              "      <th>handicap</th>\n",
              "      <th>scholarship</th>\n",
              "      <th>sms_received</th>\n",
              "      <th>en_no_show</th>\n",
              "      <th>age_bin</th>\n",
              "      <th>waiting_time</th>\n",
              "      <th>appointment_month</th>\n",
              "      <th>en_appointment_month</th>\n",
              "      <th>hour_of_day</th>\n",
              "    </tr>\n",
              "  </thead>\n",
              "  <tbody>\n",
              "    <tr>\n",
              "      <th>0</th>\n",
              "      <td>19</td>\n",
              "      <td>M</td>\n",
              "      <td>2014-12-16 14:46:25</td>\n",
              "      <td>2015-01-14</td>\n",
              "      <td>Tuesday</td>\n",
              "      <td>noshow</td>\n",
              "      <td>0</td>\n",
              "      <td>0</td>\n",
              "      <td>0</td>\n",
              "      <td>0</td>\n",
              "      <td>0</td>\n",
              "      <td>0</td>\n",
              "      <td>0</td>\n",
              "      <td>Young-Adult</td>\n",
              "      <td>28</td>\n",
              "      <td>January</td>\n",
              "      <td>1</td>\n",
              "      <td>15</td>\n",
              "    </tr>\n",
              "    <tr>\n",
              "      <th>1</th>\n",
              "      <td>24</td>\n",
              "      <td>F</td>\n",
              "      <td>2015-08-18 07:01:26</td>\n",
              "      <td>2015-08-19</td>\n",
              "      <td>Tuesday</td>\n",
              "      <td>noshow</td>\n",
              "      <td>0</td>\n",
              "      <td>0</td>\n",
              "      <td>0</td>\n",
              "      <td>0</td>\n",
              "      <td>0</td>\n",
              "      <td>0</td>\n",
              "      <td>0</td>\n",
              "      <td>Young-Adult</td>\n",
              "      <td>1</td>\n",
              "      <td>August</td>\n",
              "      <td>8</td>\n",
              "      <td>7</td>\n",
              "    </tr>\n",
              "    <tr>\n",
              "      <th>2</th>\n",
              "      <td>4</td>\n",
              "      <td>F</td>\n",
              "      <td>2014-02-17 12:53:46</td>\n",
              "      <td>2014-02-18</td>\n",
              "      <td>Monday</td>\n",
              "      <td>noshow</td>\n",
              "      <td>0</td>\n",
              "      <td>0</td>\n",
              "      <td>0</td>\n",
              "      <td>0</td>\n",
              "      <td>0</td>\n",
              "      <td>0</td>\n",
              "      <td>0</td>\n",
              "      <td>Children</td>\n",
              "      <td>0</td>\n",
              "      <td>February</td>\n",
              "      <td>2</td>\n",
              "      <td>13</td>\n",
              "    </tr>\n",
              "    <tr>\n",
              "      <th>3</th>\n",
              "      <td>5</td>\n",
              "      <td>M</td>\n",
              "      <td>2014-07-23 17:02:11</td>\n",
              "      <td>2014-08-07</td>\n",
              "      <td>Wednesday</td>\n",
              "      <td>noshow</td>\n",
              "      <td>0</td>\n",
              "      <td>0</td>\n",
              "      <td>0</td>\n",
              "      <td>0</td>\n",
              "      <td>0</td>\n",
              "      <td>0</td>\n",
              "      <td>0</td>\n",
              "      <td>Children</td>\n",
              "      <td>14</td>\n",
              "      <td>August</td>\n",
              "      <td>8</td>\n",
              "      <td>17</td>\n",
              "    </tr>\n",
              "    <tr>\n",
              "      <th>4</th>\n",
              "      <td>38</td>\n",
              "      <td>M</td>\n",
              "      <td>2015-10-21 15:20:09</td>\n",
              "      <td>2015-10-27</td>\n",
              "      <td>Wednesday</td>\n",
              "      <td>noshow</td>\n",
              "      <td>0</td>\n",
              "      <td>0</td>\n",
              "      <td>0</td>\n",
              "      <td>0</td>\n",
              "      <td>0</td>\n",
              "      <td>0</td>\n",
              "      <td>0</td>\n",
              "      <td>Adult</td>\n",
              "      <td>5</td>\n",
              "      <td>October</td>\n",
              "      <td>10</td>\n",
              "      <td>15</td>\n",
              "    </tr>\n",
              "  </tbody>\n",
              "</table>\n",
              "</div>"
            ],
            "text/plain": [
              "   age gender  ... en_appointment_month hour_of_day\n",
              "0   19      M  ...                    1          15\n",
              "1   24      F  ...                    8           7\n",
              "2    4      F  ...                    2          13\n",
              "3    5      M  ...                    8          17\n",
              "4   38      M  ...                   10          15\n",
              "\n",
              "[5 rows x 18 columns]"
            ]
          },
          "metadata": {
            "tags": []
          },
          "execution_count": 91
        }
      ]
    },
    {
      "cell_type": "markdown",
      "metadata": {
        "id": "YMAU-hRIu-QE",
        "colab_type": "text"
      },
      "source": [
        "Vizualizing for the data in each of the new columns and week_day"
      ]
    },
    {
      "cell_type": "code",
      "metadata": {
        "id": "Xa6gbXhsjQ5U",
        "colab_type": "code",
        "outputId": "18153560-927e-4ca2-93fe-915994e031aa",
        "colab": {
          "base_uri": "https://localhost:8080/",
          "height": 370
        }
      },
      "source": [
        "#Distribution for waiting_time\n",
        "sns.distplot(df['waiting_time'], hist=True, kde=False)\n",
        "plt.show()"
      ],
      "execution_count": 92,
      "outputs": [
        {
          "output_type": "display_data",
          "data": {
            "text/plain": [
              "<Figure size 432x288 with 1 Axes>"
            ],
            "image/svg+xml": "<?xml version=\"1.0\" encoding=\"utf-8\" standalone=\"no\"?>\n<!DOCTYPE svg PUBLIC \"-//W3C//DTD SVG 1.1//EN\"\n  \"http://www.w3.org/Graphics/SVG/1.1/DTD/svg11.dtd\">\n<!-- Created with matplotlib (https://matplotlib.org/) -->\n<svg height=\"262.474375pt\" version=\"1.1\" viewBox=\"0 0 394.375 262.474375\" width=\"394.375pt\" xmlns=\"http://www.w3.org/2000/svg\" xmlns:xlink=\"http://www.w3.org/1999/xlink\">\n <defs>\n  <style type=\"text/css\">\n*{stroke-linecap:butt;stroke-linejoin:round;}\n  </style>\n </defs>\n <g id=\"figure_1\">\n  <g id=\"patch_1\">\n   <path d=\"M 0 262.474375 \nL 394.375 262.474375 \nL 394.375 0 \nL 0 0 \nz\n\" style=\"fill:none;\"/>\n  </g>\n  <g id=\"axes_1\">\n   <g id=\"patch_2\">\n    <path d=\"M 52.375 224.64 \nL 387.175 224.64 \nL 387.175 7.2 \nL 52.375 7.2 \nz\n\" style=\"fill:#ffffff;\"/>\n   </g>\n   <g id=\"matplotlib.axis_1\">\n    <g id=\"xtick_1\">\n     <g id=\"line2d_1\">\n      <path clip-path=\"url(#p01a2428f22)\" d=\"M 72.866809 224.64 \nL 72.866809 7.2 \n\" style=\"fill:none;stroke:#cccccc;stroke-linecap:round;stroke-width:0.8;\"/>\n     </g>\n     <g id=\"text_1\">\n      <!-- 0 -->\n      <defs>\n       <path d=\"M 31.78125 66.40625 \nQ 24.171875 66.40625 20.328125 58.90625 \nQ 16.5 51.421875 16.5 36.375 \nQ 16.5 21.390625 20.328125 13.890625 \nQ 24.171875 6.390625 31.78125 6.390625 \nQ 39.453125 6.390625 43.28125 13.890625 \nQ 47.125 21.390625 47.125 36.375 \nQ 47.125 51.421875 43.28125 58.90625 \nQ 39.453125 66.40625 31.78125 66.40625 \nz\nM 31.78125 74.21875 \nQ 44.046875 74.21875 50.515625 64.515625 \nQ 56.984375 54.828125 56.984375 36.375 \nQ 56.984375 17.96875 50.515625 8.265625 \nQ 44.046875 -1.421875 31.78125 -1.421875 \nQ 19.53125 -1.421875 13.0625 8.265625 \nQ 6.59375 17.96875 6.59375 36.375 \nQ 6.59375 54.828125 13.0625 64.515625 \nQ 19.53125 74.21875 31.78125 74.21875 \nz\n\" id=\"DejaVuSans-48\"/>\n      </defs>\n      <g style=\"fill:#262626;\" transform=\"translate(69.685559 239.238438)scale(0.1 -0.1)\">\n       <use xlink:href=\"#DejaVuSans-48\"/>\n      </g>\n     </g>\n    </g>\n    <g id=\"xtick_2\">\n     <g id=\"line2d_2\">\n      <path clip-path=\"url(#p01a2428f22)\" d=\"M 110.535576 224.64 \nL 110.535576 7.2 \n\" style=\"fill:none;stroke:#cccccc;stroke-linecap:round;stroke-width:0.8;\"/>\n     </g>\n     <g id=\"text_2\">\n      <!-- 50 -->\n      <defs>\n       <path d=\"M 10.796875 72.90625 \nL 49.515625 72.90625 \nL 49.515625 64.59375 \nL 19.828125 64.59375 \nL 19.828125 46.734375 \nQ 21.96875 47.46875 24.109375 47.828125 \nQ 26.265625 48.1875 28.421875 48.1875 \nQ 40.625 48.1875 47.75 41.5 \nQ 54.890625 34.8125 54.890625 23.390625 \nQ 54.890625 11.625 47.5625 5.09375 \nQ 40.234375 -1.421875 26.90625 -1.421875 \nQ 22.3125 -1.421875 17.546875 -0.640625 \nQ 12.796875 0.140625 7.71875 1.703125 \nL 7.71875 11.625 \nQ 12.109375 9.234375 16.796875 8.0625 \nQ 21.484375 6.890625 26.703125 6.890625 \nQ 35.15625 6.890625 40.078125 11.328125 \nQ 45.015625 15.765625 45.015625 23.390625 \nQ 45.015625 31 40.078125 35.4375 \nQ 35.15625 39.890625 26.703125 39.890625 \nQ 22.75 39.890625 18.8125 39.015625 \nQ 14.890625 38.140625 10.796875 36.28125 \nz\n\" id=\"DejaVuSans-53\"/>\n      </defs>\n      <g style=\"fill:#262626;\" transform=\"translate(104.173076 239.238438)scale(0.1 -0.1)\">\n       <use xlink:href=\"#DejaVuSans-53\"/>\n       <use x=\"63.623047\" xlink:href=\"#DejaVuSans-48\"/>\n      </g>\n     </g>\n    </g>\n    <g id=\"xtick_3\">\n     <g id=\"line2d_3\">\n      <path clip-path=\"url(#p01a2428f22)\" d=\"M 148.204343 224.64 \nL 148.204343 7.2 \n\" style=\"fill:none;stroke:#cccccc;stroke-linecap:round;stroke-width:0.8;\"/>\n     </g>\n     <g id=\"text_3\">\n      <!-- 100 -->\n      <defs>\n       <path d=\"M 12.40625 8.296875 \nL 28.515625 8.296875 \nL 28.515625 63.921875 \nL 10.984375 60.40625 \nL 10.984375 69.390625 \nL 28.421875 72.90625 \nL 38.28125 72.90625 \nL 38.28125 8.296875 \nL 54.390625 8.296875 \nL 54.390625 0 \nL 12.40625 0 \nz\n\" id=\"DejaVuSans-49\"/>\n      </defs>\n      <g style=\"fill:#262626;\" transform=\"translate(138.660593 239.238438)scale(0.1 -0.1)\">\n       <use xlink:href=\"#DejaVuSans-49\"/>\n       <use x=\"63.623047\" xlink:href=\"#DejaVuSans-48\"/>\n       <use x=\"127.246094\" xlink:href=\"#DejaVuSans-48\"/>\n      </g>\n     </g>\n    </g>\n    <g id=\"xtick_4\">\n     <g id=\"line2d_4\">\n      <path clip-path=\"url(#p01a2428f22)\" d=\"M 185.87311 224.64 \nL 185.87311 7.2 \n\" style=\"fill:none;stroke:#cccccc;stroke-linecap:round;stroke-width:0.8;\"/>\n     </g>\n     <g id=\"text_4\">\n      <!-- 150 -->\n      <g style=\"fill:#262626;\" transform=\"translate(176.32936 239.238438)scale(0.1 -0.1)\">\n       <use xlink:href=\"#DejaVuSans-49\"/>\n       <use x=\"63.623047\" xlink:href=\"#DejaVuSans-53\"/>\n       <use x=\"127.246094\" xlink:href=\"#DejaVuSans-48\"/>\n      </g>\n     </g>\n    </g>\n    <g id=\"xtick_5\">\n     <g id=\"line2d_5\">\n      <path clip-path=\"url(#p01a2428f22)\" d=\"M 223.541877 224.64 \nL 223.541877 7.2 \n\" style=\"fill:none;stroke:#cccccc;stroke-linecap:round;stroke-width:0.8;\"/>\n     </g>\n     <g id=\"text_5\">\n      <!-- 200 -->\n      <defs>\n       <path d=\"M 19.1875 8.296875 \nL 53.609375 8.296875 \nL 53.609375 0 \nL 7.328125 0 \nL 7.328125 8.296875 \nQ 12.9375 14.109375 22.625 23.890625 \nQ 32.328125 33.6875 34.8125 36.53125 \nQ 39.546875 41.84375 41.421875 45.53125 \nQ 43.3125 49.21875 43.3125 52.78125 \nQ 43.3125 58.59375 39.234375 62.25 \nQ 35.15625 65.921875 28.609375 65.921875 \nQ 23.96875 65.921875 18.8125 64.3125 \nQ 13.671875 62.703125 7.8125 59.421875 \nL 7.8125 69.390625 \nQ 13.765625 71.78125 18.9375 73 \nQ 24.125 74.21875 28.421875 74.21875 \nQ 39.75 74.21875 46.484375 68.546875 \nQ 53.21875 62.890625 53.21875 53.421875 \nQ 53.21875 48.921875 51.53125 44.890625 \nQ 49.859375 40.875 45.40625 35.40625 \nQ 44.1875 33.984375 37.640625 27.21875 \nQ 31.109375 20.453125 19.1875 8.296875 \nz\n\" id=\"DejaVuSans-50\"/>\n      </defs>\n      <g style=\"fill:#262626;\" transform=\"translate(213.998127 239.238438)scale(0.1 -0.1)\">\n       <use xlink:href=\"#DejaVuSans-50\"/>\n       <use x=\"63.623047\" xlink:href=\"#DejaVuSans-48\"/>\n       <use x=\"127.246094\" xlink:href=\"#DejaVuSans-48\"/>\n      </g>\n     </g>\n    </g>\n    <g id=\"xtick_6\">\n     <g id=\"line2d_6\">\n      <path clip-path=\"url(#p01a2428f22)\" d=\"M 261.210644 224.64 \nL 261.210644 7.2 \n\" style=\"fill:none;stroke:#cccccc;stroke-linecap:round;stroke-width:0.8;\"/>\n     </g>\n     <g id=\"text_6\">\n      <!-- 250 -->\n      <g style=\"fill:#262626;\" transform=\"translate(251.666894 239.238438)scale(0.1 -0.1)\">\n       <use xlink:href=\"#DejaVuSans-50\"/>\n       <use x=\"63.623047\" xlink:href=\"#DejaVuSans-53\"/>\n       <use x=\"127.246094\" xlink:href=\"#DejaVuSans-48\"/>\n      </g>\n     </g>\n    </g>\n    <g id=\"xtick_7\">\n     <g id=\"line2d_7\">\n      <path clip-path=\"url(#p01a2428f22)\" d=\"M 298.87941 224.64 \nL 298.87941 7.2 \n\" style=\"fill:none;stroke:#cccccc;stroke-linecap:round;stroke-width:0.8;\"/>\n     </g>\n     <g id=\"text_7\">\n      <!-- 300 -->\n      <defs>\n       <path d=\"M 40.578125 39.3125 \nQ 47.65625 37.796875 51.625 33 \nQ 55.609375 28.21875 55.609375 21.1875 \nQ 55.609375 10.40625 48.1875 4.484375 \nQ 40.765625 -1.421875 27.09375 -1.421875 \nQ 22.515625 -1.421875 17.65625 -0.515625 \nQ 12.796875 0.390625 7.625 2.203125 \nL 7.625 11.71875 \nQ 11.71875 9.328125 16.59375 8.109375 \nQ 21.484375 6.890625 26.8125 6.890625 \nQ 36.078125 6.890625 40.9375 10.546875 \nQ 45.796875 14.203125 45.796875 21.1875 \nQ 45.796875 27.640625 41.28125 31.265625 \nQ 36.765625 34.90625 28.71875 34.90625 \nL 20.21875 34.90625 \nL 20.21875 43.015625 \nL 29.109375 43.015625 \nQ 36.375 43.015625 40.234375 45.921875 \nQ 44.09375 48.828125 44.09375 54.296875 \nQ 44.09375 59.90625 40.109375 62.90625 \nQ 36.140625 65.921875 28.71875 65.921875 \nQ 24.65625 65.921875 20.015625 65.03125 \nQ 15.375 64.15625 9.8125 62.3125 \nL 9.8125 71.09375 \nQ 15.4375 72.65625 20.34375 73.4375 \nQ 25.25 74.21875 29.59375 74.21875 \nQ 40.828125 74.21875 47.359375 69.109375 \nQ 53.90625 64.015625 53.90625 55.328125 \nQ 53.90625 49.265625 50.4375 45.09375 \nQ 46.96875 40.921875 40.578125 39.3125 \nz\n\" id=\"DejaVuSans-51\"/>\n      </defs>\n      <g style=\"fill:#262626;\" transform=\"translate(289.33566 239.238438)scale(0.1 -0.1)\">\n       <use xlink:href=\"#DejaVuSans-51\"/>\n       <use x=\"63.623047\" xlink:href=\"#DejaVuSans-48\"/>\n       <use x=\"127.246094\" xlink:href=\"#DejaVuSans-48\"/>\n      </g>\n     </g>\n    </g>\n    <g id=\"xtick_8\">\n     <g id=\"line2d_8\">\n      <path clip-path=\"url(#p01a2428f22)\" d=\"M 336.548177 224.64 \nL 336.548177 7.2 \n\" style=\"fill:none;stroke:#cccccc;stroke-linecap:round;stroke-width:0.8;\"/>\n     </g>\n     <g id=\"text_8\">\n      <!-- 350 -->\n      <g style=\"fill:#262626;\" transform=\"translate(327.004427 239.238438)scale(0.1 -0.1)\">\n       <use xlink:href=\"#DejaVuSans-51\"/>\n       <use x=\"63.623047\" xlink:href=\"#DejaVuSans-53\"/>\n       <use x=\"127.246094\" xlink:href=\"#DejaVuSans-48\"/>\n      </g>\n     </g>\n    </g>\n    <g id=\"xtick_9\">\n     <g id=\"line2d_9\">\n      <path clip-path=\"url(#p01a2428f22)\" d=\"M 374.216944 224.64 \nL 374.216944 7.2 \n\" style=\"fill:none;stroke:#cccccc;stroke-linecap:round;stroke-width:0.8;\"/>\n     </g>\n     <g id=\"text_9\">\n      <!-- 400 -->\n      <defs>\n       <path d=\"M 37.796875 64.3125 \nL 12.890625 25.390625 \nL 37.796875 25.390625 \nz\nM 35.203125 72.90625 \nL 47.609375 72.90625 \nL 47.609375 25.390625 \nL 58.015625 25.390625 \nL 58.015625 17.1875 \nL 47.609375 17.1875 \nL 47.609375 0 \nL 37.796875 0 \nL 37.796875 17.1875 \nL 4.890625 17.1875 \nL 4.890625 26.703125 \nz\n\" id=\"DejaVuSans-52\"/>\n      </defs>\n      <g style=\"fill:#262626;\" transform=\"translate(364.673194 239.238438)scale(0.1 -0.1)\">\n       <use xlink:href=\"#DejaVuSans-52\"/>\n       <use x=\"63.623047\" xlink:href=\"#DejaVuSans-48\"/>\n       <use x=\"127.246094\" xlink:href=\"#DejaVuSans-48\"/>\n      </g>\n     </g>\n    </g>\n    <g id=\"text_10\">\n     <!-- waiting_time -->\n     <defs>\n      <path d=\"M 4.203125 54.6875 \nL 13.1875 54.6875 \nL 24.421875 12.015625 \nL 35.59375 54.6875 \nL 46.1875 54.6875 \nL 57.421875 12.015625 \nL 68.609375 54.6875 \nL 77.59375 54.6875 \nL 63.28125 0 \nL 52.6875 0 \nL 40.921875 44.828125 \nL 29.109375 0 \nL 18.5 0 \nz\n\" id=\"DejaVuSans-119\"/>\n      <path d=\"M 34.28125 27.484375 \nQ 23.390625 27.484375 19.1875 25 \nQ 14.984375 22.515625 14.984375 16.5 \nQ 14.984375 11.71875 18.140625 8.90625 \nQ 21.296875 6.109375 26.703125 6.109375 \nQ 34.1875 6.109375 38.703125 11.40625 \nQ 43.21875 16.703125 43.21875 25.484375 \nL 43.21875 27.484375 \nz\nM 52.203125 31.203125 \nL 52.203125 0 \nL 43.21875 0 \nL 43.21875 8.296875 \nQ 40.140625 3.328125 35.546875 0.953125 \nQ 30.953125 -1.421875 24.3125 -1.421875 \nQ 15.921875 -1.421875 10.953125 3.296875 \nQ 6 8.015625 6 15.921875 \nQ 6 25.140625 12.171875 29.828125 \nQ 18.359375 34.515625 30.609375 34.515625 \nL 43.21875 34.515625 \nL 43.21875 35.40625 \nQ 43.21875 41.609375 39.140625 45 \nQ 35.0625 48.390625 27.6875 48.390625 \nQ 23 48.390625 18.546875 47.265625 \nQ 14.109375 46.140625 10.015625 43.890625 \nL 10.015625 52.203125 \nQ 14.9375 54.109375 19.578125 55.046875 \nQ 24.21875 56 28.609375 56 \nQ 40.484375 56 46.34375 49.84375 \nQ 52.203125 43.703125 52.203125 31.203125 \nz\n\" id=\"DejaVuSans-97\"/>\n      <path d=\"M 9.421875 54.6875 \nL 18.40625 54.6875 \nL 18.40625 0 \nL 9.421875 0 \nz\nM 9.421875 75.984375 \nL 18.40625 75.984375 \nL 18.40625 64.59375 \nL 9.421875 64.59375 \nz\n\" id=\"DejaVuSans-105\"/>\n      <path d=\"M 18.3125 70.21875 \nL 18.3125 54.6875 \nL 36.8125 54.6875 \nL 36.8125 47.703125 \nL 18.3125 47.703125 \nL 18.3125 18.015625 \nQ 18.3125 11.328125 20.140625 9.421875 \nQ 21.96875 7.515625 27.59375 7.515625 \nL 36.8125 7.515625 \nL 36.8125 0 \nL 27.59375 0 \nQ 17.1875 0 13.234375 3.875 \nQ 9.28125 7.765625 9.28125 18.015625 \nL 9.28125 47.703125 \nL 2.6875 47.703125 \nL 2.6875 54.6875 \nL 9.28125 54.6875 \nL 9.28125 70.21875 \nz\n\" id=\"DejaVuSans-116\"/>\n      <path d=\"M 54.890625 33.015625 \nL 54.890625 0 \nL 45.90625 0 \nL 45.90625 32.71875 \nQ 45.90625 40.484375 42.875 44.328125 \nQ 39.84375 48.1875 33.796875 48.1875 \nQ 26.515625 48.1875 22.3125 43.546875 \nQ 18.109375 38.921875 18.109375 30.90625 \nL 18.109375 0 \nL 9.078125 0 \nL 9.078125 54.6875 \nL 18.109375 54.6875 \nL 18.109375 46.1875 \nQ 21.34375 51.125 25.703125 53.5625 \nQ 30.078125 56 35.796875 56 \nQ 45.21875 56 50.046875 50.171875 \nQ 54.890625 44.34375 54.890625 33.015625 \nz\n\" id=\"DejaVuSans-110\"/>\n      <path d=\"M 45.40625 27.984375 \nQ 45.40625 37.75 41.375 43.109375 \nQ 37.359375 48.484375 30.078125 48.484375 \nQ 22.859375 48.484375 18.828125 43.109375 \nQ 14.796875 37.75 14.796875 27.984375 \nQ 14.796875 18.265625 18.828125 12.890625 \nQ 22.859375 7.515625 30.078125 7.515625 \nQ 37.359375 7.515625 41.375 12.890625 \nQ 45.40625 18.265625 45.40625 27.984375 \nz\nM 54.390625 6.78125 \nQ 54.390625 -7.171875 48.1875 -13.984375 \nQ 42 -20.796875 29.203125 -20.796875 \nQ 24.46875 -20.796875 20.265625 -20.09375 \nQ 16.0625 -19.390625 12.109375 -17.921875 \nL 12.109375 -9.1875 \nQ 16.0625 -11.328125 19.921875 -12.34375 \nQ 23.78125 -13.375 27.78125 -13.375 \nQ 36.625 -13.375 41.015625 -8.765625 \nQ 45.40625 -4.15625 45.40625 5.171875 \nL 45.40625 9.625 \nQ 42.625 4.78125 38.28125 2.390625 \nQ 33.9375 0 27.875 0 \nQ 17.828125 0 11.671875 7.65625 \nQ 5.515625 15.328125 5.515625 27.984375 \nQ 5.515625 40.671875 11.671875 48.328125 \nQ 17.828125 56 27.875 56 \nQ 33.9375 56 38.28125 53.609375 \nQ 42.625 51.21875 45.40625 46.390625 \nL 45.40625 54.6875 \nL 54.390625 54.6875 \nz\n\" id=\"DejaVuSans-103\"/>\n      <path d=\"M 50.984375 -16.609375 \nL 50.984375 -23.578125 \nL -0.984375 -23.578125 \nL -0.984375 -16.609375 \nz\n\" id=\"DejaVuSans-95\"/>\n      <path d=\"M 52 44.1875 \nQ 55.375 50.25 60.0625 53.125 \nQ 64.75 56 71.09375 56 \nQ 79.640625 56 84.28125 50.015625 \nQ 88.921875 44.046875 88.921875 33.015625 \nL 88.921875 0 \nL 79.890625 0 \nL 79.890625 32.71875 \nQ 79.890625 40.578125 77.09375 44.375 \nQ 74.3125 48.1875 68.609375 48.1875 \nQ 61.625 48.1875 57.5625 43.546875 \nQ 53.515625 38.921875 53.515625 30.90625 \nL 53.515625 0 \nL 44.484375 0 \nL 44.484375 32.71875 \nQ 44.484375 40.625 41.703125 44.40625 \nQ 38.921875 48.1875 33.109375 48.1875 \nQ 26.21875 48.1875 22.15625 43.53125 \nQ 18.109375 38.875 18.109375 30.90625 \nL 18.109375 0 \nL 9.078125 0 \nL 9.078125 54.6875 \nL 18.109375 54.6875 \nL 18.109375 46.1875 \nQ 21.1875 51.21875 25.484375 53.609375 \nQ 29.78125 56 35.6875 56 \nQ 41.65625 56 45.828125 52.96875 \nQ 50 49.953125 52 44.1875 \nz\n\" id=\"DejaVuSans-109\"/>\n      <path d=\"M 56.203125 29.59375 \nL 56.203125 25.203125 \nL 14.890625 25.203125 \nQ 15.484375 15.921875 20.484375 11.0625 \nQ 25.484375 6.203125 34.421875 6.203125 \nQ 39.59375 6.203125 44.453125 7.46875 \nQ 49.3125 8.734375 54.109375 11.28125 \nL 54.109375 2.78125 \nQ 49.265625 0.734375 44.1875 -0.34375 \nQ 39.109375 -1.421875 33.890625 -1.421875 \nQ 20.796875 -1.421875 13.15625 6.1875 \nQ 5.515625 13.8125 5.515625 26.8125 \nQ 5.515625 40.234375 12.765625 48.109375 \nQ 20.015625 56 32.328125 56 \nQ 43.359375 56 49.78125 48.890625 \nQ 56.203125 41.796875 56.203125 29.59375 \nz\nM 47.21875 32.234375 \nQ 47.125 39.59375 43.09375 43.984375 \nQ 39.0625 48.390625 32.421875 48.390625 \nQ 24.90625 48.390625 20.390625 44.140625 \nQ 15.875 39.890625 15.1875 32.171875 \nz\n\" id=\"DejaVuSans-101\"/>\n     </defs>\n     <g style=\"fill:#262626;\" transform=\"translate(187.744531 252.916562)scale(0.1 -0.1)\">\n      <use xlink:href=\"#DejaVuSans-119\"/>\n      <use x=\"81.787109\" xlink:href=\"#DejaVuSans-97\"/>\n      <use x=\"143.066406\" xlink:href=\"#DejaVuSans-105\"/>\n      <use x=\"170.849609\" xlink:href=\"#DejaVuSans-116\"/>\n      <use x=\"210.058594\" xlink:href=\"#DejaVuSans-105\"/>\n      <use x=\"237.841797\" xlink:href=\"#DejaVuSans-110\"/>\n      <use x=\"301.220703\" xlink:href=\"#DejaVuSans-103\"/>\n      <use x=\"364.697266\" xlink:href=\"#DejaVuSans-95\"/>\n      <use x=\"414.697266\" xlink:href=\"#DejaVuSans-116\"/>\n      <use x=\"453.90625\" xlink:href=\"#DejaVuSans-105\"/>\n      <use x=\"481.689453\" xlink:href=\"#DejaVuSans-109\"/>\n      <use x=\"579.101562\" xlink:href=\"#DejaVuSans-101\"/>\n     </g>\n    </g>\n   </g>\n   <g id=\"matplotlib.axis_2\">\n    <g id=\"ytick_1\">\n     <g id=\"line2d_10\">\n      <path clip-path=\"url(#p01a2428f22)\" d=\"M 52.375 224.64 \nL 387.175 224.64 \n\" style=\"fill:none;stroke:#cccccc;stroke-linecap:round;stroke-width:0.8;\"/>\n     </g>\n     <g id=\"text_11\">\n      <!-- 0 -->\n      <g style=\"fill:#262626;\" transform=\"translate(39.0125 228.439219)scale(0.1 -0.1)\">\n       <use xlink:href=\"#DejaVuSans-48\"/>\n      </g>\n     </g>\n    </g>\n    <g id=\"ytick_2\">\n     <g id=\"line2d_11\">\n      <path clip-path=\"url(#p01a2428f22)\" d=\"M 52.375 196.66584 \nL 387.175 196.66584 \n\" style=\"fill:none;stroke:#cccccc;stroke-linecap:round;stroke-width:0.8;\"/>\n     </g>\n     <g id=\"text_12\">\n      <!-- 20000 -->\n      <g style=\"fill:#262626;\" transform=\"translate(13.5625 200.465059)scale(0.1 -0.1)\">\n       <use xlink:href=\"#DejaVuSans-50\"/>\n       <use x=\"63.623047\" xlink:href=\"#DejaVuSans-48\"/>\n       <use x=\"127.246094\" xlink:href=\"#DejaVuSans-48\"/>\n       <use x=\"190.869141\" xlink:href=\"#DejaVuSans-48\"/>\n       <use x=\"254.492188\" xlink:href=\"#DejaVuSans-48\"/>\n      </g>\n     </g>\n    </g>\n    <g id=\"ytick_3\">\n     <g id=\"line2d_12\">\n      <path clip-path=\"url(#p01a2428f22)\" d=\"M 52.375 168.69168 \nL 387.175 168.69168 \n\" style=\"fill:none;stroke:#cccccc;stroke-linecap:round;stroke-width:0.8;\"/>\n     </g>\n     <g id=\"text_13\">\n      <!-- 40000 -->\n      <g style=\"fill:#262626;\" transform=\"translate(13.5625 172.490898)scale(0.1 -0.1)\">\n       <use xlink:href=\"#DejaVuSans-52\"/>\n       <use x=\"63.623047\" xlink:href=\"#DejaVuSans-48\"/>\n       <use x=\"127.246094\" xlink:href=\"#DejaVuSans-48\"/>\n       <use x=\"190.869141\" xlink:href=\"#DejaVuSans-48\"/>\n       <use x=\"254.492188\" xlink:href=\"#DejaVuSans-48\"/>\n      </g>\n     </g>\n    </g>\n    <g id=\"ytick_4\">\n     <g id=\"line2d_13\">\n      <path clip-path=\"url(#p01a2428f22)\" d=\"M 52.375 140.717519 \nL 387.175 140.717519 \n\" style=\"fill:none;stroke:#cccccc;stroke-linecap:round;stroke-width:0.8;\"/>\n     </g>\n     <g id=\"text_14\">\n      <!-- 60000 -->\n      <defs>\n       <path d=\"M 33.015625 40.375 \nQ 26.375 40.375 22.484375 35.828125 \nQ 18.609375 31.296875 18.609375 23.390625 \nQ 18.609375 15.53125 22.484375 10.953125 \nQ 26.375 6.390625 33.015625 6.390625 \nQ 39.65625 6.390625 43.53125 10.953125 \nQ 47.40625 15.53125 47.40625 23.390625 \nQ 47.40625 31.296875 43.53125 35.828125 \nQ 39.65625 40.375 33.015625 40.375 \nz\nM 52.59375 71.296875 \nL 52.59375 62.3125 \nQ 48.875 64.0625 45.09375 64.984375 \nQ 41.3125 65.921875 37.59375 65.921875 \nQ 27.828125 65.921875 22.671875 59.328125 \nQ 17.53125 52.734375 16.796875 39.40625 \nQ 19.671875 43.65625 24.015625 45.921875 \nQ 28.375 48.1875 33.59375 48.1875 \nQ 44.578125 48.1875 50.953125 41.515625 \nQ 57.328125 34.859375 57.328125 23.390625 \nQ 57.328125 12.15625 50.6875 5.359375 \nQ 44.046875 -1.421875 33.015625 -1.421875 \nQ 20.359375 -1.421875 13.671875 8.265625 \nQ 6.984375 17.96875 6.984375 36.375 \nQ 6.984375 53.65625 15.1875 63.9375 \nQ 23.390625 74.21875 37.203125 74.21875 \nQ 40.921875 74.21875 44.703125 73.484375 \nQ 48.484375 72.75 52.59375 71.296875 \nz\n\" id=\"DejaVuSans-54\"/>\n      </defs>\n      <g style=\"fill:#262626;\" transform=\"translate(13.5625 144.516738)scale(0.1 -0.1)\">\n       <use xlink:href=\"#DejaVuSans-54\"/>\n       <use x=\"63.623047\" xlink:href=\"#DejaVuSans-48\"/>\n       <use x=\"127.246094\" xlink:href=\"#DejaVuSans-48\"/>\n       <use x=\"190.869141\" xlink:href=\"#DejaVuSans-48\"/>\n       <use x=\"254.492188\" xlink:href=\"#DejaVuSans-48\"/>\n      </g>\n     </g>\n    </g>\n    <g id=\"ytick_5\">\n     <g id=\"line2d_14\">\n      <path clip-path=\"url(#p01a2428f22)\" d=\"M 52.375 112.743359 \nL 387.175 112.743359 \n\" style=\"fill:none;stroke:#cccccc;stroke-linecap:round;stroke-width:0.8;\"/>\n     </g>\n     <g id=\"text_15\">\n      <!-- 80000 -->\n      <defs>\n       <path d=\"M 31.78125 34.625 \nQ 24.75 34.625 20.71875 30.859375 \nQ 16.703125 27.09375 16.703125 20.515625 \nQ 16.703125 13.921875 20.71875 10.15625 \nQ 24.75 6.390625 31.78125 6.390625 \nQ 38.8125 6.390625 42.859375 10.171875 \nQ 46.921875 13.96875 46.921875 20.515625 \nQ 46.921875 27.09375 42.890625 30.859375 \nQ 38.875 34.625 31.78125 34.625 \nz\nM 21.921875 38.8125 \nQ 15.578125 40.375 12.03125 44.71875 \nQ 8.5 49.078125 8.5 55.328125 \nQ 8.5 64.0625 14.71875 69.140625 \nQ 20.953125 74.21875 31.78125 74.21875 \nQ 42.671875 74.21875 48.875 69.140625 \nQ 55.078125 64.0625 55.078125 55.328125 \nQ 55.078125 49.078125 51.53125 44.71875 \nQ 48 40.375 41.703125 38.8125 \nQ 48.828125 37.15625 52.796875 32.3125 \nQ 56.78125 27.484375 56.78125 20.515625 \nQ 56.78125 9.90625 50.3125 4.234375 \nQ 43.84375 -1.421875 31.78125 -1.421875 \nQ 19.734375 -1.421875 13.25 4.234375 \nQ 6.78125 9.90625 6.78125 20.515625 \nQ 6.78125 27.484375 10.78125 32.3125 \nQ 14.796875 37.15625 21.921875 38.8125 \nz\nM 18.3125 54.390625 \nQ 18.3125 48.734375 21.84375 45.5625 \nQ 25.390625 42.390625 31.78125 42.390625 \nQ 38.140625 42.390625 41.71875 45.5625 \nQ 45.3125 48.734375 45.3125 54.390625 \nQ 45.3125 60.0625 41.71875 63.234375 \nQ 38.140625 66.40625 31.78125 66.40625 \nQ 25.390625 66.40625 21.84375 63.234375 \nQ 18.3125 60.0625 18.3125 54.390625 \nz\n\" id=\"DejaVuSans-56\"/>\n      </defs>\n      <g style=\"fill:#262626;\" transform=\"translate(13.5625 116.542578)scale(0.1 -0.1)\">\n       <use xlink:href=\"#DejaVuSans-56\"/>\n       <use x=\"63.623047\" xlink:href=\"#DejaVuSans-48\"/>\n       <use x=\"127.246094\" xlink:href=\"#DejaVuSans-48\"/>\n       <use x=\"190.869141\" xlink:href=\"#DejaVuSans-48\"/>\n       <use x=\"254.492188\" xlink:href=\"#DejaVuSans-48\"/>\n      </g>\n     </g>\n    </g>\n    <g id=\"ytick_6\">\n     <g id=\"line2d_15\">\n      <path clip-path=\"url(#p01a2428f22)\" d=\"M 52.375 84.769199 \nL 387.175 84.769199 \n\" style=\"fill:none;stroke:#cccccc;stroke-linecap:round;stroke-width:0.8;\"/>\n     </g>\n     <g id=\"text_16\">\n      <!-- 100000 -->\n      <g style=\"fill:#262626;\" transform=\"translate(7.2 88.568418)scale(0.1 -0.1)\">\n       <use xlink:href=\"#DejaVuSans-49\"/>\n       <use x=\"63.623047\" xlink:href=\"#DejaVuSans-48\"/>\n       <use x=\"127.246094\" xlink:href=\"#DejaVuSans-48\"/>\n       <use x=\"190.869141\" xlink:href=\"#DejaVuSans-48\"/>\n       <use x=\"254.492188\" xlink:href=\"#DejaVuSans-48\"/>\n       <use x=\"318.115234\" xlink:href=\"#DejaVuSans-48\"/>\n      </g>\n     </g>\n    </g>\n    <g id=\"ytick_7\">\n     <g id=\"line2d_16\">\n      <path clip-path=\"url(#p01a2428f22)\" d=\"M 52.375 56.795039 \nL 387.175 56.795039 \n\" style=\"fill:none;stroke:#cccccc;stroke-linecap:round;stroke-width:0.8;\"/>\n     </g>\n     <g id=\"text_17\">\n      <!-- 120000 -->\n      <g style=\"fill:#262626;\" transform=\"translate(7.2 60.594258)scale(0.1 -0.1)\">\n       <use xlink:href=\"#DejaVuSans-49\"/>\n       <use x=\"63.623047\" xlink:href=\"#DejaVuSans-50\"/>\n       <use x=\"127.246094\" xlink:href=\"#DejaVuSans-48\"/>\n       <use x=\"190.869141\" xlink:href=\"#DejaVuSans-48\"/>\n       <use x=\"254.492188\" xlink:href=\"#DejaVuSans-48\"/>\n       <use x=\"318.115234\" xlink:href=\"#DejaVuSans-48\"/>\n      </g>\n     </g>\n    </g>\n    <g id=\"ytick_8\">\n     <g id=\"line2d_17\">\n      <path clip-path=\"url(#p01a2428f22)\" d=\"M 52.375 28.820879 \nL 387.175 28.820879 \n\" style=\"fill:none;stroke:#cccccc;stroke-linecap:round;stroke-width:0.8;\"/>\n     </g>\n     <g id=\"text_18\">\n      <!-- 140000 -->\n      <g style=\"fill:#262626;\" transform=\"translate(7.2 32.620097)scale(0.1 -0.1)\">\n       <use xlink:href=\"#DejaVuSans-49\"/>\n       <use x=\"63.623047\" xlink:href=\"#DejaVuSans-52\"/>\n       <use x=\"127.246094\" xlink:href=\"#DejaVuSans-48\"/>\n       <use x=\"190.869141\" xlink:href=\"#DejaVuSans-48\"/>\n       <use x=\"254.492188\" xlink:href=\"#DejaVuSans-48\"/>\n       <use x=\"318.115234\" xlink:href=\"#DejaVuSans-48\"/>\n      </g>\n     </g>\n    </g>\n   </g>\n   <g id=\"patch_3\">\n    <path clip-path=\"url(#p01a2428f22)\" d=\"M 67.593182 224.64 \nL 73.680455 224.64 \nL 73.680455 96.249794 \nL 67.593182 96.249794 \nz\n\" style=\"fill:#1f77b4;opacity:0.4;stroke:#ffffff;stroke-linejoin:miter;\"/>\n   </g>\n   <g id=\"patch_4\">\n    <path clip-path=\"url(#p01a2428f22)\" d=\"M 73.680455 224.64 \nL 79.767727 224.64 \nL 79.767727 17.554286 \nL 73.680455 17.554286 \nz\n\" style=\"fill:#1f77b4;opacity:0.4;stroke:#ffffff;stroke-linejoin:miter;\"/>\n   </g>\n   <g id=\"patch_5\">\n    <path clip-path=\"url(#p01a2428f22)\" d=\"M 79.767727 224.64 \nL 85.855 224.64 \nL 85.855 138.67121 \nL 79.767727 138.67121 \nz\n\" style=\"fill:#1f77b4;opacity:0.4;stroke:#ffffff;stroke-linejoin:miter;\"/>\n   </g>\n   <g id=\"patch_6\">\n    <path clip-path=\"url(#p01a2428f22)\" d=\"M 85.855 224.64 \nL 91.942273 224.64 \nL 91.942273 165.041052 \nL 85.855 165.041052 \nz\n\" style=\"fill:#1f77b4;opacity:0.4;stroke:#ffffff;stroke-linejoin:miter;\"/>\n   </g>\n   <g id=\"patch_7\">\n    <path clip-path=\"url(#p01a2428f22)\" d=\"M 91.942273 224.64 \nL 98.029545 224.64 \nL 98.029545 178.34836 \nL 91.942273 178.34836 \nz\n\" style=\"fill:#1f77b4;opacity:0.4;stroke:#ffffff;stroke-linejoin:miter;\"/>\n   </g>\n   <g id=\"patch_8\">\n    <path clip-path=\"url(#p01a2428f22)\" d=\"M 98.029545 224.64 \nL 104.116818 224.64 \nL 104.116818 203.060733 \nL 98.029545 203.060733 \nz\n\" style=\"fill:#1f77b4;opacity:0.4;stroke:#ffffff;stroke-linejoin:miter;\"/>\n   </g>\n   <g id=\"patch_9\">\n    <path clip-path=\"url(#p01a2428f22)\" d=\"M 104.116818 224.64 \nL 110.204091 224.64 \nL 110.204091 215.793172 \nL 104.116818 215.793172 \nz\n\" style=\"fill:#1f77b4;opacity:0.4;stroke:#ffffff;stroke-linejoin:miter;\"/>\n   </g>\n   <g id=\"patch_10\">\n    <path clip-path=\"url(#p01a2428f22)\" d=\"M 110.204091 224.64 \nL 116.291364 224.64 \nL 116.291364 219.411629 \nL 110.204091 219.411629 \nz\n\" style=\"fill:#1f77b4;opacity:0.4;stroke:#ffffff;stroke-linejoin:miter;\"/>\n   </g>\n   <g id=\"patch_11\">\n    <path clip-path=\"url(#p01a2428f22)\" d=\"M 116.291364 224.64 \nL 122.378636 224.64 \nL 122.378636 220.884469 \nL 116.291364 220.884469 \nz\n\" style=\"fill:#1f77b4;opacity:0.4;stroke:#ffffff;stroke-linejoin:miter;\"/>\n   </g>\n   <g id=\"patch_12\">\n    <path clip-path=\"url(#p01a2428f22)\" d=\"M 122.378636 224.64 \nL 128.465909 224.64 \nL 128.465909 222.505572 \nL 122.378636 222.505572 \nz\n\" style=\"fill:#1f77b4;opacity:0.4;stroke:#ffffff;stroke-linejoin:miter;\"/>\n   </g>\n   <g id=\"patch_13\">\n    <path clip-path=\"url(#p01a2428f22)\" d=\"M 128.465909 224.64 \nL 134.553182 224.64 \nL 134.553182 223.311227 \nL 128.465909 223.311227 \nz\n\" style=\"fill:#1f77b4;opacity:0.4;stroke:#ffffff;stroke-linejoin:miter;\"/>\n   </g>\n   <g id=\"patch_14\">\n    <path clip-path=\"url(#p01a2428f22)\" d=\"M 134.553182 224.64 \nL 140.640455 224.64 \nL 140.640455 223.674891 \nL 134.553182 223.674891 \nz\n\" style=\"fill:#1f77b4;opacity:0.4;stroke:#ffffff;stroke-linejoin:miter;\"/>\n   </g>\n   <g id=\"patch_15\">\n    <path clip-path=\"url(#p01a2428f22)\" d=\"M 140.640455 224.64 \nL 146.727727 224.64 \nL 146.727727 223.360182 \nL 140.640455 223.360182 \nz\n\" style=\"fill:#1f77b4;opacity:0.4;stroke:#ffffff;stroke-linejoin:miter;\"/>\n   </g>\n   <g id=\"patch_16\">\n    <path clip-path=\"url(#p01a2428f22)\" d=\"M 146.727727 224.64 \nL 152.815 224.64 \nL 152.815 224.020372 \nL 146.727727 224.020372 \nz\n\" style=\"fill:#1f77b4;opacity:0.4;stroke:#ffffff;stroke-linejoin:miter;\"/>\n   </g>\n   <g id=\"patch_17\">\n    <path clip-path=\"url(#p01a2428f22)\" d=\"M 152.815 224.64 \nL 158.902273 224.64 \nL 158.902273 224.412011 \nL 152.815 224.412011 \nz\n\" style=\"fill:#1f77b4;opacity:0.4;stroke:#ffffff;stroke-linejoin:miter;\"/>\n   </g>\n   <g id=\"patch_18\">\n    <path clip-path=\"url(#p01a2428f22)\" d=\"M 158.902273 224.64 \nL 164.989545 224.64 \nL 164.989545 224.537894 \nL 158.902273 224.537894 \nz\n\" style=\"fill:#1f77b4;opacity:0.4;stroke:#ffffff;stroke-linejoin:miter;\"/>\n   </g>\n   <g id=\"patch_19\">\n    <path clip-path=\"url(#p01a2428f22)\" d=\"M 164.989545 224.64 \nL 171.076818 224.64 \nL 171.076818 224.571463 \nL 164.989545 224.571463 \nz\n\" style=\"fill:#1f77b4;opacity:0.4;stroke:#ffffff;stroke-linejoin:miter;\"/>\n   </g>\n   <g id=\"patch_20\">\n    <path clip-path=\"url(#p01a2428f22)\" d=\"M 171.076818 224.64 \nL 177.164091 224.64 \nL 177.164091 224.602235 \nL 171.076818 224.602235 \nz\n\" style=\"fill:#1f77b4;opacity:0.4;stroke:#ffffff;stroke-linejoin:miter;\"/>\n   </g>\n   <g id=\"patch_21\">\n    <path clip-path=\"url(#p01a2428f22)\" d=\"M 177.164091 224.64 \nL 183.251364 224.64 \nL 183.251364 224.606431 \nL 177.164091 224.606431 \nz\n\" style=\"fill:#1f77b4;opacity:0.4;stroke:#ffffff;stroke-linejoin:miter;\"/>\n   </g>\n   <g id=\"patch_22\">\n    <path clip-path=\"url(#p01a2428f22)\" d=\"M 183.251364 224.64 \nL 189.338636 224.64 \nL 189.338636 224.612026 \nL 183.251364 224.612026 \nz\n\" style=\"fill:#1f77b4;opacity:0.4;stroke:#ffffff;stroke-linejoin:miter;\"/>\n   </g>\n   <g id=\"patch_23\">\n    <path clip-path=\"url(#p01a2428f22)\" d=\"M 189.338636 224.64 \nL 195.425909 224.64 \nL 195.425909 224.614823 \nL 189.338636 224.614823 \nz\n\" style=\"fill:#1f77b4;opacity:0.4;stroke:#ffffff;stroke-linejoin:miter;\"/>\n   </g>\n   <g id=\"patch_24\">\n    <path clip-path=\"url(#p01a2428f22)\" d=\"M 195.425909 224.64 \nL 201.513182 224.64 \nL 201.513182 224.613425 \nL 195.425909 224.613425 \nz\n\" style=\"fill:#1f77b4;opacity:0.4;stroke:#ffffff;stroke-linejoin:miter;\"/>\n   </g>\n   <g id=\"patch_25\">\n    <path clip-path=\"url(#p01a2428f22)\" d=\"M 201.513182 224.64 \nL 207.600455 224.64 \nL 207.600455 224.598039 \nL 201.513182 224.598039 \nz\n\" style=\"fill:#1f77b4;opacity:0.4;stroke:#ffffff;stroke-linejoin:miter;\"/>\n   </g>\n   <g id=\"patch_26\">\n    <path clip-path=\"url(#p01a2428f22)\" d=\"M 207.600455 224.64 \nL 213.687727 224.64 \nL 213.687727 224.605032 \nL 207.600455 224.605032 \nz\n\" style=\"fill:#1f77b4;opacity:0.4;stroke:#ffffff;stroke-linejoin:miter;\"/>\n   </g>\n   <g id=\"patch_27\">\n    <path clip-path=\"url(#p01a2428f22)\" d=\"M 213.687727 224.64 \nL 219.775 224.64 \nL 219.775 224.635804 \nL 213.687727 224.635804 \nz\n\" style=\"fill:#1f77b4;opacity:0.4;stroke:#ffffff;stroke-linejoin:miter;\"/>\n   </g>\n   <g id=\"patch_28\">\n    <path clip-path=\"url(#p01a2428f22)\" d=\"M 219.775 224.64 \nL 225.862273 224.64 \nL 225.862273 224.627412 \nL 219.775 224.627412 \nz\n\" style=\"fill:#1f77b4;opacity:0.4;stroke:#ffffff;stroke-linejoin:miter;\"/>\n   </g>\n   <g id=\"patch_29\">\n    <path clip-path=\"url(#p01a2428f22)\" d=\"M 225.862273 224.64 \nL 231.949545 224.64 \nL 231.949545 224.630209 \nL 225.862273 224.630209 \nz\n\" style=\"fill:#1f77b4;opacity:0.4;stroke:#ffffff;stroke-linejoin:miter;\"/>\n   </g>\n   <g id=\"patch_30\">\n    <path clip-path=\"url(#p01a2428f22)\" d=\"M 231.949545 224.64 \nL 238.036818 224.64 \nL 238.036818 224.631608 \nL 231.949545 224.631608 \nz\n\" style=\"fill:#1f77b4;opacity:0.4;stroke:#ffffff;stroke-linejoin:miter;\"/>\n   </g>\n   <g id=\"patch_31\">\n    <path clip-path=\"url(#p01a2428f22)\" d=\"M 238.036818 224.64 \nL 244.124091 224.64 \nL 244.124091 224.631608 \nL 238.036818 224.631608 \nz\n\" style=\"fill:#1f77b4;opacity:0.4;stroke:#ffffff;stroke-linejoin:miter;\"/>\n   </g>\n   <g id=\"patch_32\">\n    <path clip-path=\"url(#p01a2428f22)\" d=\"M 244.124091 224.64 \nL 250.211364 224.64 \nL 250.211364 224.623216 \nL 244.124091 224.623216 \nz\n\" style=\"fill:#1f77b4;opacity:0.4;stroke:#ffffff;stroke-linejoin:miter;\"/>\n   </g>\n   <g id=\"patch_33\">\n    <path clip-path=\"url(#p01a2428f22)\" d=\"M 250.211364 224.64 \nL 256.298636 224.64 \nL 256.298636 224.62881 \nL 250.211364 224.62881 \nz\n\" style=\"fill:#1f77b4;opacity:0.4;stroke:#ffffff;stroke-linejoin:miter;\"/>\n   </g>\n   <g id=\"patch_34\">\n    <path clip-path=\"url(#p01a2428f22)\" d=\"M 256.298636 224.64 \nL 262.385909 224.64 \nL 262.385909 224.635804 \nL 256.298636 224.635804 \nz\n\" style=\"fill:#1f77b4;opacity:0.4;stroke:#ffffff;stroke-linejoin:miter;\"/>\n   </g>\n   <g id=\"patch_35\">\n    <path clip-path=\"url(#p01a2428f22)\" d=\"M 262.385909 224.64 \nL 268.473182 224.64 \nL 268.473182 224.630209 \nL 262.385909 224.630209 \nz\n\" style=\"fill:#1f77b4;opacity:0.4;stroke:#ffffff;stroke-linejoin:miter;\"/>\n   </g>\n   <g id=\"patch_36\">\n    <path clip-path=\"url(#p01a2428f22)\" d=\"M 268.473182 224.64 \nL 274.560455 224.64 \nL 274.560455 224.633006 \nL 268.473182 224.633006 \nz\n\" style=\"fill:#1f77b4;opacity:0.4;stroke:#ffffff;stroke-linejoin:miter;\"/>\n   </g>\n   <g id=\"patch_37\">\n    <path clip-path=\"url(#p01a2428f22)\" d=\"M 274.560455 224.64 \nL 280.647727 224.64 \nL 280.647727 224.633006 \nL 274.560455 224.633006 \nz\n\" style=\"fill:#1f77b4;opacity:0.4;stroke:#ffffff;stroke-linejoin:miter;\"/>\n   </g>\n   <g id=\"patch_38\">\n    <path clip-path=\"url(#p01a2428f22)\" d=\"M 280.647727 224.64 \nL 286.735 224.64 \nL 286.735 224.627412 \nL 280.647727 224.627412 \nz\n\" style=\"fill:#1f77b4;opacity:0.4;stroke:#ffffff;stroke-linejoin:miter;\"/>\n   </g>\n   <g id=\"patch_39\">\n    <path clip-path=\"url(#p01a2428f22)\" d=\"M 286.735 224.64 \nL 292.822273 224.64 \nL 292.822273 224.635804 \nL 286.735 224.635804 \nz\n\" style=\"fill:#1f77b4;opacity:0.4;stroke:#ffffff;stroke-linejoin:miter;\"/>\n   </g>\n   <g id=\"patch_40\">\n    <path clip-path=\"url(#p01a2428f22)\" d=\"M 292.822273 224.64 \nL 298.909545 224.64 \nL 298.909545 224.624614 \nL 292.822273 224.624614 \nz\n\" style=\"fill:#1f77b4;opacity:0.4;stroke:#ffffff;stroke-linejoin:miter;\"/>\n   </g>\n   <g id=\"patch_41\">\n    <path clip-path=\"url(#p01a2428f22)\" d=\"M 298.909545 224.64 \nL 304.996818 224.64 \nL 304.996818 224.630209 \nL 298.909545 224.630209 \nz\n\" style=\"fill:#1f77b4;opacity:0.4;stroke:#ffffff;stroke-linejoin:miter;\"/>\n   </g>\n   <g id=\"patch_42\">\n    <path clip-path=\"url(#p01a2428f22)\" d=\"M 304.996818 224.64 \nL 311.084091 224.64 \nL 311.084091 224.635804 \nL 304.996818 224.635804 \nz\n\" style=\"fill:#1f77b4;opacity:0.4;stroke:#ffffff;stroke-linejoin:miter;\"/>\n   </g>\n   <g id=\"patch_43\">\n    <path clip-path=\"url(#p01a2428f22)\" d=\"M 311.084091 224.64 \nL 317.171364 224.64 \nL 317.171364 224.634405 \nL 311.084091 224.634405 \nz\n\" style=\"fill:#1f77b4;opacity:0.4;stroke:#ffffff;stroke-linejoin:miter;\"/>\n   </g>\n   <g id=\"patch_44\">\n    <path clip-path=\"url(#p01a2428f22)\" d=\"M 317.171364 224.64 \nL 323.258636 224.64 \nL 323.258636 224.634405 \nL 317.171364 224.634405 \nz\n\" style=\"fill:#1f77b4;opacity:0.4;stroke:#ffffff;stroke-linejoin:miter;\"/>\n   </g>\n   <g id=\"patch_45\">\n    <path clip-path=\"url(#p01a2428f22)\" d=\"M 323.258636 224.64 \nL 329.345909 224.64 \nL 329.345909 224.634405 \nL 323.258636 224.634405 \nz\n\" style=\"fill:#1f77b4;opacity:0.4;stroke:#ffffff;stroke-linejoin:miter;\"/>\n   </g>\n   <g id=\"patch_46\">\n    <path clip-path=\"url(#p01a2428f22)\" d=\"M 329.345909 224.64 \nL 335.433182 224.64 \nL 335.433182 224.637203 \nL 329.345909 224.637203 \nz\n\" style=\"fill:#1f77b4;opacity:0.4;stroke:#ffffff;stroke-linejoin:miter;\"/>\n   </g>\n   <g id=\"patch_47\">\n    <path clip-path=\"url(#p01a2428f22)\" d=\"M 335.433182 224.64 \nL 341.520455 224.64 \nL 341.520455 224.637203 \nL 335.433182 224.637203 \nz\n\" style=\"fill:#1f77b4;opacity:0.4;stroke:#ffffff;stroke-linejoin:miter;\"/>\n   </g>\n   <g id=\"patch_48\">\n    <path clip-path=\"url(#p01a2428f22)\" d=\"M 341.520455 224.64 \nL 347.607727 224.64 \nL 347.607727 224.64 \nL 341.520455 224.64 \nz\n\" style=\"fill:#1f77b4;opacity:0.4;stroke:#ffffff;stroke-linejoin:miter;\"/>\n   </g>\n   <g id=\"patch_49\">\n    <path clip-path=\"url(#p01a2428f22)\" d=\"M 347.607727 224.64 \nL 353.695 224.64 \nL 353.695 224.64 \nL 347.607727 224.64 \nz\n\" style=\"fill:#1f77b4;opacity:0.4;stroke:#ffffff;stroke-linejoin:miter;\"/>\n   </g>\n   <g id=\"patch_50\">\n    <path clip-path=\"url(#p01a2428f22)\" d=\"M 353.695 224.64 \nL 359.782273 224.64 \nL 359.782273 224.64 \nL 353.695 224.64 \nz\n\" style=\"fill:#1f77b4;opacity:0.4;stroke:#ffffff;stroke-linejoin:miter;\"/>\n   </g>\n   <g id=\"patch_51\">\n    <path clip-path=\"url(#p01a2428f22)\" d=\"M 359.782273 224.64 \nL 365.869545 224.64 \nL 365.869545 224.64 \nL 359.782273 224.64 \nz\n\" style=\"fill:#1f77b4;opacity:0.4;stroke:#ffffff;stroke-linejoin:miter;\"/>\n   </g>\n   <g id=\"patch_52\">\n    <path clip-path=\"url(#p01a2428f22)\" d=\"M 365.869545 224.64 \nL 371.956818 224.64 \nL 371.956818 224.638601 \nL 365.869545 224.638601 \nz\n\" style=\"fill:#1f77b4;opacity:0.4;stroke:#ffffff;stroke-linejoin:miter;\"/>\n   </g>\n   <g id=\"patch_53\">\n    <path d=\"M 52.375 224.64 \nL 52.375 7.2 \n\" style=\"fill:none;stroke:#cccccc;stroke-linecap:square;stroke-linejoin:miter;stroke-width:0.8;\"/>\n   </g>\n   <g id=\"patch_54\">\n    <path d=\"M 387.175 224.64 \nL 387.175 7.2 \n\" style=\"fill:none;stroke:#cccccc;stroke-linecap:square;stroke-linejoin:miter;stroke-width:0.8;\"/>\n   </g>\n   <g id=\"patch_55\">\n    <path d=\"M 52.375 224.64 \nL 387.175 224.64 \n\" style=\"fill:none;stroke:#cccccc;stroke-linecap:square;stroke-linejoin:miter;stroke-width:0.8;\"/>\n   </g>\n   <g id=\"patch_56\">\n    <path d=\"M 52.375 7.2 \nL 387.175 7.2 \n\" style=\"fill:none;stroke:#cccccc;stroke-linecap:square;stroke-linejoin:miter;stroke-width:0.8;\"/>\n   </g>\n  </g>\n </g>\n <defs>\n  <clipPath id=\"p01a2428f22\">\n   <rect height=\"217.44\" width=\"334.8\" x=\"52.375\" y=\"7.2\"/>\n  </clipPath>\n </defs>\n</svg>\n"
          },
          "metadata": {
            "tags": [],
            "needs_background": "light"
          }
        }
      ]
    },
    {
      "cell_type": "code",
      "metadata": {
        "id": "PV51uKpehk97",
        "colab_type": "code",
        "outputId": "634bb9b3-9b79-4fe4-8d3c-99162e69d0d5",
        "colab": {
          "base_uri": "https://localhost:8080/",
          "height": 970
        }
      },
      "source": [
        "#plotting for other categorical variables\n",
        "date_feild = ['appointment_month', 'hour_of_day', 'week_day']\n",
        "\n",
        "fig, axes = plt.subplots(nrows=3, ncols=1, figsize=(10,12))\n",
        "fig.subplots_adjust(hspace=0.3)\n",
        "\n",
        "for ax, date_feild in zip(axes.flatten(), df[date_feild].columns):\n",
        "    sns.countplot(x=date_feild, data=df, ax=ax)\n",
        "    ax.set_title(date_feild.upper())"
      ],
      "execution_count": 27,
      "outputs": [
        {
          "output_type": "display_data",
          "data": {
            "text/plain": [
              "<Figure size 720x864 with 3 Axes>"
            ],
            "image/svg+xml": "<?xml version=\"1.0\" encoding=\"utf-8\" standalone=\"no\"?>\n<!DOCTYPE svg PUBLIC \"-//W3C//DTD SVG 1.1//EN\"\n  \"http://www.w3.org/Graphics/SVG/1.1/DTD/svg11.dtd\">\n<!-- Created with matplotlib (https://matplotlib.org/) -->\n<svg height=\"712.260625pt\" version=\"1.1\" viewBox=\"0 0 633.932031 712.260625\" width=\"633.932031pt\" xmlns=\"http://www.w3.org/2000/svg\" xmlns:xlink=\"http://www.w3.org/1999/xlink\">\n <defs>\n  <style type=\"text/css\">\n*{stroke-linecap:butt;stroke-linejoin:round;}\n  </style>\n </defs>\n <g id=\"figure_1\">\n  <g id=\"patch_1\">\n   <path d=\"M 0 712.260625 \nL 633.932031 712.260625 \nL 633.932031 0 \nL 0 0 \nz\n\" style=\"fill:none;\"/>\n  </g>\n  <g id=\"axes_1\">\n   <g id=\"patch_2\">\n    <path d=\"M 66.053125 203.30625 \nL 624.053125 203.30625 \nL 624.053125 22.10625 \nL 66.053125 22.10625 \nz\n\" style=\"fill:#ffffff;\"/>\n   </g>\n   <g id=\"matplotlib.axis_1\">\n    <g id=\"xtick_1\">\n     <g id=\"text_1\">\n      <!-- January -->\n      <defs>\n       <path d=\"M 9.8125 72.90625 \nL 19.671875 72.90625 \nL 19.671875 5.078125 \nQ 19.671875 -8.109375 14.671875 -14.0625 \nQ 9.671875 -20.015625 -1.421875 -20.015625 \nL -5.171875 -20.015625 \nL -5.171875 -11.71875 \nL -2.09375 -11.71875 \nQ 4.4375 -11.71875 7.125 -8.046875 \nQ 9.8125 -4.390625 9.8125 5.078125 \nz\n\" id=\"DejaVuSans-74\"/>\n       <path d=\"M 34.28125 27.484375 \nQ 23.390625 27.484375 19.1875 25 \nQ 14.984375 22.515625 14.984375 16.5 \nQ 14.984375 11.71875 18.140625 8.90625 \nQ 21.296875 6.109375 26.703125 6.109375 \nQ 34.1875 6.109375 38.703125 11.40625 \nQ 43.21875 16.703125 43.21875 25.484375 \nL 43.21875 27.484375 \nz\nM 52.203125 31.203125 \nL 52.203125 0 \nL 43.21875 0 \nL 43.21875 8.296875 \nQ 40.140625 3.328125 35.546875 0.953125 \nQ 30.953125 -1.421875 24.3125 -1.421875 \nQ 15.921875 -1.421875 10.953125 3.296875 \nQ 6 8.015625 6 15.921875 \nQ 6 25.140625 12.171875 29.828125 \nQ 18.359375 34.515625 30.609375 34.515625 \nL 43.21875 34.515625 \nL 43.21875 35.40625 \nQ 43.21875 41.609375 39.140625 45 \nQ 35.0625 48.390625 27.6875 48.390625 \nQ 23 48.390625 18.546875 47.265625 \nQ 14.109375 46.140625 10.015625 43.890625 \nL 10.015625 52.203125 \nQ 14.9375 54.109375 19.578125 55.046875 \nQ 24.21875 56 28.609375 56 \nQ 40.484375 56 46.34375 49.84375 \nQ 52.203125 43.703125 52.203125 31.203125 \nz\n\" id=\"DejaVuSans-97\"/>\n       <path d=\"M 54.890625 33.015625 \nL 54.890625 0 \nL 45.90625 0 \nL 45.90625 32.71875 \nQ 45.90625 40.484375 42.875 44.328125 \nQ 39.84375 48.1875 33.796875 48.1875 \nQ 26.515625 48.1875 22.3125 43.546875 \nQ 18.109375 38.921875 18.109375 30.90625 \nL 18.109375 0 \nL 9.078125 0 \nL 9.078125 54.6875 \nL 18.109375 54.6875 \nL 18.109375 46.1875 \nQ 21.34375 51.125 25.703125 53.5625 \nQ 30.078125 56 35.796875 56 \nQ 45.21875 56 50.046875 50.171875 \nQ 54.890625 44.34375 54.890625 33.015625 \nz\n\" id=\"DejaVuSans-110\"/>\n       <path d=\"M 8.5 21.578125 \nL 8.5 54.6875 \nL 17.484375 54.6875 \nL 17.484375 21.921875 \nQ 17.484375 14.15625 20.5 10.265625 \nQ 23.53125 6.390625 29.59375 6.390625 \nQ 36.859375 6.390625 41.078125 11.03125 \nQ 45.3125 15.671875 45.3125 23.6875 \nL 45.3125 54.6875 \nL 54.296875 54.6875 \nL 54.296875 0 \nL 45.3125 0 \nL 45.3125 8.40625 \nQ 42.046875 3.421875 37.71875 1 \nQ 33.40625 -1.421875 27.6875 -1.421875 \nQ 18.265625 -1.421875 13.375 4.4375 \nQ 8.5 10.296875 8.5 21.578125 \nz\nM 31.109375 56 \nz\n\" id=\"DejaVuSans-117\"/>\n       <path d=\"M 41.109375 46.296875 \nQ 39.59375 47.171875 37.8125 47.578125 \nQ 36.03125 48 33.890625 48 \nQ 26.265625 48 22.1875 43.046875 \nQ 18.109375 38.09375 18.109375 28.8125 \nL 18.109375 0 \nL 9.078125 0 \nL 9.078125 54.6875 \nL 18.109375 54.6875 \nL 18.109375 46.1875 \nQ 20.953125 51.171875 25.484375 53.578125 \nQ 30.03125 56 36.53125 56 \nQ 37.453125 56 38.578125 55.875 \nQ 39.703125 55.765625 41.0625 55.515625 \nz\n\" id=\"DejaVuSans-114\"/>\n       <path d=\"M 32.171875 -5.078125 \nQ 28.375 -14.84375 24.75 -17.8125 \nQ 21.140625 -20.796875 15.09375 -20.796875 \nL 7.90625 -20.796875 \nL 7.90625 -13.28125 \nL 13.1875 -13.28125 \nQ 16.890625 -13.28125 18.9375 -11.515625 \nQ 21 -9.765625 23.484375 -3.21875 \nL 25.09375 0.875 \nL 2.984375 54.6875 \nL 12.5 54.6875 \nL 29.59375 11.921875 \nL 46.6875 54.6875 \nL 56.203125 54.6875 \nz\n\" id=\"DejaVuSans-121\"/>\n      </defs>\n      <g style=\"fill:#262626;\" transform=\"translate(70.347656 217.904687)scale(0.1 -0.1)\">\n       <use xlink:href=\"#DejaVuSans-74\"/>\n       <use x=\"29.492188\" xlink:href=\"#DejaVuSans-97\"/>\n       <use x=\"90.771484\" xlink:href=\"#DejaVuSans-110\"/>\n       <use x=\"154.150391\" xlink:href=\"#DejaVuSans-117\"/>\n       <use x=\"217.529297\" xlink:href=\"#DejaVuSans-97\"/>\n       <use x=\"278.808594\" xlink:href=\"#DejaVuSans-114\"/>\n       <use x=\"319.921875\" xlink:href=\"#DejaVuSans-121\"/>\n      </g>\n     </g>\n    </g>\n    <g id=\"xtick_2\">\n     <g id=\"text_2\">\n      <!-- August -->\n      <defs>\n       <path d=\"M 34.1875 63.1875 \nL 20.796875 26.90625 \nL 47.609375 26.90625 \nz\nM 28.609375 72.90625 \nL 39.796875 72.90625 \nL 67.578125 0 \nL 57.328125 0 \nL 50.6875 18.703125 \nL 17.828125 18.703125 \nL 11.1875 0 \nL 0.78125 0 \nz\n\" id=\"DejaVuSans-65\"/>\n       <path d=\"M 45.40625 27.984375 \nQ 45.40625 37.75 41.375 43.109375 \nQ 37.359375 48.484375 30.078125 48.484375 \nQ 22.859375 48.484375 18.828125 43.109375 \nQ 14.796875 37.75 14.796875 27.984375 \nQ 14.796875 18.265625 18.828125 12.890625 \nQ 22.859375 7.515625 30.078125 7.515625 \nQ 37.359375 7.515625 41.375 12.890625 \nQ 45.40625 18.265625 45.40625 27.984375 \nz\nM 54.390625 6.78125 \nQ 54.390625 -7.171875 48.1875 -13.984375 \nQ 42 -20.796875 29.203125 -20.796875 \nQ 24.46875 -20.796875 20.265625 -20.09375 \nQ 16.0625 -19.390625 12.109375 -17.921875 \nL 12.109375 -9.1875 \nQ 16.0625 -11.328125 19.921875 -12.34375 \nQ 23.78125 -13.375 27.78125 -13.375 \nQ 36.625 -13.375 41.015625 -8.765625 \nQ 45.40625 -4.15625 45.40625 5.171875 \nL 45.40625 9.625 \nQ 42.625 4.78125 38.28125 2.390625 \nQ 33.9375 0 27.875 0 \nQ 17.828125 0 11.671875 7.65625 \nQ 5.515625 15.328125 5.515625 27.984375 \nQ 5.515625 40.671875 11.671875 48.328125 \nQ 17.828125 56 27.875 56 \nQ 33.9375 56 38.28125 53.609375 \nQ 42.625 51.21875 45.40625 46.390625 \nL 45.40625 54.6875 \nL 54.390625 54.6875 \nz\n\" id=\"DejaVuSans-103\"/>\n       <path d=\"M 44.28125 53.078125 \nL 44.28125 44.578125 \nQ 40.484375 46.53125 36.375 47.5 \nQ 32.28125 48.484375 27.875 48.484375 \nQ 21.1875 48.484375 17.84375 46.4375 \nQ 14.5 44.390625 14.5 40.28125 \nQ 14.5 37.15625 16.890625 35.375 \nQ 19.28125 33.59375 26.515625 31.984375 \nL 29.59375 31.296875 \nQ 39.15625 29.25 43.1875 25.515625 \nQ 47.21875 21.78125 47.21875 15.09375 \nQ 47.21875 7.46875 41.1875 3.015625 \nQ 35.15625 -1.421875 24.609375 -1.421875 \nQ 20.21875 -1.421875 15.453125 -0.5625 \nQ 10.6875 0.296875 5.421875 2 \nL 5.421875 11.28125 \nQ 10.40625 8.6875 15.234375 7.390625 \nQ 20.0625 6.109375 24.8125 6.109375 \nQ 31.15625 6.109375 34.5625 8.28125 \nQ 37.984375 10.453125 37.984375 14.40625 \nQ 37.984375 18.0625 35.515625 20.015625 \nQ 33.0625 21.96875 24.703125 23.78125 \nL 21.578125 24.515625 \nQ 13.234375 26.265625 9.515625 29.90625 \nQ 5.8125 33.546875 5.8125 39.890625 \nQ 5.8125 47.609375 11.28125 51.796875 \nQ 16.75 56 26.8125 56 \nQ 31.78125 56 36.171875 55.265625 \nQ 40.578125 54.546875 44.28125 53.078125 \nz\n\" id=\"DejaVuSans-115\"/>\n       <path d=\"M 18.3125 70.21875 \nL 18.3125 54.6875 \nL 36.8125 54.6875 \nL 36.8125 47.703125 \nL 18.3125 47.703125 \nL 18.3125 18.015625 \nQ 18.3125 11.328125 20.140625 9.421875 \nQ 21.96875 7.515625 27.59375 7.515625 \nL 36.8125 7.515625 \nL 36.8125 0 \nL 27.59375 0 \nQ 17.1875 0 13.234375 3.875 \nQ 9.28125 7.765625 9.28125 18.015625 \nL 9.28125 47.703125 \nL 2.6875 47.703125 \nL 2.6875 54.6875 \nL 9.28125 54.6875 \nL 9.28125 70.21875 \nz\n\" id=\"DejaVuSans-116\"/>\n      </defs>\n      <g style=\"fill:#262626;\" transform=\"translate(118.30625 217.904687)scale(0.1 -0.1)\">\n       <use xlink:href=\"#DejaVuSans-65\"/>\n       <use x=\"68.408203\" xlink:href=\"#DejaVuSans-117\"/>\n       <use x=\"131.787109\" xlink:href=\"#DejaVuSans-103\"/>\n       <use x=\"195.263672\" xlink:href=\"#DejaVuSans-117\"/>\n       <use x=\"258.642578\" xlink:href=\"#DejaVuSans-115\"/>\n       <use x=\"310.742188\" xlink:href=\"#DejaVuSans-116\"/>\n      </g>\n     </g>\n    </g>\n    <g id=\"xtick_3\">\n     <g id=\"text_3\">\n      <!-- February -->\n      <defs>\n       <path d=\"M 9.8125 72.90625 \nL 51.703125 72.90625 \nL 51.703125 64.59375 \nL 19.671875 64.59375 \nL 19.671875 43.109375 \nL 48.578125 43.109375 \nL 48.578125 34.8125 \nL 19.671875 34.8125 \nL 19.671875 0 \nL 9.8125 0 \nz\n\" id=\"DejaVuSans-70\"/>\n       <path d=\"M 56.203125 29.59375 \nL 56.203125 25.203125 \nL 14.890625 25.203125 \nQ 15.484375 15.921875 20.484375 11.0625 \nQ 25.484375 6.203125 34.421875 6.203125 \nQ 39.59375 6.203125 44.453125 7.46875 \nQ 49.3125 8.734375 54.109375 11.28125 \nL 54.109375 2.78125 \nQ 49.265625 0.734375 44.1875 -0.34375 \nQ 39.109375 -1.421875 33.890625 -1.421875 \nQ 20.796875 -1.421875 13.15625 6.1875 \nQ 5.515625 13.8125 5.515625 26.8125 \nQ 5.515625 40.234375 12.765625 48.109375 \nQ 20.015625 56 32.328125 56 \nQ 43.359375 56 49.78125 48.890625 \nQ 56.203125 41.796875 56.203125 29.59375 \nz\nM 47.21875 32.234375 \nQ 47.125 39.59375 43.09375 43.984375 \nQ 39.0625 48.390625 32.421875 48.390625 \nQ 24.90625 48.390625 20.390625 44.140625 \nQ 15.875 39.890625 15.1875 32.171875 \nz\n\" id=\"DejaVuSans-101\"/>\n       <path d=\"M 48.6875 27.296875 \nQ 48.6875 37.203125 44.609375 42.84375 \nQ 40.53125 48.484375 33.40625 48.484375 \nQ 26.265625 48.484375 22.1875 42.84375 \nQ 18.109375 37.203125 18.109375 27.296875 \nQ 18.109375 17.390625 22.1875 11.75 \nQ 26.265625 6.109375 33.40625 6.109375 \nQ 40.53125 6.109375 44.609375 11.75 \nQ 48.6875 17.390625 48.6875 27.296875 \nz\nM 18.109375 46.390625 \nQ 20.953125 51.265625 25.265625 53.625 \nQ 29.59375 56 35.59375 56 \nQ 45.5625 56 51.78125 48.09375 \nQ 58.015625 40.1875 58.015625 27.296875 \nQ 58.015625 14.40625 51.78125 6.484375 \nQ 45.5625 -1.421875 35.59375 -1.421875 \nQ 29.59375 -1.421875 25.265625 0.953125 \nQ 20.953125 3.328125 18.109375 8.203125 \nL 18.109375 0 \nL 9.078125 0 \nL 9.078125 75.984375 \nL 18.109375 75.984375 \nz\n\" id=\"DejaVuSans-98\"/>\n      </defs>\n      <g style=\"fill:#262626;\" transform=\"translate(160.148438 217.904687)scale(0.1 -0.1)\">\n       <use xlink:href=\"#DejaVuSans-70\"/>\n       <use x=\"52.019531\" xlink:href=\"#DejaVuSans-101\"/>\n       <use x=\"113.542969\" xlink:href=\"#DejaVuSans-98\"/>\n       <use x=\"177.019531\" xlink:href=\"#DejaVuSans-114\"/>\n       <use x=\"218.132812\" xlink:href=\"#DejaVuSans-117\"/>\n       <use x=\"281.511719\" xlink:href=\"#DejaVuSans-97\"/>\n       <use x=\"342.791016\" xlink:href=\"#DejaVuSans-114\"/>\n       <use x=\"383.904297\" xlink:href=\"#DejaVuSans-121\"/>\n      </g>\n     </g>\n    </g>\n    <g id=\"xtick_4\">\n     <g id=\"text_4\">\n      <!-- October -->\n      <defs>\n       <path d=\"M 39.40625 66.21875 \nQ 28.65625 66.21875 22.328125 58.203125 \nQ 16.015625 50.203125 16.015625 36.375 \nQ 16.015625 22.609375 22.328125 14.59375 \nQ 28.65625 6.59375 39.40625 6.59375 \nQ 50.140625 6.59375 56.421875 14.59375 \nQ 62.703125 22.609375 62.703125 36.375 \nQ 62.703125 50.203125 56.421875 58.203125 \nQ 50.140625 66.21875 39.40625 66.21875 \nz\nM 39.40625 74.21875 \nQ 54.734375 74.21875 63.90625 63.9375 \nQ 73.09375 53.65625 73.09375 36.375 \nQ 73.09375 19.140625 63.90625 8.859375 \nQ 54.734375 -1.421875 39.40625 -1.421875 \nQ 24.03125 -1.421875 14.8125 8.828125 \nQ 5.609375 19.09375 5.609375 36.375 \nQ 5.609375 53.65625 14.8125 63.9375 \nQ 24.03125 74.21875 39.40625 74.21875 \nz\n\" id=\"DejaVuSans-79\"/>\n       <path d=\"M 48.78125 52.59375 \nL 48.78125 44.1875 \nQ 44.96875 46.296875 41.140625 47.34375 \nQ 37.3125 48.390625 33.40625 48.390625 \nQ 24.65625 48.390625 19.8125 42.84375 \nQ 14.984375 37.3125 14.984375 27.296875 \nQ 14.984375 17.28125 19.8125 11.734375 \nQ 24.65625 6.203125 33.40625 6.203125 \nQ 37.3125 6.203125 41.140625 7.25 \nQ 44.96875 8.296875 48.78125 10.40625 \nL 48.78125 2.09375 \nQ 45.015625 0.34375 40.984375 -0.53125 \nQ 36.96875 -1.421875 32.421875 -1.421875 \nQ 20.0625 -1.421875 12.78125 6.34375 \nQ 5.515625 14.109375 5.515625 27.296875 \nQ 5.515625 40.671875 12.859375 48.328125 \nQ 20.21875 56 33.015625 56 \nQ 37.15625 56 41.109375 55.140625 \nQ 45.0625 54.296875 48.78125 52.59375 \nz\n\" id=\"DejaVuSans-99\"/>\n       <path d=\"M 30.609375 48.390625 \nQ 23.390625 48.390625 19.1875 42.75 \nQ 14.984375 37.109375 14.984375 27.296875 \nQ 14.984375 17.484375 19.15625 11.84375 \nQ 23.34375 6.203125 30.609375 6.203125 \nQ 37.796875 6.203125 41.984375 11.859375 \nQ 46.1875 17.53125 46.1875 27.296875 \nQ 46.1875 37.015625 41.984375 42.703125 \nQ 37.796875 48.390625 30.609375 48.390625 \nz\nM 30.609375 56 \nQ 42.328125 56 49.015625 48.375 \nQ 55.71875 40.765625 55.71875 27.296875 \nQ 55.71875 13.875 49.015625 6.21875 \nQ 42.328125 -1.421875 30.609375 -1.421875 \nQ 18.84375 -1.421875 12.171875 6.21875 \nQ 5.515625 13.875 5.515625 27.296875 \nQ 5.515625 40.765625 12.171875 48.375 \nQ 18.84375 56 30.609375 56 \nz\n\" id=\"DejaVuSans-111\"/>\n      </defs>\n      <g style=\"fill:#262626;\" transform=\"translate(208.792188 217.904687)scale(0.1 -0.1)\">\n       <use xlink:href=\"#DejaVuSans-79\"/>\n       <use x=\"78.710938\" xlink:href=\"#DejaVuSans-99\"/>\n       <use x=\"133.691406\" xlink:href=\"#DejaVuSans-116\"/>\n       <use x=\"172.900391\" xlink:href=\"#DejaVuSans-111\"/>\n       <use x=\"234.082031\" xlink:href=\"#DejaVuSans-98\"/>\n       <use x=\"297.558594\" xlink:href=\"#DejaVuSans-101\"/>\n       <use x=\"359.082031\" xlink:href=\"#DejaVuSans-114\"/>\n      </g>\n     </g>\n    </g>\n    <g id=\"xtick_5\">\n     <g id=\"text_5\">\n      <!-- July -->\n      <defs>\n       <path d=\"M 9.421875 75.984375 \nL 18.40625 75.984375 \nL 18.40625 0 \nL 9.421875 0 \nz\n\" id=\"DejaVuSans-108\"/>\n      </defs>\n      <g style=\"fill:#262626;\" transform=\"translate(266.310938 217.904687)scale(0.1 -0.1)\">\n       <use xlink:href=\"#DejaVuSans-74\"/>\n       <use x=\"29.492188\" xlink:href=\"#DejaVuSans-117\"/>\n       <use x=\"92.871094\" xlink:href=\"#DejaVuSans-108\"/>\n       <use x=\"120.654297\" xlink:href=\"#DejaVuSans-121\"/>\n      </g>\n     </g>\n    </g>\n    <g id=\"xtick_6\">\n     <g id=\"text_6\">\n      <!-- June -->\n      <g style=\"fill:#262626;\" transform=\"translate(310.914062 217.904687)scale(0.1 -0.1)\">\n       <use xlink:href=\"#DejaVuSans-74\"/>\n       <use x=\"29.492188\" xlink:href=\"#DejaVuSans-117\"/>\n       <use x=\"92.871094\" xlink:href=\"#DejaVuSans-110\"/>\n       <use x=\"156.25\" xlink:href=\"#DejaVuSans-101\"/>\n      </g>\n     </g>\n    </g>\n    <g id=\"xtick_7\">\n     <g id=\"text_7\">\n      <!-- November -->\n      <defs>\n       <path d=\"M 9.8125 72.90625 \nL 23.09375 72.90625 \nL 55.421875 11.921875 \nL 55.421875 72.90625 \nL 64.984375 72.90625 \nL 64.984375 0 \nL 51.703125 0 \nL 19.390625 60.984375 \nL 19.390625 0 \nL 9.8125 0 \nz\n\" id=\"DejaVuSans-78\"/>\n       <path d=\"M 2.984375 54.6875 \nL 12.5 54.6875 \nL 29.59375 8.796875 \nL 46.6875 54.6875 \nL 56.203125 54.6875 \nL 35.6875 0 \nL 23.484375 0 \nz\n\" id=\"DejaVuSans-118\"/>\n       <path d=\"M 52 44.1875 \nQ 55.375 50.25 60.0625 53.125 \nQ 64.75 56 71.09375 56 \nQ 79.640625 56 84.28125 50.015625 \nQ 88.921875 44.046875 88.921875 33.015625 \nL 88.921875 0 \nL 79.890625 0 \nL 79.890625 32.71875 \nQ 79.890625 40.578125 77.09375 44.375 \nQ 74.3125 48.1875 68.609375 48.1875 \nQ 61.625 48.1875 57.5625 43.546875 \nQ 53.515625 38.921875 53.515625 30.90625 \nL 53.515625 0 \nL 44.484375 0 \nL 44.484375 32.71875 \nQ 44.484375 40.625 41.703125 44.40625 \nQ 38.921875 48.1875 33.109375 48.1875 \nQ 26.21875 48.1875 22.15625 43.53125 \nQ 18.109375 38.875 18.109375 30.90625 \nL 18.109375 0 \nL 9.078125 0 \nL 9.078125 54.6875 \nL 18.109375 54.6875 \nL 18.109375 46.1875 \nQ 21.1875 51.21875 25.484375 53.609375 \nQ 29.78125 56 35.6875 56 \nQ 41.65625 56 45.828125 52.96875 \nQ 50 49.953125 52 44.1875 \nz\n\" id=\"DejaVuSans-109\"/>\n      </defs>\n      <g style=\"fill:#262626;\" transform=\"translate(342.290625 217.904687)scale(0.1 -0.1)\">\n       <use xlink:href=\"#DejaVuSans-78\"/>\n       <use x=\"74.804688\" xlink:href=\"#DejaVuSans-111\"/>\n       <use x=\"135.986328\" xlink:href=\"#DejaVuSans-118\"/>\n       <use x=\"195.166016\" xlink:href=\"#DejaVuSans-101\"/>\n       <use x=\"256.689453\" xlink:href=\"#DejaVuSans-109\"/>\n       <use x=\"354.101562\" xlink:href=\"#DejaVuSans-98\"/>\n       <use x=\"417.578125\" xlink:href=\"#DejaVuSans-101\"/>\n       <use x=\"479.101562\" xlink:href=\"#DejaVuSans-114\"/>\n      </g>\n     </g>\n    </g>\n    <g id=\"xtick_8\">\n     <g id=\"text_8\">\n      <!-- May -->\n      <defs>\n       <path d=\"M 9.8125 72.90625 \nL 24.515625 72.90625 \nL 43.109375 23.296875 \nL 61.8125 72.90625 \nL 76.515625 72.90625 \nL 76.515625 0 \nL 66.890625 0 \nL 66.890625 64.015625 \nL 48.09375 14.015625 \nL 38.1875 14.015625 \nL 19.390625 64.015625 \nL 19.390625 0 \nL 9.8125 0 \nz\n\" id=\"DejaVuSans-77\"/>\n      </defs>\n      <g style=\"fill:#262626;\" transform=\"translate(404.465625 217.904687)scale(0.1 -0.1)\">\n       <use xlink:href=\"#DejaVuSans-77\"/>\n       <use x=\"86.279297\" xlink:href=\"#DejaVuSans-97\"/>\n       <use x=\"147.558594\" xlink:href=\"#DejaVuSans-121\"/>\n      </g>\n     </g>\n    </g>\n    <g id=\"xtick_9\">\n     <g id=\"text_9\">\n      <!-- March -->\n      <defs>\n       <path d=\"M 54.890625 33.015625 \nL 54.890625 0 \nL 45.90625 0 \nL 45.90625 32.71875 \nQ 45.90625 40.484375 42.875 44.328125 \nQ 39.84375 48.1875 33.796875 48.1875 \nQ 26.515625 48.1875 22.3125 43.546875 \nQ 18.109375 38.921875 18.109375 30.90625 \nL 18.109375 0 \nL 9.078125 0 \nL 9.078125 75.984375 \nL 18.109375 75.984375 \nL 18.109375 46.1875 \nQ 21.34375 51.125 25.703125 53.5625 \nQ 30.078125 56 35.796875 56 \nQ 45.21875 56 50.046875 50.171875 \nQ 54.890625 44.34375 54.890625 33.015625 \nz\n\" id=\"DejaVuSans-104\"/>\n      </defs>\n      <g style=\"fill:#262626;\" transform=\"translate(446.064063 217.904687)scale(0.1 -0.1)\">\n       <use xlink:href=\"#DejaVuSans-77\"/>\n       <use x=\"86.279297\" xlink:href=\"#DejaVuSans-97\"/>\n       <use x=\"147.558594\" xlink:href=\"#DejaVuSans-114\"/>\n       <use x=\"186.421875\" xlink:href=\"#DejaVuSans-99\"/>\n       <use x=\"241.402344\" xlink:href=\"#DejaVuSans-104\"/>\n      </g>\n     </g>\n    </g>\n    <g id=\"xtick_10\">\n     <g id=\"text_10\">\n      <!-- April -->\n      <defs>\n       <path d=\"M 18.109375 8.203125 \nL 18.109375 -20.796875 \nL 9.078125 -20.796875 \nL 9.078125 54.6875 \nL 18.109375 54.6875 \nL 18.109375 46.390625 \nQ 20.953125 51.265625 25.265625 53.625 \nQ 29.59375 56 35.59375 56 \nQ 45.5625 56 51.78125 48.09375 \nQ 58.015625 40.1875 58.015625 27.296875 \nQ 58.015625 14.40625 51.78125 6.484375 \nQ 45.5625 -1.421875 35.59375 -1.421875 \nQ 29.59375 -1.421875 25.265625 0.953125 \nQ 20.953125 3.328125 18.109375 8.203125 \nz\nM 48.6875 27.296875 \nQ 48.6875 37.203125 44.609375 42.84375 \nQ 40.53125 48.484375 33.40625 48.484375 \nQ 26.265625 48.484375 22.1875 42.84375 \nQ 18.109375 37.203125 18.109375 27.296875 \nQ 18.109375 17.390625 22.1875 11.75 \nQ 26.265625 6.109375 33.40625 6.109375 \nQ 40.53125 6.109375 44.609375 11.75 \nQ 48.6875 17.390625 48.6875 27.296875 \nz\n\" id=\"DejaVuSans-112\"/>\n       <path d=\"M 9.421875 54.6875 \nL 18.40625 54.6875 \nL 18.40625 0 \nL 9.421875 0 \nz\nM 9.421875 75.984375 \nL 18.40625 75.984375 \nL 18.40625 64.59375 \nL 9.421875 64.59375 \nz\n\" id=\"DejaVuSans-105\"/>\n      </defs>\n      <g style=\"fill:#262626;\" transform=\"translate(496.375 217.904687)scale(0.1 -0.1)\">\n       <use xlink:href=\"#DejaVuSans-65\"/>\n       <use x=\"68.408203\" xlink:href=\"#DejaVuSans-112\"/>\n       <use x=\"131.884766\" xlink:href=\"#DejaVuSans-114\"/>\n       <use x=\"172.998047\" xlink:href=\"#DejaVuSans-105\"/>\n       <use x=\"200.78125\" xlink:href=\"#DejaVuSans-108\"/>\n      </g>\n     </g>\n    </g>\n    <g id=\"xtick_11\">\n     <g id=\"text_11\">\n      <!-- September -->\n      <defs>\n       <path d=\"M 53.515625 70.515625 \nL 53.515625 60.890625 \nQ 47.90625 63.578125 42.921875 64.890625 \nQ 37.9375 66.21875 33.296875 66.21875 \nQ 25.25 66.21875 20.875 63.09375 \nQ 16.5 59.96875 16.5 54.203125 \nQ 16.5 49.359375 19.40625 46.890625 \nQ 22.3125 44.4375 30.421875 42.921875 \nL 36.375 41.703125 \nQ 47.40625 39.59375 52.65625 34.296875 \nQ 57.90625 29 57.90625 20.125 \nQ 57.90625 9.515625 50.796875 4.046875 \nQ 43.703125 -1.421875 29.984375 -1.421875 \nQ 24.8125 -1.421875 18.96875 -0.25 \nQ 13.140625 0.921875 6.890625 3.21875 \nL 6.890625 13.375 \nQ 12.890625 10.015625 18.65625 8.296875 \nQ 24.421875 6.59375 29.984375 6.59375 \nQ 38.421875 6.59375 43.015625 9.90625 \nQ 47.609375 13.234375 47.609375 19.390625 \nQ 47.609375 24.75 44.3125 27.78125 \nQ 41.015625 30.8125 33.5 32.328125 \nL 27.484375 33.5 \nQ 16.453125 35.6875 11.515625 40.375 \nQ 6.59375 45.0625 6.59375 53.421875 \nQ 6.59375 63.09375 13.40625 68.65625 \nQ 20.21875 74.21875 32.171875 74.21875 \nQ 37.3125 74.21875 42.625 73.28125 \nQ 47.953125 72.359375 53.515625 70.515625 \nz\n\" id=\"DejaVuSans-83\"/>\n      </defs>\n      <g style=\"fill:#262626;\" transform=\"translate(526.664844 217.904687)scale(0.1 -0.1)\">\n       <use xlink:href=\"#DejaVuSans-83\"/>\n       <use x=\"63.476562\" xlink:href=\"#DejaVuSans-101\"/>\n       <use x=\"125\" xlink:href=\"#DejaVuSans-112\"/>\n       <use x=\"188.476562\" xlink:href=\"#DejaVuSans-116\"/>\n       <use x=\"227.685547\" xlink:href=\"#DejaVuSans-101\"/>\n       <use x=\"289.208984\" xlink:href=\"#DejaVuSans-109\"/>\n       <use x=\"386.621094\" xlink:href=\"#DejaVuSans-98\"/>\n       <use x=\"450.097656\" xlink:href=\"#DejaVuSans-101\"/>\n       <use x=\"511.621094\" xlink:href=\"#DejaVuSans-114\"/>\n      </g>\n     </g>\n    </g>\n    <g id=\"xtick_12\">\n     <g id=\"text_12\">\n      <!-- December -->\n      <defs>\n       <path d=\"M 19.671875 64.796875 \nL 19.671875 8.109375 \nL 31.59375 8.109375 \nQ 46.6875 8.109375 53.6875 14.9375 \nQ 60.6875 21.78125 60.6875 36.53125 \nQ 60.6875 51.171875 53.6875 57.984375 \nQ 46.6875 64.796875 31.59375 64.796875 \nz\nM 9.8125 72.90625 \nL 30.078125 72.90625 \nQ 51.265625 72.90625 61.171875 64.09375 \nQ 71.09375 55.28125 71.09375 36.53125 \nQ 71.09375 17.671875 61.125 8.828125 \nQ 51.171875 0 30.078125 0 \nL 9.8125 0 \nz\n\" id=\"DejaVuSans-68\"/>\n      </defs>\n      <g style=\"fill:#262626;\" transform=\"translate(574.874219 217.904687)scale(0.1 -0.1)\">\n       <use xlink:href=\"#DejaVuSans-68\"/>\n       <use x=\"77.001953\" xlink:href=\"#DejaVuSans-101\"/>\n       <use x=\"138.525391\" xlink:href=\"#DejaVuSans-99\"/>\n       <use x=\"193.505859\" xlink:href=\"#DejaVuSans-101\"/>\n       <use x=\"255.029297\" xlink:href=\"#DejaVuSans-109\"/>\n       <use x=\"352.441406\" xlink:href=\"#DejaVuSans-98\"/>\n       <use x=\"415.917969\" xlink:href=\"#DejaVuSans-101\"/>\n       <use x=\"477.441406\" xlink:href=\"#DejaVuSans-114\"/>\n      </g>\n     </g>\n    </g>\n    <g id=\"text_13\">\n     <!-- appointment_month -->\n     <defs>\n      <path d=\"M 50.984375 -16.609375 \nL 50.984375 -23.578125 \nL -0.984375 -23.578125 \nL -0.984375 -16.609375 \nz\n\" id=\"DejaVuSans-95\"/>\n     </defs>\n     <g style=\"fill:#262626;\" transform=\"translate(294.260156 231.582812)scale(0.1 -0.1)\">\n      <use xlink:href=\"#DejaVuSans-97\"/>\n      <use x=\"61.279297\" xlink:href=\"#DejaVuSans-112\"/>\n      <use x=\"124.755859\" xlink:href=\"#DejaVuSans-112\"/>\n      <use x=\"188.232422\" xlink:href=\"#DejaVuSans-111\"/>\n      <use x=\"249.414062\" xlink:href=\"#DejaVuSans-105\"/>\n      <use x=\"277.197266\" xlink:href=\"#DejaVuSans-110\"/>\n      <use x=\"340.576172\" xlink:href=\"#DejaVuSans-116\"/>\n      <use x=\"379.785156\" xlink:href=\"#DejaVuSans-109\"/>\n      <use x=\"477.197266\" xlink:href=\"#DejaVuSans-101\"/>\n      <use x=\"538.720703\" xlink:href=\"#DejaVuSans-110\"/>\n      <use x=\"602.099609\" xlink:href=\"#DejaVuSans-116\"/>\n      <use x=\"641.308594\" xlink:href=\"#DejaVuSans-95\"/>\n      <use x=\"691.308594\" xlink:href=\"#DejaVuSans-109\"/>\n      <use x=\"788.720703\" xlink:href=\"#DejaVuSans-111\"/>\n      <use x=\"849.902344\" xlink:href=\"#DejaVuSans-110\"/>\n      <use x=\"913.28125\" xlink:href=\"#DejaVuSans-116\"/>\n      <use x=\"952.490234\" xlink:href=\"#DejaVuSans-104\"/>\n     </g>\n    </g>\n   </g>\n   <g id=\"matplotlib.axis_2\">\n    <g id=\"ytick_1\">\n     <g id=\"line2d_1\">\n      <path clip-path=\"url(#pc67959a979)\" d=\"M 66.053125 203.30625 \nL 624.053125 203.30625 \n\" style=\"fill:none;stroke:#cccccc;stroke-linecap:round;stroke-width:0.8;\"/>\n     </g>\n     <g id=\"text_14\">\n      <!-- 0 -->\n      <defs>\n       <path d=\"M 31.78125 66.40625 \nQ 24.171875 66.40625 20.328125 58.90625 \nQ 16.5 51.421875 16.5 36.375 \nQ 16.5 21.390625 20.328125 13.890625 \nQ 24.171875 6.390625 31.78125 6.390625 \nQ 39.453125 6.390625 43.28125 13.890625 \nQ 47.125 21.390625 47.125 36.375 \nQ 47.125 51.421875 43.28125 58.90625 \nQ 39.453125 66.40625 31.78125 66.40625 \nz\nM 31.78125 74.21875 \nQ 44.046875 74.21875 50.515625 64.515625 \nQ 56.984375 54.828125 56.984375 36.375 \nQ 56.984375 17.96875 50.515625 8.265625 \nQ 44.046875 -1.421875 31.78125 -1.421875 \nQ 19.53125 -1.421875 13.0625 8.265625 \nQ 6.59375 17.96875 6.59375 36.375 \nQ 6.59375 54.828125 13.0625 64.515625 \nQ 19.53125 74.21875 31.78125 74.21875 \nz\n\" id=\"DejaVuSans-48\"/>\n      </defs>\n      <g style=\"fill:#262626;\" transform=\"translate(52.690625 207.105469)scale(0.1 -0.1)\">\n       <use xlink:href=\"#DejaVuSans-48\"/>\n      </g>\n     </g>\n    </g>\n    <g id=\"ytick_2\">\n     <g id=\"line2d_2\">\n      <path clip-path=\"url(#pc67959a979)\" d=\"M 66.053125 171.007346 \nL 624.053125 171.007346 \n\" style=\"fill:none;stroke:#cccccc;stroke-linecap:round;stroke-width:0.8;\"/>\n     </g>\n     <g id=\"text_15\">\n      <!-- 20000 -->\n      <defs>\n       <path d=\"M 19.1875 8.296875 \nL 53.609375 8.296875 \nL 53.609375 0 \nL 7.328125 0 \nL 7.328125 8.296875 \nQ 12.9375 14.109375 22.625 23.890625 \nQ 32.328125 33.6875 34.8125 36.53125 \nQ 39.546875 41.84375 41.421875 45.53125 \nQ 43.3125 49.21875 43.3125 52.78125 \nQ 43.3125 58.59375 39.234375 62.25 \nQ 35.15625 65.921875 28.609375 65.921875 \nQ 23.96875 65.921875 18.8125 64.3125 \nQ 13.671875 62.703125 7.8125 59.421875 \nL 7.8125 69.390625 \nQ 13.765625 71.78125 18.9375 73 \nQ 24.125 74.21875 28.421875 74.21875 \nQ 39.75 74.21875 46.484375 68.546875 \nQ 53.21875 62.890625 53.21875 53.421875 \nQ 53.21875 48.921875 51.53125 44.890625 \nQ 49.859375 40.875 45.40625 35.40625 \nQ 44.1875 33.984375 37.640625 27.21875 \nQ 31.109375 20.453125 19.1875 8.296875 \nz\n\" id=\"DejaVuSans-50\"/>\n      </defs>\n      <g style=\"fill:#262626;\" transform=\"translate(27.240625 174.806565)scale(0.1 -0.1)\">\n       <use xlink:href=\"#DejaVuSans-50\"/>\n       <use x=\"63.623047\" xlink:href=\"#DejaVuSans-48\"/>\n       <use x=\"127.246094\" xlink:href=\"#DejaVuSans-48\"/>\n       <use x=\"190.869141\" xlink:href=\"#DejaVuSans-48\"/>\n       <use x=\"254.492188\" xlink:href=\"#DejaVuSans-48\"/>\n      </g>\n     </g>\n    </g>\n    <g id=\"ytick_3\">\n     <g id=\"line2d_3\">\n      <path clip-path=\"url(#pc67959a979)\" d=\"M 66.053125 138.708442 \nL 624.053125 138.708442 \n\" style=\"fill:none;stroke:#cccccc;stroke-linecap:round;stroke-width:0.8;\"/>\n     </g>\n     <g id=\"text_16\">\n      <!-- 40000 -->\n      <defs>\n       <path d=\"M 37.796875 64.3125 \nL 12.890625 25.390625 \nL 37.796875 25.390625 \nz\nM 35.203125 72.90625 \nL 47.609375 72.90625 \nL 47.609375 25.390625 \nL 58.015625 25.390625 \nL 58.015625 17.1875 \nL 47.609375 17.1875 \nL 47.609375 0 \nL 37.796875 0 \nL 37.796875 17.1875 \nL 4.890625 17.1875 \nL 4.890625 26.703125 \nz\n\" id=\"DejaVuSans-52\"/>\n      </defs>\n      <g style=\"fill:#262626;\" transform=\"translate(27.240625 142.507661)scale(0.1 -0.1)\">\n       <use xlink:href=\"#DejaVuSans-52\"/>\n       <use x=\"63.623047\" xlink:href=\"#DejaVuSans-48\"/>\n       <use x=\"127.246094\" xlink:href=\"#DejaVuSans-48\"/>\n       <use x=\"190.869141\" xlink:href=\"#DejaVuSans-48\"/>\n       <use x=\"254.492188\" xlink:href=\"#DejaVuSans-48\"/>\n      </g>\n     </g>\n    </g>\n    <g id=\"ytick_4\">\n     <g id=\"line2d_4\">\n      <path clip-path=\"url(#pc67959a979)\" d=\"M 66.053125 106.409538 \nL 624.053125 106.409538 \n\" style=\"fill:none;stroke:#cccccc;stroke-linecap:round;stroke-width:0.8;\"/>\n     </g>\n     <g id=\"text_17\">\n      <!-- 60000 -->\n      <defs>\n       <path d=\"M 33.015625 40.375 \nQ 26.375 40.375 22.484375 35.828125 \nQ 18.609375 31.296875 18.609375 23.390625 \nQ 18.609375 15.53125 22.484375 10.953125 \nQ 26.375 6.390625 33.015625 6.390625 \nQ 39.65625 6.390625 43.53125 10.953125 \nQ 47.40625 15.53125 47.40625 23.390625 \nQ 47.40625 31.296875 43.53125 35.828125 \nQ 39.65625 40.375 33.015625 40.375 \nz\nM 52.59375 71.296875 \nL 52.59375 62.3125 \nQ 48.875 64.0625 45.09375 64.984375 \nQ 41.3125 65.921875 37.59375 65.921875 \nQ 27.828125 65.921875 22.671875 59.328125 \nQ 17.53125 52.734375 16.796875 39.40625 \nQ 19.671875 43.65625 24.015625 45.921875 \nQ 28.375 48.1875 33.59375 48.1875 \nQ 44.578125 48.1875 50.953125 41.515625 \nQ 57.328125 34.859375 57.328125 23.390625 \nQ 57.328125 12.15625 50.6875 5.359375 \nQ 44.046875 -1.421875 33.015625 -1.421875 \nQ 20.359375 -1.421875 13.671875 8.265625 \nQ 6.984375 17.96875 6.984375 36.375 \nQ 6.984375 53.65625 15.1875 63.9375 \nQ 23.390625 74.21875 37.203125 74.21875 \nQ 40.921875 74.21875 44.703125 73.484375 \nQ 48.484375 72.75 52.59375 71.296875 \nz\n\" id=\"DejaVuSans-54\"/>\n      </defs>\n      <g style=\"fill:#262626;\" transform=\"translate(27.240625 110.208757)scale(0.1 -0.1)\">\n       <use xlink:href=\"#DejaVuSans-54\"/>\n       <use x=\"63.623047\" xlink:href=\"#DejaVuSans-48\"/>\n       <use x=\"127.246094\" xlink:href=\"#DejaVuSans-48\"/>\n       <use x=\"190.869141\" xlink:href=\"#DejaVuSans-48\"/>\n       <use x=\"254.492188\" xlink:href=\"#DejaVuSans-48\"/>\n      </g>\n     </g>\n    </g>\n    <g id=\"ytick_5\">\n     <g id=\"line2d_5\">\n      <path clip-path=\"url(#pc67959a979)\" d=\"M 66.053125 74.110634 \nL 624.053125 74.110634 \n\" style=\"fill:none;stroke:#cccccc;stroke-linecap:round;stroke-width:0.8;\"/>\n     </g>\n     <g id=\"text_18\">\n      <!-- 80000 -->\n      <defs>\n       <path d=\"M 31.78125 34.625 \nQ 24.75 34.625 20.71875 30.859375 \nQ 16.703125 27.09375 16.703125 20.515625 \nQ 16.703125 13.921875 20.71875 10.15625 \nQ 24.75 6.390625 31.78125 6.390625 \nQ 38.8125 6.390625 42.859375 10.171875 \nQ 46.921875 13.96875 46.921875 20.515625 \nQ 46.921875 27.09375 42.890625 30.859375 \nQ 38.875 34.625 31.78125 34.625 \nz\nM 21.921875 38.8125 \nQ 15.578125 40.375 12.03125 44.71875 \nQ 8.5 49.078125 8.5 55.328125 \nQ 8.5 64.0625 14.71875 69.140625 \nQ 20.953125 74.21875 31.78125 74.21875 \nQ 42.671875 74.21875 48.875 69.140625 \nQ 55.078125 64.0625 55.078125 55.328125 \nQ 55.078125 49.078125 51.53125 44.71875 \nQ 48 40.375 41.703125 38.8125 \nQ 48.828125 37.15625 52.796875 32.3125 \nQ 56.78125 27.484375 56.78125 20.515625 \nQ 56.78125 9.90625 50.3125 4.234375 \nQ 43.84375 -1.421875 31.78125 -1.421875 \nQ 19.734375 -1.421875 13.25 4.234375 \nQ 6.78125 9.90625 6.78125 20.515625 \nQ 6.78125 27.484375 10.78125 32.3125 \nQ 14.796875 37.15625 21.921875 38.8125 \nz\nM 18.3125 54.390625 \nQ 18.3125 48.734375 21.84375 45.5625 \nQ 25.390625 42.390625 31.78125 42.390625 \nQ 38.140625 42.390625 41.71875 45.5625 \nQ 45.3125 48.734375 45.3125 54.390625 \nQ 45.3125 60.0625 41.71875 63.234375 \nQ 38.140625 66.40625 31.78125 66.40625 \nQ 25.390625 66.40625 21.84375 63.234375 \nQ 18.3125 60.0625 18.3125 54.390625 \nz\n\" id=\"DejaVuSans-56\"/>\n      </defs>\n      <g style=\"fill:#262626;\" transform=\"translate(27.240625 77.909853)scale(0.1 -0.1)\">\n       <use xlink:href=\"#DejaVuSans-56\"/>\n       <use x=\"63.623047\" xlink:href=\"#DejaVuSans-48\"/>\n       <use x=\"127.246094\" xlink:href=\"#DejaVuSans-48\"/>\n       <use x=\"190.869141\" xlink:href=\"#DejaVuSans-48\"/>\n       <use x=\"254.492188\" xlink:href=\"#DejaVuSans-48\"/>\n      </g>\n     </g>\n    </g>\n    <g id=\"ytick_6\">\n     <g id=\"line2d_6\">\n      <path clip-path=\"url(#pc67959a979)\" d=\"M 66.053125 41.811731 \nL 624.053125 41.811731 \n\" style=\"fill:none;stroke:#cccccc;stroke-linecap:round;stroke-width:0.8;\"/>\n     </g>\n     <g id=\"text_19\">\n      <!-- 100000 -->\n      <defs>\n       <path d=\"M 12.40625 8.296875 \nL 28.515625 8.296875 \nL 28.515625 63.921875 \nL 10.984375 60.40625 \nL 10.984375 69.390625 \nL 28.421875 72.90625 \nL 38.28125 72.90625 \nL 38.28125 8.296875 \nL 54.390625 8.296875 \nL 54.390625 0 \nL 12.40625 0 \nz\n\" id=\"DejaVuSans-49\"/>\n      </defs>\n      <g style=\"fill:#262626;\" transform=\"translate(20.878125 45.610949)scale(0.1 -0.1)\">\n       <use xlink:href=\"#DejaVuSans-49\"/>\n       <use x=\"63.623047\" xlink:href=\"#DejaVuSans-48\"/>\n       <use x=\"127.246094\" xlink:href=\"#DejaVuSans-48\"/>\n       <use x=\"190.869141\" xlink:href=\"#DejaVuSans-48\"/>\n       <use x=\"254.492188\" xlink:href=\"#DejaVuSans-48\"/>\n       <use x=\"318.115234\" xlink:href=\"#DejaVuSans-48\"/>\n      </g>\n     </g>\n    </g>\n    <g id=\"text_20\">\n     <!-- count -->\n     <g style=\"fill:#262626;\" transform=\"translate(14.798438 126.8125)rotate(-90)scale(0.1 -0.1)\">\n      <use xlink:href=\"#DejaVuSans-99\"/>\n      <use x=\"54.980469\" xlink:href=\"#DejaVuSans-111\"/>\n      <use x=\"116.162109\" xlink:href=\"#DejaVuSans-117\"/>\n      <use x=\"179.541016\" xlink:href=\"#DejaVuSans-110\"/>\n      <use x=\"242.919922\" xlink:href=\"#DejaVuSans-116\"/>\n     </g>\n    </g>\n   </g>\n   <g id=\"patch_3\">\n    <path clip-path=\"url(#pc67959a979)\" d=\"M 70.703125 203.30625 \nL 107.903125 203.30625 \nL 107.903125 166.453201 \nL 70.703125 166.453201 \nz\n\" style=\"fill:#ea96a3;stroke:#ffffff;stroke-linejoin:miter;\"/>\n   </g>\n   <g id=\"patch_4\">\n    <path clip-path=\"url(#pc67959a979)\" d=\"M 117.203125 203.30625 \nL 154.403125 203.30625 \nL 154.403125 161.31606 \nL 117.203125 161.31606 \nz\n\" style=\"fill:#e19153;stroke:#ffffff;stroke-linejoin:miter;\"/>\n   </g>\n   <g id=\"patch_5\">\n    <path clip-path=\"url(#pc67959a979)\" d=\"M 163.703125 203.30625 \nL 200.903125 203.30625 \nL 200.903125 166.76973 \nL 163.703125 166.76973 \nz\n\" style=\"fill:#b89c49;stroke:#ffffff;stroke-linejoin:miter;\"/>\n   </g>\n   <g id=\"patch_6\">\n    <path clip-path=\"url(#pc67959a979)\" d=\"M 210.203125 203.30625 \nL 247.403125 203.30625 \nL 247.403125 159.751178 \nL 210.203125 159.751178 \nz\n\" style=\"fill:#98a246;stroke:#ffffff;stroke-linejoin:miter;\"/>\n   </g>\n   <g id=\"patch_7\">\n    <path clip-path=\"url(#pc67959a979)\" d=\"M 256.703125 203.30625 \nL 293.903125 203.30625 \nL 293.903125 158.998614 \nL 256.703125 158.998614 \nz\n\" style=\"fill:#60ae47;stroke:#ffffff;stroke-linejoin:miter;\"/>\n   </g>\n   <g id=\"patch_8\">\n    <path clip-path=\"url(#pc67959a979)\" d=\"M 303.203125 203.30625 \nL 340.403125 203.30625 \nL 340.403125 119.288726 \nL 303.203125 119.288726 \nz\n\" style=\"fill:#4aae8a;stroke:#ffffff;stroke-linejoin:miter;\"/>\n   </g>\n   <g id=\"patch_9\">\n    <path clip-path=\"url(#pc67959a979)\" d=\"M 349.703125 203.30625 \nL 386.903125 203.30625 \nL 386.903125 162.364159 \nL 349.703125 162.364159 \nz\n\" style=\"fill:#4baba4;stroke:#ffffff;stroke-linejoin:miter;\"/>\n   </g>\n   <g id=\"patch_10\">\n    <path clip-path=\"url(#pc67959a979)\" d=\"M 396.203125 203.30625 \nL 433.403125 203.30625 \nL 433.403125 30.734821 \nL 396.203125 30.734821 \nz\n\" style=\"fill:#4fabbc;stroke:#ffffff;stroke-linejoin:miter;\"/>\n   </g>\n   <g id=\"patch_11\">\n    <path clip-path=\"url(#pc67959a979)\" d=\"M 442.703125 203.30625 \nL 479.903125 203.30625 \nL 479.903125 163.488161 \nL 442.703125 163.488161 \nz\n\" style=\"fill:#6daee2;stroke:#ffffff;stroke-linejoin:miter;\"/>\n   </g>\n   <g id=\"patch_12\">\n    <path clip-path=\"url(#pc67959a979)\" d=\"M 489.203125 203.30625 \nL 526.403125 203.30625 \nL 526.403125 159.570304 \nL 489.203125 159.570304 \nz\n\" style=\"fill:#b6a8eb;stroke:#ffffff;stroke-linejoin:miter;\"/>\n   </g>\n   <g id=\"patch_13\">\n    <path clip-path=\"url(#pc67959a979)\" d=\"M 535.703125 203.30625 \nL 572.903125 203.30625 \nL 572.903125 161.60675 \nL 535.703125 161.60675 \nz\n\" style=\"fill:#df8fe7;stroke:#ffffff;stroke-linejoin:miter;\"/>\n   </g>\n   <g id=\"patch_14\">\n    <path clip-path=\"url(#pc67959a979)\" d=\"M 582.203125 203.30625 \nL 619.403125 203.30625 \nL 619.403125 166.745506 \nL 582.203125 166.745506 \nz\n\" style=\"fill:#e890c6;stroke:#ffffff;stroke-linejoin:miter;\"/>\n   </g>\n   <g id=\"patch_15\">\n    <path d=\"M 66.053125 203.30625 \nL 66.053125 22.10625 \n\" style=\"fill:none;stroke:#cccccc;stroke-linecap:square;stroke-linejoin:miter;stroke-width:0.8;\"/>\n   </g>\n   <g id=\"patch_16\">\n    <path d=\"M 624.053125 203.30625 \nL 624.053125 22.10625 \n\" style=\"fill:none;stroke:#cccccc;stroke-linecap:square;stroke-linejoin:miter;stroke-width:0.8;\"/>\n   </g>\n   <g id=\"patch_17\">\n    <path d=\"M 66.053125 203.30625 \nL 624.053125 203.30625 \n\" style=\"fill:none;stroke:#cccccc;stroke-linecap:square;stroke-linejoin:miter;stroke-width:0.8;\"/>\n   </g>\n   <g id=\"patch_18\">\n    <path d=\"M 66.053125 22.10625 \nL 624.053125 22.10625 \n\" style=\"fill:none;stroke:#cccccc;stroke-linecap:square;stroke-linejoin:miter;stroke-width:0.8;\"/>\n   </g>\n   <g id=\"text_21\">\n    <!-- APPOINTMENT_MONTH -->\n    <defs>\n     <path d=\"M 19.671875 64.796875 \nL 19.671875 37.40625 \nL 32.078125 37.40625 \nQ 38.96875 37.40625 42.71875 40.96875 \nQ 46.484375 44.53125 46.484375 51.125 \nQ 46.484375 57.671875 42.71875 61.234375 \nQ 38.96875 64.796875 32.078125 64.796875 \nz\nM 9.8125 72.90625 \nL 32.078125 72.90625 \nQ 44.34375 72.90625 50.609375 67.359375 \nQ 56.890625 61.8125 56.890625 51.125 \nQ 56.890625 40.328125 50.609375 34.8125 \nQ 44.34375 29.296875 32.078125 29.296875 \nL 19.671875 29.296875 \nL 19.671875 0 \nL 9.8125 0 \nz\n\" id=\"DejaVuSans-80\"/>\n     <path d=\"M 9.8125 72.90625 \nL 19.671875 72.90625 \nL 19.671875 0 \nL 9.8125 0 \nz\n\" id=\"DejaVuSans-73\"/>\n     <path d=\"M -0.296875 72.90625 \nL 61.375 72.90625 \nL 61.375 64.59375 \nL 35.5 64.59375 \nL 35.5 0 \nL 25.59375 0 \nL 25.59375 64.59375 \nL -0.296875 64.59375 \nz\n\" id=\"DejaVuSans-84\"/>\n     <path d=\"M 9.8125 72.90625 \nL 55.90625 72.90625 \nL 55.90625 64.59375 \nL 19.671875 64.59375 \nL 19.671875 43.015625 \nL 54.390625 43.015625 \nL 54.390625 34.71875 \nL 19.671875 34.71875 \nL 19.671875 8.296875 \nL 56.78125 8.296875 \nL 56.78125 0 \nL 9.8125 0 \nz\n\" id=\"DejaVuSans-69\"/>\n     <path d=\"M 9.8125 72.90625 \nL 19.671875 72.90625 \nL 19.671875 43.015625 \nL 55.515625 43.015625 \nL 55.515625 72.90625 \nL 65.375 72.90625 \nL 65.375 0 \nL 55.515625 0 \nL 55.515625 34.71875 \nL 19.671875 34.71875 \nL 19.671875 0 \nL 9.8125 0 \nz\n\" id=\"DejaVuSans-72\"/>\n    </defs>\n    <g style=\"fill:#262626;\" transform=\"translate(276.379375 16.10625)scale(0.12 -0.12)\">\n     <use xlink:href=\"#DejaVuSans-65\"/>\n     <use x=\"68.408203\" xlink:href=\"#DejaVuSans-80\"/>\n     <use x=\"128.710938\" xlink:href=\"#DejaVuSans-80\"/>\n     <use x=\"189.013672\" xlink:href=\"#DejaVuSans-79\"/>\n     <use x=\"267.724609\" xlink:href=\"#DejaVuSans-73\"/>\n     <use x=\"297.216797\" xlink:href=\"#DejaVuSans-78\"/>\n     <use x=\"372.021484\" xlink:href=\"#DejaVuSans-84\"/>\n     <use x=\"433.105469\" xlink:href=\"#DejaVuSans-77\"/>\n     <use x=\"519.384766\" xlink:href=\"#DejaVuSans-69\"/>\n     <use x=\"582.568359\" xlink:href=\"#DejaVuSans-78\"/>\n     <use x=\"657.373047\" xlink:href=\"#DejaVuSans-84\"/>\n     <use x=\"718.457031\" xlink:href=\"#DejaVuSans-95\"/>\n     <use x=\"768.457031\" xlink:href=\"#DejaVuSans-77\"/>\n     <use x=\"854.736328\" xlink:href=\"#DejaVuSans-79\"/>\n     <use x=\"933.447266\" xlink:href=\"#DejaVuSans-78\"/>\n     <use x=\"1008.251953\" xlink:href=\"#DejaVuSans-84\"/>\n     <use x=\"1069.335938\" xlink:href=\"#DejaVuSans-72\"/>\n    </g>\n   </g>\n  </g>\n  <g id=\"axes_2\">\n   <g id=\"patch_19\">\n    <path d=\"M 66.053125 438.86625 \nL 624.053125 438.86625 \nL 624.053125 257.66625 \nL 66.053125 257.66625 \nz\n\" style=\"fill:#ffffff;\"/>\n   </g>\n   <g id=\"matplotlib.axis_3\">\n    <g id=\"xtick_13\">\n     <g id=\"text_22\">\n      <!-- 6 -->\n      <g style=\"fill:#262626;\" transform=\"translate(78.371875 453.464688)scale(0.1 -0.1)\">\n       <use xlink:href=\"#DejaVuSans-54\"/>\n      </g>\n     </g>\n    </g>\n    <g id=\"xtick_14\">\n     <g id=\"text_23\">\n      <!-- 7 -->\n      <defs>\n       <path d=\"M 8.203125 72.90625 \nL 55.078125 72.90625 \nL 55.078125 68.703125 \nL 28.609375 0 \nL 18.3125 0 \nL 43.21875 64.59375 \nL 8.203125 64.59375 \nz\n\" id=\"DejaVuSans-55\"/>\n      </defs>\n      <g style=\"fill:#262626;\" transform=\"translate(109.371875 453.464688)scale(0.1 -0.1)\">\n       <use xlink:href=\"#DejaVuSans-55\"/>\n      </g>\n     </g>\n    </g>\n    <g id=\"xtick_15\">\n     <g id=\"text_24\">\n      <!-- 8 -->\n      <g style=\"fill:#262626;\" transform=\"translate(140.371875 453.464688)scale(0.1 -0.1)\">\n       <use xlink:href=\"#DejaVuSans-56\"/>\n      </g>\n     </g>\n    </g>\n    <g id=\"xtick_16\">\n     <g id=\"text_25\">\n      <!-- 9 -->\n      <defs>\n       <path d=\"M 10.984375 1.515625 \nL 10.984375 10.5 \nQ 14.703125 8.734375 18.5 7.8125 \nQ 22.3125 6.890625 25.984375 6.890625 \nQ 35.75 6.890625 40.890625 13.453125 \nQ 46.046875 20.015625 46.78125 33.40625 \nQ 43.953125 29.203125 39.59375 26.953125 \nQ 35.25 24.703125 29.984375 24.703125 \nQ 19.046875 24.703125 12.671875 31.3125 \nQ 6.296875 37.9375 6.296875 49.421875 \nQ 6.296875 60.640625 12.9375 67.421875 \nQ 19.578125 74.21875 30.609375 74.21875 \nQ 43.265625 74.21875 49.921875 64.515625 \nQ 56.59375 54.828125 56.59375 36.375 \nQ 56.59375 19.140625 48.40625 8.859375 \nQ 40.234375 -1.421875 26.421875 -1.421875 \nQ 22.703125 -1.421875 18.890625 -0.6875 \nQ 15.09375 0.046875 10.984375 1.515625 \nz\nM 30.609375 32.421875 \nQ 37.25 32.421875 41.125 36.953125 \nQ 45.015625 41.5 45.015625 49.421875 \nQ 45.015625 57.28125 41.125 61.84375 \nQ 37.25 66.40625 30.609375 66.40625 \nQ 23.96875 66.40625 20.09375 61.84375 \nQ 16.21875 57.28125 16.21875 49.421875 \nQ 16.21875 41.5 20.09375 36.953125 \nQ 23.96875 32.421875 30.609375 32.421875 \nz\n\" id=\"DejaVuSans-57\"/>\n      </defs>\n      <g style=\"fill:#262626;\" transform=\"translate(171.371875 453.464688)scale(0.1 -0.1)\">\n       <use xlink:href=\"#DejaVuSans-57\"/>\n      </g>\n     </g>\n    </g>\n    <g id=\"xtick_17\">\n     <g id=\"text_26\">\n      <!-- 10 -->\n      <g style=\"fill:#262626;\" transform=\"translate(199.190625 453.464688)scale(0.1 -0.1)\">\n       <use xlink:href=\"#DejaVuSans-49\"/>\n       <use x=\"63.623047\" xlink:href=\"#DejaVuSans-48\"/>\n      </g>\n     </g>\n    </g>\n    <g id=\"xtick_18\">\n     <g id=\"text_27\">\n      <!-- 11 -->\n      <g style=\"fill:#262626;\" transform=\"translate(230.190625 453.464688)scale(0.1 -0.1)\">\n       <use xlink:href=\"#DejaVuSans-49\"/>\n       <use x=\"63.623047\" xlink:href=\"#DejaVuSans-49\"/>\n      </g>\n     </g>\n    </g>\n    <g id=\"xtick_19\">\n     <g id=\"text_28\">\n      <!-- 12 -->\n      <g style=\"fill:#262626;\" transform=\"translate(261.190625 453.464688)scale(0.1 -0.1)\">\n       <use xlink:href=\"#DejaVuSans-49\"/>\n       <use x=\"63.623047\" xlink:href=\"#DejaVuSans-50\"/>\n      </g>\n     </g>\n    </g>\n    <g id=\"xtick_20\">\n     <g id=\"text_29\">\n      <!-- 13 -->\n      <defs>\n       <path d=\"M 40.578125 39.3125 \nQ 47.65625 37.796875 51.625 33 \nQ 55.609375 28.21875 55.609375 21.1875 \nQ 55.609375 10.40625 48.1875 4.484375 \nQ 40.765625 -1.421875 27.09375 -1.421875 \nQ 22.515625 -1.421875 17.65625 -0.515625 \nQ 12.796875 0.390625 7.625 2.203125 \nL 7.625 11.71875 \nQ 11.71875 9.328125 16.59375 8.109375 \nQ 21.484375 6.890625 26.8125 6.890625 \nQ 36.078125 6.890625 40.9375 10.546875 \nQ 45.796875 14.203125 45.796875 21.1875 \nQ 45.796875 27.640625 41.28125 31.265625 \nQ 36.765625 34.90625 28.71875 34.90625 \nL 20.21875 34.90625 \nL 20.21875 43.015625 \nL 29.109375 43.015625 \nQ 36.375 43.015625 40.234375 45.921875 \nQ 44.09375 48.828125 44.09375 54.296875 \nQ 44.09375 59.90625 40.109375 62.90625 \nQ 36.140625 65.921875 28.71875 65.921875 \nQ 24.65625 65.921875 20.015625 65.03125 \nQ 15.375 64.15625 9.8125 62.3125 \nL 9.8125 71.09375 \nQ 15.4375 72.65625 20.34375 73.4375 \nQ 25.25 74.21875 29.59375 74.21875 \nQ 40.828125 74.21875 47.359375 69.109375 \nQ 53.90625 64.015625 53.90625 55.328125 \nQ 53.90625 49.265625 50.4375 45.09375 \nQ 46.96875 40.921875 40.578125 39.3125 \nz\n\" id=\"DejaVuSans-51\"/>\n      </defs>\n      <g style=\"fill:#262626;\" transform=\"translate(292.190625 453.464688)scale(0.1 -0.1)\">\n       <use xlink:href=\"#DejaVuSans-49\"/>\n       <use x=\"63.623047\" xlink:href=\"#DejaVuSans-51\"/>\n      </g>\n     </g>\n    </g>\n    <g id=\"xtick_21\">\n     <g id=\"text_30\">\n      <!-- 14 -->\n      <g style=\"fill:#262626;\" transform=\"translate(323.190625 453.464688)scale(0.1 -0.1)\">\n       <use xlink:href=\"#DejaVuSans-49\"/>\n       <use x=\"63.623047\" xlink:href=\"#DejaVuSans-52\"/>\n      </g>\n     </g>\n    </g>\n    <g id=\"xtick_22\">\n     <g id=\"text_31\">\n      <!-- 15 -->\n      <defs>\n       <path d=\"M 10.796875 72.90625 \nL 49.515625 72.90625 \nL 49.515625 64.59375 \nL 19.828125 64.59375 \nL 19.828125 46.734375 \nQ 21.96875 47.46875 24.109375 47.828125 \nQ 26.265625 48.1875 28.421875 48.1875 \nQ 40.625 48.1875 47.75 41.5 \nQ 54.890625 34.8125 54.890625 23.390625 \nQ 54.890625 11.625 47.5625 5.09375 \nQ 40.234375 -1.421875 26.90625 -1.421875 \nQ 22.3125 -1.421875 17.546875 -0.640625 \nQ 12.796875 0.140625 7.71875 1.703125 \nL 7.71875 11.625 \nQ 12.109375 9.234375 16.796875 8.0625 \nQ 21.484375 6.890625 26.703125 6.890625 \nQ 35.15625 6.890625 40.078125 11.328125 \nQ 45.015625 15.765625 45.015625 23.390625 \nQ 45.015625 31 40.078125 35.4375 \nQ 35.15625 39.890625 26.703125 39.890625 \nQ 22.75 39.890625 18.8125 39.015625 \nQ 14.890625 38.140625 10.796875 36.28125 \nz\n\" id=\"DejaVuSans-53\"/>\n      </defs>\n      <g style=\"fill:#262626;\" transform=\"translate(354.190625 453.464688)scale(0.1 -0.1)\">\n       <use xlink:href=\"#DejaVuSans-49\"/>\n       <use x=\"63.623047\" xlink:href=\"#DejaVuSans-53\"/>\n      </g>\n     </g>\n    </g>\n    <g id=\"xtick_23\">\n     <g id=\"text_32\">\n      <!-- 16 -->\n      <g style=\"fill:#262626;\" transform=\"translate(385.190625 453.464688)scale(0.1 -0.1)\">\n       <use xlink:href=\"#DejaVuSans-49\"/>\n       <use x=\"63.623047\" xlink:href=\"#DejaVuSans-54\"/>\n      </g>\n     </g>\n    </g>\n    <g id=\"xtick_24\">\n     <g id=\"text_33\">\n      <!-- 17 -->\n      <g style=\"fill:#262626;\" transform=\"translate(416.190625 453.464688)scale(0.1 -0.1)\">\n       <use xlink:href=\"#DejaVuSans-49\"/>\n       <use x=\"63.623047\" xlink:href=\"#DejaVuSans-55\"/>\n      </g>\n     </g>\n    </g>\n    <g id=\"xtick_25\">\n     <g id=\"text_34\">\n      <!-- 18 -->\n      <g style=\"fill:#262626;\" transform=\"translate(447.190625 453.464688)scale(0.1 -0.1)\">\n       <use xlink:href=\"#DejaVuSans-49\"/>\n       <use x=\"63.623047\" xlink:href=\"#DejaVuSans-56\"/>\n      </g>\n     </g>\n    </g>\n    <g id=\"xtick_26\">\n     <g id=\"text_35\">\n      <!-- 19 -->\n      <g style=\"fill:#262626;\" transform=\"translate(478.190625 453.464688)scale(0.1 -0.1)\">\n       <use xlink:href=\"#DejaVuSans-49\"/>\n       <use x=\"63.623047\" xlink:href=\"#DejaVuSans-57\"/>\n      </g>\n     </g>\n    </g>\n    <g id=\"xtick_27\">\n     <g id=\"text_36\">\n      <!-- 20 -->\n      <g style=\"fill:#262626;\" transform=\"translate(509.190625 453.464688)scale(0.1 -0.1)\">\n       <use xlink:href=\"#DejaVuSans-50\"/>\n       <use x=\"63.623047\" xlink:href=\"#DejaVuSans-48\"/>\n      </g>\n     </g>\n    </g>\n    <g id=\"xtick_28\">\n     <g id=\"text_37\">\n      <!-- 21 -->\n      <g style=\"fill:#262626;\" transform=\"translate(540.190625 453.464688)scale(0.1 -0.1)\">\n       <use xlink:href=\"#DejaVuSans-50\"/>\n       <use x=\"63.623047\" xlink:href=\"#DejaVuSans-49\"/>\n      </g>\n     </g>\n    </g>\n    <g id=\"xtick_29\">\n     <g id=\"text_38\">\n      <!-- 22 -->\n      <g style=\"fill:#262626;\" transform=\"translate(571.190625 453.464688)scale(0.1 -0.1)\">\n       <use xlink:href=\"#DejaVuSans-50\"/>\n       <use x=\"63.623047\" xlink:href=\"#DejaVuSans-50\"/>\n      </g>\n     </g>\n    </g>\n    <g id=\"xtick_30\">\n     <g id=\"text_39\">\n      <!-- 23 -->\n      <g style=\"fill:#262626;\" transform=\"translate(602.190625 453.464688)scale(0.1 -0.1)\">\n       <use xlink:href=\"#DejaVuSans-50\"/>\n       <use x=\"63.623047\" xlink:href=\"#DejaVuSans-51\"/>\n      </g>\n     </g>\n    </g>\n    <g id=\"text_40\">\n     <!-- hour_of_day -->\n     <defs>\n      <path d=\"M 37.109375 75.984375 \nL 37.109375 68.5 \nL 28.515625 68.5 \nQ 23.6875 68.5 21.796875 66.546875 \nQ 19.921875 64.59375 19.921875 59.515625 \nL 19.921875 54.6875 \nL 34.71875 54.6875 \nL 34.71875 47.703125 \nL 19.921875 47.703125 \nL 19.921875 0 \nL 10.890625 0 \nL 10.890625 47.703125 \nL 2.296875 47.703125 \nL 2.296875 54.6875 \nL 10.890625 54.6875 \nL 10.890625 58.5 \nQ 10.890625 67.625 15.140625 71.796875 \nQ 19.390625 75.984375 28.609375 75.984375 \nz\n\" id=\"DejaVuSans-102\"/>\n      <path d=\"M 45.40625 46.390625 \nL 45.40625 75.984375 \nL 54.390625 75.984375 \nL 54.390625 0 \nL 45.40625 0 \nL 45.40625 8.203125 \nQ 42.578125 3.328125 38.25 0.953125 \nQ 33.9375 -1.421875 27.875 -1.421875 \nQ 17.96875 -1.421875 11.734375 6.484375 \nQ 5.515625 14.40625 5.515625 27.296875 \nQ 5.515625 40.1875 11.734375 48.09375 \nQ 17.96875 56 27.875 56 \nQ 33.9375 56 38.25 53.625 \nQ 42.578125 51.265625 45.40625 46.390625 \nz\nM 14.796875 27.296875 \nQ 14.796875 17.390625 18.875 11.75 \nQ 22.953125 6.109375 30.078125 6.109375 \nQ 37.203125 6.109375 41.296875 11.75 \nQ 45.40625 17.390625 45.40625 27.296875 \nQ 45.40625 37.203125 41.296875 42.84375 \nQ 37.203125 48.484375 30.078125 48.484375 \nQ 22.953125 48.484375 18.875 42.84375 \nQ 14.796875 37.203125 14.796875 27.296875 \nz\n\" id=\"DejaVuSans-100\"/>\n     </defs>\n     <g style=\"fill:#262626;\" transform=\"translate(314.583594 467.142813)scale(0.1 -0.1)\">\n      <use xlink:href=\"#DejaVuSans-104\"/>\n      <use x=\"63.378906\" xlink:href=\"#DejaVuSans-111\"/>\n      <use x=\"124.560547\" xlink:href=\"#DejaVuSans-117\"/>\n      <use x=\"187.939453\" xlink:href=\"#DejaVuSans-114\"/>\n      <use x=\"229.052734\" xlink:href=\"#DejaVuSans-95\"/>\n      <use x=\"279.052734\" xlink:href=\"#DejaVuSans-111\"/>\n      <use x=\"340.234375\" xlink:href=\"#DejaVuSans-102\"/>\n      <use x=\"375.439453\" xlink:href=\"#DejaVuSans-95\"/>\n      <use x=\"425.439453\" xlink:href=\"#DejaVuSans-100\"/>\n      <use x=\"488.916016\" xlink:href=\"#DejaVuSans-97\"/>\n      <use x=\"550.195312\" xlink:href=\"#DejaVuSans-121\"/>\n     </g>\n    </g>\n   </g>\n   <g id=\"matplotlib.axis_4\">\n    <g id=\"ytick_7\">\n     <g id=\"line2d_7\">\n      <path clip-path=\"url(#p0c50772f04)\" d=\"M 66.053125 438.86625 \nL 624.053125 438.86625 \n\" style=\"fill:none;stroke:#cccccc;stroke-linecap:round;stroke-width:0.8;\"/>\n     </g>\n     <g id=\"text_41\">\n      <!-- 0 -->\n      <g style=\"fill:#262626;\" transform=\"translate(52.690625 442.665469)scale(0.1 -0.1)\">\n       <use xlink:href=\"#DejaVuSans-48\"/>\n      </g>\n     </g>\n    </g>\n    <g id=\"ytick_8\">\n     <g id=\"line2d_8\">\n      <path clip-path=\"url(#p0c50772f04)\" d=\"M 66.053125 407.896735 \nL 624.053125 407.896735 \n\" style=\"fill:none;stroke:#cccccc;stroke-linecap:round;stroke-width:0.8;\"/>\n     </g>\n     <g id=\"text_42\">\n      <!-- 10000 -->\n      <g style=\"fill:#262626;\" transform=\"translate(27.240625 411.695954)scale(0.1 -0.1)\">\n       <use xlink:href=\"#DejaVuSans-49\"/>\n       <use x=\"63.623047\" xlink:href=\"#DejaVuSans-48\"/>\n       <use x=\"127.246094\" xlink:href=\"#DejaVuSans-48\"/>\n       <use x=\"190.869141\" xlink:href=\"#DejaVuSans-48\"/>\n       <use x=\"254.492188\" xlink:href=\"#DejaVuSans-48\"/>\n      </g>\n     </g>\n    </g>\n    <g id=\"ytick_9\">\n     <g id=\"line2d_9\">\n      <path clip-path=\"url(#p0c50772f04)\" d=\"M 66.053125 376.92722 \nL 624.053125 376.92722 \n\" style=\"fill:none;stroke:#cccccc;stroke-linecap:round;stroke-width:0.8;\"/>\n     </g>\n     <g id=\"text_43\">\n      <!-- 20000 -->\n      <g style=\"fill:#262626;\" transform=\"translate(27.240625 380.726439)scale(0.1 -0.1)\">\n       <use xlink:href=\"#DejaVuSans-50\"/>\n       <use x=\"63.623047\" xlink:href=\"#DejaVuSans-48\"/>\n       <use x=\"127.246094\" xlink:href=\"#DejaVuSans-48\"/>\n       <use x=\"190.869141\" xlink:href=\"#DejaVuSans-48\"/>\n       <use x=\"254.492188\" xlink:href=\"#DejaVuSans-48\"/>\n      </g>\n     </g>\n    </g>\n    <g id=\"ytick_10\">\n     <g id=\"line2d_10\">\n      <path clip-path=\"url(#p0c50772f04)\" d=\"M 66.053125 345.957705 \nL 624.053125 345.957705 \n\" style=\"fill:none;stroke:#cccccc;stroke-linecap:round;stroke-width:0.8;\"/>\n     </g>\n     <g id=\"text_44\">\n      <!-- 30000 -->\n      <g style=\"fill:#262626;\" transform=\"translate(27.240625 349.756924)scale(0.1 -0.1)\">\n       <use xlink:href=\"#DejaVuSans-51\"/>\n       <use x=\"63.623047\" xlink:href=\"#DejaVuSans-48\"/>\n       <use x=\"127.246094\" xlink:href=\"#DejaVuSans-48\"/>\n       <use x=\"190.869141\" xlink:href=\"#DejaVuSans-48\"/>\n       <use x=\"254.492188\" xlink:href=\"#DejaVuSans-48\"/>\n      </g>\n     </g>\n    </g>\n    <g id=\"ytick_11\">\n     <g id=\"line2d_11\">\n      <path clip-path=\"url(#p0c50772f04)\" d=\"M 66.053125 314.98819 \nL 624.053125 314.98819 \n\" style=\"fill:none;stroke:#cccccc;stroke-linecap:round;stroke-width:0.8;\"/>\n     </g>\n     <g id=\"text_45\">\n      <!-- 40000 -->\n      <g style=\"fill:#262626;\" transform=\"translate(27.240625 318.787409)scale(0.1 -0.1)\">\n       <use xlink:href=\"#DejaVuSans-52\"/>\n       <use x=\"63.623047\" xlink:href=\"#DejaVuSans-48\"/>\n       <use x=\"127.246094\" xlink:href=\"#DejaVuSans-48\"/>\n       <use x=\"190.869141\" xlink:href=\"#DejaVuSans-48\"/>\n       <use x=\"254.492188\" xlink:href=\"#DejaVuSans-48\"/>\n      </g>\n     </g>\n    </g>\n    <g id=\"ytick_12\">\n     <g id=\"line2d_12\">\n      <path clip-path=\"url(#p0c50772f04)\" d=\"M 66.053125 284.018675 \nL 624.053125 284.018675 \n\" style=\"fill:none;stroke:#cccccc;stroke-linecap:round;stroke-width:0.8;\"/>\n     </g>\n     <g id=\"text_46\">\n      <!-- 50000 -->\n      <g style=\"fill:#262626;\" transform=\"translate(27.240625 287.817894)scale(0.1 -0.1)\">\n       <use xlink:href=\"#DejaVuSans-53\"/>\n       <use x=\"63.623047\" xlink:href=\"#DejaVuSans-48\"/>\n       <use x=\"127.246094\" xlink:href=\"#DejaVuSans-48\"/>\n       <use x=\"190.869141\" xlink:href=\"#DejaVuSans-48\"/>\n       <use x=\"254.492188\" xlink:href=\"#DejaVuSans-48\"/>\n      </g>\n     </g>\n    </g>\n    <g id=\"text_47\">\n     <!-- count -->\n     <g style=\"fill:#262626;\" transform=\"translate(21.160938 362.3725)rotate(-90)scale(0.1 -0.1)\">\n      <use xlink:href=\"#DejaVuSans-99\"/>\n      <use x=\"54.980469\" xlink:href=\"#DejaVuSans-111\"/>\n      <use x=\"116.162109\" xlink:href=\"#DejaVuSans-117\"/>\n      <use x=\"179.541016\" xlink:href=\"#DejaVuSans-110\"/>\n      <use x=\"242.919922\" xlink:href=\"#DejaVuSans-116\"/>\n     </g>\n    </g>\n   </g>\n   <g id=\"patch_20\">\n    <path clip-path=\"url(#p0c50772f04)\" d=\"M 69.153125 438.86625 \nL 93.953125 438.86625 \nL 93.953125 438.65256 \nL 69.153125 438.65256 \nz\n\" style=\"fill:#ea96a3;stroke:#ffffff;stroke-linejoin:miter;\"/>\n   </g>\n   <g id=\"patch_21\">\n    <path clip-path=\"url(#p0c50772f04)\" d=\"M 100.153125 438.86625 \nL 124.953125 438.86625 \nL 124.953125 342.53867 \nL 100.153125 342.53867 \nz\n\" style=\"fill:#e7957e;stroke:#ffffff;stroke-linejoin:miter;\"/>\n   </g>\n   <g id=\"patch_22\">\n    <path clip-path=\"url(#p0c50772f04)\" d=\"M 131.153125 438.86625 \nL 155.953125 438.86625 \nL 155.953125 266.294821 \nL 131.153125 266.294821 \nz\n\" style=\"fill:#d1964d;stroke:#ffffff;stroke-linejoin:miter;\"/>\n   </g>\n   <g id=\"patch_23\">\n    <path clip-path=\"url(#p0c50772f04)\" d=\"M 162.153125 438.86625 \nL 186.953125 438.86625 \nL 186.953125 282.343224 \nL 162.153125 282.343224 \nz\n\" style=\"fill:#b89c49;stroke:#ffffff;stroke-linejoin:miter;\"/>\n   </g>\n   <g id=\"patch_24\">\n    <path clip-path=\"url(#p0c50772f04)\" d=\"M 193.153125 438.86625 \nL 217.953125 438.86625 \nL 217.953125 293.959889 \nL 193.153125 293.959889 \nz\n\" style=\"fill:#a29f46;stroke:#ffffff;stroke-linejoin:miter;\"/>\n   </g>\n   <g id=\"patch_25\">\n    <path clip-path=\"url(#p0c50772f04)\" d=\"M 224.153125 438.86625 \nL 248.953125 438.86625 \nL 248.953125 315.626162 \nL 224.153125 315.626162 \nz\n\" style=\"fill:#8ca646;stroke:#ffffff;stroke-linejoin:miter;\"/>\n   </g>\n   <g id=\"patch_26\">\n    <path clip-path=\"url(#p0c50772f04)\" d=\"M 255.153125 438.86625 \nL 279.953125 438.86625 \nL 279.953125 361.244258 \nL 255.153125 361.244258 \nz\n\" style=\"fill:#60ae47;stroke:#ffffff;stroke-linejoin:miter;\"/>\n   </g>\n   <g id=\"patch_27\">\n    <path clip-path=\"url(#p0c50772f04)\" d=\"M 286.153125 438.86625 \nL 310.953125 438.86625 \nL 310.953125 362.634789 \nL 286.153125 362.634789 \nz\n\" style=\"fill:#49af7c;stroke:#ffffff;stroke-linejoin:miter;\"/>\n   </g>\n   <g id=\"patch_28\">\n    <path clip-path=\"url(#p0c50772f04)\" d=\"M 317.153125 438.86625 \nL 341.953125 438.86625 \nL 341.953125 322.148342 \nL 317.153125 322.148342 \nz\n\" style=\"fill:#4aad95;stroke:#ffffff;stroke-linejoin:miter;\"/>\n   </g>\n   <g id=\"patch_29\">\n    <path clip-path=\"url(#p0c50772f04)\" d=\"M 348.153125 438.86625 \nL 372.953125 438.86625 \nL 372.953125 323.538873 \nL 348.153125 323.538873 \nz\n\" style=\"fill:#4baba4;stroke:#ffffff;stroke-linejoin:miter;\"/>\n   </g>\n   <g id=\"patch_30\">\n    <path clip-path=\"url(#p0c50772f04)\" d=\"M 379.153125 438.86625 \nL 403.953125 438.86625 \nL 403.953125 346.865112 \nL 379.153125 346.865112 \nz\n\" style=\"fill:#4dabb3;stroke:#ffffff;stroke-linejoin:miter;\"/>\n   </g>\n   <g id=\"patch_31\">\n    <path clip-path=\"url(#p0c50772f04)\" d=\"M 410.153125 438.86625 \nL 434.953125 438.86625 \nL 434.953125 384.514751 \nL 410.153125 384.514751 \nz\n\" style=\"fill:#51acc7;stroke:#ffffff;stroke-linejoin:miter;\"/>\n   </g>\n   <g id=\"patch_32\">\n    <path clip-path=\"url(#p0c50772f04)\" d=\"M 441.153125 438.86625 \nL 465.953125 438.86625 \nL 465.953125 412.114783 \nL 441.153125 412.114783 \nz\n\" style=\"fill:#6daee2;stroke:#ffffff;stroke-linejoin:miter;\"/>\n   </g>\n   <g id=\"patch_33\">\n    <path clip-path=\"url(#p0c50772f04)\" d=\"M 472.153125 438.86625 \nL 496.953125 438.86625 \nL 496.953125 426.642582 \nL 472.153125 426.642582 \nz\n\" style=\"fill:#a6acea;stroke:#ffffff;stroke-linejoin:miter;\"/>\n   </g>\n   <g id=\"patch_34\">\n    <path clip-path=\"url(#p0c50772f04)\" d=\"M 503.153125 438.86625 \nL 527.953125 438.86625 \nL 527.953125 433.976164 \nL 503.153125 433.976164 \nz\n\" style=\"fill:#c4a1ea;stroke:#ffffff;stroke-linejoin:miter;\"/>\n   </g>\n   <g id=\"patch_35\">\n    <path clip-path=\"url(#p0c50772f04)\" d=\"M 534.153125 438.86625 \nL 558.953125 438.86625 \nL 558.953125 438.163242 \nL 534.153125 438.163242 \nz\n\" style=\"fill:#df8fe7;stroke:#ffffff;stroke-linejoin:miter;\"/>\n   </g>\n   <g id=\"patch_36\">\n    <path clip-path=\"url(#p0c50772f04)\" d=\"M 565.153125 438.86625 \nL 589.953125 438.86625 \nL 589.953125 438.838377 \nL 565.153125 438.838377 \nz\n\" style=\"fill:#e88ed1;stroke:#ffffff;stroke-linejoin:miter;\"/>\n   </g>\n   <g id=\"patch_37\">\n    <path clip-path=\"url(#p0c50772f04)\" d=\"M 596.153125 438.86625 \nL 620.953125 438.86625 \nL 620.953125 438.863153 \nL 596.153125 438.863153 \nz\n\" style=\"fill:#e992bb;stroke:#ffffff;stroke-linejoin:miter;\"/>\n   </g>\n   <g id=\"patch_38\">\n    <path d=\"M 66.053125 438.86625 \nL 66.053125 257.66625 \n\" style=\"fill:none;stroke:#cccccc;stroke-linecap:square;stroke-linejoin:miter;stroke-width:0.8;\"/>\n   </g>\n   <g id=\"patch_39\">\n    <path d=\"M 624.053125 438.86625 \nL 624.053125 257.66625 \n\" style=\"fill:none;stroke:#cccccc;stroke-linecap:square;stroke-linejoin:miter;stroke-width:0.8;\"/>\n   </g>\n   <g id=\"patch_40\">\n    <path d=\"M 66.053125 438.86625 \nL 624.053125 438.86625 \n\" style=\"fill:none;stroke:#cccccc;stroke-linecap:square;stroke-linejoin:miter;stroke-width:0.8;\"/>\n   </g>\n   <g id=\"patch_41\">\n    <path d=\"M 66.053125 257.66625 \nL 624.053125 257.66625 \n\" style=\"fill:none;stroke:#cccccc;stroke-linecap:square;stroke-linejoin:miter;stroke-width:0.8;\"/>\n   </g>\n   <g id=\"text_48\">\n    <!-- HOUR_OF_DAY -->\n    <defs>\n     <path d=\"M 8.6875 72.90625 \nL 18.609375 72.90625 \nL 18.609375 28.609375 \nQ 18.609375 16.890625 22.84375 11.734375 \nQ 27.09375 6.59375 36.625 6.59375 \nQ 46.09375 6.59375 50.34375 11.734375 \nQ 54.59375 16.890625 54.59375 28.609375 \nL 54.59375 72.90625 \nL 64.5 72.90625 \nL 64.5 27.390625 \nQ 64.5 13.140625 57.4375 5.859375 \nQ 50.390625 -1.421875 36.625 -1.421875 \nQ 22.796875 -1.421875 15.734375 5.859375 \nQ 8.6875 13.140625 8.6875 27.390625 \nz\n\" id=\"DejaVuSans-85\"/>\n     <path d=\"M 44.390625 34.1875 \nQ 47.5625 33.109375 50.5625 29.59375 \nQ 53.5625 26.078125 56.59375 19.921875 \nL 66.609375 0 \nL 56 0 \nL 46.6875 18.703125 \nQ 43.0625 26.03125 39.671875 28.421875 \nQ 36.28125 30.8125 30.421875 30.8125 \nL 19.671875 30.8125 \nL 19.671875 0 \nL 9.8125 0 \nL 9.8125 72.90625 \nL 32.078125 72.90625 \nQ 44.578125 72.90625 50.734375 67.671875 \nQ 56.890625 62.453125 56.890625 51.90625 \nQ 56.890625 45.015625 53.6875 40.46875 \nQ 50.484375 35.9375 44.390625 34.1875 \nz\nM 19.671875 64.796875 \nL 19.671875 38.921875 \nL 32.078125 38.921875 \nQ 39.203125 38.921875 42.84375 42.21875 \nQ 46.484375 45.515625 46.484375 51.90625 \nQ 46.484375 58.296875 42.84375 61.546875 \nQ 39.203125 64.796875 32.078125 64.796875 \nz\n\" id=\"DejaVuSans-82\"/>\n     <path d=\"M -0.203125 72.90625 \nL 10.40625 72.90625 \nL 30.609375 42.921875 \nL 50.6875 72.90625 \nL 61.28125 72.90625 \nL 35.5 34.71875 \nL 35.5 0 \nL 25.59375 0 \nL 25.59375 34.71875 \nz\n\" id=\"DejaVuSans-89\"/>\n    </defs>\n    <g style=\"fill:#262626;\" transform=\"translate(301.264375 251.66625)scale(0.12 -0.12)\">\n     <use xlink:href=\"#DejaVuSans-72\"/>\n     <use x=\"75.195312\" xlink:href=\"#DejaVuSans-79\"/>\n     <use x=\"153.90625\" xlink:href=\"#DejaVuSans-85\"/>\n     <use x=\"227.099609\" xlink:href=\"#DejaVuSans-82\"/>\n     <use x=\"296.582031\" xlink:href=\"#DejaVuSans-95\"/>\n     <use x=\"346.582031\" xlink:href=\"#DejaVuSans-79\"/>\n     <use x=\"425.292969\" xlink:href=\"#DejaVuSans-70\"/>\n     <use x=\"482.8125\" xlink:href=\"#DejaVuSans-95\"/>\n     <use x=\"532.8125\" xlink:href=\"#DejaVuSans-68\"/>\n     <use x=\"608.064453\" xlink:href=\"#DejaVuSans-65\"/>\n     <use x=\"668.722656\" xlink:href=\"#DejaVuSans-89\"/>\n    </g>\n   </g>\n  </g>\n  <g id=\"axes_3\">\n   <g id=\"patch_42\">\n    <path d=\"M 66.053125 674.42625 \nL 624.053125 674.42625 \nL 624.053125 493.22625 \nL 66.053125 493.22625 \nz\n\" style=\"fill:#ffffff;\"/>\n   </g>\n   <g id=\"matplotlib.axis_5\">\n    <g id=\"xtick_31\">\n     <g id=\"text_49\">\n      <!-- Tuesday -->\n      <g style=\"fill:#262626;\" transform=\"translate(92.207813 689.024688)scale(0.1 -0.1)\">\n       <use xlink:href=\"#DejaVuSans-84\"/>\n       <use x=\"45.958984\" xlink:href=\"#DejaVuSans-117\"/>\n       <use x=\"109.337891\" xlink:href=\"#DejaVuSans-101\"/>\n       <use x=\"170.861328\" xlink:href=\"#DejaVuSans-115\"/>\n       <use x=\"222.960938\" xlink:href=\"#DejaVuSans-100\"/>\n       <use x=\"286.4375\" xlink:href=\"#DejaVuSans-97\"/>\n       <use x=\"347.716797\" xlink:href=\"#DejaVuSans-121\"/>\n      </g>\n     </g>\n    </g>\n    <g id=\"xtick_32\">\n     <g id=\"text_50\">\n      <!-- Monday -->\n      <g style=\"fill:#262626;\" transform=\"translate(185.813281 689.024688)scale(0.1 -0.1)\">\n       <use xlink:href=\"#DejaVuSans-77\"/>\n       <use x=\"86.279297\" xlink:href=\"#DejaVuSans-111\"/>\n       <use x=\"147.460938\" xlink:href=\"#DejaVuSans-110\"/>\n       <use x=\"210.839844\" xlink:href=\"#DejaVuSans-100\"/>\n       <use x=\"274.316406\" xlink:href=\"#DejaVuSans-97\"/>\n       <use x=\"335.595703\" xlink:href=\"#DejaVuSans-121\"/>\n      </g>\n     </g>\n    </g>\n    <g id=\"xtick_33\">\n     <g id=\"text_51\">\n      <!-- Wednesday -->\n      <defs>\n       <path d=\"M 3.328125 72.90625 \nL 13.28125 72.90625 \nL 28.609375 11.28125 \nL 43.890625 72.90625 \nL 54.984375 72.90625 \nL 70.3125 11.28125 \nL 85.59375 72.90625 \nL 95.609375 72.90625 \nL 77.296875 0 \nL 64.890625 0 \nL 49.515625 63.28125 \nL 33.984375 0 \nL 21.578125 0 \nz\n\" id=\"DejaVuSans-87\"/>\n      </defs>\n      <g style=\"fill:#262626;\" transform=\"translate(269.604688 689.024688)scale(0.1 -0.1)\">\n       <use xlink:href=\"#DejaVuSans-87\"/>\n       <use x=\"93.001953\" xlink:href=\"#DejaVuSans-101\"/>\n       <use x=\"154.525391\" xlink:href=\"#DejaVuSans-100\"/>\n       <use x=\"218.001953\" xlink:href=\"#DejaVuSans-110\"/>\n       <use x=\"281.380859\" xlink:href=\"#DejaVuSans-101\"/>\n       <use x=\"342.904297\" xlink:href=\"#DejaVuSans-115\"/>\n       <use x=\"395.003906\" xlink:href=\"#DejaVuSans-100\"/>\n       <use x=\"458.480469\" xlink:href=\"#DejaVuSans-97\"/>\n       <use x=\"519.759766\" xlink:href=\"#DejaVuSans-121\"/>\n      </g>\n     </g>\n    </g>\n    <g id=\"xtick_34\">\n     <g id=\"text_52\">\n      <!-- Friday -->\n      <g style=\"fill:#262626;\" transform=\"translate(376.397656 689.024688)scale(0.1 -0.1)\">\n       <use xlink:href=\"#DejaVuSans-70\"/>\n       <use x=\"50.269531\" xlink:href=\"#DejaVuSans-114\"/>\n       <use x=\"91.382812\" xlink:href=\"#DejaVuSans-105\"/>\n       <use x=\"119.166016\" xlink:href=\"#DejaVuSans-100\"/>\n       <use x=\"182.642578\" xlink:href=\"#DejaVuSans-97\"/>\n       <use x=\"243.921875\" xlink:href=\"#DejaVuSans-121\"/>\n      </g>\n     </g>\n    </g>\n    <g id=\"xtick_35\">\n     <g id=\"text_53\">\n      <!-- Thursday -->\n      <g style=\"fill:#262626;\" transform=\"translate(461.303906 689.024688)scale(0.1 -0.1)\">\n       <use xlink:href=\"#DejaVuSans-84\"/>\n       <use x=\"61.083984\" xlink:href=\"#DejaVuSans-104\"/>\n       <use x=\"124.462891\" xlink:href=\"#DejaVuSans-117\"/>\n       <use x=\"187.841797\" xlink:href=\"#DejaVuSans-114\"/>\n       <use x=\"228.955078\" xlink:href=\"#DejaVuSans-115\"/>\n       <use x=\"281.054688\" xlink:href=\"#DejaVuSans-100\"/>\n       <use x=\"344.53125\" xlink:href=\"#DejaVuSans-97\"/>\n       <use x=\"405.810547\" xlink:href=\"#DejaVuSans-121\"/>\n      </g>\n     </g>\n    </g>\n    <g id=\"xtick_36\">\n     <g id=\"text_54\">\n      <!-- Saturday -->\n      <g style=\"fill:#262626;\" transform=\"translate(555.020313 689.024688)scale(0.1 -0.1)\">\n       <use xlink:href=\"#DejaVuSans-83\"/>\n       <use x=\"63.476562\" xlink:href=\"#DejaVuSans-97\"/>\n       <use x=\"124.755859\" xlink:href=\"#DejaVuSans-116\"/>\n       <use x=\"163.964844\" xlink:href=\"#DejaVuSans-117\"/>\n       <use x=\"227.34375\" xlink:href=\"#DejaVuSans-114\"/>\n       <use x=\"266.707031\" xlink:href=\"#DejaVuSans-100\"/>\n       <use x=\"330.183594\" xlink:href=\"#DejaVuSans-97\"/>\n       <use x=\"391.462891\" xlink:href=\"#DejaVuSans-121\"/>\n      </g>\n     </g>\n    </g>\n    <g id=\"text_55\">\n     <!-- week_day -->\n     <defs>\n      <path d=\"M 4.203125 54.6875 \nL 13.1875 54.6875 \nL 24.421875 12.015625 \nL 35.59375 54.6875 \nL 46.1875 54.6875 \nL 57.421875 12.015625 \nL 68.609375 54.6875 \nL 77.59375 54.6875 \nL 63.28125 0 \nL 52.6875 0 \nL 40.921875 44.828125 \nL 29.109375 0 \nL 18.5 0 \nz\n\" id=\"DejaVuSans-119\"/>\n      <path d=\"M 9.078125 75.984375 \nL 18.109375 75.984375 \nL 18.109375 31.109375 \nL 44.921875 54.6875 \nL 56.390625 54.6875 \nL 27.390625 29.109375 \nL 57.625 0 \nL 45.90625 0 \nL 18.109375 26.703125 \nL 18.109375 0 \nL 9.078125 0 \nz\n\" id=\"DejaVuSans-107\"/>\n     </defs>\n     <g style=\"fill:#262626;\" transform=\"translate(320.217969 702.702813)scale(0.1 -0.1)\">\n      <use xlink:href=\"#DejaVuSans-119\"/>\n      <use x=\"81.787109\" xlink:href=\"#DejaVuSans-101\"/>\n      <use x=\"143.310547\" xlink:href=\"#DejaVuSans-101\"/>\n      <use x=\"204.833984\" xlink:href=\"#DejaVuSans-107\"/>\n      <use x=\"262.744141\" xlink:href=\"#DejaVuSans-95\"/>\n      <use x=\"312.744141\" xlink:href=\"#DejaVuSans-100\"/>\n      <use x=\"376.220703\" xlink:href=\"#DejaVuSans-97\"/>\n      <use x=\"437.5\" xlink:href=\"#DejaVuSans-121\"/>\n     </g>\n    </g>\n   </g>\n   <g id=\"matplotlib.axis_6\">\n    <g id=\"ytick_13\">\n     <g id=\"line2d_13\">\n      <path clip-path=\"url(#p5fa96f06a7)\" d=\"M 66.053125 674.42625 \nL 624.053125 674.42625 \n\" style=\"fill:none;stroke:#cccccc;stroke-linecap:round;stroke-width:0.8;\"/>\n     </g>\n     <g id=\"text_56\">\n      <!-- 0 -->\n      <g style=\"fill:#262626;\" transform=\"translate(52.690625 678.225469)scale(0.1 -0.1)\">\n       <use xlink:href=\"#DejaVuSans-48\"/>\n      </g>\n     </g>\n    </g>\n    <g id=\"ytick_14\">\n     <g id=\"line2d_14\">\n      <path clip-path=\"url(#p5fa96f06a7)\" d=\"M 66.053125 636.535937 \nL 624.053125 636.535937 \n\" style=\"fill:none;stroke:#cccccc;stroke-linecap:round;stroke-width:0.8;\"/>\n     </g>\n     <g id=\"text_57\">\n      <!-- 20000 -->\n      <g style=\"fill:#262626;\" transform=\"translate(27.240625 640.335156)scale(0.1 -0.1)\">\n       <use xlink:href=\"#DejaVuSans-50\"/>\n       <use x=\"63.623047\" xlink:href=\"#DejaVuSans-48\"/>\n       <use x=\"127.246094\" xlink:href=\"#DejaVuSans-48\"/>\n       <use x=\"190.869141\" xlink:href=\"#DejaVuSans-48\"/>\n       <use x=\"254.492188\" xlink:href=\"#DejaVuSans-48\"/>\n      </g>\n     </g>\n    </g>\n    <g id=\"ytick_15\">\n     <g id=\"line2d_15\">\n      <path clip-path=\"url(#p5fa96f06a7)\" d=\"M 66.053125 598.645625 \nL 624.053125 598.645625 \n\" style=\"fill:none;stroke:#cccccc;stroke-linecap:round;stroke-width:0.8;\"/>\n     </g>\n     <g id=\"text_58\">\n      <!-- 40000 -->\n      <g style=\"fill:#262626;\" transform=\"translate(27.240625 602.444844)scale(0.1 -0.1)\">\n       <use xlink:href=\"#DejaVuSans-52\"/>\n       <use x=\"63.623047\" xlink:href=\"#DejaVuSans-48\"/>\n       <use x=\"127.246094\" xlink:href=\"#DejaVuSans-48\"/>\n       <use x=\"190.869141\" xlink:href=\"#DejaVuSans-48\"/>\n       <use x=\"254.492188\" xlink:href=\"#DejaVuSans-48\"/>\n      </g>\n     </g>\n    </g>\n    <g id=\"ytick_16\">\n     <g id=\"line2d_16\">\n      <path clip-path=\"url(#p5fa96f06a7)\" d=\"M 66.053125 560.755312 \nL 624.053125 560.755312 \n\" style=\"fill:none;stroke:#cccccc;stroke-linecap:round;stroke-width:0.8;\"/>\n     </g>\n     <g id=\"text_59\">\n      <!-- 60000 -->\n      <g style=\"fill:#262626;\" transform=\"translate(27.240625 564.554531)scale(0.1 -0.1)\">\n       <use xlink:href=\"#DejaVuSans-54\"/>\n       <use x=\"63.623047\" xlink:href=\"#DejaVuSans-48\"/>\n       <use x=\"127.246094\" xlink:href=\"#DejaVuSans-48\"/>\n       <use x=\"190.869141\" xlink:href=\"#DejaVuSans-48\"/>\n       <use x=\"254.492188\" xlink:href=\"#DejaVuSans-48\"/>\n      </g>\n     </g>\n    </g>\n    <g id=\"ytick_17\">\n     <g id=\"line2d_17\">\n      <path clip-path=\"url(#p5fa96f06a7)\" d=\"M 66.053125 522.865 \nL 624.053125 522.865 \n\" style=\"fill:none;stroke:#cccccc;stroke-linecap:round;stroke-width:0.8;\"/>\n     </g>\n     <g id=\"text_60\">\n      <!-- 80000 -->\n      <g style=\"fill:#262626;\" transform=\"translate(27.240625 526.664218)scale(0.1 -0.1)\">\n       <use xlink:href=\"#DejaVuSans-56\"/>\n       <use x=\"63.623047\" xlink:href=\"#DejaVuSans-48\"/>\n       <use x=\"127.246094\" xlink:href=\"#DejaVuSans-48\"/>\n       <use x=\"190.869141\" xlink:href=\"#DejaVuSans-48\"/>\n       <use x=\"254.492188\" xlink:href=\"#DejaVuSans-48\"/>\n      </g>\n     </g>\n    </g>\n    <g id=\"text_61\">\n     <!-- count -->\n     <g style=\"fill:#262626;\" transform=\"translate(21.160938 597.9325)rotate(-90)scale(0.1 -0.1)\">\n      <use xlink:href=\"#DejaVuSans-99\"/>\n      <use x=\"54.980469\" xlink:href=\"#DejaVuSans-111\"/>\n      <use x=\"116.162109\" xlink:href=\"#DejaVuSans-117\"/>\n      <use x=\"179.541016\" xlink:href=\"#DejaVuSans-110\"/>\n      <use x=\"242.919922\" xlink:href=\"#DejaVuSans-116\"/>\n     </g>\n    </g>\n   </g>\n   <g id=\"patch_43\">\n    <path clip-path=\"url(#p5fa96f06a7)\" d=\"M 75.353125 674.42625 \nL 149.753125 674.42625 \nL 149.753125 501.854821 \nL 75.353125 501.854821 \nz\n\" style=\"fill:#3274a1;stroke:#ffffff;stroke-linejoin:miter;\"/>\n   </g>\n   <g id=\"patch_44\">\n    <path clip-path=\"url(#p5fa96f06a7)\" d=\"M 168.353125 674.42625 \nL 242.753125 674.42625 \nL 242.753125 513.676599 \nL 168.353125 513.676599 \nz\n\" style=\"fill:#e1812c;stroke:#ffffff;stroke-linejoin:miter;\"/>\n   </g>\n   <g id=\"patch_45\">\n    <path clip-path=\"url(#p5fa96f06a7)\" d=\"M 261.353125 674.42625 \nL 335.753125 674.42625 \nL 335.753125 513.041936 \nL 261.353125 513.041936 \nz\n\" style=\"fill:#3a923a;stroke:#ffffff;stroke-linejoin:miter;\"/>\n   </g>\n   <g id=\"patch_46\">\n    <path clip-path=\"url(#p5fa96f06a7)\" d=\"M 354.353125 674.42625 \nL 428.753125 674.42625 \nL 428.753125 536.937462 \nL 354.353125 536.937462 \nz\n\" style=\"fill:#c03d3e;stroke:#ffffff;stroke-linejoin:miter;\"/>\n   </g>\n   <g id=\"patch_47\">\n    <path clip-path=\"url(#p5fa96f06a7)\" d=\"M 447.353125 674.42625 \nL 521.753125 674.42625 \nL 521.753125 530.359704 \nL 447.353125 530.359704 \nz\n\" style=\"fill:#9372b2;stroke:#ffffff;stroke-linejoin:miter;\"/>\n   </g>\n   <g id=\"patch_48\">\n    <path clip-path=\"url(#p5fa96f06a7)\" d=\"M 540.353125 674.42625 \nL 614.753125 674.42625 \nL 614.753125 673.395633 \nL 540.353125 673.395633 \nz\n\" style=\"fill:#845b53;stroke:#ffffff;stroke-linejoin:miter;\"/>\n   </g>\n   <g id=\"patch_49\">\n    <path d=\"M 66.053125 674.42625 \nL 66.053125 493.22625 \n\" style=\"fill:none;stroke:#cccccc;stroke-linecap:square;stroke-linejoin:miter;stroke-width:0.8;\"/>\n   </g>\n   <g id=\"patch_50\">\n    <path d=\"M 624.053125 674.42625 \nL 624.053125 493.22625 \n\" style=\"fill:none;stroke:#cccccc;stroke-linecap:square;stroke-linejoin:miter;stroke-width:0.8;\"/>\n   </g>\n   <g id=\"patch_51\">\n    <path d=\"M 66.053125 674.42625 \nL 624.053125 674.42625 \n\" style=\"fill:none;stroke:#cccccc;stroke-linecap:square;stroke-linejoin:miter;stroke-width:0.8;\"/>\n   </g>\n   <g id=\"patch_52\">\n    <path d=\"M 66.053125 493.22625 \nL 624.053125 493.22625 \n\" style=\"fill:none;stroke:#cccccc;stroke-linecap:square;stroke-linejoin:miter;stroke-width:0.8;\"/>\n   </g>\n   <g id=\"text_62\">\n    <!-- WEEK_DAY -->\n    <defs>\n     <path d=\"M 9.8125 72.90625 \nL 19.671875 72.90625 \nL 19.671875 42.09375 \nL 52.390625 72.90625 \nL 65.09375 72.90625 \nL 28.90625 38.921875 \nL 67.671875 0 \nL 54.6875 0 \nL 19.671875 35.109375 \nL 19.671875 0 \nL 9.8125 0 \nz\n\" id=\"DejaVuSans-75\"/>\n    </defs>\n    <g style=\"fill:#262626;\" transform=\"translate(312.784375 487.22625)scale(0.12 -0.12)\">\n     <use xlink:href=\"#DejaVuSans-87\"/>\n     <use x=\"98.876953\" xlink:href=\"#DejaVuSans-69\"/>\n     <use x=\"162.060547\" xlink:href=\"#DejaVuSans-69\"/>\n     <use x=\"225.244141\" xlink:href=\"#DejaVuSans-75\"/>\n     <use x=\"290.820312\" xlink:href=\"#DejaVuSans-95\"/>\n     <use x=\"340.820312\" xlink:href=\"#DejaVuSans-68\"/>\n     <use x=\"416.072266\" xlink:href=\"#DejaVuSans-65\"/>\n     <use x=\"476.730469\" xlink:href=\"#DejaVuSans-89\"/>\n    </g>\n   </g>\n  </g>\n </g>\n <defs>\n  <clipPath id=\"pc67959a979\">\n   <rect height=\"181.2\" width=\"558\" x=\"66.053125\" y=\"22.10625\"/>\n  </clipPath>\n  <clipPath id=\"p0c50772f04\">\n   <rect height=\"181.2\" width=\"558\" x=\"66.053125\" y=\"257.66625\"/>\n  </clipPath>\n  <clipPath id=\"p5fa96f06a7\">\n   <rect height=\"181.2\" width=\"558\" x=\"66.053125\" y=\"493.22625\"/>\n  </clipPath>\n </defs>\n</svg>\n"
          },
          "metadata": {
            "tags": [],
            "needs_background": "light"
          }
        }
      ]
    },
    {
      "cell_type": "markdown",
      "metadata": {
        "id": "H0iZOt14jwDh",
        "colab_type": "text"
      },
      "source": [
        "**Observations:**\n",
        "1. **waiting_time:** it is observed that there are negative waiting_time which is incorrect also there are waiting time beyond 350 days. Need to investigate. \n",
        "2. **appointment_month:** May month seems to have the highest appoint scheduled. \n",
        "3. **hour_of_day:** most of the appointments are between 8 am to 11 am.\n",
        "4. **week_day:** Tuesday has the highest appointments followed by Monday and Wednesday."
      ]
    },
    {
      "cell_type": "code",
      "metadata": {
        "id": "SvhqkAu4YquI",
        "colab_type": "code",
        "outputId": "bd3f70cc-edb9-476f-e6bd-d72660178af9",
        "colab": {
          "base_uri": "https://localhost:8080/",
          "height": 52
        }
      },
      "source": [
        "# removeing records waiting time < 0 and above 100 as there are only few patients \n",
        "df = df[(df.waiting_time >= 0) & (df.waiting_time <= 100)]\n",
        "\n",
        "print('Minimum waiting time is:', df['waiting_time'].min())\n",
        "print('Maximum waiting time is:', df['waiting_time'].max())"
      ],
      "execution_count": 93,
      "outputs": [
        {
          "output_type": "stream",
          "text": [
            "Minimum waiting time is: 0\n",
            "Maximum waiting time is: 100\n"
          ],
          "name": "stdout"
        }
      ]
    },
    {
      "cell_type": "markdown",
      "metadata": {
        "id": "O2-y-IxByzdn",
        "colab_type": "text"
      },
      "source": [
        "Calculating probability of feature with restpect to no-show"
      ]
    },
    {
      "cell_type": "code",
      "metadata": {
        "id": "kJUuJWqEYK_Y",
        "colab_type": "code",
        "colab": {}
      },
      "source": [
        "#Creating a fucntion to calculate probability of feature with respect to no_show\n",
        "def probStatus(dataset, group_by):\n",
        "    df = pd.crosstab(index = dataset[group_by], columns = dataset.no_show).reset_index()\n",
        "    df['probShowUp'] = df['showup'] / (df['showup'] + df['noshow'])\n",
        "    \n",
        "    return df[[group_by, 'probShowUp']]"
      ],
      "execution_count": 0,
      "outputs": []
    },
    {
      "cell_type": "code",
      "metadata": {
        "id": "Dgm0HOjApVMA",
        "colab_type": "code",
        "outputId": "2b0e4fb6-dec7-47ca-9471-06df3d7c48f2",
        "colab": {
          "base_uri": "https://localhost:8080/",
          "height": 1000
        }
      },
      "source": [
        "#checking for the below list of variables\n",
        "col = ['age', 'waiting_time', 'hour_of_day']\n",
        "\n",
        "for ax, var in zip(axes.flatten(), df[col].columns):\n",
        "  lm = sns.lmplot(x = var, y = 'probShowUp', data = probStatus(df, var), fit_reg = True, line_kws={'color': 'red'})\n",
        "  fig = lm.fig\n",
        "  fig.suptitle(f'Probability of {var} with respect to No-Show \\n\\n\\n ', fontsize=12, fontweight=\"bold\")\n",
        "  ax.set_title(var.upper())"
      ],
      "execution_count": 30,
      "outputs": [
        {
          "output_type": "display_data",
          "data": {
            "text/plain": [
              "<Figure size 360x360 with 1 Axes>"
            ],
            "image/svg+xml": "<?xml version=\"1.0\" encoding=\"utf-8\" standalone=\"no\"?>\n<!DOCTYPE svg PUBLIC \"-//W3C//DTD SVG 1.1//EN\"\n  \"http://www.w3.org/Graphics/SVG/1.1/DTD/svg11.dtd\">\n<!-- Created with matplotlib (https://matplotlib.org/) -->\n<svg height=\"355.75625pt\" version=\"1.1\" viewBox=\"0 0 352.49375 355.75625\" width=\"352.49375pt\" xmlns=\"http://www.w3.org/2000/svg\" xmlns:xlink=\"http://www.w3.org/1999/xlink\">\n <defs>\n  <style type=\"text/css\">\n*{stroke-linecap:butt;stroke-linejoin:round;}\n  </style>\n </defs>\n <g id=\"figure_1\">\n  <g id=\"patch_1\">\n   <path d=\"M 0 355.75625 \nL 352.49375 355.75625 \nL 352.49375 0 \nL 0 0 \nz\n\" style=\"fill:none;\"/>\n  </g>\n  <g id=\"axes_1\">\n   <g id=\"patch_2\">\n    <path d=\"M 50.14375 318.2 \nL 345.29375 318.2 \nL 345.29375 10.8 \nL 50.14375 10.8 \nz\n\" style=\"fill:#ffffff;\"/>\n   </g>\n   <g id=\"matplotlib.axis_1\">\n    <g id=\"xtick_1\">\n     <g id=\"line2d_1\">\n      <path clip-path=\"url(#p89d3e4aa27)\" d=\"M 50.14375 318.2 \nL 50.14375 10.8 \n\" style=\"fill:none;stroke:#cccccc;stroke-linecap:round;stroke-width:0.8;\"/>\n     </g>\n     <g id=\"text_1\">\n      <!-- 0 -->\n      <defs>\n       <path d=\"M 31.78125 66.40625 \nQ 24.171875 66.40625 20.328125 58.90625 \nQ 16.5 51.421875 16.5 36.375 \nQ 16.5 21.390625 20.328125 13.890625 \nQ 24.171875 6.390625 31.78125 6.390625 \nQ 39.453125 6.390625 43.28125 13.890625 \nQ 47.125 21.390625 47.125 36.375 \nQ 47.125 51.421875 43.28125 58.90625 \nQ 39.453125 66.40625 31.78125 66.40625 \nz\nM 31.78125 74.21875 \nQ 44.046875 74.21875 50.515625 64.515625 \nQ 56.984375 54.828125 56.984375 36.375 \nQ 56.984375 17.96875 50.515625 8.265625 \nQ 44.046875 -1.421875 31.78125 -1.421875 \nQ 19.53125 -1.421875 13.0625 8.265625 \nQ 6.59375 17.96875 6.59375 36.375 \nQ 6.59375 54.828125 13.0625 64.515625 \nQ 19.53125 74.21875 31.78125 74.21875 \nz\n\" id=\"DejaVuSans-48\"/>\n      </defs>\n      <g style=\"fill:#262626;\" transform=\"translate(46.9625 332.798437)scale(0.1 -0.1)\">\n       <use xlink:href=\"#DejaVuSans-48\"/>\n      </g>\n     </g>\n    </g>\n    <g id=\"xtick_2\">\n     <g id=\"line2d_2\">\n      <path clip-path=\"url(#p89d3e4aa27)\" d=\"M 112.280592 318.2 \nL 112.280592 10.8 \n\" style=\"fill:none;stroke:#cccccc;stroke-linecap:round;stroke-width:0.8;\"/>\n     </g>\n     <g id=\"text_2\">\n      <!-- 20 -->\n      <defs>\n       <path d=\"M 19.1875 8.296875 \nL 53.609375 8.296875 \nL 53.609375 0 \nL 7.328125 0 \nL 7.328125 8.296875 \nQ 12.9375 14.109375 22.625 23.890625 \nQ 32.328125 33.6875 34.8125 36.53125 \nQ 39.546875 41.84375 41.421875 45.53125 \nQ 43.3125 49.21875 43.3125 52.78125 \nQ 43.3125 58.59375 39.234375 62.25 \nQ 35.15625 65.921875 28.609375 65.921875 \nQ 23.96875 65.921875 18.8125 64.3125 \nQ 13.671875 62.703125 7.8125 59.421875 \nL 7.8125 69.390625 \nQ 13.765625 71.78125 18.9375 73 \nQ 24.125 74.21875 28.421875 74.21875 \nQ 39.75 74.21875 46.484375 68.546875 \nQ 53.21875 62.890625 53.21875 53.421875 \nQ 53.21875 48.921875 51.53125 44.890625 \nQ 49.859375 40.875 45.40625 35.40625 \nQ 44.1875 33.984375 37.640625 27.21875 \nQ 31.109375 20.453125 19.1875 8.296875 \nz\n\" id=\"DejaVuSans-50\"/>\n      </defs>\n      <g style=\"fill:#262626;\" transform=\"translate(105.918092 332.798437)scale(0.1 -0.1)\">\n       <use xlink:href=\"#DejaVuSans-50\"/>\n       <use x=\"63.623047\" xlink:href=\"#DejaVuSans-48\"/>\n      </g>\n     </g>\n    </g>\n    <g id=\"xtick_3\">\n     <g id=\"line2d_3\">\n      <path clip-path=\"url(#p89d3e4aa27)\" d=\"M 174.417434 318.2 \nL 174.417434 10.8 \n\" style=\"fill:none;stroke:#cccccc;stroke-linecap:round;stroke-width:0.8;\"/>\n     </g>\n     <g id=\"text_3\">\n      <!-- 40 -->\n      <defs>\n       <path d=\"M 37.796875 64.3125 \nL 12.890625 25.390625 \nL 37.796875 25.390625 \nz\nM 35.203125 72.90625 \nL 47.609375 72.90625 \nL 47.609375 25.390625 \nL 58.015625 25.390625 \nL 58.015625 17.1875 \nL 47.609375 17.1875 \nL 47.609375 0 \nL 37.796875 0 \nL 37.796875 17.1875 \nL 4.890625 17.1875 \nL 4.890625 26.703125 \nz\n\" id=\"DejaVuSans-52\"/>\n      </defs>\n      <g style=\"fill:#262626;\" transform=\"translate(168.054934 332.798437)scale(0.1 -0.1)\">\n       <use xlink:href=\"#DejaVuSans-52\"/>\n       <use x=\"63.623047\" xlink:href=\"#DejaVuSans-48\"/>\n      </g>\n     </g>\n    </g>\n    <g id=\"xtick_4\">\n     <g id=\"line2d_4\">\n      <path clip-path=\"url(#p89d3e4aa27)\" d=\"M 236.554276 318.2 \nL 236.554276 10.8 \n\" style=\"fill:none;stroke:#cccccc;stroke-linecap:round;stroke-width:0.8;\"/>\n     </g>\n     <g id=\"text_4\">\n      <!-- 60 -->\n      <defs>\n       <path d=\"M 33.015625 40.375 \nQ 26.375 40.375 22.484375 35.828125 \nQ 18.609375 31.296875 18.609375 23.390625 \nQ 18.609375 15.53125 22.484375 10.953125 \nQ 26.375 6.390625 33.015625 6.390625 \nQ 39.65625 6.390625 43.53125 10.953125 \nQ 47.40625 15.53125 47.40625 23.390625 \nQ 47.40625 31.296875 43.53125 35.828125 \nQ 39.65625 40.375 33.015625 40.375 \nz\nM 52.59375 71.296875 \nL 52.59375 62.3125 \nQ 48.875 64.0625 45.09375 64.984375 \nQ 41.3125 65.921875 37.59375 65.921875 \nQ 27.828125 65.921875 22.671875 59.328125 \nQ 17.53125 52.734375 16.796875 39.40625 \nQ 19.671875 43.65625 24.015625 45.921875 \nQ 28.375 48.1875 33.59375 48.1875 \nQ 44.578125 48.1875 50.953125 41.515625 \nQ 57.328125 34.859375 57.328125 23.390625 \nQ 57.328125 12.15625 50.6875 5.359375 \nQ 44.046875 -1.421875 33.015625 -1.421875 \nQ 20.359375 -1.421875 13.671875 8.265625 \nQ 6.984375 17.96875 6.984375 36.375 \nQ 6.984375 53.65625 15.1875 63.9375 \nQ 23.390625 74.21875 37.203125 74.21875 \nQ 40.921875 74.21875 44.703125 73.484375 \nQ 48.484375 72.75 52.59375 71.296875 \nz\n\" id=\"DejaVuSans-54\"/>\n      </defs>\n      <g style=\"fill:#262626;\" transform=\"translate(230.191776 332.798437)scale(0.1 -0.1)\">\n       <use xlink:href=\"#DejaVuSans-54\"/>\n       <use x=\"63.623047\" xlink:href=\"#DejaVuSans-48\"/>\n      </g>\n     </g>\n    </g>\n    <g id=\"xtick_5\">\n     <g id=\"line2d_5\">\n      <path clip-path=\"url(#p89d3e4aa27)\" d=\"M 298.691118 318.2 \nL 298.691118 10.8 \n\" style=\"fill:none;stroke:#cccccc;stroke-linecap:round;stroke-width:0.8;\"/>\n     </g>\n     <g id=\"text_5\">\n      <!-- 80 -->\n      <defs>\n       <path d=\"M 31.78125 34.625 \nQ 24.75 34.625 20.71875 30.859375 \nQ 16.703125 27.09375 16.703125 20.515625 \nQ 16.703125 13.921875 20.71875 10.15625 \nQ 24.75 6.390625 31.78125 6.390625 \nQ 38.8125 6.390625 42.859375 10.171875 \nQ 46.921875 13.96875 46.921875 20.515625 \nQ 46.921875 27.09375 42.890625 30.859375 \nQ 38.875 34.625 31.78125 34.625 \nz\nM 21.921875 38.8125 \nQ 15.578125 40.375 12.03125 44.71875 \nQ 8.5 49.078125 8.5 55.328125 \nQ 8.5 64.0625 14.71875 69.140625 \nQ 20.953125 74.21875 31.78125 74.21875 \nQ 42.671875 74.21875 48.875 69.140625 \nQ 55.078125 64.0625 55.078125 55.328125 \nQ 55.078125 49.078125 51.53125 44.71875 \nQ 48 40.375 41.703125 38.8125 \nQ 48.828125 37.15625 52.796875 32.3125 \nQ 56.78125 27.484375 56.78125 20.515625 \nQ 56.78125 9.90625 50.3125 4.234375 \nQ 43.84375 -1.421875 31.78125 -1.421875 \nQ 19.734375 -1.421875 13.25 4.234375 \nQ 6.78125 9.90625 6.78125 20.515625 \nQ 6.78125 27.484375 10.78125 32.3125 \nQ 14.796875 37.15625 21.921875 38.8125 \nz\nM 18.3125 54.390625 \nQ 18.3125 48.734375 21.84375 45.5625 \nQ 25.390625 42.390625 31.78125 42.390625 \nQ 38.140625 42.390625 41.71875 45.5625 \nQ 45.3125 48.734375 45.3125 54.390625 \nQ 45.3125 60.0625 41.71875 63.234375 \nQ 38.140625 66.40625 31.78125 66.40625 \nQ 25.390625 66.40625 21.84375 63.234375 \nQ 18.3125 60.0625 18.3125 54.390625 \nz\n\" id=\"DejaVuSans-56\"/>\n      </defs>\n      <g style=\"fill:#262626;\" transform=\"translate(292.328618 332.798437)scale(0.1 -0.1)\">\n       <use xlink:href=\"#DejaVuSans-56\"/>\n       <use x=\"63.623047\" xlink:href=\"#DejaVuSans-48\"/>\n      </g>\n     </g>\n    </g>\n    <g id=\"text_6\">\n     <!-- age -->\n     <defs>\n      <path d=\"M 34.28125 27.484375 \nQ 23.390625 27.484375 19.1875 25 \nQ 14.984375 22.515625 14.984375 16.5 \nQ 14.984375 11.71875 18.140625 8.90625 \nQ 21.296875 6.109375 26.703125 6.109375 \nQ 34.1875 6.109375 38.703125 11.40625 \nQ 43.21875 16.703125 43.21875 25.484375 \nL 43.21875 27.484375 \nz\nM 52.203125 31.203125 \nL 52.203125 0 \nL 43.21875 0 \nL 43.21875 8.296875 \nQ 40.140625 3.328125 35.546875 0.953125 \nQ 30.953125 -1.421875 24.3125 -1.421875 \nQ 15.921875 -1.421875 10.953125 3.296875 \nQ 6 8.015625 6 15.921875 \nQ 6 25.140625 12.171875 29.828125 \nQ 18.359375 34.515625 30.609375 34.515625 \nL 43.21875 34.515625 \nL 43.21875 35.40625 \nQ 43.21875 41.609375 39.140625 45 \nQ 35.0625 48.390625 27.6875 48.390625 \nQ 23 48.390625 18.546875 47.265625 \nQ 14.109375 46.140625 10.015625 43.890625 \nL 10.015625 52.203125 \nQ 14.9375 54.109375 19.578125 55.046875 \nQ 24.21875 56 28.609375 56 \nQ 40.484375 56 46.34375 49.84375 \nQ 52.203125 43.703125 52.203125 31.203125 \nz\n\" id=\"DejaVuSans-97\"/>\n      <path d=\"M 45.40625 27.984375 \nQ 45.40625 37.75 41.375 43.109375 \nQ 37.359375 48.484375 30.078125 48.484375 \nQ 22.859375 48.484375 18.828125 43.109375 \nQ 14.796875 37.75 14.796875 27.984375 \nQ 14.796875 18.265625 18.828125 12.890625 \nQ 22.859375 7.515625 30.078125 7.515625 \nQ 37.359375 7.515625 41.375 12.890625 \nQ 45.40625 18.265625 45.40625 27.984375 \nz\nM 54.390625 6.78125 \nQ 54.390625 -7.171875 48.1875 -13.984375 \nQ 42 -20.796875 29.203125 -20.796875 \nQ 24.46875 -20.796875 20.265625 -20.09375 \nQ 16.0625 -19.390625 12.109375 -17.921875 \nL 12.109375 -9.1875 \nQ 16.0625 -11.328125 19.921875 -12.34375 \nQ 23.78125 -13.375 27.78125 -13.375 \nQ 36.625 -13.375 41.015625 -8.765625 \nQ 45.40625 -4.15625 45.40625 5.171875 \nL 45.40625 9.625 \nQ 42.625 4.78125 38.28125 2.390625 \nQ 33.9375 0 27.875 0 \nQ 17.828125 0 11.671875 7.65625 \nQ 5.515625 15.328125 5.515625 27.984375 \nQ 5.515625 40.671875 11.671875 48.328125 \nQ 17.828125 56 27.875 56 \nQ 33.9375 56 38.28125 53.609375 \nQ 42.625 51.21875 45.40625 46.390625 \nL 45.40625 54.6875 \nL 54.390625 54.6875 \nz\n\" id=\"DejaVuSans-103\"/>\n      <path d=\"M 56.203125 29.59375 \nL 56.203125 25.203125 \nL 14.890625 25.203125 \nQ 15.484375 15.921875 20.484375 11.0625 \nQ 25.484375 6.203125 34.421875 6.203125 \nQ 39.59375 6.203125 44.453125 7.46875 \nQ 49.3125 8.734375 54.109375 11.28125 \nL 54.109375 2.78125 \nQ 49.265625 0.734375 44.1875 -0.34375 \nQ 39.109375 -1.421875 33.890625 -1.421875 \nQ 20.796875 -1.421875 13.15625 6.1875 \nQ 5.515625 13.8125 5.515625 26.8125 \nQ 5.515625 40.234375 12.765625 48.109375 \nQ 20.015625 56 32.328125 56 \nQ 43.359375 56 49.78125 48.890625 \nQ 56.203125 41.796875 56.203125 29.59375 \nz\nM 47.21875 32.234375 \nQ 47.125 39.59375 43.09375 43.984375 \nQ 39.0625 48.390625 32.421875 48.390625 \nQ 24.90625 48.390625 20.390625 44.140625 \nQ 15.875 39.890625 15.1875 32.171875 \nz\n\" id=\"DejaVuSans-101\"/>\n     </defs>\n     <g style=\"fill:#262626;\" transform=\"translate(188.403906 346.476562)scale(0.1 -0.1)\">\n      <use xlink:href=\"#DejaVuSans-97\"/>\n      <use x=\"61.279297\" xlink:href=\"#DejaVuSans-103\"/>\n      <use x=\"124.755859\" xlink:href=\"#DejaVuSans-101\"/>\n     </g>\n    </g>\n   </g>\n   <g id=\"matplotlib.axis_2\">\n    <g id=\"ytick_1\">\n     <g id=\"line2d_6\">\n      <path clip-path=\"url(#p89d3e4aa27)\" d=\"M 50.14375 299.391867 \nL 345.29375 299.391867 \n\" style=\"fill:none;stroke:#cccccc;stroke-linecap:round;stroke-width:0.8;\"/>\n     </g>\n     <g id=\"text_7\">\n      <!-- 0.20 -->\n      <defs>\n       <path d=\"M 10.6875 12.40625 \nL 21 12.40625 \nL 21 0 \nL 10.6875 0 \nz\n\" id=\"DejaVuSans-46\"/>\n      </defs>\n      <g style=\"fill:#262626;\" transform=\"translate(20.878125 303.191086)scale(0.1 -0.1)\">\n       <use xlink:href=\"#DejaVuSans-48\"/>\n       <use x=\"63.623047\" xlink:href=\"#DejaVuSans-46\"/>\n       <use x=\"95.410156\" xlink:href=\"#DejaVuSans-50\"/>\n       <use x=\"159.033203\" xlink:href=\"#DejaVuSans-48\"/>\n      </g>\n     </g>\n    </g>\n    <g id=\"ytick_2\">\n     <g id=\"line2d_7\">\n      <path clip-path=\"url(#p89d3e4aa27)\" d=\"M 50.14375 255.873218 \nL 345.29375 255.873218 \n\" style=\"fill:none;stroke:#cccccc;stroke-linecap:round;stroke-width:0.8;\"/>\n     </g>\n     <g id=\"text_8\">\n      <!-- 0.25 -->\n      <defs>\n       <path d=\"M 10.796875 72.90625 \nL 49.515625 72.90625 \nL 49.515625 64.59375 \nL 19.828125 64.59375 \nL 19.828125 46.734375 \nQ 21.96875 47.46875 24.109375 47.828125 \nQ 26.265625 48.1875 28.421875 48.1875 \nQ 40.625 48.1875 47.75 41.5 \nQ 54.890625 34.8125 54.890625 23.390625 \nQ 54.890625 11.625 47.5625 5.09375 \nQ 40.234375 -1.421875 26.90625 -1.421875 \nQ 22.3125 -1.421875 17.546875 -0.640625 \nQ 12.796875 0.140625 7.71875 1.703125 \nL 7.71875 11.625 \nQ 12.109375 9.234375 16.796875 8.0625 \nQ 21.484375 6.890625 26.703125 6.890625 \nQ 35.15625 6.890625 40.078125 11.328125 \nQ 45.015625 15.765625 45.015625 23.390625 \nQ 45.015625 31 40.078125 35.4375 \nQ 35.15625 39.890625 26.703125 39.890625 \nQ 22.75 39.890625 18.8125 39.015625 \nQ 14.890625 38.140625 10.796875 36.28125 \nz\n\" id=\"DejaVuSans-53\"/>\n      </defs>\n      <g style=\"fill:#262626;\" transform=\"translate(20.878125 259.672437)scale(0.1 -0.1)\">\n       <use xlink:href=\"#DejaVuSans-48\"/>\n       <use x=\"63.623047\" xlink:href=\"#DejaVuSans-46\"/>\n       <use x=\"95.410156\" xlink:href=\"#DejaVuSans-50\"/>\n       <use x=\"159.033203\" xlink:href=\"#DejaVuSans-53\"/>\n      </g>\n     </g>\n    </g>\n    <g id=\"ytick_3\">\n     <g id=\"line2d_8\">\n      <path clip-path=\"url(#p89d3e4aa27)\" d=\"M 50.14375 212.354568 \nL 345.29375 212.354568 \n\" style=\"fill:none;stroke:#cccccc;stroke-linecap:round;stroke-width:0.8;\"/>\n     </g>\n     <g id=\"text_9\">\n      <!-- 0.30 -->\n      <defs>\n       <path d=\"M 40.578125 39.3125 \nQ 47.65625 37.796875 51.625 33 \nQ 55.609375 28.21875 55.609375 21.1875 \nQ 55.609375 10.40625 48.1875 4.484375 \nQ 40.765625 -1.421875 27.09375 -1.421875 \nQ 22.515625 -1.421875 17.65625 -0.515625 \nQ 12.796875 0.390625 7.625 2.203125 \nL 7.625 11.71875 \nQ 11.71875 9.328125 16.59375 8.109375 \nQ 21.484375 6.890625 26.8125 6.890625 \nQ 36.078125 6.890625 40.9375 10.546875 \nQ 45.796875 14.203125 45.796875 21.1875 \nQ 45.796875 27.640625 41.28125 31.265625 \nQ 36.765625 34.90625 28.71875 34.90625 \nL 20.21875 34.90625 \nL 20.21875 43.015625 \nL 29.109375 43.015625 \nQ 36.375 43.015625 40.234375 45.921875 \nQ 44.09375 48.828125 44.09375 54.296875 \nQ 44.09375 59.90625 40.109375 62.90625 \nQ 36.140625 65.921875 28.71875 65.921875 \nQ 24.65625 65.921875 20.015625 65.03125 \nQ 15.375 64.15625 9.8125 62.3125 \nL 9.8125 71.09375 \nQ 15.4375 72.65625 20.34375 73.4375 \nQ 25.25 74.21875 29.59375 74.21875 \nQ 40.828125 74.21875 47.359375 69.109375 \nQ 53.90625 64.015625 53.90625 55.328125 \nQ 53.90625 49.265625 50.4375 45.09375 \nQ 46.96875 40.921875 40.578125 39.3125 \nz\n\" id=\"DejaVuSans-51\"/>\n      </defs>\n      <g style=\"fill:#262626;\" transform=\"translate(20.878125 216.153787)scale(0.1 -0.1)\">\n       <use xlink:href=\"#DejaVuSans-48\"/>\n       <use x=\"63.623047\" xlink:href=\"#DejaVuSans-46\"/>\n       <use x=\"95.410156\" xlink:href=\"#DejaVuSans-51\"/>\n       <use x=\"159.033203\" xlink:href=\"#DejaVuSans-48\"/>\n      </g>\n     </g>\n    </g>\n    <g id=\"ytick_4\">\n     <g id=\"line2d_9\">\n      <path clip-path=\"url(#p89d3e4aa27)\" d=\"M 50.14375 168.835919 \nL 345.29375 168.835919 \n\" style=\"fill:none;stroke:#cccccc;stroke-linecap:round;stroke-width:0.8;\"/>\n     </g>\n     <g id=\"text_10\">\n      <!-- 0.35 -->\n      <g style=\"fill:#262626;\" transform=\"translate(20.878125 172.635138)scale(0.1 -0.1)\">\n       <use xlink:href=\"#DejaVuSans-48\"/>\n       <use x=\"63.623047\" xlink:href=\"#DejaVuSans-46\"/>\n       <use x=\"95.410156\" xlink:href=\"#DejaVuSans-51\"/>\n       <use x=\"159.033203\" xlink:href=\"#DejaVuSans-53\"/>\n      </g>\n     </g>\n    </g>\n    <g id=\"ytick_5\">\n     <g id=\"line2d_10\">\n      <path clip-path=\"url(#p89d3e4aa27)\" d=\"M 50.14375 125.317269 \nL 345.29375 125.317269 \n\" style=\"fill:none;stroke:#cccccc;stroke-linecap:round;stroke-width:0.8;\"/>\n     </g>\n     <g id=\"text_11\">\n      <!-- 0.40 -->\n      <g style=\"fill:#262626;\" transform=\"translate(20.878125 129.116488)scale(0.1 -0.1)\">\n       <use xlink:href=\"#DejaVuSans-48\"/>\n       <use x=\"63.623047\" xlink:href=\"#DejaVuSans-46\"/>\n       <use x=\"95.410156\" xlink:href=\"#DejaVuSans-52\"/>\n       <use x=\"159.033203\" xlink:href=\"#DejaVuSans-48\"/>\n      </g>\n     </g>\n    </g>\n    <g id=\"ytick_6\">\n     <g id=\"line2d_11\">\n      <path clip-path=\"url(#p89d3e4aa27)\" d=\"M 50.14375 81.79862 \nL 345.29375 81.79862 \n\" style=\"fill:none;stroke:#cccccc;stroke-linecap:round;stroke-width:0.8;\"/>\n     </g>\n     <g id=\"text_12\">\n      <!-- 0.45 -->\n      <g style=\"fill:#262626;\" transform=\"translate(20.878125 85.597839)scale(0.1 -0.1)\">\n       <use xlink:href=\"#DejaVuSans-48\"/>\n       <use x=\"63.623047\" xlink:href=\"#DejaVuSans-46\"/>\n       <use x=\"95.410156\" xlink:href=\"#DejaVuSans-52\"/>\n       <use x=\"159.033203\" xlink:href=\"#DejaVuSans-53\"/>\n      </g>\n     </g>\n    </g>\n    <g id=\"ytick_7\">\n     <g id=\"line2d_12\">\n      <path clip-path=\"url(#p89d3e4aa27)\" d=\"M 50.14375 38.279971 \nL 345.29375 38.279971 \n\" style=\"fill:none;stroke:#cccccc;stroke-linecap:round;stroke-width:0.8;\"/>\n     </g>\n     <g id=\"text_13\">\n      <!-- 0.50 -->\n      <g style=\"fill:#262626;\" transform=\"translate(20.878125 42.079189)scale(0.1 -0.1)\">\n       <use xlink:href=\"#DejaVuSans-48\"/>\n       <use x=\"63.623047\" xlink:href=\"#DejaVuSans-46\"/>\n       <use x=\"95.410156\" xlink:href=\"#DejaVuSans-53\"/>\n       <use x=\"159.033203\" xlink:href=\"#DejaVuSans-48\"/>\n      </g>\n     </g>\n    </g>\n    <g id=\"text_14\">\n     <!-- probShowUp -->\n     <defs>\n      <path d=\"M 18.109375 8.203125 \nL 18.109375 -20.796875 \nL 9.078125 -20.796875 \nL 9.078125 54.6875 \nL 18.109375 54.6875 \nL 18.109375 46.390625 \nQ 20.953125 51.265625 25.265625 53.625 \nQ 29.59375 56 35.59375 56 \nQ 45.5625 56 51.78125 48.09375 \nQ 58.015625 40.1875 58.015625 27.296875 \nQ 58.015625 14.40625 51.78125 6.484375 \nQ 45.5625 -1.421875 35.59375 -1.421875 \nQ 29.59375 -1.421875 25.265625 0.953125 \nQ 20.953125 3.328125 18.109375 8.203125 \nz\nM 48.6875 27.296875 \nQ 48.6875 37.203125 44.609375 42.84375 \nQ 40.53125 48.484375 33.40625 48.484375 \nQ 26.265625 48.484375 22.1875 42.84375 \nQ 18.109375 37.203125 18.109375 27.296875 \nQ 18.109375 17.390625 22.1875 11.75 \nQ 26.265625 6.109375 33.40625 6.109375 \nQ 40.53125 6.109375 44.609375 11.75 \nQ 48.6875 17.390625 48.6875 27.296875 \nz\n\" id=\"DejaVuSans-112\"/>\n      <path d=\"M 41.109375 46.296875 \nQ 39.59375 47.171875 37.8125 47.578125 \nQ 36.03125 48 33.890625 48 \nQ 26.265625 48 22.1875 43.046875 \nQ 18.109375 38.09375 18.109375 28.8125 \nL 18.109375 0 \nL 9.078125 0 \nL 9.078125 54.6875 \nL 18.109375 54.6875 \nL 18.109375 46.1875 \nQ 20.953125 51.171875 25.484375 53.578125 \nQ 30.03125 56 36.53125 56 \nQ 37.453125 56 38.578125 55.875 \nQ 39.703125 55.765625 41.0625 55.515625 \nz\n\" id=\"DejaVuSans-114\"/>\n      <path d=\"M 30.609375 48.390625 \nQ 23.390625 48.390625 19.1875 42.75 \nQ 14.984375 37.109375 14.984375 27.296875 \nQ 14.984375 17.484375 19.15625 11.84375 \nQ 23.34375 6.203125 30.609375 6.203125 \nQ 37.796875 6.203125 41.984375 11.859375 \nQ 46.1875 17.53125 46.1875 27.296875 \nQ 46.1875 37.015625 41.984375 42.703125 \nQ 37.796875 48.390625 30.609375 48.390625 \nz\nM 30.609375 56 \nQ 42.328125 56 49.015625 48.375 \nQ 55.71875 40.765625 55.71875 27.296875 \nQ 55.71875 13.875 49.015625 6.21875 \nQ 42.328125 -1.421875 30.609375 -1.421875 \nQ 18.84375 -1.421875 12.171875 6.21875 \nQ 5.515625 13.875 5.515625 27.296875 \nQ 5.515625 40.765625 12.171875 48.375 \nQ 18.84375 56 30.609375 56 \nz\n\" id=\"DejaVuSans-111\"/>\n      <path d=\"M 48.6875 27.296875 \nQ 48.6875 37.203125 44.609375 42.84375 \nQ 40.53125 48.484375 33.40625 48.484375 \nQ 26.265625 48.484375 22.1875 42.84375 \nQ 18.109375 37.203125 18.109375 27.296875 \nQ 18.109375 17.390625 22.1875 11.75 \nQ 26.265625 6.109375 33.40625 6.109375 \nQ 40.53125 6.109375 44.609375 11.75 \nQ 48.6875 17.390625 48.6875 27.296875 \nz\nM 18.109375 46.390625 \nQ 20.953125 51.265625 25.265625 53.625 \nQ 29.59375 56 35.59375 56 \nQ 45.5625 56 51.78125 48.09375 \nQ 58.015625 40.1875 58.015625 27.296875 \nQ 58.015625 14.40625 51.78125 6.484375 \nQ 45.5625 -1.421875 35.59375 -1.421875 \nQ 29.59375 -1.421875 25.265625 0.953125 \nQ 20.953125 3.328125 18.109375 8.203125 \nL 18.109375 0 \nL 9.078125 0 \nL 9.078125 75.984375 \nL 18.109375 75.984375 \nz\n\" id=\"DejaVuSans-98\"/>\n      <path d=\"M 53.515625 70.515625 \nL 53.515625 60.890625 \nQ 47.90625 63.578125 42.921875 64.890625 \nQ 37.9375 66.21875 33.296875 66.21875 \nQ 25.25 66.21875 20.875 63.09375 \nQ 16.5 59.96875 16.5 54.203125 \nQ 16.5 49.359375 19.40625 46.890625 \nQ 22.3125 44.4375 30.421875 42.921875 \nL 36.375 41.703125 \nQ 47.40625 39.59375 52.65625 34.296875 \nQ 57.90625 29 57.90625 20.125 \nQ 57.90625 9.515625 50.796875 4.046875 \nQ 43.703125 -1.421875 29.984375 -1.421875 \nQ 24.8125 -1.421875 18.96875 -0.25 \nQ 13.140625 0.921875 6.890625 3.21875 \nL 6.890625 13.375 \nQ 12.890625 10.015625 18.65625 8.296875 \nQ 24.421875 6.59375 29.984375 6.59375 \nQ 38.421875 6.59375 43.015625 9.90625 \nQ 47.609375 13.234375 47.609375 19.390625 \nQ 47.609375 24.75 44.3125 27.78125 \nQ 41.015625 30.8125 33.5 32.328125 \nL 27.484375 33.5 \nQ 16.453125 35.6875 11.515625 40.375 \nQ 6.59375 45.0625 6.59375 53.421875 \nQ 6.59375 63.09375 13.40625 68.65625 \nQ 20.21875 74.21875 32.171875 74.21875 \nQ 37.3125 74.21875 42.625 73.28125 \nQ 47.953125 72.359375 53.515625 70.515625 \nz\n\" id=\"DejaVuSans-83\"/>\n      <path d=\"M 54.890625 33.015625 \nL 54.890625 0 \nL 45.90625 0 \nL 45.90625 32.71875 \nQ 45.90625 40.484375 42.875 44.328125 \nQ 39.84375 48.1875 33.796875 48.1875 \nQ 26.515625 48.1875 22.3125 43.546875 \nQ 18.109375 38.921875 18.109375 30.90625 \nL 18.109375 0 \nL 9.078125 0 \nL 9.078125 75.984375 \nL 18.109375 75.984375 \nL 18.109375 46.1875 \nQ 21.34375 51.125 25.703125 53.5625 \nQ 30.078125 56 35.796875 56 \nQ 45.21875 56 50.046875 50.171875 \nQ 54.890625 44.34375 54.890625 33.015625 \nz\n\" id=\"DejaVuSans-104\"/>\n      <path d=\"M 4.203125 54.6875 \nL 13.1875 54.6875 \nL 24.421875 12.015625 \nL 35.59375 54.6875 \nL 46.1875 54.6875 \nL 57.421875 12.015625 \nL 68.609375 54.6875 \nL 77.59375 54.6875 \nL 63.28125 0 \nL 52.6875 0 \nL 40.921875 44.828125 \nL 29.109375 0 \nL 18.5 0 \nz\n\" id=\"DejaVuSans-119\"/>\n      <path d=\"M 8.6875 72.90625 \nL 18.609375 72.90625 \nL 18.609375 28.609375 \nQ 18.609375 16.890625 22.84375 11.734375 \nQ 27.09375 6.59375 36.625 6.59375 \nQ 46.09375 6.59375 50.34375 11.734375 \nQ 54.59375 16.890625 54.59375 28.609375 \nL 54.59375 72.90625 \nL 64.5 72.90625 \nL 64.5 27.390625 \nQ 64.5 13.140625 57.4375 5.859375 \nQ 50.390625 -1.421875 36.625 -1.421875 \nQ 22.796875 -1.421875 15.734375 5.859375 \nQ 8.6875 13.140625 8.6875 27.390625 \nz\n\" id=\"DejaVuSans-85\"/>\n     </defs>\n     <g style=\"fill:#262626;\" transform=\"translate(14.798438 196.175781)rotate(-90)scale(0.1 -0.1)\">\n      <use xlink:href=\"#DejaVuSans-112\"/>\n      <use x=\"63.476562\" xlink:href=\"#DejaVuSans-114\"/>\n      <use x=\"102.339844\" xlink:href=\"#DejaVuSans-111\"/>\n      <use x=\"163.521484\" xlink:href=\"#DejaVuSans-98\"/>\n      <use x=\"226.998047\" xlink:href=\"#DejaVuSans-83\"/>\n      <use x=\"290.474609\" xlink:href=\"#DejaVuSans-104\"/>\n      <use x=\"353.853516\" xlink:href=\"#DejaVuSans-111\"/>\n      <use x=\"415.035156\" xlink:href=\"#DejaVuSans-119\"/>\n      <use x=\"496.822266\" xlink:href=\"#DejaVuSans-85\"/>\n      <use x=\"570.015625\" xlink:href=\"#DejaVuSans-112\"/>\n     </g>\n    </g>\n   </g>\n   <g id=\"PathCollection_1\">\n    <defs>\n     <path d=\"M 0 3 \nC 0.795609 3 1.55874 2.683901 2.12132 2.12132 \nC 2.683901 1.55874 3 0.795609 3 0 \nC 3 -0.795609 2.683901 -1.55874 2.12132 -2.12132 \nC 1.55874 -2.683901 0.795609 -3 0 -3 \nC -0.795609 -3 -1.55874 -2.683901 -2.12132 -2.12132 \nC -2.683901 -1.55874 -3 -0.795609 -3 0 \nC -3 0.795609 -2.683901 1.55874 -2.12132 2.12132 \nC -1.55874 2.683901 -0.795609 3 0 3 \nz\n\" id=\"m10facd7e1f\" style=\"stroke:#1f77b4;stroke-opacity:0.8;\"/>\n    </defs>\n    <g clip-path=\"url(#p89d3e4aa27)\">\n     <use style=\"fill:#1f77b4;fill-opacity:0.8;stroke:#1f77b4;stroke-opacity:0.8;\" x=\"50.14375\" xlink:href=\"#m10facd7e1f\" y=\"117.566004\"/>\n     <use style=\"fill:#1f77b4;fill-opacity:0.8;stroke:#1f77b4;stroke-opacity:0.8;\" x=\"53.250592\" xlink:href=\"#m10facd7e1f\" y=\"36.813349\"/>\n     <use style=\"fill:#1f77b4;fill-opacity:0.8;stroke:#1f77b4;stroke-opacity:0.8;\" x=\"56.357434\" xlink:href=\"#m10facd7e1f\" y=\"24.772727\"/>\n     <use style=\"fill:#1f77b4;fill-opacity:0.8;stroke:#1f77b4;stroke-opacity:0.8;\" x=\"59.464276\" xlink:href=\"#m10facd7e1f\" y=\"47.256007\"/>\n     <use style=\"fill:#1f77b4;fill-opacity:0.8;stroke:#1f77b4;stroke-opacity:0.8;\" x=\"62.571118\" xlink:href=\"#m10facd7e1f\" y=\"87.52652\"/>\n     <use style=\"fill:#1f77b4;fill-opacity:0.8;stroke:#1f77b4;stroke-opacity:0.8;\" x=\"65.677961\" xlink:href=\"#m10facd7e1f\" y=\"81.314797\"/>\n     <use style=\"fill:#1f77b4;fill-opacity:0.8;stroke:#1f77b4;stroke-opacity:0.8;\" x=\"68.784803\" xlink:href=\"#m10facd7e1f\" y=\"80.464715\"/>\n     <use style=\"fill:#1f77b4;fill-opacity:0.8;stroke:#1f77b4;stroke-opacity:0.8;\" x=\"71.891645\" xlink:href=\"#m10facd7e1f\" y=\"94.979671\"/>\n     <use style=\"fill:#1f77b4;fill-opacity:0.8;stroke:#1f77b4;stroke-opacity:0.8;\" x=\"74.998487\" xlink:href=\"#m10facd7e1f\" y=\"99.342523\"/>\n     <use style=\"fill:#1f77b4;fill-opacity:0.8;stroke:#1f77b4;stroke-opacity:0.8;\" x=\"78.105329\" xlink:href=\"#m10facd7e1f\" y=\"107.41524\"/>\n     <use style=\"fill:#1f77b4;fill-opacity:0.8;stroke:#1f77b4;stroke-opacity:0.8;\" x=\"81.212171\" xlink:href=\"#m10facd7e1f\" y=\"102.280677\"/>\n     <use style=\"fill:#1f77b4;fill-opacity:0.8;stroke:#1f77b4;stroke-opacity:0.8;\" x=\"84.319013\" xlink:href=\"#m10facd7e1f\" y=\"85.223699\"/>\n     <use style=\"fill:#1f77b4;fill-opacity:0.8;stroke:#1f77b4;stroke-opacity:0.8;\" x=\"87.425855\" xlink:href=\"#m10facd7e1f\" y=\"110.147552\"/>\n     <use style=\"fill:#1f77b4;fill-opacity:0.8;stroke:#1f77b4;stroke-opacity:0.8;\" x=\"90.532697\" xlink:href=\"#m10facd7e1f\" y=\"93.426702\"/>\n     <use style=\"fill:#1f77b4;fill-opacity:0.8;stroke:#1f77b4;stroke-opacity:0.8;\" x=\"93.639539\" xlink:href=\"#m10facd7e1f\" y=\"67.951777\"/>\n     <use style=\"fill:#1f77b4;fill-opacity:0.8;stroke:#1f77b4;stroke-opacity:0.8;\" x=\"96.746382\" xlink:href=\"#m10facd7e1f\" y=\"75.726932\"/>\n     <use style=\"fill:#1f77b4;fill-opacity:0.8;stroke:#1f77b4;stroke-opacity:0.8;\" x=\"99.853224\" xlink:href=\"#m10facd7e1f\" y=\"65.208039\"/>\n     <use style=\"fill:#1f77b4;fill-opacity:0.8;stroke:#1f77b4;stroke-opacity:0.8;\" x=\"102.960066\" xlink:href=\"#m10facd7e1f\" y=\"82.92725\"/>\n     <use style=\"fill:#1f77b4;fill-opacity:0.8;stroke:#1f77b4;stroke-opacity:0.8;\" x=\"106.066908\" xlink:href=\"#m10facd7e1f\" y=\"51.623968\"/>\n     <use style=\"fill:#1f77b4;fill-opacity:0.8;stroke:#1f77b4;stroke-opacity:0.8;\" x=\"109.17375\" xlink:href=\"#m10facd7e1f\" y=\"58.51084\"/>\n     <use style=\"fill:#1f77b4;fill-opacity:0.8;stroke:#1f77b4;stroke-opacity:0.8;\" x=\"112.280592\" xlink:href=\"#m10facd7e1f\" y=\"64.449314\"/>\n     <use style=\"fill:#1f77b4;fill-opacity:0.8;stroke:#1f77b4;stroke-opacity:0.8;\" x=\"115.387434\" xlink:href=\"#m10facd7e1f\" y=\"61.109717\"/>\n     <use style=\"fill:#1f77b4;fill-opacity:0.8;stroke:#1f77b4;stroke-opacity:0.8;\" x=\"118.494276\" xlink:href=\"#m10facd7e1f\" y=\"76.971403\"/>\n     <use style=\"fill:#1f77b4;fill-opacity:0.8;stroke:#1f77b4;stroke-opacity:0.8;\" x=\"121.601118\" xlink:href=\"#m10facd7e1f\" y=\"74.485469\"/>\n     <use style=\"fill:#1f77b4;fill-opacity:0.8;stroke:#1f77b4;stroke-opacity:0.8;\" x=\"124.707961\" xlink:href=\"#m10facd7e1f\" y=\"85.419772\"/>\n     <use style=\"fill:#1f77b4;fill-opacity:0.8;stroke:#1f77b4;stroke-opacity:0.8;\" x=\"127.814803\" xlink:href=\"#m10facd7e1f\" y=\"86.870476\"/>\n     <use style=\"fill:#1f77b4;fill-opacity:0.8;stroke:#1f77b4;stroke-opacity:0.8;\" x=\"130.921645\" xlink:href=\"#m10facd7e1f\" y=\"73.892613\"/>\n     <use style=\"fill:#1f77b4;fill-opacity:0.8;stroke:#1f77b4;stroke-opacity:0.8;\" x=\"134.028487\" xlink:href=\"#m10facd7e1f\" y=\"79.01336\"/>\n     <use style=\"fill:#1f77b4;fill-opacity:0.8;stroke:#1f77b4;stroke-opacity:0.8;\" x=\"137.135329\" xlink:href=\"#m10facd7e1f\" y=\"77.23571\"/>\n     <use style=\"fill:#1f77b4;fill-opacity:0.8;stroke:#1f77b4;stroke-opacity:0.8;\" x=\"140.242171\" xlink:href=\"#m10facd7e1f\" y=\"86.231554\"/>\n     <use style=\"fill:#1f77b4;fill-opacity:0.8;stroke:#1f77b4;stroke-opacity:0.8;\" x=\"143.349013\" xlink:href=\"#m10facd7e1f\" y=\"87.136499\"/>\n     <use style=\"fill:#1f77b4;fill-opacity:0.8;stroke:#1f77b4;stroke-opacity:0.8;\" x=\"146.455855\" xlink:href=\"#m10facd7e1f\" y=\"93.296334\"/>\n     <use style=\"fill:#1f77b4;fill-opacity:0.8;stroke:#1f77b4;stroke-opacity:0.8;\" x=\"149.562697\" xlink:href=\"#m10facd7e1f\" y=\"93.531894\"/>\n     <use style=\"fill:#1f77b4;fill-opacity:0.8;stroke:#1f77b4;stroke-opacity:0.8;\" x=\"152.669539\" xlink:href=\"#m10facd7e1f\" y=\"84.055143\"/>\n     <use style=\"fill:#1f77b4;fill-opacity:0.8;stroke:#1f77b4;stroke-opacity:0.8;\" x=\"155.776382\" xlink:href=\"#m10facd7e1f\" y=\"86.689005\"/>\n     <use style=\"fill:#1f77b4;fill-opacity:0.8;stroke:#1f77b4;stroke-opacity:0.8;\" x=\"158.883224\" xlink:href=\"#m10facd7e1f\" y=\"88.070011\"/>\n     <use style=\"fill:#1f77b4;fill-opacity:0.8;stroke:#1f77b4;stroke-opacity:0.8;\" x=\"161.990066\" xlink:href=\"#m10facd7e1f\" y=\"95.828536\"/>\n     <use style=\"fill:#1f77b4;fill-opacity:0.8;stroke:#1f77b4;stroke-opacity:0.8;\" x=\"165.096908\" xlink:href=\"#m10facd7e1f\" y=\"95.5678\"/>\n     <use style=\"fill:#1f77b4;fill-opacity:0.8;stroke:#1f77b4;stroke-opacity:0.8;\" x=\"168.20375\" xlink:href=\"#m10facd7e1f\" y=\"85.832134\"/>\n     <use style=\"fill:#1f77b4;fill-opacity:0.8;stroke:#1f77b4;stroke-opacity:0.8;\" x=\"171.310592\" xlink:href=\"#m10facd7e1f\" y=\"88.461522\"/>\n     <use style=\"fill:#1f77b4;fill-opacity:0.8;stroke:#1f77b4;stroke-opacity:0.8;\" x=\"174.417434\" xlink:href=\"#m10facd7e1f\" y=\"105.745909\"/>\n     <use style=\"fill:#1f77b4;fill-opacity:0.8;stroke:#1f77b4;stroke-opacity:0.8;\" x=\"177.524276\" xlink:href=\"#m10facd7e1f\" y=\"108.708054\"/>\n     <use style=\"fill:#1f77b4;fill-opacity:0.8;stroke:#1f77b4;stroke-opacity:0.8;\" x=\"180.631118\" xlink:href=\"#m10facd7e1f\" y=\"106.625165\"/>\n     <use style=\"fill:#1f77b4;fill-opacity:0.8;stroke:#1f77b4;stroke-opacity:0.8;\" x=\"183.737961\" xlink:href=\"#m10facd7e1f\" y=\"109.844741\"/>\n     <use style=\"fill:#1f77b4;fill-opacity:0.8;stroke:#1f77b4;stroke-opacity:0.8;\" x=\"186.844803\" xlink:href=\"#m10facd7e1f\" y=\"117.359574\"/>\n     <use style=\"fill:#1f77b4;fill-opacity:0.8;stroke:#1f77b4;stroke-opacity:0.8;\" x=\"189.951645\" xlink:href=\"#m10facd7e1f\" y=\"110.078416\"/>\n     <use style=\"fill:#1f77b4;fill-opacity:0.8;stroke:#1f77b4;stroke-opacity:0.8;\" x=\"193.058487\" xlink:href=\"#m10facd7e1f\" y=\"114.208198\"/>\n     <use style=\"fill:#1f77b4;fill-opacity:0.8;stroke:#1f77b4;stroke-opacity:0.8;\" x=\"196.165329\" xlink:href=\"#m10facd7e1f\" y=\"126.141967\"/>\n     <use style=\"fill:#1f77b4;fill-opacity:0.8;stroke:#1f77b4;stroke-opacity:0.8;\" x=\"199.272171\" xlink:href=\"#m10facd7e1f\" y=\"126.309147\"/>\n     <use style=\"fill:#1f77b4;fill-opacity:0.8;stroke:#1f77b4;stroke-opacity:0.8;\" x=\"202.379013\" xlink:href=\"#m10facd7e1f\" y=\"123.08294\"/>\n     <use style=\"fill:#1f77b4;fill-opacity:0.8;stroke:#1f77b4;stroke-opacity:0.8;\" x=\"205.485855\" xlink:href=\"#m10facd7e1f\" y=\"123.639024\"/>\n     <use style=\"fill:#1f77b4;fill-opacity:0.8;stroke:#1f77b4;stroke-opacity:0.8;\" x=\"208.592697\" xlink:href=\"#m10facd7e1f\" y=\"134.693384\"/>\n     <use style=\"fill:#1f77b4;fill-opacity:0.8;stroke:#1f77b4;stroke-opacity:0.8;\" x=\"211.699539\" xlink:href=\"#m10facd7e1f\" y=\"129.778535\"/>\n     <use style=\"fill:#1f77b4;fill-opacity:0.8;stroke:#1f77b4;stroke-opacity:0.8;\" x=\"214.806382\" xlink:href=\"#m10facd7e1f\" y=\"129.909653\"/>\n     <use style=\"fill:#1f77b4;fill-opacity:0.8;stroke:#1f77b4;stroke-opacity:0.8;\" x=\"217.913224\" xlink:href=\"#m10facd7e1f\" y=\"143.003993\"/>\n     <use style=\"fill:#1f77b4;fill-opacity:0.8;stroke:#1f77b4;stroke-opacity:0.8;\" x=\"221.020066\" xlink:href=\"#m10facd7e1f\" y=\"141.888693\"/>\n     <use style=\"fill:#1f77b4;fill-opacity:0.8;stroke:#1f77b4;stroke-opacity:0.8;\" x=\"224.126908\" xlink:href=\"#m10facd7e1f\" y=\"136.796874\"/>\n     <use style=\"fill:#1f77b4;fill-opacity:0.8;stroke:#1f77b4;stroke-opacity:0.8;\" x=\"227.23375\" xlink:href=\"#m10facd7e1f\" y=\"136.430276\"/>\n     <use style=\"fill:#1f77b4;fill-opacity:0.8;stroke:#1f77b4;stroke-opacity:0.8;\" x=\"230.340592\" xlink:href=\"#m10facd7e1f\" y=\"140.421219\"/>\n     <use style=\"fill:#1f77b4;fill-opacity:0.8;stroke:#1f77b4;stroke-opacity:0.8;\" x=\"233.447434\" xlink:href=\"#m10facd7e1f\" y=\"141.44187\"/>\n     <use style=\"fill:#1f77b4;fill-opacity:0.8;stroke:#1f77b4;stroke-opacity:0.8;\" x=\"236.554276\" xlink:href=\"#m10facd7e1f\" y=\"145.5748\"/>\n     <use style=\"fill:#1f77b4;fill-opacity:0.8;stroke:#1f77b4;stroke-opacity:0.8;\" x=\"239.661118\" xlink:href=\"#m10facd7e1f\" y=\"152.556163\"/>\n     <use style=\"fill:#1f77b4;fill-opacity:0.8;stroke:#1f77b4;stroke-opacity:0.8;\" x=\"242.767961\" xlink:href=\"#m10facd7e1f\" y=\"149.07083\"/>\n     <use style=\"fill:#1f77b4;fill-opacity:0.8;stroke:#1f77b4;stroke-opacity:0.8;\" x=\"245.874803\" xlink:href=\"#m10facd7e1f\" y=\"132.608352\"/>\n     <use style=\"fill:#1f77b4;fill-opacity:0.8;stroke:#1f77b4;stroke-opacity:0.8;\" x=\"248.981645\" xlink:href=\"#m10facd7e1f\" y=\"143.376991\"/>\n     <use style=\"fill:#1f77b4;fill-opacity:0.8;stroke:#1f77b4;stroke-opacity:0.8;\" x=\"252.088487\" xlink:href=\"#m10facd7e1f\" y=\"156.889623\"/>\n     <use style=\"fill:#1f77b4;fill-opacity:0.8;stroke:#1f77b4;stroke-opacity:0.8;\" x=\"255.195329\" xlink:href=\"#m10facd7e1f\" y=\"136.51407\"/>\n     <use style=\"fill:#1f77b4;fill-opacity:0.8;stroke:#1f77b4;stroke-opacity:0.8;\" x=\"258.302171\" xlink:href=\"#m10facd7e1f\" y=\"156.879717\"/>\n     <use style=\"fill:#1f77b4;fill-opacity:0.8;stroke:#1f77b4;stroke-opacity:0.8;\" x=\"261.409013\" xlink:href=\"#m10facd7e1f\" y=\"142.151644\"/>\n     <use style=\"fill:#1f77b4;fill-opacity:0.8;stroke:#1f77b4;stroke-opacity:0.8;\" x=\"264.515855\" xlink:href=\"#m10facd7e1f\" y=\"158.247195\"/>\n     <use style=\"fill:#1f77b4;fill-opacity:0.8;stroke:#1f77b4;stroke-opacity:0.8;\" x=\"267.622697\" xlink:href=\"#m10facd7e1f\" y=\"157.944736\"/>\n     <use style=\"fill:#1f77b4;fill-opacity:0.8;stroke:#1f77b4;stroke-opacity:0.8;\" x=\"270.729539\" xlink:href=\"#m10facd7e1f\" y=\"177.215673\"/>\n     <use style=\"fill:#1f77b4;fill-opacity:0.8;stroke:#1f77b4;stroke-opacity:0.8;\" x=\"273.836382\" xlink:href=\"#m10facd7e1f\" y=\"178.504855\"/>\n     <use style=\"fill:#1f77b4;fill-opacity:0.8;stroke:#1f77b4;stroke-opacity:0.8;\" x=\"276.943224\" xlink:href=\"#m10facd7e1f\" y=\"132.854813\"/>\n     <use style=\"fill:#1f77b4;fill-opacity:0.8;stroke:#1f77b4;stroke-opacity:0.8;\" x=\"280.050066\" xlink:href=\"#m10facd7e1f\" y=\"161.627781\"/>\n     <use style=\"fill:#1f77b4;fill-opacity:0.8;stroke:#1f77b4;stroke-opacity:0.8;\" x=\"283.156908\" xlink:href=\"#m10facd7e1f\" y=\"171.523667\"/>\n     <use style=\"fill:#1f77b4;fill-opacity:0.8;stroke:#1f77b4;stroke-opacity:0.8;\" x=\"286.26375\" xlink:href=\"#m10facd7e1f\" y=\"154.92996\"/>\n     <use style=\"fill:#1f77b4;fill-opacity:0.8;stroke:#1f77b4;stroke-opacity:0.8;\" x=\"289.370592\" xlink:href=\"#m10facd7e1f\" y=\"149.73017\"/>\n     <use style=\"fill:#1f77b4;fill-opacity:0.8;stroke:#1f77b4;stroke-opacity:0.8;\" x=\"292.477434\" xlink:href=\"#m10facd7e1f\" y=\"147.517066\"/>\n     <use style=\"fill:#1f77b4;fill-opacity:0.8;stroke:#1f77b4;stroke-opacity:0.8;\" x=\"295.584276\" xlink:href=\"#m10facd7e1f\" y=\"166.640616\"/>\n     <use style=\"fill:#1f77b4;fill-opacity:0.8;stroke:#1f77b4;stroke-opacity:0.8;\" x=\"298.691118\" xlink:href=\"#m10facd7e1f\" y=\"120.310228\"/>\n     <use style=\"fill:#1f77b4;fill-opacity:0.8;stroke:#1f77b4;stroke-opacity:0.8;\" x=\"301.797961\" xlink:href=\"#m10facd7e1f\" y=\"137.543649\"/>\n     <use style=\"fill:#1f77b4;fill-opacity:0.8;stroke:#1f77b4;stroke-opacity:0.8;\" x=\"304.904803\" xlink:href=\"#m10facd7e1f\" y=\"134.300925\"/>\n     <use style=\"fill:#1f77b4;fill-opacity:0.8;stroke:#1f77b4;stroke-opacity:0.8;\" x=\"308.011645\" xlink:href=\"#m10facd7e1f\" y=\"153.093452\"/>\n     <use style=\"fill:#1f77b4;fill-opacity:0.8;stroke:#1f77b4;stroke-opacity:0.8;\" x=\"311.118487\" xlink:href=\"#m10facd7e1f\" y=\"142.007217\"/>\n     <use style=\"fill:#1f77b4;fill-opacity:0.8;stroke:#1f77b4;stroke-opacity:0.8;\" x=\"314.225329\" xlink:href=\"#m10facd7e1f\" y=\"132.019413\"/>\n     <use style=\"fill:#1f77b4;fill-opacity:0.8;stroke:#1f77b4;stroke-opacity:0.8;\" x=\"317.332171\" xlink:href=\"#m10facd7e1f\" y=\"122.319675\"/>\n     <use style=\"fill:#1f77b4;fill-opacity:0.8;stroke:#1f77b4;stroke-opacity:0.8;\" x=\"320.439013\" xlink:href=\"#m10facd7e1f\" y=\"116.427133\"/>\n     <use style=\"fill:#1f77b4;fill-opacity:0.8;stroke:#1f77b4;stroke-opacity:0.8;\" x=\"323.545855\" xlink:href=\"#m10facd7e1f\" y=\"135.419813\"/>\n     <use style=\"fill:#1f77b4;fill-opacity:0.8;stroke:#1f77b4;stroke-opacity:0.8;\" x=\"326.652697\" xlink:href=\"#m10facd7e1f\" y=\"87.755929\"/>\n     <use style=\"fill:#1f77b4;fill-opacity:0.8;stroke:#1f77b4;stroke-opacity:0.8;\" x=\"329.759539\" xlink:href=\"#m10facd7e1f\" y=\"170.518961\"/>\n     <use style=\"fill:#1f77b4;fill-opacity:0.8;stroke:#1f77b4;stroke-opacity:0.8;\" x=\"332.866382\" xlink:href=\"#m10facd7e1f\" y=\"126.792478\"/>\n     <use style=\"fill:#1f77b4;fill-opacity:0.8;stroke:#1f77b4;stroke-opacity:0.8;\" x=\"335.973224\" xlink:href=\"#m10facd7e1f\" y=\"96.18032\"/>\n     <use style=\"fill:#1f77b4;fill-opacity:0.8;stroke:#1f77b4;stroke-opacity:0.8;\" x=\"339.080066\" xlink:href=\"#m10facd7e1f\" y=\"101.398622\"/>\n     <use style=\"fill:#1f77b4;fill-opacity:0.8;stroke:#1f77b4;stroke-opacity:0.8;\" x=\"342.186908\" xlink:href=\"#m10facd7e1f\" y=\"63.879176\"/>\n     <use style=\"fill:#1f77b4;fill-opacity:0.8;stroke:#1f77b4;stroke-opacity:0.8;\" x=\"345.29375\" xlink:href=\"#m10facd7e1f\" y=\"304.227273\"/>\n    </g>\n   </g>\n   <g id=\"PolyCollection_1\">\n    <defs>\n     <path d=\"M 50.14375 -300.053305 \nL 50.14375 -276.186945 \nL 53.125063 -275.447431 \nL 56.106376 -274.735557 \nL 59.087689 -274.024568 \nL 62.069003 -273.316418 \nL 65.050316 -272.608803 \nL 68.031629 -271.977831 \nL 71.012942 -271.358594 \nL 73.994255 -270.739356 \nL 76.975568 -270.120118 \nL 79.956881 -269.412886 \nL 82.938194 -268.740811 \nL 85.919508 -268.021383 \nL 88.900821 -267.278603 \nL 91.882134 -266.496956 \nL 94.863447 -265.71688 \nL 97.84476 -264.937725 \nL 100.826073 -264.258628 \nL 103.807386 -263.659084 \nL 106.788699 -262.917183 \nL 109.770013 -262.236296 \nL 112.751326 -261.559792 \nL 115.732639 -260.891442 \nL 118.713952 -260.175072 \nL 121.695265 -259.385388 \nL 124.676578 -258.502426 \nL 127.657891 -257.809355 \nL 130.639205 -256.989432 \nL 133.620518 -256.135734 \nL 136.601831 -255.280493 \nL 139.583144 -254.513568 \nL 142.564457 -253.577591 \nL 145.54577 -252.726111 \nL 148.527083 -251.867489 \nL 151.508396 -251.076356 \nL 154.48971 -250.23912 \nL 157.471023 -249.445562 \nL 160.452336 -248.49267 \nL 163.433649 -247.587905 \nL 166.414962 -246.722764 \nL 169.396275 -245.792523 \nL 172.377588 -244.784515 \nL 175.358902 -243.845471 \nL 178.340215 -242.848668 \nL 181.321528 -241.879162 \nL 184.302841 -240.68831 \nL 187.284154 -239.534673 \nL 190.265467 -238.5529 \nL 193.24678 -237.331176 \nL 196.228093 -236.187593 \nL 199.209407 -235.027476 \nL 202.19072 -233.825764 \nL 205.172033 -232.721157 \nL 208.153346 -231.727427 \nL 211.134659 -230.735467 \nL 214.115972 -229.612777 \nL 217.097285 -228.397912 \nL 220.078598 -227.156708 \nL 223.059912 -225.87877 \nL 226.041225 -224.665103 \nL 229.022538 -223.523163 \nL 232.003851 -222.403064 \nL 234.985164 -221.373514 \nL 237.966477 -220.136105 \nL 240.94779 -218.865719 \nL 243.929104 -217.608156 \nL 246.910417 -216.517241 \nL 249.89173 -215.233143 \nL 252.873043 -214.010967 \nL 255.854356 -212.848933 \nL 258.835669 -211.703987 \nL 261.816982 -210.493793 \nL 264.798295 -209.278631 \nL 267.779609 -208.063469 \nL 270.760922 -206.848743 \nL 273.742235 -205.720478 \nL 276.723548 -204.450463 \nL 279.704861 -203.219742 \nL 282.686174 -202.044142 \nL 285.667487 -200.821288 \nL 288.648801 -199.621425 \nL 291.630114 -198.39193 \nL 294.611427 -197.178869 \nL 297.59274 -195.995459 \nL 300.574053 -194.812473 \nL 303.555366 -193.601832 \nL 306.536679 -192.324515 \nL 309.517992 -191.151303 \nL 312.499306 -189.97853 \nL 315.480619 -188.805757 \nL 318.461932 -187.627033 \nL 321.443245 -186.427593 \nL 324.424558 -185.228154 \nL 327.405871 -184.028715 \nL 330.387184 -182.829276 \nL 333.368497 -181.623189 \nL 336.349811 -180.395881 \nL 339.331124 -179.168573 \nL 342.312437 -177.941265 \nL 345.29375 -176.713957 \nL 345.29375 -211.72864 \nL 345.29375 -211.72864 \nL 342.312437 -212.429481 \nL 339.331124 -213.191514 \nL 336.349811 -213.916442 \nL 333.368497 -214.553955 \nL 330.387184 -215.189473 \nL 327.405871 -215.844012 \nL 324.424558 -216.490403 \nL 321.443245 -217.104748 \nL 318.461932 -217.735369 \nL 315.480619 -218.419355 \nL 312.499306 -219.115324 \nL 309.517992 -219.762816 \nL 306.536679 -220.395761 \nL 303.555366 -221.208472 \nL 300.574053 -221.909723 \nL 297.59274 -222.610974 \nL 294.611427 -223.312225 \nL 291.630114 -224.080395 \nL 288.648801 -224.860059 \nL 285.667487 -225.639723 \nL 282.686174 -226.419386 \nL 279.704861 -227.169226 \nL 276.723548 -227.815045 \nL 273.742235 -228.460864 \nL 270.760922 -229.106682 \nL 267.779609 -229.768123 \nL 264.798295 -230.473998 \nL 261.816982 -231.193371 \nL 258.835669 -231.967501 \nL 255.854356 -232.728489 \nL 252.873043 -233.460757 \nL 249.89173 -234.231769 \nL 246.910417 -234.87038 \nL 243.929104 -235.538245 \nL 240.94779 -236.193776 \nL 237.966477 -236.87726 \nL 234.985164 -237.624812 \nL 232.003851 -238.248264 \nL 229.022538 -239.044951 \nL 226.041225 -239.879377 \nL 223.059912 -240.713802 \nL 220.078598 -241.438034 \nL 217.097285 -242.011162 \nL 214.115972 -242.798696 \nL 211.134659 -243.658085 \nL 208.153346 -244.550704 \nL 205.172033 -245.286645 \nL 202.19072 -246.124824 \nL 199.209407 -246.976121 \nL 196.228093 -247.67748 \nL 193.24678 -248.352986 \nL 190.265467 -249.087486 \nL 187.284154 -249.970349 \nL 184.302841 -250.768977 \nL 181.321528 -251.739523 \nL 178.340215 -252.593549 \nL 175.358902 -253.451595 \nL 172.377588 -254.275084 \nL 169.396275 -255.209282 \nL 166.414962 -256.230968 \nL 163.433649 -257.209687 \nL 160.452336 -258.124895 \nL 157.471023 -259.145327 \nL 154.48971 -260.04575 \nL 151.508396 -260.968038 \nL 148.527083 -262.087663 \nL 145.54577 -262.931531 \nL 142.564457 -264.016098 \nL 139.583144 -264.901474 \nL 136.601831 -265.918959 \nL 133.620518 -267.026992 \nL 130.639205 -268.172695 \nL 127.657891 -269.378203 \nL 124.676578 -270.442764 \nL 121.695265 -271.548459 \nL 118.713952 -272.57317 \nL 115.732639 -273.689717 \nL 112.751326 -274.786459 \nL 109.770013 -275.999832 \nL 106.788699 -277.126999 \nL 103.807386 -278.314108 \nL 100.826073 -279.522024 \nL 97.84476 -280.738349 \nL 94.863447 -281.980832 \nL 91.882134 -283.197976 \nL 88.900821 -284.412643 \nL 85.919508 -285.627311 \nL 82.938194 -286.841979 \nL 79.956881 -288.055757 \nL 76.975568 -289.233463 \nL 73.994255 -290.350611 \nL 71.012942 -291.5612 \nL 68.031629 -292.696707 \nL 65.050316 -293.929397 \nL 62.069003 -295.200139 \nL 59.087689 -296.387716 \nL 56.106376 -297.622231 \nL 53.125063 -298.840883 \nL 50.14375 -300.053305 \nz\n\" id=\"m8058701566\" style=\"stroke:#ffffff;stroke-opacity:0.15;\"/>\n    </defs>\n    <g clip-path=\"url(#p89d3e4aa27)\">\n     <use style=\"fill:#ff0000;fill-opacity:0.15;stroke:#ffffff;stroke-opacity:0.15;\" x=\"0\" xlink:href=\"#m8058701566\" y=\"355.75625\"/>\n    </g>\n   </g>\n   <g id=\"line2d_13\">\n    <path clip-path=\"url(#p89d3e4aa27)\" d=\"M 50.14375 67.72957 \nL 53.125063 68.667123 \nL 56.106376 69.604675 \nL 59.087689 70.542228 \nL 62.069003 71.47978 \nL 65.050316 72.417333 \nL 68.031629 73.354885 \nL 71.012942 74.292437 \nL 73.994255 75.22999 \nL 76.975568 76.167542 \nL 79.956881 77.105095 \nL 82.938194 78.042647 \nL 85.919508 78.9802 \nL 88.900821 79.917752 \nL 91.882134 80.855304 \nL 94.863447 81.792857 \nL 97.84476 82.730409 \nL 100.826073 83.667962 \nL 103.807386 84.605514 \nL 106.788699 85.543066 \nL 109.770013 86.480619 \nL 112.751326 87.418171 \nL 115.732639 88.355724 \nL 118.713952 89.293276 \nL 121.695265 90.230829 \nL 124.676578 91.168381 \nL 127.657891 92.105933 \nL 130.639205 93.043486 \nL 133.620518 93.981038 \nL 136.601831 94.918591 \nL 139.583144 95.856143 \nL 142.564457 96.793696 \nL 145.54577 97.731248 \nL 148.527083 98.6688 \nL 151.508396 99.606353 \nL 154.48971 100.543905 \nL 157.471023 101.481458 \nL 160.452336 102.41901 \nL 163.433649 103.356562 \nL 166.414962 104.294115 \nL 169.396275 105.231667 \nL 172.377588 106.16922 \nL 175.358902 107.106772 \nL 178.340215 108.044325 \nL 181.321528 108.981877 \nL 184.302841 109.919429 \nL 187.284154 110.856982 \nL 190.265467 111.794534 \nL 193.24678 112.732087 \nL 196.228093 113.669639 \nL 199.209407 114.607192 \nL 202.19072 115.544744 \nL 205.172033 116.482296 \nL 208.153346 117.419849 \nL 211.134659 118.357401 \nL 214.115972 119.294954 \nL 217.097285 120.232506 \nL 220.078598 121.170059 \nL 223.059912 122.107611 \nL 226.041225 123.045163 \nL 229.022538 123.982716 \nL 232.003851 124.920268 \nL 234.985164 125.857821 \nL 237.966477 126.795373 \nL 240.94779 127.732925 \nL 243.929104 128.670478 \nL 246.910417 129.60803 \nL 249.89173 130.545583 \nL 252.873043 131.483135 \nL 255.854356 132.420688 \nL 258.835669 133.35824 \nL 261.816982 134.295792 \nL 264.798295 135.233345 \nL 267.779609 136.170897 \nL 270.760922 137.10845 \nL 273.742235 138.046002 \nL 276.723548 138.983555 \nL 279.704861 139.921107 \nL 282.686174 140.858659 \nL 285.667487 141.796212 \nL 288.648801 142.733764 \nL 291.630114 143.671317 \nL 294.611427 144.608869 \nL 297.59274 145.546421 \nL 300.574053 146.483974 \nL 303.555366 147.421526 \nL 306.536679 148.359079 \nL 309.517992 149.296631 \nL 312.499306 150.234184 \nL 315.480619 151.171736 \nL 318.461932 152.109288 \nL 321.443245 153.046841 \nL 324.424558 153.984393 \nL 327.405871 154.921946 \nL 330.387184 155.859498 \nL 333.368497 156.797051 \nL 336.349811 157.734603 \nL 339.331124 158.672155 \nL 342.312437 159.609708 \nL 345.29375 160.54726 \n\" style=\"fill:none;stroke:#ff0000;stroke-linecap:round;stroke-width:2.25;\"/>\n   </g>\n   <g id=\"patch_3\">\n    <path d=\"M 50.14375 318.2 \nL 50.14375 10.8 \n\" style=\"fill:none;stroke:#cccccc;stroke-linecap:square;stroke-linejoin:miter;stroke-width:0.8;\"/>\n   </g>\n   <g id=\"patch_4\">\n    <path d=\"M 50.14375 318.2 \nL 345.29375 318.2 \n\" style=\"fill:none;stroke:#cccccc;stroke-linecap:square;stroke-linejoin:miter;stroke-width:0.8;\"/>\n   </g>\n  </g>\n  <g id=\"text_15\">\n   <!-- Probability of age with respect to No-Show  -->\n   <defs>\n    <path d=\"M 9.1875 72.90625 \nL 40.375 72.90625 \nQ 54.296875 72.90625 61.734375 66.71875 \nQ 69.1875 60.546875 69.1875 49.125 \nQ 69.1875 37.640625 61.734375 31.46875 \nQ 54.296875 25.296875 40.375 25.296875 \nL 27.984375 25.296875 \nL 27.984375 0 \nL 9.1875 0 \nz\nM 27.984375 59.28125 \nL 27.984375 38.921875 \nL 38.375 38.921875 \nQ 43.84375 38.921875 46.828125 41.578125 \nQ 49.8125 44.234375 49.8125 49.125 \nQ 49.8125 54 46.828125 56.640625 \nQ 43.84375 59.28125 38.375 59.28125 \nz\n\" id=\"DejaVuSans-Bold-80\"/>\n    <path d=\"M 49.03125 39.796875 \nQ 46.734375 40.875 44.453125 41.375 \nQ 42.1875 41.890625 39.890625 41.890625 \nQ 33.15625 41.890625 29.515625 37.5625 \nQ 25.875 33.25 25.875 25.203125 \nL 25.875 0 \nL 8.40625 0 \nL 8.40625 54.6875 \nL 25.875 54.6875 \nL 25.875 45.703125 \nQ 29.25 51.078125 33.609375 53.53125 \nQ 37.984375 56 44.09375 56 \nQ 44.96875 56 45.984375 55.921875 \nQ 47.015625 55.859375 48.96875 55.609375 \nz\n\" id=\"DejaVuSans-Bold-114\"/>\n    <path d=\"M 34.421875 43.5 \nQ 28.609375 43.5 25.5625 39.328125 \nQ 22.515625 35.15625 22.515625 27.296875 \nQ 22.515625 19.4375 25.5625 15.25 \nQ 28.609375 11.078125 34.421875 11.078125 \nQ 40.140625 11.078125 43.15625 15.25 \nQ 46.1875 19.4375 46.1875 27.296875 \nQ 46.1875 35.15625 43.15625 39.328125 \nQ 40.140625 43.5 34.421875 43.5 \nz\nM 34.421875 56 \nQ 48.53125 56 56.46875 48.375 \nQ 64.40625 40.765625 64.40625 27.296875 \nQ 64.40625 13.8125 56.46875 6.1875 \nQ 48.53125 -1.421875 34.421875 -1.421875 \nQ 20.265625 -1.421875 12.28125 6.1875 \nQ 4.296875 13.8125 4.296875 27.296875 \nQ 4.296875 40.765625 12.28125 48.375 \nQ 20.265625 56 34.421875 56 \nz\n\" id=\"DejaVuSans-Bold-111\"/>\n    <path d=\"M 37.5 11.28125 \nQ 43.109375 11.28125 46.0625 15.375 \nQ 49.03125 19.484375 49.03125 27.296875 \nQ 49.03125 35.109375 46.0625 39.203125 \nQ 43.109375 43.3125 37.5 43.3125 \nQ 31.890625 43.3125 28.875 39.1875 \nQ 25.875 35.0625 25.875 27.296875 \nQ 25.875 19.53125 28.875 15.40625 \nQ 31.890625 11.28125 37.5 11.28125 \nz\nM 25.875 46.6875 \nQ 29.5 51.46875 33.890625 53.734375 \nQ 38.28125 56 44 56 \nQ 54.109375 56 60.59375 47.96875 \nQ 67.09375 39.9375 67.09375 27.296875 \nQ 67.09375 14.65625 60.59375 6.609375 \nQ 54.109375 -1.421875 44 -1.421875 \nQ 38.28125 -1.421875 33.890625 0.84375 \nQ 29.5 3.125 25.875 7.90625 \nL 25.875 0 \nL 8.40625 0 \nL 8.40625 75.984375 \nL 25.875 75.984375 \nz\n\" id=\"DejaVuSans-Bold-98\"/>\n    <path d=\"M 32.90625 24.609375 \nQ 27.4375 24.609375 24.671875 22.75 \nQ 21.921875 20.90625 21.921875 17.28125 \nQ 21.921875 13.96875 24.140625 12.078125 \nQ 26.375 10.203125 30.328125 10.203125 \nQ 35.25 10.203125 38.625 13.734375 \nQ 42 17.28125 42 22.609375 \nL 42 24.609375 \nz\nM 59.625 31.203125 \nL 59.625 0 \nL 42 0 \nL 42 8.109375 \nQ 38.484375 3.125 34.078125 0.84375 \nQ 29.6875 -1.421875 23.390625 -1.421875 \nQ 14.890625 -1.421875 9.59375 3.53125 \nQ 4.296875 8.5 4.296875 16.40625 \nQ 4.296875 26.03125 10.90625 30.515625 \nQ 17.53125 35.015625 31.6875 35.015625 \nL 42 35.015625 \nL 42 36.375 \nQ 42 40.53125 38.71875 42.453125 \nQ 35.453125 44.390625 28.515625 44.390625 \nQ 22.90625 44.390625 18.0625 43.265625 \nQ 13.234375 42.140625 9.078125 39.890625 \nL 9.078125 53.21875 \nQ 14.703125 54.59375 20.359375 55.296875 \nQ 26.03125 56 31.6875 56 \nQ 46.484375 56 53.046875 50.171875 \nQ 59.625 44.34375 59.625 31.203125 \nz\n\" id=\"DejaVuSans-Bold-97\"/>\n    <path d=\"M 8.40625 54.6875 \nL 25.875 54.6875 \nL 25.875 0 \nL 8.40625 0 \nz\nM 8.40625 75.984375 \nL 25.875 75.984375 \nL 25.875 61.71875 \nL 8.40625 61.71875 \nz\n\" id=\"DejaVuSans-Bold-105\"/>\n    <path d=\"M 8.40625 75.984375 \nL 25.875 75.984375 \nL 25.875 0 \nL 8.40625 0 \nz\n\" id=\"DejaVuSans-Bold-108\"/>\n    <path d=\"M 27.484375 70.21875 \nL 27.484375 54.6875 \nL 45.515625 54.6875 \nL 45.515625 42.1875 \nL 27.484375 42.1875 \nL 27.484375 19 \nQ 27.484375 15.1875 29 13.84375 \nQ 30.515625 12.5 35.015625 12.5 \nL 44 12.5 \nL 44 0 \nL 29 0 \nQ 18.65625 0 14.328125 4.3125 \nQ 10.015625 8.640625 10.015625 19 \nL 10.015625 42.1875 \nL 1.3125 42.1875 \nL 1.3125 54.6875 \nL 10.015625 54.6875 \nL 10.015625 70.21875 \nz\n\" id=\"DejaVuSans-Bold-116\"/>\n    <path d=\"M 1.21875 54.6875 \nL 18.703125 54.6875 \nL 33.40625 17.578125 \nL 45.90625 54.6875 \nL 63.375 54.6875 \nL 40.375 -5.171875 \nQ 36.921875 -14.3125 32.296875 -17.9375 \nQ 27.6875 -21.578125 20.125 -21.578125 \nL 10.015625 -21.578125 \nL 10.015625 -10.109375 \nL 15.484375 -10.109375 \nQ 19.921875 -10.109375 21.9375 -8.6875 \nQ 23.96875 -7.28125 25.09375 -3.609375 \nL 25.59375 -2.09375 \nz\n\" id=\"DejaVuSans-Bold-121\"/>\n    <path id=\"DejaVuSans-Bold-32\"/>\n    <path d=\"M 44.390625 75.984375 \nL 44.390625 64.5 \nL 34.71875 64.5 \nQ 31 64.5 29.53125 63.15625 \nQ 28.078125 61.8125 28.078125 58.5 \nL 28.078125 54.6875 \nL 43.015625 54.6875 \nL 43.015625 42.1875 \nL 28.078125 42.1875 \nL 28.078125 0 \nL 10.59375 0 \nL 10.59375 42.1875 \nL 1.90625 42.1875 \nL 1.90625 54.6875 \nL 10.59375 54.6875 \nL 10.59375 58.5 \nQ 10.59375 67.4375 15.578125 71.703125 \nQ 20.5625 75.984375 31 75.984375 \nz\n\" id=\"DejaVuSans-Bold-102\"/>\n    <path d=\"M 45.609375 9.28125 \nQ 42 4.5 37.640625 2.25 \nQ 33.296875 0 27.59375 0 \nQ 17.578125 0 11.03125 7.875 \nQ 4.5 15.765625 4.5 27.984375 \nQ 4.5 40.234375 11.03125 48.0625 \nQ 17.578125 55.90625 27.59375 55.90625 \nQ 33.296875 55.90625 37.640625 53.65625 \nQ 42 51.421875 45.609375 46.578125 \nL 45.609375 54.6875 \nL 63.1875 54.6875 \nL 63.1875 5.515625 \nQ 63.1875 -7.671875 54.859375 -14.625 \nQ 46.53125 -21.578125 30.71875 -21.578125 \nQ 25.59375 -21.578125 20.796875 -20.796875 \nQ 16.015625 -20.015625 11.1875 -18.40625 \nL 11.1875 -4.78125 \nQ 15.765625 -7.421875 20.15625 -8.71875 \nQ 24.5625 -10.015625 29 -10.015625 \nQ 37.59375 -10.015625 41.59375 -6.25 \nQ 45.609375 -2.484375 45.609375 5.515625 \nz\nM 34.078125 43.3125 \nQ 28.65625 43.3125 25.625 39.296875 \nQ 22.609375 35.296875 22.609375 27.984375 \nQ 22.609375 20.453125 25.53125 16.578125 \nQ 28.46875 12.703125 34.078125 12.703125 \nQ 39.546875 12.703125 42.578125 16.703125 \nQ 45.609375 20.703125 45.609375 27.984375 \nQ 45.609375 35.296875 42.578125 39.296875 \nQ 39.546875 43.3125 34.078125 43.3125 \nz\n\" id=\"DejaVuSans-Bold-103\"/>\n    <path d=\"M 62.984375 27.484375 \nL 62.984375 22.515625 \nL 22.125 22.515625 \nQ 22.75 16.359375 26.5625 13.28125 \nQ 30.375 10.203125 37.203125 10.203125 \nQ 42.71875 10.203125 48.5 11.84375 \nQ 54.296875 13.484375 60.40625 16.796875 \nL 60.40625 3.328125 \nQ 54.203125 0.984375 48 -0.21875 \nQ 41.796875 -1.421875 35.59375 -1.421875 \nQ 20.75 -1.421875 12.515625 6.125 \nQ 4.296875 13.671875 4.296875 27.296875 \nQ 4.296875 40.671875 12.375 48.328125 \nQ 20.453125 56 34.625 56 \nQ 47.515625 56 55.25 48.234375 \nQ 62.984375 40.484375 62.984375 27.484375 \nz\nM 45.015625 33.296875 \nQ 45.015625 38.28125 42.109375 41.328125 \nQ 39.203125 44.390625 34.515625 44.390625 \nQ 29.4375 44.390625 26.265625 41.53125 \nQ 23.09375 38.671875 22.3125 33.296875 \nz\n\" id=\"DejaVuSans-Bold-101\"/>\n    <path d=\"M 3.515625 54.6875 \nL 20.515625 54.6875 \nL 29.6875 17 \nL 38.921875 54.6875 \nL 53.515625 54.6875 \nL 62.703125 17.390625 \nL 71.921875 54.6875 \nL 88.921875 54.6875 \nL 74.515625 0 \nL 55.421875 0 \nL 46.1875 37.59375 \nL 37.015625 0 \nL 17.921875 0 \nz\n\" id=\"DejaVuSans-Bold-119\"/>\n    <path d=\"M 63.375 33.296875 \nL 63.375 0 \nL 45.796875 0 \nL 45.796875 5.421875 \nL 45.796875 25.390625 \nQ 45.796875 32.5625 45.484375 35.25 \nQ 45.171875 37.9375 44.390625 39.203125 \nQ 43.359375 40.921875 41.59375 41.875 \nQ 39.84375 42.828125 37.59375 42.828125 \nQ 32.125 42.828125 29 38.59375 \nQ 25.875 34.375 25.875 26.90625 \nL 25.875 0 \nL 8.40625 0 \nL 8.40625 75.984375 \nL 25.875 75.984375 \nL 25.875 46.6875 \nQ 29.828125 51.46875 34.265625 53.734375 \nQ 38.71875 56 44.09375 56 \nQ 53.5625 56 58.46875 50.1875 \nQ 63.375 44.390625 63.375 33.296875 \nz\n\" id=\"DejaVuSans-Bold-104\"/>\n    <path d=\"M 51.125 52.984375 \nL 51.125 39.703125 \nQ 45.515625 42.046875 40.28125 43.21875 \nQ 35.0625 44.390625 30.421875 44.390625 \nQ 25.4375 44.390625 23.015625 43.140625 \nQ 20.609375 41.890625 20.609375 39.3125 \nQ 20.609375 37.203125 22.4375 36.078125 \nQ 24.265625 34.96875 29 34.421875 \nL 32.078125 33.984375 \nQ 45.515625 32.28125 50.140625 28.375 \nQ 54.78125 24.46875 54.78125 16.109375 \nQ 54.78125 7.375 48.328125 2.96875 \nQ 41.890625 -1.421875 29.109375 -1.421875 \nQ 23.6875 -1.421875 17.890625 -0.5625 \nQ 12.109375 0.296875 6 2 \nL 6 15.28125 \nQ 11.234375 12.75 16.71875 11.46875 \nQ 22.21875 10.203125 27.875 10.203125 \nQ 33.015625 10.203125 35.59375 11.609375 \nQ 38.1875 13.03125 38.1875 15.828125 \nQ 38.1875 18.171875 36.40625 19.3125 \nQ 34.625 20.453125 29.296875 21.09375 \nL 26.21875 21.484375 \nQ 14.546875 22.953125 9.859375 26.90625 \nQ 5.171875 30.859375 5.171875 38.921875 \nQ 5.171875 47.609375 11.125 51.796875 \nQ 17.09375 56 29.390625 56 \nQ 34.234375 56 39.546875 55.265625 \nQ 44.875 54.546875 51.125 52.984375 \nz\n\" id=\"DejaVuSans-Bold-115\"/>\n    <path d=\"M 25.875 7.90625 \nL 25.875 -20.796875 \nL 8.40625 -20.796875 \nL 8.40625 54.6875 \nL 25.875 54.6875 \nL 25.875 46.6875 \nQ 29.5 51.46875 33.890625 53.734375 \nQ 38.28125 56 44 56 \nQ 54.109375 56 60.59375 47.96875 \nQ 67.09375 39.9375 67.09375 27.296875 \nQ 67.09375 14.65625 60.59375 6.609375 \nQ 54.109375 -1.421875 44 -1.421875 \nQ 38.28125 -1.421875 33.890625 0.84375 \nQ 29.5 3.125 25.875 7.90625 \nz\nM 37.5 43.3125 \nQ 31.890625 43.3125 28.875 39.1875 \nQ 25.875 35.0625 25.875 27.296875 \nQ 25.875 19.53125 28.875 15.40625 \nQ 31.890625 11.28125 37.5 11.28125 \nQ 43.109375 11.28125 46.0625 15.375 \nQ 49.03125 19.484375 49.03125 27.296875 \nQ 49.03125 35.109375 46.0625 39.203125 \nQ 43.109375 43.3125 37.5 43.3125 \nz\n\" id=\"DejaVuSans-Bold-112\"/>\n    <path d=\"M 52.59375 52.984375 \nL 52.59375 38.71875 \nQ 49.03125 41.15625 45.4375 42.328125 \nQ 41.84375 43.5 37.984375 43.5 \nQ 30.671875 43.5 26.59375 39.234375 \nQ 22.515625 34.96875 22.515625 27.296875 \nQ 22.515625 19.625 26.59375 15.34375 \nQ 30.671875 11.078125 37.984375 11.078125 \nQ 42.09375 11.078125 45.78125 12.296875 \nQ 49.46875 13.53125 52.59375 15.921875 \nL 52.59375 1.609375 \nQ 48.484375 0.09375 44.265625 -0.65625 \nQ 40.046875 -1.421875 35.796875 -1.421875 \nQ 21 -1.421875 12.640625 6.171875 \nQ 4.296875 13.765625 4.296875 27.296875 \nQ 4.296875 40.828125 12.640625 48.40625 \nQ 21 56 35.796875 56 \nQ 40.09375 56 44.265625 55.25 \nQ 48.4375 54.5 52.59375 52.984375 \nz\n\" id=\"DejaVuSans-Bold-99\"/>\n    <path d=\"M 9.1875 72.90625 \nL 30.171875 72.90625 \nL 56.6875 22.90625 \nL 56.6875 72.90625 \nL 74.515625 72.90625 \nL 74.515625 0 \nL 53.515625 0 \nL 27 50 \nL 27 0 \nL 9.1875 0 \nz\n\" id=\"DejaVuSans-Bold-78\"/>\n    <path d=\"M 5.421875 35.890625 \nL 36.078125 35.890625 \nL 36.078125 21.6875 \nL 5.421875 21.6875 \nz\n\" id=\"DejaVuSans-Bold-45\"/>\n    <path d=\"M 59.90625 70.609375 \nL 59.90625 55.171875 \nQ 53.90625 57.859375 48.1875 59.21875 \nQ 42.484375 60.59375 37.40625 60.59375 \nQ 30.671875 60.59375 27.4375 58.734375 \nQ 24.21875 56.890625 24.21875 52.984375 \nQ 24.21875 50.046875 26.390625 48.40625 \nQ 28.5625 46.78125 34.28125 45.609375 \nL 42.28125 44 \nQ 54.4375 41.546875 59.5625 36.5625 \nQ 64.703125 31.59375 64.703125 22.40625 \nQ 64.703125 10.359375 57.546875 4.46875 \nQ 50.390625 -1.421875 35.6875 -1.421875 \nQ 28.765625 -1.421875 21.78125 -0.09375 \nQ 14.796875 1.21875 7.8125 3.8125 \nL 7.8125 19.671875 \nQ 14.796875 15.96875 21.3125 14.078125 \nQ 27.828125 12.203125 33.890625 12.203125 \nQ 40.046875 12.203125 43.3125 14.25 \nQ 46.578125 16.3125 46.578125 20.125 \nQ 46.578125 23.53125 44.359375 25.390625 \nQ 42.140625 27.25 35.5 28.71875 \nL 28.21875 30.328125 \nQ 17.28125 32.671875 12.21875 37.796875 \nQ 7.171875 42.921875 7.171875 51.609375 \nQ 7.171875 62.5 14.203125 68.359375 \nQ 21.234375 74.21875 34.421875 74.21875 \nQ 40.4375 74.21875 46.78125 73.3125 \nQ 53.125 72.40625 59.90625 70.609375 \nz\n\" id=\"DejaVuSans-Bold-83\"/>\n   </defs>\n   <g style=\"fill:#262626;\" transform=\"translate(28.250937 16.318125)scale(0.12 -0.12)\">\n    <use xlink:href=\"#DejaVuSans-Bold-80\"/>\n    <use x=\"73.291016\" xlink:href=\"#DejaVuSans-Bold-114\"/>\n    <use x=\"122.607422\" xlink:href=\"#DejaVuSans-Bold-111\"/>\n    <use x=\"191.308594\" xlink:href=\"#DejaVuSans-Bold-98\"/>\n    <use x=\"262.890625\" xlink:href=\"#DejaVuSans-Bold-97\"/>\n    <use x=\"330.371094\" xlink:href=\"#DejaVuSans-Bold-98\"/>\n    <use x=\"401.953125\" xlink:href=\"#DejaVuSans-Bold-105\"/>\n    <use x=\"436.230469\" xlink:href=\"#DejaVuSans-Bold-108\"/>\n    <use x=\"470.507812\" xlink:href=\"#DejaVuSans-Bold-105\"/>\n    <use x=\"504.785156\" xlink:href=\"#DejaVuSans-Bold-116\"/>\n    <use x=\"552.587891\" xlink:href=\"#DejaVuSans-Bold-121\"/>\n    <use x=\"617.773438\" xlink:href=\"#DejaVuSans-Bold-32\"/>\n    <use x=\"652.587891\" xlink:href=\"#DejaVuSans-Bold-111\"/>\n    <use x=\"721.289062\" xlink:href=\"#DejaVuSans-Bold-102\"/>\n    <use x=\"764.794922\" xlink:href=\"#DejaVuSans-Bold-32\"/>\n    <use x=\"799.609375\" xlink:href=\"#DejaVuSans-Bold-97\"/>\n    <use x=\"867.089844\" xlink:href=\"#DejaVuSans-Bold-103\"/>\n    <use x=\"938.671875\" xlink:href=\"#DejaVuSans-Bold-101\"/>\n    <use x=\"1006.494141\" xlink:href=\"#DejaVuSans-Bold-32\"/>\n    <use x=\"1041.308594\" xlink:href=\"#DejaVuSans-Bold-119\"/>\n    <use x=\"1133.691406\" xlink:href=\"#DejaVuSans-Bold-105\"/>\n    <use x=\"1167.96875\" xlink:href=\"#DejaVuSans-Bold-116\"/>\n    <use x=\"1215.771484\" xlink:href=\"#DejaVuSans-Bold-104\"/>\n    <use x=\"1286.962891\" xlink:href=\"#DejaVuSans-Bold-32\"/>\n    <use x=\"1321.777344\" xlink:href=\"#DejaVuSans-Bold-114\"/>\n    <use x=\"1371.09375\" xlink:href=\"#DejaVuSans-Bold-101\"/>\n    <use x=\"1438.916016\" xlink:href=\"#DejaVuSans-Bold-115\"/>\n    <use x=\"1498.4375\" xlink:href=\"#DejaVuSans-Bold-112\"/>\n    <use x=\"1570.019531\" xlink:href=\"#DejaVuSans-Bold-101\"/>\n    <use x=\"1637.841797\" xlink:href=\"#DejaVuSans-Bold-99\"/>\n    <use x=\"1697.119141\" xlink:href=\"#DejaVuSans-Bold-116\"/>\n    <use x=\"1744.921875\" xlink:href=\"#DejaVuSans-Bold-32\"/>\n    <use x=\"1779.736328\" xlink:href=\"#DejaVuSans-Bold-116\"/>\n    <use x=\"1827.539062\" xlink:href=\"#DejaVuSans-Bold-111\"/>\n    <use x=\"1896.240234\" xlink:href=\"#DejaVuSans-Bold-32\"/>\n    <use x=\"1931.054688\" xlink:href=\"#DejaVuSans-Bold-78\"/>\n    <use x=\"2014.746094\" xlink:href=\"#DejaVuSans-Bold-111\"/>\n    <use x=\"2083.447266\" xlink:href=\"#DejaVuSans-Bold-45\"/>\n    <use x=\"2124.951172\" xlink:href=\"#DejaVuSans-Bold-83\"/>\n    <use x=\"2196.972656\" xlink:href=\"#DejaVuSans-Bold-104\"/>\n    <use x=\"2268.164062\" xlink:href=\"#DejaVuSans-Bold-111\"/>\n    <use x=\"2336.865234\" xlink:href=\"#DejaVuSans-Bold-119\"/>\n    <use x=\"2429.248047\" xlink:href=\"#DejaVuSans-Bold-32\"/>\n   </g>\n   <!--  -->\n   <g style=\"fill:#262626;\" transform=\"translate(176.09375 29.84925)scale(0.12 -0.12)\"/>\n   <!--  -->\n   <g style=\"fill:#262626;\" transform=\"translate(176.09375 43.286625)scale(0.12 -0.12)\"/>\n   <!--   -->\n   <g style=\"fill:#262626;\" transform=\"translate(174.005 56.724)scale(0.12 -0.12)\">\n    <use xlink:href=\"#DejaVuSans-Bold-32\"/>\n   </g>\n  </g>\n </g>\n <defs>\n  <clipPath id=\"p89d3e4aa27\">\n   <rect height=\"307.4\" width=\"295.15\" x=\"50.14375\" y=\"10.8\"/>\n  </clipPath>\n </defs>\n</svg>\n"
          },
          "metadata": {
            "tags": [],
            "needs_background": "light"
          }
        },
        {
          "output_type": "display_data",
          "data": {
            "text/plain": [
              "<Figure size 360x360 with 1 Axes>"
            ],
            "image/svg+xml": "<?xml version=\"1.0\" encoding=\"utf-8\" standalone=\"no\"?>\n<!DOCTYPE svg PUBLIC \"-//W3C//DTD SVG 1.1//EN\"\n  \"http://www.w3.org/Graphics/SVG/1.1/DTD/svg11.dtd\">\n<!-- Created with matplotlib (https://matplotlib.org/) -->\n<svg height=\"355.128125pt\" version=\"1.1\" viewBox=\"0 0 372.031875 355.128125\" width=\"372.031875pt\" xmlns=\"http://www.w3.org/2000/svg\" xmlns:xlink=\"http://www.w3.org/1999/xlink\">\n <defs>\n  <style type=\"text/css\">\n*{stroke-linecap:butt;stroke-linejoin:round;}\n  </style>\n </defs>\n <g id=\"figure_1\">\n  <g id=\"patch_1\">\n   <path d=\"M 0 355.128125 \nL 372.031875 355.128125 \nL 372.031875 0 \nL 0 0 \nz\n\" style=\"fill:none;\"/>\n  </g>\n  <g id=\"axes_1\">\n   <g id=\"patch_2\">\n    <path d=\"M 53.690938 317.29375 \nL 345.778437 317.29375 \nL 345.778437 10.8 \nL 53.690938 10.8 \nz\n\" style=\"fill:#ffffff;\"/>\n   </g>\n   <g id=\"matplotlib.axis_1\">\n    <g id=\"xtick_1\">\n     <g id=\"line2d_1\">\n      <path clip-path=\"url(#p9f466f2277)\" d=\"M 53.690938 317.29375 \nL 53.690938 10.8 \n\" style=\"fill:none;stroke:#cccccc;stroke-linecap:round;stroke-width:0.8;\"/>\n     </g>\n     <g id=\"text_1\">\n      <!-- 0 -->\n      <defs>\n       <path d=\"M 31.78125 66.40625 \nQ 24.171875 66.40625 20.328125 58.90625 \nQ 16.5 51.421875 16.5 36.375 \nQ 16.5 21.390625 20.328125 13.890625 \nQ 24.171875 6.390625 31.78125 6.390625 \nQ 39.453125 6.390625 43.28125 13.890625 \nQ 47.125 21.390625 47.125 36.375 \nQ 47.125 51.421875 43.28125 58.90625 \nQ 39.453125 66.40625 31.78125 66.40625 \nz\nM 31.78125 74.21875 \nQ 44.046875 74.21875 50.515625 64.515625 \nQ 56.984375 54.828125 56.984375 36.375 \nQ 56.984375 17.96875 50.515625 8.265625 \nQ 44.046875 -1.421875 31.78125 -1.421875 \nQ 19.53125 -1.421875 13.0625 8.265625 \nQ 6.59375 17.96875 6.59375 36.375 \nQ 6.59375 54.828125 13.0625 64.515625 \nQ 19.53125 74.21875 31.78125 74.21875 \nz\n\" id=\"DejaVuSans-48\"/>\n      </defs>\n      <g style=\"fill:#262626;\" transform=\"translate(50.509688 331.892187)scale(0.1 -0.1)\">\n       <use xlink:href=\"#DejaVuSans-48\"/>\n      </g>\n     </g>\n    </g>\n    <g id=\"xtick_2\">\n     <g id=\"line2d_2\">\n      <path clip-path=\"url(#p9f466f2277)\" d=\"M 112.108437 317.29375 \nL 112.108437 10.8 \n\" style=\"fill:none;stroke:#cccccc;stroke-linecap:round;stroke-width:0.8;\"/>\n     </g>\n     <g id=\"text_2\">\n      <!-- 20 -->\n      <defs>\n       <path d=\"M 19.1875 8.296875 \nL 53.609375 8.296875 \nL 53.609375 0 \nL 7.328125 0 \nL 7.328125 8.296875 \nQ 12.9375 14.109375 22.625 23.890625 \nQ 32.328125 33.6875 34.8125 36.53125 \nQ 39.546875 41.84375 41.421875 45.53125 \nQ 43.3125 49.21875 43.3125 52.78125 \nQ 43.3125 58.59375 39.234375 62.25 \nQ 35.15625 65.921875 28.609375 65.921875 \nQ 23.96875 65.921875 18.8125 64.3125 \nQ 13.671875 62.703125 7.8125 59.421875 \nL 7.8125 69.390625 \nQ 13.765625 71.78125 18.9375 73 \nQ 24.125 74.21875 28.421875 74.21875 \nQ 39.75 74.21875 46.484375 68.546875 \nQ 53.21875 62.890625 53.21875 53.421875 \nQ 53.21875 48.921875 51.53125 44.890625 \nQ 49.859375 40.875 45.40625 35.40625 \nQ 44.1875 33.984375 37.640625 27.21875 \nQ 31.109375 20.453125 19.1875 8.296875 \nz\n\" id=\"DejaVuSans-50\"/>\n      </defs>\n      <g style=\"fill:#262626;\" transform=\"translate(105.745937 331.892187)scale(0.1 -0.1)\">\n       <use xlink:href=\"#DejaVuSans-50\"/>\n       <use x=\"63.623047\" xlink:href=\"#DejaVuSans-48\"/>\n      </g>\n     </g>\n    </g>\n    <g id=\"xtick_3\">\n     <g id=\"line2d_3\">\n      <path clip-path=\"url(#p9f466f2277)\" d=\"M 170.525937 317.29375 \nL 170.525937 10.8 \n\" style=\"fill:none;stroke:#cccccc;stroke-linecap:round;stroke-width:0.8;\"/>\n     </g>\n     <g id=\"text_3\">\n      <!-- 40 -->\n      <defs>\n       <path d=\"M 37.796875 64.3125 \nL 12.890625 25.390625 \nL 37.796875 25.390625 \nz\nM 35.203125 72.90625 \nL 47.609375 72.90625 \nL 47.609375 25.390625 \nL 58.015625 25.390625 \nL 58.015625 17.1875 \nL 47.609375 17.1875 \nL 47.609375 0 \nL 37.796875 0 \nL 37.796875 17.1875 \nL 4.890625 17.1875 \nL 4.890625 26.703125 \nz\n\" id=\"DejaVuSans-52\"/>\n      </defs>\n      <g style=\"fill:#262626;\" transform=\"translate(164.163437 331.892187)scale(0.1 -0.1)\">\n       <use xlink:href=\"#DejaVuSans-52\"/>\n       <use x=\"63.623047\" xlink:href=\"#DejaVuSans-48\"/>\n      </g>\n     </g>\n    </g>\n    <g id=\"xtick_4\">\n     <g id=\"line2d_4\">\n      <path clip-path=\"url(#p9f466f2277)\" d=\"M 228.943437 317.29375 \nL 228.943437 10.8 \n\" style=\"fill:none;stroke:#cccccc;stroke-linecap:round;stroke-width:0.8;\"/>\n     </g>\n     <g id=\"text_4\">\n      <!-- 60 -->\n      <defs>\n       <path d=\"M 33.015625 40.375 \nQ 26.375 40.375 22.484375 35.828125 \nQ 18.609375 31.296875 18.609375 23.390625 \nQ 18.609375 15.53125 22.484375 10.953125 \nQ 26.375 6.390625 33.015625 6.390625 \nQ 39.65625 6.390625 43.53125 10.953125 \nQ 47.40625 15.53125 47.40625 23.390625 \nQ 47.40625 31.296875 43.53125 35.828125 \nQ 39.65625 40.375 33.015625 40.375 \nz\nM 52.59375 71.296875 \nL 52.59375 62.3125 \nQ 48.875 64.0625 45.09375 64.984375 \nQ 41.3125 65.921875 37.59375 65.921875 \nQ 27.828125 65.921875 22.671875 59.328125 \nQ 17.53125 52.734375 16.796875 39.40625 \nQ 19.671875 43.65625 24.015625 45.921875 \nQ 28.375 48.1875 33.59375 48.1875 \nQ 44.578125 48.1875 50.953125 41.515625 \nQ 57.328125 34.859375 57.328125 23.390625 \nQ 57.328125 12.15625 50.6875 5.359375 \nQ 44.046875 -1.421875 33.015625 -1.421875 \nQ 20.359375 -1.421875 13.671875 8.265625 \nQ 6.984375 17.96875 6.984375 36.375 \nQ 6.984375 53.65625 15.1875 63.9375 \nQ 23.390625 74.21875 37.203125 74.21875 \nQ 40.921875 74.21875 44.703125 73.484375 \nQ 48.484375 72.75 52.59375 71.296875 \nz\n\" id=\"DejaVuSans-54\"/>\n      </defs>\n      <g style=\"fill:#262626;\" transform=\"translate(222.580937 331.892187)scale(0.1 -0.1)\">\n       <use xlink:href=\"#DejaVuSans-54\"/>\n       <use x=\"63.623047\" xlink:href=\"#DejaVuSans-48\"/>\n      </g>\n     </g>\n    </g>\n    <g id=\"xtick_5\">\n     <g id=\"line2d_5\">\n      <path clip-path=\"url(#p9f466f2277)\" d=\"M 287.360937 317.29375 \nL 287.360937 10.8 \n\" style=\"fill:none;stroke:#cccccc;stroke-linecap:round;stroke-width:0.8;\"/>\n     </g>\n     <g id=\"text_5\">\n      <!-- 80 -->\n      <defs>\n       <path d=\"M 31.78125 34.625 \nQ 24.75 34.625 20.71875 30.859375 \nQ 16.703125 27.09375 16.703125 20.515625 \nQ 16.703125 13.921875 20.71875 10.15625 \nQ 24.75 6.390625 31.78125 6.390625 \nQ 38.8125 6.390625 42.859375 10.171875 \nQ 46.921875 13.96875 46.921875 20.515625 \nQ 46.921875 27.09375 42.890625 30.859375 \nQ 38.875 34.625 31.78125 34.625 \nz\nM 21.921875 38.8125 \nQ 15.578125 40.375 12.03125 44.71875 \nQ 8.5 49.078125 8.5 55.328125 \nQ 8.5 64.0625 14.71875 69.140625 \nQ 20.953125 74.21875 31.78125 74.21875 \nQ 42.671875 74.21875 48.875 69.140625 \nQ 55.078125 64.0625 55.078125 55.328125 \nQ 55.078125 49.078125 51.53125 44.71875 \nQ 48 40.375 41.703125 38.8125 \nQ 48.828125 37.15625 52.796875 32.3125 \nQ 56.78125 27.484375 56.78125 20.515625 \nQ 56.78125 9.90625 50.3125 4.234375 \nQ 43.84375 -1.421875 31.78125 -1.421875 \nQ 19.734375 -1.421875 13.25 4.234375 \nQ 6.78125 9.90625 6.78125 20.515625 \nQ 6.78125 27.484375 10.78125 32.3125 \nQ 14.796875 37.15625 21.921875 38.8125 \nz\nM 18.3125 54.390625 \nQ 18.3125 48.734375 21.84375 45.5625 \nQ 25.390625 42.390625 31.78125 42.390625 \nQ 38.140625 42.390625 41.71875 45.5625 \nQ 45.3125 48.734375 45.3125 54.390625 \nQ 45.3125 60.0625 41.71875 63.234375 \nQ 38.140625 66.40625 31.78125 66.40625 \nQ 25.390625 66.40625 21.84375 63.234375 \nQ 18.3125 60.0625 18.3125 54.390625 \nz\n\" id=\"DejaVuSans-56\"/>\n      </defs>\n      <g style=\"fill:#262626;\" transform=\"translate(280.998437 331.892187)scale(0.1 -0.1)\">\n       <use xlink:href=\"#DejaVuSans-56\"/>\n       <use x=\"63.623047\" xlink:href=\"#DejaVuSans-48\"/>\n      </g>\n     </g>\n    </g>\n    <g id=\"xtick_6\">\n     <g id=\"line2d_6\">\n      <path clip-path=\"url(#p9f466f2277)\" d=\"M 345.778437 317.29375 \nL 345.778437 10.8 \n\" style=\"fill:none;stroke:#cccccc;stroke-linecap:round;stroke-width:0.8;\"/>\n     </g>\n     <g id=\"text_6\">\n      <!-- 100 -->\n      <defs>\n       <path d=\"M 12.40625 8.296875 \nL 28.515625 8.296875 \nL 28.515625 63.921875 \nL 10.984375 60.40625 \nL 10.984375 69.390625 \nL 28.421875 72.90625 \nL 38.28125 72.90625 \nL 38.28125 8.296875 \nL 54.390625 8.296875 \nL 54.390625 0 \nL 12.40625 0 \nz\n\" id=\"DejaVuSans-49\"/>\n      </defs>\n      <g style=\"fill:#262626;\" transform=\"translate(336.234688 331.892187)scale(0.1 -0.1)\">\n       <use xlink:href=\"#DejaVuSans-49\"/>\n       <use x=\"63.623047\" xlink:href=\"#DejaVuSans-48\"/>\n       <use x=\"127.246094\" xlink:href=\"#DejaVuSans-48\"/>\n      </g>\n     </g>\n    </g>\n    <g id=\"text_7\">\n     <!-- waiting_time -->\n     <defs>\n      <path d=\"M 4.203125 54.6875 \nL 13.1875 54.6875 \nL 24.421875 12.015625 \nL 35.59375 54.6875 \nL 46.1875 54.6875 \nL 57.421875 12.015625 \nL 68.609375 54.6875 \nL 77.59375 54.6875 \nL 63.28125 0 \nL 52.6875 0 \nL 40.921875 44.828125 \nL 29.109375 0 \nL 18.5 0 \nz\n\" id=\"DejaVuSans-119\"/>\n      <path d=\"M 34.28125 27.484375 \nQ 23.390625 27.484375 19.1875 25 \nQ 14.984375 22.515625 14.984375 16.5 \nQ 14.984375 11.71875 18.140625 8.90625 \nQ 21.296875 6.109375 26.703125 6.109375 \nQ 34.1875 6.109375 38.703125 11.40625 \nQ 43.21875 16.703125 43.21875 25.484375 \nL 43.21875 27.484375 \nz\nM 52.203125 31.203125 \nL 52.203125 0 \nL 43.21875 0 \nL 43.21875 8.296875 \nQ 40.140625 3.328125 35.546875 0.953125 \nQ 30.953125 -1.421875 24.3125 -1.421875 \nQ 15.921875 -1.421875 10.953125 3.296875 \nQ 6 8.015625 6 15.921875 \nQ 6 25.140625 12.171875 29.828125 \nQ 18.359375 34.515625 30.609375 34.515625 \nL 43.21875 34.515625 \nL 43.21875 35.40625 \nQ 43.21875 41.609375 39.140625 45 \nQ 35.0625 48.390625 27.6875 48.390625 \nQ 23 48.390625 18.546875 47.265625 \nQ 14.109375 46.140625 10.015625 43.890625 \nL 10.015625 52.203125 \nQ 14.9375 54.109375 19.578125 55.046875 \nQ 24.21875 56 28.609375 56 \nQ 40.484375 56 46.34375 49.84375 \nQ 52.203125 43.703125 52.203125 31.203125 \nz\n\" id=\"DejaVuSans-97\"/>\n      <path d=\"M 9.421875 54.6875 \nL 18.40625 54.6875 \nL 18.40625 0 \nL 9.421875 0 \nz\nM 9.421875 75.984375 \nL 18.40625 75.984375 \nL 18.40625 64.59375 \nL 9.421875 64.59375 \nz\n\" id=\"DejaVuSans-105\"/>\n      <path d=\"M 18.3125 70.21875 \nL 18.3125 54.6875 \nL 36.8125 54.6875 \nL 36.8125 47.703125 \nL 18.3125 47.703125 \nL 18.3125 18.015625 \nQ 18.3125 11.328125 20.140625 9.421875 \nQ 21.96875 7.515625 27.59375 7.515625 \nL 36.8125 7.515625 \nL 36.8125 0 \nL 27.59375 0 \nQ 17.1875 0 13.234375 3.875 \nQ 9.28125 7.765625 9.28125 18.015625 \nL 9.28125 47.703125 \nL 2.6875 47.703125 \nL 2.6875 54.6875 \nL 9.28125 54.6875 \nL 9.28125 70.21875 \nz\n\" id=\"DejaVuSans-116\"/>\n      <path d=\"M 54.890625 33.015625 \nL 54.890625 0 \nL 45.90625 0 \nL 45.90625 32.71875 \nQ 45.90625 40.484375 42.875 44.328125 \nQ 39.84375 48.1875 33.796875 48.1875 \nQ 26.515625 48.1875 22.3125 43.546875 \nQ 18.109375 38.921875 18.109375 30.90625 \nL 18.109375 0 \nL 9.078125 0 \nL 9.078125 54.6875 \nL 18.109375 54.6875 \nL 18.109375 46.1875 \nQ 21.34375 51.125 25.703125 53.5625 \nQ 30.078125 56 35.796875 56 \nQ 45.21875 56 50.046875 50.171875 \nQ 54.890625 44.34375 54.890625 33.015625 \nz\n\" id=\"DejaVuSans-110\"/>\n      <path d=\"M 45.40625 27.984375 \nQ 45.40625 37.75 41.375 43.109375 \nQ 37.359375 48.484375 30.078125 48.484375 \nQ 22.859375 48.484375 18.828125 43.109375 \nQ 14.796875 37.75 14.796875 27.984375 \nQ 14.796875 18.265625 18.828125 12.890625 \nQ 22.859375 7.515625 30.078125 7.515625 \nQ 37.359375 7.515625 41.375 12.890625 \nQ 45.40625 18.265625 45.40625 27.984375 \nz\nM 54.390625 6.78125 \nQ 54.390625 -7.171875 48.1875 -13.984375 \nQ 42 -20.796875 29.203125 -20.796875 \nQ 24.46875 -20.796875 20.265625 -20.09375 \nQ 16.0625 -19.390625 12.109375 -17.921875 \nL 12.109375 -9.1875 \nQ 16.0625 -11.328125 19.921875 -12.34375 \nQ 23.78125 -13.375 27.78125 -13.375 \nQ 36.625 -13.375 41.015625 -8.765625 \nQ 45.40625 -4.15625 45.40625 5.171875 \nL 45.40625 9.625 \nQ 42.625 4.78125 38.28125 2.390625 \nQ 33.9375 0 27.875 0 \nQ 17.828125 0 11.671875 7.65625 \nQ 5.515625 15.328125 5.515625 27.984375 \nQ 5.515625 40.671875 11.671875 48.328125 \nQ 17.828125 56 27.875 56 \nQ 33.9375 56 38.28125 53.609375 \nQ 42.625 51.21875 45.40625 46.390625 \nL 45.40625 54.6875 \nL 54.390625 54.6875 \nz\n\" id=\"DejaVuSans-103\"/>\n      <path d=\"M 50.984375 -16.609375 \nL 50.984375 -23.578125 \nL -0.984375 -23.578125 \nL -0.984375 -16.609375 \nz\n\" id=\"DejaVuSans-95\"/>\n      <path d=\"M 52 44.1875 \nQ 55.375 50.25 60.0625 53.125 \nQ 64.75 56 71.09375 56 \nQ 79.640625 56 84.28125 50.015625 \nQ 88.921875 44.046875 88.921875 33.015625 \nL 88.921875 0 \nL 79.890625 0 \nL 79.890625 32.71875 \nQ 79.890625 40.578125 77.09375 44.375 \nQ 74.3125 48.1875 68.609375 48.1875 \nQ 61.625 48.1875 57.5625 43.546875 \nQ 53.515625 38.921875 53.515625 30.90625 \nL 53.515625 0 \nL 44.484375 0 \nL 44.484375 32.71875 \nQ 44.484375 40.625 41.703125 44.40625 \nQ 38.921875 48.1875 33.109375 48.1875 \nQ 26.21875 48.1875 22.15625 43.53125 \nQ 18.109375 38.875 18.109375 30.90625 \nL 18.109375 0 \nL 9.078125 0 \nL 9.078125 54.6875 \nL 18.109375 54.6875 \nL 18.109375 46.1875 \nQ 21.1875 51.21875 25.484375 53.609375 \nQ 29.78125 56 35.6875 56 \nQ 41.65625 56 45.828125 52.96875 \nQ 50 49.953125 52 44.1875 \nz\n\" id=\"DejaVuSans-109\"/>\n      <path d=\"M 56.203125 29.59375 \nL 56.203125 25.203125 \nL 14.890625 25.203125 \nQ 15.484375 15.921875 20.484375 11.0625 \nQ 25.484375 6.203125 34.421875 6.203125 \nQ 39.59375 6.203125 44.453125 7.46875 \nQ 49.3125 8.734375 54.109375 11.28125 \nL 54.109375 2.78125 \nQ 49.265625 0.734375 44.1875 -0.34375 \nQ 39.109375 -1.421875 33.890625 -1.421875 \nQ 20.796875 -1.421875 13.15625 6.1875 \nQ 5.515625 13.8125 5.515625 26.8125 \nQ 5.515625 40.234375 12.765625 48.109375 \nQ 20.015625 56 32.328125 56 \nQ 43.359375 56 49.78125 48.890625 \nQ 56.203125 41.796875 56.203125 29.59375 \nz\nM 47.21875 32.234375 \nQ 47.125 39.59375 43.09375 43.984375 \nQ 39.0625 48.390625 32.421875 48.390625 \nQ 24.90625 48.390625 20.390625 44.140625 \nQ 15.875 39.890625 15.1875 32.171875 \nz\n\" id=\"DejaVuSans-101\"/>\n     </defs>\n     <g style=\"fill:#262626;\" transform=\"translate(167.704219 345.570312)scale(0.1 -0.1)\">\n      <use xlink:href=\"#DejaVuSans-119\"/>\n      <use x=\"81.787109\" xlink:href=\"#DejaVuSans-97\"/>\n      <use x=\"143.066406\" xlink:href=\"#DejaVuSans-105\"/>\n      <use x=\"170.849609\" xlink:href=\"#DejaVuSans-116\"/>\n      <use x=\"210.058594\" xlink:href=\"#DejaVuSans-105\"/>\n      <use x=\"237.841797\" xlink:href=\"#DejaVuSans-110\"/>\n      <use x=\"301.220703\" xlink:href=\"#DejaVuSans-103\"/>\n      <use x=\"364.697266\" xlink:href=\"#DejaVuSans-95\"/>\n      <use x=\"414.697266\" xlink:href=\"#DejaVuSans-116\"/>\n      <use x=\"453.90625\" xlink:href=\"#DejaVuSans-105\"/>\n      <use x=\"481.689453\" xlink:href=\"#DejaVuSans-109\"/>\n      <use x=\"579.101562\" xlink:href=\"#DejaVuSans-101\"/>\n     </g>\n    </g>\n   </g>\n   <g id=\"matplotlib.axis_2\">\n    <g id=\"ytick_1\">\n     <g id=\"line2d_7\">\n      <path clip-path=\"url(#p9f466f2277)\" d=\"M 53.690938 316.084814 \nL 345.778437 316.084814 \n\" style=\"fill:none;stroke:#cccccc;stroke-linecap:round;stroke-width:0.8;\"/>\n     </g>\n     <g id=\"text_8\">\n      <!-- 0.2 -->\n      <defs>\n       <path d=\"M 10.6875 12.40625 \nL 21 12.40625 \nL 21 0 \nL 10.6875 0 \nz\n\" id=\"DejaVuSans-46\"/>\n      </defs>\n      <g style=\"fill:#262626;\" transform=\"translate(30.787813 319.884033)scale(0.1 -0.1)\">\n       <use xlink:href=\"#DejaVuSans-48\"/>\n       <use x=\"63.623047\" xlink:href=\"#DejaVuSans-46\"/>\n       <use x=\"95.410156\" xlink:href=\"#DejaVuSans-50\"/>\n      </g>\n     </g>\n    </g>\n    <g id=\"ytick_2\">\n     <g id=\"line2d_8\">\n      <path clip-path=\"url(#p9f466f2277)\" d=\"M 53.690938 258.833122 \nL 345.778437 258.833122 \n\" style=\"fill:none;stroke:#cccccc;stroke-linecap:round;stroke-width:0.8;\"/>\n     </g>\n     <g id=\"text_9\">\n      <!-- 0.3 -->\n      <defs>\n       <path d=\"M 40.578125 39.3125 \nQ 47.65625 37.796875 51.625 33 \nQ 55.609375 28.21875 55.609375 21.1875 \nQ 55.609375 10.40625 48.1875 4.484375 \nQ 40.765625 -1.421875 27.09375 -1.421875 \nQ 22.515625 -1.421875 17.65625 -0.515625 \nQ 12.796875 0.390625 7.625 2.203125 \nL 7.625 11.71875 \nQ 11.71875 9.328125 16.59375 8.109375 \nQ 21.484375 6.890625 26.8125 6.890625 \nQ 36.078125 6.890625 40.9375 10.546875 \nQ 45.796875 14.203125 45.796875 21.1875 \nQ 45.796875 27.640625 41.28125 31.265625 \nQ 36.765625 34.90625 28.71875 34.90625 \nL 20.21875 34.90625 \nL 20.21875 43.015625 \nL 29.109375 43.015625 \nQ 36.375 43.015625 40.234375 45.921875 \nQ 44.09375 48.828125 44.09375 54.296875 \nQ 44.09375 59.90625 40.109375 62.90625 \nQ 36.140625 65.921875 28.71875 65.921875 \nQ 24.65625 65.921875 20.015625 65.03125 \nQ 15.375 64.15625 9.8125 62.3125 \nL 9.8125 71.09375 \nQ 15.4375 72.65625 20.34375 73.4375 \nQ 25.25 74.21875 29.59375 74.21875 \nQ 40.828125 74.21875 47.359375 69.109375 \nQ 53.90625 64.015625 53.90625 55.328125 \nQ 53.90625 49.265625 50.4375 45.09375 \nQ 46.96875 40.921875 40.578125 39.3125 \nz\n\" id=\"DejaVuSans-51\"/>\n      </defs>\n      <g style=\"fill:#262626;\" transform=\"translate(30.787813 262.63234)scale(0.1 -0.1)\">\n       <use xlink:href=\"#DejaVuSans-48\"/>\n       <use x=\"63.623047\" xlink:href=\"#DejaVuSans-46\"/>\n       <use x=\"95.410156\" xlink:href=\"#DejaVuSans-51\"/>\n      </g>\n     </g>\n    </g>\n    <g id=\"ytick_3\">\n     <g id=\"line2d_9\">\n      <path clip-path=\"url(#p9f466f2277)\" d=\"M 53.690938 201.581429 \nL 345.778437 201.581429 \n\" style=\"fill:none;stroke:#cccccc;stroke-linecap:round;stroke-width:0.8;\"/>\n     </g>\n     <g id=\"text_10\">\n      <!-- 0.4 -->\n      <g style=\"fill:#262626;\" transform=\"translate(30.787813 205.380648)scale(0.1 -0.1)\">\n       <use xlink:href=\"#DejaVuSans-48\"/>\n       <use x=\"63.623047\" xlink:href=\"#DejaVuSans-46\"/>\n       <use x=\"95.410156\" xlink:href=\"#DejaVuSans-52\"/>\n      </g>\n     </g>\n    </g>\n    <g id=\"ytick_4\">\n     <g id=\"line2d_10\">\n      <path clip-path=\"url(#p9f466f2277)\" d=\"M 53.690938 144.329736 \nL 345.778437 144.329736 \n\" style=\"fill:none;stroke:#cccccc;stroke-linecap:round;stroke-width:0.8;\"/>\n     </g>\n     <g id=\"text_11\">\n      <!-- 0.5 -->\n      <defs>\n       <path d=\"M 10.796875 72.90625 \nL 49.515625 72.90625 \nL 49.515625 64.59375 \nL 19.828125 64.59375 \nL 19.828125 46.734375 \nQ 21.96875 47.46875 24.109375 47.828125 \nQ 26.265625 48.1875 28.421875 48.1875 \nQ 40.625 48.1875 47.75 41.5 \nQ 54.890625 34.8125 54.890625 23.390625 \nQ 54.890625 11.625 47.5625 5.09375 \nQ 40.234375 -1.421875 26.90625 -1.421875 \nQ 22.3125 -1.421875 17.546875 -0.640625 \nQ 12.796875 0.140625 7.71875 1.703125 \nL 7.71875 11.625 \nQ 12.109375 9.234375 16.796875 8.0625 \nQ 21.484375 6.890625 26.703125 6.890625 \nQ 35.15625 6.890625 40.078125 11.328125 \nQ 45.015625 15.765625 45.015625 23.390625 \nQ 45.015625 31 40.078125 35.4375 \nQ 35.15625 39.890625 26.703125 39.890625 \nQ 22.75 39.890625 18.8125 39.015625 \nQ 14.890625 38.140625 10.796875 36.28125 \nz\n\" id=\"DejaVuSans-53\"/>\n      </defs>\n      <g style=\"fill:#262626;\" transform=\"translate(30.787813 148.128955)scale(0.1 -0.1)\">\n       <use xlink:href=\"#DejaVuSans-48\"/>\n       <use x=\"63.623047\" xlink:href=\"#DejaVuSans-46\"/>\n       <use x=\"95.410156\" xlink:href=\"#DejaVuSans-53\"/>\n      </g>\n     </g>\n    </g>\n    <g id=\"ytick_5\">\n     <g id=\"line2d_11\">\n      <path clip-path=\"url(#p9f466f2277)\" d=\"M 53.690938 87.078043 \nL 345.778437 87.078043 \n\" style=\"fill:none;stroke:#cccccc;stroke-linecap:round;stroke-width:0.8;\"/>\n     </g>\n     <g id=\"text_12\">\n      <!-- 0.6 -->\n      <g style=\"fill:#262626;\" transform=\"translate(30.787813 90.877262)scale(0.1 -0.1)\">\n       <use xlink:href=\"#DejaVuSans-48\"/>\n       <use x=\"63.623047\" xlink:href=\"#DejaVuSans-46\"/>\n       <use x=\"95.410156\" xlink:href=\"#DejaVuSans-54\"/>\n      </g>\n     </g>\n    </g>\n    <g id=\"ytick_6\">\n     <g id=\"line2d_12\">\n      <path clip-path=\"url(#p9f466f2277)\" d=\"M 53.690938 29.82635 \nL 345.778437 29.82635 \n\" style=\"fill:none;stroke:#cccccc;stroke-linecap:round;stroke-width:0.8;\"/>\n     </g>\n     <g id=\"text_13\">\n      <!-- 0.7 -->\n      <defs>\n       <path d=\"M 8.203125 72.90625 \nL 55.078125 72.90625 \nL 55.078125 68.703125 \nL 28.609375 0 \nL 18.3125 0 \nL 43.21875 64.59375 \nL 8.203125 64.59375 \nz\n\" id=\"DejaVuSans-55\"/>\n      </defs>\n      <g style=\"fill:#262626;\" transform=\"translate(30.787813 33.625569)scale(0.1 -0.1)\">\n       <use xlink:href=\"#DejaVuSans-48\"/>\n       <use x=\"63.623047\" xlink:href=\"#DejaVuSans-46\"/>\n       <use x=\"95.410156\" xlink:href=\"#DejaVuSans-55\"/>\n      </g>\n     </g>\n    </g>\n    <g id=\"text_14\">\n     <!-- probShowUp -->\n     <defs>\n      <path d=\"M 18.109375 8.203125 \nL 18.109375 -20.796875 \nL 9.078125 -20.796875 \nL 9.078125 54.6875 \nL 18.109375 54.6875 \nL 18.109375 46.390625 \nQ 20.953125 51.265625 25.265625 53.625 \nQ 29.59375 56 35.59375 56 \nQ 45.5625 56 51.78125 48.09375 \nQ 58.015625 40.1875 58.015625 27.296875 \nQ 58.015625 14.40625 51.78125 6.484375 \nQ 45.5625 -1.421875 35.59375 -1.421875 \nQ 29.59375 -1.421875 25.265625 0.953125 \nQ 20.953125 3.328125 18.109375 8.203125 \nz\nM 48.6875 27.296875 \nQ 48.6875 37.203125 44.609375 42.84375 \nQ 40.53125 48.484375 33.40625 48.484375 \nQ 26.265625 48.484375 22.1875 42.84375 \nQ 18.109375 37.203125 18.109375 27.296875 \nQ 18.109375 17.390625 22.1875 11.75 \nQ 26.265625 6.109375 33.40625 6.109375 \nQ 40.53125 6.109375 44.609375 11.75 \nQ 48.6875 17.390625 48.6875 27.296875 \nz\n\" id=\"DejaVuSans-112\"/>\n      <path d=\"M 41.109375 46.296875 \nQ 39.59375 47.171875 37.8125 47.578125 \nQ 36.03125 48 33.890625 48 \nQ 26.265625 48 22.1875 43.046875 \nQ 18.109375 38.09375 18.109375 28.8125 \nL 18.109375 0 \nL 9.078125 0 \nL 9.078125 54.6875 \nL 18.109375 54.6875 \nL 18.109375 46.1875 \nQ 20.953125 51.171875 25.484375 53.578125 \nQ 30.03125 56 36.53125 56 \nQ 37.453125 56 38.578125 55.875 \nQ 39.703125 55.765625 41.0625 55.515625 \nz\n\" id=\"DejaVuSans-114\"/>\n      <path d=\"M 30.609375 48.390625 \nQ 23.390625 48.390625 19.1875 42.75 \nQ 14.984375 37.109375 14.984375 27.296875 \nQ 14.984375 17.484375 19.15625 11.84375 \nQ 23.34375 6.203125 30.609375 6.203125 \nQ 37.796875 6.203125 41.984375 11.859375 \nQ 46.1875 17.53125 46.1875 27.296875 \nQ 46.1875 37.015625 41.984375 42.703125 \nQ 37.796875 48.390625 30.609375 48.390625 \nz\nM 30.609375 56 \nQ 42.328125 56 49.015625 48.375 \nQ 55.71875 40.765625 55.71875 27.296875 \nQ 55.71875 13.875 49.015625 6.21875 \nQ 42.328125 -1.421875 30.609375 -1.421875 \nQ 18.84375 -1.421875 12.171875 6.21875 \nQ 5.515625 13.875 5.515625 27.296875 \nQ 5.515625 40.765625 12.171875 48.375 \nQ 18.84375 56 30.609375 56 \nz\n\" id=\"DejaVuSans-111\"/>\n      <path d=\"M 48.6875 27.296875 \nQ 48.6875 37.203125 44.609375 42.84375 \nQ 40.53125 48.484375 33.40625 48.484375 \nQ 26.265625 48.484375 22.1875 42.84375 \nQ 18.109375 37.203125 18.109375 27.296875 \nQ 18.109375 17.390625 22.1875 11.75 \nQ 26.265625 6.109375 33.40625 6.109375 \nQ 40.53125 6.109375 44.609375 11.75 \nQ 48.6875 17.390625 48.6875 27.296875 \nz\nM 18.109375 46.390625 \nQ 20.953125 51.265625 25.265625 53.625 \nQ 29.59375 56 35.59375 56 \nQ 45.5625 56 51.78125 48.09375 \nQ 58.015625 40.1875 58.015625 27.296875 \nQ 58.015625 14.40625 51.78125 6.484375 \nQ 45.5625 -1.421875 35.59375 -1.421875 \nQ 29.59375 -1.421875 25.265625 0.953125 \nQ 20.953125 3.328125 18.109375 8.203125 \nL 18.109375 0 \nL 9.078125 0 \nL 9.078125 75.984375 \nL 18.109375 75.984375 \nz\n\" id=\"DejaVuSans-98\"/>\n      <path d=\"M 53.515625 70.515625 \nL 53.515625 60.890625 \nQ 47.90625 63.578125 42.921875 64.890625 \nQ 37.9375 66.21875 33.296875 66.21875 \nQ 25.25 66.21875 20.875 63.09375 \nQ 16.5 59.96875 16.5 54.203125 \nQ 16.5 49.359375 19.40625 46.890625 \nQ 22.3125 44.4375 30.421875 42.921875 \nL 36.375 41.703125 \nQ 47.40625 39.59375 52.65625 34.296875 \nQ 57.90625 29 57.90625 20.125 \nQ 57.90625 9.515625 50.796875 4.046875 \nQ 43.703125 -1.421875 29.984375 -1.421875 \nQ 24.8125 -1.421875 18.96875 -0.25 \nQ 13.140625 0.921875 6.890625 3.21875 \nL 6.890625 13.375 \nQ 12.890625 10.015625 18.65625 8.296875 \nQ 24.421875 6.59375 29.984375 6.59375 \nQ 38.421875 6.59375 43.015625 9.90625 \nQ 47.609375 13.234375 47.609375 19.390625 \nQ 47.609375 24.75 44.3125 27.78125 \nQ 41.015625 30.8125 33.5 32.328125 \nL 27.484375 33.5 \nQ 16.453125 35.6875 11.515625 40.375 \nQ 6.59375 45.0625 6.59375 53.421875 \nQ 6.59375 63.09375 13.40625 68.65625 \nQ 20.21875 74.21875 32.171875 74.21875 \nQ 37.3125 74.21875 42.625 73.28125 \nQ 47.953125 72.359375 53.515625 70.515625 \nz\n\" id=\"DejaVuSans-83\"/>\n      <path d=\"M 54.890625 33.015625 \nL 54.890625 0 \nL 45.90625 0 \nL 45.90625 32.71875 \nQ 45.90625 40.484375 42.875 44.328125 \nQ 39.84375 48.1875 33.796875 48.1875 \nQ 26.515625 48.1875 22.3125 43.546875 \nQ 18.109375 38.921875 18.109375 30.90625 \nL 18.109375 0 \nL 9.078125 0 \nL 9.078125 75.984375 \nL 18.109375 75.984375 \nL 18.109375 46.1875 \nQ 21.34375 51.125 25.703125 53.5625 \nQ 30.078125 56 35.796875 56 \nQ 45.21875 56 50.046875 50.171875 \nQ 54.890625 44.34375 54.890625 33.015625 \nz\n\" id=\"DejaVuSans-104\"/>\n      <path d=\"M 8.6875 72.90625 \nL 18.609375 72.90625 \nL 18.609375 28.609375 \nQ 18.609375 16.890625 22.84375 11.734375 \nQ 27.09375 6.59375 36.625 6.59375 \nQ 46.09375 6.59375 50.34375 11.734375 \nQ 54.59375 16.890625 54.59375 28.609375 \nL 54.59375 72.90625 \nL 64.5 72.90625 \nL 64.5 27.390625 \nQ 64.5 13.140625 57.4375 5.859375 \nQ 50.390625 -1.421875 36.625 -1.421875 \nQ 22.796875 -1.421875 15.734375 5.859375 \nQ 8.6875 13.140625 8.6875 27.390625 \nz\n\" id=\"DejaVuSans-85\"/>\n     </defs>\n     <g style=\"fill:#262626;\" transform=\"translate(24.708125 195.722656)rotate(-90)scale(0.1 -0.1)\">\n      <use xlink:href=\"#DejaVuSans-112\"/>\n      <use x=\"63.476562\" xlink:href=\"#DejaVuSans-114\"/>\n      <use x=\"102.339844\" xlink:href=\"#DejaVuSans-111\"/>\n      <use x=\"163.521484\" xlink:href=\"#DejaVuSans-98\"/>\n      <use x=\"226.998047\" xlink:href=\"#DejaVuSans-83\"/>\n      <use x=\"290.474609\" xlink:href=\"#DejaVuSans-104\"/>\n      <use x=\"353.853516\" xlink:href=\"#DejaVuSans-111\"/>\n      <use x=\"415.035156\" xlink:href=\"#DejaVuSans-119\"/>\n      <use x=\"496.822266\" xlink:href=\"#DejaVuSans-85\"/>\n      <use x=\"570.015625\" xlink:href=\"#DejaVuSans-112\"/>\n     </g>\n    </g>\n   </g>\n   <g id=\"PathCollection_1\">\n    <defs>\n     <path d=\"M 0 3 \nC 0.795609 3 1.55874 2.683901 2.12132 2.12132 \nC 2.683901 1.55874 3 0.795609 3 0 \nC 3 -0.795609 2.683901 -1.55874 2.12132 -2.12132 \nC 1.55874 -2.683901 0.795609 -3 0 -3 \nC -0.795609 -3 -1.55874 -2.683901 -2.12132 -2.12132 \nC -2.683901 -1.55874 -3 -0.795609 -3 0 \nC -3 0.795609 -2.683901 1.55874 -2.12132 2.12132 \nC -1.55874 2.683901 -0.795609 3 0 3 \nz\n\" id=\"mcd71122f22\" style=\"stroke:#1f77b4;stroke-opacity:0.8;\"/>\n    </defs>\n    <g clip-path=\"url(#p9f466f2277)\">\n     <use style=\"fill:#1f77b4;fill-opacity:0.8;stroke:#1f77b4;stroke-opacity:0.8;\" x=\"53.690938\" xlink:href=\"#mcd71122f22\" y=\"24.731534\"/>\n     <use style=\"fill:#1f77b4;fill-opacity:0.8;stroke:#1f77b4;stroke-opacity:0.8;\" x=\"56.611813\" xlink:href=\"#mcd71122f22\" y=\"248.641566\"/>\n     <use style=\"fill:#1f77b4;fill-opacity:0.8;stroke:#1f77b4;stroke-opacity:0.8;\" x=\"59.532688\" xlink:href=\"#mcd71122f22\" y=\"213.880145\"/>\n     <use style=\"fill:#1f77b4;fill-opacity:0.8;stroke:#1f77b4;stroke-opacity:0.8;\" x=\"62.453563\" xlink:href=\"#mcd71122f22\" y=\"241.868023\"/>\n     <use style=\"fill:#1f77b4;fill-opacity:0.8;stroke:#1f77b4;stroke-opacity:0.8;\" x=\"65.374437\" xlink:href=\"#mcd71122f22\" y=\"225.372409\"/>\n     <use style=\"fill:#1f77b4;fill-opacity:0.8;stroke:#1f77b4;stroke-opacity:0.8;\" x=\"68.295312\" xlink:href=\"#mcd71122f22\" y=\"213.78989\"/>\n     <use style=\"fill:#1f77b4;fill-opacity:0.8;stroke:#1f77b4;stroke-opacity:0.8;\" x=\"71.216188\" xlink:href=\"#mcd71122f22\" y=\"211.262473\"/>\n     <use style=\"fill:#1f77b4;fill-opacity:0.8;stroke:#1f77b4;stroke-opacity:0.8;\" x=\"74.137062\" xlink:href=\"#mcd71122f22\" y=\"212.00054\"/>\n     <use style=\"fill:#1f77b4;fill-opacity:0.8;stroke:#1f77b4;stroke-opacity:0.8;\" x=\"77.057938\" xlink:href=\"#mcd71122f22\" y=\"215.363411\"/>\n     <use style=\"fill:#1f77b4;fill-opacity:0.8;stroke:#1f77b4;stroke-opacity:0.8;\" x=\"79.978813\" xlink:href=\"#mcd71122f22\" y=\"214.978928\"/>\n     <use style=\"fill:#1f77b4;fill-opacity:0.8;stroke:#1f77b4;stroke-opacity:0.8;\" x=\"82.899687\" xlink:href=\"#mcd71122f22\" y=\"199.737232\"/>\n     <use style=\"fill:#1f77b4;fill-opacity:0.8;stroke:#1f77b4;stroke-opacity:0.8;\" x=\"85.820562\" xlink:href=\"#mcd71122f22\" y=\"210.70069\"/>\n     <use style=\"fill:#1f77b4;fill-opacity:0.8;stroke:#1f77b4;stroke-opacity:0.8;\" x=\"88.741438\" xlink:href=\"#mcd71122f22\" y=\"199.107826\"/>\n     <use style=\"fill:#1f77b4;fill-opacity:0.8;stroke:#1f77b4;stroke-opacity:0.8;\" x=\"91.662312\" xlink:href=\"#mcd71122f22\" y=\"195.059732\"/>\n     <use style=\"fill:#1f77b4;fill-opacity:0.8;stroke:#1f77b4;stroke-opacity:0.8;\" x=\"94.583188\" xlink:href=\"#mcd71122f22\" y=\"200.406627\"/>\n     <use style=\"fill:#1f77b4;fill-opacity:0.8;stroke:#1f77b4;stroke-opacity:0.8;\" x=\"97.504063\" xlink:href=\"#mcd71122f22\" y=\"205.960113\"/>\n     <use style=\"fill:#1f77b4;fill-opacity:0.8;stroke:#1f77b4;stroke-opacity:0.8;\" x=\"100.424937\" xlink:href=\"#mcd71122f22\" y=\"194.240402\"/>\n     <use style=\"fill:#1f77b4;fill-opacity:0.8;stroke:#1f77b4;stroke-opacity:0.8;\" x=\"103.345812\" xlink:href=\"#mcd71122f22\" y=\"193.492938\"/>\n     <use style=\"fill:#1f77b4;fill-opacity:0.8;stroke:#1f77b4;stroke-opacity:0.8;\" x=\"106.266687\" xlink:href=\"#mcd71122f22\" y=\"184.411606\"/>\n     <use style=\"fill:#1f77b4;fill-opacity:0.8;stroke:#1f77b4;stroke-opacity:0.8;\" x=\"109.187562\" xlink:href=\"#mcd71122f22\" y=\"193.099697\"/>\n     <use style=\"fill:#1f77b4;fill-opacity:0.8;stroke:#1f77b4;stroke-opacity:0.8;\" x=\"112.108437\" xlink:href=\"#mcd71122f22\" y=\"195.385553\"/>\n     <use style=\"fill:#1f77b4;fill-opacity:0.8;stroke:#1f77b4;stroke-opacity:0.8;\" x=\"115.029313\" xlink:href=\"#mcd71122f22\" y=\"197.199555\"/>\n     <use style=\"fill:#1f77b4;fill-opacity:0.8;stroke:#1f77b4;stroke-opacity:0.8;\" x=\"117.950187\" xlink:href=\"#mcd71122f22\" y=\"196.609515\"/>\n     <use style=\"fill:#1f77b4;fill-opacity:0.8;stroke:#1f77b4;stroke-opacity:0.8;\" x=\"120.871062\" xlink:href=\"#mcd71122f22\" y=\"195.586191\"/>\n     <use style=\"fill:#1f77b4;fill-opacity:0.8;stroke:#1f77b4;stroke-opacity:0.8;\" x=\"123.791938\" xlink:href=\"#mcd71122f22\" y=\"196.604426\"/>\n     <use style=\"fill:#1f77b4;fill-opacity:0.8;stroke:#1f77b4;stroke-opacity:0.8;\" x=\"126.712812\" xlink:href=\"#mcd71122f22\" y=\"191.0606\"/>\n     <use style=\"fill:#1f77b4;fill-opacity:0.8;stroke:#1f77b4;stroke-opacity:0.8;\" x=\"129.633688\" xlink:href=\"#mcd71122f22\" y=\"193.081177\"/>\n     <use style=\"fill:#1f77b4;fill-opacity:0.8;stroke:#1f77b4;stroke-opacity:0.8;\" x=\"132.554562\" xlink:href=\"#mcd71122f22\" y=\"190.65372\"/>\n     <use style=\"fill:#1f77b4;fill-opacity:0.8;stroke:#1f77b4;stroke-opacity:0.8;\" x=\"135.475437\" xlink:href=\"#mcd71122f22\" y=\"190.367549\"/>\n     <use style=\"fill:#1f77b4;fill-opacity:0.8;stroke:#1f77b4;stroke-opacity:0.8;\" x=\"138.396312\" xlink:href=\"#mcd71122f22\" y=\"199.965347\"/>\n     <use style=\"fill:#1f77b4;fill-opacity:0.8;stroke:#1f77b4;stroke-opacity:0.8;\" x=\"141.317187\" xlink:href=\"#mcd71122f22\" y=\"198.003198\"/>\n     <use style=\"fill:#1f77b4;fill-opacity:0.8;stroke:#1f77b4;stroke-opacity:0.8;\" x=\"144.238063\" xlink:href=\"#mcd71122f22\" y=\"193.026809\"/>\n     <use style=\"fill:#1f77b4;fill-opacity:0.8;stroke:#1f77b4;stroke-opacity:0.8;\" x=\"147.158937\" xlink:href=\"#mcd71122f22\" y=\"191.879201\"/>\n     <use style=\"fill:#1f77b4;fill-opacity:0.8;stroke:#1f77b4;stroke-opacity:0.8;\" x=\"150.079813\" xlink:href=\"#mcd71122f22\" y=\"179.53491\"/>\n     <use style=\"fill:#1f77b4;fill-opacity:0.8;stroke:#1f77b4;stroke-opacity:0.8;\" x=\"153.000687\" xlink:href=\"#mcd71122f22\" y=\"191.151795\"/>\n     <use style=\"fill:#1f77b4;fill-opacity:0.8;stroke:#1f77b4;stroke-opacity:0.8;\" x=\"155.921562\" xlink:href=\"#mcd71122f22\" y=\"183.802029\"/>\n     <use style=\"fill:#1f77b4;fill-opacity:0.8;stroke:#1f77b4;stroke-opacity:0.8;\" x=\"158.842437\" xlink:href=\"#mcd71122f22\" y=\"188.426223\"/>\n     <use style=\"fill:#1f77b4;fill-opacity:0.8;stroke:#1f77b4;stroke-opacity:0.8;\" x=\"161.763312\" xlink:href=\"#mcd71122f22\" y=\"189.574906\"/>\n     <use style=\"fill:#1f77b4;fill-opacity:0.8;stroke:#1f77b4;stroke-opacity:0.8;\" x=\"164.684188\" xlink:href=\"#mcd71122f22\" y=\"186.004596\"/>\n     <use style=\"fill:#1f77b4;fill-opacity:0.8;stroke:#1f77b4;stroke-opacity:0.8;\" x=\"167.605062\" xlink:href=\"#mcd71122f22\" y=\"184.745509\"/>\n     <use style=\"fill:#1f77b4;fill-opacity:0.8;stroke:#1f77b4;stroke-opacity:0.8;\" x=\"170.525937\" xlink:href=\"#mcd71122f22\" y=\"201.02151\"/>\n     <use style=\"fill:#1f77b4;fill-opacity:0.8;stroke:#1f77b4;stroke-opacity:0.8;\" x=\"173.446812\" xlink:href=\"#mcd71122f22\" y=\"174.95977\"/>\n     <use style=\"fill:#1f77b4;fill-opacity:0.8;stroke:#1f77b4;stroke-opacity:0.8;\" x=\"176.367687\" xlink:href=\"#mcd71122f22\" y=\"187.774368\"/>\n     <use style=\"fill:#1f77b4;fill-opacity:0.8;stroke:#1f77b4;stroke-opacity:0.8;\" x=\"179.288562\" xlink:href=\"#mcd71122f22\" y=\"176.866576\"/>\n     <use style=\"fill:#1f77b4;fill-opacity:0.8;stroke:#1f77b4;stroke-opacity:0.8;\" x=\"182.209437\" xlink:href=\"#mcd71122f22\" y=\"192.181897\"/>\n     <use style=\"fill:#1f77b4;fill-opacity:0.8;stroke:#1f77b4;stroke-opacity:0.8;\" x=\"185.130313\" xlink:href=\"#mcd71122f22\" y=\"172.376833\"/>\n     <use style=\"fill:#1f77b4;fill-opacity:0.8;stroke:#1f77b4;stroke-opacity:0.8;\" x=\"188.051187\" xlink:href=\"#mcd71122f22\" y=\"185.661172\"/>\n     <use style=\"fill:#1f77b4;fill-opacity:0.8;stroke:#1f77b4;stroke-opacity:0.8;\" x=\"190.972062\" xlink:href=\"#mcd71122f22\" y=\"173.355944\"/>\n     <use style=\"fill:#1f77b4;fill-opacity:0.8;stroke:#1f77b4;stroke-opacity:0.8;\" x=\"193.892938\" xlink:href=\"#mcd71122f22\" y=\"180.596183\"/>\n     <use style=\"fill:#1f77b4;fill-opacity:0.8;stroke:#1f77b4;stroke-opacity:0.8;\" x=\"196.813812\" xlink:href=\"#mcd71122f22\" y=\"185.441324\"/>\n     <use style=\"fill:#1f77b4;fill-opacity:0.8;stroke:#1f77b4;stroke-opacity:0.8;\" x=\"199.734688\" xlink:href=\"#mcd71122f22\" y=\"153.09275\"/>\n     <use style=\"fill:#1f77b4;fill-opacity:0.8;stroke:#1f77b4;stroke-opacity:0.8;\" x=\"202.655562\" xlink:href=\"#mcd71122f22\" y=\"170.478346\"/>\n     <use style=\"fill:#1f77b4;fill-opacity:0.8;stroke:#1f77b4;stroke-opacity:0.8;\" x=\"205.576437\" xlink:href=\"#mcd71122f22\" y=\"169.994288\"/>\n     <use style=\"fill:#1f77b4;fill-opacity:0.8;stroke:#1f77b4;stroke-opacity:0.8;\" x=\"208.497312\" xlink:href=\"#mcd71122f22\" y=\"195.599909\"/>\n     <use style=\"fill:#1f77b4;fill-opacity:0.8;stroke:#1f77b4;stroke-opacity:0.8;\" x=\"211.418187\" xlink:href=\"#mcd71122f22\" y=\"172.365359\"/>\n     <use style=\"fill:#1f77b4;fill-opacity:0.8;stroke:#1f77b4;stroke-opacity:0.8;\" x=\"214.339063\" xlink:href=\"#mcd71122f22\" y=\"181.755754\"/>\n     <use style=\"fill:#1f77b4;fill-opacity:0.8;stroke:#1f77b4;stroke-opacity:0.8;\" x=\"217.259937\" xlink:href=\"#mcd71122f22\" y=\"175.48712\"/>\n     <use style=\"fill:#1f77b4;fill-opacity:0.8;stroke:#1f77b4;stroke-opacity:0.8;\" x=\"220.180813\" xlink:href=\"#mcd71122f22\" y=\"195.130534\"/>\n     <use style=\"fill:#1f77b4;fill-opacity:0.8;stroke:#1f77b4;stroke-opacity:0.8;\" x=\"223.101687\" xlink:href=\"#mcd71122f22\" y=\"161.706448\"/>\n     <use style=\"fill:#1f77b4;fill-opacity:0.8;stroke:#1f77b4;stroke-opacity:0.8;\" x=\"226.022562\" xlink:href=\"#mcd71122f22\" y=\"184.722035\"/>\n     <use style=\"fill:#1f77b4;fill-opacity:0.8;stroke:#1f77b4;stroke-opacity:0.8;\" x=\"228.943437\" xlink:href=\"#mcd71122f22\" y=\"186.738397\"/>\n     <use style=\"fill:#1f77b4;fill-opacity:0.8;stroke:#1f77b4;stroke-opacity:0.8;\" x=\"231.864312\" xlink:href=\"#mcd71122f22\" y=\"142.110678\"/>\n     <use style=\"fill:#1f77b4;fill-opacity:0.8;stroke:#1f77b4;stroke-opacity:0.8;\" x=\"234.785188\" xlink:href=\"#mcd71122f22\" y=\"128.456896\"/>\n     <use style=\"fill:#1f77b4;fill-opacity:0.8;stroke:#1f77b4;stroke-opacity:0.8;\" x=\"237.706062\" xlink:href=\"#mcd71122f22\" y=\"143.646542\"/>\n     <use style=\"fill:#1f77b4;fill-opacity:0.8;stroke:#1f77b4;stroke-opacity:0.8;\" x=\"240.626937\" xlink:href=\"#mcd71122f22\" y=\"150.219828\"/>\n     <use style=\"fill:#1f77b4;fill-opacity:0.8;stroke:#1f77b4;stroke-opacity:0.8;\" x=\"243.547812\" xlink:href=\"#mcd71122f22\" y=\"133.103914\"/>\n     <use style=\"fill:#1f77b4;fill-opacity:0.8;stroke:#1f77b4;stroke-opacity:0.8;\" x=\"246.468687\" xlink:href=\"#mcd71122f22\" y=\"91.151286\"/>\n     <use style=\"fill:#1f77b4;fill-opacity:0.8;stroke:#1f77b4;stroke-opacity:0.8;\" x=\"249.389562\" xlink:href=\"#mcd71122f22\" y=\"137.823862\"/>\n     <use style=\"fill:#1f77b4;fill-opacity:0.8;stroke:#1f77b4;stroke-opacity:0.8;\" x=\"252.310437\" xlink:href=\"#mcd71122f22\" y=\"148.251085\"/>\n     <use style=\"fill:#1f77b4;fill-opacity:0.8;stroke:#1f77b4;stroke-opacity:0.8;\" x=\"255.231313\" xlink:href=\"#mcd71122f22\" y=\"131.41582\"/>\n     <use style=\"fill:#1f77b4;fill-opacity:0.8;stroke:#1f77b4;stroke-opacity:0.8;\" x=\"258.152187\" xlink:href=\"#mcd71122f22\" y=\"171.286811\"/>\n     <use style=\"fill:#1f77b4;fill-opacity:0.8;stroke:#1f77b4;stroke-opacity:0.8;\" x=\"261.073062\" xlink:href=\"#mcd71122f22\" y=\"163.135037\"/>\n     <use style=\"fill:#1f77b4;fill-opacity:0.8;stroke:#1f77b4;stroke-opacity:0.8;\" x=\"263.993937\" xlink:href=\"#mcd71122f22\" y=\"136.266117\"/>\n     <use style=\"fill:#1f77b4;fill-opacity:0.8;stroke:#1f77b4;stroke-opacity:0.8;\" x=\"266.914812\" xlink:href=\"#mcd71122f22\" y=\"201.581429\"/>\n     <use style=\"fill:#1f77b4;fill-opacity:0.8;stroke:#1f77b4;stroke-opacity:0.8;\" x=\"269.835688\" xlink:href=\"#mcd71122f22\" y=\"87.078043\"/>\n     <use style=\"fill:#1f77b4;fill-opacity:0.8;stroke:#1f77b4;stroke-opacity:0.8;\" x=\"272.756562\" xlink:href=\"#mcd71122f22\" y=\"145.768221\"/>\n     <use style=\"fill:#1f77b4;fill-opacity:0.8;stroke:#1f77b4;stroke-opacity:0.8;\" x=\"275.677437\" xlink:href=\"#mcd71122f22\" y=\"172.257391\"/>\n     <use style=\"fill:#1f77b4;fill-opacity:0.8;stroke:#1f77b4;stroke-opacity:0.8;\" x=\"278.598312\" xlink:href=\"#mcd71122f22\" y=\"189.359157\"/>\n     <use style=\"fill:#1f77b4;fill-opacity:0.8;stroke:#1f77b4;stroke-opacity:0.8;\" x=\"281.519187\" xlink:href=\"#mcd71122f22\" y=\"195.22013\"/>\n     <use style=\"fill:#1f77b4;fill-opacity:0.8;stroke:#1f77b4;stroke-opacity:0.8;\" x=\"284.440062\" xlink:href=\"#mcd71122f22\" y=\"206.223458\"/>\n     <use style=\"fill:#1f77b4;fill-opacity:0.8;stroke:#1f77b4;stroke-opacity:0.8;\" x=\"287.360937\" xlink:href=\"#mcd71122f22\" y=\"203.398943\"/>\n     <use style=\"fill:#1f77b4;fill-opacity:0.8;stroke:#1f77b4;stroke-opacity:0.8;\" x=\"290.281813\" xlink:href=\"#mcd71122f22\" y=\"157.147279\"/>\n     <use style=\"fill:#1f77b4;fill-opacity:0.8;stroke:#1f77b4;stroke-opacity:0.8;\" x=\"293.202687\" xlink:href=\"#mcd71122f22\" y=\"208.73789\"/>\n     <use style=\"fill:#1f77b4;fill-opacity:0.8;stroke:#1f77b4;stroke-opacity:0.8;\" x=\"296.123562\" xlink:href=\"#mcd71122f22\" y=\"185.967331\"/>\n     <use style=\"fill:#1f77b4;fill-opacity:0.8;stroke:#1f77b4;stroke-opacity:0.8;\" x=\"299.044437\" xlink:href=\"#mcd71122f22\" y=\"135.095592\"/>\n     <use style=\"fill:#1f77b4;fill-opacity:0.8;stroke:#1f77b4;stroke-opacity:0.8;\" x=\"301.965312\" xlink:href=\"#mcd71122f22\" y=\"249.793381\"/>\n     <use style=\"fill:#1f77b4;fill-opacity:0.8;stroke:#1f77b4;stroke-opacity:0.8;\" x=\"304.886187\" xlink:href=\"#mcd71122f22\" y=\"205.051228\"/>\n     <use style=\"fill:#1f77b4;fill-opacity:0.8;stroke:#1f77b4;stroke-opacity:0.8;\" x=\"307.807062\" xlink:href=\"#mcd71122f22\" y=\"221.696888\"/>\n     <use style=\"fill:#1f77b4;fill-opacity:0.8;stroke:#1f77b4;stroke-opacity:0.8;\" x=\"310.727937\" xlink:href=\"#mcd71122f22\" y=\"249.291173\"/>\n     <use style=\"fill:#1f77b4;fill-opacity:0.8;stroke:#1f77b4;stroke-opacity:0.8;\" x=\"313.648812\" xlink:href=\"#mcd71122f22\" y=\"144.329736\"/>\n     <use style=\"fill:#1f77b4;fill-opacity:0.8;stroke:#1f77b4;stroke-opacity:0.8;\" x=\"316.569687\" xlink:href=\"#mcd71122f22\" y=\"138.487727\"/>\n     <use style=\"fill:#1f77b4;fill-opacity:0.8;stroke:#1f77b4;stroke-opacity:0.8;\" x=\"319.490563\" xlink:href=\"#mcd71122f22\" y=\"215.010838\"/>\n     <use style=\"fill:#1f77b4;fill-opacity:0.8;stroke:#1f77b4;stroke-opacity:0.8;\" x=\"322.411437\" xlink:href=\"#mcd71122f22\" y=\"239.749224\"/>\n     <use style=\"fill:#1f77b4;fill-opacity:0.8;stroke:#1f77b4;stroke-opacity:0.8;\" x=\"325.332313\" xlink:href=\"#mcd71122f22\" y=\"271.153106\"/>\n     <use style=\"fill:#1f77b4;fill-opacity:0.8;stroke:#1f77b4;stroke-opacity:0.8;\" x=\"328.253187\" xlink:href=\"#mcd71122f22\" y=\"222.400226\"/>\n     <use style=\"fill:#1f77b4;fill-opacity:0.8;stroke:#1f77b4;stroke-opacity:0.8;\" x=\"331.174062\" xlink:href=\"#mcd71122f22\" y=\"273.42669\"/>\n     <use style=\"fill:#1f77b4;fill-opacity:0.8;stroke:#1f77b4;stroke-opacity:0.8;\" x=\"334.094938\" xlink:href=\"#mcd71122f22\" y=\"269.315826\"/>\n     <use style=\"fill:#1f77b4;fill-opacity:0.8;stroke:#1f77b4;stroke-opacity:0.8;\" x=\"337.015812\" xlink:href=\"#mcd71122f22\" y=\"250.844513\"/>\n     <use style=\"fill:#1f77b4;fill-opacity:0.8;stroke:#1f77b4;stroke-opacity:0.8;\" x=\"339.936688\" xlink:href=\"#mcd71122f22\" y=\"215.894352\"/>\n     <use style=\"fill:#1f77b4;fill-opacity:0.8;stroke:#1f77b4;stroke-opacity:0.8;\" x=\"342.857562\" xlink:href=\"#mcd71122f22\" y=\"205.929659\"/>\n     <use style=\"fill:#1f77b4;fill-opacity:0.8;stroke:#1f77b4;stroke-opacity:0.8;\" x=\"345.778437\" xlink:href=\"#mcd71122f22\" y=\"303.362216\"/>\n    </g>\n   </g>\n   <g id=\"PolyCollection_1\">\n    <defs>\n     <path d=\"M 53.690938 -187.462797 \nL 53.690938 -154.442809 \nL 56.641316 -154.717715 \nL 59.591695 -154.915503 \nL 62.542074 -155.072276 \nL 65.492453 -155.368007 \nL 68.442831 -155.539056 \nL 71.39321 -155.831763 \nL 74.343589 -156.129227 \nL 77.293968 -156.429904 \nL 80.244347 -156.869396 \nL 83.194725 -157.099652 \nL 86.145104 -157.319485 \nL 89.095483 -157.460956 \nL 92.045862 -157.759025 \nL 94.996241 -157.990206 \nL 97.946619 -158.003418 \nL 100.896998 -158.337231 \nL 103.847377 -158.493656 \nL 106.797756 -158.852073 \nL 109.748134 -159.063953 \nL 112.698513 -159.221746 \nL 115.648892 -159.338105 \nL 118.599271 -159.488228 \nL 121.54965 -159.500014 \nL 124.500028 -159.628571 \nL 127.450407 -159.69925 \nL 130.400786 -159.749111 \nL 133.351165 -159.954066 \nL 136.301544 -160.006793 \nL 139.251922 -160.062807 \nL 142.202301 -160.109039 \nL 145.15268 -160.054886 \nL 148.103059 -160.203988 \nL 151.053438 -160.119936 \nL 154.003816 -160.124393 \nL 156.954195 -160.134041 \nL 159.904574 -160.015962 \nL 162.854953 -160.064704 \nL 165.805331 -159.965837 \nL 168.75571 -159.966753 \nL 171.706089 -159.84144 \nL 174.656468 -159.803102 \nL 177.606847 -159.727884 \nL 180.557225 -159.629285 \nL 183.507604 -159.540517 \nL 186.457983 -159.429796 \nL 189.408362 -159.192769 \nL 192.358741 -158.969175 \nL 195.309119 -158.881275 \nL 198.259498 -158.788609 \nL 201.209877 -158.593765 \nL 204.160256 -158.331499 \nL 207.110634 -158.291479 \nL 210.061013 -158.220169 \nL 213.011392 -158.096948 \nL 215.961771 -157.965779 \nL 218.91215 -157.667899 \nL 221.862528 -157.49722 \nL 224.812907 -157.233793 \nL 227.763286 -157.127466 \nL 230.713665 -156.907985 \nL 233.664044 -156.67541 \nL 236.614422 -156.348584 \nL 239.564801 -156.012704 \nL 242.51518 -155.806428 \nL 245.465559 -155.707471 \nL 248.415937 -155.460129 \nL 251.366316 -155.162361 \nL 254.316695 -154.843053 \nL 257.267074 -154.527129 \nL 260.217453 -154.212277 \nL 263.167831 -153.869638 \nL 266.11821 -153.464299 \nL 269.068589 -153.062006 \nL 272.018968 -152.695211 \nL 274.969347 -152.318167 \nL 277.919725 -151.84577 \nL 280.870104 -151.495045 \nL 283.820483 -151.208925 \nL 286.770862 -150.907417 \nL 289.721241 -150.683165 \nL 292.671619 -150.412987 \nL 295.621998 -150.136964 \nL 298.572377 -149.863749 \nL 301.522756 -149.509481 \nL 304.473134 -149.172947 \nL 307.423513 -148.989149 \nL 310.373892 -148.782023 \nL 313.324271 -148.471289 \nL 316.27465 -148.089265 \nL 319.225028 -147.656642 \nL 322.175407 -147.224883 \nL 325.125786 -146.793124 \nL 328.076165 -146.361364 \nL 331.026544 -145.931594 \nL 333.976922 -145.502236 \nL 336.927301 -145.086805 \nL 339.87768 -144.705981 \nL 342.828059 -144.202764 \nL 345.778437 -143.787288 \nL 345.778437 -185.155963 \nL 345.778437 -185.155963 \nL 342.828059 -184.818146 \nL 339.87768 -184.593136 \nL 336.927301 -184.371849 \nL 333.976922 -184.150561 \nL 331.026544 -183.929273 \nL 328.076165 -183.68168 \nL 325.125786 -183.377666 \nL 322.175407 -182.996431 \nL 319.225028 -182.614017 \nL 316.27465 -182.313781 \nL 313.324271 -182.066544 \nL 310.373892 -181.859807 \nL 307.423513 -181.569554 \nL 304.473134 -181.253898 \nL 301.522756 -180.974557 \nL 298.572377 -180.76182 \nL 295.621998 -180.503502 \nL 292.671619 -180.183815 \nL 289.721241 -179.99046 \nL 286.770862 -179.736914 \nL 283.820483 -179.562692 \nL 280.870104 -179.361088 \nL 277.919725 -179.080208 \nL 274.969347 -178.764439 \nL 272.018968 -178.502309 \nL 269.068589 -178.282377 \nL 266.11821 -178.062446 \nL 263.167831 -177.842515 \nL 260.217453 -177.638038 \nL 257.267074 -177.404143 \nL 254.316695 -177.149131 \nL 251.366316 -176.965119 \nL 248.415937 -176.746781 \nL 245.465559 -176.525996 \nL 242.51518 -176.232483 \nL 239.564801 -175.976399 \nL 236.614422 -175.694068 \nL 233.664044 -175.42893 \nL 230.713665 -175.264084 \nL 227.763286 -175.050722 \nL 224.812907 -174.887539 \nL 221.862528 -174.779327 \nL 218.91215 -174.599661 \nL 215.961771 -174.621841 \nL 213.011392 -174.616978 \nL 210.061013 -174.56198 \nL 207.110634 -174.410379 \nL 204.160256 -174.485644 \nL 201.209877 -174.567387 \nL 198.259498 -174.474966 \nL 195.309119 -174.306434 \nL 192.358741 -174.071256 \nL 189.408362 -174.067709 \nL 186.457983 -174.23362 \nL 183.507604 -174.367367 \nL 180.557225 -174.489441 \nL 177.606847 -174.627014 \nL 174.656468 -174.716146 \nL 171.706089 -174.8918 \nL 168.75571 -175.024747 \nL 165.805331 -175.157693 \nL 162.854953 -175.409879 \nL 159.904574 -175.652152 \nL 156.954195 -175.820112 \nL 154.003816 -176.191023 \nL 151.053438 -176.442765 \nL 148.103059 -176.64352 \nL 145.15268 -176.702421 \nL 142.202301 -176.870741 \nL 139.251922 -177.161154 \nL 136.301544 -177.501615 \nL 133.351165 -177.920224 \nL 130.400786 -178.302271 \nL 127.450407 -178.672448 \nL 124.500028 -178.836106 \nL 121.54965 -179.102863 \nL 118.599271 -179.466009 \nL 115.648892 -179.852811 \nL 112.698513 -180.135098 \nL 109.748134 -180.385907 \nL 106.797756 -180.624698 \nL 103.847377 -181.020514 \nL 100.896998 -181.459925 \nL 97.946619 -181.641602 \nL 94.996241 -182.031584 \nL 92.045862 -182.42447 \nL 89.095483 -182.817356 \nL 86.145104 -183.210005 \nL 83.194725 -183.599586 \nL 80.244347 -183.995689 \nL 77.293968 -184.441537 \nL 74.343589 -184.781784 \nL 71.39321 -185.17467 \nL 68.442831 -185.567556 \nL 65.492453 -185.960442 \nL 62.542074 -186.353327 \nL 59.591695 -186.728815 \nL 56.641316 -187.095806 \nL 53.690938 -187.462797 \nz\n\" id=\"md633e387b4\" style=\"stroke:#ffffff;stroke-opacity:0.15;\"/>\n    </defs>\n    <g clip-path=\"url(#p9f466f2277)\">\n     <use style=\"fill:#ff0000;fill-opacity:0.15;stroke:#ffffff;stroke-opacity:0.15;\" x=\"0\" xlink:href=\"#md633e387b4\" y=\"355.128125\"/>\n    </g>\n   </g>\n   <g id=\"line2d_13\">\n    <path clip-path=\"url(#p9f466f2277)\" d=\"M 53.690938 186.099465 \nL 56.641316 186.149963 \nL 59.591695 186.200462 \nL 62.542074 186.250961 \nL 65.492453 186.30146 \nL 68.442831 186.351958 \nL 71.39321 186.402457 \nL 74.343589 186.452956 \nL 77.293968 186.503455 \nL 80.244347 186.553954 \nL 83.194725 186.604452 \nL 86.145104 186.654951 \nL 89.095483 186.70545 \nL 92.045862 186.755949 \nL 94.996241 186.806448 \nL 97.946619 186.856946 \nL 100.896998 186.907445 \nL 103.847377 186.957944 \nL 106.797756 187.008443 \nL 109.748134 187.058942 \nL 112.698513 187.10944 \nL 115.648892 187.159939 \nL 118.599271 187.210438 \nL 121.54965 187.260937 \nL 124.500028 187.311436 \nL 127.450407 187.361934 \nL 130.400786 187.412433 \nL 133.351165 187.462932 \nL 136.301544 187.513431 \nL 139.251922 187.563929 \nL 142.202301 187.614428 \nL 145.15268 187.664927 \nL 148.103059 187.715426 \nL 151.053438 187.765925 \nL 154.003816 187.816423 \nL 156.954195 187.866922 \nL 159.904574 187.917421 \nL 162.854953 187.96792 \nL 165.805331 188.018419 \nL 168.75571 188.068917 \nL 171.706089 188.119416 \nL 174.656468 188.169915 \nL 177.606847 188.220414 \nL 180.557225 188.270913 \nL 183.507604 188.321411 \nL 186.457983 188.37191 \nL 189.408362 188.422409 \nL 192.358741 188.472908 \nL 195.309119 188.523407 \nL 198.259498 188.573905 \nL 201.209877 188.624404 \nL 204.160256 188.674903 \nL 207.110634 188.725402 \nL 210.061013 188.7759 \nL 213.011392 188.826399 \nL 215.961771 188.876898 \nL 218.91215 188.927397 \nL 221.862528 188.977896 \nL 224.812907 189.028394 \nL 227.763286 189.078893 \nL 230.713665 189.129392 \nL 233.664044 189.179891 \nL 236.614422 189.23039 \nL 239.564801 189.280888 \nL 242.51518 189.331387 \nL 245.465559 189.381886 \nL 248.415937 189.432385 \nL 251.366316 189.482884 \nL 254.316695 189.533382 \nL 257.267074 189.583881 \nL 260.217453 189.63438 \nL 263.167831 189.684879 \nL 266.11821 189.735378 \nL 269.068589 189.785876 \nL 272.018968 189.836375 \nL 274.969347 189.886874 \nL 277.919725 189.937373 \nL 280.870104 189.987872 \nL 283.820483 190.03837 \nL 286.770862 190.088869 \nL 289.721241 190.139368 \nL 292.671619 190.189867 \nL 295.621998 190.240365 \nL 298.572377 190.290864 \nL 301.522756 190.341363 \nL 304.473134 190.391862 \nL 307.423513 190.442361 \nL 310.373892 190.492859 \nL 313.324271 190.543358 \nL 316.27465 190.593857 \nL 319.225028 190.644356 \nL 322.175407 190.694855 \nL 325.125786 190.745353 \nL 328.076165 190.795852 \nL 331.026544 190.846351 \nL 333.976922 190.89685 \nL 336.927301 190.947349 \nL 339.87768 190.997847 \nL 342.828059 191.048346 \nL 345.778437 191.098845 \n\" style=\"fill:none;stroke:#ff0000;stroke-linecap:round;stroke-width:2.25;\"/>\n   </g>\n   <g id=\"patch_3\">\n    <path d=\"M 53.690938 317.29375 \nL 53.690938 10.8 \n\" style=\"fill:none;stroke:#cccccc;stroke-linecap:square;stroke-linejoin:miter;stroke-width:0.8;\"/>\n   </g>\n   <g id=\"patch_4\">\n    <path d=\"M 53.690938 317.29375 \nL 345.778437 317.29375 \n\" style=\"fill:none;stroke:#cccccc;stroke-linecap:square;stroke-linejoin:miter;stroke-width:0.8;\"/>\n   </g>\n  </g>\n  <g id=\"text_15\">\n   <!-- Probability of waiting_time with respect to No-Show  -->\n   <defs>\n    <path d=\"M 9.1875 72.90625 \nL 40.375 72.90625 \nQ 54.296875 72.90625 61.734375 66.71875 \nQ 69.1875 60.546875 69.1875 49.125 \nQ 69.1875 37.640625 61.734375 31.46875 \nQ 54.296875 25.296875 40.375 25.296875 \nL 27.984375 25.296875 \nL 27.984375 0 \nL 9.1875 0 \nz\nM 27.984375 59.28125 \nL 27.984375 38.921875 \nL 38.375 38.921875 \nQ 43.84375 38.921875 46.828125 41.578125 \nQ 49.8125 44.234375 49.8125 49.125 \nQ 49.8125 54 46.828125 56.640625 \nQ 43.84375 59.28125 38.375 59.28125 \nz\n\" id=\"DejaVuSans-Bold-80\"/>\n    <path d=\"M 49.03125 39.796875 \nQ 46.734375 40.875 44.453125 41.375 \nQ 42.1875 41.890625 39.890625 41.890625 \nQ 33.15625 41.890625 29.515625 37.5625 \nQ 25.875 33.25 25.875 25.203125 \nL 25.875 0 \nL 8.40625 0 \nL 8.40625 54.6875 \nL 25.875 54.6875 \nL 25.875 45.703125 \nQ 29.25 51.078125 33.609375 53.53125 \nQ 37.984375 56 44.09375 56 \nQ 44.96875 56 45.984375 55.921875 \nQ 47.015625 55.859375 48.96875 55.609375 \nz\n\" id=\"DejaVuSans-Bold-114\"/>\n    <path d=\"M 34.421875 43.5 \nQ 28.609375 43.5 25.5625 39.328125 \nQ 22.515625 35.15625 22.515625 27.296875 \nQ 22.515625 19.4375 25.5625 15.25 \nQ 28.609375 11.078125 34.421875 11.078125 \nQ 40.140625 11.078125 43.15625 15.25 \nQ 46.1875 19.4375 46.1875 27.296875 \nQ 46.1875 35.15625 43.15625 39.328125 \nQ 40.140625 43.5 34.421875 43.5 \nz\nM 34.421875 56 \nQ 48.53125 56 56.46875 48.375 \nQ 64.40625 40.765625 64.40625 27.296875 \nQ 64.40625 13.8125 56.46875 6.1875 \nQ 48.53125 -1.421875 34.421875 -1.421875 \nQ 20.265625 -1.421875 12.28125 6.1875 \nQ 4.296875 13.8125 4.296875 27.296875 \nQ 4.296875 40.765625 12.28125 48.375 \nQ 20.265625 56 34.421875 56 \nz\n\" id=\"DejaVuSans-Bold-111\"/>\n    <path d=\"M 37.5 11.28125 \nQ 43.109375 11.28125 46.0625 15.375 \nQ 49.03125 19.484375 49.03125 27.296875 \nQ 49.03125 35.109375 46.0625 39.203125 \nQ 43.109375 43.3125 37.5 43.3125 \nQ 31.890625 43.3125 28.875 39.1875 \nQ 25.875 35.0625 25.875 27.296875 \nQ 25.875 19.53125 28.875 15.40625 \nQ 31.890625 11.28125 37.5 11.28125 \nz\nM 25.875 46.6875 \nQ 29.5 51.46875 33.890625 53.734375 \nQ 38.28125 56 44 56 \nQ 54.109375 56 60.59375 47.96875 \nQ 67.09375 39.9375 67.09375 27.296875 \nQ 67.09375 14.65625 60.59375 6.609375 \nQ 54.109375 -1.421875 44 -1.421875 \nQ 38.28125 -1.421875 33.890625 0.84375 \nQ 29.5 3.125 25.875 7.90625 \nL 25.875 0 \nL 8.40625 0 \nL 8.40625 75.984375 \nL 25.875 75.984375 \nz\n\" id=\"DejaVuSans-Bold-98\"/>\n    <path d=\"M 32.90625 24.609375 \nQ 27.4375 24.609375 24.671875 22.75 \nQ 21.921875 20.90625 21.921875 17.28125 \nQ 21.921875 13.96875 24.140625 12.078125 \nQ 26.375 10.203125 30.328125 10.203125 \nQ 35.25 10.203125 38.625 13.734375 \nQ 42 17.28125 42 22.609375 \nL 42 24.609375 \nz\nM 59.625 31.203125 \nL 59.625 0 \nL 42 0 \nL 42 8.109375 \nQ 38.484375 3.125 34.078125 0.84375 \nQ 29.6875 -1.421875 23.390625 -1.421875 \nQ 14.890625 -1.421875 9.59375 3.53125 \nQ 4.296875 8.5 4.296875 16.40625 \nQ 4.296875 26.03125 10.90625 30.515625 \nQ 17.53125 35.015625 31.6875 35.015625 \nL 42 35.015625 \nL 42 36.375 \nQ 42 40.53125 38.71875 42.453125 \nQ 35.453125 44.390625 28.515625 44.390625 \nQ 22.90625 44.390625 18.0625 43.265625 \nQ 13.234375 42.140625 9.078125 39.890625 \nL 9.078125 53.21875 \nQ 14.703125 54.59375 20.359375 55.296875 \nQ 26.03125 56 31.6875 56 \nQ 46.484375 56 53.046875 50.171875 \nQ 59.625 44.34375 59.625 31.203125 \nz\n\" id=\"DejaVuSans-Bold-97\"/>\n    <path d=\"M 8.40625 54.6875 \nL 25.875 54.6875 \nL 25.875 0 \nL 8.40625 0 \nz\nM 8.40625 75.984375 \nL 25.875 75.984375 \nL 25.875 61.71875 \nL 8.40625 61.71875 \nz\n\" id=\"DejaVuSans-Bold-105\"/>\n    <path d=\"M 8.40625 75.984375 \nL 25.875 75.984375 \nL 25.875 0 \nL 8.40625 0 \nz\n\" id=\"DejaVuSans-Bold-108\"/>\n    <path d=\"M 27.484375 70.21875 \nL 27.484375 54.6875 \nL 45.515625 54.6875 \nL 45.515625 42.1875 \nL 27.484375 42.1875 \nL 27.484375 19 \nQ 27.484375 15.1875 29 13.84375 \nQ 30.515625 12.5 35.015625 12.5 \nL 44 12.5 \nL 44 0 \nL 29 0 \nQ 18.65625 0 14.328125 4.3125 \nQ 10.015625 8.640625 10.015625 19 \nL 10.015625 42.1875 \nL 1.3125 42.1875 \nL 1.3125 54.6875 \nL 10.015625 54.6875 \nL 10.015625 70.21875 \nz\n\" id=\"DejaVuSans-Bold-116\"/>\n    <path d=\"M 1.21875 54.6875 \nL 18.703125 54.6875 \nL 33.40625 17.578125 \nL 45.90625 54.6875 \nL 63.375 54.6875 \nL 40.375 -5.171875 \nQ 36.921875 -14.3125 32.296875 -17.9375 \nQ 27.6875 -21.578125 20.125 -21.578125 \nL 10.015625 -21.578125 \nL 10.015625 -10.109375 \nL 15.484375 -10.109375 \nQ 19.921875 -10.109375 21.9375 -8.6875 \nQ 23.96875 -7.28125 25.09375 -3.609375 \nL 25.59375 -2.09375 \nz\n\" id=\"DejaVuSans-Bold-121\"/>\n    <path id=\"DejaVuSans-Bold-32\"/>\n    <path d=\"M 44.390625 75.984375 \nL 44.390625 64.5 \nL 34.71875 64.5 \nQ 31 64.5 29.53125 63.15625 \nQ 28.078125 61.8125 28.078125 58.5 \nL 28.078125 54.6875 \nL 43.015625 54.6875 \nL 43.015625 42.1875 \nL 28.078125 42.1875 \nL 28.078125 0 \nL 10.59375 0 \nL 10.59375 42.1875 \nL 1.90625 42.1875 \nL 1.90625 54.6875 \nL 10.59375 54.6875 \nL 10.59375 58.5 \nQ 10.59375 67.4375 15.578125 71.703125 \nQ 20.5625 75.984375 31 75.984375 \nz\n\" id=\"DejaVuSans-Bold-102\"/>\n    <path d=\"M 3.515625 54.6875 \nL 20.515625 54.6875 \nL 29.6875 17 \nL 38.921875 54.6875 \nL 53.515625 54.6875 \nL 62.703125 17.390625 \nL 71.921875 54.6875 \nL 88.921875 54.6875 \nL 74.515625 0 \nL 55.421875 0 \nL 46.1875 37.59375 \nL 37.015625 0 \nL 17.921875 0 \nz\n\" id=\"DejaVuSans-Bold-119\"/>\n    <path d=\"M 63.375 33.296875 \nL 63.375 0 \nL 45.796875 0 \nL 45.796875 5.421875 \nL 45.796875 25.484375 \nQ 45.796875 32.5625 45.484375 35.25 \nQ 45.171875 37.9375 44.390625 39.203125 \nQ 43.359375 40.921875 41.59375 41.875 \nQ 39.84375 42.828125 37.59375 42.828125 \nQ 32.125 42.828125 29 38.59375 \nQ 25.875 34.375 25.875 26.90625 \nL 25.875 0 \nL 8.40625 0 \nL 8.40625 54.6875 \nL 25.875 54.6875 \nL 25.875 46.6875 \nQ 29.828125 51.46875 34.265625 53.734375 \nQ 38.71875 56 44.09375 56 \nQ 53.5625 56 58.46875 50.1875 \nQ 63.375 44.390625 63.375 33.296875 \nz\n\" id=\"DejaVuSans-Bold-110\"/>\n    <path d=\"M 45.609375 9.28125 \nQ 42 4.5 37.640625 2.25 \nQ 33.296875 0 27.59375 0 \nQ 17.578125 0 11.03125 7.875 \nQ 4.5 15.765625 4.5 27.984375 \nQ 4.5 40.234375 11.03125 48.0625 \nQ 17.578125 55.90625 27.59375 55.90625 \nQ 33.296875 55.90625 37.640625 53.65625 \nQ 42 51.421875 45.609375 46.578125 \nL 45.609375 54.6875 \nL 63.1875 54.6875 \nL 63.1875 5.515625 \nQ 63.1875 -7.671875 54.859375 -14.625 \nQ 46.53125 -21.578125 30.71875 -21.578125 \nQ 25.59375 -21.578125 20.796875 -20.796875 \nQ 16.015625 -20.015625 11.1875 -18.40625 \nL 11.1875 -4.78125 \nQ 15.765625 -7.421875 20.15625 -8.71875 \nQ 24.5625 -10.015625 29 -10.015625 \nQ 37.59375 -10.015625 41.59375 -6.25 \nQ 45.609375 -2.484375 45.609375 5.515625 \nz\nM 34.078125 43.3125 \nQ 28.65625 43.3125 25.625 39.296875 \nQ 22.609375 35.296875 22.609375 27.984375 \nQ 22.609375 20.453125 25.53125 16.578125 \nQ 28.46875 12.703125 34.078125 12.703125 \nQ 39.546875 12.703125 42.578125 16.703125 \nQ 45.609375 20.703125 45.609375 27.984375 \nQ 45.609375 35.296875 42.578125 39.296875 \nQ 39.546875 43.3125 34.078125 43.3125 \nz\n\" id=\"DejaVuSans-Bold-103\"/>\n    <path d=\"M 50 -14.3125 \nL 50 -23.578125 \nL 0 -23.578125 \nL 0 -14.3125 \nz\n\" id=\"DejaVuSans-Bold-95\"/>\n    <path d=\"M 59.078125 45.609375 \nQ 62.40625 50.6875 66.96875 53.34375 \nQ 71.53125 56 77 56 \nQ 86.421875 56 91.359375 50.1875 \nQ 96.296875 44.390625 96.296875 33.296875 \nL 96.296875 0 \nL 78.71875 0 \nL 78.71875 28.515625 \nQ 78.765625 29.15625 78.78125 29.828125 \nQ 78.8125 30.515625 78.8125 31.78125 \nQ 78.8125 37.59375 77.09375 40.203125 \nQ 75.390625 42.828125 71.578125 42.828125 \nQ 66.609375 42.828125 63.890625 38.71875 \nQ 61.1875 34.625 61.078125 26.859375 \nL 61.078125 0 \nL 43.5 0 \nL 43.5 28.515625 \nQ 43.5 37.59375 41.9375 40.203125 \nQ 40.375 42.828125 36.375 42.828125 \nQ 31.34375 42.828125 28.609375 38.703125 \nQ 25.875 34.578125 25.875 26.90625 \nL 25.875 0 \nL 8.296875 0 \nL 8.296875 54.6875 \nL 25.875 54.6875 \nL 25.875 46.6875 \nQ 29.109375 51.3125 33.28125 53.65625 \nQ 37.453125 56 42.484375 56 \nQ 48.140625 56 52.484375 53.265625 \nQ 56.84375 50.53125 59.078125 45.609375 \nz\n\" id=\"DejaVuSans-Bold-109\"/>\n    <path d=\"M 62.984375 27.484375 \nL 62.984375 22.515625 \nL 22.125 22.515625 \nQ 22.75 16.359375 26.5625 13.28125 \nQ 30.375 10.203125 37.203125 10.203125 \nQ 42.71875 10.203125 48.5 11.84375 \nQ 54.296875 13.484375 60.40625 16.796875 \nL 60.40625 3.328125 \nQ 54.203125 0.984375 48 -0.21875 \nQ 41.796875 -1.421875 35.59375 -1.421875 \nQ 20.75 -1.421875 12.515625 6.125 \nQ 4.296875 13.671875 4.296875 27.296875 \nQ 4.296875 40.671875 12.375 48.328125 \nQ 20.453125 56 34.625 56 \nQ 47.515625 56 55.25 48.234375 \nQ 62.984375 40.484375 62.984375 27.484375 \nz\nM 45.015625 33.296875 \nQ 45.015625 38.28125 42.109375 41.328125 \nQ 39.203125 44.390625 34.515625 44.390625 \nQ 29.4375 44.390625 26.265625 41.53125 \nQ 23.09375 38.671875 22.3125 33.296875 \nz\n\" id=\"DejaVuSans-Bold-101\"/>\n    <path d=\"M 63.375 33.296875 \nL 63.375 0 \nL 45.796875 0 \nL 45.796875 5.421875 \nL 45.796875 25.390625 \nQ 45.796875 32.5625 45.484375 35.25 \nQ 45.171875 37.9375 44.390625 39.203125 \nQ 43.359375 40.921875 41.59375 41.875 \nQ 39.84375 42.828125 37.59375 42.828125 \nQ 32.125 42.828125 29 38.59375 \nQ 25.875 34.375 25.875 26.90625 \nL 25.875 0 \nL 8.40625 0 \nL 8.40625 75.984375 \nL 25.875 75.984375 \nL 25.875 46.6875 \nQ 29.828125 51.46875 34.265625 53.734375 \nQ 38.71875 56 44.09375 56 \nQ 53.5625 56 58.46875 50.1875 \nQ 63.375 44.390625 63.375 33.296875 \nz\n\" id=\"DejaVuSans-Bold-104\"/>\n    <path d=\"M 51.125 52.984375 \nL 51.125 39.703125 \nQ 45.515625 42.046875 40.28125 43.21875 \nQ 35.0625 44.390625 30.421875 44.390625 \nQ 25.4375 44.390625 23.015625 43.140625 \nQ 20.609375 41.890625 20.609375 39.3125 \nQ 20.609375 37.203125 22.4375 36.078125 \nQ 24.265625 34.96875 29 34.421875 \nL 32.078125 33.984375 \nQ 45.515625 32.28125 50.140625 28.375 \nQ 54.78125 24.46875 54.78125 16.109375 \nQ 54.78125 7.375 48.328125 2.96875 \nQ 41.890625 -1.421875 29.109375 -1.421875 \nQ 23.6875 -1.421875 17.890625 -0.5625 \nQ 12.109375 0.296875 6 2 \nL 6 15.28125 \nQ 11.234375 12.75 16.71875 11.46875 \nQ 22.21875 10.203125 27.875 10.203125 \nQ 33.015625 10.203125 35.59375 11.609375 \nQ 38.1875 13.03125 38.1875 15.828125 \nQ 38.1875 18.171875 36.40625 19.3125 \nQ 34.625 20.453125 29.296875 21.09375 \nL 26.21875 21.484375 \nQ 14.546875 22.953125 9.859375 26.90625 \nQ 5.171875 30.859375 5.171875 38.921875 \nQ 5.171875 47.609375 11.125 51.796875 \nQ 17.09375 56 29.390625 56 \nQ 34.234375 56 39.546875 55.265625 \nQ 44.875 54.546875 51.125 52.984375 \nz\n\" id=\"DejaVuSans-Bold-115\"/>\n    <path d=\"M 25.875 7.90625 \nL 25.875 -20.796875 \nL 8.40625 -20.796875 \nL 8.40625 54.6875 \nL 25.875 54.6875 \nL 25.875 46.6875 \nQ 29.5 51.46875 33.890625 53.734375 \nQ 38.28125 56 44 56 \nQ 54.109375 56 60.59375 47.96875 \nQ 67.09375 39.9375 67.09375 27.296875 \nQ 67.09375 14.65625 60.59375 6.609375 \nQ 54.109375 -1.421875 44 -1.421875 \nQ 38.28125 -1.421875 33.890625 0.84375 \nQ 29.5 3.125 25.875 7.90625 \nz\nM 37.5 43.3125 \nQ 31.890625 43.3125 28.875 39.1875 \nQ 25.875 35.0625 25.875 27.296875 \nQ 25.875 19.53125 28.875 15.40625 \nQ 31.890625 11.28125 37.5 11.28125 \nQ 43.109375 11.28125 46.0625 15.375 \nQ 49.03125 19.484375 49.03125 27.296875 \nQ 49.03125 35.109375 46.0625 39.203125 \nQ 43.109375 43.3125 37.5 43.3125 \nz\n\" id=\"DejaVuSans-Bold-112\"/>\n    <path d=\"M 52.59375 52.984375 \nL 52.59375 38.71875 \nQ 49.03125 41.15625 45.4375 42.328125 \nQ 41.84375 43.5 37.984375 43.5 \nQ 30.671875 43.5 26.59375 39.234375 \nQ 22.515625 34.96875 22.515625 27.296875 \nQ 22.515625 19.625 26.59375 15.34375 \nQ 30.671875 11.078125 37.984375 11.078125 \nQ 42.09375 11.078125 45.78125 12.296875 \nQ 49.46875 13.53125 52.59375 15.921875 \nL 52.59375 1.609375 \nQ 48.484375 0.09375 44.265625 -0.65625 \nQ 40.046875 -1.421875 35.796875 -1.421875 \nQ 21 -1.421875 12.640625 6.171875 \nQ 4.296875 13.765625 4.296875 27.296875 \nQ 4.296875 40.828125 12.640625 48.40625 \nQ 21 56 35.796875 56 \nQ 40.09375 56 44.265625 55.25 \nQ 48.4375 54.5 52.59375 52.984375 \nz\n\" id=\"DejaVuSans-Bold-99\"/>\n    <path d=\"M 9.1875 72.90625 \nL 30.171875 72.90625 \nL 56.6875 22.90625 \nL 56.6875 72.90625 \nL 74.515625 72.90625 \nL 74.515625 0 \nL 53.515625 0 \nL 27 50 \nL 27 0 \nL 9.1875 0 \nz\n\" id=\"DejaVuSans-Bold-78\"/>\n    <path d=\"M 5.421875 35.890625 \nL 36.078125 35.890625 \nL 36.078125 21.6875 \nL 5.421875 21.6875 \nz\n\" id=\"DejaVuSans-Bold-45\"/>\n    <path d=\"M 59.90625 70.609375 \nL 59.90625 55.171875 \nQ 53.90625 57.859375 48.1875 59.21875 \nQ 42.484375 60.59375 37.40625 60.59375 \nQ 30.671875 60.59375 27.4375 58.734375 \nQ 24.21875 56.890625 24.21875 52.984375 \nQ 24.21875 50.046875 26.390625 48.40625 \nQ 28.5625 46.78125 34.28125 45.609375 \nL 42.28125 44 \nQ 54.4375 41.546875 59.5625 36.5625 \nQ 64.703125 31.59375 64.703125 22.40625 \nQ 64.703125 10.359375 57.546875 4.46875 \nQ 50.390625 -1.421875 35.6875 -1.421875 \nQ 28.765625 -1.421875 21.78125 -0.09375 \nQ 14.796875 1.21875 7.8125 3.8125 \nL 7.8125 19.671875 \nQ 14.796875 15.96875 21.3125 14.078125 \nQ 27.828125 12.203125 33.890625 12.203125 \nQ 40.046875 12.203125 43.3125 14.25 \nQ 46.578125 16.3125 46.578125 20.125 \nQ 46.578125 23.53125 44.359375 25.390625 \nQ 42.140625 27.25 35.5 28.71875 \nL 28.21875 30.328125 \nQ 17.28125 32.671875 12.21875 37.796875 \nQ 7.171875 42.921875 7.171875 51.609375 \nQ 7.171875 62.5 14.203125 68.359375 \nQ 21.234375 74.21875 34.421875 74.21875 \nQ 40.4375 74.21875 46.78125 73.3125 \nQ 53.125 72.40625 59.90625 70.609375 \nz\n\" id=\"DejaVuSans-Bold-83\"/>\n   </defs>\n   <g style=\"fill:#262626;\" transform=\"translate(7.2 16.318125)scale(0.12 -0.12)\">\n    <use xlink:href=\"#DejaVuSans-Bold-80\"/>\n    <use x=\"73.291016\" xlink:href=\"#DejaVuSans-Bold-114\"/>\n    <use x=\"122.607422\" xlink:href=\"#DejaVuSans-Bold-111\"/>\n    <use x=\"191.308594\" xlink:href=\"#DejaVuSans-Bold-98\"/>\n    <use x=\"262.890625\" xlink:href=\"#DejaVuSans-Bold-97\"/>\n    <use x=\"330.371094\" xlink:href=\"#DejaVuSans-Bold-98\"/>\n    <use x=\"401.953125\" xlink:href=\"#DejaVuSans-Bold-105\"/>\n    <use x=\"436.230469\" xlink:href=\"#DejaVuSans-Bold-108\"/>\n    <use x=\"470.507812\" xlink:href=\"#DejaVuSans-Bold-105\"/>\n    <use x=\"504.785156\" xlink:href=\"#DejaVuSans-Bold-116\"/>\n    <use x=\"552.587891\" xlink:href=\"#DejaVuSans-Bold-121\"/>\n    <use x=\"617.773438\" xlink:href=\"#DejaVuSans-Bold-32\"/>\n    <use x=\"652.587891\" xlink:href=\"#DejaVuSans-Bold-111\"/>\n    <use x=\"721.289062\" xlink:href=\"#DejaVuSans-Bold-102\"/>\n    <use x=\"764.794922\" xlink:href=\"#DejaVuSans-Bold-32\"/>\n    <use x=\"799.609375\" xlink:href=\"#DejaVuSans-Bold-119\"/>\n    <use x=\"891.992188\" xlink:href=\"#DejaVuSans-Bold-97\"/>\n    <use x=\"959.472656\" xlink:href=\"#DejaVuSans-Bold-105\"/>\n    <use x=\"993.75\" xlink:href=\"#DejaVuSans-Bold-116\"/>\n    <use x=\"1041.552734\" xlink:href=\"#DejaVuSans-Bold-105\"/>\n    <use x=\"1075.830078\" xlink:href=\"#DejaVuSans-Bold-110\"/>\n    <use x=\"1147.021484\" xlink:href=\"#DejaVuSans-Bold-103\"/>\n    <use x=\"1218.603516\" xlink:href=\"#DejaVuSans-Bold-95\"/>\n    <use x=\"1268.603516\" xlink:href=\"#DejaVuSans-Bold-116\"/>\n    <use x=\"1316.40625\" xlink:href=\"#DejaVuSans-Bold-105\"/>\n    <use x=\"1350.683594\" xlink:href=\"#DejaVuSans-Bold-109\"/>\n    <use x=\"1454.882812\" xlink:href=\"#DejaVuSans-Bold-101\"/>\n    <use x=\"1522.705078\" xlink:href=\"#DejaVuSans-Bold-32\"/>\n    <use x=\"1557.519531\" xlink:href=\"#DejaVuSans-Bold-119\"/>\n    <use x=\"1649.902344\" xlink:href=\"#DejaVuSans-Bold-105\"/>\n    <use x=\"1684.179688\" xlink:href=\"#DejaVuSans-Bold-116\"/>\n    <use x=\"1731.982422\" xlink:href=\"#DejaVuSans-Bold-104\"/>\n    <use x=\"1803.173828\" xlink:href=\"#DejaVuSans-Bold-32\"/>\n    <use x=\"1837.988281\" xlink:href=\"#DejaVuSans-Bold-114\"/>\n    <use x=\"1887.304688\" xlink:href=\"#DejaVuSans-Bold-101\"/>\n    <use x=\"1955.126953\" xlink:href=\"#DejaVuSans-Bold-115\"/>\n    <use x=\"2014.648438\" xlink:href=\"#DejaVuSans-Bold-112\"/>\n    <use x=\"2086.230469\" xlink:href=\"#DejaVuSans-Bold-101\"/>\n    <use x=\"2154.052734\" xlink:href=\"#DejaVuSans-Bold-99\"/>\n    <use x=\"2213.330078\" xlink:href=\"#DejaVuSans-Bold-116\"/>\n    <use x=\"2261.132812\" xlink:href=\"#DejaVuSans-Bold-32\"/>\n    <use x=\"2295.947266\" xlink:href=\"#DejaVuSans-Bold-116\"/>\n    <use x=\"2343.75\" xlink:href=\"#DejaVuSans-Bold-111\"/>\n    <use x=\"2412.451172\" xlink:href=\"#DejaVuSans-Bold-32\"/>\n    <use x=\"2447.265625\" xlink:href=\"#DejaVuSans-Bold-78\"/>\n    <use x=\"2530.957031\" xlink:href=\"#DejaVuSans-Bold-111\"/>\n    <use x=\"2599.658203\" xlink:href=\"#DejaVuSans-Bold-45\"/>\n    <use x=\"2641.162109\" xlink:href=\"#DejaVuSans-Bold-83\"/>\n    <use x=\"2713.183594\" xlink:href=\"#DejaVuSans-Bold-104\"/>\n    <use x=\"2784.375\" xlink:href=\"#DejaVuSans-Bold-111\"/>\n    <use x=\"2853.076172\" xlink:href=\"#DejaVuSans-Bold-119\"/>\n    <use x=\"2945.458984\" xlink:href=\"#DejaVuSans-Bold-32\"/>\n   </g>\n   <!--  -->\n   <g style=\"fill:#262626;\" transform=\"translate(186.015937 30.08925)scale(0.12 -0.12)\"/>\n   <!--  -->\n   <g style=\"fill:#262626;\" transform=\"translate(186.015937 43.526625)scale(0.12 -0.12)\"/>\n   <!--   -->\n   <g style=\"fill:#262626;\" transform=\"translate(183.927187 56.964)scale(0.12 -0.12)\">\n    <use xlink:href=\"#DejaVuSans-Bold-32\"/>\n   </g>\n  </g>\n </g>\n <defs>\n  <clipPath id=\"p9f466f2277\">\n   <rect height=\"306.49375\" width=\"292.0875\" x=\"53.690938\" y=\"10.8\"/>\n  </clipPath>\n </defs>\n</svg>\n"
          },
          "metadata": {
            "tags": [],
            "needs_background": "light"
          }
        },
        {
          "output_type": "display_data",
          "data": {
            "text/plain": [
              "<Figure size 360x360 with 1 Axes>"
            ],
            "image/svg+xml": "<?xml version=\"1.0\" encoding=\"utf-8\" standalone=\"no\"?>\n<!DOCTYPE svg PUBLIC \"-//W3C//DTD SVG 1.1//EN\"\n  \"http://www.w3.org/Graphics/SVG/1.1/DTD/svg11.dtd\">\n<!-- Created with matplotlib (https://matplotlib.org/) -->\n<svg height=\"355.128125pt\" version=\"1.1\" viewBox=\"0 0 366.105 355.128125\" width=\"366.105pt\" xmlns=\"http://www.w3.org/2000/svg\" xmlns:xlink=\"http://www.w3.org/1999/xlink\">\n <defs>\n  <style type=\"text/css\">\n*{stroke-linecap:butt;stroke-linejoin:round;}\n  </style>\n </defs>\n <g id=\"figure_1\">\n  <g id=\"patch_1\">\n   <path d=\"M -0 355.128125 \nL 366.105 355.128125 \nL 366.105 0 \nL -0 0 \nz\n\" style=\"fill:none;\"/>\n  </g>\n  <g id=\"axes_1\">\n   <g id=\"patch_2\">\n    <path d=\"M 50.7275 317.29375 \nL 352.2525 317.29375 \nL 352.2525 10.8 \nL 50.7275 10.8 \nz\n\" style=\"fill:#ffffff;\"/>\n   </g>\n   <g id=\"matplotlib.axis_1\">\n    <g id=\"xtick_1\">\n     <g id=\"line2d_1\">\n      <path clip-path=\"url(#p2e02891536)\" d=\"M 50.7275 317.29375 \nL 50.7275 10.8 \n\" style=\"fill:none;stroke:#cccccc;stroke-linecap:round;stroke-width:0.8;\"/>\n     </g>\n     <g id=\"text_1\">\n      <!-- 6 -->\n      <defs>\n       <path d=\"M 33.015625 40.375 \nQ 26.375 40.375 22.484375 35.828125 \nQ 18.609375 31.296875 18.609375 23.390625 \nQ 18.609375 15.53125 22.484375 10.953125 \nQ 26.375 6.390625 33.015625 6.390625 \nQ 39.65625 6.390625 43.53125 10.953125 \nQ 47.40625 15.53125 47.40625 23.390625 \nQ 47.40625 31.296875 43.53125 35.828125 \nQ 39.65625 40.375 33.015625 40.375 \nz\nM 52.59375 71.296875 \nL 52.59375 62.3125 \nQ 48.875 64.0625 45.09375 64.984375 \nQ 41.3125 65.921875 37.59375 65.921875 \nQ 27.828125 65.921875 22.671875 59.328125 \nQ 17.53125 52.734375 16.796875 39.40625 \nQ 19.671875 43.65625 24.015625 45.921875 \nQ 28.375 48.1875 33.59375 48.1875 \nQ 44.578125 48.1875 50.953125 41.515625 \nQ 57.328125 34.859375 57.328125 23.390625 \nQ 57.328125 12.15625 50.6875 5.359375 \nQ 44.046875 -1.421875 33.015625 -1.421875 \nQ 20.359375 -1.421875 13.671875 8.265625 \nQ 6.984375 17.96875 6.984375 36.375 \nQ 6.984375 53.65625 15.1875 63.9375 \nQ 23.390625 74.21875 37.203125 74.21875 \nQ 40.921875 74.21875 44.703125 73.484375 \nQ 48.484375 72.75 52.59375 71.296875 \nz\n\" id=\"DejaVuSans-54\"/>\n      </defs>\n      <g style=\"fill:#262626;\" transform=\"translate(47.54625 331.892187)scale(0.1 -0.1)\">\n       <use xlink:href=\"#DejaVuSans-54\"/>\n      </g>\n     </g>\n    </g>\n    <g id=\"xtick_2\">\n     <g id=\"line2d_2\">\n      <path clip-path=\"url(#p2e02891536)\" d=\"M 86.201029 317.29375 \nL 86.201029 10.8 \n\" style=\"fill:none;stroke:#cccccc;stroke-linecap:round;stroke-width:0.8;\"/>\n     </g>\n     <g id=\"text_2\">\n      <!-- 8 -->\n      <defs>\n       <path d=\"M 31.78125 34.625 \nQ 24.75 34.625 20.71875 30.859375 \nQ 16.703125 27.09375 16.703125 20.515625 \nQ 16.703125 13.921875 20.71875 10.15625 \nQ 24.75 6.390625 31.78125 6.390625 \nQ 38.8125 6.390625 42.859375 10.171875 \nQ 46.921875 13.96875 46.921875 20.515625 \nQ 46.921875 27.09375 42.890625 30.859375 \nQ 38.875 34.625 31.78125 34.625 \nz\nM 21.921875 38.8125 \nQ 15.578125 40.375 12.03125 44.71875 \nQ 8.5 49.078125 8.5 55.328125 \nQ 8.5 64.0625 14.71875 69.140625 \nQ 20.953125 74.21875 31.78125 74.21875 \nQ 42.671875 74.21875 48.875 69.140625 \nQ 55.078125 64.0625 55.078125 55.328125 \nQ 55.078125 49.078125 51.53125 44.71875 \nQ 48 40.375 41.703125 38.8125 \nQ 48.828125 37.15625 52.796875 32.3125 \nQ 56.78125 27.484375 56.78125 20.515625 \nQ 56.78125 9.90625 50.3125 4.234375 \nQ 43.84375 -1.421875 31.78125 -1.421875 \nQ 19.734375 -1.421875 13.25 4.234375 \nQ 6.78125 9.90625 6.78125 20.515625 \nQ 6.78125 27.484375 10.78125 32.3125 \nQ 14.796875 37.15625 21.921875 38.8125 \nz\nM 18.3125 54.390625 \nQ 18.3125 48.734375 21.84375 45.5625 \nQ 25.390625 42.390625 31.78125 42.390625 \nQ 38.140625 42.390625 41.71875 45.5625 \nQ 45.3125 48.734375 45.3125 54.390625 \nQ 45.3125 60.0625 41.71875 63.234375 \nQ 38.140625 66.40625 31.78125 66.40625 \nQ 25.390625 66.40625 21.84375 63.234375 \nQ 18.3125 60.0625 18.3125 54.390625 \nz\n\" id=\"DejaVuSans-56\"/>\n      </defs>\n      <g style=\"fill:#262626;\" transform=\"translate(83.019779 331.892187)scale(0.1 -0.1)\">\n       <use xlink:href=\"#DejaVuSans-56\"/>\n      </g>\n     </g>\n    </g>\n    <g id=\"xtick_3\">\n     <g id=\"line2d_3\">\n      <path clip-path=\"url(#p2e02891536)\" d=\"M 121.674559 317.29375 \nL 121.674559 10.8 \n\" style=\"fill:none;stroke:#cccccc;stroke-linecap:round;stroke-width:0.8;\"/>\n     </g>\n     <g id=\"text_3\">\n      <!-- 10 -->\n      <defs>\n       <path d=\"M 12.40625 8.296875 \nL 28.515625 8.296875 \nL 28.515625 63.921875 \nL 10.984375 60.40625 \nL 10.984375 69.390625 \nL 28.421875 72.90625 \nL 38.28125 72.90625 \nL 38.28125 8.296875 \nL 54.390625 8.296875 \nL 54.390625 0 \nL 12.40625 0 \nz\n\" id=\"DejaVuSans-49\"/>\n       <path d=\"M 31.78125 66.40625 \nQ 24.171875 66.40625 20.328125 58.90625 \nQ 16.5 51.421875 16.5 36.375 \nQ 16.5 21.390625 20.328125 13.890625 \nQ 24.171875 6.390625 31.78125 6.390625 \nQ 39.453125 6.390625 43.28125 13.890625 \nQ 47.125 21.390625 47.125 36.375 \nQ 47.125 51.421875 43.28125 58.90625 \nQ 39.453125 66.40625 31.78125 66.40625 \nz\nM 31.78125 74.21875 \nQ 44.046875 74.21875 50.515625 64.515625 \nQ 56.984375 54.828125 56.984375 36.375 \nQ 56.984375 17.96875 50.515625 8.265625 \nQ 44.046875 -1.421875 31.78125 -1.421875 \nQ 19.53125 -1.421875 13.0625 8.265625 \nQ 6.59375 17.96875 6.59375 36.375 \nQ 6.59375 54.828125 13.0625 64.515625 \nQ 19.53125 74.21875 31.78125 74.21875 \nz\n\" id=\"DejaVuSans-48\"/>\n      </defs>\n      <g style=\"fill:#262626;\" transform=\"translate(115.312059 331.892187)scale(0.1 -0.1)\">\n       <use xlink:href=\"#DejaVuSans-49\"/>\n       <use x=\"63.623047\" xlink:href=\"#DejaVuSans-48\"/>\n      </g>\n     </g>\n    </g>\n    <g id=\"xtick_4\">\n     <g id=\"line2d_4\">\n      <path clip-path=\"url(#p2e02891536)\" d=\"M 157.148088 317.29375 \nL 157.148088 10.8 \n\" style=\"fill:none;stroke:#cccccc;stroke-linecap:round;stroke-width:0.8;\"/>\n     </g>\n     <g id=\"text_4\">\n      <!-- 12 -->\n      <defs>\n       <path d=\"M 19.1875 8.296875 \nL 53.609375 8.296875 \nL 53.609375 0 \nL 7.328125 0 \nL 7.328125 8.296875 \nQ 12.9375 14.109375 22.625 23.890625 \nQ 32.328125 33.6875 34.8125 36.53125 \nQ 39.546875 41.84375 41.421875 45.53125 \nQ 43.3125 49.21875 43.3125 52.78125 \nQ 43.3125 58.59375 39.234375 62.25 \nQ 35.15625 65.921875 28.609375 65.921875 \nQ 23.96875 65.921875 18.8125 64.3125 \nQ 13.671875 62.703125 7.8125 59.421875 \nL 7.8125 69.390625 \nQ 13.765625 71.78125 18.9375 73 \nQ 24.125 74.21875 28.421875 74.21875 \nQ 39.75 74.21875 46.484375 68.546875 \nQ 53.21875 62.890625 53.21875 53.421875 \nQ 53.21875 48.921875 51.53125 44.890625 \nQ 49.859375 40.875 45.40625 35.40625 \nQ 44.1875 33.984375 37.640625 27.21875 \nQ 31.109375 20.453125 19.1875 8.296875 \nz\n\" id=\"DejaVuSans-50\"/>\n      </defs>\n      <g style=\"fill:#262626;\" transform=\"translate(150.785588 331.892187)scale(0.1 -0.1)\">\n       <use xlink:href=\"#DejaVuSans-49\"/>\n       <use x=\"63.623047\" xlink:href=\"#DejaVuSans-50\"/>\n      </g>\n     </g>\n    </g>\n    <g id=\"xtick_5\">\n     <g id=\"line2d_5\">\n      <path clip-path=\"url(#p2e02891536)\" d=\"M 192.621618 317.29375 \nL 192.621618 10.8 \n\" style=\"fill:none;stroke:#cccccc;stroke-linecap:round;stroke-width:0.8;\"/>\n     </g>\n     <g id=\"text_5\">\n      <!-- 14 -->\n      <defs>\n       <path d=\"M 37.796875 64.3125 \nL 12.890625 25.390625 \nL 37.796875 25.390625 \nz\nM 35.203125 72.90625 \nL 47.609375 72.90625 \nL 47.609375 25.390625 \nL 58.015625 25.390625 \nL 58.015625 17.1875 \nL 47.609375 17.1875 \nL 47.609375 0 \nL 37.796875 0 \nL 37.796875 17.1875 \nL 4.890625 17.1875 \nL 4.890625 26.703125 \nz\n\" id=\"DejaVuSans-52\"/>\n      </defs>\n      <g style=\"fill:#262626;\" transform=\"translate(186.259118 331.892187)scale(0.1 -0.1)\">\n       <use xlink:href=\"#DejaVuSans-49\"/>\n       <use x=\"63.623047\" xlink:href=\"#DejaVuSans-52\"/>\n      </g>\n     </g>\n    </g>\n    <g id=\"xtick_6\">\n     <g id=\"line2d_6\">\n      <path clip-path=\"url(#p2e02891536)\" d=\"M 228.095147 317.29375 \nL 228.095147 10.8 \n\" style=\"fill:none;stroke:#cccccc;stroke-linecap:round;stroke-width:0.8;\"/>\n     </g>\n     <g id=\"text_6\">\n      <!-- 16 -->\n      <g style=\"fill:#262626;\" transform=\"translate(221.732647 331.892187)scale(0.1 -0.1)\">\n       <use xlink:href=\"#DejaVuSans-49\"/>\n       <use x=\"63.623047\" xlink:href=\"#DejaVuSans-54\"/>\n      </g>\n     </g>\n    </g>\n    <g id=\"xtick_7\">\n     <g id=\"line2d_7\">\n      <path clip-path=\"url(#p2e02891536)\" d=\"M 263.568676 317.29375 \nL 263.568676 10.8 \n\" style=\"fill:none;stroke:#cccccc;stroke-linecap:round;stroke-width:0.8;\"/>\n     </g>\n     <g id=\"text_7\">\n      <!-- 18 -->\n      <g style=\"fill:#262626;\" transform=\"translate(257.206176 331.892187)scale(0.1 -0.1)\">\n       <use xlink:href=\"#DejaVuSans-49\"/>\n       <use x=\"63.623047\" xlink:href=\"#DejaVuSans-56\"/>\n      </g>\n     </g>\n    </g>\n    <g id=\"xtick_8\">\n     <g id=\"line2d_8\">\n      <path clip-path=\"url(#p2e02891536)\" d=\"M 299.042206 317.29375 \nL 299.042206 10.8 \n\" style=\"fill:none;stroke:#cccccc;stroke-linecap:round;stroke-width:0.8;\"/>\n     </g>\n     <g id=\"text_8\">\n      <!-- 20 -->\n      <g style=\"fill:#262626;\" transform=\"translate(292.679706 331.892187)scale(0.1 -0.1)\">\n       <use xlink:href=\"#DejaVuSans-50\"/>\n       <use x=\"63.623047\" xlink:href=\"#DejaVuSans-48\"/>\n      </g>\n     </g>\n    </g>\n    <g id=\"xtick_9\">\n     <g id=\"line2d_9\">\n      <path clip-path=\"url(#p2e02891536)\" d=\"M 334.515735 317.29375 \nL 334.515735 10.8 \n\" style=\"fill:none;stroke:#cccccc;stroke-linecap:round;stroke-width:0.8;\"/>\n     </g>\n     <g id=\"text_9\">\n      <!-- 22 -->\n      <g style=\"fill:#262626;\" transform=\"translate(328.153235 331.892187)scale(0.1 -0.1)\">\n       <use xlink:href=\"#DejaVuSans-50\"/>\n       <use x=\"63.623047\" xlink:href=\"#DejaVuSans-50\"/>\n      </g>\n     </g>\n    </g>\n    <g id=\"text_10\">\n     <!-- hour_of_day -->\n     <defs>\n      <path d=\"M 54.890625 33.015625 \nL 54.890625 0 \nL 45.90625 0 \nL 45.90625 32.71875 \nQ 45.90625 40.484375 42.875 44.328125 \nQ 39.84375 48.1875 33.796875 48.1875 \nQ 26.515625 48.1875 22.3125 43.546875 \nQ 18.109375 38.921875 18.109375 30.90625 \nL 18.109375 0 \nL 9.078125 0 \nL 9.078125 75.984375 \nL 18.109375 75.984375 \nL 18.109375 46.1875 \nQ 21.34375 51.125 25.703125 53.5625 \nQ 30.078125 56 35.796875 56 \nQ 45.21875 56 50.046875 50.171875 \nQ 54.890625 44.34375 54.890625 33.015625 \nz\n\" id=\"DejaVuSans-104\"/>\n      <path d=\"M 30.609375 48.390625 \nQ 23.390625 48.390625 19.1875 42.75 \nQ 14.984375 37.109375 14.984375 27.296875 \nQ 14.984375 17.484375 19.15625 11.84375 \nQ 23.34375 6.203125 30.609375 6.203125 \nQ 37.796875 6.203125 41.984375 11.859375 \nQ 46.1875 17.53125 46.1875 27.296875 \nQ 46.1875 37.015625 41.984375 42.703125 \nQ 37.796875 48.390625 30.609375 48.390625 \nz\nM 30.609375 56 \nQ 42.328125 56 49.015625 48.375 \nQ 55.71875 40.765625 55.71875 27.296875 \nQ 55.71875 13.875 49.015625 6.21875 \nQ 42.328125 -1.421875 30.609375 -1.421875 \nQ 18.84375 -1.421875 12.171875 6.21875 \nQ 5.515625 13.875 5.515625 27.296875 \nQ 5.515625 40.765625 12.171875 48.375 \nQ 18.84375 56 30.609375 56 \nz\n\" id=\"DejaVuSans-111\"/>\n      <path d=\"M 8.5 21.578125 \nL 8.5 54.6875 \nL 17.484375 54.6875 \nL 17.484375 21.921875 \nQ 17.484375 14.15625 20.5 10.265625 \nQ 23.53125 6.390625 29.59375 6.390625 \nQ 36.859375 6.390625 41.078125 11.03125 \nQ 45.3125 15.671875 45.3125 23.6875 \nL 45.3125 54.6875 \nL 54.296875 54.6875 \nL 54.296875 0 \nL 45.3125 0 \nL 45.3125 8.40625 \nQ 42.046875 3.421875 37.71875 1 \nQ 33.40625 -1.421875 27.6875 -1.421875 \nQ 18.265625 -1.421875 13.375 4.4375 \nQ 8.5 10.296875 8.5 21.578125 \nz\nM 31.109375 56 \nz\n\" id=\"DejaVuSans-117\"/>\n      <path d=\"M 41.109375 46.296875 \nQ 39.59375 47.171875 37.8125 47.578125 \nQ 36.03125 48 33.890625 48 \nQ 26.265625 48 22.1875 43.046875 \nQ 18.109375 38.09375 18.109375 28.8125 \nL 18.109375 0 \nL 9.078125 0 \nL 9.078125 54.6875 \nL 18.109375 54.6875 \nL 18.109375 46.1875 \nQ 20.953125 51.171875 25.484375 53.578125 \nQ 30.03125 56 36.53125 56 \nQ 37.453125 56 38.578125 55.875 \nQ 39.703125 55.765625 41.0625 55.515625 \nz\n\" id=\"DejaVuSans-114\"/>\n      <path d=\"M 50.984375 -16.609375 \nL 50.984375 -23.578125 \nL -0.984375 -23.578125 \nL -0.984375 -16.609375 \nz\n\" id=\"DejaVuSans-95\"/>\n      <path d=\"M 37.109375 75.984375 \nL 37.109375 68.5 \nL 28.515625 68.5 \nQ 23.6875 68.5 21.796875 66.546875 \nQ 19.921875 64.59375 19.921875 59.515625 \nL 19.921875 54.6875 \nL 34.71875 54.6875 \nL 34.71875 47.703125 \nL 19.921875 47.703125 \nL 19.921875 0 \nL 10.890625 0 \nL 10.890625 47.703125 \nL 2.296875 47.703125 \nL 2.296875 54.6875 \nL 10.890625 54.6875 \nL 10.890625 58.5 \nQ 10.890625 67.625 15.140625 71.796875 \nQ 19.390625 75.984375 28.609375 75.984375 \nz\n\" id=\"DejaVuSans-102\"/>\n      <path d=\"M 45.40625 46.390625 \nL 45.40625 75.984375 \nL 54.390625 75.984375 \nL 54.390625 0 \nL 45.40625 0 \nL 45.40625 8.203125 \nQ 42.578125 3.328125 38.25 0.953125 \nQ 33.9375 -1.421875 27.875 -1.421875 \nQ 17.96875 -1.421875 11.734375 6.484375 \nQ 5.515625 14.40625 5.515625 27.296875 \nQ 5.515625 40.1875 11.734375 48.09375 \nQ 17.96875 56 27.875 56 \nQ 33.9375 56 38.25 53.625 \nQ 42.578125 51.265625 45.40625 46.390625 \nz\nM 14.796875 27.296875 \nQ 14.796875 17.390625 18.875 11.75 \nQ 22.953125 6.109375 30.078125 6.109375 \nQ 37.203125 6.109375 41.296875 11.75 \nQ 45.40625 17.390625 45.40625 27.296875 \nQ 45.40625 37.203125 41.296875 42.84375 \nQ 37.203125 48.484375 30.078125 48.484375 \nQ 22.953125 48.484375 18.875 42.84375 \nQ 14.796875 37.203125 14.796875 27.296875 \nz\n\" id=\"DejaVuSans-100\"/>\n      <path d=\"M 34.28125 27.484375 \nQ 23.390625 27.484375 19.1875 25 \nQ 14.984375 22.515625 14.984375 16.5 \nQ 14.984375 11.71875 18.140625 8.90625 \nQ 21.296875 6.109375 26.703125 6.109375 \nQ 34.1875 6.109375 38.703125 11.40625 \nQ 43.21875 16.703125 43.21875 25.484375 \nL 43.21875 27.484375 \nz\nM 52.203125 31.203125 \nL 52.203125 0 \nL 43.21875 0 \nL 43.21875 8.296875 \nQ 40.140625 3.328125 35.546875 0.953125 \nQ 30.953125 -1.421875 24.3125 -1.421875 \nQ 15.921875 -1.421875 10.953125 3.296875 \nQ 6 8.015625 6 15.921875 \nQ 6 25.140625 12.171875 29.828125 \nQ 18.359375 34.515625 30.609375 34.515625 \nL 43.21875 34.515625 \nL 43.21875 35.40625 \nQ 43.21875 41.609375 39.140625 45 \nQ 35.0625 48.390625 27.6875 48.390625 \nQ 23 48.390625 18.546875 47.265625 \nQ 14.109375 46.140625 10.015625 43.890625 \nL 10.015625 52.203125 \nQ 14.9375 54.109375 19.578125 55.046875 \nQ 24.21875 56 28.609375 56 \nQ 40.484375 56 46.34375 49.84375 \nQ 52.203125 43.703125 52.203125 31.203125 \nz\n\" id=\"DejaVuSans-97\"/>\n      <path d=\"M 32.171875 -5.078125 \nQ 28.375 -14.84375 24.75 -17.8125 \nQ 21.140625 -20.796875 15.09375 -20.796875 \nL 7.90625 -20.796875 \nL 7.90625 -13.28125 \nL 13.1875 -13.28125 \nQ 16.890625 -13.28125 18.9375 -11.515625 \nQ 21 -9.765625 23.484375 -3.21875 \nL 25.09375 0.875 \nL 2.984375 54.6875 \nL 12.5 54.6875 \nL 29.59375 11.921875 \nL 46.6875 54.6875 \nL 56.203125 54.6875 \nz\n\" id=\"DejaVuSans-121\"/>\n     </defs>\n     <g style=\"fill:#262626;\" transform=\"translate(171.020469 345.570312)scale(0.1 -0.1)\">\n      <use xlink:href=\"#DejaVuSans-104\"/>\n      <use x=\"63.378906\" xlink:href=\"#DejaVuSans-111\"/>\n      <use x=\"124.560547\" xlink:href=\"#DejaVuSans-117\"/>\n      <use x=\"187.939453\" xlink:href=\"#DejaVuSans-114\"/>\n      <use x=\"229.052734\" xlink:href=\"#DejaVuSans-95\"/>\n      <use x=\"279.052734\" xlink:href=\"#DejaVuSans-111\"/>\n      <use x=\"340.234375\" xlink:href=\"#DejaVuSans-102\"/>\n      <use x=\"375.439453\" xlink:href=\"#DejaVuSans-95\"/>\n      <use x=\"425.439453\" xlink:href=\"#DejaVuSans-100\"/>\n      <use x=\"488.916016\" xlink:href=\"#DejaVuSans-97\"/>\n      <use x=\"550.195312\" xlink:href=\"#DejaVuSans-121\"/>\n     </g>\n    </g>\n   </g>\n   <g id=\"matplotlib.axis_2\">\n    <g id=\"ytick_1\">\n     <g id=\"line2d_10\">\n      <path clip-path=\"url(#p2e02891536)\" d=\"M 50.7275 303.362216 \nL 352.2525 303.362216 \n\" style=\"fill:none;stroke:#cccccc;stroke-linecap:round;stroke-width:0.8;\"/>\n     </g>\n     <g id=\"text_11\">\n      <!-- 0.0 -->\n      <defs>\n       <path d=\"M 10.6875 12.40625 \nL 21 12.40625 \nL 21 0 \nL 10.6875 0 \nz\n\" id=\"DejaVuSans-46\"/>\n      </defs>\n      <g style=\"fill:#262626;\" transform=\"translate(27.824375 307.161435)scale(0.1 -0.1)\">\n       <use xlink:href=\"#DejaVuSans-48\"/>\n       <use x=\"63.623047\" xlink:href=\"#DejaVuSans-46\"/>\n       <use x=\"95.410156\" xlink:href=\"#DejaVuSans-48\"/>\n      </g>\n     </g>\n    </g>\n    <g id=\"ytick_2\">\n     <g id=\"line2d_11\">\n      <path clip-path=\"url(#p2e02891536)\" d=\"M 50.7275 253.280081 \nL 352.2525 253.280081 \n\" style=\"fill:none;stroke:#cccccc;stroke-linecap:round;stroke-width:0.8;\"/>\n     </g>\n     <g id=\"text_12\">\n      <!-- 0.1 -->\n      <g style=\"fill:#262626;\" transform=\"translate(27.824375 257.0793)scale(0.1 -0.1)\">\n       <use xlink:href=\"#DejaVuSans-48\"/>\n       <use x=\"63.623047\" xlink:href=\"#DejaVuSans-46\"/>\n       <use x=\"95.410156\" xlink:href=\"#DejaVuSans-49\"/>\n      </g>\n     </g>\n    </g>\n    <g id=\"ytick_3\">\n     <g id=\"line2d_12\">\n      <path clip-path=\"url(#p2e02891536)\" d=\"M 50.7275 203.197947 \nL 352.2525 203.197947 \n\" style=\"fill:none;stroke:#cccccc;stroke-linecap:round;stroke-width:0.8;\"/>\n     </g>\n     <g id=\"text_13\">\n      <!-- 0.2 -->\n      <g style=\"fill:#262626;\" transform=\"translate(27.824375 206.997166)scale(0.1 -0.1)\">\n       <use xlink:href=\"#DejaVuSans-48\"/>\n       <use x=\"63.623047\" xlink:href=\"#DejaVuSans-46\"/>\n       <use x=\"95.410156\" xlink:href=\"#DejaVuSans-50\"/>\n      </g>\n     </g>\n    </g>\n    <g id=\"ytick_4\">\n     <g id=\"line2d_13\">\n      <path clip-path=\"url(#p2e02891536)\" d=\"M 50.7275 153.115812 \nL 352.2525 153.115812 \n\" style=\"fill:none;stroke:#cccccc;stroke-linecap:round;stroke-width:0.8;\"/>\n     </g>\n     <g id=\"text_14\">\n      <!-- 0.3 -->\n      <defs>\n       <path d=\"M 40.578125 39.3125 \nQ 47.65625 37.796875 51.625 33 \nQ 55.609375 28.21875 55.609375 21.1875 \nQ 55.609375 10.40625 48.1875 4.484375 \nQ 40.765625 -1.421875 27.09375 -1.421875 \nQ 22.515625 -1.421875 17.65625 -0.515625 \nQ 12.796875 0.390625 7.625 2.203125 \nL 7.625 11.71875 \nQ 11.71875 9.328125 16.59375 8.109375 \nQ 21.484375 6.890625 26.8125 6.890625 \nQ 36.078125 6.890625 40.9375 10.546875 \nQ 45.796875 14.203125 45.796875 21.1875 \nQ 45.796875 27.640625 41.28125 31.265625 \nQ 36.765625 34.90625 28.71875 34.90625 \nL 20.21875 34.90625 \nL 20.21875 43.015625 \nL 29.109375 43.015625 \nQ 36.375 43.015625 40.234375 45.921875 \nQ 44.09375 48.828125 44.09375 54.296875 \nQ 44.09375 59.90625 40.109375 62.90625 \nQ 36.140625 65.921875 28.71875 65.921875 \nQ 24.65625 65.921875 20.015625 65.03125 \nQ 15.375 64.15625 9.8125 62.3125 \nL 9.8125 71.09375 \nQ 15.4375 72.65625 20.34375 73.4375 \nQ 25.25 74.21875 29.59375 74.21875 \nQ 40.828125 74.21875 47.359375 69.109375 \nQ 53.90625 64.015625 53.90625 55.328125 \nQ 53.90625 49.265625 50.4375 45.09375 \nQ 46.96875 40.921875 40.578125 39.3125 \nz\n\" id=\"DejaVuSans-51\"/>\n      </defs>\n      <g style=\"fill:#262626;\" transform=\"translate(27.824375 156.915031)scale(0.1 -0.1)\">\n       <use xlink:href=\"#DejaVuSans-48\"/>\n       <use x=\"63.623047\" xlink:href=\"#DejaVuSans-46\"/>\n       <use x=\"95.410156\" xlink:href=\"#DejaVuSans-51\"/>\n      </g>\n     </g>\n    </g>\n    <g id=\"ytick_5\">\n     <g id=\"line2d_14\">\n      <path clip-path=\"url(#p2e02891536)\" d=\"M 50.7275 103.033678 \nL 352.2525 103.033678 \n\" style=\"fill:none;stroke:#cccccc;stroke-linecap:round;stroke-width:0.8;\"/>\n     </g>\n     <g id=\"text_15\">\n      <!-- 0.4 -->\n      <g style=\"fill:#262626;\" transform=\"translate(27.824375 106.832897)scale(0.1 -0.1)\">\n       <use xlink:href=\"#DejaVuSans-48\"/>\n       <use x=\"63.623047\" xlink:href=\"#DejaVuSans-46\"/>\n       <use x=\"95.410156\" xlink:href=\"#DejaVuSans-52\"/>\n      </g>\n     </g>\n    </g>\n    <g id=\"ytick_6\">\n     <g id=\"line2d_15\">\n      <path clip-path=\"url(#p2e02891536)\" d=\"M 50.7275 52.951543 \nL 352.2525 52.951543 \n\" style=\"fill:none;stroke:#cccccc;stroke-linecap:round;stroke-width:0.8;\"/>\n     </g>\n     <g id=\"text_16\">\n      <!-- 0.5 -->\n      <defs>\n       <path d=\"M 10.796875 72.90625 \nL 49.515625 72.90625 \nL 49.515625 64.59375 \nL 19.828125 64.59375 \nL 19.828125 46.734375 \nQ 21.96875 47.46875 24.109375 47.828125 \nQ 26.265625 48.1875 28.421875 48.1875 \nQ 40.625 48.1875 47.75 41.5 \nQ 54.890625 34.8125 54.890625 23.390625 \nQ 54.890625 11.625 47.5625 5.09375 \nQ 40.234375 -1.421875 26.90625 -1.421875 \nQ 22.3125 -1.421875 17.546875 -0.640625 \nQ 12.796875 0.140625 7.71875 1.703125 \nL 7.71875 11.625 \nQ 12.109375 9.234375 16.796875 8.0625 \nQ 21.484375 6.890625 26.703125 6.890625 \nQ 35.15625 6.890625 40.078125 11.328125 \nQ 45.015625 15.765625 45.015625 23.390625 \nQ 45.015625 31 40.078125 35.4375 \nQ 35.15625 39.890625 26.703125 39.890625 \nQ 22.75 39.890625 18.8125 39.015625 \nQ 14.890625 38.140625 10.796875 36.28125 \nz\n\" id=\"DejaVuSans-53\"/>\n      </defs>\n      <g style=\"fill:#262626;\" transform=\"translate(27.824375 56.750762)scale(0.1 -0.1)\">\n       <use xlink:href=\"#DejaVuSans-48\"/>\n       <use x=\"63.623047\" xlink:href=\"#DejaVuSans-46\"/>\n       <use x=\"95.410156\" xlink:href=\"#DejaVuSans-53\"/>\n      </g>\n     </g>\n    </g>\n    <g id=\"text_17\">\n     <!-- probShowUp -->\n     <defs>\n      <path d=\"M 18.109375 8.203125 \nL 18.109375 -20.796875 \nL 9.078125 -20.796875 \nL 9.078125 54.6875 \nL 18.109375 54.6875 \nL 18.109375 46.390625 \nQ 20.953125 51.265625 25.265625 53.625 \nQ 29.59375 56 35.59375 56 \nQ 45.5625 56 51.78125 48.09375 \nQ 58.015625 40.1875 58.015625 27.296875 \nQ 58.015625 14.40625 51.78125 6.484375 \nQ 45.5625 -1.421875 35.59375 -1.421875 \nQ 29.59375 -1.421875 25.265625 0.953125 \nQ 20.953125 3.328125 18.109375 8.203125 \nz\nM 48.6875 27.296875 \nQ 48.6875 37.203125 44.609375 42.84375 \nQ 40.53125 48.484375 33.40625 48.484375 \nQ 26.265625 48.484375 22.1875 42.84375 \nQ 18.109375 37.203125 18.109375 27.296875 \nQ 18.109375 17.390625 22.1875 11.75 \nQ 26.265625 6.109375 33.40625 6.109375 \nQ 40.53125 6.109375 44.609375 11.75 \nQ 48.6875 17.390625 48.6875 27.296875 \nz\n\" id=\"DejaVuSans-112\"/>\n      <path d=\"M 48.6875 27.296875 \nQ 48.6875 37.203125 44.609375 42.84375 \nQ 40.53125 48.484375 33.40625 48.484375 \nQ 26.265625 48.484375 22.1875 42.84375 \nQ 18.109375 37.203125 18.109375 27.296875 \nQ 18.109375 17.390625 22.1875 11.75 \nQ 26.265625 6.109375 33.40625 6.109375 \nQ 40.53125 6.109375 44.609375 11.75 \nQ 48.6875 17.390625 48.6875 27.296875 \nz\nM 18.109375 46.390625 \nQ 20.953125 51.265625 25.265625 53.625 \nQ 29.59375 56 35.59375 56 \nQ 45.5625 56 51.78125 48.09375 \nQ 58.015625 40.1875 58.015625 27.296875 \nQ 58.015625 14.40625 51.78125 6.484375 \nQ 45.5625 -1.421875 35.59375 -1.421875 \nQ 29.59375 -1.421875 25.265625 0.953125 \nQ 20.953125 3.328125 18.109375 8.203125 \nL 18.109375 0 \nL 9.078125 0 \nL 9.078125 75.984375 \nL 18.109375 75.984375 \nz\n\" id=\"DejaVuSans-98\"/>\n      <path d=\"M 53.515625 70.515625 \nL 53.515625 60.890625 \nQ 47.90625 63.578125 42.921875 64.890625 \nQ 37.9375 66.21875 33.296875 66.21875 \nQ 25.25 66.21875 20.875 63.09375 \nQ 16.5 59.96875 16.5 54.203125 \nQ 16.5 49.359375 19.40625 46.890625 \nQ 22.3125 44.4375 30.421875 42.921875 \nL 36.375 41.703125 \nQ 47.40625 39.59375 52.65625 34.296875 \nQ 57.90625 29 57.90625 20.125 \nQ 57.90625 9.515625 50.796875 4.046875 \nQ 43.703125 -1.421875 29.984375 -1.421875 \nQ 24.8125 -1.421875 18.96875 -0.25 \nQ 13.140625 0.921875 6.890625 3.21875 \nL 6.890625 13.375 \nQ 12.890625 10.015625 18.65625 8.296875 \nQ 24.421875 6.59375 29.984375 6.59375 \nQ 38.421875 6.59375 43.015625 9.90625 \nQ 47.609375 13.234375 47.609375 19.390625 \nQ 47.609375 24.75 44.3125 27.78125 \nQ 41.015625 30.8125 33.5 32.328125 \nL 27.484375 33.5 \nQ 16.453125 35.6875 11.515625 40.375 \nQ 6.59375 45.0625 6.59375 53.421875 \nQ 6.59375 63.09375 13.40625 68.65625 \nQ 20.21875 74.21875 32.171875 74.21875 \nQ 37.3125 74.21875 42.625 73.28125 \nQ 47.953125 72.359375 53.515625 70.515625 \nz\n\" id=\"DejaVuSans-83\"/>\n      <path d=\"M 4.203125 54.6875 \nL 13.1875 54.6875 \nL 24.421875 12.015625 \nL 35.59375 54.6875 \nL 46.1875 54.6875 \nL 57.421875 12.015625 \nL 68.609375 54.6875 \nL 77.59375 54.6875 \nL 63.28125 0 \nL 52.6875 0 \nL 40.921875 44.828125 \nL 29.109375 0 \nL 18.5 0 \nz\n\" id=\"DejaVuSans-119\"/>\n      <path d=\"M 8.6875 72.90625 \nL 18.609375 72.90625 \nL 18.609375 28.609375 \nQ 18.609375 16.890625 22.84375 11.734375 \nQ 27.09375 6.59375 36.625 6.59375 \nQ 46.09375 6.59375 50.34375 11.734375 \nQ 54.59375 16.890625 54.59375 28.609375 \nL 54.59375 72.90625 \nL 64.5 72.90625 \nL 64.5 27.390625 \nQ 64.5 13.140625 57.4375 5.859375 \nQ 50.390625 -1.421875 36.625 -1.421875 \nQ 22.796875 -1.421875 15.734375 5.859375 \nQ 8.6875 13.140625 8.6875 27.390625 \nz\n\" id=\"DejaVuSans-85\"/>\n     </defs>\n     <g style=\"fill:#262626;\" transform=\"translate(21.744688 195.722656)rotate(-90)scale(0.1 -0.1)\">\n      <use xlink:href=\"#DejaVuSans-112\"/>\n      <use x=\"63.476562\" xlink:href=\"#DejaVuSans-114\"/>\n      <use x=\"102.339844\" xlink:href=\"#DejaVuSans-111\"/>\n      <use x=\"163.521484\" xlink:href=\"#DejaVuSans-98\"/>\n      <use x=\"226.998047\" xlink:href=\"#DejaVuSans-83\"/>\n      <use x=\"290.474609\" xlink:href=\"#DejaVuSans-104\"/>\n      <use x=\"353.853516\" xlink:href=\"#DejaVuSans-111\"/>\n      <use x=\"415.035156\" xlink:href=\"#DejaVuSans-119\"/>\n      <use x=\"496.822266\" xlink:href=\"#DejaVuSans-85\"/>\n      <use x=\"570.015625\" xlink:href=\"#DejaVuSans-112\"/>\n     </g>\n    </g>\n   </g>\n   <g id=\"PathCollection_1\">\n    <defs>\n     <path d=\"M 0 3 \nC 0.795609 3 1.55874 2.683901 2.12132 2.12132 \nC 2.683901 1.55874 3 0.795609 3 0 \nC 3 -0.795609 2.683901 -1.55874 2.12132 -2.12132 \nC 1.55874 -2.683901 0.795609 -3 0 -3 \nC -0.795609 -3 -1.55874 -2.683901 -2.12132 -2.12132 \nC -2.683901 -1.55874 -3 -0.795609 -3 0 \nC -3 0.795609 -2.683901 1.55874 -2.12132 2.12132 \nC -1.55874 2.683901 -0.795609 3 0 3 \nz\n\" id=\"m0f1f771b86\" style=\"stroke:#1f77b4;stroke-opacity:0.8;\"/>\n    </defs>\n    <g clip-path=\"url(#p2e02891536)\">\n     <use style=\"fill:#1f77b4;fill-opacity:0.8;stroke:#1f77b4;stroke-opacity:0.8;\" x=\"50.7275\" xlink:href=\"#m0f1f771b86\" y=\"150.938328\"/>\n     <use style=\"fill:#1f77b4;fill-opacity:0.8;stroke:#1f77b4;stroke-opacity:0.8;\" x=\"68.464265\" xlink:href=\"#m0f1f771b86\" y=\"71.791344\"/>\n     <use style=\"fill:#1f77b4;fill-opacity:0.8;stroke:#1f77b4;stroke-opacity:0.8;\" x=\"86.201029\" xlink:href=\"#m0f1f771b86\" y=\"79.914279\"/>\n     <use style=\"fill:#1f77b4;fill-opacity:0.8;stroke:#1f77b4;stroke-opacity:0.8;\" x=\"103.937794\" xlink:href=\"#m0f1f771b86\" y=\"79.125266\"/>\n     <use style=\"fill:#1f77b4;fill-opacity:0.8;stroke:#1f77b4;stroke-opacity:0.8;\" x=\"121.674559\" xlink:href=\"#m0f1f771b86\" y=\"85.944823\"/>\n     <use style=\"fill:#1f77b4;fill-opacity:0.8;stroke:#1f77b4;stroke-opacity:0.8;\" x=\"139.411324\" xlink:href=\"#m0f1f771b86\" y=\"86.209211\"/>\n     <use style=\"fill:#1f77b4;fill-opacity:0.8;stroke:#1f77b4;stroke-opacity:0.8;\" x=\"157.148088\" xlink:href=\"#m0f1f771b86\" y=\"97.881015\"/>\n     <use style=\"fill:#1f77b4;fill-opacity:0.8;stroke:#1f77b4;stroke-opacity:0.8;\" x=\"174.884853\" xlink:href=\"#m0f1f771b86\" y=\"109.087017\"/>\n     <use style=\"fill:#1f77b4;fill-opacity:0.8;stroke:#1f77b4;stroke-opacity:0.8;\" x=\"192.621618\" xlink:href=\"#m0f1f771b86\" y=\"105.229194\"/>\n     <use style=\"fill:#1f77b4;fill-opacity:0.8;stroke:#1f77b4;stroke-opacity:0.8;\" x=\"210.358382\" xlink:href=\"#m0f1f771b86\" y=\"112.431188\"/>\n     <use style=\"fill:#1f77b4;fill-opacity:0.8;stroke:#1f77b4;stroke-opacity:0.8;\" x=\"228.095147\" xlink:href=\"#m0f1f771b86\" y=\"107.244282\"/>\n     <use style=\"fill:#1f77b4;fill-opacity:0.8;stroke:#1f77b4;stroke-opacity:0.8;\" x=\"245.831912\" xlink:href=\"#m0f1f771b86\" y=\"113.76405\"/>\n     <use style=\"fill:#1f77b4;fill-opacity:0.8;stroke:#1f77b4;stroke-opacity:0.8;\" x=\"263.568676\" xlink:href=\"#m0f1f771b86\" y=\"114.286017\"/>\n     <use style=\"fill:#1f77b4;fill-opacity:0.8;stroke:#1f77b4;stroke-opacity:0.8;\" x=\"281.305441\" xlink:href=\"#m0f1f771b86\" y=\"118.57001\"/>\n     <use style=\"fill:#1f77b4;fill-opacity:0.8;stroke:#1f77b4;stroke-opacity:0.8;\" x=\"299.042206\" xlink:href=\"#m0f1f771b86\" y=\"115.924155\"/>\n     <use style=\"fill:#1f77b4;fill-opacity:0.8;stroke:#1f77b4;stroke-opacity:0.8;\" x=\"316.778971\" xlink:href=\"#m0f1f771b86\" y=\"99.83208\"/>\n     <use style=\"fill:#1f77b4;fill-opacity:0.8;stroke:#1f77b4;stroke-opacity:0.8;\" x=\"334.515735\" xlink:href=\"#m0f1f771b86\" y=\"192.068584\"/>\n     <use style=\"fill:#1f77b4;fill-opacity:0.8;stroke:#1f77b4;stroke-opacity:0.8;\" x=\"352.2525\" xlink:href=\"#m0f1f771b86\" y=\"303.362216\"/>\n    </g>\n   </g>\n   <g id=\"PolyCollection_1\">\n    <defs>\n     <path d=\"M 50.7275 -330.396591 \nL 50.7275 -246.821866 \nL 53.773207 -246.820217 \nL 56.818914 -246.857004 \nL 59.864621 -246.783139 \nL 62.910328 -246.599592 \nL 65.956035 -246.203637 \nL 69.001742 -246.261391 \nL 72.047449 -246.130265 \nL 75.093157 -245.921503 \nL 78.138864 -245.604525 \nL 81.184571 -245.126126 \nL 84.230278 -245.069686 \nL 87.275985 -244.73597 \nL 90.321692 -244.389623 \nL 93.367399 -244.292836 \nL 96.413106 -244.19605 \nL 99.458813 -243.680665 \nL 102.50452 -243.207745 \nL 105.550227 -243.054921 \nL 108.595934 -242.523793 \nL 111.641641 -242.426208 \nL 114.687348 -242.318365 \nL 117.733056 -241.813656 \nL 120.778763 -240.869647 \nL 123.82447 -240.369473 \nL 126.870177 -239.419768 \nL 129.915884 -238.467002 \nL 132.961591 -237.597752 \nL 136.007298 -236.902797 \nL 139.053005 -236.212446 \nL 142.098712 -235.378972 \nL 145.144419 -234.99158 \nL 148.190126 -234.402147 \nL 151.235833 -233.801781 \nL 154.28154 -232.645584 \nL 157.327247 -231.729937 \nL 160.372955 -230.990182 \nL 163.418662 -230.100846 \nL 166.464369 -228.976179 \nL 169.510076 -228.166564 \nL 172.555783 -226.892922 \nL 175.60149 -225.563758 \nL 178.647197 -224.428091 \nL 181.692904 -223.544997 \nL 184.738611 -222.506346 \nL 187.784318 -220.939114 \nL 190.830025 -219.372142 \nL 193.875732 -217.793066 \nL 196.921439 -216.356542 \nL 199.967146 -215.367498 \nL 203.012854 -213.841782 \nL 206.058561 -212.541745 \nL 209.104268 -211.158187 \nL 212.149975 -209.681063 \nL 215.195682 -208.270607 \nL 218.241389 -206.514673 \nL 221.287096 -205.231648 \nL 224.332803 -203.753808 \nL 227.37851 -201.847165 \nL 230.424217 -200.089822 \nL 233.469924 -198.343265 \nL 236.515631 -196.660861 \nL 239.561338 -194.927895 \nL 242.607045 -193.439647 \nL 245.652753 -191.864429 \nL 248.69846 -189.826556 \nL 251.744167 -188.035445 \nL 254.789874 -186.356079 \nL 257.835581 -184.905016 \nL 260.881288 -183.48698 \nL 263.926995 -182.068944 \nL 266.972702 -180.551142 \nL 270.018409 -178.726335 \nL 273.064116 -176.921879 \nL 276.109823 -175.349702 \nL 279.15553 -173.766665 \nL 282.201237 -172.159237 \nL 285.246944 -170.594025 \nL 288.292652 -168.76591 \nL 291.338359 -166.808538 \nL 294.384066 -164.851166 \nL 297.429773 -162.89472 \nL 300.47548 -160.95058 \nL 303.521187 -159.007998 \nL 306.566894 -157.410962 \nL 309.612601 -155.658433 \nL 312.658308 -153.740418 \nL 315.704015 -151.431845 \nL 318.749722 -149.238069 \nL 321.795429 -147.276115 \nL 324.841136 -145.325828 \nL 327.886843 -143.34385 \nL 330.932551 -141.410732 \nL 333.978258 -139.444449 \nL 337.023965 -137.451429 \nL 340.069672 -135.341106 \nL 343.115379 -133.236833 \nL 346.161086 -131.13256 \nL 349.206793 -129.065348 \nL 352.2525 -127.112971 \nL 352.2525 -246.38847 \nL 352.2525 -246.38847 \nL 349.206793 -246.360937 \nL 346.161086 -246.333404 \nL 343.115379 -246.305602 \nL 340.069672 -246.421481 \nL 337.023965 -246.574582 \nL 333.978258 -246.727683 \nL 330.932551 -246.880784 \nL 327.886843 -246.90759 \nL 324.841136 -246.889201 \nL 321.795429 -246.869961 \nL 318.749722 -246.896292 \nL 315.704015 -247.038423 \nL 312.658308 -247.180553 \nL 309.612601 -247.286825 \nL 306.566894 -247.266881 \nL 303.521187 -247.214508 \nL 300.47548 -247.16087 \nL 297.429773 -247.177741 \nL 294.384066 -247.24966 \nL 291.338359 -247.259078 \nL 288.292652 -247.389867 \nL 285.246944 -247.531708 \nL 282.201237 -247.673549 \nL 279.15553 -247.788488 \nL 276.109823 -247.820225 \nL 273.064116 -247.964225 \nL 270.018409 -248.173428 \nL 266.972702 -248.351194 \nL 263.926995 -248.39419 \nL 260.881288 -248.369792 \nL 257.835581 -248.477549 \nL 254.789874 -248.657426 \nL 251.744167 -248.870305 \nL 248.69846 -249.032349 \nL 245.652753 -249.172434 \nL 242.607045 -249.329709 \nL 239.561338 -249.639974 \nL 236.515631 -249.77722 \nL 233.469924 -249.918995 \nL 230.424217 -250.141145 \nL 227.37851 -250.562852 \nL 224.332803 -250.839549 \nL 221.287096 -251.158523 \nL 218.241389 -251.519871 \nL 215.195682 -251.832707 \nL 212.149975 -252.073251 \nL 209.104268 -252.506179 \nL 206.058561 -252.704018 \nL 203.012854 -253.09959 \nL 199.967146 -253.545886 \nL 196.921439 -253.92115 \nL 193.875732 -254.588 \nL 190.830025 -255.170931 \nL 187.784318 -255.708935 \nL 184.738611 -256.349703 \nL 181.692904 -256.999403 \nL 178.647197 -257.736181 \nL 175.60149 -258.495739 \nL 172.555783 -259.349678 \nL 169.510076 -260.061348 \nL 166.464369 -261.219957 \nL 163.418662 -262.651762 \nL 160.372955 -264.028759 \nL 157.327247 -265.545227 \nL 154.28154 -267.064753 \nL 151.235833 -268.362702 \nL 148.190126 -270.10116 \nL 145.144419 -271.8472 \nL 142.098712 -273.418783 \nL 139.053005 -275.384008 \nL 136.007298 -277.244757 \nL 132.961591 -279.193663 \nL 129.915884 -281.036292 \nL 126.870177 -282.783108 \nL 123.82447 -285.097885 \nL 120.778763 -286.816607 \nL 117.733056 -288.466618 \nL 114.687348 -290.350488 \nL 111.641641 -292.322982 \nL 108.595934 -294.120851 \nL 105.550227 -295.931102 \nL 102.50452 -297.929991 \nL 99.458813 -299.494053 \nL 96.413106 -301.416941 \nL 93.367399 -303.76312 \nL 90.321692 -305.623043 \nL 87.275985 -307.402641 \nL 84.230278 -309.552249 \nL 81.184571 -311.695315 \nL 78.138864 -313.46095 \nL 75.093157 -315.086032 \nL 72.047449 -316.703396 \nL 69.001742 -318.320759 \nL 65.956035 -320.074921 \nL 62.910328 -322.077337 \nL 59.864621 -324.079752 \nL 56.818914 -326.274078 \nL 53.773207 -328.56738 \nL 50.7275 -330.396591 \nz\n\" id=\"m2f993ab3b6\" style=\"stroke:#ffffff;stroke-opacity:0.15;\"/>\n    </defs>\n    <g clip-path=\"url(#p2e02891536)\">\n     <use style=\"fill:#ff0000;fill-opacity:0.15;stroke:#ffffff;stroke-opacity:0.15;\" x=\"0\" xlink:href=\"#m2f993ab3b6\" y=\"355.128125\"/>\n    </g>\n   </g>\n   <g id=\"line2d_16\">\n    <path clip-path=\"url(#p2e02891536)\" d=\"M 50.7275 69.700136 \nL 53.773207 70.697892 \nL 56.818914 71.695648 \nL 59.864621 72.693404 \nL 62.910328 73.69116 \nL 65.956035 74.688916 \nL 69.001742 75.686672 \nL 72.047449 76.684428 \nL 75.093157 77.682184 \nL 78.138864 78.67994 \nL 81.184571 79.677696 \nL 84.230278 80.675452 \nL 87.275985 81.673208 \nL 90.321692 82.670964 \nL 93.367399 83.66872 \nL 96.413106 84.666476 \nL 99.458813 85.664232 \nL 102.50452 86.661988 \nL 105.550227 87.659744 \nL 108.595934 88.6575 \nL 111.641641 89.655256 \nL 114.687348 90.653012 \nL 117.733056 91.650768 \nL 120.778763 92.648524 \nL 123.82447 93.64628 \nL 126.870177 94.644036 \nL 129.915884 95.641792 \nL 132.961591 96.639548 \nL 136.007298 97.637305 \nL 139.053005 98.635061 \nL 142.098712 99.632817 \nL 145.144419 100.630573 \nL 148.190126 101.628329 \nL 151.235833 102.626085 \nL 154.28154 103.623841 \nL 157.327247 104.621597 \nL 160.372955 105.619353 \nL 163.418662 106.617109 \nL 166.464369 107.614865 \nL 169.510076 108.612621 \nL 172.555783 109.610377 \nL 175.60149 110.608133 \nL 178.647197 111.605889 \nL 181.692904 112.603645 \nL 184.738611 113.601401 \nL 187.784318 114.599157 \nL 190.830025 115.596913 \nL 193.875732 116.594669 \nL 196.921439 117.592425 \nL 199.967146 118.590181 \nL 203.012854 119.587937 \nL 206.058561 120.585693 \nL 209.104268 121.583449 \nL 212.149975 122.581205 \nL 215.195682 123.578961 \nL 218.241389 124.576717 \nL 221.287096 125.574473 \nL 224.332803 126.572229 \nL 227.37851 127.569985 \nL 230.424217 128.567741 \nL 233.469924 129.565497 \nL 236.515631 130.563253 \nL 239.561338 131.561009 \nL 242.607045 132.558765 \nL 245.652753 133.556521 \nL 248.69846 134.554277 \nL 251.744167 135.552033 \nL 254.789874 136.549789 \nL 257.835581 137.547545 \nL 260.881288 138.545301 \nL 263.926995 139.543057 \nL 266.972702 140.540813 \nL 270.018409 141.538569 \nL 273.064116 142.536325 \nL 276.109823 143.534081 \nL 279.15553 144.531837 \nL 282.201237 145.529593 \nL 285.246944 146.527349 \nL 288.292652 147.525105 \nL 291.338359 148.522861 \nL 294.384066 149.520617 \nL 297.429773 150.518373 \nL 300.47548 151.516129 \nL 303.521187 152.513885 \nL 306.566894 153.511641 \nL 309.612601 154.509397 \nL 312.658308 155.507153 \nL 315.704015 156.504909 \nL 318.749722 157.502665 \nL 321.795429 158.500421 \nL 324.841136 159.498177 \nL 327.886843 160.495933 \nL 330.932551 161.493689 \nL 333.978258 162.491445 \nL 337.023965 163.489201 \nL 340.069672 164.486957 \nL 343.115379 165.484713 \nL 346.161086 166.482469 \nL 349.206793 167.480225 \nL 352.2525 168.477981 \n\" style=\"fill:none;stroke:#ff0000;stroke-linecap:round;stroke-width:2.25;\"/>\n   </g>\n   <g id=\"patch_3\">\n    <path d=\"M 50.7275 317.29375 \nL 50.7275 10.8 \n\" style=\"fill:none;stroke:#cccccc;stroke-linecap:square;stroke-linejoin:miter;stroke-width:0.8;\"/>\n   </g>\n   <g id=\"patch_4\">\n    <path d=\"M 50.7275 317.29375 \nL 352.2525 317.29375 \n\" style=\"fill:none;stroke:#cccccc;stroke-linecap:square;stroke-linejoin:miter;stroke-width:0.8;\"/>\n   </g>\n  </g>\n  <g id=\"text_18\">\n   <!-- Probability of hour_of_day with respect to No-Show  -->\n   <defs>\n    <path d=\"M 9.1875 72.90625 \nL 40.375 72.90625 \nQ 54.296875 72.90625 61.734375 66.71875 \nQ 69.1875 60.546875 69.1875 49.125 \nQ 69.1875 37.640625 61.734375 31.46875 \nQ 54.296875 25.296875 40.375 25.296875 \nL 27.984375 25.296875 \nL 27.984375 0 \nL 9.1875 0 \nz\nM 27.984375 59.28125 \nL 27.984375 38.921875 \nL 38.375 38.921875 \nQ 43.84375 38.921875 46.828125 41.578125 \nQ 49.8125 44.234375 49.8125 49.125 \nQ 49.8125 54 46.828125 56.640625 \nQ 43.84375 59.28125 38.375 59.28125 \nz\n\" id=\"DejaVuSans-Bold-80\"/>\n    <path d=\"M 49.03125 39.796875 \nQ 46.734375 40.875 44.453125 41.375 \nQ 42.1875 41.890625 39.890625 41.890625 \nQ 33.15625 41.890625 29.515625 37.5625 \nQ 25.875 33.25 25.875 25.203125 \nL 25.875 0 \nL 8.40625 0 \nL 8.40625 54.6875 \nL 25.875 54.6875 \nL 25.875 45.703125 \nQ 29.25 51.078125 33.609375 53.53125 \nQ 37.984375 56 44.09375 56 \nQ 44.96875 56 45.984375 55.921875 \nQ 47.015625 55.859375 48.96875 55.609375 \nz\n\" id=\"DejaVuSans-Bold-114\"/>\n    <path d=\"M 34.421875 43.5 \nQ 28.609375 43.5 25.5625 39.328125 \nQ 22.515625 35.15625 22.515625 27.296875 \nQ 22.515625 19.4375 25.5625 15.25 \nQ 28.609375 11.078125 34.421875 11.078125 \nQ 40.140625 11.078125 43.15625 15.25 \nQ 46.1875 19.4375 46.1875 27.296875 \nQ 46.1875 35.15625 43.15625 39.328125 \nQ 40.140625 43.5 34.421875 43.5 \nz\nM 34.421875 56 \nQ 48.53125 56 56.46875 48.375 \nQ 64.40625 40.765625 64.40625 27.296875 \nQ 64.40625 13.8125 56.46875 6.1875 \nQ 48.53125 -1.421875 34.421875 -1.421875 \nQ 20.265625 -1.421875 12.28125 6.1875 \nQ 4.296875 13.8125 4.296875 27.296875 \nQ 4.296875 40.765625 12.28125 48.375 \nQ 20.265625 56 34.421875 56 \nz\n\" id=\"DejaVuSans-Bold-111\"/>\n    <path d=\"M 37.5 11.28125 \nQ 43.109375 11.28125 46.0625 15.375 \nQ 49.03125 19.484375 49.03125 27.296875 \nQ 49.03125 35.109375 46.0625 39.203125 \nQ 43.109375 43.3125 37.5 43.3125 \nQ 31.890625 43.3125 28.875 39.1875 \nQ 25.875 35.0625 25.875 27.296875 \nQ 25.875 19.53125 28.875 15.40625 \nQ 31.890625 11.28125 37.5 11.28125 \nz\nM 25.875 46.6875 \nQ 29.5 51.46875 33.890625 53.734375 \nQ 38.28125 56 44 56 \nQ 54.109375 56 60.59375 47.96875 \nQ 67.09375 39.9375 67.09375 27.296875 \nQ 67.09375 14.65625 60.59375 6.609375 \nQ 54.109375 -1.421875 44 -1.421875 \nQ 38.28125 -1.421875 33.890625 0.84375 \nQ 29.5 3.125 25.875 7.90625 \nL 25.875 0 \nL 8.40625 0 \nL 8.40625 75.984375 \nL 25.875 75.984375 \nz\n\" id=\"DejaVuSans-Bold-98\"/>\n    <path d=\"M 32.90625 24.609375 \nQ 27.4375 24.609375 24.671875 22.75 \nQ 21.921875 20.90625 21.921875 17.28125 \nQ 21.921875 13.96875 24.140625 12.078125 \nQ 26.375 10.203125 30.328125 10.203125 \nQ 35.25 10.203125 38.625 13.734375 \nQ 42 17.28125 42 22.609375 \nL 42 24.609375 \nz\nM 59.625 31.203125 \nL 59.625 0 \nL 42 0 \nL 42 8.109375 \nQ 38.484375 3.125 34.078125 0.84375 \nQ 29.6875 -1.421875 23.390625 -1.421875 \nQ 14.890625 -1.421875 9.59375 3.53125 \nQ 4.296875 8.5 4.296875 16.40625 \nQ 4.296875 26.03125 10.90625 30.515625 \nQ 17.53125 35.015625 31.6875 35.015625 \nL 42 35.015625 \nL 42 36.375 \nQ 42 40.53125 38.71875 42.453125 \nQ 35.453125 44.390625 28.515625 44.390625 \nQ 22.90625 44.390625 18.0625 43.265625 \nQ 13.234375 42.140625 9.078125 39.890625 \nL 9.078125 53.21875 \nQ 14.703125 54.59375 20.359375 55.296875 \nQ 26.03125 56 31.6875 56 \nQ 46.484375 56 53.046875 50.171875 \nQ 59.625 44.34375 59.625 31.203125 \nz\n\" id=\"DejaVuSans-Bold-97\"/>\n    <path d=\"M 8.40625 54.6875 \nL 25.875 54.6875 \nL 25.875 0 \nL 8.40625 0 \nz\nM 8.40625 75.984375 \nL 25.875 75.984375 \nL 25.875 61.71875 \nL 8.40625 61.71875 \nz\n\" id=\"DejaVuSans-Bold-105\"/>\n    <path d=\"M 8.40625 75.984375 \nL 25.875 75.984375 \nL 25.875 0 \nL 8.40625 0 \nz\n\" id=\"DejaVuSans-Bold-108\"/>\n    <path d=\"M 27.484375 70.21875 \nL 27.484375 54.6875 \nL 45.515625 54.6875 \nL 45.515625 42.1875 \nL 27.484375 42.1875 \nL 27.484375 19 \nQ 27.484375 15.1875 29 13.84375 \nQ 30.515625 12.5 35.015625 12.5 \nL 44 12.5 \nL 44 0 \nL 29 0 \nQ 18.65625 0 14.328125 4.3125 \nQ 10.015625 8.640625 10.015625 19 \nL 10.015625 42.1875 \nL 1.3125 42.1875 \nL 1.3125 54.6875 \nL 10.015625 54.6875 \nL 10.015625 70.21875 \nz\n\" id=\"DejaVuSans-Bold-116\"/>\n    <path d=\"M 1.21875 54.6875 \nL 18.703125 54.6875 \nL 33.40625 17.578125 \nL 45.90625 54.6875 \nL 63.375 54.6875 \nL 40.375 -5.171875 \nQ 36.921875 -14.3125 32.296875 -17.9375 \nQ 27.6875 -21.578125 20.125 -21.578125 \nL 10.015625 -21.578125 \nL 10.015625 -10.109375 \nL 15.484375 -10.109375 \nQ 19.921875 -10.109375 21.9375 -8.6875 \nQ 23.96875 -7.28125 25.09375 -3.609375 \nL 25.59375 -2.09375 \nz\n\" id=\"DejaVuSans-Bold-121\"/>\n    <path id=\"DejaVuSans-Bold-32\"/>\n    <path d=\"M 44.390625 75.984375 \nL 44.390625 64.5 \nL 34.71875 64.5 \nQ 31 64.5 29.53125 63.15625 \nQ 28.078125 61.8125 28.078125 58.5 \nL 28.078125 54.6875 \nL 43.015625 54.6875 \nL 43.015625 42.1875 \nL 28.078125 42.1875 \nL 28.078125 0 \nL 10.59375 0 \nL 10.59375 42.1875 \nL 1.90625 42.1875 \nL 1.90625 54.6875 \nL 10.59375 54.6875 \nL 10.59375 58.5 \nQ 10.59375 67.4375 15.578125 71.703125 \nQ 20.5625 75.984375 31 75.984375 \nz\n\" id=\"DejaVuSans-Bold-102\"/>\n    <path d=\"M 63.375 33.296875 \nL 63.375 0 \nL 45.796875 0 \nL 45.796875 5.421875 \nL 45.796875 25.390625 \nQ 45.796875 32.5625 45.484375 35.25 \nQ 45.171875 37.9375 44.390625 39.203125 \nQ 43.359375 40.921875 41.59375 41.875 \nQ 39.84375 42.828125 37.59375 42.828125 \nQ 32.125 42.828125 29 38.59375 \nQ 25.875 34.375 25.875 26.90625 \nL 25.875 0 \nL 8.40625 0 \nL 8.40625 75.984375 \nL 25.875 75.984375 \nL 25.875 46.6875 \nQ 29.828125 51.46875 34.265625 53.734375 \nQ 38.71875 56 44.09375 56 \nQ 53.5625 56 58.46875 50.1875 \nQ 63.375 44.390625 63.375 33.296875 \nz\n\" id=\"DejaVuSans-Bold-104\"/>\n    <path d=\"M 7.8125 21.296875 \nL 7.8125 54.6875 \nL 25.390625 54.6875 \nL 25.390625 49.21875 \nQ 25.390625 44.78125 25.34375 38.0625 \nQ 25.296875 31.34375 25.296875 29.109375 \nQ 25.296875 22.515625 25.640625 19.609375 \nQ 25.984375 16.703125 26.8125 15.375 \nQ 27.875 13.671875 29.609375 12.734375 \nQ 31.34375 11.8125 33.59375 11.8125 \nQ 39.0625 11.8125 42.1875 16.015625 \nQ 45.3125 20.21875 45.3125 27.6875 \nL 45.3125 54.6875 \nL 62.796875 54.6875 \nL 62.796875 0 \nL 45.3125 0 \nL 45.3125 7.90625 \nQ 41.359375 3.125 36.9375 0.84375 \nQ 32.515625 -1.421875 27.203125 -1.421875 \nQ 17.71875 -1.421875 12.765625 4.390625 \nQ 7.8125 10.203125 7.8125 21.296875 \nz\n\" id=\"DejaVuSans-Bold-117\"/>\n    <path d=\"M 50 -14.3125 \nL 50 -23.578125 \nL 0 -23.578125 \nL 0 -14.3125 \nz\n\" id=\"DejaVuSans-Bold-95\"/>\n    <path d=\"M 45.609375 46.6875 \nL 45.609375 75.984375 \nL 63.1875 75.984375 \nL 63.1875 0 \nL 45.609375 0 \nL 45.609375 7.90625 \nQ 42 3.078125 37.640625 0.828125 \nQ 33.296875 -1.421875 27.59375 -1.421875 \nQ 17.484375 -1.421875 10.984375 6.609375 \nQ 4.5 14.65625 4.5 27.296875 \nQ 4.5 39.9375 10.984375 47.96875 \nQ 17.484375 56 27.59375 56 \nQ 33.25 56 37.625 53.734375 \nQ 42 51.46875 45.609375 46.6875 \nz\nM 34.078125 11.28125 \nQ 39.703125 11.28125 42.65625 15.375 \nQ 45.609375 19.484375 45.609375 27.296875 \nQ 45.609375 35.109375 42.65625 39.203125 \nQ 39.703125 43.3125 34.078125 43.3125 \nQ 28.515625 43.3125 25.5625 39.203125 \nQ 22.609375 35.109375 22.609375 27.296875 \nQ 22.609375 19.484375 25.5625 15.375 \nQ 28.515625 11.28125 34.078125 11.28125 \nz\n\" id=\"DejaVuSans-Bold-100\"/>\n    <path d=\"M 3.515625 54.6875 \nL 20.515625 54.6875 \nL 29.6875 17 \nL 38.921875 54.6875 \nL 53.515625 54.6875 \nL 62.703125 17.390625 \nL 71.921875 54.6875 \nL 88.921875 54.6875 \nL 74.515625 0 \nL 55.421875 0 \nL 46.1875 37.59375 \nL 37.015625 0 \nL 17.921875 0 \nz\n\" id=\"DejaVuSans-Bold-119\"/>\n    <path d=\"M 62.984375 27.484375 \nL 62.984375 22.515625 \nL 22.125 22.515625 \nQ 22.75 16.359375 26.5625 13.28125 \nQ 30.375 10.203125 37.203125 10.203125 \nQ 42.71875 10.203125 48.5 11.84375 \nQ 54.296875 13.484375 60.40625 16.796875 \nL 60.40625 3.328125 \nQ 54.203125 0.984375 48 -0.21875 \nQ 41.796875 -1.421875 35.59375 -1.421875 \nQ 20.75 -1.421875 12.515625 6.125 \nQ 4.296875 13.671875 4.296875 27.296875 \nQ 4.296875 40.671875 12.375 48.328125 \nQ 20.453125 56 34.625 56 \nQ 47.515625 56 55.25 48.234375 \nQ 62.984375 40.484375 62.984375 27.484375 \nz\nM 45.015625 33.296875 \nQ 45.015625 38.28125 42.109375 41.328125 \nQ 39.203125 44.390625 34.515625 44.390625 \nQ 29.4375 44.390625 26.265625 41.53125 \nQ 23.09375 38.671875 22.3125 33.296875 \nz\n\" id=\"DejaVuSans-Bold-101\"/>\n    <path d=\"M 51.125 52.984375 \nL 51.125 39.703125 \nQ 45.515625 42.046875 40.28125 43.21875 \nQ 35.0625 44.390625 30.421875 44.390625 \nQ 25.4375 44.390625 23.015625 43.140625 \nQ 20.609375 41.890625 20.609375 39.3125 \nQ 20.609375 37.203125 22.4375 36.078125 \nQ 24.265625 34.96875 29 34.421875 \nL 32.078125 33.984375 \nQ 45.515625 32.28125 50.140625 28.375 \nQ 54.78125 24.46875 54.78125 16.109375 \nQ 54.78125 7.375 48.328125 2.96875 \nQ 41.890625 -1.421875 29.109375 -1.421875 \nQ 23.6875 -1.421875 17.890625 -0.5625 \nQ 12.109375 0.296875 6 2 \nL 6 15.28125 \nQ 11.234375 12.75 16.71875 11.46875 \nQ 22.21875 10.203125 27.875 10.203125 \nQ 33.015625 10.203125 35.59375 11.609375 \nQ 38.1875 13.03125 38.1875 15.828125 \nQ 38.1875 18.171875 36.40625 19.3125 \nQ 34.625 20.453125 29.296875 21.09375 \nL 26.21875 21.484375 \nQ 14.546875 22.953125 9.859375 26.90625 \nQ 5.171875 30.859375 5.171875 38.921875 \nQ 5.171875 47.609375 11.125 51.796875 \nQ 17.09375 56 29.390625 56 \nQ 34.234375 56 39.546875 55.265625 \nQ 44.875 54.546875 51.125 52.984375 \nz\n\" id=\"DejaVuSans-Bold-115\"/>\n    <path d=\"M 25.875 7.90625 \nL 25.875 -20.796875 \nL 8.40625 -20.796875 \nL 8.40625 54.6875 \nL 25.875 54.6875 \nL 25.875 46.6875 \nQ 29.5 51.46875 33.890625 53.734375 \nQ 38.28125 56 44 56 \nQ 54.109375 56 60.59375 47.96875 \nQ 67.09375 39.9375 67.09375 27.296875 \nQ 67.09375 14.65625 60.59375 6.609375 \nQ 54.109375 -1.421875 44 -1.421875 \nQ 38.28125 -1.421875 33.890625 0.84375 \nQ 29.5 3.125 25.875 7.90625 \nz\nM 37.5 43.3125 \nQ 31.890625 43.3125 28.875 39.1875 \nQ 25.875 35.0625 25.875 27.296875 \nQ 25.875 19.53125 28.875 15.40625 \nQ 31.890625 11.28125 37.5 11.28125 \nQ 43.109375 11.28125 46.0625 15.375 \nQ 49.03125 19.484375 49.03125 27.296875 \nQ 49.03125 35.109375 46.0625 39.203125 \nQ 43.109375 43.3125 37.5 43.3125 \nz\n\" id=\"DejaVuSans-Bold-112\"/>\n    <path d=\"M 52.59375 52.984375 \nL 52.59375 38.71875 \nQ 49.03125 41.15625 45.4375 42.328125 \nQ 41.84375 43.5 37.984375 43.5 \nQ 30.671875 43.5 26.59375 39.234375 \nQ 22.515625 34.96875 22.515625 27.296875 \nQ 22.515625 19.625 26.59375 15.34375 \nQ 30.671875 11.078125 37.984375 11.078125 \nQ 42.09375 11.078125 45.78125 12.296875 \nQ 49.46875 13.53125 52.59375 15.921875 \nL 52.59375 1.609375 \nQ 48.484375 0.09375 44.265625 -0.65625 \nQ 40.046875 -1.421875 35.796875 -1.421875 \nQ 21 -1.421875 12.640625 6.171875 \nQ 4.296875 13.765625 4.296875 27.296875 \nQ 4.296875 40.828125 12.640625 48.40625 \nQ 21 56 35.796875 56 \nQ 40.09375 56 44.265625 55.25 \nQ 48.4375 54.5 52.59375 52.984375 \nz\n\" id=\"DejaVuSans-Bold-99\"/>\n    <path d=\"M 9.1875 72.90625 \nL 30.171875 72.90625 \nL 56.6875 22.90625 \nL 56.6875 72.90625 \nL 74.515625 72.90625 \nL 74.515625 0 \nL 53.515625 0 \nL 27 50 \nL 27 0 \nL 9.1875 0 \nz\n\" id=\"DejaVuSans-Bold-78\"/>\n    <path d=\"M 5.421875 35.890625 \nL 36.078125 35.890625 \nL 36.078125 21.6875 \nL 5.421875 21.6875 \nz\n\" id=\"DejaVuSans-Bold-45\"/>\n    <path d=\"M 59.90625 70.609375 \nL 59.90625 55.171875 \nQ 53.90625 57.859375 48.1875 59.21875 \nQ 42.484375 60.59375 37.40625 60.59375 \nQ 30.671875 60.59375 27.4375 58.734375 \nQ 24.21875 56.890625 24.21875 52.984375 \nQ 24.21875 50.046875 26.390625 48.40625 \nQ 28.5625 46.78125 34.28125 45.609375 \nL 42.28125 44 \nQ 54.4375 41.546875 59.5625 36.5625 \nQ 64.703125 31.59375 64.703125 22.40625 \nQ 64.703125 10.359375 57.546875 4.46875 \nQ 50.390625 -1.421875 35.6875 -1.421875 \nQ 28.765625 -1.421875 21.78125 -0.09375 \nQ 14.796875 1.21875 7.8125 3.8125 \nL 7.8125 19.671875 \nQ 14.796875 15.96875 21.3125 14.078125 \nQ 27.828125 12.203125 33.890625 12.203125 \nQ 40.046875 12.203125 43.3125 14.25 \nQ 46.578125 16.3125 46.578125 20.125 \nQ 46.578125 23.53125 44.359375 25.390625 \nQ 42.140625 27.25 35.5 28.71875 \nL 28.21875 30.328125 \nQ 17.28125 32.671875 12.21875 37.796875 \nQ 7.171875 42.921875 7.171875 51.609375 \nQ 7.171875 62.5 14.203125 68.359375 \nQ 21.234375 74.21875 34.421875 74.21875 \nQ 40.4375 74.21875 46.78125 73.3125 \nQ 53.125 72.40625 59.90625 70.609375 \nz\n\" id=\"DejaVuSans-Bold-83\"/>\n   </defs>\n   <g style=\"fill:#262626;\" transform=\"translate(7.2 16.318125)scale(0.12 -0.12)\">\n    <use xlink:href=\"#DejaVuSans-Bold-80\"/>\n    <use x=\"73.291016\" xlink:href=\"#DejaVuSans-Bold-114\"/>\n    <use x=\"122.607422\" xlink:href=\"#DejaVuSans-Bold-111\"/>\n    <use x=\"191.308594\" xlink:href=\"#DejaVuSans-Bold-98\"/>\n    <use x=\"262.890625\" xlink:href=\"#DejaVuSans-Bold-97\"/>\n    <use x=\"330.371094\" xlink:href=\"#DejaVuSans-Bold-98\"/>\n    <use x=\"401.953125\" xlink:href=\"#DejaVuSans-Bold-105\"/>\n    <use x=\"436.230469\" xlink:href=\"#DejaVuSans-Bold-108\"/>\n    <use x=\"470.507812\" xlink:href=\"#DejaVuSans-Bold-105\"/>\n    <use x=\"504.785156\" xlink:href=\"#DejaVuSans-Bold-116\"/>\n    <use x=\"552.587891\" xlink:href=\"#DejaVuSans-Bold-121\"/>\n    <use x=\"617.773438\" xlink:href=\"#DejaVuSans-Bold-32\"/>\n    <use x=\"652.587891\" xlink:href=\"#DejaVuSans-Bold-111\"/>\n    <use x=\"721.289062\" xlink:href=\"#DejaVuSans-Bold-102\"/>\n    <use x=\"764.794922\" xlink:href=\"#DejaVuSans-Bold-32\"/>\n    <use x=\"799.609375\" xlink:href=\"#DejaVuSans-Bold-104\"/>\n    <use x=\"870.800781\" xlink:href=\"#DejaVuSans-Bold-111\"/>\n    <use x=\"939.501953\" xlink:href=\"#DejaVuSans-Bold-117\"/>\n    <use x=\"1010.693359\" xlink:href=\"#DejaVuSans-Bold-114\"/>\n    <use x=\"1060.009766\" xlink:href=\"#DejaVuSans-Bold-95\"/>\n    <use x=\"1110.009766\" xlink:href=\"#DejaVuSans-Bold-111\"/>\n    <use x=\"1178.710938\" xlink:href=\"#DejaVuSans-Bold-102\"/>\n    <use x=\"1222.216797\" xlink:href=\"#DejaVuSans-Bold-95\"/>\n    <use x=\"1272.216797\" xlink:href=\"#DejaVuSans-Bold-100\"/>\n    <use x=\"1343.798828\" xlink:href=\"#DejaVuSans-Bold-97\"/>\n    <use x=\"1408.154297\" xlink:href=\"#DejaVuSans-Bold-121\"/>\n    <use x=\"1473.339844\" xlink:href=\"#DejaVuSans-Bold-32\"/>\n    <use x=\"1508.154297\" xlink:href=\"#DejaVuSans-Bold-119\"/>\n    <use x=\"1600.537109\" xlink:href=\"#DejaVuSans-Bold-105\"/>\n    <use x=\"1634.814453\" xlink:href=\"#DejaVuSans-Bold-116\"/>\n    <use x=\"1682.617188\" xlink:href=\"#DejaVuSans-Bold-104\"/>\n    <use x=\"1753.808594\" xlink:href=\"#DejaVuSans-Bold-32\"/>\n    <use x=\"1788.623047\" xlink:href=\"#DejaVuSans-Bold-114\"/>\n    <use x=\"1837.939453\" xlink:href=\"#DejaVuSans-Bold-101\"/>\n    <use x=\"1905.761719\" xlink:href=\"#DejaVuSans-Bold-115\"/>\n    <use x=\"1965.283203\" xlink:href=\"#DejaVuSans-Bold-112\"/>\n    <use x=\"2036.865234\" xlink:href=\"#DejaVuSans-Bold-101\"/>\n    <use x=\"2104.6875\" xlink:href=\"#DejaVuSans-Bold-99\"/>\n    <use x=\"2163.964844\" xlink:href=\"#DejaVuSans-Bold-116\"/>\n    <use x=\"2211.767578\" xlink:href=\"#DejaVuSans-Bold-32\"/>\n    <use x=\"2246.582031\" xlink:href=\"#DejaVuSans-Bold-116\"/>\n    <use x=\"2294.384766\" xlink:href=\"#DejaVuSans-Bold-111\"/>\n    <use x=\"2363.085938\" xlink:href=\"#DejaVuSans-Bold-32\"/>\n    <use x=\"2397.900391\" xlink:href=\"#DejaVuSans-Bold-78\"/>\n    <use x=\"2481.591797\" xlink:href=\"#DejaVuSans-Bold-111\"/>\n    <use x=\"2550.292969\" xlink:href=\"#DejaVuSans-Bold-45\"/>\n    <use x=\"2591.796875\" xlink:href=\"#DejaVuSans-Bold-83\"/>\n    <use x=\"2663.818359\" xlink:href=\"#DejaVuSans-Bold-104\"/>\n    <use x=\"2735.009766\" xlink:href=\"#DejaVuSans-Bold-111\"/>\n    <use x=\"2803.710938\" xlink:href=\"#DejaVuSans-Bold-119\"/>\n    <use x=\"2896.09375\" xlink:href=\"#DejaVuSans-Bold-32\"/>\n   </g>\n   <!--  -->\n   <g style=\"fill:#262626;\" transform=\"translate(183.0525 30.08925)scale(0.12 -0.12)\"/>\n   <!--  -->\n   <g style=\"fill:#262626;\" transform=\"translate(183.0525 43.526625)scale(0.12 -0.12)\"/>\n   <!--   -->\n   <g style=\"fill:#262626;\" transform=\"translate(180.96375 56.964)scale(0.12 -0.12)\">\n    <use xlink:href=\"#DejaVuSans-Bold-32\"/>\n   </g>\n  </g>\n </g>\n <defs>\n  <clipPath id=\"p2e02891536\">\n   <rect height=\"306.49375\" width=\"301.525\" x=\"50.7275\" y=\"10.8\"/>\n  </clipPath>\n </defs>\n</svg>\n"
          },
          "metadata": {
            "tags": [],
            "needs_background": "light"
          }
        }
      ]
    },
    {
      "cell_type": "code",
      "metadata": {
        "id": "X3B-DNgy1EkG",
        "colab_type": "code",
        "outputId": "fff31ec5-178d-4352-b875-d7444fbb5354",
        "colab": {
          "base_uri": "https://localhost:8080/",
          "height": 309
        }
      },
      "source": [
        "#adding a variable for encoded week_day \n",
        "df['en_week_day'] = df['week_day'].astype('category')\n",
        "df[\"en_week_day\"] = df[\"en_week_day\"].cat.codes\n",
        "df.head()"
      ],
      "execution_count": 94,
      "outputs": [
        {
          "output_type": "execute_result",
          "data": {
            "text/html": [
              "<div>\n",
              "<style scoped>\n",
              "    .dataframe tbody tr th:only-of-type {\n",
              "        vertical-align: middle;\n",
              "    }\n",
              "\n",
              "    .dataframe tbody tr th {\n",
              "        vertical-align: top;\n",
              "    }\n",
              "\n",
              "    .dataframe thead th {\n",
              "        text-align: right;\n",
              "    }\n",
              "</style>\n",
              "<table border=\"1\" class=\"dataframe\">\n",
              "  <thead>\n",
              "    <tr style=\"text-align: right;\">\n",
              "      <th></th>\n",
              "      <th>age</th>\n",
              "      <th>gender</th>\n",
              "      <th>schedule_day</th>\n",
              "      <th>appointment_day</th>\n",
              "      <th>week_day</th>\n",
              "      <th>no_show</th>\n",
              "      <th>diabetes</th>\n",
              "      <th>alcoholism</th>\n",
              "      <th>hypertension</th>\n",
              "      <th>handicap</th>\n",
              "      <th>scholarship</th>\n",
              "      <th>sms_received</th>\n",
              "      <th>en_no_show</th>\n",
              "      <th>age_bin</th>\n",
              "      <th>waiting_time</th>\n",
              "      <th>appointment_month</th>\n",
              "      <th>en_appointment_month</th>\n",
              "      <th>hour_of_day</th>\n",
              "      <th>en_week_day</th>\n",
              "    </tr>\n",
              "  </thead>\n",
              "  <tbody>\n",
              "    <tr>\n",
              "      <th>0</th>\n",
              "      <td>19</td>\n",
              "      <td>M</td>\n",
              "      <td>2014-12-16 14:46:25</td>\n",
              "      <td>2015-01-14</td>\n",
              "      <td>Tuesday</td>\n",
              "      <td>noshow</td>\n",
              "      <td>0</td>\n",
              "      <td>0</td>\n",
              "      <td>0</td>\n",
              "      <td>0</td>\n",
              "      <td>0</td>\n",
              "      <td>0</td>\n",
              "      <td>0</td>\n",
              "      <td>Young-Adult</td>\n",
              "      <td>28</td>\n",
              "      <td>January</td>\n",
              "      <td>1</td>\n",
              "      <td>15</td>\n",
              "      <td>4</td>\n",
              "    </tr>\n",
              "    <tr>\n",
              "      <th>1</th>\n",
              "      <td>24</td>\n",
              "      <td>F</td>\n",
              "      <td>2015-08-18 07:01:26</td>\n",
              "      <td>2015-08-19</td>\n",
              "      <td>Tuesday</td>\n",
              "      <td>noshow</td>\n",
              "      <td>0</td>\n",
              "      <td>0</td>\n",
              "      <td>0</td>\n",
              "      <td>0</td>\n",
              "      <td>0</td>\n",
              "      <td>0</td>\n",
              "      <td>0</td>\n",
              "      <td>Young-Adult</td>\n",
              "      <td>1</td>\n",
              "      <td>August</td>\n",
              "      <td>8</td>\n",
              "      <td>7</td>\n",
              "      <td>4</td>\n",
              "    </tr>\n",
              "    <tr>\n",
              "      <th>2</th>\n",
              "      <td>4</td>\n",
              "      <td>F</td>\n",
              "      <td>2014-02-17 12:53:46</td>\n",
              "      <td>2014-02-18</td>\n",
              "      <td>Monday</td>\n",
              "      <td>noshow</td>\n",
              "      <td>0</td>\n",
              "      <td>0</td>\n",
              "      <td>0</td>\n",
              "      <td>0</td>\n",
              "      <td>0</td>\n",
              "      <td>0</td>\n",
              "      <td>0</td>\n",
              "      <td>Children</td>\n",
              "      <td>0</td>\n",
              "      <td>February</td>\n",
              "      <td>2</td>\n",
              "      <td>13</td>\n",
              "      <td>1</td>\n",
              "    </tr>\n",
              "    <tr>\n",
              "      <th>3</th>\n",
              "      <td>5</td>\n",
              "      <td>M</td>\n",
              "      <td>2014-07-23 17:02:11</td>\n",
              "      <td>2014-08-07</td>\n",
              "      <td>Wednesday</td>\n",
              "      <td>noshow</td>\n",
              "      <td>0</td>\n",
              "      <td>0</td>\n",
              "      <td>0</td>\n",
              "      <td>0</td>\n",
              "      <td>0</td>\n",
              "      <td>0</td>\n",
              "      <td>0</td>\n",
              "      <td>Children</td>\n",
              "      <td>14</td>\n",
              "      <td>August</td>\n",
              "      <td>8</td>\n",
              "      <td>17</td>\n",
              "      <td>5</td>\n",
              "    </tr>\n",
              "    <tr>\n",
              "      <th>4</th>\n",
              "      <td>38</td>\n",
              "      <td>M</td>\n",
              "      <td>2015-10-21 15:20:09</td>\n",
              "      <td>2015-10-27</td>\n",
              "      <td>Wednesday</td>\n",
              "      <td>noshow</td>\n",
              "      <td>0</td>\n",
              "      <td>0</td>\n",
              "      <td>0</td>\n",
              "      <td>0</td>\n",
              "      <td>0</td>\n",
              "      <td>0</td>\n",
              "      <td>0</td>\n",
              "      <td>Adult</td>\n",
              "      <td>5</td>\n",
              "      <td>October</td>\n",
              "      <td>10</td>\n",
              "      <td>15</td>\n",
              "      <td>5</td>\n",
              "    </tr>\n",
              "  </tbody>\n",
              "</table>\n",
              "</div>"
            ],
            "text/plain": [
              "   age gender  ... hour_of_day en_week_day\n",
              "0   19      M  ...          15           4\n",
              "1   24      F  ...           7           4\n",
              "2    4      F  ...          13           1\n",
              "3    5      M  ...          17           5\n",
              "4   38      M  ...          15           5\n",
              "\n",
              "[5 rows x 19 columns]"
            ]
          },
          "metadata": {
            "tags": []
          },
          "execution_count": 94
        }
      ]
    },
    {
      "cell_type": "markdown",
      "metadata": {
        "id": "0h3KEfTSzNEo",
        "colab_type": "text"
      },
      "source": [
        "**Checking if any gender tend to have highest no show rate**\n"
      ]
    },
    {
      "cell_type": "code",
      "metadata": {
        "id": "yFHEA21Ba0GK",
        "colab_type": "code",
        "outputId": "987c9b92-46a3-4293-bb17-556d606c7ec2",
        "colab": {
          "base_uri": "https://localhost:8080/",
          "height": 141
        }
      },
      "source": [
        "#Checking relation between gender and no_show\n",
        "gender_noshow = pd.crosstab(df['gender'], df['no_show'], normalize='index')\n",
        "gender_noshow"
      ],
      "execution_count": 95,
      "outputs": [
        {
          "output_type": "execute_result",
          "data": {
            "text/html": [
              "<div>\n",
              "<style scoped>\n",
              "    .dataframe tbody tr th:only-of-type {\n",
              "        vertical-align: middle;\n",
              "    }\n",
              "\n",
              "    .dataframe tbody tr th {\n",
              "        vertical-align: top;\n",
              "    }\n",
              "\n",
              "    .dataframe thead th {\n",
              "        text-align: right;\n",
              "    }\n",
              "</style>\n",
              "<table border=\"1\" class=\"dataframe\">\n",
              "  <thead>\n",
              "    <tr style=\"text-align: right;\">\n",
              "      <th>no_show</th>\n",
              "      <th>noshow</th>\n",
              "      <th>showup</th>\n",
              "    </tr>\n",
              "    <tr>\n",
              "      <th>gender</th>\n",
              "      <th></th>\n",
              "      <th></th>\n",
              "    </tr>\n",
              "  </thead>\n",
              "  <tbody>\n",
              "    <tr>\n",
              "      <th>F</th>\n",
              "      <td>0.584759</td>\n",
              "      <td>0.415241</td>\n",
              "    </tr>\n",
              "    <tr>\n",
              "      <th>M</th>\n",
              "      <td>0.569551</td>\n",
              "      <td>0.430449</td>\n",
              "    </tr>\n",
              "  </tbody>\n",
              "</table>\n",
              "</div>"
            ],
            "text/plain": [
              "no_show    noshow    showup\n",
              "gender                     \n",
              "F        0.584759  0.415241\n",
              "M        0.569551  0.430449"
            ]
          },
          "metadata": {
            "tags": []
          },
          "execution_count": 95
        }
      ]
    },
    {
      "cell_type": "code",
      "metadata": {
        "id": "jLLc5hF2sx-T",
        "colab_type": "code",
        "colab": {
          "base_uri": "https://localhost:8080/",
          "height": 386
        },
        "outputId": "b986e3eb-4ebb-4239-d340-bead1ec5e796"
      },
      "source": [
        "ct = pd.crosstab(df.gender, df['no_show'])\n",
        "ct.plot.bar(stacked=True)"
      ],
      "execution_count": 96,
      "outputs": [
        {
          "output_type": "execute_result",
          "data": {
            "text/plain": [
              "<matplotlib.axes._subplots.AxesSubplot at 0x7f9604138470>"
            ]
          },
          "metadata": {
            "tags": []
          },
          "execution_count": 96
        },
        {
          "output_type": "display_data",
          "data": {
            "text/plain": [
              "<Figure size 432x288 with 1 Axes>"
            ],
            "image/svg+xml": "<?xml version=\"1.0\" encoding=\"utf-8\" standalone=\"no\"?>\n<!DOCTYPE svg PUBLIC \"-//W3C//DTD SVG 1.1//EN\"\n  \"http://www.w3.org/Graphics/SVG/1.1/DTD/svg11.dtd\">\n<!-- Created with matplotlib (https://matplotlib.org/) -->\n<svg height=\"261.14625pt\" version=\"1.1\" viewBox=\"0 0 394.375 261.14625\" width=\"394.375pt\" xmlns=\"http://www.w3.org/2000/svg\" xmlns:xlink=\"http://www.w3.org/1999/xlink\">\n <defs>\n  <style type=\"text/css\">\n*{stroke-linecap:butt;stroke-linejoin:round;}\n  </style>\n </defs>\n <g id=\"figure_1\">\n  <g id=\"patch_1\">\n   <path d=\"M 0 261.14625 \nL 394.375 261.14625 \nL 394.375 0 \nL 0 0 \nz\n\" style=\"fill:none;\"/>\n  </g>\n  <g id=\"axes_1\">\n   <g id=\"patch_2\">\n    <path d=\"M 52.375 224.64 \nL 387.175 224.64 \nL 387.175 7.2 \nL 52.375 7.2 \nz\n\" style=\"fill:#ffffff;\"/>\n   </g>\n   <g id=\"matplotlib.axis_1\">\n    <g id=\"xtick_1\">\n     <g id=\"line2d_1\">\n      <path clip-path=\"url(#pbdc3c5b395)\" d=\"M 136.075 224.64 \nL 136.075 7.2 \n\" style=\"fill:none;stroke:#cccccc;stroke-linecap:round;stroke-width:0.8;\"/>\n     </g>\n     <g id=\"text_1\">\n      <!-- F -->\n      <defs>\n       <path d=\"M 9.8125 72.90625 \nL 51.703125 72.90625 \nL 51.703125 64.59375 \nL 19.671875 64.59375 \nL 19.671875 43.109375 \nL 48.578125 43.109375 \nL 48.578125 34.8125 \nL 19.671875 34.8125 \nL 19.671875 0 \nL 9.8125 0 \nz\n\" id=\"DejaVuSans-70\"/>\n      </defs>\n      <g style=\"fill:#262626;\" transform=\"translate(138.834375 237.391563)rotate(-90)scale(0.1 -0.1)\">\n       <use xlink:href=\"#DejaVuSans-70\"/>\n      </g>\n     </g>\n    </g>\n    <g id=\"xtick_2\">\n     <g id=\"line2d_2\">\n      <path clip-path=\"url(#pbdc3c5b395)\" d=\"M 303.475 224.64 \nL 303.475 7.2 \n\" style=\"fill:none;stroke:#cccccc;stroke-linecap:round;stroke-width:0.8;\"/>\n     </g>\n     <g id=\"text_2\">\n      <!-- M -->\n      <defs>\n       <path d=\"M 9.8125 72.90625 \nL 24.515625 72.90625 \nL 43.109375 23.296875 \nL 61.8125 72.90625 \nL 76.515625 72.90625 \nL 76.515625 0 \nL 66.890625 0 \nL 66.890625 64.015625 \nL 48.09375 14.015625 \nL 38.1875 14.015625 \nL 19.390625 64.015625 \nL 19.390625 0 \nL 9.8125 0 \nz\n\" id=\"DejaVuSans-77\"/>\n      </defs>\n      <g style=\"fill:#262626;\" transform=\"translate(306.234375 240.268125)rotate(-90)scale(0.1 -0.1)\">\n       <use xlink:href=\"#DejaVuSans-77\"/>\n      </g>\n     </g>\n    </g>\n    <g id=\"text_3\">\n     <!-- gender -->\n     <defs>\n      <path d=\"M 45.40625 27.984375 \nQ 45.40625 37.75 41.375 43.109375 \nQ 37.359375 48.484375 30.078125 48.484375 \nQ 22.859375 48.484375 18.828125 43.109375 \nQ 14.796875 37.75 14.796875 27.984375 \nQ 14.796875 18.265625 18.828125 12.890625 \nQ 22.859375 7.515625 30.078125 7.515625 \nQ 37.359375 7.515625 41.375 12.890625 \nQ 45.40625 18.265625 45.40625 27.984375 \nz\nM 54.390625 6.78125 \nQ 54.390625 -7.171875 48.1875 -13.984375 \nQ 42 -20.796875 29.203125 -20.796875 \nQ 24.46875 -20.796875 20.265625 -20.09375 \nQ 16.0625 -19.390625 12.109375 -17.921875 \nL 12.109375 -9.1875 \nQ 16.0625 -11.328125 19.921875 -12.34375 \nQ 23.78125 -13.375 27.78125 -13.375 \nQ 36.625 -13.375 41.015625 -8.765625 \nQ 45.40625 -4.15625 45.40625 5.171875 \nL 45.40625 9.625 \nQ 42.625 4.78125 38.28125 2.390625 \nQ 33.9375 0 27.875 0 \nQ 17.828125 0 11.671875 7.65625 \nQ 5.515625 15.328125 5.515625 27.984375 \nQ 5.515625 40.671875 11.671875 48.328125 \nQ 17.828125 56 27.875 56 \nQ 33.9375 56 38.28125 53.609375 \nQ 42.625 51.21875 45.40625 46.390625 \nL 45.40625 54.6875 \nL 54.390625 54.6875 \nz\n\" id=\"DejaVuSans-103\"/>\n      <path d=\"M 56.203125 29.59375 \nL 56.203125 25.203125 \nL 14.890625 25.203125 \nQ 15.484375 15.921875 20.484375 11.0625 \nQ 25.484375 6.203125 34.421875 6.203125 \nQ 39.59375 6.203125 44.453125 7.46875 \nQ 49.3125 8.734375 54.109375 11.28125 \nL 54.109375 2.78125 \nQ 49.265625 0.734375 44.1875 -0.34375 \nQ 39.109375 -1.421875 33.890625 -1.421875 \nQ 20.796875 -1.421875 13.15625 6.1875 \nQ 5.515625 13.8125 5.515625 26.8125 \nQ 5.515625 40.234375 12.765625 48.109375 \nQ 20.015625 56 32.328125 56 \nQ 43.359375 56 49.78125 48.890625 \nQ 56.203125 41.796875 56.203125 29.59375 \nz\nM 47.21875 32.234375 \nQ 47.125 39.59375 43.09375 43.984375 \nQ 39.0625 48.390625 32.421875 48.390625 \nQ 24.90625 48.390625 20.390625 44.140625 \nQ 15.875 39.890625 15.1875 32.171875 \nz\n\" id=\"DejaVuSans-101\"/>\n      <path d=\"M 54.890625 33.015625 \nL 54.890625 0 \nL 45.90625 0 \nL 45.90625 32.71875 \nQ 45.90625 40.484375 42.875 44.328125 \nQ 39.84375 48.1875 33.796875 48.1875 \nQ 26.515625 48.1875 22.3125 43.546875 \nQ 18.109375 38.921875 18.109375 30.90625 \nL 18.109375 0 \nL 9.078125 0 \nL 9.078125 54.6875 \nL 18.109375 54.6875 \nL 18.109375 46.1875 \nQ 21.34375 51.125 25.703125 53.5625 \nQ 30.078125 56 35.796875 56 \nQ 45.21875 56 50.046875 50.171875 \nQ 54.890625 44.34375 54.890625 33.015625 \nz\n\" id=\"DejaVuSans-110\"/>\n      <path d=\"M 45.40625 46.390625 \nL 45.40625 75.984375 \nL 54.390625 75.984375 \nL 54.390625 0 \nL 45.40625 0 \nL 45.40625 8.203125 \nQ 42.578125 3.328125 38.25 0.953125 \nQ 33.9375 -1.421875 27.875 -1.421875 \nQ 17.96875 -1.421875 11.734375 6.484375 \nQ 5.515625 14.40625 5.515625 27.296875 \nQ 5.515625 40.1875 11.734375 48.09375 \nQ 17.96875 56 27.875 56 \nQ 33.9375 56 38.25 53.625 \nQ 42.578125 51.265625 45.40625 46.390625 \nz\nM 14.796875 27.296875 \nQ 14.796875 17.390625 18.875 11.75 \nQ 22.953125 6.109375 30.078125 6.109375 \nQ 37.203125 6.109375 41.296875 11.75 \nQ 45.40625 17.390625 45.40625 27.296875 \nQ 45.40625 37.203125 41.296875 42.84375 \nQ 37.203125 48.484375 30.078125 48.484375 \nQ 22.953125 48.484375 18.875 42.84375 \nQ 14.796875 37.203125 14.796875 27.296875 \nz\n\" id=\"DejaVuSans-100\"/>\n      <path d=\"M 41.109375 46.296875 \nQ 39.59375 47.171875 37.8125 47.578125 \nQ 36.03125 48 33.890625 48 \nQ 26.265625 48 22.1875 43.046875 \nQ 18.109375 38.09375 18.109375 28.8125 \nL 18.109375 0 \nL 9.078125 0 \nL 9.078125 54.6875 \nL 18.109375 54.6875 \nL 18.109375 46.1875 \nQ 20.953125 51.171875 25.484375 53.578125 \nQ 30.03125 56 36.53125 56 \nQ 37.453125 56 38.578125 55.875 \nQ 39.703125 55.765625 41.0625 55.515625 \nz\n\" id=\"DejaVuSans-114\"/>\n     </defs>\n     <g style=\"fill:#262626;\" transform=\"translate(202.049219 251.866563)scale(0.1 -0.1)\">\n      <use xlink:href=\"#DejaVuSans-103\"/>\n      <use x=\"63.476562\" xlink:href=\"#DejaVuSans-101\"/>\n      <use x=\"125\" xlink:href=\"#DejaVuSans-110\"/>\n      <use x=\"188.378906\" xlink:href=\"#DejaVuSans-100\"/>\n      <use x=\"251.855469\" xlink:href=\"#DejaVuSans-101\"/>\n      <use x=\"313.378906\" xlink:href=\"#DejaVuSans-114\"/>\n     </g>\n    </g>\n   </g>\n   <g id=\"matplotlib.axis_2\">\n    <g id=\"ytick_1\">\n     <g id=\"line2d_3\">\n      <path clip-path=\"url(#pbdc3c5b395)\" d=\"M 52.375 224.64 \nL 387.175 224.64 \n\" style=\"fill:none;stroke:#cccccc;stroke-linecap:round;stroke-width:0.8;\"/>\n     </g>\n     <g id=\"text_4\">\n      <!-- 0 -->\n      <defs>\n       <path d=\"M 31.78125 66.40625 \nQ 24.171875 66.40625 20.328125 58.90625 \nQ 16.5 51.421875 16.5 36.375 \nQ 16.5 21.390625 20.328125 13.890625 \nQ 24.171875 6.390625 31.78125 6.390625 \nQ 39.453125 6.390625 43.28125 13.890625 \nQ 47.125 21.390625 47.125 36.375 \nQ 47.125 51.421875 43.28125 58.90625 \nQ 39.453125 66.40625 31.78125 66.40625 \nz\nM 31.78125 74.21875 \nQ 44.046875 74.21875 50.515625 64.515625 \nQ 56.984375 54.828125 56.984375 36.375 \nQ 56.984375 17.96875 50.515625 8.265625 \nQ 44.046875 -1.421875 31.78125 -1.421875 \nQ 19.53125 -1.421875 13.0625 8.265625 \nQ 6.59375 17.96875 6.59375 36.375 \nQ 6.59375 54.828125 13.0625 64.515625 \nQ 19.53125 74.21875 31.78125 74.21875 \nz\n\" id=\"DejaVuSans-48\"/>\n      </defs>\n      <g style=\"fill:#262626;\" transform=\"translate(39.0125 228.439219)scale(0.1 -0.1)\">\n       <use xlink:href=\"#DejaVuSans-48\"/>\n      </g>\n     </g>\n    </g>\n    <g id=\"ytick_2\">\n     <g id=\"line2d_4\">\n      <path clip-path=\"url(#pbdc3c5b395)\" d=\"M 52.375 185.423677 \nL 387.175 185.423677 \n\" style=\"fill:none;stroke:#cccccc;stroke-linecap:round;stroke-width:0.8;\"/>\n     </g>\n     <g id=\"text_5\">\n      <!-- 50000 -->\n      <defs>\n       <path d=\"M 10.796875 72.90625 \nL 49.515625 72.90625 \nL 49.515625 64.59375 \nL 19.828125 64.59375 \nL 19.828125 46.734375 \nQ 21.96875 47.46875 24.109375 47.828125 \nQ 26.265625 48.1875 28.421875 48.1875 \nQ 40.625 48.1875 47.75 41.5 \nQ 54.890625 34.8125 54.890625 23.390625 \nQ 54.890625 11.625 47.5625 5.09375 \nQ 40.234375 -1.421875 26.90625 -1.421875 \nQ 22.3125 -1.421875 17.546875 -0.640625 \nQ 12.796875 0.140625 7.71875 1.703125 \nL 7.71875 11.625 \nQ 12.109375 9.234375 16.796875 8.0625 \nQ 21.484375 6.890625 26.703125 6.890625 \nQ 35.15625 6.890625 40.078125 11.328125 \nQ 45.015625 15.765625 45.015625 23.390625 \nQ 45.015625 31 40.078125 35.4375 \nQ 35.15625 39.890625 26.703125 39.890625 \nQ 22.75 39.890625 18.8125 39.015625 \nQ 14.890625 38.140625 10.796875 36.28125 \nz\n\" id=\"DejaVuSans-53\"/>\n      </defs>\n      <g style=\"fill:#262626;\" transform=\"translate(13.5625 189.222896)scale(0.1 -0.1)\">\n       <use xlink:href=\"#DejaVuSans-53\"/>\n       <use x=\"63.623047\" xlink:href=\"#DejaVuSans-48\"/>\n       <use x=\"127.246094\" xlink:href=\"#DejaVuSans-48\"/>\n       <use x=\"190.869141\" xlink:href=\"#DejaVuSans-48\"/>\n       <use x=\"254.492188\" xlink:href=\"#DejaVuSans-48\"/>\n      </g>\n     </g>\n    </g>\n    <g id=\"ytick_3\">\n     <g id=\"line2d_5\">\n      <path clip-path=\"url(#pbdc3c5b395)\" d=\"M 52.375 146.207354 \nL 387.175 146.207354 \n\" style=\"fill:none;stroke:#cccccc;stroke-linecap:round;stroke-width:0.8;\"/>\n     </g>\n     <g id=\"text_6\">\n      <!-- 100000 -->\n      <defs>\n       <path d=\"M 12.40625 8.296875 \nL 28.515625 8.296875 \nL 28.515625 63.921875 \nL 10.984375 60.40625 \nL 10.984375 69.390625 \nL 28.421875 72.90625 \nL 38.28125 72.90625 \nL 38.28125 8.296875 \nL 54.390625 8.296875 \nL 54.390625 0 \nL 12.40625 0 \nz\n\" id=\"DejaVuSans-49\"/>\n      </defs>\n      <g style=\"fill:#262626;\" transform=\"translate(7.2 150.006573)scale(0.1 -0.1)\">\n       <use xlink:href=\"#DejaVuSans-49\"/>\n       <use x=\"63.623047\" xlink:href=\"#DejaVuSans-48\"/>\n       <use x=\"127.246094\" xlink:href=\"#DejaVuSans-48\"/>\n       <use x=\"190.869141\" xlink:href=\"#DejaVuSans-48\"/>\n       <use x=\"254.492188\" xlink:href=\"#DejaVuSans-48\"/>\n       <use x=\"318.115234\" xlink:href=\"#DejaVuSans-48\"/>\n      </g>\n     </g>\n    </g>\n    <g id=\"ytick_4\">\n     <g id=\"line2d_6\">\n      <path clip-path=\"url(#pbdc3c5b395)\" d=\"M 52.375 106.991032 \nL 387.175 106.991032 \n\" style=\"fill:none;stroke:#cccccc;stroke-linecap:round;stroke-width:0.8;\"/>\n     </g>\n     <g id=\"text_7\">\n      <!-- 150000 -->\n      <g style=\"fill:#262626;\" transform=\"translate(7.2 110.79025)scale(0.1 -0.1)\">\n       <use xlink:href=\"#DejaVuSans-49\"/>\n       <use x=\"63.623047\" xlink:href=\"#DejaVuSans-53\"/>\n       <use x=\"127.246094\" xlink:href=\"#DejaVuSans-48\"/>\n       <use x=\"190.869141\" xlink:href=\"#DejaVuSans-48\"/>\n       <use x=\"254.492188\" xlink:href=\"#DejaVuSans-48\"/>\n       <use x=\"318.115234\" xlink:href=\"#DejaVuSans-48\"/>\n      </g>\n     </g>\n    </g>\n    <g id=\"ytick_5\">\n     <g id=\"line2d_7\">\n      <path clip-path=\"url(#pbdc3c5b395)\" d=\"M 52.375 67.774709 \nL 387.175 67.774709 \n\" style=\"fill:none;stroke:#cccccc;stroke-linecap:round;stroke-width:0.8;\"/>\n     </g>\n     <g id=\"text_8\">\n      <!-- 200000 -->\n      <defs>\n       <path d=\"M 19.1875 8.296875 \nL 53.609375 8.296875 \nL 53.609375 0 \nL 7.328125 0 \nL 7.328125 8.296875 \nQ 12.9375 14.109375 22.625 23.890625 \nQ 32.328125 33.6875 34.8125 36.53125 \nQ 39.546875 41.84375 41.421875 45.53125 \nQ 43.3125 49.21875 43.3125 52.78125 \nQ 43.3125 58.59375 39.234375 62.25 \nQ 35.15625 65.921875 28.609375 65.921875 \nQ 23.96875 65.921875 18.8125 64.3125 \nQ 13.671875 62.703125 7.8125 59.421875 \nL 7.8125 69.390625 \nQ 13.765625 71.78125 18.9375 73 \nQ 24.125 74.21875 28.421875 74.21875 \nQ 39.75 74.21875 46.484375 68.546875 \nQ 53.21875 62.890625 53.21875 53.421875 \nQ 53.21875 48.921875 51.53125 44.890625 \nQ 49.859375 40.875 45.40625 35.40625 \nQ 44.1875 33.984375 37.640625 27.21875 \nQ 31.109375 20.453125 19.1875 8.296875 \nz\n\" id=\"DejaVuSans-50\"/>\n      </defs>\n      <g style=\"fill:#262626;\" transform=\"translate(7.2 71.573927)scale(0.1 -0.1)\">\n       <use xlink:href=\"#DejaVuSans-50\"/>\n       <use x=\"63.623047\" xlink:href=\"#DejaVuSans-48\"/>\n       <use x=\"127.246094\" xlink:href=\"#DejaVuSans-48\"/>\n       <use x=\"190.869141\" xlink:href=\"#DejaVuSans-48\"/>\n       <use x=\"254.492188\" xlink:href=\"#DejaVuSans-48\"/>\n       <use x=\"318.115234\" xlink:href=\"#DejaVuSans-48\"/>\n      </g>\n     </g>\n    </g>\n    <g id=\"ytick_6\">\n     <g id=\"line2d_8\">\n      <path clip-path=\"url(#pbdc3c5b395)\" d=\"M 52.375 28.558386 \nL 387.175 28.558386 \n\" style=\"fill:none;stroke:#cccccc;stroke-linecap:round;stroke-width:0.8;\"/>\n     </g>\n     <g id=\"text_9\">\n      <!-- 250000 -->\n      <g style=\"fill:#262626;\" transform=\"translate(7.2 32.357605)scale(0.1 -0.1)\">\n       <use xlink:href=\"#DejaVuSans-50\"/>\n       <use x=\"63.623047\" xlink:href=\"#DejaVuSans-53\"/>\n       <use x=\"127.246094\" xlink:href=\"#DejaVuSans-48\"/>\n       <use x=\"190.869141\" xlink:href=\"#DejaVuSans-48\"/>\n       <use x=\"254.492188\" xlink:href=\"#DejaVuSans-48\"/>\n       <use x=\"318.115234\" xlink:href=\"#DejaVuSans-48\"/>\n      </g>\n     </g>\n    </g>\n   </g>\n   <g id=\"patch_3\">\n    <path clip-path=\"url(#pbdc3c5b395)\" d=\"M 94.225 224.64 \nL 177.925 224.64 \nL 177.925 103.544701 \nL 94.225 103.544701 \nz\n\" style=\"fill:#1f77b4;stroke:#ffffff;stroke-linejoin:miter;\"/>\n   </g>\n   <g id=\"patch_4\">\n    <path clip-path=\"url(#pbdc3c5b395)\" d=\"M 261.625 224.64 \nL 345.325 224.64 \nL 345.325 165.132367 \nL 261.625 165.132367 \nz\n\" style=\"fill:#1f77b4;stroke:#ffffff;stroke-linejoin:miter;\"/>\n   </g>\n   <g id=\"patch_5\">\n    <path clip-path=\"url(#pbdc3c5b395)\" d=\"M 94.225 103.544701 \nL 177.925 103.544701 \nL 177.925 17.554286 \nL 94.225 17.554286 \nz\n\" style=\"fill:#ff7f0e;stroke:#ffffff;stroke-linejoin:miter;\"/>\n   </g>\n   <g id=\"patch_6\">\n    <path clip-path=\"url(#pbdc3c5b395)\" d=\"M 261.625 165.132367 \nL 345.325 165.132367 \nL 345.325 120.158304 \nL 261.625 120.158304 \nz\n\" style=\"fill:#ff7f0e;stroke:#ffffff;stroke-linejoin:miter;\"/>\n   </g>\n   <g id=\"patch_7\">\n    <path d=\"M 52.375 224.64 \nL 52.375 7.2 \n\" style=\"fill:none;stroke:#cccccc;stroke-linecap:square;stroke-linejoin:miter;stroke-width:0.8;\"/>\n   </g>\n   <g id=\"patch_8\">\n    <path d=\"M 387.175 224.64 \nL 387.175 7.2 \n\" style=\"fill:none;stroke:#cccccc;stroke-linecap:square;stroke-linejoin:miter;stroke-width:0.8;\"/>\n   </g>\n   <g id=\"patch_9\">\n    <path d=\"M 52.375 224.64 \nL 387.175 224.64 \n\" style=\"fill:none;stroke:#cccccc;stroke-linecap:square;stroke-linejoin:miter;stroke-width:0.8;\"/>\n   </g>\n   <g id=\"patch_10\">\n    <path d=\"M 52.375 7.2 \nL 387.175 7.2 \n\" style=\"fill:none;stroke:#cccccc;stroke-linecap:square;stroke-linejoin:miter;stroke-width:0.8;\"/>\n   </g>\n   <g id=\"legend_1\">\n    <g id=\"patch_11\">\n     <path d=\"M 309.645313 59.5125 \nL 380.175 59.5125 \nQ 382.175 59.5125 382.175 57.5125 \nL 382.175 14.2 \nQ 382.175 12.2 380.175 12.2 \nL 309.645313 12.2 \nQ 307.645313 12.2 307.645313 14.2 \nL 307.645313 57.5125 \nQ 307.645313 59.5125 309.645313 59.5125 \nz\n\" style=\"fill:#ffffff;opacity:0.8;stroke:#cccccc;stroke-linejoin:miter;\"/>\n    </g>\n    <g id=\"text_10\">\n     <!-- no_show -->\n     <defs>\n      <path d=\"M 30.609375 48.390625 \nQ 23.390625 48.390625 19.1875 42.75 \nQ 14.984375 37.109375 14.984375 27.296875 \nQ 14.984375 17.484375 19.15625 11.84375 \nQ 23.34375 6.203125 30.609375 6.203125 \nQ 37.796875 6.203125 41.984375 11.859375 \nQ 46.1875 17.53125 46.1875 27.296875 \nQ 46.1875 37.015625 41.984375 42.703125 \nQ 37.796875 48.390625 30.609375 48.390625 \nz\nM 30.609375 56 \nQ 42.328125 56 49.015625 48.375 \nQ 55.71875 40.765625 55.71875 27.296875 \nQ 55.71875 13.875 49.015625 6.21875 \nQ 42.328125 -1.421875 30.609375 -1.421875 \nQ 18.84375 -1.421875 12.171875 6.21875 \nQ 5.515625 13.875 5.515625 27.296875 \nQ 5.515625 40.765625 12.171875 48.375 \nQ 18.84375 56 30.609375 56 \nz\n\" id=\"DejaVuSans-111\"/>\n      <path d=\"M 50.984375 -16.609375 \nL 50.984375 -23.578125 \nL -0.984375 -23.578125 \nL -0.984375 -16.609375 \nz\n\" id=\"DejaVuSans-95\"/>\n      <path d=\"M 44.28125 53.078125 \nL 44.28125 44.578125 \nQ 40.484375 46.53125 36.375 47.5 \nQ 32.28125 48.484375 27.875 48.484375 \nQ 21.1875 48.484375 17.84375 46.4375 \nQ 14.5 44.390625 14.5 40.28125 \nQ 14.5 37.15625 16.890625 35.375 \nQ 19.28125 33.59375 26.515625 31.984375 \nL 29.59375 31.296875 \nQ 39.15625 29.25 43.1875 25.515625 \nQ 47.21875 21.78125 47.21875 15.09375 \nQ 47.21875 7.46875 41.1875 3.015625 \nQ 35.15625 -1.421875 24.609375 -1.421875 \nQ 20.21875 -1.421875 15.453125 -0.5625 \nQ 10.6875 0.296875 5.421875 2 \nL 5.421875 11.28125 \nQ 10.40625 8.6875 15.234375 7.390625 \nQ 20.0625 6.109375 24.8125 6.109375 \nQ 31.15625 6.109375 34.5625 8.28125 \nQ 37.984375 10.453125 37.984375 14.40625 \nQ 37.984375 18.0625 35.515625 20.015625 \nQ 33.0625 21.96875 24.703125 23.78125 \nL 21.578125 24.515625 \nQ 13.234375 26.265625 9.515625 29.90625 \nQ 5.8125 33.546875 5.8125 39.890625 \nQ 5.8125 47.609375 11.28125 51.796875 \nQ 16.75 56 26.8125 56 \nQ 31.78125 56 36.171875 55.265625 \nQ 40.578125 54.546875 44.28125 53.078125 \nz\n\" id=\"DejaVuSans-115\"/>\n      <path d=\"M 54.890625 33.015625 \nL 54.890625 0 \nL 45.90625 0 \nL 45.90625 32.71875 \nQ 45.90625 40.484375 42.875 44.328125 \nQ 39.84375 48.1875 33.796875 48.1875 \nQ 26.515625 48.1875 22.3125 43.546875 \nQ 18.109375 38.921875 18.109375 30.90625 \nL 18.109375 0 \nL 9.078125 0 \nL 9.078125 75.984375 \nL 18.109375 75.984375 \nL 18.109375 46.1875 \nQ 21.34375 51.125 25.703125 53.5625 \nQ 30.078125 56 35.796875 56 \nQ 45.21875 56 50.046875 50.171875 \nQ 54.890625 44.34375 54.890625 33.015625 \nz\n\" id=\"DejaVuSans-104\"/>\n      <path d=\"M 4.203125 54.6875 \nL 13.1875 54.6875 \nL 24.421875 12.015625 \nL 35.59375 54.6875 \nL 46.1875 54.6875 \nL 57.421875 12.015625 \nL 68.609375 54.6875 \nL 77.59375 54.6875 \nL 63.28125 0 \nL 52.6875 0 \nL 40.921875 44.828125 \nL 29.109375 0 \nL 18.5 0 \nz\n\" id=\"DejaVuSans-119\"/>\n     </defs>\n     <g style=\"fill:#262626;\" transform=\"translate(323.260156 23.798438)scale(0.1 -0.1)\">\n      <use xlink:href=\"#DejaVuSans-110\"/>\n      <use x=\"63.378906\" xlink:href=\"#DejaVuSans-111\"/>\n      <use x=\"124.560547\" xlink:href=\"#DejaVuSans-95\"/>\n      <use x=\"174.560547\" xlink:href=\"#DejaVuSans-115\"/>\n      <use x=\"226.660156\" xlink:href=\"#DejaVuSans-104\"/>\n      <use x=\"290.039062\" xlink:href=\"#DejaVuSans-111\"/>\n      <use x=\"351.220703\" xlink:href=\"#DejaVuSans-119\"/>\n     </g>\n    </g>\n    <g id=\"patch_12\">\n     <path d=\"M 311.645313 38.754688 \nL 331.645313 38.754688 \nL 331.645313 31.754688 \nL 311.645313 31.754688 \nz\n\" style=\"fill:#1f77b4;stroke:#ffffff;stroke-linejoin:miter;\"/>\n    </g>\n    <g id=\"text_11\">\n     <!-- noshow -->\n     <g style=\"fill:#262626;\" transform=\"translate(339.645313 38.754688)scale(0.1 -0.1)\">\n      <use xlink:href=\"#DejaVuSans-110\"/>\n      <use x=\"63.378906\" xlink:href=\"#DejaVuSans-111\"/>\n      <use x=\"124.560547\" xlink:href=\"#DejaVuSans-115\"/>\n      <use x=\"176.660156\" xlink:href=\"#DejaVuSans-104\"/>\n      <use x=\"240.039062\" xlink:href=\"#DejaVuSans-111\"/>\n      <use x=\"301.220703\" xlink:href=\"#DejaVuSans-119\"/>\n     </g>\n    </g>\n    <g id=\"patch_13\">\n     <path d=\"M 311.645313 53.432813 \nL 331.645313 53.432813 \nL 331.645313 46.432813 \nL 311.645313 46.432813 \nz\n\" style=\"fill:#ff7f0e;stroke:#ffffff;stroke-linejoin:miter;\"/>\n    </g>\n    <g id=\"text_12\">\n     <!-- showup -->\n     <defs>\n      <path d=\"M 8.5 21.578125 \nL 8.5 54.6875 \nL 17.484375 54.6875 \nL 17.484375 21.921875 \nQ 17.484375 14.15625 20.5 10.265625 \nQ 23.53125 6.390625 29.59375 6.390625 \nQ 36.859375 6.390625 41.078125 11.03125 \nQ 45.3125 15.671875 45.3125 23.6875 \nL 45.3125 54.6875 \nL 54.296875 54.6875 \nL 54.296875 0 \nL 45.3125 0 \nL 45.3125 8.40625 \nQ 42.046875 3.421875 37.71875 1 \nQ 33.40625 -1.421875 27.6875 -1.421875 \nQ 18.265625 -1.421875 13.375 4.4375 \nQ 8.5 10.296875 8.5 21.578125 \nz\nM 31.109375 56 \nz\n\" id=\"DejaVuSans-117\"/>\n      <path d=\"M 18.109375 8.203125 \nL 18.109375 -20.796875 \nL 9.078125 -20.796875 \nL 9.078125 54.6875 \nL 18.109375 54.6875 \nL 18.109375 46.390625 \nQ 20.953125 51.265625 25.265625 53.625 \nQ 29.59375 56 35.59375 56 \nQ 45.5625 56 51.78125 48.09375 \nQ 58.015625 40.1875 58.015625 27.296875 \nQ 58.015625 14.40625 51.78125 6.484375 \nQ 45.5625 -1.421875 35.59375 -1.421875 \nQ 29.59375 -1.421875 25.265625 0.953125 \nQ 20.953125 3.328125 18.109375 8.203125 \nz\nM 48.6875 27.296875 \nQ 48.6875 37.203125 44.609375 42.84375 \nQ 40.53125 48.484375 33.40625 48.484375 \nQ 26.265625 48.484375 22.1875 42.84375 \nQ 18.109375 37.203125 18.109375 27.296875 \nQ 18.109375 17.390625 22.1875 11.75 \nQ 26.265625 6.109375 33.40625 6.109375 \nQ 40.53125 6.109375 44.609375 11.75 \nQ 48.6875 17.390625 48.6875 27.296875 \nz\n\" id=\"DejaVuSans-112\"/>\n     </defs>\n     <g style=\"fill:#262626;\" transform=\"translate(339.645313 53.432813)scale(0.1 -0.1)\">\n      <use xlink:href=\"#DejaVuSans-115\"/>\n      <use x=\"52.099609\" xlink:href=\"#DejaVuSans-104\"/>\n      <use x=\"115.478516\" xlink:href=\"#DejaVuSans-111\"/>\n      <use x=\"176.660156\" xlink:href=\"#DejaVuSans-119\"/>\n      <use x=\"258.447266\" xlink:href=\"#DejaVuSans-117\"/>\n      <use x=\"321.826172\" xlink:href=\"#DejaVuSans-112\"/>\n     </g>\n    </g>\n   </g>\n  </g>\n </g>\n <defs>\n  <clipPath id=\"pbdc3c5b395\">\n   <rect height=\"217.44\" width=\"334.8\" x=\"52.375\" y=\"7.2\"/>\n  </clipPath>\n </defs>\n</svg>\n"
          },
          "metadata": {
            "tags": [],
            "needs_background": "light"
          }
        }
      ]
    },
    {
      "cell_type": "markdown",
      "metadata": {
        "id": "kd-hBMiLzkVa",
        "colab_type": "text"
      },
      "source": [
        "**Checking if any disease tend to have highest no show rate**"
      ]
    },
    {
      "cell_type": "code",
      "metadata": {
        "id": "umDmL7eJa8Rz",
        "colab_type": "code",
        "outputId": "6168aa93-d9d9-4840-ea7c-96f371d06d31",
        "colab": {
          "base_uri": "https://localhost:8080/",
          "height": 593
        }
      },
      "source": [
        "#Categorical features\n",
        "binary_var = ['diabetes', 'alcoholism', 'hypertension', 'scholarship', 'handicap', 'sms_received' ]\n",
        "'''\n",
        "fig, axes = plt.subplots(nrows=3, ncols=2, figsize=(12,12))\n",
        "fig.subplots_adjust(hspace=0.3)\n",
        "fig.suptitle('Target Features with respect to No-Show', fontsize=18)\n",
        "'''\n",
        "fig = plt.figure(figsize=(16, 11))\n",
        "for i, var in enumerate(binary_var):\n",
        "    ax = fig.add_subplot(3, 3, i+1)\n",
        "    df.groupby([var, 'no_show'])[var].count().unstack('no_show').plot(ax=ax, kind='bar', stacked=True)"
      ],
      "execution_count": 98,
      "outputs": [
        {
          "output_type": "display_data",
          "data": {
            "text/plain": [
              "<Figure size 1152x792 with 6 Axes>"
            ],
            "image/svg+xml": "<?xml version=\"1.0\" encoding=\"utf-8\" standalone=\"no\"?>\n<!DOCTYPE svg PUBLIC \"-//W3C//DTD SVG 1.1//EN\"\n  \"http://www.w3.org/Graphics/SVG/1.1/DTD/svg11.dtd\">\n<!-- Created with matplotlib (https://matplotlib.org/) -->\n<svg height=\"429.735511pt\" version=\"1.1\" viewBox=\"0 0 952.375 429.735511\" width=\"952.375pt\" xmlns=\"http://www.w3.org/2000/svg\" xmlns:xlink=\"http://www.w3.org/1999/xlink\">\n <defs>\n  <style type=\"text/css\">\n*{stroke-linecap:butt;stroke-linejoin:round;}\n  </style>\n </defs>\n <g id=\"figure_1\">\n  <g id=\"patch_1\">\n   <path d=\"M 0 429.735511 \nL 952.375 429.735511 \nL 952.375 0 \nL 0 0 \nz\n\" style=\"fill:none;\"/>\n  </g>\n  <g id=\"axes_1\">\n   <g id=\"patch_2\">\n    <path d=\"M 52.375 184.172056 \nL 314.963235 184.172056 \nL 314.963235 8.301467 \nL 52.375 8.301467 \nz\n\" style=\"fill:#ffffff;\"/>\n   </g>\n   <g id=\"matplotlib.axis_1\">\n    <g id=\"xtick_1\">\n     <g id=\"line2d_1\">\n      <path clip-path=\"url(#p9f968a51f6)\" d=\"M 118.022059 184.172056 \nL 118.022059 8.301467 \n\" style=\"fill:none;stroke:#cccccc;stroke-linecap:round;stroke-width:0.8;\"/>\n     </g>\n     <g id=\"text_1\">\n      <!-- 0 -->\n      <defs>\n       <path d=\"M 31.78125 66.40625 \nQ 24.171875 66.40625 20.328125 58.90625 \nQ 16.5 51.421875 16.5 36.375 \nQ 16.5 21.390625 20.328125 13.890625 \nQ 24.171875 6.390625 31.78125 6.390625 \nQ 39.453125 6.390625 43.28125 13.890625 \nQ 47.125 21.390625 47.125 36.375 \nQ 47.125 51.421875 43.28125 58.90625 \nQ 39.453125 66.40625 31.78125 66.40625 \nz\nM 31.78125 74.21875 \nQ 44.046875 74.21875 50.515625 64.515625 \nQ 56.984375 54.828125 56.984375 36.375 \nQ 56.984375 17.96875 50.515625 8.265625 \nQ 44.046875 -1.421875 31.78125 -1.421875 \nQ 19.53125 -1.421875 13.0625 8.265625 \nQ 6.59375 17.96875 6.59375 36.375 \nQ 6.59375 54.828125 13.0625 64.515625 \nQ 19.53125 74.21875 31.78125 74.21875 \nz\n\" id=\"DejaVuSans-48\"/>\n      </defs>\n      <g style=\"fill:#262626;\" transform=\"translate(120.781434 197.534556)rotate(-90)scale(0.1 -0.1)\">\n       <use xlink:href=\"#DejaVuSans-48\"/>\n      </g>\n     </g>\n    </g>\n    <g id=\"xtick_2\">\n     <g id=\"line2d_2\">\n      <path clip-path=\"url(#p9f968a51f6)\" d=\"M 249.316176 184.172056 \nL 249.316176 8.301467 \n\" style=\"fill:none;stroke:#cccccc;stroke-linecap:round;stroke-width:0.8;\"/>\n     </g>\n     <g id=\"text_2\">\n      <!-- 1 -->\n      <defs>\n       <path d=\"M 12.40625 8.296875 \nL 28.515625 8.296875 \nL 28.515625 63.921875 \nL 10.984375 60.40625 \nL 10.984375 69.390625 \nL 28.421875 72.90625 \nL 38.28125 72.90625 \nL 38.28125 8.296875 \nL 54.390625 8.296875 \nL 54.390625 0 \nL 12.40625 0 \nz\n\" id=\"DejaVuSans-49\"/>\n      </defs>\n      <g style=\"fill:#262626;\" transform=\"translate(252.075551 197.534556)rotate(-90)scale(0.1 -0.1)\">\n       <use xlink:href=\"#DejaVuSans-49\"/>\n      </g>\n     </g>\n    </g>\n    <g id=\"text_3\">\n     <!-- diabetes -->\n     <defs>\n      <path d=\"M 45.40625 46.390625 \nL 45.40625 75.984375 \nL 54.390625 75.984375 \nL 54.390625 0 \nL 45.40625 0 \nL 45.40625 8.203125 \nQ 42.578125 3.328125 38.25 0.953125 \nQ 33.9375 -1.421875 27.875 -1.421875 \nQ 17.96875 -1.421875 11.734375 6.484375 \nQ 5.515625 14.40625 5.515625 27.296875 \nQ 5.515625 40.1875 11.734375 48.09375 \nQ 17.96875 56 27.875 56 \nQ 33.9375 56 38.25 53.625 \nQ 42.578125 51.265625 45.40625 46.390625 \nz\nM 14.796875 27.296875 \nQ 14.796875 17.390625 18.875 11.75 \nQ 22.953125 6.109375 30.078125 6.109375 \nQ 37.203125 6.109375 41.296875 11.75 \nQ 45.40625 17.390625 45.40625 27.296875 \nQ 45.40625 37.203125 41.296875 42.84375 \nQ 37.203125 48.484375 30.078125 48.484375 \nQ 22.953125 48.484375 18.875 42.84375 \nQ 14.796875 37.203125 14.796875 27.296875 \nz\n\" id=\"DejaVuSans-100\"/>\n      <path d=\"M 9.421875 54.6875 \nL 18.40625 54.6875 \nL 18.40625 0 \nL 9.421875 0 \nz\nM 9.421875 75.984375 \nL 18.40625 75.984375 \nL 18.40625 64.59375 \nL 9.421875 64.59375 \nz\n\" id=\"DejaVuSans-105\"/>\n      <path d=\"M 34.28125 27.484375 \nQ 23.390625 27.484375 19.1875 25 \nQ 14.984375 22.515625 14.984375 16.5 \nQ 14.984375 11.71875 18.140625 8.90625 \nQ 21.296875 6.109375 26.703125 6.109375 \nQ 34.1875 6.109375 38.703125 11.40625 \nQ 43.21875 16.703125 43.21875 25.484375 \nL 43.21875 27.484375 \nz\nM 52.203125 31.203125 \nL 52.203125 0 \nL 43.21875 0 \nL 43.21875 8.296875 \nQ 40.140625 3.328125 35.546875 0.953125 \nQ 30.953125 -1.421875 24.3125 -1.421875 \nQ 15.921875 -1.421875 10.953125 3.296875 \nQ 6 8.015625 6 15.921875 \nQ 6 25.140625 12.171875 29.828125 \nQ 18.359375 34.515625 30.609375 34.515625 \nL 43.21875 34.515625 \nL 43.21875 35.40625 \nQ 43.21875 41.609375 39.140625 45 \nQ 35.0625 48.390625 27.6875 48.390625 \nQ 23 48.390625 18.546875 47.265625 \nQ 14.109375 46.140625 10.015625 43.890625 \nL 10.015625 52.203125 \nQ 14.9375 54.109375 19.578125 55.046875 \nQ 24.21875 56 28.609375 56 \nQ 40.484375 56 46.34375 49.84375 \nQ 52.203125 43.703125 52.203125 31.203125 \nz\n\" id=\"DejaVuSans-97\"/>\n      <path d=\"M 48.6875 27.296875 \nQ 48.6875 37.203125 44.609375 42.84375 \nQ 40.53125 48.484375 33.40625 48.484375 \nQ 26.265625 48.484375 22.1875 42.84375 \nQ 18.109375 37.203125 18.109375 27.296875 \nQ 18.109375 17.390625 22.1875 11.75 \nQ 26.265625 6.109375 33.40625 6.109375 \nQ 40.53125 6.109375 44.609375 11.75 \nQ 48.6875 17.390625 48.6875 27.296875 \nz\nM 18.109375 46.390625 \nQ 20.953125 51.265625 25.265625 53.625 \nQ 29.59375 56 35.59375 56 \nQ 45.5625 56 51.78125 48.09375 \nQ 58.015625 40.1875 58.015625 27.296875 \nQ 58.015625 14.40625 51.78125 6.484375 \nQ 45.5625 -1.421875 35.59375 -1.421875 \nQ 29.59375 -1.421875 25.265625 0.953125 \nQ 20.953125 3.328125 18.109375 8.203125 \nL 18.109375 0 \nL 9.078125 0 \nL 9.078125 75.984375 \nL 18.109375 75.984375 \nz\n\" id=\"DejaVuSans-98\"/>\n      <path d=\"M 56.203125 29.59375 \nL 56.203125 25.203125 \nL 14.890625 25.203125 \nQ 15.484375 15.921875 20.484375 11.0625 \nQ 25.484375 6.203125 34.421875 6.203125 \nQ 39.59375 6.203125 44.453125 7.46875 \nQ 49.3125 8.734375 54.109375 11.28125 \nL 54.109375 2.78125 \nQ 49.265625 0.734375 44.1875 -0.34375 \nQ 39.109375 -1.421875 33.890625 -1.421875 \nQ 20.796875 -1.421875 13.15625 6.1875 \nQ 5.515625 13.8125 5.515625 26.8125 \nQ 5.515625 40.234375 12.765625 48.109375 \nQ 20.015625 56 32.328125 56 \nQ 43.359375 56 49.78125 48.890625 \nQ 56.203125 41.796875 56.203125 29.59375 \nz\nM 47.21875 32.234375 \nQ 47.125 39.59375 43.09375 43.984375 \nQ 39.0625 48.390625 32.421875 48.390625 \nQ 24.90625 48.390625 20.390625 44.140625 \nQ 15.875 39.890625 15.1875 32.171875 \nz\n\" id=\"DejaVuSans-101\"/>\n      <path d=\"M 18.3125 70.21875 \nL 18.3125 54.6875 \nL 36.8125 54.6875 \nL 36.8125 47.703125 \nL 18.3125 47.703125 \nL 18.3125 18.015625 \nQ 18.3125 11.328125 20.140625 9.421875 \nQ 21.96875 7.515625 27.59375 7.515625 \nL 36.8125 7.515625 \nL 36.8125 0 \nL 27.59375 0 \nQ 17.1875 0 13.234375 3.875 \nQ 9.28125 7.765625 9.28125 18.015625 \nL 9.28125 47.703125 \nL 2.6875 47.703125 \nL 2.6875 54.6875 \nL 9.28125 54.6875 \nL 9.28125 70.21875 \nz\n\" id=\"DejaVuSans-116\"/>\n      <path d=\"M 44.28125 53.078125 \nL 44.28125 44.578125 \nQ 40.484375 46.53125 36.375 47.5 \nQ 32.28125 48.484375 27.875 48.484375 \nQ 21.1875 48.484375 17.84375 46.4375 \nQ 14.5 44.390625 14.5 40.28125 \nQ 14.5 37.15625 16.890625 35.375 \nQ 19.28125 33.59375 26.515625 31.984375 \nL 29.59375 31.296875 \nQ 39.15625 29.25 43.1875 25.515625 \nQ 47.21875 21.78125 47.21875 15.09375 \nQ 47.21875 7.46875 41.1875 3.015625 \nQ 35.15625 -1.421875 24.609375 -1.421875 \nQ 20.21875 -1.421875 15.453125 -0.5625 \nQ 10.6875 0.296875 5.421875 2 \nL 5.421875 11.28125 \nQ 10.40625 8.6875 15.234375 7.390625 \nQ 20.0625 6.109375 24.8125 6.109375 \nQ 31.15625 6.109375 34.5625 8.28125 \nQ 37.984375 10.453125 37.984375 14.40625 \nQ 37.984375 18.0625 35.515625 20.015625 \nQ 33.0625 21.96875 24.703125 23.78125 \nL 21.578125 24.515625 \nQ 13.234375 26.265625 9.515625 29.90625 \nQ 5.8125 33.546875 5.8125 39.890625 \nQ 5.8125 47.609375 11.28125 51.796875 \nQ 16.75 56 26.8125 56 \nQ 31.78125 56 36.171875 55.265625 \nQ 40.578125 54.546875 44.28125 53.078125 \nz\n\" id=\"DejaVuSans-115\"/>\n     </defs>\n     <g style=\"fill:#262626;\" transform=\"translate(162.149586 209.132993)scale(0.1 -0.1)\">\n      <use xlink:href=\"#DejaVuSans-100\"/>\n      <use x=\"63.476562\" xlink:href=\"#DejaVuSans-105\"/>\n      <use x=\"91.259766\" xlink:href=\"#DejaVuSans-97\"/>\n      <use x=\"152.539062\" xlink:href=\"#DejaVuSans-98\"/>\n      <use x=\"216.015625\" xlink:href=\"#DejaVuSans-101\"/>\n      <use x=\"277.539062\" xlink:href=\"#DejaVuSans-116\"/>\n      <use x=\"316.748047\" xlink:href=\"#DejaVuSans-101\"/>\n      <use x=\"378.271484\" xlink:href=\"#DejaVuSans-115\"/>\n     </g>\n    </g>\n   </g>\n   <g id=\"matplotlib.axis_2\">\n    <g id=\"ytick_1\">\n     <g id=\"line2d_3\">\n      <path clip-path=\"url(#p9f968a51f6)\" d=\"M 52.375 184.172056 \nL 314.963235 184.172056 \n\" style=\"fill:none;stroke:#cccccc;stroke-linecap:round;stroke-width:0.8;\"/>\n     </g>\n     <g id=\"text_4\">\n      <!-- 0 -->\n      <g style=\"fill:#262626;\" transform=\"translate(39.0125 187.971274)scale(0.1 -0.1)\">\n       <use xlink:href=\"#DejaVuSans-48\"/>\n      </g>\n     </g>\n    </g>\n    <g id=\"ytick_2\">\n     <g id=\"line2d_4\">\n      <path clip-path=\"url(#p9f968a51f6)\" d=\"M 52.375 161.342014 \nL 314.963235 161.342014 \n\" style=\"fill:none;stroke:#cccccc;stroke-linecap:round;stroke-width:0.8;\"/>\n     </g>\n     <g id=\"text_5\">\n      <!-- 50000 -->\n      <defs>\n       <path d=\"M 10.796875 72.90625 \nL 49.515625 72.90625 \nL 49.515625 64.59375 \nL 19.828125 64.59375 \nL 19.828125 46.734375 \nQ 21.96875 47.46875 24.109375 47.828125 \nQ 26.265625 48.1875 28.421875 48.1875 \nQ 40.625 48.1875 47.75 41.5 \nQ 54.890625 34.8125 54.890625 23.390625 \nQ 54.890625 11.625 47.5625 5.09375 \nQ 40.234375 -1.421875 26.90625 -1.421875 \nQ 22.3125 -1.421875 17.546875 -0.640625 \nQ 12.796875 0.140625 7.71875 1.703125 \nL 7.71875 11.625 \nQ 12.109375 9.234375 16.796875 8.0625 \nQ 21.484375 6.890625 26.703125 6.890625 \nQ 35.15625 6.890625 40.078125 11.328125 \nQ 45.015625 15.765625 45.015625 23.390625 \nQ 45.015625 31 40.078125 35.4375 \nQ 35.15625 39.890625 26.703125 39.890625 \nQ 22.75 39.890625 18.8125 39.015625 \nQ 14.890625 38.140625 10.796875 36.28125 \nz\n\" id=\"DejaVuSans-53\"/>\n      </defs>\n      <g style=\"fill:#262626;\" transform=\"translate(13.5625 165.141232)scale(0.1 -0.1)\">\n       <use xlink:href=\"#DejaVuSans-53\"/>\n       <use x=\"63.623047\" xlink:href=\"#DejaVuSans-48\"/>\n       <use x=\"127.246094\" xlink:href=\"#DejaVuSans-48\"/>\n       <use x=\"190.869141\" xlink:href=\"#DejaVuSans-48\"/>\n       <use x=\"254.492188\" xlink:href=\"#DejaVuSans-48\"/>\n      </g>\n     </g>\n    </g>\n    <g id=\"ytick_3\">\n     <g id=\"line2d_5\">\n      <path clip-path=\"url(#p9f968a51f6)\" d=\"M 52.375 138.511972 \nL 314.963235 138.511972 \n\" style=\"fill:none;stroke:#cccccc;stroke-linecap:round;stroke-width:0.8;\"/>\n     </g>\n     <g id=\"text_6\">\n      <!-- 100000 -->\n      <g style=\"fill:#262626;\" transform=\"translate(7.2 142.311191)scale(0.1 -0.1)\">\n       <use xlink:href=\"#DejaVuSans-49\"/>\n       <use x=\"63.623047\" xlink:href=\"#DejaVuSans-48\"/>\n       <use x=\"127.246094\" xlink:href=\"#DejaVuSans-48\"/>\n       <use x=\"190.869141\" xlink:href=\"#DejaVuSans-48\"/>\n       <use x=\"254.492188\" xlink:href=\"#DejaVuSans-48\"/>\n       <use x=\"318.115234\" xlink:href=\"#DejaVuSans-48\"/>\n      </g>\n     </g>\n    </g>\n    <g id=\"ytick_4\">\n     <g id=\"line2d_6\">\n      <path clip-path=\"url(#p9f968a51f6)\" d=\"M 52.375 115.68193 \nL 314.963235 115.68193 \n\" style=\"fill:none;stroke:#cccccc;stroke-linecap:round;stroke-width:0.8;\"/>\n     </g>\n     <g id=\"text_7\">\n      <!-- 150000 -->\n      <g style=\"fill:#262626;\" transform=\"translate(7.2 119.481149)scale(0.1 -0.1)\">\n       <use xlink:href=\"#DejaVuSans-49\"/>\n       <use x=\"63.623047\" xlink:href=\"#DejaVuSans-53\"/>\n       <use x=\"127.246094\" xlink:href=\"#DejaVuSans-48\"/>\n       <use x=\"190.869141\" xlink:href=\"#DejaVuSans-48\"/>\n       <use x=\"254.492188\" xlink:href=\"#DejaVuSans-48\"/>\n       <use x=\"318.115234\" xlink:href=\"#DejaVuSans-48\"/>\n      </g>\n     </g>\n    </g>\n    <g id=\"ytick_5\">\n     <g id=\"line2d_7\">\n      <path clip-path=\"url(#p9f968a51f6)\" d=\"M 52.375 92.851888 \nL 314.963235 92.851888 \n\" style=\"fill:none;stroke:#cccccc;stroke-linecap:round;stroke-width:0.8;\"/>\n     </g>\n     <g id=\"text_8\">\n      <!-- 200000 -->\n      <defs>\n       <path d=\"M 19.1875 8.296875 \nL 53.609375 8.296875 \nL 53.609375 0 \nL 7.328125 0 \nL 7.328125 8.296875 \nQ 12.9375 14.109375 22.625 23.890625 \nQ 32.328125 33.6875 34.8125 36.53125 \nQ 39.546875 41.84375 41.421875 45.53125 \nQ 43.3125 49.21875 43.3125 52.78125 \nQ 43.3125 58.59375 39.234375 62.25 \nQ 35.15625 65.921875 28.609375 65.921875 \nQ 23.96875 65.921875 18.8125 64.3125 \nQ 13.671875 62.703125 7.8125 59.421875 \nL 7.8125 69.390625 \nQ 13.765625 71.78125 18.9375 73 \nQ 24.125 74.21875 28.421875 74.21875 \nQ 39.75 74.21875 46.484375 68.546875 \nQ 53.21875 62.890625 53.21875 53.421875 \nQ 53.21875 48.921875 51.53125 44.890625 \nQ 49.859375 40.875 45.40625 35.40625 \nQ 44.1875 33.984375 37.640625 27.21875 \nQ 31.109375 20.453125 19.1875 8.296875 \nz\n\" id=\"DejaVuSans-50\"/>\n      </defs>\n      <g style=\"fill:#262626;\" transform=\"translate(7.2 96.651107)scale(0.1 -0.1)\">\n       <use xlink:href=\"#DejaVuSans-50\"/>\n       <use x=\"63.623047\" xlink:href=\"#DejaVuSans-48\"/>\n       <use x=\"127.246094\" xlink:href=\"#DejaVuSans-48\"/>\n       <use x=\"190.869141\" xlink:href=\"#DejaVuSans-48\"/>\n       <use x=\"254.492188\" xlink:href=\"#DejaVuSans-48\"/>\n       <use x=\"318.115234\" xlink:href=\"#DejaVuSans-48\"/>\n      </g>\n     </g>\n    </g>\n    <g id=\"ytick_6\">\n     <g id=\"line2d_8\">\n      <path clip-path=\"url(#p9f968a51f6)\" d=\"M 52.375 70.021846 \nL 314.963235 70.021846 \n\" style=\"fill:none;stroke:#cccccc;stroke-linecap:round;stroke-width:0.8;\"/>\n     </g>\n     <g id=\"text_9\">\n      <!-- 250000 -->\n      <g style=\"fill:#262626;\" transform=\"translate(7.2 73.821065)scale(0.1 -0.1)\">\n       <use xlink:href=\"#DejaVuSans-50\"/>\n       <use x=\"63.623047\" xlink:href=\"#DejaVuSans-53\"/>\n       <use x=\"127.246094\" xlink:href=\"#DejaVuSans-48\"/>\n       <use x=\"190.869141\" xlink:href=\"#DejaVuSans-48\"/>\n       <use x=\"254.492188\" xlink:href=\"#DejaVuSans-48\"/>\n       <use x=\"318.115234\" xlink:href=\"#DejaVuSans-48\"/>\n      </g>\n     </g>\n    </g>\n    <g id=\"ytick_7\">\n     <g id=\"line2d_9\">\n      <path clip-path=\"url(#p9f968a51f6)\" d=\"M 52.375 47.191804 \nL 314.963235 47.191804 \n\" style=\"fill:none;stroke:#cccccc;stroke-linecap:round;stroke-width:0.8;\"/>\n     </g>\n     <g id=\"text_10\">\n      <!-- 300000 -->\n      <defs>\n       <path d=\"M 40.578125 39.3125 \nQ 47.65625 37.796875 51.625 33 \nQ 55.609375 28.21875 55.609375 21.1875 \nQ 55.609375 10.40625 48.1875 4.484375 \nQ 40.765625 -1.421875 27.09375 -1.421875 \nQ 22.515625 -1.421875 17.65625 -0.515625 \nQ 12.796875 0.390625 7.625 2.203125 \nL 7.625 11.71875 \nQ 11.71875 9.328125 16.59375 8.109375 \nQ 21.484375 6.890625 26.8125 6.890625 \nQ 36.078125 6.890625 40.9375 10.546875 \nQ 45.796875 14.203125 45.796875 21.1875 \nQ 45.796875 27.640625 41.28125 31.265625 \nQ 36.765625 34.90625 28.71875 34.90625 \nL 20.21875 34.90625 \nL 20.21875 43.015625 \nL 29.109375 43.015625 \nQ 36.375 43.015625 40.234375 45.921875 \nQ 44.09375 48.828125 44.09375 54.296875 \nQ 44.09375 59.90625 40.109375 62.90625 \nQ 36.140625 65.921875 28.71875 65.921875 \nQ 24.65625 65.921875 20.015625 65.03125 \nQ 15.375 64.15625 9.8125 62.3125 \nL 9.8125 71.09375 \nQ 15.4375 72.65625 20.34375 73.4375 \nQ 25.25 74.21875 29.59375 74.21875 \nQ 40.828125 74.21875 47.359375 69.109375 \nQ 53.90625 64.015625 53.90625 55.328125 \nQ 53.90625 49.265625 50.4375 45.09375 \nQ 46.96875 40.921875 40.578125 39.3125 \nz\n\" id=\"DejaVuSans-51\"/>\n      </defs>\n      <g style=\"fill:#262626;\" transform=\"translate(7.2 50.991023)scale(0.1 -0.1)\">\n       <use xlink:href=\"#DejaVuSans-51\"/>\n       <use x=\"63.623047\" xlink:href=\"#DejaVuSans-48\"/>\n       <use x=\"127.246094\" xlink:href=\"#DejaVuSans-48\"/>\n       <use x=\"190.869141\" xlink:href=\"#DejaVuSans-48\"/>\n       <use x=\"254.492188\" xlink:href=\"#DejaVuSans-48\"/>\n       <use x=\"318.115234\" xlink:href=\"#DejaVuSans-48\"/>\n      </g>\n     </g>\n    </g>\n    <g id=\"ytick_8\">\n     <g id=\"line2d_10\">\n      <path clip-path=\"url(#p9f968a51f6)\" d=\"M 52.375 24.361763 \nL 314.963235 24.361763 \n\" style=\"fill:none;stroke:#cccccc;stroke-linecap:round;stroke-width:0.8;\"/>\n     </g>\n     <g id=\"text_11\">\n      <!-- 350000 -->\n      <g style=\"fill:#262626;\" transform=\"translate(7.2 28.160981)scale(0.1 -0.1)\">\n       <use xlink:href=\"#DejaVuSans-51\"/>\n       <use x=\"63.623047\" xlink:href=\"#DejaVuSans-53\"/>\n       <use x=\"127.246094\" xlink:href=\"#DejaVuSans-48\"/>\n       <use x=\"190.869141\" xlink:href=\"#DejaVuSans-48\"/>\n       <use x=\"254.492188\" xlink:href=\"#DejaVuSans-48\"/>\n       <use x=\"318.115234\" xlink:href=\"#DejaVuSans-48\"/>\n      </g>\n     </g>\n    </g>\n   </g>\n   <g id=\"patch_3\">\n    <path clip-path=\"url(#p9f968a51f6)\" d=\"M 85.198529 184.172056 \nL 150.845588 184.172056 \nL 150.845588 87.59276 \nL 85.198529 87.59276 \nz\n\" style=\"fill:#1f77b4;stroke:#ffffff;stroke-linejoin:miter;\"/>\n   </g>\n   <g id=\"patch_4\">\n    <path clip-path=\"url(#p9f968a51f6)\" d=\"M 216.492647 184.172056 \nL 282.139706 184.172056 \nL 282.139706 175.61216 \nL 216.492647 175.61216 \nz\n\" style=\"fill:#1f77b4;stroke:#ffffff;stroke-linejoin:miter;\"/>\n   </g>\n   <g id=\"patch_5\">\n    <path clip-path=\"url(#p9f968a51f6)\" d=\"M 85.198529 87.59276 \nL 150.845588 87.59276 \nL 150.845588 16.676257 \nL 85.198529 16.676257 \nz\n\" style=\"fill:#ff7f0e;stroke:#ffffff;stroke-linejoin:miter;\"/>\n   </g>\n   <g id=\"patch_6\">\n    <path clip-path=\"url(#p9f968a51f6)\" d=\"M 216.492647 175.61216 \nL 282.139706 175.61216 \nL 282.139706 170.286824 \nL 216.492647 170.286824 \nz\n\" style=\"fill:#ff7f0e;stroke:#ffffff;stroke-linejoin:miter;\"/>\n   </g>\n   <g id=\"patch_7\">\n    <path d=\"M 52.375 184.172056 \nL 52.375 8.301467 \n\" style=\"fill:none;stroke:#cccccc;stroke-linecap:square;stroke-linejoin:miter;stroke-width:0.8;\"/>\n   </g>\n   <g id=\"patch_8\">\n    <path d=\"M 314.963235 184.172056 \nL 314.963235 8.301467 \n\" style=\"fill:none;stroke:#cccccc;stroke-linecap:square;stroke-linejoin:miter;stroke-width:0.8;\"/>\n   </g>\n   <g id=\"patch_9\">\n    <path d=\"M 52.375 184.172056 \nL 314.963235 184.172056 \n\" style=\"fill:none;stroke:#cccccc;stroke-linecap:square;stroke-linejoin:miter;stroke-width:0.8;\"/>\n   </g>\n   <g id=\"patch_10\">\n    <path d=\"M 52.375 8.301467 \nL 314.963235 8.301467 \n\" style=\"fill:none;stroke:#cccccc;stroke-linecap:square;stroke-linejoin:miter;stroke-width:0.8;\"/>\n   </g>\n   <g id=\"legend_1\">\n    <g id=\"patch_11\">\n     <path d=\"M 237.433548 60.613967 \nL 307.963235 60.613967 \nQ 309.963235 60.613967 309.963235 58.613967 \nL 309.963235 15.301467 \nQ 309.963235 13.301467 307.963235 13.301467 \nL 237.433548 13.301467 \nQ 235.433548 13.301467 235.433548 15.301467 \nL 235.433548 58.613967 \nQ 235.433548 60.613967 237.433548 60.613967 \nz\n\" style=\"fill:#ffffff;opacity:0.8;stroke:#cccccc;stroke-linejoin:miter;\"/>\n    </g>\n    <g id=\"text_12\">\n     <!-- no_show -->\n     <defs>\n      <path d=\"M 54.890625 33.015625 \nL 54.890625 0 \nL 45.90625 0 \nL 45.90625 32.71875 \nQ 45.90625 40.484375 42.875 44.328125 \nQ 39.84375 48.1875 33.796875 48.1875 \nQ 26.515625 48.1875 22.3125 43.546875 \nQ 18.109375 38.921875 18.109375 30.90625 \nL 18.109375 0 \nL 9.078125 0 \nL 9.078125 54.6875 \nL 18.109375 54.6875 \nL 18.109375 46.1875 \nQ 21.34375 51.125 25.703125 53.5625 \nQ 30.078125 56 35.796875 56 \nQ 45.21875 56 50.046875 50.171875 \nQ 54.890625 44.34375 54.890625 33.015625 \nz\n\" id=\"DejaVuSans-110\"/>\n      <path d=\"M 30.609375 48.390625 \nQ 23.390625 48.390625 19.1875 42.75 \nQ 14.984375 37.109375 14.984375 27.296875 \nQ 14.984375 17.484375 19.15625 11.84375 \nQ 23.34375 6.203125 30.609375 6.203125 \nQ 37.796875 6.203125 41.984375 11.859375 \nQ 46.1875 17.53125 46.1875 27.296875 \nQ 46.1875 37.015625 41.984375 42.703125 \nQ 37.796875 48.390625 30.609375 48.390625 \nz\nM 30.609375 56 \nQ 42.328125 56 49.015625 48.375 \nQ 55.71875 40.765625 55.71875 27.296875 \nQ 55.71875 13.875 49.015625 6.21875 \nQ 42.328125 -1.421875 30.609375 -1.421875 \nQ 18.84375 -1.421875 12.171875 6.21875 \nQ 5.515625 13.875 5.515625 27.296875 \nQ 5.515625 40.765625 12.171875 48.375 \nQ 18.84375 56 30.609375 56 \nz\n\" id=\"DejaVuSans-111\"/>\n      <path d=\"M 50.984375 -16.609375 \nL 50.984375 -23.578125 \nL -0.984375 -23.578125 \nL -0.984375 -16.609375 \nz\n\" id=\"DejaVuSans-95\"/>\n      <path d=\"M 54.890625 33.015625 \nL 54.890625 0 \nL 45.90625 0 \nL 45.90625 32.71875 \nQ 45.90625 40.484375 42.875 44.328125 \nQ 39.84375 48.1875 33.796875 48.1875 \nQ 26.515625 48.1875 22.3125 43.546875 \nQ 18.109375 38.921875 18.109375 30.90625 \nL 18.109375 0 \nL 9.078125 0 \nL 9.078125 75.984375 \nL 18.109375 75.984375 \nL 18.109375 46.1875 \nQ 21.34375 51.125 25.703125 53.5625 \nQ 30.078125 56 35.796875 56 \nQ 45.21875 56 50.046875 50.171875 \nQ 54.890625 44.34375 54.890625 33.015625 \nz\n\" id=\"DejaVuSans-104\"/>\n      <path d=\"M 4.203125 54.6875 \nL 13.1875 54.6875 \nL 24.421875 12.015625 \nL 35.59375 54.6875 \nL 46.1875 54.6875 \nL 57.421875 12.015625 \nL 68.609375 54.6875 \nL 77.59375 54.6875 \nL 63.28125 0 \nL 52.6875 0 \nL 40.921875 44.828125 \nL 29.109375 0 \nL 18.5 0 \nz\n\" id=\"DejaVuSans-119\"/>\n     </defs>\n     <g style=\"fill:#262626;\" transform=\"translate(251.048392 24.899905)scale(0.1 -0.1)\">\n      <use xlink:href=\"#DejaVuSans-110\"/>\n      <use x=\"63.378906\" xlink:href=\"#DejaVuSans-111\"/>\n      <use x=\"124.560547\" xlink:href=\"#DejaVuSans-95\"/>\n      <use x=\"174.560547\" xlink:href=\"#DejaVuSans-115\"/>\n      <use x=\"226.660156\" xlink:href=\"#DejaVuSans-104\"/>\n      <use x=\"290.039062\" xlink:href=\"#DejaVuSans-111\"/>\n      <use x=\"351.220703\" xlink:href=\"#DejaVuSans-119\"/>\n     </g>\n    </g>\n    <g id=\"patch_12\">\n     <path d=\"M 239.433548 39.856155 \nL 259.433548 39.856155 \nL 259.433548 32.856155 \nL 239.433548 32.856155 \nz\n\" style=\"fill:#1f77b4;stroke:#ffffff;stroke-linejoin:miter;\"/>\n    </g>\n    <g id=\"text_13\">\n     <!-- noshow -->\n     <g style=\"fill:#262626;\" transform=\"translate(267.433548 39.856155)scale(0.1 -0.1)\">\n      <use xlink:href=\"#DejaVuSans-110\"/>\n      <use x=\"63.378906\" xlink:href=\"#DejaVuSans-111\"/>\n      <use x=\"124.560547\" xlink:href=\"#DejaVuSans-115\"/>\n      <use x=\"176.660156\" xlink:href=\"#DejaVuSans-104\"/>\n      <use x=\"240.039062\" xlink:href=\"#DejaVuSans-111\"/>\n      <use x=\"301.220703\" xlink:href=\"#DejaVuSans-119\"/>\n     </g>\n    </g>\n    <g id=\"patch_13\">\n     <path d=\"M 239.433548 54.53428 \nL 259.433548 54.53428 \nL 259.433548 47.53428 \nL 239.433548 47.53428 \nz\n\" style=\"fill:#ff7f0e;stroke:#ffffff;stroke-linejoin:miter;\"/>\n    </g>\n    <g id=\"text_14\">\n     <!-- showup -->\n     <defs>\n      <path d=\"M 8.5 21.578125 \nL 8.5 54.6875 \nL 17.484375 54.6875 \nL 17.484375 21.921875 \nQ 17.484375 14.15625 20.5 10.265625 \nQ 23.53125 6.390625 29.59375 6.390625 \nQ 36.859375 6.390625 41.078125 11.03125 \nQ 45.3125 15.671875 45.3125 23.6875 \nL 45.3125 54.6875 \nL 54.296875 54.6875 \nL 54.296875 0 \nL 45.3125 0 \nL 45.3125 8.40625 \nQ 42.046875 3.421875 37.71875 1 \nQ 33.40625 -1.421875 27.6875 -1.421875 \nQ 18.265625 -1.421875 13.375 4.4375 \nQ 8.5 10.296875 8.5 21.578125 \nz\nM 31.109375 56 \nz\n\" id=\"DejaVuSans-117\"/>\n      <path d=\"M 18.109375 8.203125 \nL 18.109375 -20.796875 \nL 9.078125 -20.796875 \nL 9.078125 54.6875 \nL 18.109375 54.6875 \nL 18.109375 46.390625 \nQ 20.953125 51.265625 25.265625 53.625 \nQ 29.59375 56 35.59375 56 \nQ 45.5625 56 51.78125 48.09375 \nQ 58.015625 40.1875 58.015625 27.296875 \nQ 58.015625 14.40625 51.78125 6.484375 \nQ 45.5625 -1.421875 35.59375 -1.421875 \nQ 29.59375 -1.421875 25.265625 0.953125 \nQ 20.953125 3.328125 18.109375 8.203125 \nz\nM 48.6875 27.296875 \nQ 48.6875 37.203125 44.609375 42.84375 \nQ 40.53125 48.484375 33.40625 48.484375 \nQ 26.265625 48.484375 22.1875 42.84375 \nQ 18.109375 37.203125 18.109375 27.296875 \nQ 18.109375 17.390625 22.1875 11.75 \nQ 26.265625 6.109375 33.40625 6.109375 \nQ 40.53125 6.109375 44.609375 11.75 \nQ 48.6875 17.390625 48.6875 27.296875 \nz\n\" id=\"DejaVuSans-112\"/>\n     </defs>\n     <g style=\"fill:#262626;\" transform=\"translate(267.433548 54.53428)scale(0.1 -0.1)\">\n      <use xlink:href=\"#DejaVuSans-115\"/>\n      <use x=\"52.099609\" xlink:href=\"#DejaVuSans-104\"/>\n      <use x=\"115.478516\" xlink:href=\"#DejaVuSans-111\"/>\n      <use x=\"176.660156\" xlink:href=\"#DejaVuSans-119\"/>\n      <use x=\"258.447266\" xlink:href=\"#DejaVuSans-117\"/>\n      <use x=\"321.826172\" xlink:href=\"#DejaVuSans-112\"/>\n     </g>\n    </g>\n   </g>\n  </g>\n  <g id=\"axes_2\">\n   <g id=\"patch_14\">\n    <path d=\"M 367.480882 184.172056 \nL 630.069118 184.172056 \nL 630.069118 8.301467 \nL 367.480882 8.301467 \nz\n\" style=\"fill:#ffffff;\"/>\n   </g>\n   <g id=\"matplotlib.axis_3\">\n    <g id=\"xtick_3\">\n     <g id=\"line2d_11\">\n      <path clip-path=\"url(#pa62265ee03)\" d=\"M 433.127941 184.172056 \nL 433.127941 8.301467 \n\" style=\"fill:none;stroke:#cccccc;stroke-linecap:round;stroke-width:0.8;\"/>\n     </g>\n     <g id=\"text_15\">\n      <!-- 0 -->\n      <g style=\"fill:#262626;\" transform=\"translate(435.887316 197.534556)rotate(-90)scale(0.1 -0.1)\">\n       <use xlink:href=\"#DejaVuSans-48\"/>\n      </g>\n     </g>\n    </g>\n    <g id=\"xtick_4\">\n     <g id=\"line2d_12\">\n      <path clip-path=\"url(#pa62265ee03)\" d=\"M 564.422059 184.172056 \nL 564.422059 8.301467 \n\" style=\"fill:none;stroke:#cccccc;stroke-linecap:round;stroke-width:0.8;\"/>\n     </g>\n     <g id=\"text_16\">\n      <!-- 1 -->\n      <g style=\"fill:#262626;\" transform=\"translate(567.181434 197.534556)rotate(-90)scale(0.1 -0.1)\">\n       <use xlink:href=\"#DejaVuSans-49\"/>\n      </g>\n     </g>\n    </g>\n    <g id=\"text_17\">\n     <!-- alcoholism -->\n     <defs>\n      <path d=\"M 9.421875 75.984375 \nL 18.40625 75.984375 \nL 18.40625 0 \nL 9.421875 0 \nz\n\" id=\"DejaVuSans-108\"/>\n      <path d=\"M 48.78125 52.59375 \nL 48.78125 44.1875 \nQ 44.96875 46.296875 41.140625 47.34375 \nQ 37.3125 48.390625 33.40625 48.390625 \nQ 24.65625 48.390625 19.8125 42.84375 \nQ 14.984375 37.3125 14.984375 27.296875 \nQ 14.984375 17.28125 19.8125 11.734375 \nQ 24.65625 6.203125 33.40625 6.203125 \nQ 37.3125 6.203125 41.140625 7.25 \nQ 44.96875 8.296875 48.78125 10.40625 \nL 48.78125 2.09375 \nQ 45.015625 0.34375 40.984375 -0.53125 \nQ 36.96875 -1.421875 32.421875 -1.421875 \nQ 20.0625 -1.421875 12.78125 6.34375 \nQ 5.515625 14.109375 5.515625 27.296875 \nQ 5.515625 40.671875 12.859375 48.328125 \nQ 20.21875 56 33.015625 56 \nQ 37.15625 56 41.109375 55.140625 \nQ 45.0625 54.296875 48.78125 52.59375 \nz\n\" id=\"DejaVuSans-99\"/>\n      <path d=\"M 52 44.1875 \nQ 55.375 50.25 60.0625 53.125 \nQ 64.75 56 71.09375 56 \nQ 79.640625 56 84.28125 50.015625 \nQ 88.921875 44.046875 88.921875 33.015625 \nL 88.921875 0 \nL 79.890625 0 \nL 79.890625 32.71875 \nQ 79.890625 40.578125 77.09375 44.375 \nQ 74.3125 48.1875 68.609375 48.1875 \nQ 61.625 48.1875 57.5625 43.546875 \nQ 53.515625 38.921875 53.515625 30.90625 \nL 53.515625 0 \nL 44.484375 0 \nL 44.484375 32.71875 \nQ 44.484375 40.625 41.703125 44.40625 \nQ 38.921875 48.1875 33.109375 48.1875 \nQ 26.21875 48.1875 22.15625 43.53125 \nQ 18.109375 38.875 18.109375 30.90625 \nL 18.109375 0 \nL 9.078125 0 \nL 9.078125 54.6875 \nL 18.109375 54.6875 \nL 18.109375 46.1875 \nQ 21.1875 51.21875 25.484375 53.609375 \nQ 29.78125 56 35.6875 56 \nQ 41.65625 56 45.828125 52.96875 \nQ 50 49.953125 52 44.1875 \nz\n\" id=\"DejaVuSans-109\"/>\n     </defs>\n     <g style=\"fill:#262626;\" transform=\"translate(472.032031 209.132993)scale(0.1 -0.1)\">\n      <use xlink:href=\"#DejaVuSans-97\"/>\n      <use x=\"61.279297\" xlink:href=\"#DejaVuSans-108\"/>\n      <use x=\"89.0625\" xlink:href=\"#DejaVuSans-99\"/>\n      <use x=\"144.042969\" xlink:href=\"#DejaVuSans-111\"/>\n      <use x=\"205.224609\" xlink:href=\"#DejaVuSans-104\"/>\n      <use x=\"268.603516\" xlink:href=\"#DejaVuSans-111\"/>\n      <use x=\"329.785156\" xlink:href=\"#DejaVuSans-108\"/>\n      <use x=\"357.568359\" xlink:href=\"#DejaVuSans-105\"/>\n      <use x=\"385.351562\" xlink:href=\"#DejaVuSans-115\"/>\n      <use x=\"437.451172\" xlink:href=\"#DejaVuSans-109\"/>\n     </g>\n    </g>\n   </g>\n   <g id=\"matplotlib.axis_4\">\n    <g id=\"ytick_9\">\n     <g id=\"line2d_13\">\n      <path clip-path=\"url(#pa62265ee03)\" d=\"M 367.480882 184.172056 \nL 630.069118 184.172056 \n\" style=\"fill:none;stroke:#cccccc;stroke-linecap:round;stroke-width:0.8;\"/>\n     </g>\n     <g id=\"text_18\">\n      <!-- 0 -->\n      <g style=\"fill:#262626;\" transform=\"translate(354.118382 187.971274)scale(0.1 -0.1)\">\n       <use xlink:href=\"#DejaVuSans-48\"/>\n      </g>\n     </g>\n    </g>\n    <g id=\"ytick_10\">\n     <g id=\"line2d_14\">\n      <path clip-path=\"url(#pa62265ee03)\" d=\"M 367.480882 140.878846 \nL 630.069118 140.878846 \n\" style=\"fill:none;stroke:#cccccc;stroke-linecap:round;stroke-width:0.8;\"/>\n     </g>\n     <g id=\"text_19\">\n      <!-- 100000 -->\n      <g style=\"fill:#262626;\" transform=\"translate(322.305882 144.678065)scale(0.1 -0.1)\">\n       <use xlink:href=\"#DejaVuSans-49\"/>\n       <use x=\"63.623047\" xlink:href=\"#DejaVuSans-48\"/>\n       <use x=\"127.246094\" xlink:href=\"#DejaVuSans-48\"/>\n       <use x=\"190.869141\" xlink:href=\"#DejaVuSans-48\"/>\n       <use x=\"254.492188\" xlink:href=\"#DejaVuSans-48\"/>\n       <use x=\"318.115234\" xlink:href=\"#DejaVuSans-48\"/>\n      </g>\n     </g>\n    </g>\n    <g id=\"ytick_11\">\n     <g id=\"line2d_15\">\n      <path clip-path=\"url(#pa62265ee03)\" d=\"M 367.480882 97.585637 \nL 630.069118 97.585637 \n\" style=\"fill:none;stroke:#cccccc;stroke-linecap:round;stroke-width:0.8;\"/>\n     </g>\n     <g id=\"text_20\">\n      <!-- 200000 -->\n      <g style=\"fill:#262626;\" transform=\"translate(322.305882 101.384856)scale(0.1 -0.1)\">\n       <use xlink:href=\"#DejaVuSans-50\"/>\n       <use x=\"63.623047\" xlink:href=\"#DejaVuSans-48\"/>\n       <use x=\"127.246094\" xlink:href=\"#DejaVuSans-48\"/>\n       <use x=\"190.869141\" xlink:href=\"#DejaVuSans-48\"/>\n       <use x=\"254.492188\" xlink:href=\"#DejaVuSans-48\"/>\n       <use x=\"318.115234\" xlink:href=\"#DejaVuSans-48\"/>\n      </g>\n     </g>\n    </g>\n    <g id=\"ytick_12\">\n     <g id=\"line2d_16\">\n      <path clip-path=\"url(#pa62265ee03)\" d=\"M 367.480882 54.292428 \nL 630.069118 54.292428 \n\" style=\"fill:none;stroke:#cccccc;stroke-linecap:round;stroke-width:0.8;\"/>\n     </g>\n     <g id=\"text_21\">\n      <!-- 300000 -->\n      <g style=\"fill:#262626;\" transform=\"translate(322.305882 58.091647)scale(0.1 -0.1)\">\n       <use xlink:href=\"#DejaVuSans-51\"/>\n       <use x=\"63.623047\" xlink:href=\"#DejaVuSans-48\"/>\n       <use x=\"127.246094\" xlink:href=\"#DejaVuSans-48\"/>\n       <use x=\"190.869141\" xlink:href=\"#DejaVuSans-48\"/>\n       <use x=\"254.492188\" xlink:href=\"#DejaVuSans-48\"/>\n       <use x=\"318.115234\" xlink:href=\"#DejaVuSans-48\"/>\n      </g>\n     </g>\n    </g>\n    <g id=\"ytick_13\">\n     <g id=\"line2d_17\">\n      <path clip-path=\"url(#pa62265ee03)\" d=\"M 367.480882 10.999219 \nL 630.069118 10.999219 \n\" style=\"fill:none;stroke:#cccccc;stroke-linecap:round;stroke-width:0.8;\"/>\n     </g>\n     <g id=\"text_22\">\n      <!-- 400000 -->\n      <defs>\n       <path d=\"M 37.796875 64.3125 \nL 12.890625 25.390625 \nL 37.796875 25.390625 \nz\nM 35.203125 72.90625 \nL 47.609375 72.90625 \nL 47.609375 25.390625 \nL 58.015625 25.390625 \nL 58.015625 17.1875 \nL 47.609375 17.1875 \nL 47.609375 0 \nL 37.796875 0 \nL 37.796875 17.1875 \nL 4.890625 17.1875 \nL 4.890625 26.703125 \nz\n\" id=\"DejaVuSans-52\"/>\n      </defs>\n      <g style=\"fill:#262626;\" transform=\"translate(322.305882 14.798437)scale(0.1 -0.1)\">\n       <use xlink:href=\"#DejaVuSans-52\"/>\n       <use x=\"63.623047\" xlink:href=\"#DejaVuSans-48\"/>\n       <use x=\"127.246094\" xlink:href=\"#DejaVuSans-48\"/>\n       <use x=\"190.869141\" xlink:href=\"#DejaVuSans-48\"/>\n       <use x=\"254.492188\" xlink:href=\"#DejaVuSans-48\"/>\n       <use x=\"318.115234\" xlink:href=\"#DejaVuSans-48\"/>\n      </g>\n     </g>\n    </g>\n   </g>\n   <g id=\"patch_15\">\n    <path clip-path=\"url(#pa62265ee03)\" d=\"M 400.304412 184.172056 \nL 465.951471 184.172056 \nL 465.951471 86.796104 \nL 400.304412 86.796104 \nz\n\" style=\"fill:#1f77b4;stroke:#ffffff;stroke-linejoin:miter;\"/>\n   </g>\n   <g id=\"patch_16\">\n    <path clip-path=\"url(#pa62265ee03)\" d=\"M 531.598529 184.172056 \nL 597.245588 184.172056 \nL 597.245588 181.858899 \nL 531.598529 181.858899 \nz\n\" style=\"fill:#1f77b4;stroke:#ffffff;stroke-linejoin:miter;\"/>\n   </g>\n   <g id=\"patch_17\">\n    <path clip-path=\"url(#pa62265ee03)\" d=\"M 400.304412 86.796104 \nL 465.951471 86.796104 \nL 465.951471 16.676257 \nL 400.304412 16.676257 \nz\n\" style=\"fill:#ff7f0e;stroke:#ffffff;stroke-linejoin:miter;\"/>\n   </g>\n   <g id=\"patch_18\">\n    <path clip-path=\"url(#pa62265ee03)\" d=\"M 531.598529 181.858899 \nL 597.245588 181.858899 \nL 597.245588 179.689044 \nL 531.598529 179.689044 \nz\n\" style=\"fill:#ff7f0e;stroke:#ffffff;stroke-linejoin:miter;\"/>\n   </g>\n   <g id=\"patch_19\">\n    <path d=\"M 367.480882 184.172056 \nL 367.480882 8.301467 \n\" style=\"fill:none;stroke:#cccccc;stroke-linecap:square;stroke-linejoin:miter;stroke-width:0.8;\"/>\n   </g>\n   <g id=\"patch_20\">\n    <path d=\"M 630.069118 184.172056 \nL 630.069118 8.301467 \n\" style=\"fill:none;stroke:#cccccc;stroke-linecap:square;stroke-linejoin:miter;stroke-width:0.8;\"/>\n   </g>\n   <g id=\"patch_21\">\n    <path d=\"M 367.480882 184.172056 \nL 630.069118 184.172056 \n\" style=\"fill:none;stroke:#cccccc;stroke-linecap:square;stroke-linejoin:miter;stroke-width:0.8;\"/>\n   </g>\n   <g id=\"patch_22\">\n    <path d=\"M 367.480882 8.301467 \nL 630.069118 8.301467 \n\" style=\"fill:none;stroke:#cccccc;stroke-linecap:square;stroke-linejoin:miter;stroke-width:0.8;\"/>\n   </g>\n   <g id=\"legend_2\">\n    <g id=\"patch_23\">\n     <path d=\"M 552.53943 60.613967 \nL 623.069118 60.613967 \nQ 625.069118 60.613967 625.069118 58.613967 \nL 625.069118 15.301467 \nQ 625.069118 13.301467 623.069118 13.301467 \nL 552.53943 13.301467 \nQ 550.53943 13.301467 550.53943 15.301467 \nL 550.53943 58.613967 \nQ 550.53943 60.613967 552.53943 60.613967 \nz\n\" style=\"fill:#ffffff;opacity:0.8;stroke:#cccccc;stroke-linejoin:miter;\"/>\n    </g>\n    <g id=\"text_23\">\n     <!-- no_show -->\n     <g style=\"fill:#262626;\" transform=\"translate(566.154274 24.899905)scale(0.1 -0.1)\">\n      <use xlink:href=\"#DejaVuSans-110\"/>\n      <use x=\"63.378906\" xlink:href=\"#DejaVuSans-111\"/>\n      <use x=\"124.560547\" xlink:href=\"#DejaVuSans-95\"/>\n      <use x=\"174.560547\" xlink:href=\"#DejaVuSans-115\"/>\n      <use x=\"226.660156\" xlink:href=\"#DejaVuSans-104\"/>\n      <use x=\"290.039062\" xlink:href=\"#DejaVuSans-111\"/>\n      <use x=\"351.220703\" xlink:href=\"#DejaVuSans-119\"/>\n     </g>\n    </g>\n    <g id=\"patch_24\">\n     <path d=\"M 554.53943 39.856155 \nL 574.53943 39.856155 \nL 574.53943 32.856155 \nL 554.53943 32.856155 \nz\n\" style=\"fill:#1f77b4;stroke:#ffffff;stroke-linejoin:miter;\"/>\n    </g>\n    <g id=\"text_24\">\n     <!-- noshow -->\n     <g style=\"fill:#262626;\" transform=\"translate(582.53943 39.856155)scale(0.1 -0.1)\">\n      <use xlink:href=\"#DejaVuSans-110\"/>\n      <use x=\"63.378906\" xlink:href=\"#DejaVuSans-111\"/>\n      <use x=\"124.560547\" xlink:href=\"#DejaVuSans-115\"/>\n      <use x=\"176.660156\" xlink:href=\"#DejaVuSans-104\"/>\n      <use x=\"240.039062\" xlink:href=\"#DejaVuSans-111\"/>\n      <use x=\"301.220703\" xlink:href=\"#DejaVuSans-119\"/>\n     </g>\n    </g>\n    <g id=\"patch_25\">\n     <path d=\"M 554.53943 54.53428 \nL 574.53943 54.53428 \nL 574.53943 47.53428 \nL 554.53943 47.53428 \nz\n\" style=\"fill:#ff7f0e;stroke:#ffffff;stroke-linejoin:miter;\"/>\n    </g>\n    <g id=\"text_25\">\n     <!-- showup -->\n     <g style=\"fill:#262626;\" transform=\"translate(582.53943 54.53428)scale(0.1 -0.1)\">\n      <use xlink:href=\"#DejaVuSans-115\"/>\n      <use x=\"52.099609\" xlink:href=\"#DejaVuSans-104\"/>\n      <use x=\"115.478516\" xlink:href=\"#DejaVuSans-111\"/>\n      <use x=\"176.660156\" xlink:href=\"#DejaVuSans-119\"/>\n      <use x=\"258.447266\" xlink:href=\"#DejaVuSans-117\"/>\n      <use x=\"321.826172\" xlink:href=\"#DejaVuSans-112\"/>\n     </g>\n    </g>\n   </g>\n  </g>\n  <g id=\"axes_3\">\n   <g id=\"patch_26\">\n    <path d=\"M 682.586765 184.172056 \nL 945.175 184.172056 \nL 945.175 8.301467 \nL 682.586765 8.301467 \nz\n\" style=\"fill:#ffffff;\"/>\n   </g>\n   <g id=\"matplotlib.axis_5\">\n    <g id=\"xtick_5\">\n     <g id=\"line2d_18\">\n      <path clip-path=\"url(#p6372519790)\" d=\"M 748.233824 184.172056 \nL 748.233824 8.301467 \n\" style=\"fill:none;stroke:#cccccc;stroke-linecap:round;stroke-width:0.8;\"/>\n     </g>\n     <g id=\"text_26\">\n      <!-- 0 -->\n      <g style=\"fill:#262626;\" transform=\"translate(750.993199 197.534556)rotate(-90)scale(0.1 -0.1)\">\n       <use xlink:href=\"#DejaVuSans-48\"/>\n      </g>\n     </g>\n    </g>\n    <g id=\"xtick_6\">\n     <g id=\"line2d_19\">\n      <path clip-path=\"url(#p6372519790)\" d=\"M 879.527941 184.172056 \nL 879.527941 8.301467 \n\" style=\"fill:none;stroke:#cccccc;stroke-linecap:round;stroke-width:0.8;\"/>\n     </g>\n     <g id=\"text_27\">\n      <!-- 1 -->\n      <g style=\"fill:#262626;\" transform=\"translate(882.287316 197.534556)rotate(-90)scale(0.1 -0.1)\">\n       <use xlink:href=\"#DejaVuSans-49\"/>\n      </g>\n     </g>\n    </g>\n    <g id=\"text_28\">\n     <!-- hypertension -->\n     <defs>\n      <path d=\"M 32.171875 -5.078125 \nQ 28.375 -14.84375 24.75 -17.8125 \nQ 21.140625 -20.796875 15.09375 -20.796875 \nL 7.90625 -20.796875 \nL 7.90625 -13.28125 \nL 13.1875 -13.28125 \nQ 16.890625 -13.28125 18.9375 -11.515625 \nQ 21 -9.765625 23.484375 -3.21875 \nL 25.09375 0.875 \nL 2.984375 54.6875 \nL 12.5 54.6875 \nL 29.59375 11.921875 \nL 46.6875 54.6875 \nL 56.203125 54.6875 \nz\n\" id=\"DejaVuSans-121\"/>\n      <path d=\"M 41.109375 46.296875 \nQ 39.59375 47.171875 37.8125 47.578125 \nQ 36.03125 48 33.890625 48 \nQ 26.265625 48 22.1875 43.046875 \nQ 18.109375 38.09375 18.109375 28.8125 \nL 18.109375 0 \nL 9.078125 0 \nL 9.078125 54.6875 \nL 18.109375 54.6875 \nL 18.109375 46.1875 \nQ 20.953125 51.171875 25.484375 53.578125 \nQ 30.03125 56 36.53125 56 \nQ 37.453125 56 38.578125 55.875 \nQ 39.703125 55.765625 41.0625 55.515625 \nz\n\" id=\"DejaVuSans-114\"/>\n     </defs>\n     <g style=\"fill:#262626;\" transform=\"translate(781.019164 209.132993)scale(0.1 -0.1)\">\n      <use xlink:href=\"#DejaVuSans-104\"/>\n      <use x=\"63.378906\" xlink:href=\"#DejaVuSans-121\"/>\n      <use x=\"122.558594\" xlink:href=\"#DejaVuSans-112\"/>\n      <use x=\"186.035156\" xlink:href=\"#DejaVuSans-101\"/>\n      <use x=\"247.558594\" xlink:href=\"#DejaVuSans-114\"/>\n      <use x=\"288.671875\" xlink:href=\"#DejaVuSans-116\"/>\n      <use x=\"327.880859\" xlink:href=\"#DejaVuSans-101\"/>\n      <use x=\"389.404297\" xlink:href=\"#DejaVuSans-110\"/>\n      <use x=\"452.783203\" xlink:href=\"#DejaVuSans-115\"/>\n      <use x=\"504.882812\" xlink:href=\"#DejaVuSans-105\"/>\n      <use x=\"532.666016\" xlink:href=\"#DejaVuSans-111\"/>\n      <use x=\"593.847656\" xlink:href=\"#DejaVuSans-110\"/>\n     </g>\n    </g>\n   </g>\n   <g id=\"matplotlib.axis_6\">\n    <g id=\"ytick_14\">\n     <g id=\"line2d_20\">\n      <path clip-path=\"url(#p6372519790)\" d=\"M 682.586765 184.172056 \nL 945.175 184.172056 \n\" style=\"fill:none;stroke:#cccccc;stroke-linecap:round;stroke-width:0.8;\"/>\n     </g>\n     <g id=\"text_29\">\n      <!-- 0 -->\n      <g style=\"fill:#262626;\" transform=\"translate(669.224265 187.971274)scale(0.1 -0.1)\">\n       <use xlink:href=\"#DejaVuSans-48\"/>\n      </g>\n     </g>\n    </g>\n    <g id=\"ytick_15\">\n     <g id=\"line2d_21\">\n      <path clip-path=\"url(#p6372519790)\" d=\"M 682.586765 157.416906 \nL 945.175 157.416906 \n\" style=\"fill:none;stroke:#cccccc;stroke-linecap:round;stroke-width:0.8;\"/>\n     </g>\n     <g id=\"text_30\">\n      <!-- 50000 -->\n      <g style=\"fill:#262626;\" transform=\"translate(643.774265 161.216125)scale(0.1 -0.1)\">\n       <use xlink:href=\"#DejaVuSans-53\"/>\n       <use x=\"63.623047\" xlink:href=\"#DejaVuSans-48\"/>\n       <use x=\"127.246094\" xlink:href=\"#DejaVuSans-48\"/>\n       <use x=\"190.869141\" xlink:href=\"#DejaVuSans-48\"/>\n       <use x=\"254.492188\" xlink:href=\"#DejaVuSans-48\"/>\n      </g>\n     </g>\n    </g>\n    <g id=\"ytick_16\">\n     <g id=\"line2d_22\">\n      <path clip-path=\"url(#p6372519790)\" d=\"M 682.586765 130.661756 \nL 945.175 130.661756 \n\" style=\"fill:none;stroke:#cccccc;stroke-linecap:round;stroke-width:0.8;\"/>\n     </g>\n     <g id=\"text_31\">\n      <!-- 100000 -->\n      <g style=\"fill:#262626;\" transform=\"translate(637.411765 134.460975)scale(0.1 -0.1)\">\n       <use xlink:href=\"#DejaVuSans-49\"/>\n       <use x=\"63.623047\" xlink:href=\"#DejaVuSans-48\"/>\n       <use x=\"127.246094\" xlink:href=\"#DejaVuSans-48\"/>\n       <use x=\"190.869141\" xlink:href=\"#DejaVuSans-48\"/>\n       <use x=\"254.492188\" xlink:href=\"#DejaVuSans-48\"/>\n       <use x=\"318.115234\" xlink:href=\"#DejaVuSans-48\"/>\n      </g>\n     </g>\n    </g>\n    <g id=\"ytick_17\">\n     <g id=\"line2d_23\">\n      <path clip-path=\"url(#p6372519790)\" d=\"M 682.586765 103.906607 \nL 945.175 103.906607 \n\" style=\"fill:none;stroke:#cccccc;stroke-linecap:round;stroke-width:0.8;\"/>\n     </g>\n     <g id=\"text_32\">\n      <!-- 150000 -->\n      <g style=\"fill:#262626;\" transform=\"translate(637.411765 107.705825)scale(0.1 -0.1)\">\n       <use xlink:href=\"#DejaVuSans-49\"/>\n       <use x=\"63.623047\" xlink:href=\"#DejaVuSans-53\"/>\n       <use x=\"127.246094\" xlink:href=\"#DejaVuSans-48\"/>\n       <use x=\"190.869141\" xlink:href=\"#DejaVuSans-48\"/>\n       <use x=\"254.492188\" xlink:href=\"#DejaVuSans-48\"/>\n       <use x=\"318.115234\" xlink:href=\"#DejaVuSans-48\"/>\n      </g>\n     </g>\n    </g>\n    <g id=\"ytick_18\">\n     <g id=\"line2d_24\">\n      <path clip-path=\"url(#p6372519790)\" d=\"M 682.586765 77.151457 \nL 945.175 77.151457 \n\" style=\"fill:none;stroke:#cccccc;stroke-linecap:round;stroke-width:0.8;\"/>\n     </g>\n     <g id=\"text_33\">\n      <!-- 200000 -->\n      <g style=\"fill:#262626;\" transform=\"translate(637.411765 80.950676)scale(0.1 -0.1)\">\n       <use xlink:href=\"#DejaVuSans-50\"/>\n       <use x=\"63.623047\" xlink:href=\"#DejaVuSans-48\"/>\n       <use x=\"127.246094\" xlink:href=\"#DejaVuSans-48\"/>\n       <use x=\"190.869141\" xlink:href=\"#DejaVuSans-48\"/>\n       <use x=\"254.492188\" xlink:href=\"#DejaVuSans-48\"/>\n       <use x=\"318.115234\" xlink:href=\"#DejaVuSans-48\"/>\n      </g>\n     </g>\n    </g>\n    <g id=\"ytick_19\">\n     <g id=\"line2d_25\">\n      <path clip-path=\"url(#p6372519790)\" d=\"M 682.586765 50.396307 \nL 945.175 50.396307 \n\" style=\"fill:none;stroke:#cccccc;stroke-linecap:round;stroke-width:0.8;\"/>\n     </g>\n     <g id=\"text_34\">\n      <!-- 250000 -->\n      <g style=\"fill:#262626;\" transform=\"translate(637.411765 54.195526)scale(0.1 -0.1)\">\n       <use xlink:href=\"#DejaVuSans-50\"/>\n       <use x=\"63.623047\" xlink:href=\"#DejaVuSans-53\"/>\n       <use x=\"127.246094\" xlink:href=\"#DejaVuSans-48\"/>\n       <use x=\"190.869141\" xlink:href=\"#DejaVuSans-48\"/>\n       <use x=\"254.492188\" xlink:href=\"#DejaVuSans-48\"/>\n       <use x=\"318.115234\" xlink:href=\"#DejaVuSans-48\"/>\n      </g>\n     </g>\n    </g>\n    <g id=\"ytick_20\">\n     <g id=\"line2d_26\">\n      <path clip-path=\"url(#p6372519790)\" d=\"M 682.586765 23.641158 \nL 945.175 23.641158 \n\" style=\"fill:none;stroke:#cccccc;stroke-linecap:round;stroke-width:0.8;\"/>\n     </g>\n     <g id=\"text_35\">\n      <!-- 300000 -->\n      <g style=\"fill:#262626;\" transform=\"translate(637.411765 27.440377)scale(0.1 -0.1)\">\n       <use xlink:href=\"#DejaVuSans-51\"/>\n       <use x=\"63.623047\" xlink:href=\"#DejaVuSans-48\"/>\n       <use x=\"127.246094\" xlink:href=\"#DejaVuSans-48\"/>\n       <use x=\"190.869141\" xlink:href=\"#DejaVuSans-48\"/>\n       <use x=\"254.492188\" xlink:href=\"#DejaVuSans-48\"/>\n       <use x=\"318.115234\" xlink:href=\"#DejaVuSans-48\"/>\n      </g>\n     </g>\n    </g>\n   </g>\n   <g id=\"patch_27\">\n    <path clip-path=\"url(#p6372519790)\" d=\"M 715.410294 184.172056 \nL 781.057353 184.172056 \nL 781.057353 88.745534 \nL 715.410294 88.745534 \nz\n\" style=\"fill:#1f77b4;stroke:#ffffff;stroke-linejoin:miter;\"/>\n   </g>\n   <g id=\"patch_28\">\n    <path clip-path=\"url(#p6372519790)\" d=\"M 846.704412 184.172056 \nL 912.351471 184.172056 \nL 912.351471 156.383087 \nL 846.704412 156.383087 \nz\n\" style=\"fill:#1f77b4;stroke:#ffffff;stroke-linejoin:miter;\"/>\n   </g>\n   <g id=\"patch_29\">\n    <path clip-path=\"url(#p6372519790)\" d=\"M 715.410294 88.745534 \nL 781.057353 88.745534 \nL 781.057353 16.676257 \nL 715.410294 16.676257 \nz\n\" style=\"fill:#ff7f0e;stroke:#ffffff;stroke-linejoin:miter;\"/>\n   </g>\n   <g id=\"patch_30\">\n    <path clip-path=\"url(#p6372519790)\" d=\"M 846.704412 156.383087 \nL 912.351471 156.383087 \nL 912.351471 139.102471 \nL 846.704412 139.102471 \nz\n\" style=\"fill:#ff7f0e;stroke:#ffffff;stroke-linejoin:miter;\"/>\n   </g>\n   <g id=\"patch_31\">\n    <path d=\"M 682.586765 184.172056 \nL 682.586765 8.301467 \n\" style=\"fill:none;stroke:#cccccc;stroke-linecap:square;stroke-linejoin:miter;stroke-width:0.8;\"/>\n   </g>\n   <g id=\"patch_32\">\n    <path d=\"M 945.175 184.172056 \nL 945.175 8.301467 \n\" style=\"fill:none;stroke:#cccccc;stroke-linecap:square;stroke-linejoin:miter;stroke-width:0.8;\"/>\n   </g>\n   <g id=\"patch_33\">\n    <path d=\"M 682.586765 184.172056 \nL 945.175 184.172056 \n\" style=\"fill:none;stroke:#cccccc;stroke-linecap:square;stroke-linejoin:miter;stroke-width:0.8;\"/>\n   </g>\n   <g id=\"patch_34\">\n    <path d=\"M 682.586765 8.301467 \nL 945.175 8.301467 \n\" style=\"fill:none;stroke:#cccccc;stroke-linecap:square;stroke-linejoin:miter;stroke-width:0.8;\"/>\n   </g>\n   <g id=\"legend_3\">\n    <g id=\"patch_35\">\n     <path d=\"M 867.645313 60.613967 \nL 938.175 60.613967 \nQ 940.175 60.613967 940.175 58.613967 \nL 940.175 15.301467 \nQ 940.175 13.301467 938.175 13.301467 \nL 867.645313 13.301467 \nQ 865.645313 13.301467 865.645313 15.301467 \nL 865.645313 58.613967 \nQ 865.645313 60.613967 867.645313 60.613967 \nz\n\" style=\"fill:#ffffff;opacity:0.8;stroke:#cccccc;stroke-linejoin:miter;\"/>\n    </g>\n    <g id=\"text_36\">\n     <!-- no_show -->\n     <g style=\"fill:#262626;\" transform=\"translate(881.260156 24.899905)scale(0.1 -0.1)\">\n      <use xlink:href=\"#DejaVuSans-110\"/>\n      <use x=\"63.378906\" xlink:href=\"#DejaVuSans-111\"/>\n      <use x=\"124.560547\" xlink:href=\"#DejaVuSans-95\"/>\n      <use x=\"174.560547\" xlink:href=\"#DejaVuSans-115\"/>\n      <use x=\"226.660156\" xlink:href=\"#DejaVuSans-104\"/>\n      <use x=\"290.039062\" xlink:href=\"#DejaVuSans-111\"/>\n      <use x=\"351.220703\" xlink:href=\"#DejaVuSans-119\"/>\n     </g>\n    </g>\n    <g id=\"patch_36\">\n     <path d=\"M 869.645313 39.856155 \nL 889.645313 39.856155 \nL 889.645313 32.856155 \nL 869.645313 32.856155 \nz\n\" style=\"fill:#1f77b4;stroke:#ffffff;stroke-linejoin:miter;\"/>\n    </g>\n    <g id=\"text_37\">\n     <!-- noshow -->\n     <g style=\"fill:#262626;\" transform=\"translate(897.645313 39.856155)scale(0.1 -0.1)\">\n      <use xlink:href=\"#DejaVuSans-110\"/>\n      <use x=\"63.378906\" xlink:href=\"#DejaVuSans-111\"/>\n      <use x=\"124.560547\" xlink:href=\"#DejaVuSans-115\"/>\n      <use x=\"176.660156\" xlink:href=\"#DejaVuSans-104\"/>\n      <use x=\"240.039062\" xlink:href=\"#DejaVuSans-111\"/>\n      <use x=\"301.220703\" xlink:href=\"#DejaVuSans-119\"/>\n     </g>\n    </g>\n    <g id=\"patch_37\">\n     <path d=\"M 869.645313 54.53428 \nL 889.645313 54.53428 \nL 889.645313 47.53428 \nL 869.645313 47.53428 \nz\n\" style=\"fill:#ff7f0e;stroke:#ffffff;stroke-linejoin:miter;\"/>\n    </g>\n    <g id=\"text_38\">\n     <!-- showup -->\n     <g style=\"fill:#262626;\" transform=\"translate(897.645313 54.53428)scale(0.1 -0.1)\">\n      <use xlink:href=\"#DejaVuSans-115\"/>\n      <use x=\"52.099609\" xlink:href=\"#DejaVuSans-104\"/>\n      <use x=\"115.478516\" xlink:href=\"#DejaVuSans-111\"/>\n      <use x=\"176.660156\" xlink:href=\"#DejaVuSans-119\"/>\n      <use x=\"258.447266\" xlink:href=\"#DejaVuSans-117\"/>\n      <use x=\"321.826172\" xlink:href=\"#DejaVuSans-112\"/>\n     </g>\n    </g>\n   </g>\n  </g>\n  <g id=\"axes_4\">\n   <g id=\"patch_38\">\n    <path d=\"M 52.375 395.216761 \nL 314.963235 395.216761 \nL 314.963235 219.346173 \nL 52.375 219.346173 \nz\n\" style=\"fill:#ffffff;\"/>\n   </g>\n   <g id=\"matplotlib.axis_7\">\n    <g id=\"xtick_7\">\n     <g id=\"line2d_27\">\n      <path clip-path=\"url(#pd616962454)\" d=\"M 118.022059 395.216761 \nL 118.022059 219.346173 \n\" style=\"fill:none;stroke:#cccccc;stroke-linecap:round;stroke-width:0.8;\"/>\n     </g>\n     <g id=\"text_39\">\n      <!-- 0 -->\n      <g style=\"fill:#262626;\" transform=\"translate(120.781434 408.579261)rotate(-90)scale(0.1 -0.1)\">\n       <use xlink:href=\"#DejaVuSans-48\"/>\n      </g>\n     </g>\n    </g>\n    <g id=\"xtick_8\">\n     <g id=\"line2d_28\">\n      <path clip-path=\"url(#pd616962454)\" d=\"M 249.316176 395.216761 \nL 249.316176 219.346173 \n\" style=\"fill:none;stroke:#cccccc;stroke-linecap:round;stroke-width:0.8;\"/>\n     </g>\n     <g id=\"text_40\">\n      <!-- 1 -->\n      <g style=\"fill:#262626;\" transform=\"translate(252.075551 408.579261)rotate(-90)scale(0.1 -0.1)\">\n       <use xlink:href=\"#DejaVuSans-49\"/>\n      </g>\n     </g>\n    </g>\n    <g id=\"text_41\">\n     <!-- scholarship -->\n     <g style=\"fill:#262626;\" transform=\"translate(155.241774 420.177699)scale(0.1 -0.1)\">\n      <use xlink:href=\"#DejaVuSans-115\"/>\n      <use x=\"52.099609\" xlink:href=\"#DejaVuSans-99\"/>\n      <use x=\"107.080078\" xlink:href=\"#DejaVuSans-104\"/>\n      <use x=\"170.458984\" xlink:href=\"#DejaVuSans-111\"/>\n      <use x=\"231.640625\" xlink:href=\"#DejaVuSans-108\"/>\n      <use x=\"259.423828\" xlink:href=\"#DejaVuSans-97\"/>\n      <use x=\"320.703125\" xlink:href=\"#DejaVuSans-114\"/>\n      <use x=\"361.816406\" xlink:href=\"#DejaVuSans-115\"/>\n      <use x=\"413.916016\" xlink:href=\"#DejaVuSans-104\"/>\n      <use x=\"477.294922\" xlink:href=\"#DejaVuSans-105\"/>\n      <use x=\"505.078125\" xlink:href=\"#DejaVuSans-112\"/>\n     </g>\n    </g>\n   </g>\n   <g id=\"matplotlib.axis_8\">\n    <g id=\"ytick_21\">\n     <g id=\"line2d_29\">\n      <path clip-path=\"url(#pd616962454)\" d=\"M 52.375 395.216761 \nL 314.963235 395.216761 \n\" style=\"fill:none;stroke:#cccccc;stroke-linecap:round;stroke-width:0.8;\"/>\n     </g>\n     <g id=\"text_42\">\n      <!-- 0 -->\n      <g style=\"fill:#262626;\" transform=\"translate(39.0125 399.01598)scale(0.1 -0.1)\">\n       <use xlink:href=\"#DejaVuSans-48\"/>\n      </g>\n     </g>\n    </g>\n    <g id=\"ytick_22\">\n     <g id=\"line2d_30\">\n      <path clip-path=\"url(#pd616962454)\" d=\"M 52.375 371.85801 \nL 314.963235 371.85801 \n\" style=\"fill:none;stroke:#cccccc;stroke-linecap:round;stroke-width:0.8;\"/>\n     </g>\n     <g id=\"text_43\">\n      <!-- 50000 -->\n      <g style=\"fill:#262626;\" transform=\"translate(13.5625 375.657228)scale(0.1 -0.1)\">\n       <use xlink:href=\"#DejaVuSans-53\"/>\n       <use x=\"63.623047\" xlink:href=\"#DejaVuSans-48\"/>\n       <use x=\"127.246094\" xlink:href=\"#DejaVuSans-48\"/>\n       <use x=\"190.869141\" xlink:href=\"#DejaVuSans-48\"/>\n       <use x=\"254.492188\" xlink:href=\"#DejaVuSans-48\"/>\n      </g>\n     </g>\n    </g>\n    <g id=\"ytick_23\">\n     <g id=\"line2d_31\">\n      <path clip-path=\"url(#pd616962454)\" d=\"M 52.375 348.499258 \nL 314.963235 348.499258 \n\" style=\"fill:none;stroke:#cccccc;stroke-linecap:round;stroke-width:0.8;\"/>\n     </g>\n     <g id=\"text_44\">\n      <!-- 100000 -->\n      <g style=\"fill:#262626;\" transform=\"translate(7.2 352.298477)scale(0.1 -0.1)\">\n       <use xlink:href=\"#DejaVuSans-49\"/>\n       <use x=\"63.623047\" xlink:href=\"#DejaVuSans-48\"/>\n       <use x=\"127.246094\" xlink:href=\"#DejaVuSans-48\"/>\n       <use x=\"190.869141\" xlink:href=\"#DejaVuSans-48\"/>\n       <use x=\"254.492188\" xlink:href=\"#DejaVuSans-48\"/>\n       <use x=\"318.115234\" xlink:href=\"#DejaVuSans-48\"/>\n      </g>\n     </g>\n    </g>\n    <g id=\"ytick_24\">\n     <g id=\"line2d_32\">\n      <path clip-path=\"url(#pd616962454)\" d=\"M 52.375 325.140506 \nL 314.963235 325.140506 \n\" style=\"fill:none;stroke:#cccccc;stroke-linecap:round;stroke-width:0.8;\"/>\n     </g>\n     <g id=\"text_45\">\n      <!-- 150000 -->\n      <g style=\"fill:#262626;\" transform=\"translate(7.2 328.939725)scale(0.1 -0.1)\">\n       <use xlink:href=\"#DejaVuSans-49\"/>\n       <use x=\"63.623047\" xlink:href=\"#DejaVuSans-53\"/>\n       <use x=\"127.246094\" xlink:href=\"#DejaVuSans-48\"/>\n       <use x=\"190.869141\" xlink:href=\"#DejaVuSans-48\"/>\n       <use x=\"254.492188\" xlink:href=\"#DejaVuSans-48\"/>\n       <use x=\"318.115234\" xlink:href=\"#DejaVuSans-48\"/>\n      </g>\n     </g>\n    </g>\n    <g id=\"ytick_25\">\n     <g id=\"line2d_33\">\n      <path clip-path=\"url(#pd616962454)\" d=\"M 52.375 301.781754 \nL 314.963235 301.781754 \n\" style=\"fill:none;stroke:#cccccc;stroke-linecap:round;stroke-width:0.8;\"/>\n     </g>\n     <g id=\"text_46\">\n      <!-- 200000 -->\n      <g style=\"fill:#262626;\" transform=\"translate(7.2 305.580973)scale(0.1 -0.1)\">\n       <use xlink:href=\"#DejaVuSans-50\"/>\n       <use x=\"63.623047\" xlink:href=\"#DejaVuSans-48\"/>\n       <use x=\"127.246094\" xlink:href=\"#DejaVuSans-48\"/>\n       <use x=\"190.869141\" xlink:href=\"#DejaVuSans-48\"/>\n       <use x=\"254.492188\" xlink:href=\"#DejaVuSans-48\"/>\n       <use x=\"318.115234\" xlink:href=\"#DejaVuSans-48\"/>\n      </g>\n     </g>\n    </g>\n    <g id=\"ytick_26\">\n     <g id=\"line2d_34\">\n      <path clip-path=\"url(#pd616962454)\" d=\"M 52.375 278.423003 \nL 314.963235 278.423003 \n\" style=\"fill:none;stroke:#cccccc;stroke-linecap:round;stroke-width:0.8;\"/>\n     </g>\n     <g id=\"text_47\">\n      <!-- 250000 -->\n      <g style=\"fill:#262626;\" transform=\"translate(7.2 282.222221)scale(0.1 -0.1)\">\n       <use xlink:href=\"#DejaVuSans-50\"/>\n       <use x=\"63.623047\" xlink:href=\"#DejaVuSans-53\"/>\n       <use x=\"127.246094\" xlink:href=\"#DejaVuSans-48\"/>\n       <use x=\"190.869141\" xlink:href=\"#DejaVuSans-48\"/>\n       <use x=\"254.492188\" xlink:href=\"#DejaVuSans-48\"/>\n       <use x=\"318.115234\" xlink:href=\"#DejaVuSans-48\"/>\n      </g>\n     </g>\n    </g>\n    <g id=\"ytick_27\">\n     <g id=\"line2d_35\">\n      <path clip-path=\"url(#pd616962454)\" d=\"M 52.375 255.064251 \nL 314.963235 255.064251 \n\" style=\"fill:none;stroke:#cccccc;stroke-linecap:round;stroke-width:0.8;\"/>\n     </g>\n     <g id=\"text_48\">\n      <!-- 300000 -->\n      <g style=\"fill:#262626;\" transform=\"translate(7.2 258.86347)scale(0.1 -0.1)\">\n       <use xlink:href=\"#DejaVuSans-51\"/>\n       <use x=\"63.623047\" xlink:href=\"#DejaVuSans-48\"/>\n       <use x=\"127.246094\" xlink:href=\"#DejaVuSans-48\"/>\n       <use x=\"190.869141\" xlink:href=\"#DejaVuSans-48\"/>\n       <use x=\"254.492188\" xlink:href=\"#DejaVuSans-48\"/>\n       <use x=\"318.115234\" xlink:href=\"#DejaVuSans-48\"/>\n      </g>\n     </g>\n    </g>\n    <g id=\"ytick_28\">\n     <g id=\"line2d_36\">\n      <path clip-path=\"url(#pd616962454)\" d=\"M 52.375 231.705499 \nL 314.963235 231.705499 \n\" style=\"fill:none;stroke:#cccccc;stroke-linecap:round;stroke-width:0.8;\"/>\n     </g>\n     <g id=\"text_49\">\n      <!-- 350000 -->\n      <g style=\"fill:#262626;\" transform=\"translate(7.2 235.504718)scale(0.1 -0.1)\">\n       <use xlink:href=\"#DejaVuSans-51\"/>\n       <use x=\"63.623047\" xlink:href=\"#DejaVuSans-53\"/>\n       <use x=\"127.246094\" xlink:href=\"#DejaVuSans-48\"/>\n       <use x=\"190.869141\" xlink:href=\"#DejaVuSans-48\"/>\n       <use x=\"254.492188\" xlink:href=\"#DejaVuSans-48\"/>\n       <use x=\"318.115234\" xlink:href=\"#DejaVuSans-48\"/>\n      </g>\n     </g>\n    </g>\n   </g>\n   <g id=\"patch_39\">\n    <path clip-path=\"url(#pd616962454)\" d=\"M 85.198529 395.216761 \nL 150.845588 395.216761 \nL 150.845588 297.487949 \nL 85.198529 297.487949 \nz\n\" style=\"fill:#1f77b4;stroke:#ffffff;stroke-linejoin:miter;\"/>\n   </g>\n   <g id=\"patch_40\">\n    <path clip-path=\"url(#pd616962454)\" d=\"M 216.492647 395.216761 \nL 282.139706 395.216761 \nL 282.139706 385.371515 \nL 216.492647 385.371515 \nz\n\" style=\"fill:#1f77b4;stroke:#ffffff;stroke-linejoin:miter;\"/>\n   </g>\n   <g id=\"patch_41\">\n    <path clip-path=\"url(#pd616962454)\" d=\"M 85.198529 297.487949 \nL 150.845588 297.487949 \nL 150.845588 227.720963 \nL 85.198529 227.720963 \nz\n\" style=\"fill:#ff7f0e;stroke:#ffffff;stroke-linejoin:miter;\"/>\n   </g>\n   <g id=\"patch_42\">\n    <path clip-path=\"url(#pd616962454)\" d=\"M 216.492647 385.371515 \nL 282.139706 385.371515 \nL 282.139706 377.131014 \nL 216.492647 377.131014 \nz\n\" style=\"fill:#ff7f0e;stroke:#ffffff;stroke-linejoin:miter;\"/>\n   </g>\n   <g id=\"patch_43\">\n    <path d=\"M 52.375 395.216761 \nL 52.375 219.346173 \n\" style=\"fill:none;stroke:#cccccc;stroke-linecap:square;stroke-linejoin:miter;stroke-width:0.8;\"/>\n   </g>\n   <g id=\"patch_44\">\n    <path d=\"M 314.963235 395.216761 \nL 314.963235 219.346173 \n\" style=\"fill:none;stroke:#cccccc;stroke-linecap:square;stroke-linejoin:miter;stroke-width:0.8;\"/>\n   </g>\n   <g id=\"patch_45\">\n    <path d=\"M 52.375 395.216761 \nL 314.963235 395.216761 \n\" style=\"fill:none;stroke:#cccccc;stroke-linecap:square;stroke-linejoin:miter;stroke-width:0.8;\"/>\n   </g>\n   <g id=\"patch_46\">\n    <path d=\"M 52.375 219.346173 \nL 314.963235 219.346173 \n\" style=\"fill:none;stroke:#cccccc;stroke-linecap:square;stroke-linejoin:miter;stroke-width:0.8;\"/>\n   </g>\n   <g id=\"legend_4\">\n    <g id=\"patch_47\">\n     <path d=\"M 237.433548 271.658673 \nL 307.963235 271.658673 \nQ 309.963235 271.658673 309.963235 269.658673 \nL 309.963235 226.346173 \nQ 309.963235 224.346173 307.963235 224.346173 \nL 237.433548 224.346173 \nQ 235.433548 224.346173 235.433548 226.346173 \nL 235.433548 269.658673 \nQ 235.433548 271.658673 237.433548 271.658673 \nz\n\" style=\"fill:#ffffff;opacity:0.8;stroke:#cccccc;stroke-linejoin:miter;\"/>\n    </g>\n    <g id=\"text_50\">\n     <!-- no_show -->\n     <g style=\"fill:#262626;\" transform=\"translate(251.048392 235.944611)scale(0.1 -0.1)\">\n      <use xlink:href=\"#DejaVuSans-110\"/>\n      <use x=\"63.378906\" xlink:href=\"#DejaVuSans-111\"/>\n      <use x=\"124.560547\" xlink:href=\"#DejaVuSans-95\"/>\n      <use x=\"174.560547\" xlink:href=\"#DejaVuSans-115\"/>\n      <use x=\"226.660156\" xlink:href=\"#DejaVuSans-104\"/>\n      <use x=\"290.039062\" xlink:href=\"#DejaVuSans-111\"/>\n      <use x=\"351.220703\" xlink:href=\"#DejaVuSans-119\"/>\n     </g>\n    </g>\n    <g id=\"patch_48\">\n     <path d=\"M 239.433548 250.900861 \nL 259.433548 250.900861 \nL 259.433548 243.900861 \nL 239.433548 243.900861 \nz\n\" style=\"fill:#1f77b4;stroke:#ffffff;stroke-linejoin:miter;\"/>\n    </g>\n    <g id=\"text_51\">\n     <!-- noshow -->\n     <g style=\"fill:#262626;\" transform=\"translate(267.433548 250.900861)scale(0.1 -0.1)\">\n      <use xlink:href=\"#DejaVuSans-110\"/>\n      <use x=\"63.378906\" xlink:href=\"#DejaVuSans-111\"/>\n      <use x=\"124.560547\" xlink:href=\"#DejaVuSans-115\"/>\n      <use x=\"176.660156\" xlink:href=\"#DejaVuSans-104\"/>\n      <use x=\"240.039062\" xlink:href=\"#DejaVuSans-111\"/>\n      <use x=\"301.220703\" xlink:href=\"#DejaVuSans-119\"/>\n     </g>\n    </g>\n    <g id=\"patch_49\">\n     <path d=\"M 239.433548 265.578986 \nL 259.433548 265.578986 \nL 259.433548 258.578986 \nL 239.433548 258.578986 \nz\n\" style=\"fill:#ff7f0e;stroke:#ffffff;stroke-linejoin:miter;\"/>\n    </g>\n    <g id=\"text_52\">\n     <!-- showup -->\n     <g style=\"fill:#262626;\" transform=\"translate(267.433548 265.578986)scale(0.1 -0.1)\">\n      <use xlink:href=\"#DejaVuSans-115\"/>\n      <use x=\"52.099609\" xlink:href=\"#DejaVuSans-104\"/>\n      <use x=\"115.478516\" xlink:href=\"#DejaVuSans-111\"/>\n      <use x=\"176.660156\" xlink:href=\"#DejaVuSans-119\"/>\n      <use x=\"258.447266\" xlink:href=\"#DejaVuSans-117\"/>\n      <use x=\"321.826172\" xlink:href=\"#DejaVuSans-112\"/>\n     </g>\n    </g>\n   </g>\n  </g>\n  <g id=\"axes_5\">\n   <g id=\"patch_50\">\n    <path d=\"M 367.480882 395.216761 \nL 630.069118 395.216761 \nL 630.069118 219.346173 \nL 367.480882 219.346173 \nz\n\" style=\"fill:#ffffff;\"/>\n   </g>\n   <g id=\"matplotlib.axis_9\">\n    <g id=\"xtick_9\">\n     <g id=\"line2d_37\">\n      <path clip-path=\"url(#p0bb0b6a732)\" d=\"M 393.739706 395.216761 \nL 393.739706 219.346173 \n\" style=\"fill:none;stroke:#cccccc;stroke-linecap:round;stroke-width:0.8;\"/>\n     </g>\n     <g id=\"text_53\">\n      <!-- 0 -->\n      <g style=\"fill:#262626;\" transform=\"translate(396.499081 408.579261)rotate(-90)scale(0.1 -0.1)\">\n       <use xlink:href=\"#DejaVuSans-48\"/>\n      </g>\n     </g>\n    </g>\n    <g id=\"xtick_10\">\n     <g id=\"line2d_38\">\n      <path clip-path=\"url(#p0bb0b6a732)\" d=\"M 446.257353 395.216761 \nL 446.257353 219.346173 \n\" style=\"fill:none;stroke:#cccccc;stroke-linecap:round;stroke-width:0.8;\"/>\n     </g>\n     <g id=\"text_54\">\n      <!-- 1 -->\n      <g style=\"fill:#262626;\" transform=\"translate(449.016728 408.579261)rotate(-90)scale(0.1 -0.1)\">\n       <use xlink:href=\"#DejaVuSans-49\"/>\n      </g>\n     </g>\n    </g>\n    <g id=\"xtick_11\">\n     <g id=\"line2d_39\">\n      <path clip-path=\"url(#p0bb0b6a732)\" d=\"M 498.775 395.216761 \nL 498.775 219.346173 \n\" style=\"fill:none;stroke:#cccccc;stroke-linecap:round;stroke-width:0.8;\"/>\n     </g>\n     <g id=\"text_55\">\n      <!-- 2 -->\n      <g style=\"fill:#262626;\" transform=\"translate(501.534375 408.579261)rotate(-90)scale(0.1 -0.1)\">\n       <use xlink:href=\"#DejaVuSans-50\"/>\n      </g>\n     </g>\n    </g>\n    <g id=\"xtick_12\">\n     <g id=\"line2d_40\">\n      <path clip-path=\"url(#p0bb0b6a732)\" d=\"M 551.292647 395.216761 \nL 551.292647 219.346173 \n\" style=\"fill:none;stroke:#cccccc;stroke-linecap:round;stroke-width:0.8;\"/>\n     </g>\n     <g id=\"text_56\">\n      <!-- 3 -->\n      <g style=\"fill:#262626;\" transform=\"translate(554.052022 408.579261)rotate(-90)scale(0.1 -0.1)\">\n       <use xlink:href=\"#DejaVuSans-51\"/>\n      </g>\n     </g>\n    </g>\n    <g id=\"xtick_13\">\n     <g id=\"line2d_41\">\n      <path clip-path=\"url(#p0bb0b6a732)\" d=\"M 603.810294 395.216761 \nL 603.810294 219.346173 \n\" style=\"fill:none;stroke:#cccccc;stroke-linecap:round;stroke-width:0.8;\"/>\n     </g>\n     <g id=\"text_57\">\n      <!-- 4 -->\n      <g style=\"fill:#262626;\" transform=\"translate(606.569669 408.579261)rotate(-90)scale(0.1 -0.1)\">\n       <use xlink:href=\"#DejaVuSans-52\"/>\n      </g>\n     </g>\n    </g>\n    <g id=\"text_58\">\n     <!-- handicap -->\n     <g style=\"fill:#262626;\" transform=\"translate(475.822656 420.177699)scale(0.1 -0.1)\">\n      <use xlink:href=\"#DejaVuSans-104\"/>\n      <use x=\"63.378906\" xlink:href=\"#DejaVuSans-97\"/>\n      <use x=\"124.658203\" xlink:href=\"#DejaVuSans-110\"/>\n      <use x=\"188.037109\" xlink:href=\"#DejaVuSans-100\"/>\n      <use x=\"251.513672\" xlink:href=\"#DejaVuSans-105\"/>\n      <use x=\"279.296875\" xlink:href=\"#DejaVuSans-99\"/>\n      <use x=\"334.277344\" xlink:href=\"#DejaVuSans-97\"/>\n      <use x=\"395.556641\" xlink:href=\"#DejaVuSans-112\"/>\n     </g>\n    </g>\n   </g>\n   <g id=\"matplotlib.axis_10\">\n    <g id=\"ytick_29\">\n     <g id=\"line2d_42\">\n      <path clip-path=\"url(#p0bb0b6a732)\" d=\"M 367.480882 395.216761 \nL 630.069118 395.216761 \n\" style=\"fill:none;stroke:#cccccc;stroke-linecap:round;stroke-width:0.8;\"/>\n     </g>\n     <g id=\"text_59\">\n      <!-- 0 -->\n      <g style=\"fill:#262626;\" transform=\"translate(354.118382 399.01598)scale(0.1 -0.1)\">\n       <use xlink:href=\"#DejaVuSans-48\"/>\n      </g>\n     </g>\n    </g>\n    <g id=\"ytick_30\">\n     <g id=\"line2d_43\">\n      <path clip-path=\"url(#p0bb0b6a732)\" d=\"M 367.480882 352.246865 \nL 630.069118 352.246865 \n\" style=\"fill:none;stroke:#cccccc;stroke-linecap:round;stroke-width:0.8;\"/>\n     </g>\n     <g id=\"text_60\">\n      <!-- 100000 -->\n      <g style=\"fill:#262626;\" transform=\"translate(322.305882 356.046083)scale(0.1 -0.1)\">\n       <use xlink:href=\"#DejaVuSans-49\"/>\n       <use x=\"63.623047\" xlink:href=\"#DejaVuSans-48\"/>\n       <use x=\"127.246094\" xlink:href=\"#DejaVuSans-48\"/>\n       <use x=\"190.869141\" xlink:href=\"#DejaVuSans-48\"/>\n       <use x=\"254.492188\" xlink:href=\"#DejaVuSans-48\"/>\n       <use x=\"318.115234\" xlink:href=\"#DejaVuSans-48\"/>\n      </g>\n     </g>\n    </g>\n    <g id=\"ytick_31\">\n     <g id=\"line2d_44\">\n      <path clip-path=\"url(#p0bb0b6a732)\" d=\"M 367.480882 309.276968 \nL 630.069118 309.276968 \n\" style=\"fill:none;stroke:#cccccc;stroke-linecap:round;stroke-width:0.8;\"/>\n     </g>\n     <g id=\"text_61\">\n      <!-- 200000 -->\n      <g style=\"fill:#262626;\" transform=\"translate(322.305882 313.076187)scale(0.1 -0.1)\">\n       <use xlink:href=\"#DejaVuSans-50\"/>\n       <use x=\"63.623047\" xlink:href=\"#DejaVuSans-48\"/>\n       <use x=\"127.246094\" xlink:href=\"#DejaVuSans-48\"/>\n       <use x=\"190.869141\" xlink:href=\"#DejaVuSans-48\"/>\n       <use x=\"254.492188\" xlink:href=\"#DejaVuSans-48\"/>\n       <use x=\"318.115234\" xlink:href=\"#DejaVuSans-48\"/>\n      </g>\n     </g>\n    </g>\n    <g id=\"ytick_32\">\n     <g id=\"line2d_45\">\n      <path clip-path=\"url(#p0bb0b6a732)\" d=\"M 367.480882 266.307071 \nL 630.069118 266.307071 \n\" style=\"fill:none;stroke:#cccccc;stroke-linecap:round;stroke-width:0.8;\"/>\n     </g>\n     <g id=\"text_62\">\n      <!-- 300000 -->\n      <g style=\"fill:#262626;\" transform=\"translate(322.305882 270.10629)scale(0.1 -0.1)\">\n       <use xlink:href=\"#DejaVuSans-51\"/>\n       <use x=\"63.623047\" xlink:href=\"#DejaVuSans-48\"/>\n       <use x=\"127.246094\" xlink:href=\"#DejaVuSans-48\"/>\n       <use x=\"190.869141\" xlink:href=\"#DejaVuSans-48\"/>\n       <use x=\"254.492188\" xlink:href=\"#DejaVuSans-48\"/>\n       <use x=\"318.115234\" xlink:href=\"#DejaVuSans-48\"/>\n      </g>\n     </g>\n    </g>\n    <g id=\"ytick_33\">\n     <g id=\"line2d_46\">\n      <path clip-path=\"url(#p0bb0b6a732)\" d=\"M 367.480882 223.337174 \nL 630.069118 223.337174 \n\" style=\"fill:none;stroke:#cccccc;stroke-linecap:round;stroke-width:0.8;\"/>\n     </g>\n     <g id=\"text_63\">\n      <!-- 400000 -->\n      <g style=\"fill:#262626;\" transform=\"translate(322.305882 227.136393)scale(0.1 -0.1)\">\n       <use xlink:href=\"#DejaVuSans-52\"/>\n       <use x=\"63.623047\" xlink:href=\"#DejaVuSans-48\"/>\n       <use x=\"127.246094\" xlink:href=\"#DejaVuSans-48\"/>\n       <use x=\"190.869141\" xlink:href=\"#DejaVuSans-48\"/>\n       <use x=\"254.492188\" xlink:href=\"#DejaVuSans-48\"/>\n       <use x=\"318.115234\" xlink:href=\"#DejaVuSans-48\"/>\n      </g>\n     </g>\n    </g>\n   </g>\n   <g id=\"patch_51\">\n    <path clip-path=\"url(#p0bb0b6a732)\" d=\"M 380.610294 395.216761 \nL 406.869118 395.216761 \nL 406.869118 298.152921 \nL 380.610294 298.152921 \nz\n\" style=\"fill:#1f77b4;stroke:#ffffff;stroke-linejoin:miter;\"/>\n   </g>\n   <g id=\"patch_52\">\n    <path clip-path=\"url(#p0bb0b6a732)\" d=\"M 433.127941 395.216761 \nL 459.386765 395.216761 \nL 459.386765 393.507419 \nL 433.127941 393.507419 \nz\n\" style=\"fill:#1f77b4;stroke:#ffffff;stroke-linejoin:miter;\"/>\n   </g>\n   <g id=\"patch_53\">\n    <path clip-path=\"url(#p0bb0b6a732)\" d=\"M 485.645588 395.216761 \nL 511.904412 395.216761 \nL 511.904412 395.063789 \nL 485.645588 395.063789 \nz\n\" style=\"fill:#1f77b4;stroke:#ffffff;stroke-linejoin:miter;\"/>\n   </g>\n   <g id=\"patch_54\">\n    <path clip-path=\"url(#p0bb0b6a732)\" d=\"M 538.163235 395.216761 \nL 564.422059 395.216761 \nL 564.422059 395.202581 \nL 538.163235 395.202581 \nz\n\" style=\"fill:#1f77b4;stroke:#ffffff;stroke-linejoin:miter;\"/>\n   </g>\n   <g id=\"patch_55\">\n    <path clip-path=\"url(#p0bb0b6a732)\" d=\"M 590.680882 395.216761 \nL 616.939706 395.216761 \nL 616.939706 395.212464 \nL 590.680882 395.212464 \nz\n\" style=\"fill:#1f77b4;stroke:#ffffff;stroke-linejoin:miter;\"/>\n   </g>\n   <g id=\"patch_56\">\n    <path clip-path=\"url(#p0bb0b6a732)\" d=\"M 380.610294 298.152921 \nL 406.869118 298.152921 \nL 406.869118 227.720963 \nL 380.610294 227.720963 \nz\n\" style=\"fill:#ff7f0e;stroke:#ffffff;stroke-linejoin:miter;\"/>\n   </g>\n   <g id=\"patch_57\">\n    <path clip-path=\"url(#p0bb0b6a732)\" d=\"M 433.127941 393.507419 \nL 459.386765 393.507419 \nL 459.386765 392.304692 \nL 433.127941 392.304692 \nz\n\" style=\"fill:#ff7f0e;stroke:#ffffff;stroke-linejoin:miter;\"/>\n   </g>\n   <g id=\"patch_58\">\n    <path clip-path=\"url(#p0bb0b6a732)\" d=\"M 485.645588 395.063789 \nL 511.904412 395.063789 \nL 511.904412 394.957223 \nL 485.645588 394.957223 \nz\n\" style=\"fill:#ff7f0e;stroke:#ffffff;stroke-linejoin:miter;\"/>\n   </g>\n   <g id=\"patch_59\">\n    <path clip-path=\"url(#p0bb0b6a732)\" d=\"M 538.163235 395.202581 \nL 564.422059 395.202581 \nL 564.422059 395.195277 \nL 538.163235 395.195277 \nz\n\" style=\"fill:#ff7f0e;stroke:#ffffff;stroke-linejoin:miter;\"/>\n   </g>\n   <g id=\"patch_60\">\n    <path clip-path=\"url(#p0bb0b6a732)\" d=\"M 590.680882 395.212464 \nL 616.939706 395.212464 \nL 616.939706 395.211175 \nL 590.680882 395.211175 \nz\n\" style=\"fill:#ff7f0e;stroke:#ffffff;stroke-linejoin:miter;\"/>\n   </g>\n   <g id=\"patch_61\">\n    <path d=\"M 367.480882 395.216761 \nL 367.480882 219.346173 \n\" style=\"fill:none;stroke:#cccccc;stroke-linecap:square;stroke-linejoin:miter;stroke-width:0.8;\"/>\n   </g>\n   <g id=\"patch_62\">\n    <path d=\"M 630.069118 395.216761 \nL 630.069118 219.346173 \n\" style=\"fill:none;stroke:#cccccc;stroke-linecap:square;stroke-linejoin:miter;stroke-width:0.8;\"/>\n   </g>\n   <g id=\"patch_63\">\n    <path d=\"M 367.480882 395.216761 \nL 630.069118 395.216761 \n\" style=\"fill:none;stroke:#cccccc;stroke-linecap:square;stroke-linejoin:miter;stroke-width:0.8;\"/>\n   </g>\n   <g id=\"patch_64\">\n    <path d=\"M 367.480882 219.346173 \nL 630.069118 219.346173 \n\" style=\"fill:none;stroke:#cccccc;stroke-linecap:square;stroke-linejoin:miter;stroke-width:0.8;\"/>\n   </g>\n   <g id=\"legend_5\">\n    <g id=\"patch_65\">\n     <path d=\"M 552.53943 271.658673 \nL 623.069118 271.658673 \nQ 625.069118 271.658673 625.069118 269.658673 \nL 625.069118 226.346173 \nQ 625.069118 224.346173 623.069118 224.346173 \nL 552.53943 224.346173 \nQ 550.53943 224.346173 550.53943 226.346173 \nL 550.53943 269.658673 \nQ 550.53943 271.658673 552.53943 271.658673 \nz\n\" style=\"fill:#ffffff;opacity:0.8;stroke:#cccccc;stroke-linejoin:miter;\"/>\n    </g>\n    <g id=\"text_64\">\n     <!-- no_show -->\n     <g style=\"fill:#262626;\" transform=\"translate(566.154274 235.944611)scale(0.1 -0.1)\">\n      <use xlink:href=\"#DejaVuSans-110\"/>\n      <use x=\"63.378906\" xlink:href=\"#DejaVuSans-111\"/>\n      <use x=\"124.560547\" xlink:href=\"#DejaVuSans-95\"/>\n      <use x=\"174.560547\" xlink:href=\"#DejaVuSans-115\"/>\n      <use x=\"226.660156\" xlink:href=\"#DejaVuSans-104\"/>\n      <use x=\"290.039062\" xlink:href=\"#DejaVuSans-111\"/>\n      <use x=\"351.220703\" xlink:href=\"#DejaVuSans-119\"/>\n     </g>\n    </g>\n    <g id=\"patch_66\">\n     <path d=\"M 554.53943 250.900861 \nL 574.53943 250.900861 \nL 574.53943 243.900861 \nL 554.53943 243.900861 \nz\n\" style=\"fill:#1f77b4;stroke:#ffffff;stroke-linejoin:miter;\"/>\n    </g>\n    <g id=\"text_65\">\n     <!-- noshow -->\n     <g style=\"fill:#262626;\" transform=\"translate(582.53943 250.900861)scale(0.1 -0.1)\">\n      <use xlink:href=\"#DejaVuSans-110\"/>\n      <use x=\"63.378906\" xlink:href=\"#DejaVuSans-111\"/>\n      <use x=\"124.560547\" xlink:href=\"#DejaVuSans-115\"/>\n      <use x=\"176.660156\" xlink:href=\"#DejaVuSans-104\"/>\n      <use x=\"240.039062\" xlink:href=\"#DejaVuSans-111\"/>\n      <use x=\"301.220703\" xlink:href=\"#DejaVuSans-119\"/>\n     </g>\n    </g>\n    <g id=\"patch_67\">\n     <path d=\"M 554.53943 265.578986 \nL 574.53943 265.578986 \nL 574.53943 258.578986 \nL 554.53943 258.578986 \nz\n\" style=\"fill:#ff7f0e;stroke:#ffffff;stroke-linejoin:miter;\"/>\n    </g>\n    <g id=\"text_66\">\n     <!-- showup -->\n     <g style=\"fill:#262626;\" transform=\"translate(582.53943 265.578986)scale(0.1 -0.1)\">\n      <use xlink:href=\"#DejaVuSans-115\"/>\n      <use x=\"52.099609\" xlink:href=\"#DejaVuSans-104\"/>\n      <use x=\"115.478516\" xlink:href=\"#DejaVuSans-111\"/>\n      <use x=\"176.660156\" xlink:href=\"#DejaVuSans-119\"/>\n      <use x=\"258.447266\" xlink:href=\"#DejaVuSans-117\"/>\n      <use x=\"321.826172\" xlink:href=\"#DejaVuSans-112\"/>\n     </g>\n    </g>\n   </g>\n  </g>\n  <g id=\"axes_6\">\n   <g id=\"patch_68\">\n    <path d=\"M 682.586765 395.216761 \nL 945.175 395.216761 \nL 945.175 219.346173 \nL 682.586765 219.346173 \nz\n\" style=\"fill:#ffffff;\"/>\n   </g>\n   <g id=\"matplotlib.axis_11\">\n    <g id=\"xtick_14\">\n     <g id=\"line2d_47\">\n      <path clip-path=\"url(#p7eeeb9f555)\" d=\"M 748.233824 395.216761 \nL 748.233824 219.346173 \n\" style=\"fill:none;stroke:#cccccc;stroke-linecap:round;stroke-width:0.8;\"/>\n     </g>\n     <g id=\"text_67\">\n      <!-- 0 -->\n      <g style=\"fill:#262626;\" transform=\"translate(750.993199 408.579261)rotate(-90)scale(0.1 -0.1)\">\n       <use xlink:href=\"#DejaVuSans-48\"/>\n      </g>\n     </g>\n    </g>\n    <g id=\"xtick_15\">\n     <g id=\"line2d_48\">\n      <path clip-path=\"url(#p7eeeb9f555)\" d=\"M 879.527941 395.216761 \nL 879.527941 219.346173 \n\" style=\"fill:none;stroke:#cccccc;stroke-linecap:round;stroke-width:0.8;\"/>\n     </g>\n     <g id=\"text_68\">\n      <!-- 1 -->\n      <g style=\"fill:#262626;\" transform=\"translate(882.287316 408.579261)rotate(-90)scale(0.1 -0.1)\">\n       <use xlink:href=\"#DejaVuSans-49\"/>\n      </g>\n     </g>\n    </g>\n    <g id=\"text_69\">\n     <!-- sms_received -->\n     <defs>\n      <path d=\"M 2.984375 54.6875 \nL 12.5 54.6875 \nL 29.59375 8.796875 \nL 46.6875 54.6875 \nL 56.203125 54.6875 \nL 35.6875 0 \nL 23.484375 0 \nz\n\" id=\"DejaVuSans-118\"/>\n     </defs>\n     <g style=\"fill:#262626;\" transform=\"translate(779.856664 420.177699)scale(0.1 -0.1)\">\n      <use xlink:href=\"#DejaVuSans-115\"/>\n      <use x=\"52.099609\" xlink:href=\"#DejaVuSans-109\"/>\n      <use x=\"149.511719\" xlink:href=\"#DejaVuSans-115\"/>\n      <use x=\"201.611328\" xlink:href=\"#DejaVuSans-95\"/>\n      <use x=\"251.611328\" xlink:href=\"#DejaVuSans-114\"/>\n      <use x=\"290.474609\" xlink:href=\"#DejaVuSans-101\"/>\n      <use x=\"351.998047\" xlink:href=\"#DejaVuSans-99\"/>\n      <use x=\"406.978516\" xlink:href=\"#DejaVuSans-101\"/>\n      <use x=\"468.501953\" xlink:href=\"#DejaVuSans-105\"/>\n      <use x=\"496.285156\" xlink:href=\"#DejaVuSans-118\"/>\n      <use x=\"555.464844\" xlink:href=\"#DejaVuSans-101\"/>\n      <use x=\"616.988281\" xlink:href=\"#DejaVuSans-100\"/>\n     </g>\n    </g>\n   </g>\n   <g id=\"matplotlib.axis_12\">\n    <g id=\"ytick_34\">\n     <g id=\"line2d_49\">\n      <path clip-path=\"url(#p7eeeb9f555)\" d=\"M 682.586765 395.216761 \nL 945.175 395.216761 \n\" style=\"fill:none;stroke:#cccccc;stroke-linecap:round;stroke-width:0.8;\"/>\n     </g>\n     <g id=\"text_70\">\n      <!-- 0 -->\n      <g style=\"fill:#262626;\" transform=\"translate(669.224265 399.01598)scale(0.1 -0.1)\">\n       <use xlink:href=\"#DejaVuSans-48\"/>\n      </g>\n     </g>\n    </g>\n    <g id=\"ytick_35\">\n     <g id=\"line2d_50\">\n      <path clip-path=\"url(#p7eeeb9f555)\" d=\"M 682.586765 353.639466 \nL 945.175 353.639466 \n\" style=\"fill:none;stroke:#cccccc;stroke-linecap:round;stroke-width:0.8;\"/>\n     </g>\n     <g id=\"text_71\">\n      <!-- 50000 -->\n      <g style=\"fill:#262626;\" transform=\"translate(643.774265 357.438685)scale(0.1 -0.1)\">\n       <use xlink:href=\"#DejaVuSans-53\"/>\n       <use x=\"63.623047\" xlink:href=\"#DejaVuSans-48\"/>\n       <use x=\"127.246094\" xlink:href=\"#DejaVuSans-48\"/>\n       <use x=\"190.869141\" xlink:href=\"#DejaVuSans-48\"/>\n       <use x=\"254.492188\" xlink:href=\"#DejaVuSans-48\"/>\n      </g>\n     </g>\n    </g>\n    <g id=\"ytick_36\">\n     <g id=\"line2d_51\">\n      <path clip-path=\"url(#p7eeeb9f555)\" d=\"M 682.586765 312.06217 \nL 945.175 312.06217 \n\" style=\"fill:none;stroke:#cccccc;stroke-linecap:round;stroke-width:0.8;\"/>\n     </g>\n     <g id=\"text_72\">\n      <!-- 100000 -->\n      <g style=\"fill:#262626;\" transform=\"translate(637.411765 315.861389)scale(0.1 -0.1)\">\n       <use xlink:href=\"#DejaVuSans-49\"/>\n       <use x=\"63.623047\" xlink:href=\"#DejaVuSans-48\"/>\n       <use x=\"127.246094\" xlink:href=\"#DejaVuSans-48\"/>\n       <use x=\"190.869141\" xlink:href=\"#DejaVuSans-48\"/>\n       <use x=\"254.492188\" xlink:href=\"#DejaVuSans-48\"/>\n       <use x=\"318.115234\" xlink:href=\"#DejaVuSans-48\"/>\n      </g>\n     </g>\n    </g>\n    <g id=\"ytick_37\">\n     <g id=\"line2d_52\">\n      <path clip-path=\"url(#p7eeeb9f555)\" d=\"M 682.586765 270.484875 \nL 945.175 270.484875 \n\" style=\"fill:none;stroke:#cccccc;stroke-linecap:round;stroke-width:0.8;\"/>\n     </g>\n     <g id=\"text_73\">\n      <!-- 150000 -->\n      <g style=\"fill:#262626;\" transform=\"translate(637.411765 274.284093)scale(0.1 -0.1)\">\n       <use xlink:href=\"#DejaVuSans-49\"/>\n       <use x=\"63.623047\" xlink:href=\"#DejaVuSans-53\"/>\n       <use x=\"127.246094\" xlink:href=\"#DejaVuSans-48\"/>\n       <use x=\"190.869141\" xlink:href=\"#DejaVuSans-48\"/>\n       <use x=\"254.492188\" xlink:href=\"#DejaVuSans-48\"/>\n       <use x=\"318.115234\" xlink:href=\"#DejaVuSans-48\"/>\n      </g>\n     </g>\n    </g>\n    <g id=\"ytick_38\">\n     <g id=\"line2d_53\">\n      <path clip-path=\"url(#p7eeeb9f555)\" d=\"M 682.586765 228.907579 \nL 945.175 228.907579 \n\" style=\"fill:none;stroke:#cccccc;stroke-linecap:round;stroke-width:0.8;\"/>\n     </g>\n     <g id=\"text_74\">\n      <!-- 200000 -->\n      <g style=\"fill:#262626;\" transform=\"translate(637.411765 232.706798)scale(0.1 -0.1)\">\n       <use xlink:href=\"#DejaVuSans-50\"/>\n       <use x=\"63.623047\" xlink:href=\"#DejaVuSans-48\"/>\n       <use x=\"127.246094\" xlink:href=\"#DejaVuSans-48\"/>\n       <use x=\"190.869141\" xlink:href=\"#DejaVuSans-48\"/>\n       <use x=\"254.492188\" xlink:href=\"#DejaVuSans-48\"/>\n       <use x=\"318.115234\" xlink:href=\"#DejaVuSans-48\"/>\n      </g>\n     </g>\n    </g>\n   </g>\n   <g id=\"patch_69\">\n    <path clip-path=\"url(#p7eeeb9f555)\" d=\"M 715.410294 395.216761 \nL 781.057353 395.216761 \nL 781.057353 302.312295 \nL 715.410294 302.312295 \nz\n\" style=\"fill:#1f77b4;stroke:#ffffff;stroke-linejoin:miter;\"/>\n   </g>\n   <g id=\"patch_70\">\n    <path clip-path=\"url(#p7eeeb9f555)\" d=\"M 846.704412 395.216761 \nL 912.351471 395.216761 \nL 912.351471 296.645309 \nL 846.704412 296.645309 \nz\n\" style=\"fill:#1f77b4;stroke:#ffffff;stroke-linejoin:miter;\"/>\n   </g>\n   <g id=\"patch_71\">\n    <path clip-path=\"url(#p7eeeb9f555)\" d=\"M 715.410294 302.312295 \nL 781.057353 302.312295 \nL 781.057353 227.720963 \nL 715.410294 227.720963 \nz\n\" style=\"fill:#ff7f0e;stroke:#ffffff;stroke-linejoin:miter;\"/>\n   </g>\n   <g id=\"patch_72\">\n    <path clip-path=\"url(#p7eeeb9f555)\" d=\"M 846.704412 296.645309 \nL 912.351471 296.645309 \nL 912.351471 232.387599 \nL 846.704412 232.387599 \nz\n\" style=\"fill:#ff7f0e;stroke:#ffffff;stroke-linejoin:miter;\"/>\n   </g>\n   <g id=\"patch_73\">\n    <path d=\"M 682.586765 395.216761 \nL 682.586765 219.346173 \n\" style=\"fill:none;stroke:#cccccc;stroke-linecap:square;stroke-linejoin:miter;stroke-width:0.8;\"/>\n   </g>\n   <g id=\"patch_74\">\n    <path d=\"M 945.175 395.216761 \nL 945.175 219.346173 \n\" style=\"fill:none;stroke:#cccccc;stroke-linecap:square;stroke-linejoin:miter;stroke-width:0.8;\"/>\n   </g>\n   <g id=\"patch_75\">\n    <path d=\"M 682.586765 395.216761 \nL 945.175 395.216761 \n\" style=\"fill:none;stroke:#cccccc;stroke-linecap:square;stroke-linejoin:miter;stroke-width:0.8;\"/>\n   </g>\n   <g id=\"patch_76\">\n    <path d=\"M 682.586765 219.346173 \nL 945.175 219.346173 \n\" style=\"fill:none;stroke:#cccccc;stroke-linecap:square;stroke-linejoin:miter;stroke-width:0.8;\"/>\n   </g>\n   <g id=\"legend_6\">\n    <g id=\"patch_77\">\n     <path d=\"M 867.645313 271.658673 \nL 938.175 271.658673 \nQ 940.175 271.658673 940.175 269.658673 \nL 940.175 226.346173 \nQ 940.175 224.346173 938.175 224.346173 \nL 867.645313 224.346173 \nQ 865.645313 224.346173 865.645313 226.346173 \nL 865.645313 269.658673 \nQ 865.645313 271.658673 867.645313 271.658673 \nz\n\" style=\"fill:#ffffff;opacity:0.8;stroke:#cccccc;stroke-linejoin:miter;\"/>\n    </g>\n    <g id=\"text_75\">\n     <!-- no_show -->\n     <g style=\"fill:#262626;\" transform=\"translate(881.260156 235.944611)scale(0.1 -0.1)\">\n      <use xlink:href=\"#DejaVuSans-110\"/>\n      <use x=\"63.378906\" xlink:href=\"#DejaVuSans-111\"/>\n      <use x=\"124.560547\" xlink:href=\"#DejaVuSans-95\"/>\n      <use x=\"174.560547\" xlink:href=\"#DejaVuSans-115\"/>\n      <use x=\"226.660156\" xlink:href=\"#DejaVuSans-104\"/>\n      <use x=\"290.039062\" xlink:href=\"#DejaVuSans-111\"/>\n      <use x=\"351.220703\" xlink:href=\"#DejaVuSans-119\"/>\n     </g>\n    </g>\n    <g id=\"patch_78\">\n     <path d=\"M 869.645313 250.900861 \nL 889.645313 250.900861 \nL 889.645313 243.900861 \nL 869.645313 243.900861 \nz\n\" style=\"fill:#1f77b4;stroke:#ffffff;stroke-linejoin:miter;\"/>\n    </g>\n    <g id=\"text_76\">\n     <!-- noshow -->\n     <g style=\"fill:#262626;\" transform=\"translate(897.645313 250.900861)scale(0.1 -0.1)\">\n      <use xlink:href=\"#DejaVuSans-110\"/>\n      <use x=\"63.378906\" xlink:href=\"#DejaVuSans-111\"/>\n      <use x=\"124.560547\" xlink:href=\"#DejaVuSans-115\"/>\n      <use x=\"176.660156\" xlink:href=\"#DejaVuSans-104\"/>\n      <use x=\"240.039062\" xlink:href=\"#DejaVuSans-111\"/>\n      <use x=\"301.220703\" xlink:href=\"#DejaVuSans-119\"/>\n     </g>\n    </g>\n    <g id=\"patch_79\">\n     <path d=\"M 869.645313 265.578986 \nL 889.645313 265.578986 \nL 889.645313 258.578986 \nL 869.645313 258.578986 \nz\n\" style=\"fill:#ff7f0e;stroke:#ffffff;stroke-linejoin:miter;\"/>\n    </g>\n    <g id=\"text_77\">\n     <!-- showup -->\n     <g style=\"fill:#262626;\" transform=\"translate(897.645313 265.578986)scale(0.1 -0.1)\">\n      <use xlink:href=\"#DejaVuSans-115\"/>\n      <use x=\"52.099609\" xlink:href=\"#DejaVuSans-104\"/>\n      <use x=\"115.478516\" xlink:href=\"#DejaVuSans-111\"/>\n      <use x=\"176.660156\" xlink:href=\"#DejaVuSans-119\"/>\n      <use x=\"258.447266\" xlink:href=\"#DejaVuSans-117\"/>\n      <use x=\"321.826172\" xlink:href=\"#DejaVuSans-112\"/>\n     </g>\n    </g>\n   </g>\n  </g>\n </g>\n <defs>\n  <clipPath id=\"p9f968a51f6\">\n   <rect height=\"175.870588\" width=\"262.588235\" x=\"52.375\" y=\"8.301467\"/>\n  </clipPath>\n  <clipPath id=\"pa62265ee03\">\n   <rect height=\"175.870588\" width=\"262.588235\" x=\"367.480882\" y=\"8.301467\"/>\n  </clipPath>\n  <clipPath id=\"p6372519790\">\n   <rect height=\"175.870588\" width=\"262.588235\" x=\"682.586765\" y=\"8.301467\"/>\n  </clipPath>\n  <clipPath id=\"pd616962454\">\n   <rect height=\"175.870588\" width=\"262.588235\" x=\"52.375\" y=\"219.346173\"/>\n  </clipPath>\n  <clipPath id=\"p0bb0b6a732\">\n   <rect height=\"175.870588\" width=\"262.588235\" x=\"367.480882\" y=\"219.346173\"/>\n  </clipPath>\n  <clipPath id=\"p7eeeb9f555\">\n   <rect height=\"175.870588\" width=\"262.588235\" x=\"682.586765\" y=\"219.346173\"/>\n  </clipPath>\n </defs>\n</svg>\n"
          },
          "metadata": {
            "tags": [],
            "needs_background": "light"
          }
        }
      ]
    },
    {
      "cell_type": "code",
      "metadata": {
        "id": "aJ15X_yxa-W2",
        "colab_type": "code",
        "outputId": "f2d85ef8-fde1-47c9-b29c-6aa5c5724a3f",
        "colab": {
          "base_uri": "https://localhost:8080/",
          "height": 225
        }
      },
      "source": [
        "\n",
        "#To confirm the above result checking the pvalue\n",
        "\n",
        "chi_test_var = ['age','gender', 'diabetes', 'alcoholism', 'hypertension', 'scholarship', 'handicap', 'sms_received', 'waiting_time','en_appointment_month', 'hour_of_day', 'en_week_day']\n",
        "for column in (chi_test_var):\n",
        "    chi2, p, dof,ex = chi2_contingency(pd.crosstab(index=df[column], columns=df[\"en_no_show\"]), correction=False)\n",
        "    print ('chi-squared test- p value for {} is: {r:6.5f}'. format(column,r = p))"
      ],
      "execution_count": 99,
      "outputs": [
        {
          "output_type": "stream",
          "text": [
            "chi-squared test- p value for age is: 0.00000\n",
            "chi-squared test- p value for gender is: 0.00000\n",
            "chi-squared test- p value for diabetes is: 0.00000\n",
            "chi-squared test- p value for alcoholism is: 0.00000\n",
            "chi-squared test- p value for hypertension is: 0.00000\n",
            "chi-squared test- p value for scholarship is: 0.00000\n",
            "chi-squared test- p value for handicap is: 0.28620\n",
            "chi-squared test- p value for sms_received is: 0.00000\n",
            "chi-squared test- p value for waiting_time is: 0.00000\n",
            "chi-squared test- p value for en_appointment_month is: 0.00000\n",
            "chi-squared test- p value for hour_of_day is: 0.00000\n",
            "chi-squared test- p value for en_week_day is: 0.00000\n"
          ],
          "name": "stdout"
        }
      ]
    },
    {
      "cell_type": "code",
      "metadata": {
        "id": "KrXVBz5KbAuO",
        "colab_type": "code",
        "colab": {}
      },
      "source": [
        "#Converting Categprical Variable to numeric \n",
        "\n",
        "from sklearn import metrics, preprocessing\n",
        "from sklearn.preprocessing import LabelEncoder, OneHotEncoder\n",
        "\n",
        "le = preprocessing.LabelEncoder()\n",
        "df['no_show'] = le.fit_transform(df['no_show'])\n",
        "\n",
        "features = ['age', 'gender', 'hypertension', 'diabetes', 'alcoholism', 'scholarship', 'sms_received', 'waiting_time','en_appointment_month','hour_of_day','en_week_day']\n",
        "\n",
        "for variable in features: \n",
        "  le = preprocessing.LabelEncoder()\n",
        "  df[variable] = le.fit_transform(df[variable])"
      ],
      "execution_count": 0,
      "outputs": []
    },
    {
      "cell_type": "code",
      "metadata": {
        "id": "ytUZuEiJbVIG",
        "colab_type": "code",
        "outputId": "9c8e7b08-b734-485d-abfd-da5e78857fb6",
        "colab": {
          "base_uri": "https://localhost:8080/",
          "height": 478
        }
      },
      "source": [
        "df.corr(method='pearson')"
      ],
      "execution_count": 101,
      "outputs": [
        {
          "output_type": "execute_result",
          "data": {
            "text/html": [
              "<div>\n",
              "<style scoped>\n",
              "    .dataframe tbody tr th:only-of-type {\n",
              "        vertical-align: middle;\n",
              "    }\n",
              "\n",
              "    .dataframe tbody tr th {\n",
              "        vertical-align: top;\n",
              "    }\n",
              "\n",
              "    .dataframe thead th {\n",
              "        text-align: right;\n",
              "    }\n",
              "</style>\n",
              "<table border=\"1\" class=\"dataframe\">\n",
              "  <thead>\n",
              "    <tr style=\"text-align: right;\">\n",
              "      <th></th>\n",
              "      <th>age</th>\n",
              "      <th>gender</th>\n",
              "      <th>no_show</th>\n",
              "      <th>diabetes</th>\n",
              "      <th>alcoholism</th>\n",
              "      <th>hypertension</th>\n",
              "      <th>handicap</th>\n",
              "      <th>scholarship</th>\n",
              "      <th>sms_received</th>\n",
              "      <th>en_no_show</th>\n",
              "      <th>waiting_time</th>\n",
              "      <th>en_appointment_month</th>\n",
              "      <th>hour_of_day</th>\n",
              "      <th>en_week_day</th>\n",
              "    </tr>\n",
              "  </thead>\n",
              "  <tbody>\n",
              "    <tr>\n",
              "      <th>age</th>\n",
              "      <td>1.000000</td>\n",
              "      <td>-0.105038</td>\n",
              "      <td>-0.060091</td>\n",
              "      <td>0.294039</td>\n",
              "      <td>0.077360</td>\n",
              "      <td>0.508070</td>\n",
              "      <td>0.076935</td>\n",
              "      <td>-0.104189</td>\n",
              "      <td>-0.038905</td>\n",
              "      <td>-0.060091</td>\n",
              "      <td>-0.006082</td>\n",
              "      <td>0.000051</td>\n",
              "      <td>-0.006950</td>\n",
              "      <td>-0.019978</td>\n",
              "    </tr>\n",
              "    <tr>\n",
              "      <th>gender</th>\n",
              "      <td>-0.105038</td>\n",
              "      <td>1.000000</td>\n",
              "      <td>0.014546</td>\n",
              "      <td>-0.022857</td>\n",
              "      <td>0.096464</td>\n",
              "      <td>-0.048509</td>\n",
              "      <td>0.030211</td>\n",
              "      <td>-0.113737</td>\n",
              "      <td>-0.034993</td>\n",
              "      <td>0.014546</td>\n",
              "      <td>-0.018051</td>\n",
              "      <td>0.001329</td>\n",
              "      <td>-0.013605</td>\n",
              "      <td>-0.004151</td>\n",
              "    </tr>\n",
              "    <tr>\n",
              "      <th>no_show</th>\n",
              "      <td>-0.060091</td>\n",
              "      <td>0.014546</td>\n",
              "      <td>1.000000</td>\n",
              "      <td>-0.021474</td>\n",
              "      <td>0.021105</td>\n",
              "      <td>-0.038798</td>\n",
              "      <td>-0.002722</td>\n",
              "      <td>0.023495</td>\n",
              "      <td>-0.051351</td>\n",
              "      <td>1.000000</td>\n",
              "      <td>-0.011936</td>\n",
              "      <td>-0.069957</td>\n",
              "      <td>-0.055603</td>\n",
              "      <td>0.011036</td>\n",
              "    </tr>\n",
              "    <tr>\n",
              "      <th>diabetes</th>\n",
              "      <td>0.294039</td>\n",
              "      <td>-0.022857</td>\n",
              "      <td>-0.021474</td>\n",
              "      <td>1.000000</td>\n",
              "      <td>0.020637</td>\n",
              "      <td>0.426287</td>\n",
              "      <td>0.055931</td>\n",
              "      <td>-0.026548</td>\n",
              "      <td>-0.026895</td>\n",
              "      <td>-0.021474</td>\n",
              "      <td>-0.035016</td>\n",
              "      <td>-0.004003</td>\n",
              "      <td>-0.011319</td>\n",
              "      <td>-0.006023</td>\n",
              "    </tr>\n",
              "    <tr>\n",
              "      <th>alcoholism</th>\n",
              "      <td>0.077360</td>\n",
              "      <td>0.096464</td>\n",
              "      <td>0.021105</td>\n",
              "      <td>0.020637</td>\n",
              "      <td>1.000000</td>\n",
              "      <td>0.074231</td>\n",
              "      <td>0.013418</td>\n",
              "      <td>0.039041</td>\n",
              "      <td>-0.020331</td>\n",
              "      <td>0.021105</td>\n",
              "      <td>-0.030010</td>\n",
              "      <td>-0.002922</td>\n",
              "      <td>-0.011921</td>\n",
              "      <td>-0.003185</td>\n",
              "    </tr>\n",
              "    <tr>\n",
              "      <th>hypertension</th>\n",
              "      <td>0.508070</td>\n",
              "      <td>-0.048509</td>\n",
              "      <td>-0.038798</td>\n",
              "      <td>0.426287</td>\n",
              "      <td>0.074231</td>\n",
              "      <td>1.000000</td>\n",
              "      <td>0.075707</td>\n",
              "      <td>-0.029741</td>\n",
              "      <td>-0.036132</td>\n",
              "      <td>-0.038798</td>\n",
              "      <td>-0.053079</td>\n",
              "      <td>-0.006999</td>\n",
              "      <td>-0.031490</td>\n",
              "      <td>-0.007764</td>\n",
              "    </tr>\n",
              "    <tr>\n",
              "      <th>handicap</th>\n",
              "      <td>0.076935</td>\n",
              "      <td>0.030211</td>\n",
              "      <td>-0.002722</td>\n",
              "      <td>0.055931</td>\n",
              "      <td>0.013418</td>\n",
              "      <td>0.075707</td>\n",
              "      <td>1.000000</td>\n",
              "      <td>-0.003907</td>\n",
              "      <td>-0.022501</td>\n",
              "      <td>-0.002722</td>\n",
              "      <td>-0.013909</td>\n",
              "      <td>-0.003740</td>\n",
              "      <td>0.000933</td>\n",
              "      <td>-0.001329</td>\n",
              "    </tr>\n",
              "    <tr>\n",
              "      <th>scholarship</th>\n",
              "      <td>-0.104189</td>\n",
              "      <td>-0.113737</td>\n",
              "      <td>0.023495</td>\n",
              "      <td>-0.026548</td>\n",
              "      <td>0.039041</td>\n",
              "      <td>-0.029741</td>\n",
              "      <td>-0.003907</td>\n",
              "      <td>1.000000</td>\n",
              "      <td>0.011290</td>\n",
              "      <td>0.023495</td>\n",
              "      <td>-0.020620</td>\n",
              "      <td>-0.001482</td>\n",
              "      <td>-0.017954</td>\n",
              "      <td>0.011225</td>\n",
              "    </tr>\n",
              "    <tr>\n",
              "      <th>sms_received</th>\n",
              "      <td>-0.038905</td>\n",
              "      <td>-0.034993</td>\n",
              "      <td>-0.051351</td>\n",
              "      <td>-0.026895</td>\n",
              "      <td>-0.020331</td>\n",
              "      <td>-0.036132</td>\n",
              "      <td>-0.022501</td>\n",
              "      <td>0.011290</td>\n",
              "      <td>1.000000</td>\n",
              "      <td>-0.051351</td>\n",
              "      <td>0.285900</td>\n",
              "      <td>-0.050800</td>\n",
              "      <td>0.021605</td>\n",
              "      <td>-0.059108</td>\n",
              "    </tr>\n",
              "    <tr>\n",
              "      <th>en_no_show</th>\n",
              "      <td>-0.060091</td>\n",
              "      <td>0.014546</td>\n",
              "      <td>1.000000</td>\n",
              "      <td>-0.021474</td>\n",
              "      <td>0.021105</td>\n",
              "      <td>-0.038798</td>\n",
              "      <td>-0.002722</td>\n",
              "      <td>0.023495</td>\n",
              "      <td>-0.051351</td>\n",
              "      <td>1.000000</td>\n",
              "      <td>-0.011936</td>\n",
              "      <td>-0.069957</td>\n",
              "      <td>-0.055603</td>\n",
              "      <td>0.011036</td>\n",
              "    </tr>\n",
              "    <tr>\n",
              "      <th>waiting_time</th>\n",
              "      <td>-0.006082</td>\n",
              "      <td>-0.018051</td>\n",
              "      <td>-0.011936</td>\n",
              "      <td>-0.035016</td>\n",
              "      <td>-0.030010</td>\n",
              "      <td>-0.053079</td>\n",
              "      <td>-0.013909</td>\n",
              "      <td>-0.020620</td>\n",
              "      <td>0.285900</td>\n",
              "      <td>-0.011936</td>\n",
              "      <td>1.000000</td>\n",
              "      <td>0.034223</td>\n",
              "      <td>0.029107</td>\n",
              "      <td>-0.007469</td>\n",
              "    </tr>\n",
              "    <tr>\n",
              "      <th>en_appointment_month</th>\n",
              "      <td>0.000051</td>\n",
              "      <td>0.001329</td>\n",
              "      <td>-0.069957</td>\n",
              "      <td>-0.004003</td>\n",
              "      <td>-0.002922</td>\n",
              "      <td>-0.006999</td>\n",
              "      <td>-0.003740</td>\n",
              "      <td>-0.001482</td>\n",
              "      <td>-0.050800</td>\n",
              "      <td>-0.069957</td>\n",
              "      <td>0.034223</td>\n",
              "      <td>1.000000</td>\n",
              "      <td>0.011448</td>\n",
              "      <td>0.004558</td>\n",
              "    </tr>\n",
              "    <tr>\n",
              "      <th>hour_of_day</th>\n",
              "      <td>-0.006950</td>\n",
              "      <td>-0.013605</td>\n",
              "      <td>-0.055603</td>\n",
              "      <td>-0.011319</td>\n",
              "      <td>-0.011921</td>\n",
              "      <td>-0.031490</td>\n",
              "      <td>0.000933</td>\n",
              "      <td>-0.017954</td>\n",
              "      <td>0.021605</td>\n",
              "      <td>-0.055603</td>\n",
              "      <td>0.029107</td>\n",
              "      <td>0.011448</td>\n",
              "      <td>1.000000</td>\n",
              "      <td>-0.000369</td>\n",
              "    </tr>\n",
              "    <tr>\n",
              "      <th>en_week_day</th>\n",
              "      <td>-0.019978</td>\n",
              "      <td>-0.004151</td>\n",
              "      <td>0.011036</td>\n",
              "      <td>-0.006023</td>\n",
              "      <td>-0.003185</td>\n",
              "      <td>-0.007764</td>\n",
              "      <td>-0.001329</td>\n",
              "      <td>0.011225</td>\n",
              "      <td>-0.059108</td>\n",
              "      <td>0.011036</td>\n",
              "      <td>-0.007469</td>\n",
              "      <td>0.004558</td>\n",
              "      <td>-0.000369</td>\n",
              "      <td>1.000000</td>\n",
              "    </tr>\n",
              "  </tbody>\n",
              "</table>\n",
              "</div>"
            ],
            "text/plain": [
              "                           age    gender  ...  hour_of_day  en_week_day\n",
              "age                   1.000000 -0.105038  ...    -0.006950    -0.019978\n",
              "gender               -0.105038  1.000000  ...    -0.013605    -0.004151\n",
              "no_show              -0.060091  0.014546  ...    -0.055603     0.011036\n",
              "diabetes              0.294039 -0.022857  ...    -0.011319    -0.006023\n",
              "alcoholism            0.077360  0.096464  ...    -0.011921    -0.003185\n",
              "hypertension          0.508070 -0.048509  ...    -0.031490    -0.007764\n",
              "handicap              0.076935  0.030211  ...     0.000933    -0.001329\n",
              "scholarship          -0.104189 -0.113737  ...    -0.017954     0.011225\n",
              "sms_received         -0.038905 -0.034993  ...     0.021605    -0.059108\n",
              "en_no_show           -0.060091  0.014546  ...    -0.055603     0.011036\n",
              "waiting_time         -0.006082 -0.018051  ...     0.029107    -0.007469\n",
              "en_appointment_month  0.000051  0.001329  ...     0.011448     0.004558\n",
              "hour_of_day          -0.006950 -0.013605  ...     1.000000    -0.000369\n",
              "en_week_day          -0.019978 -0.004151  ...    -0.000369     1.000000\n",
              "\n",
              "[14 rows x 14 columns]"
            ]
          },
          "metadata": {
            "tags": []
          },
          "execution_count": 101
        }
      ]
    },
    {
      "cell_type": "markdown",
      "metadata": {
        "id": "d-YA9QFVh8H0",
        "colab_type": "text"
      },
      "source": [
        "### Model Implementation\n",
        "\n"
      ]
    },
    {
      "cell_type": "code",
      "metadata": {
        "id": "iNFm0RgEbCbF",
        "colab_type": "code",
        "colab": {}
      },
      "source": [
        "from sklearn.model_selection import train_test_split\n",
        "\n",
        "#split data\n",
        "X = df[features]\n",
        "y = df['no_show']\n",
        "\n",
        "X_train, X_test, y_train, y_test = train_test_split(X, y, test_size = 0.3, random_state = 1)\n",
        "\n",
        "X_train, X_val, y_train, y_val = train_test_split(X_train, y_train, test_size = 0.25, random_state = 1)"
      ],
      "execution_count": 0,
      "outputs": []
    },
    {
      "cell_type": "code",
      "metadata": {
        "id": "s8lht6VqP-Oe",
        "colab_type": "code",
        "outputId": "1a4a439c-2ca7-4453-ef04-99ecd7fae885",
        "colab": {
          "base_uri": "https://localhost:8080/",
          "height": 121
        }
      },
      "source": [
        "print('Shape of X train data: ',X_train.shape)\n",
        "print('Shape of X test data: ',X_test.shape)\n",
        "print('Shape of X validation data: ',X_val.shape)\n",
        "print('Shape of Y train data: ', y_train.shape)\n",
        "print('Shape of Y test data: ', y_test.shape)\n",
        "print('Shape of Y validation data: ',y_val.shape)"
      ],
      "execution_count": 38,
      "outputs": [
        {
          "output_type": "stream",
          "text": [
            "Shape of X train data:  (208551, 11)\n",
            "Shape of X test data:  (119173, 11)\n",
            "Shape of X validation data:  (69518, 11)\n",
            "Shape of Y train data:  (208551,)\n",
            "Shape of Y test data:  (119173,)\n",
            "Shape of Y validation data:  (69518,)\n"
          ],
          "name": "stdout"
        }
      ]
    },
    {
      "cell_type": "markdown",
      "metadata": {
        "id": "-wJmWpgquuT5",
        "colab_type": "text"
      },
      "source": [
        "### Logistic Regression"
      ]
    },
    {
      "cell_type": "code",
      "metadata": {
        "id": "61X2TztwbEdk",
        "colab_type": "code",
        "outputId": "9c357331-0790-4654-f586-fcde674e36b7",
        "colab": {
          "base_uri": "https://localhost:8080/",
          "height": 208
        }
      },
      "source": [
        "\n",
        "from sklearn.metrics import roc_auc_score\n",
        "from sklearn.metrics import accuracy_score\n",
        "from sklearn.linear_model import LogisticRegression\n",
        "from sklearn.metrics import accuracy_score, classification_report, precision_score, recall_score, confusion_matrix, precision_recall_curve\n",
        "import warnings\n",
        "warnings.filterwarnings(\"ignore\")\n",
        "%matplotlib inline\n",
        "\n",
        "lr = LogisticRegression()\n",
        "\n",
        "# Fit the model to the data\n",
        "lr = lr.fit(X_train, y_train)\n",
        "\n",
        "print (\"Logistic Regression Model\")\n",
        "lr_auc = roc_auc_score(y_test, lr.predict(X_test))\n",
        "\n",
        "print (\"Logistic Regression AUC = %2.2f\" % lr_auc)\n",
        "\n",
        "lr2 = lr.fit(X_train, y_train)\n",
        "predictions = lr.predict(X_test)\n",
        "print(classification_report(y_test, lr.predict(X_test)))"
      ],
      "execution_count": 39,
      "outputs": [
        {
          "output_type": "stream",
          "text": [
            "Logistic Regression Model\n",
            "Logistic Regression AUC = 0.52\n",
            "              precision    recall  f1-score   support\n",
            "\n",
            "           0       0.59      0.91      0.72     69026\n",
            "           1       0.53      0.14      0.22     50147\n",
            "\n",
            "    accuracy                           0.59    119173\n",
            "   macro avg       0.56      0.52      0.47    119173\n",
            "weighted avg       0.57      0.59      0.51    119173\n",
            "\n"
          ],
          "name": "stdout"
        }
      ]
    },
    {
      "cell_type": "code",
      "metadata": {
        "id": "pLkBnpk2bqR0",
        "colab_type": "code",
        "outputId": "22d23ca8-5952-4025-b895-8dc8299bd7c2",
        "colab": {
          "base_uri": "https://localhost:8080/",
          "height": 69
        }
      },
      "source": [
        "from sklearn.pipeline import make_pipeline\n",
        "from sklearn.preprocessing import StandardScaler\n",
        "from sklearn.model_selection import cross_val_score\n",
        "\n",
        "methods_data = {\"Logistic Regression\": (X_train, y_train)}\n",
        "\n",
        "for method in methods_data.keys():\n",
        "    #scoring=['roc_auc', 'accuracy']\n",
        "    lr_results_acc = cross_val_score(LogisticRegression(), methods_data[method][0], methods_data[method][1], cv=5, scoring='accuracy')\n",
        "    lr_results = cross_val_score(LogisticRegression(), methods_data[method][0], methods_data[method][1], scoring='roc_auc')\n",
        "    print(f\"The best AUC Score for {method} data:\")\n",
        "    print (lr_results.mean())\n",
        "    print(\"Accuracy: \", lr_results_acc.mean())"
      ],
      "execution_count": 40,
      "outputs": [
        {
          "output_type": "stream",
          "text": [
            "The best AUC Score for Logistic Regression data:\n",
            "0.5756315282564366\n",
            "Accuracy:  0.5876068592243459\n"
          ],
          "name": "stdout"
        }
      ]
    },
    {
      "cell_type": "markdown",
      "metadata": {
        "id": "Vdcl9Omtu0bE",
        "colab_type": "text"
      },
      "source": [
        "### Random Forest Classifier"
      ]
    },
    {
      "cell_type": "code",
      "metadata": {
        "id": "Kp5OBBZdT8It",
        "colab_type": "code",
        "outputId": "e61382a6-46c5-41cb-89f8-ab59dd091e20",
        "colab": {
          "base_uri": "https://localhost:8080/",
          "height": 52
        }
      },
      "source": [
        "#Implementing Random Forest Classifier to predict no-show\n",
        "\n",
        "from sklearn.metrics import accuracy_score\n",
        "from sklearn.ensemble import RandomForestClassifier\n",
        "from sklearn.metrics import r2_score,accuracy_score,roc_auc_score\n",
        "\n",
        "RFC = RandomForestClassifier(max_depth = 4, random_state = 60)\n",
        "rf_parameter = {\n",
        "        'n_estimators': 70, \n",
        "        'min_samples_leaf': 30\n",
        "    }\n",
        "\n",
        "# Fit the model to the data\n",
        "RFC = RFC.fit(X_train, y_train)\n",
        "y_pred = RFC.predict(X_test)\n",
        "\n",
        "RFC_auc = accuracy_score(y_test, y_pred)\n",
        "\n",
        "print (\"RFC accuracy score = %2.2f\" % RFC_auc)\n",
        "print(\"RFC ROC score = %2.2f\" % roc_auc_score(y_test, y_pred))\n"
      ],
      "execution_count": 41,
      "outputs": [
        {
          "output_type": "stream",
          "text": [
            "RFC accuracy score = 0.64\n",
            "RFC ROC score = 0.58\n"
          ],
          "name": "stdout"
        }
      ]
    },
    {
      "cell_type": "markdown",
      "metadata": {
        "id": "u4maXpccu_Dx",
        "colab_type": "text"
      },
      "source": [
        "### Gaussian Naive Bayes Classifier"
      ]
    },
    {
      "cell_type": "code",
      "metadata": {
        "id": "c1Af0xcJbtBI",
        "colab_type": "code",
        "outputId": "449e7a93-963e-4f76-aac8-fcf29d6d1737",
        "colab": {
          "base_uri": "https://localhost:8080/",
          "height": 52
        }
      },
      "source": [
        "from sklearn.naive_bayes import GaussianNB\n",
        "\n",
        "GNB = GaussianNB()\n",
        "\n",
        "# Fit the model to the data\n",
        "GNB = GNB.fit(X_train, y_train)\n",
        "\n",
        "GNB_auc = accuracy_score(y_test, GNB.predict(X_test))\n",
        "\n",
        "print (\"Naive Bayes accuracy scoure= %2.2f\" % GNB_auc)\n",
        "print (\"Naive Bayes ROC score= %2.2f\" % roc_auc_score(y_test, GNB.predict(X_test)))"
      ],
      "execution_count": 42,
      "outputs": [
        {
          "output_type": "stream",
          "text": [
            "Naive Bayes accuracy scoure= 0.61\n",
            "Naive Bayes ROC score= 0.57\n"
          ],
          "name": "stdout"
        }
      ]
    },
    {
      "cell_type": "markdown",
      "metadata": {
        "id": "VDAv6lfVvIrW",
        "colab_type": "text"
      },
      "source": [
        "### XGBoost Classifier"
      ]
    },
    {
      "cell_type": "code",
      "metadata": {
        "id": "RUK5WU2vTw5o",
        "colab_type": "code",
        "colab": {}
      },
      "source": [
        "import xgboost as xgb\n",
        "\n",
        "param_dist = {'objective':'binary:logistic', 'n_estimators':2}\n",
        "\n",
        "xgm = xgb.XGBModel(**param_dist)\n",
        "\n",
        "xgm.fit(X_train, y_train)\n",
        "\n",
        "predict_train = xgm.predict(X_train)"
      ],
      "execution_count": 0,
      "outputs": []
    },
    {
      "cell_type": "code",
      "metadata": {
        "id": "o4gHBNojS5YZ",
        "colab_type": "code",
        "outputId": "3b6d13b8-12c4-4b96-c62c-cc534fa6c4c7",
        "colab": {
          "base_uri": "https://localhost:8080/",
          "height": 52
        }
      },
      "source": [
        "from xgboost import XGBClassifier\n",
        "\n",
        "# Create the Original training sets\n",
        "methods_data = {\"Original\": (X_train, y_train)}\n",
        "\n",
        "# Loop through training sets and apply 5-Fold CV using XGBoost Classifier\n",
        "# By default in cross_val_score StratifiedCV is used\n",
        "for method in methods_data.keys():\n",
        "    lr_results = cross_val_score(XGBClassifier(), methods_data[method][0], methods_data[method][1], cv=5, scoring='roc_auc')\n",
        "    print(f\"The best roc_auc Score for {method} data:\")\n",
        "    print (lr_results.mean())"
      ],
      "execution_count": 44,
      "outputs": [
        {
          "output_type": "stream",
          "text": [
            "The best roc_auc Score for Original data:\n",
            "0.7050757235921199\n"
          ],
          "name": "stdout"
        }
      ]
    },
    {
      "cell_type": "code",
      "metadata": {
        "id": "J6Q22dO0V1Y6",
        "colab_type": "code",
        "outputId": "844ffc26-edfb-423b-b635-6c31dd6b9996",
        "colab": {
          "base_uri": "https://localhost:8080/",
          "height": 52
        }
      },
      "source": [
        "#checking accuracy \n",
        "for method in methods_data.keys():\n",
        "    lr_results = cross_val_score(XGBClassifier(), methods_data[method][0], methods_data[method][1], cv=5, scoring='accuracy')\n",
        "    print(f\"The best accuracy Score for {method} data:\")\n",
        "    print (lr_results.mean())"
      ],
      "execution_count": 45,
      "outputs": [
        {
          "output_type": "stream",
          "text": [
            "The best accuracy Score for Original data:\n",
            "0.6686709616393715\n"
          ],
          "name": "stdout"
        }
      ]
    },
    {
      "cell_type": "code",
      "metadata": {
        "id": "YhiFXsCqV1O_",
        "colab_type": "code",
        "colab": {}
      },
      "source": [
        "#implementing GridSearchCV and XGBoost Classifier\n",
        "\n",
        "from sklearn.model_selection import GridSearchCV\n",
        "\n",
        "gbm_param_grid = {\n",
        "'subsample': [0.9,1],\n",
        " 'max_depth':range(3,10,2),\n",
        " 'min_child_weight':range(1,6,2),\n",
        "  'learning_rate':[0.1,0.05],\n",
        " 'n_estimators':[200,300]   \n",
        "}\n",
        "\n",
        "xgb_cl=XGBClassifier(objective= 'binary:logistic', nthread=6, tree_method='gpu_hist', eval_metric='auc',n_gpus=1,max_bin=16)\n",
        "\n",
        "grid_mse = GridSearchCV(estimator=xgb_cl,param_grid=gbm_param_grid,scoring='roc_auc', cv=5, verbose=1,n_jobs=-1)\n",
        "grid_mse.fit(X_train, y_train)\n",
        "print(\"Best parameters found: \",grid_mse.best_params_)\n",
        "print(\"Best ROC found: \", np.sqrt(np.abs(grid_mse.best_score_)))"
      ],
      "execution_count": 0,
      "outputs": []
    },
    {
      "cell_type": "code",
      "metadata": {
        "id": "dOHbUWNqV1Ms",
        "colab_type": "code",
        "colab": {}
      },
      "source": [
        "#XGB=XGBClassifier(objective= 'binary:logistic', nthread=6, tree_method='gpu_hist', eval_metric='auc',n_gpus=1,max_bin=16,**grid_mse.best_params_)\n",
        "#XGB = grid_mse.fit(X_train, y_train)\n",
        "\n",
        "XGB_auc = roc_auc_score(y_test, grid_mse.predict(X_test))\n",
        "\n",
        "print (\"accuracy scoure= %2.2f\" % XGB_auc)"
      ],
      "execution_count": 0,
      "outputs": []
    },
    {
      "cell_type": "markdown",
      "metadata": {
        "id": "-kYYETANV0XK",
        "colab_type": "text"
      },
      "source": [
        "### Catboost"
      ]
    },
    {
      "cell_type": "code",
      "metadata": {
        "id": "F_tW12ZHV1Gq",
        "colab_type": "code",
        "outputId": "55baf906-c476-469e-9588-4be93810c771",
        "colab": {
          "base_uri": "https://localhost:8080/",
          "height": 329
        }
      },
      "source": [
        "pip install catboost"
      ],
      "execution_count": 47,
      "outputs": [
        {
          "output_type": "stream",
          "text": [
            "Collecting catboost\n",
            "\u001b[?25l  Downloading https://files.pythonhosted.org/packages/94/ec/12b9a42b2ea7dfe5b602f235692ab2b61ee1334ff34334a15902272869e8/catboost-0.22-cp36-none-manylinux1_x86_64.whl (64.4MB)\n",
            "\u001b[K     |████████████████████████████████| 64.4MB 63kB/s \n",
            "\u001b[?25hRequirement already satisfied: numpy>=1.16.0 in /usr/local/lib/python3.6/dist-packages (from catboost) (1.18.2)\n",
            "Requirement already satisfied: six in /usr/local/lib/python3.6/dist-packages (from catboost) (1.12.0)\n",
            "Requirement already satisfied: pandas>=0.24.0 in /usr/local/lib/python3.6/dist-packages (from catboost) (1.0.3)\n",
            "Requirement already satisfied: plotly in /usr/local/lib/python3.6/dist-packages (from catboost) (4.4.1)\n",
            "Requirement already satisfied: graphviz in /usr/local/lib/python3.6/dist-packages (from catboost) (0.10.1)\n",
            "Requirement already satisfied: matplotlib in /usr/local/lib/python3.6/dist-packages (from catboost) (3.2.1)\n",
            "Requirement already satisfied: scipy in /usr/local/lib/python3.6/dist-packages (from catboost) (1.4.1)\n",
            "Requirement already satisfied: pytz>=2017.2 in /usr/local/lib/python3.6/dist-packages (from pandas>=0.24.0->catboost) (2018.9)\n",
            "Requirement already satisfied: python-dateutil>=2.6.1 in /usr/local/lib/python3.6/dist-packages (from pandas>=0.24.0->catboost) (2.8.1)\n",
            "Requirement already satisfied: retrying>=1.3.3 in /usr/local/lib/python3.6/dist-packages (from plotly->catboost) (1.3.3)\n",
            "Requirement already satisfied: cycler>=0.10 in /usr/local/lib/python3.6/dist-packages (from matplotlib->catboost) (0.10.0)\n",
            "Requirement already satisfied: kiwisolver>=1.0.1 in /usr/local/lib/python3.6/dist-packages (from matplotlib->catboost) (1.2.0)\n",
            "Requirement already satisfied: pyparsing!=2.0.4,!=2.1.2,!=2.1.6,>=2.0.1 in /usr/local/lib/python3.6/dist-packages (from matplotlib->catboost) (2.4.7)\n",
            "Installing collected packages: catboost\n",
            "Successfully installed catboost-0.22\n"
          ],
          "name": "stdout"
        }
      ]
    },
    {
      "cell_type": "code",
      "metadata": {
        "colab_type": "code",
        "id": "myv70MoewL3d",
        "colab": {}
      },
      "source": [
        "#implementing CatBoostClassfier\n",
        "\n",
        "from catboost import CatBoostClassifier\n",
        "for method in methods_data.keys():\n",
        "    lr_results = cross_val_score(CatBoostClassifier(), methods_data[method][0], methods_data[method][1], cv=5, scoring='accuracy')\n",
        "    print(f\"The best accuracy Score for {method} data:\")\n",
        "    print (lr_results.mean())"
      ],
      "execution_count": 0,
      "outputs": []
    },
    {
      "cell_type": "code",
      "metadata": {
        "id": "7DEeVrm1V1Ad",
        "colab_type": "code",
        "outputId": "97c09975-8b63-464f-fefd-97e96d426913",
        "colab": {
          "base_uri": "https://localhost:8080/",
          "height": 988
        }
      },
      "source": [
        "params = {'iterations':[50], 'depth':[3], 'learning_rate':[0.1]}\n",
        "    \n",
        "cb_clf = CatBoostClassifier()\n",
        "\n",
        "grid_cb = GridSearchCV(estimator=cb_clf,param_grid=params,scoring='roc_auc', cv=5, verbose=1,n_jobs=-1)\n",
        "grid_cb.fit(X_train, y_train)\n",
        "print(\"Best parameters found: \",grid_cb.best_params_)\n",
        "print(\"Best ROC found: \", np.sqrt(np.abs(grid_cb.best_score_)))\n",
        "print(\"Best ROC for Test found: \", roc_auc_score(y_test, grid_cb.predict(X_test)))"
      ],
      "execution_count": 49,
      "outputs": [
        {
          "output_type": "stream",
          "text": [
            "Fitting 5 folds for each of 1 candidates, totalling 5 fits\n"
          ],
          "name": "stdout"
        },
        {
          "output_type": "stream",
          "text": [
            "[Parallel(n_jobs=-1)]: Using backend LokyBackend with 2 concurrent workers.\n",
            "[Parallel(n_jobs=-1)]: Done   5 out of   5 | elapsed:    9.6s finished\n"
          ],
          "name": "stderr"
        },
        {
          "output_type": "stream",
          "text": [
            "0:\tlearn: 0.6815934\ttotal: 40ms\tremaining: 1.96s\n",
            "1:\tlearn: 0.6722488\ttotal: 76.3ms\tremaining: 1.83s\n",
            "2:\tlearn: 0.6646508\ttotal: 106ms\tremaining: 1.66s\n",
            "3:\tlearn: 0.6558998\ttotal: 137ms\tremaining: 1.57s\n",
            "4:\tlearn: 0.6487196\ttotal: 167ms\tremaining: 1.5s\n",
            "5:\tlearn: 0.6439360\ttotal: 197ms\tremaining: 1.44s\n",
            "6:\tlearn: 0.6399492\ttotal: 227ms\tremaining: 1.39s\n",
            "7:\tlearn: 0.6359016\ttotal: 266ms\tremaining: 1.4s\n",
            "8:\tlearn: 0.6328055\ttotal: 297ms\tremaining: 1.35s\n",
            "9:\tlearn: 0.6293578\ttotal: 328ms\tremaining: 1.31s\n",
            "10:\tlearn: 0.6263270\ttotal: 359ms\tremaining: 1.27s\n",
            "11:\tlearn: 0.6242722\ttotal: 392ms\tremaining: 1.24s\n",
            "12:\tlearn: 0.6219249\ttotal: 423ms\tremaining: 1.2s\n",
            "13:\tlearn: 0.6202103\ttotal: 454ms\tremaining: 1.17s\n",
            "14:\tlearn: 0.6184367\ttotal: 495ms\tremaining: 1.15s\n",
            "15:\tlearn: 0.6170719\ttotal: 526ms\tremaining: 1.12s\n",
            "16:\tlearn: 0.6157610\ttotal: 557ms\tremaining: 1.08s\n",
            "17:\tlearn: 0.6143689\ttotal: 593ms\tremaining: 1.05s\n",
            "18:\tlearn: 0.6132979\ttotal: 633ms\tremaining: 1.03s\n",
            "19:\tlearn: 0.6123836\ttotal: 668ms\tremaining: 1s\n",
            "20:\tlearn: 0.6115552\ttotal: 708ms\tremaining: 977ms\n",
            "21:\tlearn: 0.6106450\ttotal: 740ms\tremaining: 942ms\n",
            "22:\tlearn: 0.6100111\ttotal: 771ms\tremaining: 905ms\n",
            "23:\tlearn: 0.6093858\ttotal: 803ms\tremaining: 870ms\n",
            "24:\tlearn: 0.6086819\ttotal: 836ms\tremaining: 836ms\n",
            "25:\tlearn: 0.6081576\ttotal: 868ms\tremaining: 801ms\n",
            "26:\tlearn: 0.6076921\ttotal: 900ms\tremaining: 767ms\n",
            "27:\tlearn: 0.6071842\ttotal: 939ms\tremaining: 737ms\n",
            "28:\tlearn: 0.6067662\ttotal: 971ms\tremaining: 703ms\n",
            "29:\tlearn: 0.6064067\ttotal: 1s\tremaining: 669ms\n",
            "30:\tlearn: 0.6060605\ttotal: 1.04s\tremaining: 635ms\n",
            "31:\tlearn: 0.6058711\ttotal: 1.07s\tremaining: 601ms\n",
            "32:\tlearn: 0.6055561\ttotal: 1.1s\tremaining: 567ms\n",
            "33:\tlearn: 0.6054108\ttotal: 1.13s\tremaining: 534ms\n",
            "34:\tlearn: 0.6052070\ttotal: 1.17s\tremaining: 503ms\n",
            "35:\tlearn: 0.6049621\ttotal: 1.21s\tremaining: 470ms\n",
            "36:\tlearn: 0.6048414\ttotal: 1.24s\tremaining: 435ms\n",
            "37:\tlearn: 0.6045510\ttotal: 1.27s\tremaining: 402ms\n",
            "38:\tlearn: 0.6044418\ttotal: 1.3s\tremaining: 368ms\n",
            "39:\tlearn: 0.6043648\ttotal: 1.34s\tremaining: 334ms\n",
            "40:\tlearn: 0.6041751\ttotal: 1.37s\tremaining: 301ms\n",
            "41:\tlearn: 0.6040070\ttotal: 1.41s\tremaining: 269ms\n",
            "42:\tlearn: 0.6038541\ttotal: 1.44s\tremaining: 235ms\n",
            "43:\tlearn: 0.6037623\ttotal: 1.48s\tremaining: 201ms\n",
            "44:\tlearn: 0.6036784\ttotal: 1.51s\tremaining: 168ms\n",
            "45:\tlearn: 0.6035776\ttotal: 1.54s\tremaining: 134ms\n",
            "46:\tlearn: 0.6034426\ttotal: 1.58s\tremaining: 101ms\n",
            "47:\tlearn: 0.6033867\ttotal: 1.61s\tremaining: 67.1ms\n",
            "48:\tlearn: 0.6032406\ttotal: 1.65s\tremaining: 33.7ms\n",
            "49:\tlearn: 0.6031708\ttotal: 1.68s\tremaining: 0us\n",
            "Best parameters found:  {'depth': 3, 'iterations': 50, 'learning_rate': 0.1}\n",
            "Best ROC found:  0.838421971796448\n",
            "Best ROC for Test found:  0.6431246244637526\n"
          ],
          "name": "stdout"
        }
      ]
    },
    {
      "cell_type": "markdown",
      "metadata": {
        "id": "SmZygSbI3Osc",
        "colab_type": "text"
      },
      "source": [
        "## Feature Selection "
      ]
    },
    {
      "cell_type": "code",
      "metadata": {
        "id": "XyJJWgew3Q0B",
        "colab_type": "code",
        "colab": {
          "base_uri": "https://localhost:8080/",
          "height": 52
        },
        "outputId": "228e798d-5e4e-4b2d-a681-bc217b146fb6"
      },
      "source": [
        "data = df\n",
        "print('old data shape: ',df.shape[0])\n",
        "print('new data shape: ',data.shape[0])"
      ],
      "execution_count": 50,
      "outputs": [
        {
          "output_type": "stream",
          "text": [
            "old data shape:  397242\n",
            "new data shape:  397242\n"
          ],
          "name": "stdout"
        }
      ]
    },
    {
      "cell_type": "code",
      "metadata": {
        "id": "PNLNMAqs3gdS",
        "colab_type": "code",
        "colab": {}
      },
      "source": [
        "from sklearn import metrics, preprocessing\n",
        "from sklearn.preprocessing import LabelEncoder, OneHotEncoder\n",
        "\n",
        "encode_features = ['age', 'gender', 'hypertension', 'diabetes', 'week_day','alcoholism', 'scholarship', 'sms_received', 'waiting_time','en_appointment_month','hour_of_day','en_week_day']\n",
        "\n",
        "for variable in encode_features: \n",
        "  new_le = preprocessing.LabelEncoder()\n",
        "  data[variable] = new_le.fit_transform(data[variable])"
      ],
      "execution_count": 0,
      "outputs": []
    },
    {
      "cell_type": "code",
      "metadata": {
        "id": "0aDFoj3q39yf",
        "colab_type": "code",
        "outputId": "747645da-dfc7-4af9-ab27-d7396ff5dfbb",
        "colab": {
          "base_uri": "https://localhost:8080/",
          "height": 364
        }
      },
      "source": [
        "new_features = data.drop(['no_show', 'appointment_day', 'schedule_day', 'handicap', 'age_bin', 'appointment_month','week_day', 'en_no_show'], axis=1)\n",
        "new_features.info()\n",
        "\n",
        "new_labels = data['en_no_show']\n",
        "print('\\n no-show: ',new_labels.dtypes)\n",
        "\n",
        "# Splitting dataset into train and test for features and labels\n",
        "features_train, features_test, labels_train, labels_test = \\\n",
        "    train_test_split(new_features, new_labels, test_size=0.3, random_state=60,)"
      ],
      "execution_count": 52,
      "outputs": [
        {
          "output_type": "stream",
          "text": [
            "<class 'pandas.core.frame.DataFrame'>\n",
            "Int64Index: 397242 entries, 0 to 410525\n",
            "Data columns (total 11 columns):\n",
            " #   Column                Non-Null Count   Dtype\n",
            "---  ------                --------------   -----\n",
            " 0   age                   397242 non-null  int64\n",
            " 1   gender                397242 non-null  int64\n",
            " 2   diabetes              397242 non-null  int64\n",
            " 3   alcoholism            397242 non-null  int64\n",
            " 4   hypertension          397242 non-null  int64\n",
            " 5   scholarship           397242 non-null  int64\n",
            " 6   sms_received          397242 non-null  int64\n",
            " 7   waiting_time          397242 non-null  int64\n",
            " 8   en_appointment_month  397242 non-null  int64\n",
            " 9   hour_of_day           397242 non-null  int64\n",
            " 10  en_week_day           397242 non-null  int64\n",
            "dtypes: int64(11)\n",
            "memory usage: 46.4 MB\n",
            "\n",
            " no-show:  int64\n"
          ],
          "name": "stdout"
        }
      ]
    },
    {
      "cell_type": "code",
      "metadata": {
        "id": "is82HV3s4Zda",
        "colab_type": "code",
        "colab": {}
      },
      "source": [
        "from sklearn import tree\n",
        "from sklearn.feature_selection import SelectPercentile, chi2\n",
        "from sklearn.model_selection import train_test_split, StratifiedShuffleSplit, RandomizedSearchCV, GridSearchCV\n",
        "from sklearn.metrics import f1_score, accuracy_score\n",
        "from sklearn.ensemble import GradientBoostingClassifier, RandomForestClassifier\n",
        "from sklearn.neighbors import KNeighborsClassifier\n",
        "from sklearn.preprocessing import MinMaxScaler"
      ],
      "execution_count": 0,
      "outputs": []
    },
    {
      "cell_type": "code",
      "metadata": {
        "id": "qhtdUMtk4JKG",
        "colab_type": "code",
        "colab": {}
      },
      "source": [
        "# Setting up CV using stratifiedshufflesplit due to imbalance of no_show.\n",
        "\n",
        "cv = StratifiedShuffleSplit(n_splits=15, test_size=0.2, random_state=60)"
      ],
      "execution_count": 0,
      "outputs": []
    },
    {
      "cell_type": "code",
      "metadata": {
        "id": "u98Wld-S4PuK",
        "colab_type": "code",
        "outputId": "16075121-9a06-47f3-998e-8375c678bf61",
        "colab": {
          "base_uri": "https://localhost:8080/",
          "height": 190
        }
      },
      "source": [
        "# Fitting a tree\n",
        "clf = tree.DecisionTreeClassifier(random_state=60)\n",
        "clf.fit(features_train, labels_train)\n",
        "\n",
        "# Feature Importances to see whether new feature created has any importance.\n",
        "importances = clf.feature_importances_\n",
        "indices = np.argsort(importances)[::-1]\n",
        "\n",
        "print (\"Feature ranking: \")\n",
        "for i in range(1, 10, 1):\n",
        "    print (\"  {}.  feature: {} ({})\".format(i, features_train.columns[i], importances[indices[i]]))"
      ],
      "execution_count": 56,
      "outputs": [
        {
          "output_type": "stream",
          "text": [
            "Feature ranking: \n",
            "  1.  feature: gender (0.20081116276379463)\n",
            "  2.  feature: diabetes (0.19901385166031663)\n",
            "  3.  feature: alcoholism (0.11092428086401955)\n",
            "  4.  feature: hypertension (0.0920647558148568)\n",
            "  5.  feature: scholarship (0.04239899216669167)\n",
            "  6.  feature: sms_received (0.02467763228642856)\n",
            "  7.  feature: waiting_time (0.020220146554798892)\n",
            "  8.  feature: en_appointment_month (0.02015179902886172)\n",
            "  9.  feature: hour_of_day (0.013982368696113327)\n"
          ],
          "name": "stdout"
        }
      ]
    },
    {
      "cell_type": "code",
      "metadata": {
        "id": "EI6xhe1f4bKG",
        "colab_type": "code",
        "colab": {}
      },
      "source": [
        "from sklearn.feature_selection import SelectKBest\n",
        "from sklearn.feature_selection import chi2\n",
        "\n",
        "selector = SelectKBest(chi2, k=2)\n",
        "selector.fit_transform(features_train, labels_train)\n",
        "\n",
        "\n",
        "# Storing best features and their stores in separate pd.Series\n",
        "scores = pd.Series(selector.scores_)\n",
        "columns = pd.Series(features_train.columns)\n",
        "\n",
        "# Concatenating both pd.Series into one df\n",
        "selectbest = pd.concat([columns, scores], axis=1)\n",
        "selectbest.rename(columns={0:'features', 1:'scores'}, inplace=True)"
      ],
      "execution_count": 0,
      "outputs": []
    },
    {
      "cell_type": "code",
      "metadata": {
        "id": "shXm_zny4jZB",
        "colab_type": "code",
        "outputId": "2997a90e-68e9-4b45-ec12-d5c96153a1bf",
        "colab": {
          "base_uri": "https://localhost:8080/",
          "height": 485
        }
      },
      "source": [
        "selectbest_plot = selectbest.iloc[:8,:].plot.bar()\n",
        "selectbest_plot.set_title('Feature Scoring')\n",
        "selectbest_plot.set_xticklabels(selectbest['features'])\n",
        "selectbest_plot.set_xlabel('Features')\n",
        "selectbest_plot.set_ylabel('Score')"
      ],
      "execution_count": 58,
      "outputs": [
        {
          "output_type": "execute_result",
          "data": {
            "text/plain": [
              "Text(0, 0.5, 'Score')"
            ]
          },
          "metadata": {
            "tags": []
          },
          "execution_count": 58
        },
        {
          "output_type": "display_data",
          "data": {
            "text/plain": [
              "<Figure size 432x288 with 1 Axes>"
            ],
            "image/svg+xml": "<?xml version=\"1.0\" encoding=\"utf-8\" standalone=\"no\"?>\n<!DOCTYPE svg PUBLIC \"-//W3C//DTD SVG 1.1//EN\"\n  \"http://www.w3.org/Graphics/SVG/1.1/DTD/svg11.dtd\">\n<!-- Created with matplotlib (https://matplotlib.org/) -->\n<svg height=\"335.684688pt\" version=\"1.1\" viewBox=\"0 0 401.690625 335.684688\" width=\"401.690625pt\" xmlns=\"http://www.w3.org/2000/svg\" xmlns:xlink=\"http://www.w3.org/1999/xlink\">\n <defs>\n  <style type=\"text/css\">\n*{stroke-linecap:butt;stroke-linejoin:round;}\n  </style>\n </defs>\n <g id=\"figure_1\">\n  <g id=\"patch_1\">\n   <path d=\"M 0 335.684688 \nL 401.690625 335.684688 \nL 401.690625 0 \nL 0 0 \nz\n\" style=\"fill:none;\"/>\n  </g>\n  <g id=\"axes_1\">\n   <g id=\"patch_2\">\n    <path d=\"M 59.690625 239.758125 \nL 394.490625 239.758125 \nL 394.490625 22.318125 \nL 59.690625 22.318125 \nz\n\" style=\"fill:#ffffff;\"/>\n   </g>\n   <g id=\"matplotlib.axis_1\">\n    <g id=\"xtick_1\">\n     <g id=\"line2d_1\">\n      <path clip-path=\"url(#pe914cec206)\" d=\"M 80.615625 239.758125 \nL 80.615625 22.318125 \n\" style=\"fill:none;stroke:#cccccc;stroke-linecap:round;stroke-width:0.8;\"/>\n     </g>\n     <g id=\"text_1\">\n      <!-- age -->\n      <defs>\n       <path d=\"M 34.28125 27.484375 \nQ 23.390625 27.484375 19.1875 25 \nQ 14.984375 22.515625 14.984375 16.5 \nQ 14.984375 11.71875 18.140625 8.90625 \nQ 21.296875 6.109375 26.703125 6.109375 \nQ 34.1875 6.109375 38.703125 11.40625 \nQ 43.21875 16.703125 43.21875 25.484375 \nL 43.21875 27.484375 \nz\nM 52.203125 31.203125 \nL 52.203125 0 \nL 43.21875 0 \nL 43.21875 8.296875 \nQ 40.140625 3.328125 35.546875 0.953125 \nQ 30.953125 -1.421875 24.3125 -1.421875 \nQ 15.921875 -1.421875 10.953125 3.296875 \nQ 6 8.015625 6 15.921875 \nQ 6 25.140625 12.171875 29.828125 \nQ 18.359375 34.515625 30.609375 34.515625 \nL 43.21875 34.515625 \nL 43.21875 35.40625 \nQ 43.21875 41.609375 39.140625 45 \nQ 35.0625 48.390625 27.6875 48.390625 \nQ 23 48.390625 18.546875 47.265625 \nQ 14.109375 46.140625 10.015625 43.890625 \nL 10.015625 52.203125 \nQ 14.9375 54.109375 19.578125 55.046875 \nQ 24.21875 56 28.609375 56 \nQ 40.484375 56 46.34375 49.84375 \nQ 52.203125 43.703125 52.203125 31.203125 \nz\n\" id=\"DejaVuSans-97\"/>\n       <path d=\"M 45.40625 27.984375 \nQ 45.40625 37.75 41.375 43.109375 \nQ 37.359375 48.484375 30.078125 48.484375 \nQ 22.859375 48.484375 18.828125 43.109375 \nQ 14.796875 37.75 14.796875 27.984375 \nQ 14.796875 18.265625 18.828125 12.890625 \nQ 22.859375 7.515625 30.078125 7.515625 \nQ 37.359375 7.515625 41.375 12.890625 \nQ 45.40625 18.265625 45.40625 27.984375 \nz\nM 54.390625 6.78125 \nQ 54.390625 -7.171875 48.1875 -13.984375 \nQ 42 -20.796875 29.203125 -20.796875 \nQ 24.46875 -20.796875 20.265625 -20.09375 \nQ 16.0625 -19.390625 12.109375 -17.921875 \nL 12.109375 -9.1875 \nQ 16.0625 -11.328125 19.921875 -12.34375 \nQ 23.78125 -13.375 27.78125 -13.375 \nQ 36.625 -13.375 41.015625 -8.765625 \nQ 45.40625 -4.15625 45.40625 5.171875 \nL 45.40625 9.625 \nQ 42.625 4.78125 38.28125 2.390625 \nQ 33.9375 0 27.875 0 \nQ 17.828125 0 11.671875 7.65625 \nQ 5.515625 15.328125 5.515625 27.984375 \nQ 5.515625 40.671875 11.671875 48.328125 \nQ 17.828125 56 27.875 56 \nQ 33.9375 56 38.28125 53.609375 \nQ 42.625 51.21875 45.40625 46.390625 \nL 45.40625 54.6875 \nL 54.390625 54.6875 \nz\n\" id=\"DejaVuSans-103\"/>\n       <path d=\"M 56.203125 29.59375 \nL 56.203125 25.203125 \nL 14.890625 25.203125 \nQ 15.484375 15.921875 20.484375 11.0625 \nQ 25.484375 6.203125 34.421875 6.203125 \nQ 39.59375 6.203125 44.453125 7.46875 \nQ 49.3125 8.734375 54.109375 11.28125 \nL 54.109375 2.78125 \nQ 49.265625 0.734375 44.1875 -0.34375 \nQ 39.109375 -1.421875 33.890625 -1.421875 \nQ 20.796875 -1.421875 13.15625 6.1875 \nQ 5.515625 13.8125 5.515625 26.8125 \nQ 5.515625 40.234375 12.765625 48.109375 \nQ 20.015625 56 32.328125 56 \nQ 43.359375 56 49.78125 48.890625 \nQ 56.203125 41.796875 56.203125 29.59375 \nz\nM 47.21875 32.234375 \nQ 47.125 39.59375 43.09375 43.984375 \nQ 39.0625 48.390625 32.421875 48.390625 \nQ 24.90625 48.390625 20.390625 44.140625 \nQ 15.875 39.890625 15.1875 32.171875 \nz\n\" id=\"DejaVuSans-101\"/>\n      </defs>\n      <g style=\"fill:#262626;\" transform=\"translate(83.375 265.387813)rotate(-90)scale(0.1 -0.1)\">\n       <use xlink:href=\"#DejaVuSans-97\"/>\n       <use x=\"61.279297\" xlink:href=\"#DejaVuSans-103\"/>\n       <use x=\"124.755859\" xlink:href=\"#DejaVuSans-101\"/>\n      </g>\n     </g>\n    </g>\n    <g id=\"xtick_2\">\n     <g id=\"line2d_2\">\n      <path clip-path=\"url(#pe914cec206)\" d=\"M 122.465625 239.758125 \nL 122.465625 22.318125 \n\" style=\"fill:none;stroke:#cccccc;stroke-linecap:round;stroke-width:0.8;\"/>\n     </g>\n     <g id=\"text_2\">\n      <!-- gender -->\n      <defs>\n       <path d=\"M 54.890625 33.015625 \nL 54.890625 0 \nL 45.90625 0 \nL 45.90625 32.71875 \nQ 45.90625 40.484375 42.875 44.328125 \nQ 39.84375 48.1875 33.796875 48.1875 \nQ 26.515625 48.1875 22.3125 43.546875 \nQ 18.109375 38.921875 18.109375 30.90625 \nL 18.109375 0 \nL 9.078125 0 \nL 9.078125 54.6875 \nL 18.109375 54.6875 \nL 18.109375 46.1875 \nQ 21.34375 51.125 25.703125 53.5625 \nQ 30.078125 56 35.796875 56 \nQ 45.21875 56 50.046875 50.171875 \nQ 54.890625 44.34375 54.890625 33.015625 \nz\n\" id=\"DejaVuSans-110\"/>\n       <path d=\"M 45.40625 46.390625 \nL 45.40625 75.984375 \nL 54.390625 75.984375 \nL 54.390625 0 \nL 45.40625 0 \nL 45.40625 8.203125 \nQ 42.578125 3.328125 38.25 0.953125 \nQ 33.9375 -1.421875 27.875 -1.421875 \nQ 17.96875 -1.421875 11.734375 6.484375 \nQ 5.515625 14.40625 5.515625 27.296875 \nQ 5.515625 40.1875 11.734375 48.09375 \nQ 17.96875 56 27.875 56 \nQ 33.9375 56 38.25 53.625 \nQ 42.578125 51.265625 45.40625 46.390625 \nz\nM 14.796875 27.296875 \nQ 14.796875 17.390625 18.875 11.75 \nQ 22.953125 6.109375 30.078125 6.109375 \nQ 37.203125 6.109375 41.296875 11.75 \nQ 45.40625 17.390625 45.40625 27.296875 \nQ 45.40625 37.203125 41.296875 42.84375 \nQ 37.203125 48.484375 30.078125 48.484375 \nQ 22.953125 48.484375 18.875 42.84375 \nQ 14.796875 37.203125 14.796875 27.296875 \nz\n\" id=\"DejaVuSans-100\"/>\n       <path d=\"M 41.109375 46.296875 \nQ 39.59375 47.171875 37.8125 47.578125 \nQ 36.03125 48 33.890625 48 \nQ 26.265625 48 22.1875 43.046875 \nQ 18.109375 38.09375 18.109375 28.8125 \nL 18.109375 0 \nL 9.078125 0 \nL 9.078125 54.6875 \nL 18.109375 54.6875 \nL 18.109375 46.1875 \nQ 20.953125 51.171875 25.484375 53.578125 \nQ 30.03125 56 36.53125 56 \nQ 37.453125 56 38.578125 55.875 \nQ 39.703125 55.765625 41.0625 55.515625 \nz\n\" id=\"DejaVuSans-114\"/>\n      </defs>\n      <g style=\"fill:#262626;\" transform=\"translate(125.225 282.209688)rotate(-90)scale(0.1 -0.1)\">\n       <use xlink:href=\"#DejaVuSans-103\"/>\n       <use x=\"63.476562\" xlink:href=\"#DejaVuSans-101\"/>\n       <use x=\"125\" xlink:href=\"#DejaVuSans-110\"/>\n       <use x=\"188.378906\" xlink:href=\"#DejaVuSans-100\"/>\n       <use x=\"251.855469\" xlink:href=\"#DejaVuSans-101\"/>\n       <use x=\"313.378906\" xlink:href=\"#DejaVuSans-114\"/>\n      </g>\n     </g>\n    </g>\n    <g id=\"xtick_3\">\n     <g id=\"line2d_3\">\n      <path clip-path=\"url(#pe914cec206)\" d=\"M 164.315625 239.758125 \nL 164.315625 22.318125 \n\" style=\"fill:none;stroke:#cccccc;stroke-linecap:round;stroke-width:0.8;\"/>\n     </g>\n     <g id=\"text_3\">\n      <!-- diabetes -->\n      <defs>\n       <path d=\"M 9.421875 54.6875 \nL 18.40625 54.6875 \nL 18.40625 0 \nL 9.421875 0 \nz\nM 9.421875 75.984375 \nL 18.40625 75.984375 \nL 18.40625 64.59375 \nL 9.421875 64.59375 \nz\n\" id=\"DejaVuSans-105\"/>\n       <path d=\"M 48.6875 27.296875 \nQ 48.6875 37.203125 44.609375 42.84375 \nQ 40.53125 48.484375 33.40625 48.484375 \nQ 26.265625 48.484375 22.1875 42.84375 \nQ 18.109375 37.203125 18.109375 27.296875 \nQ 18.109375 17.390625 22.1875 11.75 \nQ 26.265625 6.109375 33.40625 6.109375 \nQ 40.53125 6.109375 44.609375 11.75 \nQ 48.6875 17.390625 48.6875 27.296875 \nz\nM 18.109375 46.390625 \nQ 20.953125 51.265625 25.265625 53.625 \nQ 29.59375 56 35.59375 56 \nQ 45.5625 56 51.78125 48.09375 \nQ 58.015625 40.1875 58.015625 27.296875 \nQ 58.015625 14.40625 51.78125 6.484375 \nQ 45.5625 -1.421875 35.59375 -1.421875 \nQ 29.59375 -1.421875 25.265625 0.953125 \nQ 20.953125 3.328125 18.109375 8.203125 \nL 18.109375 0 \nL 9.078125 0 \nL 9.078125 75.984375 \nL 18.109375 75.984375 \nz\n\" id=\"DejaVuSans-98\"/>\n       <path d=\"M 18.3125 70.21875 \nL 18.3125 54.6875 \nL 36.8125 54.6875 \nL 36.8125 47.703125 \nL 18.3125 47.703125 \nL 18.3125 18.015625 \nQ 18.3125 11.328125 20.140625 9.421875 \nQ 21.96875 7.515625 27.59375 7.515625 \nL 36.8125 7.515625 \nL 36.8125 0 \nL 27.59375 0 \nQ 17.1875 0 13.234375 3.875 \nQ 9.28125 7.765625 9.28125 18.015625 \nL 9.28125 47.703125 \nL 2.6875 47.703125 \nL 2.6875 54.6875 \nL 9.28125 54.6875 \nL 9.28125 70.21875 \nz\n\" id=\"DejaVuSans-116\"/>\n       <path d=\"M 44.28125 53.078125 \nL 44.28125 44.578125 \nQ 40.484375 46.53125 36.375 47.5 \nQ 32.28125 48.484375 27.875 48.484375 \nQ 21.1875 48.484375 17.84375 46.4375 \nQ 14.5 44.390625 14.5 40.28125 \nQ 14.5 37.15625 16.890625 35.375 \nQ 19.28125 33.59375 26.515625 31.984375 \nL 29.59375 31.296875 \nQ 39.15625 29.25 43.1875 25.515625 \nQ 47.21875 21.78125 47.21875 15.09375 \nQ 47.21875 7.46875 41.1875 3.015625 \nQ 35.15625 -1.421875 24.609375 -1.421875 \nQ 20.21875 -1.421875 15.453125 -0.5625 \nQ 10.6875 0.296875 5.421875 2 \nL 5.421875 11.28125 \nQ 10.40625 8.6875 15.234375 7.390625 \nQ 20.0625 6.109375 24.8125 6.109375 \nQ 31.15625 6.109375 34.5625 8.28125 \nQ 37.984375 10.453125 37.984375 14.40625 \nQ 37.984375 18.0625 35.515625 20.015625 \nQ 33.0625 21.96875 24.703125 23.78125 \nL 21.578125 24.515625 \nQ 13.234375 26.265625 9.515625 29.90625 \nQ 5.8125 33.546875 5.8125 39.890625 \nQ 5.8125 47.609375 11.28125 51.796875 \nQ 16.75 56 26.8125 56 \nQ 31.78125 56 36.171875 55.265625 \nQ 40.578125 54.546875 44.28125 53.078125 \nz\n\" id=\"DejaVuSans-115\"/>\n      </defs>\n      <g style=\"fill:#262626;\" transform=\"translate(167.075 289.797188)rotate(-90)scale(0.1 -0.1)\">\n       <use xlink:href=\"#DejaVuSans-100\"/>\n       <use x=\"63.476562\" xlink:href=\"#DejaVuSans-105\"/>\n       <use x=\"91.259766\" xlink:href=\"#DejaVuSans-97\"/>\n       <use x=\"152.539062\" xlink:href=\"#DejaVuSans-98\"/>\n       <use x=\"216.015625\" xlink:href=\"#DejaVuSans-101\"/>\n       <use x=\"277.539062\" xlink:href=\"#DejaVuSans-116\"/>\n       <use x=\"316.748047\" xlink:href=\"#DejaVuSans-101\"/>\n       <use x=\"378.271484\" xlink:href=\"#DejaVuSans-115\"/>\n      </g>\n     </g>\n    </g>\n    <g id=\"xtick_4\">\n     <g id=\"line2d_4\">\n      <path clip-path=\"url(#pe914cec206)\" d=\"M 206.165625 239.758125 \nL 206.165625 22.318125 \n\" style=\"fill:none;stroke:#cccccc;stroke-linecap:round;stroke-width:0.8;\"/>\n     </g>\n     <g id=\"text_4\">\n      <!-- alcoholism -->\n      <defs>\n       <path d=\"M 9.421875 75.984375 \nL 18.40625 75.984375 \nL 18.40625 0 \nL 9.421875 0 \nz\n\" id=\"DejaVuSans-108\"/>\n       <path d=\"M 48.78125 52.59375 \nL 48.78125 44.1875 \nQ 44.96875 46.296875 41.140625 47.34375 \nQ 37.3125 48.390625 33.40625 48.390625 \nQ 24.65625 48.390625 19.8125 42.84375 \nQ 14.984375 37.3125 14.984375 27.296875 \nQ 14.984375 17.28125 19.8125 11.734375 \nQ 24.65625 6.203125 33.40625 6.203125 \nQ 37.3125 6.203125 41.140625 7.25 \nQ 44.96875 8.296875 48.78125 10.40625 \nL 48.78125 2.09375 \nQ 45.015625 0.34375 40.984375 -0.53125 \nQ 36.96875 -1.421875 32.421875 -1.421875 \nQ 20.0625 -1.421875 12.78125 6.34375 \nQ 5.515625 14.109375 5.515625 27.296875 \nQ 5.515625 40.671875 12.859375 48.328125 \nQ 20.21875 56 33.015625 56 \nQ 37.15625 56 41.109375 55.140625 \nQ 45.0625 54.296875 48.78125 52.59375 \nz\n\" id=\"DejaVuSans-99\"/>\n       <path d=\"M 30.609375 48.390625 \nQ 23.390625 48.390625 19.1875 42.75 \nQ 14.984375 37.109375 14.984375 27.296875 \nQ 14.984375 17.484375 19.15625 11.84375 \nQ 23.34375 6.203125 30.609375 6.203125 \nQ 37.796875 6.203125 41.984375 11.859375 \nQ 46.1875 17.53125 46.1875 27.296875 \nQ 46.1875 37.015625 41.984375 42.703125 \nQ 37.796875 48.390625 30.609375 48.390625 \nz\nM 30.609375 56 \nQ 42.328125 56 49.015625 48.375 \nQ 55.71875 40.765625 55.71875 27.296875 \nQ 55.71875 13.875 49.015625 6.21875 \nQ 42.328125 -1.421875 30.609375 -1.421875 \nQ 18.84375 -1.421875 12.171875 6.21875 \nQ 5.515625 13.875 5.515625 27.296875 \nQ 5.515625 40.765625 12.171875 48.375 \nQ 18.84375 56 30.609375 56 \nz\n\" id=\"DejaVuSans-111\"/>\n       <path d=\"M 54.890625 33.015625 \nL 54.890625 0 \nL 45.90625 0 \nL 45.90625 32.71875 \nQ 45.90625 40.484375 42.875 44.328125 \nQ 39.84375 48.1875 33.796875 48.1875 \nQ 26.515625 48.1875 22.3125 43.546875 \nQ 18.109375 38.921875 18.109375 30.90625 \nL 18.109375 0 \nL 9.078125 0 \nL 9.078125 75.984375 \nL 18.109375 75.984375 \nL 18.109375 46.1875 \nQ 21.34375 51.125 25.703125 53.5625 \nQ 30.078125 56 35.796875 56 \nQ 45.21875 56 50.046875 50.171875 \nQ 54.890625 44.34375 54.890625 33.015625 \nz\n\" id=\"DejaVuSans-104\"/>\n       <path d=\"M 52 44.1875 \nQ 55.375 50.25 60.0625 53.125 \nQ 64.75 56 71.09375 56 \nQ 79.640625 56 84.28125 50.015625 \nQ 88.921875 44.046875 88.921875 33.015625 \nL 88.921875 0 \nL 79.890625 0 \nL 79.890625 32.71875 \nQ 79.890625 40.578125 77.09375 44.375 \nQ 74.3125 48.1875 68.609375 48.1875 \nQ 61.625 48.1875 57.5625 43.546875 \nQ 53.515625 38.921875 53.515625 30.90625 \nL 53.515625 0 \nL 44.484375 0 \nL 44.484375 32.71875 \nQ 44.484375 40.625 41.703125 44.40625 \nQ 38.921875 48.1875 33.109375 48.1875 \nQ 26.21875 48.1875 22.15625 43.53125 \nQ 18.109375 38.875 18.109375 30.90625 \nL 18.109375 0 \nL 9.078125 0 \nL 9.078125 54.6875 \nL 18.109375 54.6875 \nL 18.109375 46.1875 \nQ 21.1875 51.21875 25.484375 53.609375 \nQ 29.78125 56 35.6875 56 \nQ 41.65625 56 45.828125 52.96875 \nQ 50 49.953125 52 44.1875 \nz\n\" id=\"DejaVuSans-109\"/>\n      </defs>\n      <g style=\"fill:#262626;\" transform=\"translate(208.925 300.244063)rotate(-90)scale(0.1 -0.1)\">\n       <use xlink:href=\"#DejaVuSans-97\"/>\n       <use x=\"61.279297\" xlink:href=\"#DejaVuSans-108\"/>\n       <use x=\"89.0625\" xlink:href=\"#DejaVuSans-99\"/>\n       <use x=\"144.042969\" xlink:href=\"#DejaVuSans-111\"/>\n       <use x=\"205.224609\" xlink:href=\"#DejaVuSans-104\"/>\n       <use x=\"268.603516\" xlink:href=\"#DejaVuSans-111\"/>\n       <use x=\"329.785156\" xlink:href=\"#DejaVuSans-108\"/>\n       <use x=\"357.568359\" xlink:href=\"#DejaVuSans-105\"/>\n       <use x=\"385.351562\" xlink:href=\"#DejaVuSans-115\"/>\n       <use x=\"437.451172\" xlink:href=\"#DejaVuSans-109\"/>\n      </g>\n     </g>\n    </g>\n    <g id=\"xtick_5\">\n     <g id=\"line2d_5\">\n      <path clip-path=\"url(#pe914cec206)\" d=\"M 248.015625 239.758125 \nL 248.015625 22.318125 \n\" style=\"fill:none;stroke:#cccccc;stroke-linecap:round;stroke-width:0.8;\"/>\n     </g>\n     <g id=\"text_5\">\n      <!-- hypertension -->\n      <defs>\n       <path d=\"M 32.171875 -5.078125 \nQ 28.375 -14.84375 24.75 -17.8125 \nQ 21.140625 -20.796875 15.09375 -20.796875 \nL 7.90625 -20.796875 \nL 7.90625 -13.28125 \nL 13.1875 -13.28125 \nQ 16.890625 -13.28125 18.9375 -11.515625 \nQ 21 -9.765625 23.484375 -3.21875 \nL 25.09375 0.875 \nL 2.984375 54.6875 \nL 12.5 54.6875 \nL 29.59375 11.921875 \nL 46.6875 54.6875 \nL 56.203125 54.6875 \nz\n\" id=\"DejaVuSans-121\"/>\n       <path d=\"M 18.109375 8.203125 \nL 18.109375 -20.796875 \nL 9.078125 -20.796875 \nL 9.078125 54.6875 \nL 18.109375 54.6875 \nL 18.109375 46.390625 \nQ 20.953125 51.265625 25.265625 53.625 \nQ 29.59375 56 35.59375 56 \nQ 45.5625 56 51.78125 48.09375 \nQ 58.015625 40.1875 58.015625 27.296875 \nQ 58.015625 14.40625 51.78125 6.484375 \nQ 45.5625 -1.421875 35.59375 -1.421875 \nQ 29.59375 -1.421875 25.265625 0.953125 \nQ 20.953125 3.328125 18.109375 8.203125 \nz\nM 48.6875 27.296875 \nQ 48.6875 37.203125 44.609375 42.84375 \nQ 40.53125 48.484375 33.40625 48.484375 \nQ 26.265625 48.484375 22.1875 42.84375 \nQ 18.109375 37.203125 18.109375 27.296875 \nQ 18.109375 17.390625 22.1875 11.75 \nQ 26.265625 6.109375 33.40625 6.109375 \nQ 40.53125 6.109375 44.609375 11.75 \nQ 48.6875 17.390625 48.6875 27.296875 \nz\n\" id=\"DejaVuSans-112\"/>\n      </defs>\n      <g style=\"fill:#262626;\" transform=\"translate(250.775 312.481563)rotate(-90)scale(0.1 -0.1)\">\n       <use xlink:href=\"#DejaVuSans-104\"/>\n       <use x=\"63.378906\" xlink:href=\"#DejaVuSans-121\"/>\n       <use x=\"122.558594\" xlink:href=\"#DejaVuSans-112\"/>\n       <use x=\"186.035156\" xlink:href=\"#DejaVuSans-101\"/>\n       <use x=\"247.558594\" xlink:href=\"#DejaVuSans-114\"/>\n       <use x=\"288.671875\" xlink:href=\"#DejaVuSans-116\"/>\n       <use x=\"327.880859\" xlink:href=\"#DejaVuSans-101\"/>\n       <use x=\"389.404297\" xlink:href=\"#DejaVuSans-110\"/>\n       <use x=\"452.783203\" xlink:href=\"#DejaVuSans-115\"/>\n       <use x=\"504.882812\" xlink:href=\"#DejaVuSans-105\"/>\n       <use x=\"532.666016\" xlink:href=\"#DejaVuSans-111\"/>\n       <use x=\"593.847656\" xlink:href=\"#DejaVuSans-110\"/>\n      </g>\n     </g>\n    </g>\n    <g id=\"xtick_6\">\n     <g id=\"line2d_6\">\n      <path clip-path=\"url(#pe914cec206)\" d=\"M 289.865625 239.758125 \nL 289.865625 22.318125 \n\" style=\"fill:none;stroke:#cccccc;stroke-linecap:round;stroke-width:0.8;\"/>\n     </g>\n     <g id=\"text_6\">\n      <!-- scholarship -->\n      <g style=\"fill:#262626;\" transform=\"translate(292.625 303.612813)rotate(-90)scale(0.1 -0.1)\">\n       <use xlink:href=\"#DejaVuSans-115\"/>\n       <use x=\"52.099609\" xlink:href=\"#DejaVuSans-99\"/>\n       <use x=\"107.080078\" xlink:href=\"#DejaVuSans-104\"/>\n       <use x=\"170.458984\" xlink:href=\"#DejaVuSans-111\"/>\n       <use x=\"231.640625\" xlink:href=\"#DejaVuSans-108\"/>\n       <use x=\"259.423828\" xlink:href=\"#DejaVuSans-97\"/>\n       <use x=\"320.703125\" xlink:href=\"#DejaVuSans-114\"/>\n       <use x=\"361.816406\" xlink:href=\"#DejaVuSans-115\"/>\n       <use x=\"413.916016\" xlink:href=\"#DejaVuSans-104\"/>\n       <use x=\"477.294922\" xlink:href=\"#DejaVuSans-105\"/>\n       <use x=\"505.078125\" xlink:href=\"#DejaVuSans-112\"/>\n      </g>\n     </g>\n    </g>\n    <g id=\"xtick_7\">\n     <g id=\"line2d_7\">\n      <path clip-path=\"url(#pe914cec206)\" d=\"M 331.715625 239.758125 \nL 331.715625 22.318125 \n\" style=\"fill:none;stroke:#cccccc;stroke-linecap:round;stroke-width:0.8;\"/>\n     </g>\n     <g id=\"text_7\">\n      <!-- sms_received -->\n      <defs>\n       <path d=\"M 50.984375 -16.609375 \nL 50.984375 -23.578125 \nL -0.984375 -23.578125 \nL -0.984375 -16.609375 \nz\n\" id=\"DejaVuSans-95\"/>\n       <path d=\"M 2.984375 54.6875 \nL 12.5 54.6875 \nL 29.59375 8.796875 \nL 46.6875 54.6875 \nL 56.203125 54.6875 \nL 35.6875 0 \nL 23.484375 0 \nz\n\" id=\"DejaVuSans-118\"/>\n      </defs>\n      <g style=\"fill:#262626;\" transform=\"translate(334.335938 314.806563)rotate(-90)scale(0.1 -0.1)\">\n       <use xlink:href=\"#DejaVuSans-115\"/>\n       <use x=\"52.099609\" xlink:href=\"#DejaVuSans-109\"/>\n       <use x=\"149.511719\" xlink:href=\"#DejaVuSans-115\"/>\n       <use x=\"201.611328\" xlink:href=\"#DejaVuSans-95\"/>\n       <use x=\"251.611328\" xlink:href=\"#DejaVuSans-114\"/>\n       <use x=\"290.474609\" xlink:href=\"#DejaVuSans-101\"/>\n       <use x=\"351.998047\" xlink:href=\"#DejaVuSans-99\"/>\n       <use x=\"406.978516\" xlink:href=\"#DejaVuSans-101\"/>\n       <use x=\"468.501953\" xlink:href=\"#DejaVuSans-105\"/>\n       <use x=\"496.285156\" xlink:href=\"#DejaVuSans-118\"/>\n       <use x=\"555.464844\" xlink:href=\"#DejaVuSans-101\"/>\n       <use x=\"616.988281\" xlink:href=\"#DejaVuSans-100\"/>\n      </g>\n     </g>\n    </g>\n    <g id=\"xtick_8\">\n     <g id=\"line2d_8\">\n      <path clip-path=\"url(#pe914cec206)\" d=\"M 373.565625 239.758125 \nL 373.565625 22.318125 \n\" style=\"fill:none;stroke:#cccccc;stroke-linecap:round;stroke-width:0.8;\"/>\n     </g>\n     <g id=\"text_8\">\n      <!-- waiting_time -->\n      <defs>\n       <path d=\"M 4.203125 54.6875 \nL 13.1875 54.6875 \nL 24.421875 12.015625 \nL 35.59375 54.6875 \nL 46.1875 54.6875 \nL 57.421875 12.015625 \nL 68.609375 54.6875 \nL 77.59375 54.6875 \nL 63.28125 0 \nL 52.6875 0 \nL 40.921875 44.828125 \nL 29.109375 0 \nL 18.5 0 \nz\n\" id=\"DejaVuSans-119\"/>\n      </defs>\n      <g style=\"fill:#262626;\" transform=\"translate(376.185938 310.819063)rotate(-90)scale(0.1 -0.1)\">\n       <use xlink:href=\"#DejaVuSans-119\"/>\n       <use x=\"81.787109\" xlink:href=\"#DejaVuSans-97\"/>\n       <use x=\"143.066406\" xlink:href=\"#DejaVuSans-105\"/>\n       <use x=\"170.849609\" xlink:href=\"#DejaVuSans-116\"/>\n       <use x=\"210.058594\" xlink:href=\"#DejaVuSans-105\"/>\n       <use x=\"237.841797\" xlink:href=\"#DejaVuSans-110\"/>\n       <use x=\"301.220703\" xlink:href=\"#DejaVuSans-103\"/>\n       <use x=\"364.697266\" xlink:href=\"#DejaVuSans-95\"/>\n       <use x=\"414.697266\" xlink:href=\"#DejaVuSans-116\"/>\n       <use x=\"453.90625\" xlink:href=\"#DejaVuSans-105\"/>\n       <use x=\"481.689453\" xlink:href=\"#DejaVuSans-109\"/>\n       <use x=\"579.101562\" xlink:href=\"#DejaVuSans-101\"/>\n      </g>\n     </g>\n    </g>\n    <g id=\"text_9\">\n     <!-- Features -->\n     <defs>\n      <path d=\"M 9.8125 72.90625 \nL 51.703125 72.90625 \nL 51.703125 64.59375 \nL 19.671875 64.59375 \nL 19.671875 43.109375 \nL 48.578125 43.109375 \nL 48.578125 34.8125 \nL 19.671875 34.8125 \nL 19.671875 0 \nL 9.8125 0 \nz\n\" id=\"DejaVuSans-70\"/>\n      <path d=\"M 8.5 21.578125 \nL 8.5 54.6875 \nL 17.484375 54.6875 \nL 17.484375 21.921875 \nQ 17.484375 14.15625 20.5 10.265625 \nQ 23.53125 6.390625 29.59375 6.390625 \nQ 36.859375 6.390625 41.078125 11.03125 \nQ 45.3125 15.671875 45.3125 23.6875 \nL 45.3125 54.6875 \nL 54.296875 54.6875 \nL 54.296875 0 \nL 45.3125 0 \nL 45.3125 8.40625 \nQ 42.046875 3.421875 37.71875 1 \nQ 33.40625 -1.421875 27.6875 -1.421875 \nQ 18.265625 -1.421875 13.375 4.4375 \nQ 8.5 10.296875 8.5 21.578125 \nz\nM 31.109375 56 \nz\n\" id=\"DejaVuSans-117\"/>\n     </defs>\n     <g style=\"fill:#262626;\" transform=\"translate(205.596094 326.405)scale(0.1 -0.1)\">\n      <use xlink:href=\"#DejaVuSans-70\"/>\n      <use x=\"52.019531\" xlink:href=\"#DejaVuSans-101\"/>\n      <use x=\"113.542969\" xlink:href=\"#DejaVuSans-97\"/>\n      <use x=\"174.822266\" xlink:href=\"#DejaVuSans-116\"/>\n      <use x=\"214.03125\" xlink:href=\"#DejaVuSans-117\"/>\n      <use x=\"277.410156\" xlink:href=\"#DejaVuSans-114\"/>\n      <use x=\"316.273438\" xlink:href=\"#DejaVuSans-101\"/>\n      <use x=\"377.796875\" xlink:href=\"#DejaVuSans-115\"/>\n     </g>\n    </g>\n   </g>\n   <g id=\"matplotlib.axis_2\">\n    <g id=\"ytick_1\">\n     <g id=\"line2d_9\">\n      <path clip-path=\"url(#pe914cec206)\" d=\"M 59.690625 239.758125 \nL 394.490625 239.758125 \n\" style=\"fill:none;stroke:#cccccc;stroke-linecap:round;stroke-width:0.8;\"/>\n     </g>\n     <g id=\"text_10\">\n      <!-- 0 -->\n      <defs>\n       <path d=\"M 31.78125 66.40625 \nQ 24.171875 66.40625 20.328125 58.90625 \nQ 16.5 51.421875 16.5 36.375 \nQ 16.5 21.390625 20.328125 13.890625 \nQ 24.171875 6.390625 31.78125 6.390625 \nQ 39.453125 6.390625 43.28125 13.890625 \nQ 47.125 21.390625 47.125 36.375 \nQ 47.125 51.421875 43.28125 58.90625 \nQ 39.453125 66.40625 31.78125 66.40625 \nz\nM 31.78125 74.21875 \nQ 44.046875 74.21875 50.515625 64.515625 \nQ 56.984375 54.828125 56.984375 36.375 \nQ 56.984375 17.96875 50.515625 8.265625 \nQ 44.046875 -1.421875 31.78125 -1.421875 \nQ 19.53125 -1.421875 13.0625 8.265625 \nQ 6.59375 17.96875 6.59375 36.375 \nQ 6.59375 54.828125 13.0625 64.515625 \nQ 19.53125 74.21875 31.78125 74.21875 \nz\n\" id=\"DejaVuSans-48\"/>\n      </defs>\n      <g style=\"fill:#262626;\" transform=\"translate(46.328125 243.557344)scale(0.1 -0.1)\">\n       <use xlink:href=\"#DejaVuSans-48\"/>\n      </g>\n     </g>\n    </g>\n    <g id=\"ytick_2\">\n     <g id=\"line2d_10\">\n      <path clip-path=\"url(#pe914cec206)\" d=\"M 59.690625 210.585329 \nL 394.490625 210.585329 \n\" style=\"fill:none;stroke:#cccccc;stroke-linecap:round;stroke-width:0.8;\"/>\n     </g>\n     <g id=\"text_11\">\n      <!-- 2000 -->\n      <defs>\n       <path d=\"M 19.1875 8.296875 \nL 53.609375 8.296875 \nL 53.609375 0 \nL 7.328125 0 \nL 7.328125 8.296875 \nQ 12.9375 14.109375 22.625 23.890625 \nQ 32.328125 33.6875 34.8125 36.53125 \nQ 39.546875 41.84375 41.421875 45.53125 \nQ 43.3125 49.21875 43.3125 52.78125 \nQ 43.3125 58.59375 39.234375 62.25 \nQ 35.15625 65.921875 28.609375 65.921875 \nQ 23.96875 65.921875 18.8125 64.3125 \nQ 13.671875 62.703125 7.8125 59.421875 \nL 7.8125 69.390625 \nQ 13.765625 71.78125 18.9375 73 \nQ 24.125 74.21875 28.421875 74.21875 \nQ 39.75 74.21875 46.484375 68.546875 \nQ 53.21875 62.890625 53.21875 53.421875 \nQ 53.21875 48.921875 51.53125 44.890625 \nQ 49.859375 40.875 45.40625 35.40625 \nQ 44.1875 33.984375 37.640625 27.21875 \nQ 31.109375 20.453125 19.1875 8.296875 \nz\n\" id=\"DejaVuSans-50\"/>\n      </defs>\n      <g style=\"fill:#262626;\" transform=\"translate(27.240625 214.384547)scale(0.1 -0.1)\">\n       <use xlink:href=\"#DejaVuSans-50\"/>\n       <use x=\"63.623047\" xlink:href=\"#DejaVuSans-48\"/>\n       <use x=\"127.246094\" xlink:href=\"#DejaVuSans-48\"/>\n       <use x=\"190.869141\" xlink:href=\"#DejaVuSans-48\"/>\n      </g>\n     </g>\n    </g>\n    <g id=\"ytick_3\">\n     <g id=\"line2d_11\">\n      <path clip-path=\"url(#pe914cec206)\" d=\"M 59.690625 181.412532 \nL 394.490625 181.412532 \n\" style=\"fill:none;stroke:#cccccc;stroke-linecap:round;stroke-width:0.8;\"/>\n     </g>\n     <g id=\"text_12\">\n      <!-- 4000 -->\n      <defs>\n       <path d=\"M 37.796875 64.3125 \nL 12.890625 25.390625 \nL 37.796875 25.390625 \nz\nM 35.203125 72.90625 \nL 47.609375 72.90625 \nL 47.609375 25.390625 \nL 58.015625 25.390625 \nL 58.015625 17.1875 \nL 47.609375 17.1875 \nL 47.609375 0 \nL 37.796875 0 \nL 37.796875 17.1875 \nL 4.890625 17.1875 \nL 4.890625 26.703125 \nz\n\" id=\"DejaVuSans-52\"/>\n      </defs>\n      <g style=\"fill:#262626;\" transform=\"translate(27.240625 185.211751)scale(0.1 -0.1)\">\n       <use xlink:href=\"#DejaVuSans-52\"/>\n       <use x=\"63.623047\" xlink:href=\"#DejaVuSans-48\"/>\n       <use x=\"127.246094\" xlink:href=\"#DejaVuSans-48\"/>\n       <use x=\"190.869141\" xlink:href=\"#DejaVuSans-48\"/>\n      </g>\n     </g>\n    </g>\n    <g id=\"ytick_4\">\n     <g id=\"line2d_12\">\n      <path clip-path=\"url(#pe914cec206)\" d=\"M 59.690625 152.239736 \nL 394.490625 152.239736 \n\" style=\"fill:none;stroke:#cccccc;stroke-linecap:round;stroke-width:0.8;\"/>\n     </g>\n     <g id=\"text_13\">\n      <!-- 6000 -->\n      <defs>\n       <path d=\"M 33.015625 40.375 \nQ 26.375 40.375 22.484375 35.828125 \nQ 18.609375 31.296875 18.609375 23.390625 \nQ 18.609375 15.53125 22.484375 10.953125 \nQ 26.375 6.390625 33.015625 6.390625 \nQ 39.65625 6.390625 43.53125 10.953125 \nQ 47.40625 15.53125 47.40625 23.390625 \nQ 47.40625 31.296875 43.53125 35.828125 \nQ 39.65625 40.375 33.015625 40.375 \nz\nM 52.59375 71.296875 \nL 52.59375 62.3125 \nQ 48.875 64.0625 45.09375 64.984375 \nQ 41.3125 65.921875 37.59375 65.921875 \nQ 27.828125 65.921875 22.671875 59.328125 \nQ 17.53125 52.734375 16.796875 39.40625 \nQ 19.671875 43.65625 24.015625 45.921875 \nQ 28.375 48.1875 33.59375 48.1875 \nQ 44.578125 48.1875 50.953125 41.515625 \nQ 57.328125 34.859375 57.328125 23.390625 \nQ 57.328125 12.15625 50.6875 5.359375 \nQ 44.046875 -1.421875 33.015625 -1.421875 \nQ 20.359375 -1.421875 13.671875 8.265625 \nQ 6.984375 17.96875 6.984375 36.375 \nQ 6.984375 53.65625 15.1875 63.9375 \nQ 23.390625 74.21875 37.203125 74.21875 \nQ 40.921875 74.21875 44.703125 73.484375 \nQ 48.484375 72.75 52.59375 71.296875 \nz\n\" id=\"DejaVuSans-54\"/>\n      </defs>\n      <g style=\"fill:#262626;\" transform=\"translate(27.240625 156.038954)scale(0.1 -0.1)\">\n       <use xlink:href=\"#DejaVuSans-54\"/>\n       <use x=\"63.623047\" xlink:href=\"#DejaVuSans-48\"/>\n       <use x=\"127.246094\" xlink:href=\"#DejaVuSans-48\"/>\n       <use x=\"190.869141\" xlink:href=\"#DejaVuSans-48\"/>\n      </g>\n     </g>\n    </g>\n    <g id=\"ytick_5\">\n     <g id=\"line2d_13\">\n      <path clip-path=\"url(#pe914cec206)\" d=\"M 59.690625 123.066939 \nL 394.490625 123.066939 \n\" style=\"fill:none;stroke:#cccccc;stroke-linecap:round;stroke-width:0.8;\"/>\n     </g>\n     <g id=\"text_14\">\n      <!-- 8000 -->\n      <defs>\n       <path d=\"M 31.78125 34.625 \nQ 24.75 34.625 20.71875 30.859375 \nQ 16.703125 27.09375 16.703125 20.515625 \nQ 16.703125 13.921875 20.71875 10.15625 \nQ 24.75 6.390625 31.78125 6.390625 \nQ 38.8125 6.390625 42.859375 10.171875 \nQ 46.921875 13.96875 46.921875 20.515625 \nQ 46.921875 27.09375 42.890625 30.859375 \nQ 38.875 34.625 31.78125 34.625 \nz\nM 21.921875 38.8125 \nQ 15.578125 40.375 12.03125 44.71875 \nQ 8.5 49.078125 8.5 55.328125 \nQ 8.5 64.0625 14.71875 69.140625 \nQ 20.953125 74.21875 31.78125 74.21875 \nQ 42.671875 74.21875 48.875 69.140625 \nQ 55.078125 64.0625 55.078125 55.328125 \nQ 55.078125 49.078125 51.53125 44.71875 \nQ 48 40.375 41.703125 38.8125 \nQ 48.828125 37.15625 52.796875 32.3125 \nQ 56.78125 27.484375 56.78125 20.515625 \nQ 56.78125 9.90625 50.3125 4.234375 \nQ 43.84375 -1.421875 31.78125 -1.421875 \nQ 19.734375 -1.421875 13.25 4.234375 \nQ 6.78125 9.90625 6.78125 20.515625 \nQ 6.78125 27.484375 10.78125 32.3125 \nQ 14.796875 37.15625 21.921875 38.8125 \nz\nM 18.3125 54.390625 \nQ 18.3125 48.734375 21.84375 45.5625 \nQ 25.390625 42.390625 31.78125 42.390625 \nQ 38.140625 42.390625 41.71875 45.5625 \nQ 45.3125 48.734375 45.3125 54.390625 \nQ 45.3125 60.0625 41.71875 63.234375 \nQ 38.140625 66.40625 31.78125 66.40625 \nQ 25.390625 66.40625 21.84375 63.234375 \nQ 18.3125 60.0625 18.3125 54.390625 \nz\n\" id=\"DejaVuSans-56\"/>\n      </defs>\n      <g style=\"fill:#262626;\" transform=\"translate(27.240625 126.866158)scale(0.1 -0.1)\">\n       <use xlink:href=\"#DejaVuSans-56\"/>\n       <use x=\"63.623047\" xlink:href=\"#DejaVuSans-48\"/>\n       <use x=\"127.246094\" xlink:href=\"#DejaVuSans-48\"/>\n       <use x=\"190.869141\" xlink:href=\"#DejaVuSans-48\"/>\n      </g>\n     </g>\n    </g>\n    <g id=\"ytick_6\">\n     <g id=\"line2d_14\">\n      <path clip-path=\"url(#pe914cec206)\" d=\"M 59.690625 93.894143 \nL 394.490625 93.894143 \n\" style=\"fill:none;stroke:#cccccc;stroke-linecap:round;stroke-width:0.8;\"/>\n     </g>\n     <g id=\"text_15\">\n      <!-- 10000 -->\n      <defs>\n       <path d=\"M 12.40625 8.296875 \nL 28.515625 8.296875 \nL 28.515625 63.921875 \nL 10.984375 60.40625 \nL 10.984375 69.390625 \nL 28.421875 72.90625 \nL 38.28125 72.90625 \nL 38.28125 8.296875 \nL 54.390625 8.296875 \nL 54.390625 0 \nL 12.40625 0 \nz\n\" id=\"DejaVuSans-49\"/>\n      </defs>\n      <g style=\"fill:#262626;\" transform=\"translate(20.878125 97.693362)scale(0.1 -0.1)\">\n       <use xlink:href=\"#DejaVuSans-49\"/>\n       <use x=\"63.623047\" xlink:href=\"#DejaVuSans-48\"/>\n       <use x=\"127.246094\" xlink:href=\"#DejaVuSans-48\"/>\n       <use x=\"190.869141\" xlink:href=\"#DejaVuSans-48\"/>\n       <use x=\"254.492188\" xlink:href=\"#DejaVuSans-48\"/>\n      </g>\n     </g>\n    </g>\n    <g id=\"ytick_7\">\n     <g id=\"line2d_15\">\n      <path clip-path=\"url(#pe914cec206)\" d=\"M 59.690625 64.721346 \nL 394.490625 64.721346 \n\" style=\"fill:none;stroke:#cccccc;stroke-linecap:round;stroke-width:0.8;\"/>\n     </g>\n     <g id=\"text_16\">\n      <!-- 12000 -->\n      <g style=\"fill:#262626;\" transform=\"translate(20.878125 68.520565)scale(0.1 -0.1)\">\n       <use xlink:href=\"#DejaVuSans-49\"/>\n       <use x=\"63.623047\" xlink:href=\"#DejaVuSans-50\"/>\n       <use x=\"127.246094\" xlink:href=\"#DejaVuSans-48\"/>\n       <use x=\"190.869141\" xlink:href=\"#DejaVuSans-48\"/>\n       <use x=\"254.492188\" xlink:href=\"#DejaVuSans-48\"/>\n      </g>\n     </g>\n    </g>\n    <g id=\"ytick_8\">\n     <g id=\"line2d_16\">\n      <path clip-path=\"url(#pe914cec206)\" d=\"M 59.690625 35.54855 \nL 394.490625 35.54855 \n\" style=\"fill:none;stroke:#cccccc;stroke-linecap:round;stroke-width:0.8;\"/>\n     </g>\n     <g id=\"text_17\">\n      <!-- 14000 -->\n      <g style=\"fill:#262626;\" transform=\"translate(20.878125 39.347769)scale(0.1 -0.1)\">\n       <use xlink:href=\"#DejaVuSans-49\"/>\n       <use x=\"63.623047\" xlink:href=\"#DejaVuSans-52\"/>\n       <use x=\"127.246094\" xlink:href=\"#DejaVuSans-48\"/>\n       <use x=\"190.869141\" xlink:href=\"#DejaVuSans-48\"/>\n       <use x=\"254.492188\" xlink:href=\"#DejaVuSans-48\"/>\n      </g>\n     </g>\n    </g>\n    <g id=\"text_18\">\n     <!-- Score -->\n     <defs>\n      <path d=\"M 53.515625 70.515625 \nL 53.515625 60.890625 \nQ 47.90625 63.578125 42.921875 64.890625 \nQ 37.9375 66.21875 33.296875 66.21875 \nQ 25.25 66.21875 20.875 63.09375 \nQ 16.5 59.96875 16.5 54.203125 \nQ 16.5 49.359375 19.40625 46.890625 \nQ 22.3125 44.4375 30.421875 42.921875 \nL 36.375 41.703125 \nQ 47.40625 39.59375 52.65625 34.296875 \nQ 57.90625 29 57.90625 20.125 \nQ 57.90625 9.515625 50.796875 4.046875 \nQ 43.703125 -1.421875 29.984375 -1.421875 \nQ 24.8125 -1.421875 18.96875 -0.25 \nQ 13.140625 0.921875 6.890625 3.21875 \nL 6.890625 13.375 \nQ 12.890625 10.015625 18.65625 8.296875 \nQ 24.421875 6.59375 29.984375 6.59375 \nQ 38.421875 6.59375 43.015625 9.90625 \nQ 47.609375 13.234375 47.609375 19.390625 \nQ 47.609375 24.75 44.3125 27.78125 \nQ 41.015625 30.8125 33.5 32.328125 \nL 27.484375 33.5 \nQ 16.453125 35.6875 11.515625 40.375 \nQ 6.59375 45.0625 6.59375 53.421875 \nQ 6.59375 63.09375 13.40625 68.65625 \nQ 20.21875 74.21875 32.171875 74.21875 \nQ 37.3125 74.21875 42.625 73.28125 \nQ 47.953125 72.359375 53.515625 70.515625 \nz\n\" id=\"DejaVuSans-83\"/>\n     </defs>\n     <g style=\"fill:#262626;\" transform=\"translate(14.798438 145.040469)rotate(-90)scale(0.1 -0.1)\">\n      <use xlink:href=\"#DejaVuSans-83\"/>\n      <use x=\"63.476562\" xlink:href=\"#DejaVuSans-99\"/>\n      <use x=\"118.457031\" xlink:href=\"#DejaVuSans-111\"/>\n      <use x=\"179.638672\" xlink:href=\"#DejaVuSans-114\"/>\n      <use x=\"218.501953\" xlink:href=\"#DejaVuSans-101\"/>\n     </g>\n    </g>\n   </g>\n   <g id=\"patch_3\">\n    <path clip-path=\"url(#pe914cec206)\" d=\"M 70.153125 239.758125 \nL 91.078125 239.758125 \nL 91.078125 32.672411 \nL 70.153125 32.672411 \nz\n\" style=\"fill:#1f77b4;stroke:#ffffff;stroke-linejoin:miter;\"/>\n   </g>\n   <g id=\"patch_4\">\n    <path clip-path=\"url(#pe914cec206)\" d=\"M 112.003125 239.758125 \nL 132.928125 239.758125 \nL 132.928125 239.218759 \nL 112.003125 239.218759 \nz\n\" style=\"fill:#1f77b4;stroke:#ffffff;stroke-linejoin:miter;\"/>\n   </g>\n   <g id=\"patch_5\">\n    <path clip-path=\"url(#pe914cec206)\" d=\"M 153.853125 239.758125 \nL 174.778125 239.758125 \nL 174.778125 237.976306 \nL 153.853125 237.976306 \nz\n\" style=\"fill:#1f77b4;stroke:#ffffff;stroke-linejoin:miter;\"/>\n   </g>\n   <g id=\"patch_6\">\n    <path clip-path=\"url(#pe914cec206)\" d=\"M 195.703125 239.758125 \nL 216.628125 239.758125 \nL 216.628125 238.022609 \nL 195.703125 238.022609 \nz\n\" style=\"fill:#1f77b4;stroke:#ffffff;stroke-linejoin:miter;\"/>\n   </g>\n   <g id=\"patch_7\">\n    <path clip-path=\"url(#pe914cec206)\" d=\"M 237.553125 239.758125 \nL 258.478125 239.758125 \nL 258.478125 235.246764 \nL 237.553125 235.246764 \nz\n\" style=\"fill:#1f77b4;stroke:#ffffff;stroke-linejoin:miter;\"/>\n   </g>\n   <g id=\"patch_8\">\n    <path clip-path=\"url(#pe914cec206)\" d=\"M 279.403125 239.758125 \nL 300.328125 239.758125 \nL 300.328125 237.54618 \nL 279.403125 237.54618 \nz\n\" style=\"fill:#1f77b4;stroke:#ffffff;stroke-linejoin:miter;\"/>\n   </g>\n   <g id=\"patch_9\">\n    <path clip-path=\"url(#pe914cec206)\" d=\"M 321.253125 239.758125 \nL 342.178125 239.758125 \nL 342.178125 234.406744 \nL 321.253125 234.406744 \nz\n\" style=\"fill:#1f77b4;stroke:#ffffff;stroke-linejoin:miter;\"/>\n   </g>\n   <g id=\"patch_10\">\n    <path clip-path=\"url(#pe914cec206)\" d=\"M 363.103125 239.758125 \nL 384.028125 239.758125 \nL 384.028125 229.515046 \nL 363.103125 229.515046 \nz\n\" style=\"fill:#1f77b4;stroke:#ffffff;stroke-linejoin:miter;\"/>\n   </g>\n   <g id=\"patch_11\">\n    <path d=\"M 59.690625 239.758125 \nL 59.690625 22.318125 \n\" style=\"fill:none;stroke:#cccccc;stroke-linecap:square;stroke-linejoin:miter;stroke-width:0.8;\"/>\n   </g>\n   <g id=\"patch_12\">\n    <path d=\"M 394.490625 239.758125 \nL 394.490625 22.318125 \n\" style=\"fill:none;stroke:#cccccc;stroke-linecap:square;stroke-linejoin:miter;stroke-width:0.8;\"/>\n   </g>\n   <g id=\"patch_13\">\n    <path d=\"M 59.690625 239.758125 \nL 394.490625 239.758125 \n\" style=\"fill:none;stroke:#cccccc;stroke-linecap:square;stroke-linejoin:miter;stroke-width:0.8;\"/>\n   </g>\n   <g id=\"patch_14\">\n    <path d=\"M 59.690625 22.318125 \nL 394.490625 22.318125 \n\" style=\"fill:none;stroke:#cccccc;stroke-linecap:square;stroke-linejoin:miter;stroke-width:0.8;\"/>\n   </g>\n   <g id=\"text_19\">\n    <!-- Feature Scoring -->\n    <defs>\n     <path id=\"DejaVuSans-32\"/>\n    </defs>\n    <g style=\"fill:#262626;\" transform=\"translate(179.991563 16.318125)scale(0.12 -0.12)\">\n     <use xlink:href=\"#DejaVuSans-70\"/>\n     <use x=\"52.019531\" xlink:href=\"#DejaVuSans-101\"/>\n     <use x=\"113.542969\" xlink:href=\"#DejaVuSans-97\"/>\n     <use x=\"174.822266\" xlink:href=\"#DejaVuSans-116\"/>\n     <use x=\"214.03125\" xlink:href=\"#DejaVuSans-117\"/>\n     <use x=\"277.410156\" xlink:href=\"#DejaVuSans-114\"/>\n     <use x=\"316.273438\" xlink:href=\"#DejaVuSans-101\"/>\n     <use x=\"377.796875\" xlink:href=\"#DejaVuSans-32\"/>\n     <use x=\"409.583984\" xlink:href=\"#DejaVuSans-83\"/>\n     <use x=\"473.060547\" xlink:href=\"#DejaVuSans-99\"/>\n     <use x=\"528.041016\" xlink:href=\"#DejaVuSans-111\"/>\n     <use x=\"589.222656\" xlink:href=\"#DejaVuSans-114\"/>\n     <use x=\"630.335938\" xlink:href=\"#DejaVuSans-105\"/>\n     <use x=\"658.119141\" xlink:href=\"#DejaVuSans-110\"/>\n     <use x=\"721.498047\" xlink:href=\"#DejaVuSans-103\"/>\n    </g>\n   </g>\n   <g id=\"legend_1\">\n    <g id=\"patch_15\">\n     <path d=\"M 323.415625 44.99625 \nL 387.490625 44.99625 \nQ 389.490625 44.99625 389.490625 42.99625 \nL 389.490625 29.318125 \nQ 389.490625 27.318125 387.490625 27.318125 \nL 323.415625 27.318125 \nQ 321.415625 27.318125 321.415625 29.318125 \nL 321.415625 42.99625 \nQ 321.415625 44.99625 323.415625 44.99625 \nz\n\" style=\"fill:#ffffff;opacity:0.8;stroke:#cccccc;stroke-linejoin:miter;\"/>\n    </g>\n    <g id=\"patch_16\">\n     <path d=\"M 325.415625 38.916563 \nL 345.415625 38.916563 \nL 345.415625 31.916563 \nL 325.415625 31.916563 \nz\n\" style=\"fill:#1f77b4;stroke:#ffffff;stroke-linejoin:miter;\"/>\n    </g>\n    <g id=\"text_20\">\n     <!-- scores -->\n     <g style=\"fill:#262626;\" transform=\"translate(353.415625 38.916563)scale(0.1 -0.1)\">\n      <use xlink:href=\"#DejaVuSans-115\"/>\n      <use x=\"52.099609\" xlink:href=\"#DejaVuSans-99\"/>\n      <use x=\"107.080078\" xlink:href=\"#DejaVuSans-111\"/>\n      <use x=\"168.261719\" xlink:href=\"#DejaVuSans-114\"/>\n      <use x=\"207.125\" xlink:href=\"#DejaVuSans-101\"/>\n      <use x=\"268.648438\" xlink:href=\"#DejaVuSans-115\"/>\n     </g>\n    </g>\n   </g>\n  </g>\n </g>\n <defs>\n  <clipPath id=\"pe914cec206\">\n   <rect height=\"217.44\" width=\"334.8\" x=\"59.690625\" y=\"22.318125\"/>\n  </clipPath>\n </defs>\n</svg>\n"
          },
          "metadata": {
            "tags": [],
            "needs_background": "light"
          }
        }
      ]
    },
    {
      "cell_type": "code",
      "metadata": {
        "id": "cruzlX_gdv7E",
        "colab_type": "code",
        "colab": {}
      },
      "source": [
        ""
      ],
      "execution_count": 0,
      "outputs": []
    },
    {
      "cell_type": "code",
      "metadata": {
        "id": "4rhGquHS4lni",
        "colab_type": "code",
        "colab": {}
      },
      "source": [
        "# Top features based on different methods\n",
        "best_chi_features = ['age', 'sms_received', 'waiting_time']\n",
        "best_features_importances = ['gender', 'week_day', 'diabetes',  'alcoholism','hypertension']\n",
        "combined_best_features = ['age', 'sms_received','waiting_time', 'gender', 'week_day', 'diabetes',  'alcoholism','hypertension']"
      ],
      "execution_count": 0,
      "outputs": []
    },
    {
      "cell_type": "code",
      "metadata": {
        "id": "sQZ-uob-4sO2",
        "colab_type": "code",
        "outputId": "c412c1b5-4de3-4b3c-9f18-f3b80ab713af",
        "colab": {
          "base_uri": "https://localhost:8080/",
          "height": 69
        }
      },
      "source": [
        "labels_test.value_counts()"
      ],
      "execution_count": 60,
      "outputs": [
        {
          "output_type": "execute_result",
          "data": {
            "text/plain": [
              "0    69215\n",
              "1    49958\n",
              "Name: en_no_show, dtype: int64"
            ]
          },
          "metadata": {
            "tags": []
          },
          "execution_count": 60
        }
      ]
    },
    {
      "cell_type": "code",
      "metadata": {
        "id": "i8LxFNe84uI8",
        "colab_type": "code",
        "outputId": "797cdb68-bdd6-4d0d-99cb-cc20aba1cc4e",
        "colab": {
          "base_uri": "https://localhost:8080/",
          "height": 86
        }
      },
      "source": [
        "print (\"Patients who didn't show up: \", labels_test.mean())\n",
        "print (\"Patients who did show up: \", (1 - labels_test.mean()))\n",
        "\n",
        "# Null Accuracy, ie. accuracy achieved by a dumb model if it only predicted a patient would show up to an appointment\n",
        "print (\"\\n Null accuracy is therefore \", max(labels_test.mean(), 1 - labels_test.mean()))"
      ],
      "execution_count": 61,
      "outputs": [
        {
          "output_type": "stream",
          "text": [
            "Patients who didn't show up:  0.41920569256459095\n",
            "Patients who did show up:  0.580794307435409\n",
            "\n",
            " Null accuracy is therefore  0.580794307435409\n"
          ],
          "name": "stdout"
        }
      ]
    },
    {
      "cell_type": "markdown",
      "metadata": {
        "id": "pHjghKXo42kF",
        "colab_type": "text"
      },
      "source": [
        "### Considering only top 3 features from feature selection\n",
        "\n",
        "> Indented block\n",
        "\n"
      ]
    },
    {
      "cell_type": "code",
      "metadata": {
        "id": "_vr7qT_sZEqW",
        "colab_type": "code",
        "colab": {
          "base_uri": "https://localhost:8080/",
          "height": 468
        },
        "outputId": "ed6ebc0e-3013-4b26-c62c-602450b01e72"
      },
      "source": [
        "data.info()"
      ],
      "execution_count": 62,
      "outputs": [
        {
          "output_type": "stream",
          "text": [
            "<class 'pandas.core.frame.DataFrame'>\n",
            "Int64Index: 397242 entries, 0 to 410525\n",
            "Data columns (total 19 columns):\n",
            " #   Column                Non-Null Count   Dtype         \n",
            "---  ------                --------------   -----         \n",
            " 0   age                   397242 non-null  int64         \n",
            " 1   gender                397242 non-null  int64         \n",
            " 2   schedule_day          397242 non-null  datetime64[ns]\n",
            " 3   appointment_day       397242 non-null  datetime64[ns]\n",
            " 4   week_day              397242 non-null  int64         \n",
            " 5   no_show               397242 non-null  int64         \n",
            " 6   diabetes              397242 non-null  int64         \n",
            " 7   alcoholism            397242 non-null  int64         \n",
            " 8   hypertension          397242 non-null  int64         \n",
            " 9   handicap              397242 non-null  int64         \n",
            " 10  scholarship           397242 non-null  int64         \n",
            " 11  sms_received          397242 non-null  int64         \n",
            " 12  en_no_show            397242 non-null  int64         \n",
            " 13  age_bin               364934 non-null  category      \n",
            " 14  waiting_time          397242 non-null  int64         \n",
            " 15  appointment_month     397242 non-null  object        \n",
            " 16  en_appointment_month  397242 non-null  int64         \n",
            " 17  hour_of_day           397242 non-null  int64         \n",
            " 18  en_week_day           397242 non-null  int64         \n",
            "dtypes: category(1), datetime64[ns](2), int64(15), object(1)\n",
            "memory usage: 68.0+ MB\n"
          ],
          "name": "stdout"
        }
      ]
    },
    {
      "cell_type": "code",
      "metadata": {
        "id": "GxFNvhB642an",
        "colab_type": "code",
        "outputId": "67bc5c25-eeb8-4bf3-810d-f26b91990f8b",
        "colab": {
          "base_uri": "https://localhost:8080/",
          "height": 190
        }
      },
      "source": [
        "new_X = data.drop(['no_show', 'en_no_show', 'gender', 'appointment_day', 'schedule_day', 'week_day', 'en_week_day', 'diabetes', 'handicap', 'scholarship', \n",
        "                   'age_bin', 'alcoholism', 'hypertension', 'appointment_month', 'hour_of_day', 'en_appointment_month'], axis=1)\n",
        "new_X.info()\n",
        "#age, waiting_time, sms_recieved\n",
        "\n",
        "new_y = data['en_no_show']"
      ],
      "execution_count": 63,
      "outputs": [
        {
          "output_type": "stream",
          "text": [
            "<class 'pandas.core.frame.DataFrame'>\n",
            "Int64Index: 397242 entries, 0 to 410525\n",
            "Data columns (total 3 columns):\n",
            " #   Column        Non-Null Count   Dtype\n",
            "---  ------        --------------   -----\n",
            " 0   age           397242 non-null  int64\n",
            " 1   sms_received  397242 non-null  int64\n",
            " 2   waiting_time  397242 non-null  int64\n",
            "dtypes: int64(3)\n",
            "memory usage: 22.1 MB\n"
          ],
          "name": "stdout"
        }
      ]
    },
    {
      "cell_type": "code",
      "metadata": {
        "id": "9Hxx6kRE42YI",
        "colab_type": "code",
        "colab": {}
      },
      "source": [
        "new_X_train, new_X_test, new_y_train, new_y_test = train_test_split(new_X, new_y, test_size=0.3, random_state=60,)\n",
        "\n",
        "#cv = StratifiedShuffleSplit(n_splits=15, test_size=0.2, random_state=60)"
      ],
      "execution_count": 0,
      "outputs": []
    },
    {
      "cell_type": "code",
      "metadata": {
        "id": "G2mCrzAP42TG",
        "colab_type": "code",
        "colab": {}
      },
      "source": [
        "from sklearn.ensemble import AdaBoostClassifier\n",
        "from sklearn.tree import DecisionTreeClassifier\n",
        "\n",
        "classifier = AdaBoostClassifier(DecisionTreeClassifier(max_depth = 1), n_estimators = 200)\n",
        "model = classifier.fit(new_X_train, new_y_train)\n",
        "y_pred = model.predict(new_X_test)"
      ],
      "execution_count": 0,
      "outputs": []
    },
    {
      "cell_type": "code",
      "metadata": {
        "id": "otwneWC-42QM",
        "colab_type": "code",
        "outputId": "e3f12dd3-2a81-45ac-c1e2-cde85dda022a",
        "colab": {
          "base_uri": "https://localhost:8080/",
          "height": 52
        }
      },
      "source": [
        "print(metrics.accuracy_score(new_y_train, model.predict(new_X_train)))\n",
        "print(metrics.accuracy_score(new_y_test, y_pred))"
      ],
      "execution_count": 66,
      "outputs": [
        {
          "output_type": "stream",
          "text": [
            "0.6238020059769338\n",
            "0.6262072784942898\n"
          ],
          "name": "stdout"
        }
      ]
    },
    {
      "cell_type": "code",
      "metadata": {
        "id": "UX6Kyj3d41lR",
        "colab_type": "code",
        "outputId": "0d748fa4-84f9-4f59-cc33-fce254efaa34",
        "colab": {
          "base_uri": "https://localhost:8080/",
          "height": 242
        }
      },
      "source": [
        "!pip install vecstack"
      ],
      "execution_count": 67,
      "outputs": [
        {
          "output_type": "stream",
          "text": [
            "Collecting vecstack\n",
            "  Downloading https://files.pythonhosted.org/packages/d0/a1/b9a1e9e9e5a12078da1ab9788c7885e4c745358f7e57d5f94d9db6a4e898/vecstack-0.4.0.tar.gz\n",
            "Requirement already satisfied: numpy in /usr/local/lib/python3.6/dist-packages (from vecstack) (1.18.2)\n",
            "Requirement already satisfied: scipy in /usr/local/lib/python3.6/dist-packages (from vecstack) (1.4.1)\n",
            "Requirement already satisfied: scikit-learn>=0.18 in /usr/local/lib/python3.6/dist-packages (from vecstack) (0.22.2.post1)\n",
            "Requirement already satisfied: joblib>=0.11 in /usr/local/lib/python3.6/dist-packages (from scikit-learn>=0.18->vecstack) (0.14.1)\n",
            "Building wheels for collected packages: vecstack\n",
            "  Building wheel for vecstack (setup.py) ... \u001b[?25l\u001b[?25hdone\n",
            "  Created wheel for vecstack: filename=vecstack-0.4.0-cp36-none-any.whl size=19877 sha256=c89046889756bc70e61d05acf06a4144d0ab3bf12b93a0138fe7ff65c71d206d\n",
            "  Stored in directory: /root/.cache/pip/wheels/5f/bb/4e/f6488433d53bc0684673d6845e5bf11a25240577c8151c140e\n",
            "Successfully built vecstack\n",
            "Installing collected packages: vecstack\n",
            "Successfully installed vecstack-0.4.0\n"
          ],
          "name": "stdout"
        }
      ]
    },
    {
      "cell_type": "code",
      "metadata": {
        "id": "JFJ6EwrN4v29",
        "colab_type": "code",
        "outputId": "3a086325-335e-4707-ebc4-343ae893c62f",
        "colab": {
          "base_uri": "https://localhost:8080/",
          "height": 433
        }
      },
      "source": [
        "from xgboost import XGBClassifier\n",
        "from vecstack import stacking\n",
        "\n",
        "models=[KNeighborsClassifier(), RandomForestClassifier()]\n",
        "S_train, S_test = stacking(models, X_train, y_train, X_test, regression = False, \n",
        "                           mode = 'oof_pred_bag', \n",
        "                           needs_proba = False, \n",
        "                           save_dir = None, \n",
        "                           metric = accuracy_score, \n",
        "                           n_folds = 4, \n",
        "                           stratified = True, \n",
        "                           shuffle = True, \n",
        "                           random_state = 0, \n",
        "                           verbose =2)"
      ],
      "execution_count": 68,
      "outputs": [
        {
          "output_type": "stream",
          "text": [
            "task:         [classification]\n",
            "n_classes:    [2]\n",
            "metric:       [accuracy_score]\n",
            "mode:         [oof_pred_bag]\n",
            "n_models:     [2]\n",
            "\n",
            "model  0:     [KNeighborsClassifier]\n",
            "    fold  0:  [0.62179217]\n",
            "    fold  1:  [0.61977828]\n",
            "    fold  2:  [0.61908781]\n",
            "    fold  3:  [0.62084508]\n",
            "    ----\n",
            "    MEAN:     [0.62037583] + [0.00102984]\n",
            "    FULL:     [0.62037583]\n",
            "\n",
            "model  1:     [RandomForestClassifier]\n",
            "    fold  0:  [0.64626568]\n",
            "    fold  1:  [0.64390656]\n",
            "    fold  2:  [0.64212283]\n",
            "    fold  3:  [0.64351612]\n",
            "    ----\n",
            "    MEAN:     [0.64395280] + [0.00149089]\n",
            "    FULL:     [0.64395280]\n",
            "\n"
          ],
          "name": "stdout"
        }
      ]
    },
    {
      "cell_type": "markdown",
      "metadata": {
        "id": "hxEnssx0bt7N",
        "colab_type": "text"
      },
      "source": [
        "### **Deep** Learning"
      ]
    },
    {
      "cell_type": "code",
      "metadata": {
        "id": "_9v_196wP85g",
        "colab_type": "code",
        "colab": {}
      },
      "source": [
        "from tensorflow.python.keras.layers import Dense\n",
        "from tensorflow.python.keras import Sequential\n",
        "from tensorflow.keras import optimizers, metrics"
      ],
      "execution_count": 0,
      "outputs": []
    },
    {
      "cell_type": "code",
      "metadata": {
        "id": "YwfF9FUYP83K",
        "colab_type": "code",
        "colab": {}
      },
      "source": [
        "# Now we build the Keras model\n",
        "model = Sequential()\n",
        "#model = models.Sequential()\n",
        "model.add(Dense(25, activation='relu', input_shape=(11,)))\n",
        "model.add(Dense(15, activation='relu'))\n",
        "model.add(Dense(1, activation='sigmoid'))\n",
        "rms=optimizers.RMSprop(learning_rate=0.001)\n",
        "model.compile(optimizer=rms,loss='binary_crossentropy',metrics=['accuracy'])"
      ],
      "execution_count": 0,
      "outputs": []
    },
    {
      "cell_type": "code",
      "metadata": {
        "id": "RFn0EsOpP805",
        "colab_type": "code",
        "outputId": "bc60412b-e40c-46ce-98cc-65fef7ed4091",
        "colab": {
          "base_uri": "https://localhost:8080/",
          "height": 34
        }
      },
      "source": [
        "len(features_train.columns)"
      ],
      "execution_count": 71,
      "outputs": [
        {
          "output_type": "execute_result",
          "data": {
            "text/plain": [
              "11"
            ]
          },
          "metadata": {
            "tags": []
          },
          "execution_count": 71
        }
      ]
    },
    {
      "cell_type": "code",
      "metadata": {
        "id": "e7KwtsFIP8yM",
        "colab_type": "code",
        "outputId": "e2714a09-629a-4b5f-b678-d68d7bb67d71",
        "colab": {
          "base_uri": "https://localhost:8080/",
          "height": 884
        }
      },
      "source": [
        "# Train the model\n",
        "history = model.fit(features_train,labels_train,epochs=25,batch_size=100,validation_split=0.3)"
      ],
      "execution_count": 72,
      "outputs": [
        {
          "output_type": "stream",
          "text": [
            "Epoch 1/25\n",
            "1947/1947 [==============================] - 3s 2ms/step - loss: 0.6675 - accuracy: 0.5949 - val_loss: 0.6485 - val_accuracy: 0.6247\n",
            "Epoch 2/25\n",
            "1947/1947 [==============================] - 3s 2ms/step - loss: 0.6351 - accuracy: 0.6273 - val_loss: 0.6267 - val_accuracy: 0.6315\n",
            "Epoch 3/25\n",
            "1947/1947 [==============================] - 3s 2ms/step - loss: 0.6243 - accuracy: 0.6376 - val_loss: 0.6358 - val_accuracy: 0.6385\n",
            "Epoch 4/25\n",
            "1947/1947 [==============================] - 3s 2ms/step - loss: 0.6212 - accuracy: 0.6408 - val_loss: 0.6170 - val_accuracy: 0.6446\n",
            "Epoch 5/25\n",
            "1947/1947 [==============================] - 3s 2ms/step - loss: 0.6189 - accuracy: 0.6432 - val_loss: 0.6186 - val_accuracy: 0.6511\n",
            "Epoch 6/25\n",
            "1947/1947 [==============================] - 3s 2ms/step - loss: 0.6167 - accuracy: 0.6474 - val_loss: 0.6146 - val_accuracy: 0.6542\n",
            "Epoch 7/25\n",
            "1947/1947 [==============================] - 3s 2ms/step - loss: 0.6151 - accuracy: 0.6500 - val_loss: 0.6163 - val_accuracy: 0.6478\n",
            "Epoch 8/25\n",
            "1947/1947 [==============================] - 3s 2ms/step - loss: 0.6144 - accuracy: 0.6516 - val_loss: 0.6120 - val_accuracy: 0.6527\n",
            "Epoch 9/25\n",
            "1947/1947 [==============================] - 3s 2ms/step - loss: 0.6127 - accuracy: 0.6533 - val_loss: 0.6138 - val_accuracy: 0.6493\n",
            "Epoch 10/25\n",
            "1947/1947 [==============================] - 3s 2ms/step - loss: 0.6115 - accuracy: 0.6552 - val_loss: 0.6242 - val_accuracy: 0.6517\n",
            "Epoch 11/25\n",
            "1947/1947 [==============================] - 3s 2ms/step - loss: 0.6106 - accuracy: 0.6578 - val_loss: 0.6096 - val_accuracy: 0.6587\n",
            "Epoch 12/25\n",
            "1947/1947 [==============================] - 3s 2ms/step - loss: 0.6096 - accuracy: 0.6583 - val_loss: 0.6091 - val_accuracy: 0.6633\n",
            "Epoch 13/25\n",
            "1947/1947 [==============================] - 3s 2ms/step - loss: 0.6090 - accuracy: 0.6595 - val_loss: 0.6117 - val_accuracy: 0.6516\n",
            "Epoch 14/25\n",
            "1947/1947 [==============================] - 3s 2ms/step - loss: 0.6087 - accuracy: 0.6606 - val_loss: 0.6098 - val_accuracy: 0.6627\n",
            "Epoch 15/25\n",
            "1947/1947 [==============================] - 3s 2ms/step - loss: 0.6082 - accuracy: 0.6614 - val_loss: 0.6118 - val_accuracy: 0.6557\n",
            "Epoch 16/25\n",
            "1947/1947 [==============================] - 3s 2ms/step - loss: 0.6080 - accuracy: 0.6627 - val_loss: 0.6058 - val_accuracy: 0.6650\n",
            "Epoch 17/25\n",
            "1947/1947 [==============================] - 3s 2ms/step - loss: 0.6075 - accuracy: 0.6625 - val_loss: 0.6085 - val_accuracy: 0.6629\n",
            "Epoch 18/25\n",
            "1947/1947 [==============================] - 3s 2ms/step - loss: 0.6074 - accuracy: 0.6621 - val_loss: 0.6082 - val_accuracy: 0.6632\n",
            "Epoch 19/25\n",
            "1947/1947 [==============================] - 3s 2ms/step - loss: 0.6072 - accuracy: 0.6631 - val_loss: 0.6091 - val_accuracy: 0.6622\n",
            "Epoch 20/25\n",
            "1947/1947 [==============================] - 3s 2ms/step - loss: 0.6072 - accuracy: 0.6628 - val_loss: 0.6082 - val_accuracy: 0.6648\n",
            "Epoch 21/25\n",
            "1947/1947 [==============================] - 3s 2ms/step - loss: 0.6067 - accuracy: 0.6637 - val_loss: 0.6079 - val_accuracy: 0.6625\n",
            "Epoch 22/25\n",
            "1947/1947 [==============================] - 3s 2ms/step - loss: 0.6065 - accuracy: 0.6635 - val_loss: 0.6064 - val_accuracy: 0.6607\n",
            "Epoch 23/25\n",
            "1947/1947 [==============================] - 3s 2ms/step - loss: 0.6063 - accuracy: 0.6647 - val_loss: 0.6060 - val_accuracy: 0.6658\n",
            "Epoch 24/25\n",
            "1947/1947 [==============================] - 3s 2ms/step - loss: 0.6061 - accuracy: 0.6648 - val_loss: 0.6116 - val_accuracy: 0.6604\n",
            "Epoch 25/25\n",
            "1947/1947 [==============================] - 3s 2ms/step - loss: 0.6061 - accuracy: 0.6648 - val_loss: 0.6072 - val_accuracy: 0.6638\n"
          ],
          "name": "stdout"
        }
      ]
    },
    {
      "cell_type": "code",
      "metadata": {
        "id": "JTOh9ZKqP8vM",
        "colab_type": "code",
        "colab": {}
      },
      "source": [
        "loss, accuracy  = model.evaluate(features_test, labels_test, verbose=False)"
      ],
      "execution_count": 0,
      "outputs": []
    },
    {
      "cell_type": "code",
      "metadata": {
        "id": "YQ5b5j-YP8sd",
        "colab_type": "code",
        "colab": {
          "base_uri": "https://localhost:8080/",
          "height": 52
        },
        "outputId": "75c40d60-679d-40f2-d759-78fdd874ffae"
      },
      "source": [
        "print(f'Test loss : {loss:.5}')\n",
        "print(f'Test accuracy : {accuracy:.5}')\n"
      ],
      "execution_count": 74,
      "outputs": [
        {
          "output_type": "stream",
          "text": [
            "Test loss : 0.60604\n",
            "Test accuracy : 0.66616\n"
          ],
          "name": "stdout"
        }
      ]
    },
    {
      "cell_type": "code",
      "metadata": {
        "id": "7RxQLVsWP8qM",
        "colab_type": "code",
        "colab": {}
      },
      "source": [
        ""
      ],
      "execution_count": 0,
      "outputs": []
    },
    {
      "cell_type": "code",
      "metadata": {
        "id": "nNUoVoRQP8j6",
        "colab_type": "code",
        "colab": {}
      },
      "source": [
        ""
      ],
      "execution_count": 0,
      "outputs": []
    }
  ]
}